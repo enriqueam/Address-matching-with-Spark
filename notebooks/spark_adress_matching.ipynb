{
 "cells": [
  {
   "cell_type": "markdown",
   "metadata": {},
   "source": [
    "# Address Matching with Apache Spark"
   ]
  },
  {
   "cell_type": "markdown",
   "metadata": {},
   "source": [
    "## Iniciar Spark"
   ]
  },
  {
   "cell_type": "code",
   "execution_count": 1,
   "metadata": {},
   "outputs": [
    {
     "name": "stderr",
     "output_type": "stream",
     "text": [
      "24/04/27 08:42:30 WARN Utils: Your hostname, ubuntu resolves to a loopback address: 127.0.1.1; using 10.6.130.30 instead (on interface ens3)\n",
      "24/04/27 08:42:30 WARN Utils: Set SPARK_LOCAL_IP if you need to bind to another address\n",
      "Setting default log level to \"WARN\".\n",
      "To adjust logging level use sc.setLogLevel(newLevel). For SparkR, use setLogLevel(newLevel).\n",
      "24/04/27 08:42:31 WARN NativeCodeLoader: Unable to load native-hadoop library for your platform... using builtin-java classes where applicable\n"
     ]
    }
   ],
   "source": [
    "from pyspark.sql.session import SparkSession\n",
    "\n",
    "spark = SparkSession.builder \\\n",
    "    .appName(\"Adress Matching\") \\\n",
    "    .config(\"spark.executor.memory\", \"2g\") \\\n",
    "    .config(\"spark.driver.memory\", \"20g\") \\\n",
    "    .config(\"spark.driver.maxResultSize\", \"4g\") \\\n",
    "    .getOrCreate()\n",
    "    #.config(\"spark.local.dir\", \"/spark-tmp\") \\"
   ]
  },
  {
   "cell_type": "code",
   "execution_count": 2,
   "metadata": {},
   "outputs": [
    {
     "name": "stdout",
     "output_type": "stream",
     "text": [
      "spark.app.name: Adress Matching\n",
      "spark.executor.memory: 2g\n",
      "spark.driver.extraJavaOptions: -Djava.net.preferIPv6Addresses=false -XX:+IgnoreUnrecognizedVMOptions --add-opens=java.base/java.lang=ALL-UNNAMED --add-opens=java.base/java.lang.invoke=ALL-UNNAMED --add-opens=java.base/java.lang.reflect=ALL-UNNAMED --add-opens=java.base/java.io=ALL-UNNAMED --add-opens=java.base/java.net=ALL-UNNAMED --add-opens=java.base/java.nio=ALL-UNNAMED --add-opens=java.base/java.util=ALL-UNNAMED --add-opens=java.base/java.util.concurrent=ALL-UNNAMED --add-opens=java.base/java.util.concurrent.atomic=ALL-UNNAMED --add-opens=java.base/jdk.internal.ref=ALL-UNNAMED --add-opens=java.base/sun.nio.ch=ALL-UNNAMED --add-opens=java.base/sun.nio.cs=ALL-UNNAMED --add-opens=java.base/sun.security.action=ALL-UNNAMED --add-opens=java.base/sun.util.calendar=ALL-UNNAMED --add-opens=java.security.jgss/sun.security.krb5=ALL-UNNAMED -Djdk.reflect.useDirectMethodHandle=false\n",
      "spark.app.id: local-1714207352458\n",
      "spark.executor.id: driver\n",
      "spark.driver.host: 10.6.130.30\n",
      "spark.driver.port: 40539\n",
      "spark.driver.memory: 20g\n",
      "spark.rdd.compress: True\n",
      "spark.executor.extraJavaOptions: -Djava.net.preferIPv6Addresses=false -XX:+IgnoreUnrecognizedVMOptions --add-opens=java.base/java.lang=ALL-UNNAMED --add-opens=java.base/java.lang.invoke=ALL-UNNAMED --add-opens=java.base/java.lang.reflect=ALL-UNNAMED --add-opens=java.base/java.io=ALL-UNNAMED --add-opens=java.base/java.net=ALL-UNNAMED --add-opens=java.base/java.nio=ALL-UNNAMED --add-opens=java.base/java.util=ALL-UNNAMED --add-opens=java.base/java.util.concurrent=ALL-UNNAMED --add-opens=java.base/java.util.concurrent.atomic=ALL-UNNAMED --add-opens=java.base/jdk.internal.ref=ALL-UNNAMED --add-opens=java.base/sun.nio.ch=ALL-UNNAMED --add-opens=java.base/sun.nio.cs=ALL-UNNAMED --add-opens=java.base/sun.security.action=ALL-UNNAMED --add-opens=java.base/sun.util.calendar=ALL-UNNAMED --add-opens=java.security.jgss/sun.security.krb5=ALL-UNNAMED -Djdk.reflect.useDirectMethodHandle=false\n",
      "spark.serializer.objectStreamReset: 100\n",
      "spark.master: local[*]\n",
      "spark.submit.pyFiles: \n",
      "spark.submit.deployMode: client\n",
      "spark.ui.showConsoleProgress: true\n",
      "spark.app.submitTime: 1714207350917\n",
      "spark.driver.maxResultSize: 4g\n",
      "spark.app.startTime: 1714207351127\n"
     ]
    }
   ],
   "source": [
    "conf = spark.sparkContext.getConf()\n",
    "for (key, value) in conf.getAll():\n",
    "  print(f\"{key}: {value}\")"
   ]
  },
  {
   "cell_type": "markdown",
   "metadata": {},
   "source": [
    "## Leer fichero"
   ]
  },
  {
   "cell_type": "markdown",
   "metadata": {},
   "source": [
    "El dataset continene exactamente 24 columnas las cuales, el ***, almacena información relevante el trabajo que realizan. En cambio, en este proyecto, se utilizarán las siguientes columnas pues contienen la información más relevante:\n",
    "- **uuid_idt**: contiene un identificador alfanumérico único para cada dirección.\n",
    "- **tvia**: contiene el tipo de vía, es decir, si es una calle, avenida, carretera, etc.\n",
    "- **nvia**: contiene el nombre de la vía.\n",
    "- **numer**: contiene el número de la vía.\n",
    "- **codmun**: está compuesto por un código numérico que identifica a un municipio, es decir, el código postal.\n",
    "- **nommun**: contiene el nombre del municipio.\n",
    "- **direccion**: contiene la dirección completa.\""
   ]
  },
  {
   "cell_type": "code",
   "execution_count": 3,
   "metadata": {},
   "outputs": [
    {
     "name": "stderr",
     "output_type": "stream",
     "text": [
      "                                                                                \r"
     ]
    },
    {
     "name": "stdout",
     "output_type": "stream",
     "text": [
      "+--------------------+---------+----------+------------+--------------------+-----+------+------+--------------------+\n",
      "|            uuid_idt|  latitud|  longitud|        tvia|                nvia|numer|codmun|nommun|           direccion|\n",
      "+--------------------+---------+----------+------------+--------------------+-----+------+------+--------------------+\n",
      "|027C0FF8-B17B-11E...| 28.10351| -15.71037|       CALLE|        FUENTE SANTA|    5| 35001|Agaete|CALLE FUENTE SANT...|\n",
      "|028F2302-B17B-11E...| 28.10011| -15.69867|       CALLE|       CRUZ CHIQUITA|    2| 35001|Agaete|CALLE CRUZ CHIQUI...|\n",
      "|02918516-B17B-11E...| 28.10106| -15.70524|URBANIZACION|RESIDENCIAL PALMERAL|    9| 35001|Agaete|URBANIZACION RESI...|\n",
      "|03A306C0-7525-11E...| 28.10225| -15.69982|       CALLE|SEÑORITA MARIA MA...|    2| 35001|Agaete|CALLE SEÑORITA MA...|\n",
      "|03A306C0-7525-11E...| 28.10225| -15.69982|       CALLE|SRTA M MANRIQUE LARA|    2| 35001|Agaete|CALLE SRTA M MANR...|\n",
      "|03A306C0-7525-11E...| 28.10225| -15.69982|       CALLE| MARIA MANRIQUE LARA|    0| 35001|Agaete|CALLE MARIA MANRI...|\n",
      "|03A306C0-7525-11E...| 28.10225| -15.69982|       CALLE| MARIA MANRIQUE LARA|    2| 35001|Agaete|CALLE MARIA MANRI...|\n",
      "|03A306C0-7525-11E...| 28.10225| -15.69982|       CALLE|  ST M MANRIQUE LARA|    2| 35001|Agaete|CALLE ST M MANRIQ...|\n",
      "|03A306C0-7525-11E...| 28.10225| -15.69982|       CALLE|       MANRIQUE LARA|    2| 35001|Agaete|CALLE MANRIQUE LA...|\n",
      "|05C1069E-02BB-443...| 28.04658| -15.72287|       CALLE|        RISCO AGAETE|   19| 35001|Agaete|CALLE RISCO AGAET...|\n",
      "|05C1069E-02BB-443...| 28.04658| -15.72287|       CALLE|               RISCO|   19| 35001|Agaete|CALLE RISCO 19 AG...|\n",
      "|0767670E-D385-4FF...|28.104062|-15.704751|URBANIZACION|            ELTURMAN|   14| 35001|Agaete|URBANIZACION ELTU...|\n",
      "|0767670E-D385-4FF...|28.104062|-15.704751|       LUGAR|              TURMAN|   78| 35001|Agaete|LUGAR TURMAN 78 A...|\n",
      "|07D6EE06-78EE-4FC...| 28.10563| -15.70737|URBANIZACION|TURMAN C ALFREDO ...|  212| 35001|Agaete|URBANIZACION TURM...|\n",
      "|07E3A094-4FAF-4E9...| 28.09957| -15.71215|       OTROS|   ESTACION MARITIMA|    0| 35001|Agaete|ESTACION MARITIMA...|\n",
      "|09DB1BCD-BADF-4F6...| 28.10398| -15.71158|     AVENIDA|ALCALDE JOSE ARMA...|    7| 35001|Agaete|AVENIDA ALCALDE J...|\n",
      "|0DD7DD10-3553-411...| 28.10059| -15.70661|       PASEO|PALMERAL PINTOR G...|    6| 35001|Agaete|PASEO PALMERAL PI...|\n",
      "|0DD7DD10-3553-411...| 28.10059| -15.70661|       CALLE|PINTOR GARCIA ALV...|    8| 35001|Agaete|CALLE PINTOR GARC...|\n",
      "|0FBDCFF8-1183-4B0...| 28.09839| -15.70138|URBANIZACION|         CANDELARIAS|   17| 35001|Agaete|URBANIZACION CAND...|\n",
      "|0FBDCFF8-1183-4B0...| 28.09839| -15.70138|URBANIZACION|         CANDELARIAS|   18| 35001|Agaete|URBANIZACION CAND...|\n",
      "+--------------------+---------+----------+------------+--------------------+-----+------+------+--------------------+\n",
      "only showing top 20 rows\n",
      "\n"
     ]
    },
    {
     "name": "stderr",
     "output_type": "stream",
     "text": [
      "                                                                                \r"
     ]
    },
    {
     "name": "stdout",
     "output_type": "stream",
     "text": [
      "1784217\n"
     ]
    },
    {
     "name": "stderr",
     "output_type": "stream",
     "text": [
      "                                                                                \r"
     ]
    }
   ],
   "source": [
    "# Leer el archivo CSV y cargarlo en un DataFrame\n",
    "file =  \"../data/raw_data/TFM_Direcciones.tab\"\n",
    "first_df = spark.read.option(\"delimiter\", \"\\t\").option(\"encoding\", \"windows-1252\").csv(file, header=True, inferSchema=True)\n",
    "\n",
    "# Seleccionar solo las columnas deseadas\n",
    "selected_columns = [\n",
    "  \"uuid_idt\",\n",
    "  \"latitud\",\n",
    "  \"longitud\",\n",
    "  \"tvia\",\n",
    "  \"nvia\",\n",
    "  \"numer\",\n",
    "  \"codmun\",\n",
    "  \"nommun\",\n",
    "  \"direccion\",\n",
    "]\n",
    "first_df = first_df.select(selected_columns)\n",
    "\n",
    "# Mostrar el DataFrame\n",
    "first_df.show()\n",
    "first_df.schema\n",
    "print(first_df.count())\n",
    "size_df = first_df.count()"
   ]
  },
  {
   "cell_type": "code",
   "execution_count": 4,
   "metadata": {},
   "outputs": [
    {
     "name": "stdout",
     "output_type": "stream",
     "text": [
      "+--------------------+---------+----------+------+--------------------+--------------------+\n",
      "|            uuid_idt|  latitud|  longitud|codmun|              nommun|           direccion|\n",
      "+--------------------+---------+----------+------+--------------------+--------------------+\n",
      "|C0CF3B94-0AD1-11E...| 28.09315| -15.44562| 35016|LAS PALMAS DE GRA...|IGUAZU 42 0 LAS P...|\n",
      "|73B57C1B-3251-11E...|28.100397|-15.446634| 35016|LAS PALMAS DE GRA...|PARQUE CENTRAL BL...|\n",
      "|C70E3EC6-3EDA-11E...| 28.12209| -15.43886| 35016|LAS PALMAS DE GRA...|CONCEJAL GARCIA F...|\n",
      "|687BA81E-3251-11E...|28.128481|-15.508722| 35006|              ARUCAS|PEDRO MORALES DEN...|\n",
      "|74921989-3251-11E...|27.765042|-15.586671| 35019|SAN BARTOLOMÉ DE ...|ISLA LOBOS 19 0 S...|\n",
      "|6C0D19FF-3251-11E...|28.112275|-15.419253| 35016|LAS PALMAS DE GRA...|CALLE LEON Y CAST...|\n",
      "|6360FDCD-3251-11E...|28.116229|-15.443305| 35016|LAS PALMAS DE GRA...|VIGEN PILAR 45 4 ...|\n",
      "|758B3855-3251-11E...|28.091282|-15.460183| 35016|LAS PALMAS DE GRA...|CALLE PALMERA CAN...|\n",
      "|5D36841A-7A6B-11E...|  28.0939| -15.44672| 35016|LAS PALMAS DE GRA...|RUPERTO CHAPI 0 L...|\n",
      "|6C00DBF4-3251-11E...|28.035619|-15.498084| 35021|       SANTA BRÍGIDA|MANUEL HERNANDEZ ...|\n",
      "|733A49C5-3251-11E...|28.060993|-15.548180| 35027|               TEROR| HERRERIA 36 0 TEROR|\n",
      "|C0A2DCAF-0AD1-11E...| 28.02296| -15.51652| 35021|       SANTA BRÍGIDA|SUBIDA JOSE MEDER...|\n",
      "|785998D5-3251-11E...|28.101843|-15.433498| 35016|LAS PALMAS DE GRA...|CARMEN QUINTANA 6...|\n",
      "|6D52F776-3251-11E...|28.113051|-15.424184| 35016|LAS PALMAS DE GRA...|TOMAS MORALES 100...|\n",
      "|710F6DCB-3251-11E...|28.319675|-16.412695| 38020|              GÜÍMAR|CALLE CHACONA CAL...|\n",
      "|D721C91D-B743-11E...| 28.42103| -16.32089| 38038|SANTA CRUZ DE TEN...|AZAHAR CHORRILLO ...|\n",
      "|6FA00078-3251-11E...|28.154215|-15.423482| 35016|LAS PALMAS DE GRA...|BANDAMA 76 0 LAS ...|\n",
      "|72AB493C-3251-11E...|28.108815|-15.436455| 35016|LAS PALMAS DE GRA...|REALIDAD 39 0 LAS...|\n",
      "|6AD2FD7E-3251-11E...|28.962313|-13.566829| 35004|            ARRECIFE|AGUSTIN ESPINOSA ...|\n",
      "|65BA189F-3251-11E...|27.992807|-15.491055| 35031|VALSEQUILLO DE GR...|PILON 3 VALSEQUIL...|\n",
      "+--------------------+---------+----------+------+--------------------+--------------------+\n",
      "only showing top 20 rows\n",
      "\n",
      "630297\n"
     ]
    }
   ],
   "source": [
    "from pyspark.sql.functions import upper\n",
    "\n",
    "file =  \"../data/raw_data/data-09022024.csv\"\n",
    "second_df = spark.read.option('header', True).csv(file)\n",
    "\n",
    "selected_columns = [\n",
    "  \"uuid_idt\",\n",
    "  \"latitud\",\n",
    "  \"longitud\",\n",
    "  \"codmun\",\n",
    "  \"nommun\",\n",
    "  \"direccion\"\n",
    "]\n",
    "\n",
    "second_df = second_df.select(selected_columns)\n",
    "second_df = second_df.select(\n",
    "  upper('uuid_idt').alias('uuid_idt'), \n",
    "  'latitud',\n",
    "  'longitud',\n",
    "  'codmun', \n",
    "  upper('nommun').alias('nommun'), \n",
    "  'direccion'\n",
    "  )\n",
    "second_df.show()\n",
    "first_df.schema\n",
    "print(second_df.count())\n",
    "size_df += second_df.count()"
   ]
  },
  {
   "cell_type": "code",
   "execution_count": 5,
   "metadata": {},
   "outputs": [
    {
     "name": "stdout",
     "output_type": "stream",
     "text": [
      "2414514\n"
     ]
    }
   ],
   "source": [
    "print(size_df)"
   ]
  },
  {
   "cell_type": "code",
   "execution_count": 6,
   "metadata": {},
   "outputs": [
    {
     "name": "stderr",
     "output_type": "stream",
     "text": [
      "                                                                                \r"
     ]
    },
    {
     "name": "stdout",
     "output_type": "stream",
     "text": [
      "+-------------------------------+----------+\n",
      "|Número de direcciones asociadas|Frecuencia|\n",
      "+-------------------------------+----------+\n",
      "|                              1|    267275|\n",
      "|                              2|    115343|\n",
      "|                              3|     60757|\n",
      "|                              4|     35631|\n",
      "|                              5|     22207|\n",
      "|                              6|     14810|\n",
      "|                              7|     10142|\n",
      "|                              8|      7411|\n",
      "|                       10 o más|     25539|\n",
      "+-------------------------------+----------+\n",
      "\n"
     ]
    },
    {
     "name": "stderr",
     "output_type": "stream",
     "text": [
      "                                                                                \r"
     ]
    },
    {
     "name": "stdout",
     "output_type": "stream",
     "text": [
      "+-------------------------------+----------+\n",
      "|Número de direcciones asociadas|Frecuencia|\n",
      "+-------------------------------+----------+\n",
      "|                              1|    250632|\n",
      "|                              2|     51645|\n",
      "|                              3|     19692|\n",
      "|                              4|      9055|\n",
      "|                              5|      4702|\n",
      "|                              6|      2876|\n",
      "|                              7|      1772|\n",
      "|                              8|      1161|\n",
      "|                       10 o más|      4083|\n",
      "+-------------------------------+----------+\n",
      "\n"
     ]
    }
   ],
   "source": [
    "from pyspark.sql.functions import count\n",
    "\n",
    "def uuid_frecuency(dataframe):\n",
    "    values_under_10 = dataframe.groupBy(dataframe.uuid_idt).count() \\\n",
    "        .filter('count < 9') \\\n",
    "        .groupBy('count') \\\n",
    "        .agg(count('*') \\\n",
    "        .alias('Frecuencia')) \\\n",
    "        .orderBy('count')\n",
    "    values_under_10 = values_under_10.withColumnRenamed('count', 'Número de direcciones asociadas')\n",
    "\n",
    "    values_over_10 = dataframe.groupBy(dataframe.uuid_idt).count() \\\n",
    "        .filter('count > 9')\n",
    "    values_over_10 = spark.createDataFrame(\n",
    "        [['10 o más', values_over_10.count()]],\n",
    "        ['Número de direcciones asociadas', 'Frecuencia']\n",
    "        )\n",
    "\n",
    "    values = values_under_10.union(values_over_10)\n",
    "    values.show()\n",
    "\n",
    "uuid_frecuency(first_df)\n",
    "uuid_frecuency(second_df)"
   ]
  },
  {
   "cell_type": "markdown",
   "metadata": {},
   "source": [
    "## Unión de los dataframes"
   ]
  },
  {
   "cell_type": "code",
   "execution_count": 7,
   "metadata": {},
   "outputs": [
    {
     "name": "stderr",
     "output_type": "stream",
     "text": [
      "                                                                                \r"
     ]
    },
    {
     "name": "stdout",
     "output_type": "stream",
     "text": [
      "+--------------------+---------+----------+------------+--------------------+-----+------+------+--------------------+\n",
      "|            uuid_idt|  latitud|  longitud|        tvia|                nvia|numer|codmun|nommun|           direccion|\n",
      "+--------------------+---------+----------+------------+--------------------+-----+------+------+--------------------+\n",
      "|027C0FF8-B17B-11E...| 28.10351| -15.71037|       CALLE|        FUENTE SANTA|    5| 35001|Agaete|CALLE FUENTE SANT...|\n",
      "|028F2302-B17B-11E...| 28.10011| -15.69867|       CALLE|       CRUZ CHIQUITA|    2| 35001|Agaete|CALLE CRUZ CHIQUI...|\n",
      "|02918516-B17B-11E...| 28.10106| -15.70524|URBANIZACION|RESIDENCIAL PALMERAL|    9| 35001|Agaete|URBANIZACION RESI...|\n",
      "|03A306C0-7525-11E...| 28.10225| -15.69982|       CALLE|SEÑORITA MARIA MA...|    2| 35001|Agaete|CALLE SEÑORITA MA...|\n",
      "|03A306C0-7525-11E...| 28.10225| -15.69982|       CALLE|SRTA M MANRIQUE LARA|    2| 35001|Agaete|CALLE SRTA M MANR...|\n",
      "|03A306C0-7525-11E...| 28.10225| -15.69982|       CALLE| MARIA MANRIQUE LARA|    0| 35001|Agaete|CALLE MARIA MANRI...|\n",
      "|03A306C0-7525-11E...| 28.10225| -15.69982|       CALLE| MARIA MANRIQUE LARA|    2| 35001|Agaete|CALLE MARIA MANRI...|\n",
      "|03A306C0-7525-11E...| 28.10225| -15.69982|       CALLE|  ST M MANRIQUE LARA|    2| 35001|Agaete|CALLE ST M MANRIQ...|\n",
      "|03A306C0-7525-11E...| 28.10225| -15.69982|       CALLE|       MANRIQUE LARA|    2| 35001|Agaete|CALLE MANRIQUE LA...|\n",
      "|05C1069E-02BB-443...| 28.04658| -15.72287|       CALLE|        RISCO AGAETE|   19| 35001|Agaete|CALLE RISCO AGAET...|\n",
      "|05C1069E-02BB-443...| 28.04658| -15.72287|       CALLE|               RISCO|   19| 35001|Agaete|CALLE RISCO 19 AG...|\n",
      "|0767670E-D385-4FF...|28.104062|-15.704751|URBANIZACION|            ELTURMAN|   14| 35001|Agaete|URBANIZACION ELTU...|\n",
      "|0767670E-D385-4FF...|28.104062|-15.704751|       LUGAR|              TURMAN|   78| 35001|Agaete|LUGAR TURMAN 78 A...|\n",
      "|07D6EE06-78EE-4FC...| 28.10563| -15.70737|URBANIZACION|TURMAN C ALFREDO ...|  212| 35001|Agaete|URBANIZACION TURM...|\n",
      "|07E3A094-4FAF-4E9...| 28.09957| -15.71215|       OTROS|   ESTACION MARITIMA|    0| 35001|Agaete|ESTACION MARITIMA...|\n",
      "|09DB1BCD-BADF-4F6...| 28.10398| -15.71158|     AVENIDA|ALCALDE JOSE ARMA...|    7| 35001|Agaete|AVENIDA ALCALDE J...|\n",
      "|0DD7DD10-3553-411...| 28.10059| -15.70661|       PASEO|PALMERAL PINTOR G...|    6| 35001|Agaete|PASEO PALMERAL PI...|\n",
      "|0DD7DD10-3553-411...| 28.10059| -15.70661|       CALLE|PINTOR GARCIA ALV...|    8| 35001|Agaete|CALLE PINTOR GARC...|\n",
      "|0FBDCFF8-1183-4B0...| 28.09839| -15.70138|URBANIZACION|         CANDELARIAS|   17| 35001|Agaete|URBANIZACION CAND...|\n",
      "|0FBDCFF8-1183-4B0...| 28.09839| -15.70138|URBANIZACION|         CANDELARIAS|   18| 35001|Agaete|URBANIZACION CAND...|\n",
      "+--------------------+---------+----------+------------+--------------------+-----+------+------+--------------------+\n",
      "only showing top 20 rows\n",
      "\n"
     ]
    },
    {
     "name": "stderr",
     "output_type": "stream",
     "text": [
      "                                                                                \r"
     ]
    },
    {
     "name": "stdout",
     "output_type": "stream",
     "text": [
      "Tamaño del dataframe ampliado:  2234214\n"
     ]
    },
    {
     "name": "stderr",
     "output_type": "stream",
     "text": [
      "[Stage 92:===========>      (5 + 3) / 8][Stage 94:===========>      (5 + 3) / 8]\r"
     ]
    },
    {
     "name": "stdout",
     "output_type": "stream",
     "text": [
      "Número de uuid_idt nuevos del segundo dataframe:  148073\n"
     ]
    },
    {
     "name": "stderr",
     "output_type": "stream",
     "text": [
      "                                                                                \r"
     ]
    }
   ],
   "source": [
    "# Seleccionar los UUID únicos del primer DataFrame\n",
    "unique_uuid_first_df = first_df.select(\"uuid_idt\").distinct()\n",
    "\n",
    "# Seleccionar los UUID únicos del segundo DataFrame\n",
    "unique_uuid_second_df = second_df.select(\"uuid_idt\").distinct()\n",
    "\n",
    "# Encontrar los UUID comunes\n",
    "uuid_comunes = unique_uuid_first_df.join(unique_uuid_second_df, \"uuid_idt\", \"inner\")\n",
    "# Da el mismo resultado: uuid_primero.intersect(uuid_segundo)\n",
    "\n",
    "# Juntar los UUID comunes con el primer DataFrame\n",
    "adresses_df = first_df.unionByName(second_df.join(uuid_comunes, \"uuid_idt\", \"inner\"), allowMissingColumns=True)\n",
    "\n",
    "# Mostrar el resultado\n",
    "adresses_df.show()\n",
    "print(\"Tamaño del dataframe ampliado: \", adresses_df.count())\n",
    "\n",
    "# Si se quiere comprobar que la operación es correcta\n",
    "print(\"Número de uuid_idt nuevos del segundo dataframe: \", unique_uuid_second_df.subtract(uuid_comunes).count())"
   ]
  },
  {
   "cell_type": "code",
   "execution_count": 8,
   "metadata": {},
   "outputs": [
    {
     "name": "stderr",
     "output_type": "stream",
     "text": [
      "                                                                                \r"
     ]
    },
    {
     "name": "stdout",
     "output_type": "stream",
     "text": [
      "+-------------------------------+----------+\n",
      "|Número de direcciones asociadas|Frecuencia|\n",
      "+-------------------------------+----------+\n",
      "|                              1|    211768|\n",
      "|                              2|    119917|\n",
      "|                              3|     70050|\n",
      "|                              4|     44000|\n",
      "|                              5|     28925|\n",
      "|                              6|     19650|\n",
      "|                              7|     14050|\n",
      "|                              8|     10331|\n",
      "|                       10 o más|     38060|\n",
      "+-------------------------------+----------+\n",
      "\n"
     ]
    }
   ],
   "source": [
    "uuid_frecuency(adresses_df)"
   ]
  },
  {
   "cell_type": "markdown",
   "metadata": {},
   "source": [
    "## Partición del dataset"
   ]
  },
  {
   "cell_type": "code",
   "execution_count": 9,
   "metadata": {},
   "outputs": [],
   "source": [
    "adresses_df = adresses_df.repartition(32)"
   ]
  },
  {
   "cell_type": "markdown",
   "metadata": {},
   "source": [
    "## Limpieza del dataset"
   ]
  },
  {
   "cell_type": "markdown",
   "metadata": {},
   "source": [
    "Tras visualizar el dataset, se observa que hay columnas que tienen valores desconocidos, representados con '_U', y camos vacíos."
   ]
  },
  {
   "cell_type": "code",
   "execution_count": 10,
   "metadata": {},
   "outputs": [
    {
     "name": "stderr",
     "output_type": "stream",
     "text": [
      "[Stage 180:===============================>                        (9 + 7) / 16]\r"
     ]
    },
    {
     "name": "stdout",
     "output_type": "stream",
     "text": [
      "Initial dataset size: 2234214\n"
     ]
    },
    {
     "name": "stderr",
     "output_type": "stream",
     "text": [
      "                                                                                \r"
     ]
    }
   ],
   "source": [
    "print(f\"Initial dataset size: {adresses_df.count()}\")"
   ]
  },
  {
   "cell_type": "markdown",
   "metadata": {},
   "source": [
    "### Valores nulos"
   ]
  },
  {
   "cell_type": "code",
   "execution_count": 11,
   "metadata": {},
   "outputs": [
    {
     "name": "stderr",
     "output_type": "stream",
     "text": [
      "[Stage 203:=====================================================> (31 + 1) / 32]\r"
     ]
    },
    {
     "name": "stdout",
     "output_type": "stream",
     "text": [
      "+--------+-------+--------+------+------+------+------+------+---------+\n",
      "|uuid_idt|latitud|longitud|  tvia|  nvia| numer|codmun|nommun|direccion|\n",
      "+--------+-------+--------+------+------+------+------+------+---------+\n",
      "|       0|      0|       0|580357|460216|449997|     0|     0|        0|\n",
      "+--------+-------+--------+------+------+------+------+------+---------+\n",
      "\n"
     ]
    },
    {
     "name": "stderr",
     "output_type": "stream",
     "text": [
      "                                                                                \r"
     ]
    }
   ],
   "source": [
    "from pyspark.sql.functions import isnan, when, count, col\n",
    "\n",
    "adresses_df.select([count(when(isnan(c) | col(c).isNull(), c)).alias(c) for c in adresses_df.columns]).show()"
   ]
  },
  {
   "cell_type": "code",
   "execution_count": 12,
   "metadata": {},
   "outputs": [
    {
     "name": "stderr",
     "output_type": "stream",
     "text": [
      "[Stage 221:=====================================================> (31 + 1) / 32]\r"
     ]
    },
    {
     "name": "stdout",
     "output_type": "stream",
     "text": [
      "+--------+-------+--------+----+----+------+------+------+---------+\n",
      "|uuid_idt|latitud|longitud|tvia|nvia| numer|codmun|nommun|direccion|\n",
      "+--------+-------+--------+----+----+------+------+------+---------+\n",
      "|       0|      0|       0|   0|   0|449997|     0|     0|        0|\n",
      "+--------+-------+--------+----+----+------+------+------+---------+\n",
      "\n"
     ]
    },
    {
     "name": "stderr",
     "output_type": "stream",
     "text": [
      "                                                                                \r"
     ]
    }
   ],
   "source": [
    "adresses_df = adresses_df.na.fill('_U')\n",
    "\n",
    "adresses_df.select([count(when(isnan(c) | col(c).isNull(), c)).alias(c) for c in adresses_df.columns]).show()"
   ]
  },
  {
   "cell_type": "markdown",
   "metadata": {},
   "source": [
    "### Extracción del prefijo para eleminar valores '_U'"
   ]
  },
  {
   "cell_type": "markdown",
   "metadata": {},
   "source": [
    "Tras analizar el dataset, se observa que para una dirección, el tipo de vía (tvia) puede aparecer vacío, en cambio, en la columna 'direccion' aparece este valor. Por lo que se procederá a extraer el prefijo de la columna 'direccion' para rellenar los valores vacíos de la columna 'tvia' evitando así la perdida de información."
   ]
  },
  {
   "cell_type": "code",
   "execution_count": 13,
   "metadata": {},
   "outputs": [
    {
     "name": "stderr",
     "output_type": "stream",
     "text": [
      "[Stage 234:================================================>      (14 + 2) / 16]\r"
     ]
    },
    {
     "name": "stdout",
     "output_type": "stream",
     "text": [
      "Unknown tvia before prefix extraction: 580357\n"
     ]
    },
    {
     "name": "stderr",
     "output_type": "stream",
     "text": [
      "                                                                                \r"
     ]
    }
   ],
   "source": [
    "print(f\"Unknown tvia before prefix extraction: {adresses_df.filter(adresses_df.tvia == '_U').count()}\")"
   ]
  },
  {
   "cell_type": "code",
   "execution_count": 14,
   "metadata": {},
   "outputs": [
    {
     "name": "stderr",
     "output_type": "stream",
     "text": [
      "[Stage 252:===================================================>   (15 + 1) / 16]\r"
     ]
    },
    {
     "name": "stdout",
     "output_type": "stream",
     "text": [
      "{'AMPLIACION', 'BULEVAR', 'CALE', 'LUGAR', 'BAJADA', 'AUTOVIA', 'BLOQUES', 'CAMINO', 'SUBIDA', 'PROL', 'COSTANILLA', 'TRASERA', 'PRJE', 'RIBERA', 'ANGOSTA', 'PORTALES', 'SERVENTIA', 'PASEO', 'CALZADA', 'RAMBLA', 'UB', 'POBLADO', 'SB', 'COLONIA', 'CSRIO', 'RONDA', 'VEREDA', 'MONTE', 'APARTADO DE CORREOS', 'BRNCO', 'JARDIN', 'HL', 'DISEMINADO', 'BARRA', 'PARQUE', 'DC', 'VIVIENDAS', 'AUTOPISTA', 'ACEQUIA', 'PLAZOLETA', 'POLIG', 'GRUPO', 'PARTICULAR', 'MANZANA', 'TRANSVERSAL', 'CAS', 'CAMNO', 'MERCADO', 'CAMIN', 'PLAYA', 'MUELLE', 'CORRAL', 'ACCESO', 'ROTONDA', 'PISTA', 'ALAMEDA', 'PASILLO', 'CENTRO COMERCIAL', 'PAGO', 'LOMO', 'PARAJE', 'VIA PEATONAL', 'ATAJO', 'VALLE', 'MUNICIPIO', 'BARRIO', 'PATIO', 'RESIDENCIAL', 'CG', 'AVENI', 'LLANO', 'ENTRADA', 'SOLAR', 'MONTAÑA', 'PASO', 'CARRERA', 'URBANIZACION', 'PASSEIG', 'CALLE', 'TVERA', 'PARQ', 'C', 'LADERA', 'PROLONGACION', 'PLACETA', 'BARRIADA', 'EDIF', 'LU', 'ESCALINATA', 'TORRENTE', 'PUENTE', 'AGRUP', 'EXTRARRADIO', 'CMINO', 'PZTA', 'CRA', 'CASERIO', 'EDIFICIO', 'HOTEL', 'RESIDENCIA', 'PRIVADA', 'AVENIDA', 'COMPLEJO', 'ALDEA', 'ESTRADA', 'PASEO ALTO', 'VILLAS', 'RAMAL', 'PLAZUELA', 'CHALET', 'CARRETERA', 'TRAVESIA', 'POLIGONO', 'SIN DATOS DOMICILIAR', 'TRANS', 'RINCONADA', 'SECTOR', 'BARRANCO', 'TRAV', 'GLORIETA', 'TORRE', 'PASAJE', 'RINCON', 'LOMA', 'CONJUNTO', 'RAMBL', 'ACERA', 'APARTAMENTOS', 'CALLEJUELA', 'ESCALERA', 'RUA', 'ZONA', 'PLAZA', 'FINCA', 'VIA', 'CC', 'PASADIZO', 'SENDA', 'BCO', 'CRTA', 'SENDERO', 'COOPERATIVA', 'RU', 'CALLEJON', 'PASEO BAJO', 'CUESTA', 'CALLEJA', 'ESCALA', 'OTROS'}\n"
     ]
    },
    {
     "name": "stderr",
     "output_type": "stream",
     "text": [
      "                                                                                \r"
     ]
    }
   ],
   "source": [
    "tvia_types = adresses_df.select(\"tvia\").distinct().collect()\n",
    "tvia_types = {t.tvia for t in tvia_types if t.tvia != \"_U\" and not t.tvia.isnumeric()}\n",
    "print(tvia_types)"
   ]
  },
  {
   "cell_type": "code",
   "execution_count": 15,
   "metadata": {},
   "outputs": [],
   "source": [
    "from pyspark.sql.functions import regexp_extract, when\n",
    "\n",
    "condition = (adresses_df.tvia == '_U') & (regexp_extract('direccion', r'^(\\\\S+)', 1).isin(tvia_types))\n",
    "adresses_df = adresses_df.withColumn(\"tvia\", when(condition, regexp_extract('direccion', r'^(\\\\S+)', 1)).otherwise(adresses_df.tvia))"
   ]
  },
  {
   "cell_type": "code",
   "execution_count": 16,
   "metadata": {},
   "outputs": [
    {
     "name": "stderr",
     "output_type": "stream",
     "text": [
      "[Stage 270:===================================================>   (15 + 1) / 16]\r"
     ]
    },
    {
     "name": "stdout",
     "output_type": "stream",
     "text": [
      "Unknown tvia before prefix extraction: 580357\n"
     ]
    },
    {
     "name": "stderr",
     "output_type": "stream",
     "text": [
      "                                                                                \r"
     ]
    }
   ],
   "source": [
    "print(f\"Unknown tvia before prefix extraction: {adresses_df.filter(adresses_df.tvia == '_U').count()}\")"
   ]
  },
  {
   "cell_type": "markdown",
   "metadata": {},
   "source": [
    "Se puede observar que los tipos de vías que siguen siendo desconocidos es debido a que desde la columna de dirección no se ha podido extraer un prefijo que aparezca en la lista de los tipos de vías que tenemos en el dataset."
   ]
  },
  {
   "cell_type": "markdown",
   "metadata": {},
   "source": [
    "### Limpieza de entradas con valor '_U'"
   ]
  },
  {
   "cell_type": "markdown",
   "metadata": {},
   "source": [
    "Tras realizar la limpieza del dataset y extraer el tipo de via de la columna 'direccion', se procederá a eliminar las entradas restantes que contengan valores '_U' en las columnas 'tvia' pues no aportan información relevante."
   ]
  },
  {
   "cell_type": "code",
   "execution_count": 17,
   "metadata": {},
   "outputs": [
    {
     "name": "stderr",
     "output_type": "stream",
     "text": [
      "[Stage 288:=========================================>             (12 + 4) / 16]\r"
     ]
    },
    {
     "name": "stdout",
     "output_type": "stream",
     "text": [
      "Unknown tvia before duplicated null cleaning: 580357\n"
     ]
    },
    {
     "name": "stderr",
     "output_type": "stream",
     "text": [
      "                                                                                \r"
     ]
    }
   ],
   "source": [
    "print(f\"Unknown tvia before duplicated null cleaning: {adresses_df.filter(adresses_df.tvia == '_U').count()}\")"
   ]
  },
  {
   "cell_type": "code",
   "execution_count": 18,
   "metadata": {},
   "outputs": [],
   "source": [
    "adresses_df = adresses_df.filter(adresses_df.tvia != '_U')"
   ]
  },
  {
   "cell_type": "code",
   "execution_count": 19,
   "metadata": {},
   "outputs": [
    {
     "name": "stdout",
     "output_type": "stream",
     "text": [
      "Unknown tvia after duplicated null cleaning: 0\n"
     ]
    }
   ],
   "source": [
    "print(f\"Unknown tvia after duplicated null cleaning: {adresses_df.filter(adresses_df.tvia == '_U').count()}\")"
   ]
  },
  {
   "cell_type": "code",
   "execution_count": 20,
   "metadata": {},
   "outputs": [
    {
     "name": "stderr",
     "output_type": "stream",
     "text": [
      "[Stage 305:==============>                                          (2 + 6) / 8]\r"
     ]
    },
    {
     "name": "stdout",
     "output_type": "stream",
     "text": [
      "Tamaño final del dataframe: 1653857\n"
     ]
    },
    {
     "name": "stderr",
     "output_type": "stream",
     "text": [
      "                                                                                \r"
     ]
    }
   ],
   "source": [
    "print(f\"Tamaño final del dataframe: {adresses_df.count()}\")"
   ]
  },
  {
   "cell_type": "markdown",
   "metadata": {},
   "source": [
    "## Aumento de datos"
   ]
  },
  {
   "cell_type": "markdown",
   "metadata": {},
   "source": [
    "### Frecuencia de uuid_idt antes"
   ]
  },
  {
   "cell_type": "code",
   "execution_count": 21,
   "metadata": {},
   "outputs": [
    {
     "name": "stderr",
     "output_type": "stream",
     "text": [
      "                                                                                \r"
     ]
    },
    {
     "name": "stdout",
     "output_type": "stream",
     "text": [
      "+-------------------------------+----------+\n",
      "|Número de direcciones asociadas|Frecuencia|\n",
      "+-------------------------------+----------+\n",
      "|                              1|    278002|\n",
      "|                              2|    109890|\n",
      "|                              3|     57031|\n",
      "|                              4|     32912|\n",
      "|                              5|     20151|\n",
      "|                              6|     13280|\n",
      "|                              7|      9074|\n",
      "|                              8|      6577|\n",
      "|                       10 o más|     22563|\n",
      "+-------------------------------+----------+\n",
      "\n"
     ]
    }
   ],
   "source": [
    "uuid_frecuency(adresses_df)"
   ]
  },
  {
   "cell_type": "markdown",
   "metadata": {},
   "source": [
    "### Aumento de datos"
   ]
  },
  {
   "cell_type": "markdown",
   "metadata": {},
   "source": [
    "- Cambiar el orden de las palabras\n",
    "- Añadir errores ortográficos\n",
    "- Añadir sinónimos"
   ]
  },
  {
   "cell_type": "code",
   "execution_count": 22,
   "metadata": {},
   "outputs": [
    {
     "name": "stderr",
     "output_type": "stream",
     "text": [
      "                                                                                \r"
     ]
    },
    {
     "name": "stdout",
     "output_type": "stream",
     "text": [
      "+------------------------------------+---------+----------+-----------+---------------------------------+-----+------+--------------------------+-----------------------------------------------------------------+\n",
      "|uuid_idt                            |latitud  |longitud  |tvia       |nvia                             |numer|codmun|nommun                    |direccion                                                        |\n",
      "+------------------------------------+---------+----------+-----------+---------------------------------+-----+------+--------------------------+-----------------------------------------------------------------+\n",
      "|0016535F-03E9-429E-A5F2-3B6B9AA90BC9|28.430201|-16.310738|RAMBLA     |SIROCO CUEVAS BLANCAS            |21   |38038 |Santa Cruz de Tenerife    |RAMBLA SIROCO CUEVAS BLANCSA 21 SANTA CRUZ DE TENERIFE           |\n",
      "|00760F34-E924-4184-A8B3-29965FC5B864|28.41995 |-16.30576 |COOPERATIVA|BRISAMAR III CL AYOZE ACORAN     |8    |38038 |Santa Cruz de Tenerife    |COOPERATIVA BRISAMAR III CL AYOZE CAORAN 8 SANTA CRUZ DE TENERIFE|\n",
      "|008B0887-AC4D-4713-B9E5-07E6CED0604F|28.38724 |-16.5117  |RINCON     |POLO 106A                        |20   |38026 |La Orotava                |RNICON POLO 106A 20 LA OROTAVA                                   |\n",
      "|008B0887-AC4D-4713-B9E5-07E6CED0604F|28.38724 |-16.5117  |LLANO      |POLO 106 A                       |20   |38026 |La Orotava                |LLANO POLO 106 A 20 LA OROTAVA                                   |\n",
      "|00C1ED5D-A7A0-4E1C-8F5E-2B011F4D0C72|28.72446 |-13.86509 |PLAYA      |PEDRO Y GUY VANDAELE ARENA DORADA|10   |35014 |La Oliva                  |PLAYA PEDRO Y GUY VANDAELE ARENA DORADA 10 LA OLVIA              |\n",
      "|00EE8A38-3881-4495-B868-F042C6BDF03F|28.87911 |-13.84693 |RESIDENCIA |MEXICO                           |42   |35034 |Yaiza                     |RESIDENCIA MEXICO 42 AYIZA                                       |\n",
      "|00F74AC2-204B-4393-9465-B71C423B7245|28.37582 |-16.57582 |SUBIDA     |GARROTA MOCAN                    |22   |38031 |Los Realejos              |SUBIDA GARROTA OMCAN 22 LOS REALEJOS                             |\n",
      "|00F74AC2-204B-4393-9465-B71C423B7245|28.37582 |-16.57582 |LLANO      |GARROTA                          |22   |38031 |Los Realejos              |LLANO GARORTA 22 LOS REALEJOS                                    |\n",
      "|00FA193B-4476-4A55-A630-D200D18D9D11|28.01201 |-15.43262 |PISTA      |CRUCE HIGUERA CANARIA            |75   |35026 |Telde                     |PISTA CRUCE HIGUERA CAANRIA 75 TELDE                             |\n",
      "|0109077A-6093-48FE-9965-0552BC2AC307|28.17442 |-16.74585 |TRANSVERSAL|PUERTO RICO                      |23   |38019 |Guía de Isora             |TRNASVERSAL PUERTO RICO 23 GUIA DE ISORA                         |\n",
      "|0109077A-6093-48FE-9965-0552BC2AC307|28.17442 |-16.74585 |PASO       |PUERTO RICO VERA ERQUES          |51   |38019 |Guía de Isora             |PASO PUERTO RICO VERA ERQUES 51 UGIA DE ISORA                    |\n",
      "|0109077A-6093-48FE-9965-0552BC2AC307|28.17442 |-16.74585 |GRUPO      |PUERTO RICO VERA ERQUE           |51   |38019 |Guía de Isora             |GRUPO UPERTO RICO VERA ERQUE 51 GUIA DE ISORA                    |\n",
      "|0109077A-6093-48FE-9965-0552BC2AC307|28.17442 |-16.74585 |RINCON     |PUERTO RICO VERA ERQUES          |31   |38019 |Guía de Isora             |RINCON PUERTO RICO VERA ERQUES 31 GUIA DE ISROA                  |\n",
      "|0119F3F5-EACA-4AF6-8E7F-EBFFF91162AB|28.11814 |-15.42986 |TVERA      |CL PARROCO VILLAR REINA 19       |0    |35016 |Las Palmas de Gran Canaria|TVERA CL PARORCO VILLAR REINA 19 0 LAS PALMAS DE GRAN CANARIA    |\n",
      "|0119F3F5-EACA-4AF6-8E7F-EBFFF91162AB|28.11814 |-15.42986 |POLIG      |CL PARROCO VILLAR REINA 170      |0    |35016 |Las Palmas de Gran Canaria|POLIG CL PARROCO VILLAR REINA 170 0 LAS PALMAS DE GRAN CANARIA   |\n",
      "|013931A7-C78E-42DB-8479-25A968E4330B|28.50018 |-13.85499 |AUTOVIA    |IVAN BETANCUR                    |0    |35017 |Puerto del Rosario        |AUTOVIA IVAN BETANCUR 0 PUERTO DEL ORSARIO                       |\n",
      "|015AF5E4-05FD-4636-B80E-1835A087D3DC|28.39846 |-16.57407 |CHALET     |TOSCAL                           |34   |38031 |Los Realejos              |CHALET TOSCAL 34 LOS REALJEOS                                    |\n",
      "|015AF5E4-05FD-4636-B80E-1835A087D3DC|28.39846 |-16.57407 |GRUPO      |TOSCAL                           |108  |38031 |Los Realejos              |GRUPO TOSCAL 108 LSO REALEJOS                                    |\n",
      "|015E276E-9B24-42DD-A57F-64CED6DA0E48|28.09873 |-17.11808 |BARRA      |URBANIZACION MOLINO              |2    |38036 |San Sebastián de la Gomera|BARRA URBANIZACION MOLINO 2 SAN SEBASTIAN DE LA GOMREA           |\n",
      "|017726C8-3331-4959-B1D0-4C547F568ED6|28.00859 |-15.41759 |MERCADO    |PRIMAVERA                        |10   |35026 |Telde                     |MERACDO PRIMAVERA 10 TELDE                                       |\n",
      "+------------------------------------+---------+----------+-----------+---------------------------------+-----+------+--------------------------+-----------------------------------------------------------------+\n",
      "only showing top 20 rows\n",
      "\n"
     ]
    },
    {
     "name": "stderr",
     "output_type": "stream",
     "text": [
      "                                                                                \r"
     ]
    },
    {
     "name": "stdout",
     "output_type": "stream",
     "text": [
      "570488 1653857\n"
     ]
    },
    {
     "name": "stderr",
     "output_type": "stream",
     "text": [
      "                                                                                \r"
     ]
    },
    {
     "name": "stdout",
     "output_type": "stream",
     "text": [
      "2224345\n"
     ]
    },
    {
     "name": "stderr",
     "output_type": "stream",
     "text": [
      "                                                                                \r"
     ]
    },
    {
     "name": "stdout",
     "output_type": "stream",
     "text": [
      "+-------------------------------+----------+\n",
      "|Número de direcciones asociadas|Frecuencia|\n",
      "+-------------------------------+----------+\n",
      "|                              1|    139305|\n",
      "|                              2|    193768|\n",
      "|                              3|     28663|\n",
      "|                              4|     71101|\n",
      "|                              5|     10147|\n",
      "|                              6|     34895|\n",
      "|                              7|      4508|\n",
      "|                              8|     19927|\n",
      "|                       10 o más|     49587|\n",
      "+-------------------------------+----------+\n",
      "\n"
     ]
    }
   ],
   "source": [
    "from pyspark.sql.functions import udf\n",
    "from pyspark.sql.types import StringType\n",
    "import random\n",
    "\n",
    "# Define la función UDF\n",
    "def switch_letters(direcction):\n",
    "    \"\"\"Intercambia letras adyacentes en una palabra\"\"\"\n",
    "    words = direcction.split()\n",
    "    word_candidates = [word for word in words if word.isalpha() and len(word) >= 2]\n",
    "    if not word_candidates:\n",
    "        return direcction\n",
    "    word = random.choice(word_candidates)\n",
    "    pos = random.randint(0, len(word) - 2)\n",
    "    return \" \".join(\n",
    "        w if w != word else w[:pos] + w[pos + 1] + w[pos] + w[pos + 2:]\n",
    "        for w in words\n",
    "    )\n",
    "\n",
    "def update_direction_via(tvia, direction):\n",
    "    \"\"\"Actualiza el tipo de vía de la dirección\"\"\"\n",
    "    old_tvia = direction.split(\" \")[0]\n",
    "    if tvia.upper() in tvia_types:   \n",
    "        direction = direction.replace(old_tvia, tvia)\n",
    "    return direction\n",
    "\n",
    "def select_via_type(tvia):\n",
    "    \"\"\"Selecciona tipos de vía alternativos sin duplicados\"\"\"\n",
    "    return random.choice([t for t in tvia_types if t.title() != tvia and t != tvia.lower()])\n",
    "\n",
    "\n",
    "unique_filtered_uuids = adresses_df.groupBy(\"uuid_idt\").count().filter(\"count < 10\").select(\"uuid_idt\").sample(0.5)\n",
    "\n",
    "to_extend = adresses_df.join(unique_filtered_uuids, \"uuid_idt\")\n",
    "\n",
    "# Registra la función UDF con Spark\n",
    "spark.udf.register(\"switch_letters\", switch_letters, StringType())\n",
    "spark.udf.register(\"select_via_type\", select_via_type, StringType())\n",
    "spark.udf.register(\"update_direction_via\", update_direction_via, StringType())\n",
    "\n",
    "# Aplica la función UDF a la columna \"direccion\" usando withColumn\n",
    "extended_ds = (to_extend\n",
    "    .withColumn(\"tvia\", udf(select_via_type, StringType())(\"tvia\"))\n",
    "    .withColumn(\"direccion\", udf(update_direction_via, StringType())(\"tvia\", \"direccion\"))\n",
    "    .withColumn(\"direccion\", udf(switch_letters, StringType())(\"direccion\"))\n",
    ")\n",
    "\n",
    "extended_ds.show(truncate=False)\n",
    "print(extended_ds.count(), adresses_df.count())\n",
    "adresses_df = adresses_df.union(extended_ds)\n",
    "print(adresses_df.count())\n",
    "uuid_frecuency(adresses_df)"
   ]
  },
  {
   "cell_type": "markdown",
   "metadata": {},
   "source": [
    "### Frecuencia de uuid_idt después"
   ]
  },
  {
   "cell_type": "code",
   "execution_count": 23,
   "metadata": {},
   "outputs": [
    {
     "name": "stderr",
     "output_type": "stream",
     "text": [
      "                                                                                \r"
     ]
    },
    {
     "name": "stdout",
     "output_type": "stream",
     "text": [
      "+-------------------------------+----------+\n",
      "|Número de direcciones asociadas|Frecuencia|\n",
      "+-------------------------------+----------+\n",
      "|                              1|    139305|\n",
      "|                              2|    193768|\n",
      "|                              3|     28663|\n",
      "|                              4|     71101|\n",
      "|                              5|     10147|\n",
      "|                              6|     34895|\n",
      "|                              7|      4508|\n",
      "|                              8|     19927|\n",
      "|                       10 o más|     49587|\n",
      "+-------------------------------+----------+\n",
      "\n"
     ]
    }
   ],
   "source": [
    "uuid_frecuency(adresses_df)"
   ]
  },
  {
   "cell_type": "markdown",
   "metadata": {},
   "source": [
    "## División de dataset"
   ]
  },
  {
   "cell_type": "code",
   "execution_count": 24,
   "metadata": {},
   "outputs": [
    {
     "name": "stderr",
     "output_type": "stream",
     "text": [
      "                                                                                \r"
     ]
    }
   ],
   "source": [
    "# Obtener los uuids únicos y convertirlos a una lista de Python\n",
    "unique_uuids = [row[0] for row in adresses_df.select(\"uuid_idt\").distinct().collect()]"
   ]
  },
  {
   "cell_type": "code",
   "execution_count": 25,
   "metadata": {},
   "outputs": [],
   "source": [
    "# Crear DataFrame del 80%\n",
    "train_df = adresses_df.sampleBy(\"uuid_idt\", fractions={uuid: 0.8 for uuid in unique_uuids}, seed=42)\n",
    "\n",
    "# Crear DataFrame del 20% restando el DataFrame del 80% al original\n",
    "test_df = adresses_df.subtract(train_df)"
   ]
  },
  {
   "cell_type": "code",
   "execution_count": 26,
   "metadata": {},
   "outputs": [
    {
     "name": "stderr",
     "output_type": "stream",
     "text": [
      "                                                                                \r"
     ]
    },
    {
     "name": "stdout",
     "output_type": "stream",
     "text": [
      "2224345\n"
     ]
    },
    {
     "name": "stderr",
     "output_type": "stream",
     "text": [
      "24/04/27 08:47:57 WARN DAGScheduler: Broadcasting large task binary with size 28.1 MiB\n",
      "                                                                                \r"
     ]
    },
    {
     "name": "stdout",
     "output_type": "stream",
     "text": [
      "1778048\n"
     ]
    },
    {
     "name": "stderr",
     "output_type": "stream",
     "text": [
      "24/04/27 08:48:24 WARN DAGScheduler: Broadcasting large task binary with size 28.1 MiB\n",
      "24/04/27 08:48:56 WARN DAGScheduler: Broadcasting large task binary with size 28.2 MiB\n",
      "24/04/27 08:49:07 WARN DAGScheduler: Broadcasting large task binary with size 28.2 MiB\n",
      "[Stage 641:======================================>                  (6 + 3) / 9]\r"
     ]
    },
    {
     "name": "stdout",
     "output_type": "stream",
     "text": [
      "899149\n"
     ]
    },
    {
     "name": "stderr",
     "output_type": "stream",
     "text": [
      "                                                                                \r"
     ]
    }
   ],
   "source": [
    "print(adresses_df.count())\n",
    "print(train_df.count())\n",
    "print(test_df.count())"
   ]
  },
  {
   "cell_type": "code",
   "execution_count": 27,
   "metadata": {},
   "outputs": [
    {
     "name": "stderr",
     "output_type": "stream",
     "text": [
      "                                                                                \r"
     ]
    },
    {
     "name": "stdout",
     "output_type": "stream",
     "text": [
      "554325\n"
     ]
    },
    {
     "name": "stderr",
     "output_type": "stream",
     "text": [
      "24/04/27 08:49:28 WARN DAGScheduler: Broadcasting large task binary with size 28.1 MiB\n",
      "24/04/27 08:49:41 WARN DAGScheduler: Broadcasting large task binary with size 28.1 MiB\n",
      "                                                                                \r"
     ]
    },
    {
     "name": "stdout",
     "output_type": "stream",
     "text": [
      "518558\n"
     ]
    },
    {
     "name": "stderr",
     "output_type": "stream",
     "text": [
      "24/04/27 08:49:56 WARN DAGScheduler: Broadcasting large task binary with size 28.1 MiB\n",
      "24/04/27 08:50:29 WARN DAGScheduler: Broadcasting large task binary with size 28.2 MiB\n",
      "24/04/27 08:50:39 WARN DAGScheduler: Broadcasting large task binary with size 28.2 MiB\n",
      "[Stage 729:=================================================>       (7 + 1) / 8]\r"
     ]
    },
    {
     "name": "stdout",
     "output_type": "stream",
     "text": [
      "378351\n"
     ]
    },
    {
     "name": "stderr",
     "output_type": "stream",
     "text": [
      "                                                                                \r"
     ]
    }
   ],
   "source": [
    "print(adresses_df.select(\"uuid_idt\").distinct().count())\n",
    "print(train_df.select(\"uuid_idt\").distinct().count())\n",
    "print(test_df.select(\"uuid_idt\").distinct().count())"
   ]
  },
  {
   "cell_type": "code",
   "execution_count": 28,
   "metadata": {},
   "outputs": [
    {
     "name": "stderr",
     "output_type": "stream",
     "text": [
      "24/04/27 08:50:49 WARN DAGScheduler: Broadcasting large task binary with size 28.1 MiB\n",
      "24/04/27 08:51:02 WARN DAGScheduler: Broadcasting large task binary with size 28.1 MiB\n",
      "24/04/27 08:51:11 WARN DAGScheduler: Broadcasting large task binary with size 28.1 MiB\n",
      "24/04/27 08:51:23 WARN DAGScheduler: Broadcasting large task binary with size 28.1 MiB\n",
      "24/04/27 08:51:28 WARN DAGScheduler: Broadcasting large task binary with size 28.1 MiB\n",
      "24/04/27 08:51:30 WARN DAGScheduler: Broadcasting large task binary with size 28.1 MiB\n",
      "24/04/27 08:51:32 WARN DAGScheduler: Broadcasting large task binary with size 28.1 MiB\n",
      "24/04/27 08:51:34 WARN DAGScheduler: Broadcasting large task binary with size 28.1 MiB\n",
      "24/04/27 08:51:36 WARN DAGScheduler: Broadcasting large task binary with size 28.1 MiB\n",
      "                                                                                \r"
     ]
    },
    {
     "name": "stdout",
     "output_type": "stream",
     "text": [
      "+-------------------------------+----------+\n",
      "|Número de direcciones asociadas|Frecuencia|\n",
      "+-------------------------------+----------+\n",
      "|                              1|    178490|\n",
      "|                              2|    146990|\n",
      "|                              3|     49110|\n",
      "|                              4|     43286|\n",
      "|                              5|     21783|\n",
      "|                              6|     18728|\n",
      "|                              7|     11915|\n",
      "|                              8|     10385|\n",
      "|                       10 o más|     30041|\n",
      "+-------------------------------+----------+\n",
      "\n"
     ]
    },
    {
     "name": "stderr",
     "output_type": "stream",
     "text": [
      "24/04/27 08:51:52 WARN DAGScheduler: Broadcasting large task binary with size 28.1 MiB\n",
      "24/04/27 08:52:23 WARN DAGScheduler: Broadcasting large task binary with size 28.2 MiB\n",
      "24/04/27 08:52:33 WARN DAGScheduler: Broadcasting large task binary with size 28.2 MiB\n",
      "24/04/27 08:52:39 WARN DAGScheduler: Broadcasting large task binary with size 28.2 MiB\n",
      "24/04/27 08:52:54 WARN DAGScheduler: Broadcasting large task binary with size 28.1 MiB\n",
      "24/04/27 08:53:22 WARN DAGScheduler: Broadcasting large task binary with size 28.2 MiB\n",
      "24/04/27 08:53:32 WARN DAGScheduler: Broadcasting large task binary with size 28.2 MiB\n",
      "24/04/27 08:53:36 WARN DAGScheduler: Broadcasting large task binary with size 28.2 MiB\n",
      "24/04/27 08:53:42 WARN DAGScheduler: Broadcasting large task binary with size 28.2 MiB\n",
      "24/04/27 08:53:43 WARN DAGScheduler: Broadcasting large task binary with size 28.2 MiB\n",
      "24/04/27 08:53:46 WARN DAGScheduler: Broadcasting large task binary with size 28.2 MiB\n",
      "24/04/27 08:53:48 WARN DAGScheduler: Broadcasting large task binary with size 28.2 MiB\n",
      "24/04/27 08:53:50 WARN DAGScheduler: Broadcasting large task binary with size 28.2 MiB\n",
      "[Stage 967:>                                                        (0 + 5) / 5]\r"
     ]
    },
    {
     "name": "stdout",
     "output_type": "stream",
     "text": [
      "+-------------------------------+----------+\n",
      "|Número de direcciones asociadas|Frecuencia|\n",
      "+-------------------------------+----------+\n",
      "|                              1|    187471|\n",
      "|                              2|     81817|\n",
      "|                              3|     39542|\n",
      "|                              4|     23657|\n",
      "|                              5|     14846|\n",
      "|                              6|      9640|\n",
      "|                              7|      6689|\n",
      "|                              8|      4876|\n",
      "|                       10 o más|      6128|\n",
      "+-------------------------------+----------+\n",
      "\n"
     ]
    },
    {
     "name": "stderr",
     "output_type": "stream",
     "text": [
      "                                                                                \r"
     ]
    }
   ],
   "source": [
    "uuid_frecuency(train_df)\n",
    "uuid_frecuency(test_df)"
   ]
  },
  {
   "cell_type": "markdown",
   "metadata": {},
   "source": [
    "## Escritura de los dataframes"
   ]
  },
  {
   "cell_type": "code",
   "execution_count": null,
   "metadata": {},
   "outputs": [
    {
     "name": "stderr",
     "output_type": "stream",
     "text": [
      "24/03/14 17:00:55 WARN DAGScheduler: Broadcasting large task binary with size 28.3 MiB\n",
      "                                                                                \r"
     ]
    }
   ],
   "source": [
    "# Escribir el resultado en un archivo parquet\n",
    "try:\n",
    "  train_df.write.format('parquet').save(\"../data/proccesed_data/train_dataframe2.parquet\")\n",
    "except:\n",
    "  print('No se pudo guardar el dataset de entrenamiento.')"
   ]
  },
  {
   "cell_type": "code",
   "execution_count": null,
   "metadata": {},
   "outputs": [
    {
     "name": "stdout",
     "output_type": "stream",
     "text": [
      "No se ha podido guardar el dataset de testeo.\n"
     ]
    }
   ],
   "source": [
    "# Escribir el resultado en un archivo parquet\n",
    "try:\n",
    "  test_df.write.format('parquet').save(\"../data/proccesed_data/test_dataframe2.parquet\")\n",
    "except:\n",
    "  print('No se ha podido guardar el dataset de testeo.')"
   ]
  },
  {
   "cell_type": "markdown",
   "metadata": {},
   "source": [
    "## Representación con embeddings"
   ]
  },
  {
   "cell_type": "markdown",
   "metadata": {},
   "source": [
    "#### Lectura del dataframe de entrenamiento"
   ]
  },
  {
   "cell_type": "code",
   "execution_count": 2,
   "metadata": {},
   "outputs": [
    {
     "name": "stderr",
     "output_type": "stream",
     "text": [
      "                                                                                \r"
     ]
    }
   ],
   "source": [
    "try:\n",
    "  train_df = spark.read.format('parquet').load('../data/proccesed_data/train_dataframe2.parquet').repartition(32)\n",
    "except:\n",
    "  print('No se ha podido leer el dataset de entrenamiento.')"
   ]
  },
  {
   "cell_type": "markdown",
   "metadata": {},
   "source": [
    "### Representación mediante _Word2Vec_"
   ]
  },
  {
   "cell_type": "code",
   "execution_count": 25,
   "metadata": {},
   "outputs": [
    {
     "name": "stderr",
     "output_type": "stream",
     "text": [
      "24/04/24 15:16:23 WARN DAGScheduler: Broadcasting large task binary with size 28.1 MiB\n",
      "24/04/24 15:16:42 WARN DAGScheduler: Broadcasting large task binary with size 28.1 MiB\n",
      "                                                                                \r"
     ]
    }
   ],
   "source": [
    "from pyspark.ml.feature import Word2Vec, Tokenizer\n",
    "\n",
    "# Tokenizar el texto\n",
    "tokenizer = Tokenizer(inputCol=\"direccion\", outputCol=\"words\")\n",
    "data_tokenized = tokenizer.transform(train_df)\n",
    "\n",
    "# Entrenar el modelo Word2Vec\n",
    "word2Vec = Word2Vec(vectorSize=300, minCount=0, inputCol=\"words\", outputCol=\"embedding\")\n",
    "word2vec_model = word2Vec.fit(data_tokenized)\n",
    "\n",
    "# Transformar los datos\n",
    "word2vec_result = word2vec_model.transform(data_tokenized)\n",
    "# ~9min"
   ]
  },
  {
   "cell_type": "code",
   "execution_count": null,
   "metadata": {},
   "outputs": [
    {
     "name": "stderr",
     "output_type": "stream",
     "text": [
      "24/03/14 12:32:13 WARN DAGScheduler: Broadcasting large task binary with size 28.2 MiB\n",
      "[Stage 937:>                                                        (0 + 1) / 1]\r"
     ]
    },
    {
     "name": "stdout",
     "output_type": "stream",
     "text": [
      "+------------------------------------+--------+----------------------------+-----+------+----------+-------------------------------------------+----------------------------------------------------+-----------------------------------------------------------------------------------------------------------------------------------------------------------------------------------------------------------------------------------------------------------------------------------------------------------------------------------------------------------------------------------------------------------------------------------------------------------------------------------------------------------------------------------------------------------------------------------------------------------------------------------------------------------------------------------------------------------------------------------------------------------------------------------------------------------------------------------------------------------------------------------------------------------------------------------------------------------------------------------------------------------------------------------------------------------------------------------------------------------------------------------------------------------------------------------------------------------------------------------------------------------------------------------------------------------------------------------------------------------------------------------------------------------------------------------------------------------------------------------------------------------------------------------------------------------------------------------------------------------------------------------------------------------------------------------------------------------------------------------------------------------------------------------------------------------------------------------------------------------------------------------------------------------------------------------------------------------------------------------------------------------------------------------------------------------------------------------------------------------------------------------------------------------------------------------------------------------------------------------------------------------------------------------------------------------------------------------------------------------------------------------------------------------------------------------------------------------------------------------------------------------------------------------------------------------------------------------------------------------------------------------------------------------------------------------------------------------------------------------------------------------------------------------------------------------------------------------------------------------------------------------------------------------------------------------------------------------------------------------------------------------------------------------------------------------------------------------------------------------------------------------------------------------------------------------------------------------------------------------------------------------------------------------------------------------------------------------------------------------------------------------------------------------------------------------------------------------------------------------------------------------------------------------------------------------------------------------------------------------------------------------------------------------------------------------------------------------------------------------------------------------------------------------------------------------------------------------------------------------------------------------------------------------------------------------------------------------------------------------------------------------------------------------------------------------------------------------------------------------------------------------------------------------------------------------------------------------------------------------------------------------------------------------------------------------------------------------------------------------------------------------------------------------------------------------------------------------------------------------------------------------------------------------------------------------------------------------------------------------------------------------------------------------------------------------------------------------------------------------------------------------------------------------------------------------------------------------------------------------------------------------------------------------------------------------------------------------------------------------------------------------------------------------------------------------------------------------------------------------------------------------------------------------------------------------------------------------------------------------------------------------------------------------------------------------------------------------------------------------------------------------------------------------------------------------------------------------------------------------------------------------------------------------------------------------------------------------------------------------------------------------------------------------------------------------------------------------------------------------------------------------------------------------------------------------------------------------------------------------------------------------------------------------------------------------------------------------------------------------------------------------------------------------------------------------------------------------------------------------------------------------------------------------------------------------------------------------------------------------------------------------------------------------------------------------------------------------------------------------------------------------------------------------------------------------------------------------------------------------------+\n",
      "|uuid_idt                            |tvia    |nvia                        |numer|codmun|nommun    |direccion                                  |words                                               |embedding                                                                                                                                                                                                                                                                                                                                                                                                                                                                                                                                                                                                                                                                                                                                                                                                                                                                                                                                                                                                                                                                                                                                                                                                                                                                                                                                                                                                                                                                                                                                                                                                                                                                                                                                                                                                                                                                                                                                                                                                                                                                                                                                                                                                                                                                                                                                                                                                                                                                                                                                                                                                                                                                                                                                                                                                                                                                                                                                                                                                                                                                                                                                                                                                                                                                                                                                                                                                                                                                                                                                                                                                                                                                                                                                                                                                                                                                                                                                                                                                                                                                                                                                                                                                                                                                                                                                                                                                                                                                                                                                                                                                                                                                                                                                                                                                                                                                                                                                                                                                                                                                                                                                                                                                                                                                                                                                                                                                                                                                                                                                                                                                                                                                                                                                                                                                                                                                                                                                                                                                                                                                                                                                                                                                                                                                                                                                                                                                                                                                                |\n",
      "+------------------------------------+--------+----------------------------+-----+------+----------+-------------------------------------------+----------------------------------------------------+-----------------------------------------------------------------------------------------------------------------------------------------------------------------------------------------------------------------------------------------------------------------------------------------------------------------------------------------------------------------------------------------------------------------------------------------------------------------------------------------------------------------------------------------------------------------------------------------------------------------------------------------------------------------------------------------------------------------------------------------------------------------------------------------------------------------------------------------------------------------------------------------------------------------------------------------------------------------------------------------------------------------------------------------------------------------------------------------------------------------------------------------------------------------------------------------------------------------------------------------------------------------------------------------------------------------------------------------------------------------------------------------------------------------------------------------------------------------------------------------------------------------------------------------------------------------------------------------------------------------------------------------------------------------------------------------------------------------------------------------------------------------------------------------------------------------------------------------------------------------------------------------------------------------------------------------------------------------------------------------------------------------------------------------------------------------------------------------------------------------------------------------------------------------------------------------------------------------------------------------------------------------------------------------------------------------------------------------------------------------------------------------------------------------------------------------------------------------------------------------------------------------------------------------------------------------------------------------------------------------------------------------------------------------------------------------------------------------------------------------------------------------------------------------------------------------------------------------------------------------------------------------------------------------------------------------------------------------------------------------------------------------------------------------------------------------------------------------------------------------------------------------------------------------------------------------------------------------------------------------------------------------------------------------------------------------------------------------------------------------------------------------------------------------------------------------------------------------------------------------------------------------------------------------------------------------------------------------------------------------------------------------------------------------------------------------------------------------------------------------------------------------------------------------------------------------------------------------------------------------------------------------------------------------------------------------------------------------------------------------------------------------------------------------------------------------------------------------------------------------------------------------------------------------------------------------------------------------------------------------------------------------------------------------------------------------------------------------------------------------------------------------------------------------------------------------------------------------------------------------------------------------------------------------------------------------------------------------------------------------------------------------------------------------------------------------------------------------------------------------------------------------------------------------------------------------------------------------------------------------------------------------------------------------------------------------------------------------------------------------------------------------------------------------------------------------------------------------------------------------------------------------------------------------------------------------------------------------------------------------------------------------------------------------------------------------------------------------------------------------------------------------------------------------------------------------------------------------------------------------------------------------------------------------------------------------------------------------------------------------------------------------------------------------------------------------------------------------------------------------------------------------------------------------------------------------------------------------------------------------------------------------------------------------------------------------------------------------------------------------------------------------------------------------------------------------------------------------------------------------------------------------------------------------------------------------------------------------------------------------------------------------------------------------------------------------------------------------------------------------------------------------------------------------------------------------------------------------------------------------+\n",
      "|66E391C3-3251-11E8-BBA8-480FCF5217B3|CALLE   |ALFONSO XIII                |34   |35004 |Arrecife  |CALLE ALFONSO XIII 34 ARRECIFE             |[calle, alfonso, xiii, 34, arrecife]                |[0.2360524669289589,-0.051630489714443686,-2.9340125620365144E-4,0.04528434239327908,0.03557058833539486,-0.06891856491565705,-0.17357050608843566,-0.17918951734900476,-0.03586892571183853,-0.026426684111356735,0.0873556099832058,-0.2043212146498263,-0.0025828960846411065,0.1022924343124032,-0.009403010085225106,-0.14702649526298048,-0.016680517792701723,0.09605843126773835,-0.028791346005164087,-0.03022202920401469,-0.11119863241910935,-0.09181823283433915,-0.03880671598017216,-0.09989479407668114,0.09444091022014618,0.02917938306927681,0.06001053582876921,0.044434063136577606,-0.04503148645162583,0.105869534984231,-0.01765445154160261,-0.18885108083486557,-0.03220745623111725,0.13325035644375022,-0.03843854330480099,-0.0029336046427488327,0.16465842798352243,0.022515196353197098,-0.0739811709150672,-0.038524438813328746,0.025498209893703463,0.004271795228123665,-0.0056687362492084505,-0.07251521721482278,-0.013169874250888825,0.0857672940939665,-0.06693724116776138,-0.0948067419230938,0.008407880365848542,0.12333790138363838,-0.07523614093661309,0.0492462769150734,0.007384581863880158,-0.0017101976089179518,0.06863331161439419,-0.06657091528177261,-0.15264719254337253,0.12092349249869586,0.19769524037837982,-0.10094124402239686,-0.1037724825553596,-0.038550734519958496,-0.09066186398267746,-0.054648653604090214,0.09382124990224838,0.028354007750749588,-0.09677375853061676,-0.025189881771802904,0.03961751516908407,-0.11811566203832627,-0.13123351149260998,-0.1330538384616375,-0.035040638595819476,0.09264022600837052,-0.053925698995590216,0.10005162879824639,0.034269390255212785,-0.05018167868256569,0.08298846036195756,0.05693347817286849,0.01707748807966709,-0.1078388435766101,0.08502748720347882,-0.04881216902285815,0.04487731456756592,-0.12771049728617073,0.15432268590666354,-0.03598644807934761,0.04282584972679615,0.011631165957078339,-0.02619667872786522,-0.13008028566837312,0.1170208439230919,0.07350635603070259,-0.18348535895347595,0.052860374003648763,-0.11331252697855235,-0.008168070192914456,-0.17861860413104297,0.11324084475636483,-0.005988592468202114,-0.19462925605475903,0.044119741022586825,0.07136732582002879,0.3373301357030869,-0.1930715061724186,-0.20222249291837216,0.1233264595270157,-0.1167374562472105,-0.050388451851904395,0.08117857845500112,-0.21418312191963196,0.0806033380329609,-0.06823704391717911,-0.06278267279267312,0.013463643379509449,-0.13294799700379373,-0.1575579006224871,0.025425398722290993,-0.01553772115148604,-0.033419568464159964,0.08103688899427652,-0.009247631952166558,0.16333986818790436,-0.11260577812790871,0.0822618916630745,0.1506396882236004,0.07115129269659519,0.05237183757126332,-0.010858638770878316,0.04573202906176448,-0.06952711706981063,0.07768127620220185,-0.022194218635559083,0.09022585004568101,0.1439691435545683,-0.156401277333498,0.058768565161153676,0.016807962954044343,-0.020588967204093936,0.09749930128455163,0.0725754700601101,0.001353698072489351,-8.222058531828225E-4,0.009717862680554391,-0.11263493755832316,0.12295745195879136,-0.019501927075907588,0.09998316317796707,-0.052520840615034106,0.020714669674634936,0.06805455386638641,-0.11072906330227852,-0.020719824358820915,0.08506356570869684,0.11189677817746997,0.0671740084886551,0.027518200874328616,0.059342242777347565,0.10377064878121019,-0.0044523805379867555,-0.054502234607934956,0.02706192145124078,-0.1042878832668066,-0.01046765223145485,0.013882121443748474,0.005102753639221191,-0.08502240106463432,0.0027435373514890673,0.013469414226710797,-1.0922286892309785E-4,0.14222918301820756,-0.09856306239962578,-0.021702651865780354,0.17053065161453562,0.11395284999161959,-0.04634861703962088,-0.020392461493611336,-0.10672030746936799,0.011174069438129665,-0.03234587591141463,0.06823701644316316,0.01791224963963032,0.005248800665140153,-0.11271344525739552,-0.013535407930612565,-0.0958523266017437,-0.036112454161047934,0.05183024108409882,-0.019176237285137177,0.03154112547636032,0.23656047135591507,0.014554888010025024,-0.0658434521406889,0.0601043775677681,0.15713985338807107,-0.049149499461054805,0.09307557735592127,0.14958925619721414,0.11706254556775093,0.0036955373361706734,0.10290253944694996,-0.10781111046671868,0.08527653869241476,-0.04749068655073643,0.16006025075912478,-0.08068665694445372,0.052503698319196705,0.04605085570365191,-0.1175743043422699,0.18260040292516352,0.00935165286064148,-0.0291423499584198,-0.20866506546735764,-0.05062831044197083,-0.008451563119888306,0.2483095481991768,0.05677046999335289,-0.1509426083415747,-0.04076012521982193,0.11478423178195954,0.19416479584760965,-0.05726292338222266,0.1198250561952591,0.1406458392739296,0.03490098733454943,-0.14532859474420548,0.06254089660942555,-0.009300920926034451,0.1641067624092102,-0.022510262299329044,-0.21011607237160207,-0.04519130438566208,-0.24651298373937608,0.10347802378237247,-0.02640155404806137,-0.22105020880699158,-0.21777644706889987,-0.02785125179216266,0.1604138370603323,0.11038204319775105,-0.11066049933433533,-0.09727994427084924,-0.0012583665549755097,-0.06654060930013657,-0.08787449803203345,0.09499831292778255,0.12224461287260056,-0.006911882013082505,-0.03335733376443386,0.011494237184524537,-0.00545826405286789,-0.16140395421534778,0.06065889932215214,0.09512168765068055,-0.14171288860961795,-0.012839113175868989,-0.11980930119752885,-0.02985338382422924,-0.09181821821257473,0.20949989072978498,-0.11394207775592805,-0.03860713141039014,0.06662790924310684,0.002103965450078249,0.0834272563457489,-0.07710768808610738,-0.12935812138020994,-0.13056251853704454,-0.1003038690891117,-0.07663984149694443,-0.05306435525417328,-0.1613766507478431,0.10454838387668133,0.07620139047503471,-0.23202317357063296,0.17013097107410433,0.02730352133512497,0.13384649381041527,-0.11910420730710031,-0.06150082163512707,-0.08387141525745392,-0.1327264115214348,0.02348640263080597,0.2455249482765794,-0.13446282707154752,0.24626030158251525,-0.009913582354784012,0.026242610812187196,-0.07908244747668505,0.13643428683280945,-0.24382905140519143,-0.041497336328029634,-0.13565893825143577,0.10209977328777314,0.1184369906783104,-0.010311570018529892,-0.03278210647404194,0.13341394029557704,0.09507684633135796]                            |\n",
      "|78158D96-3251-11E8-B9B6-480FCF5217B3|CALLE   |ESCULTOR MANOLO RAMOS       |39   |35011 |Ingenio   |CALLE ESCULTOR MANOLO RAMOS 39 INGENIO     |[calle, escultor, manolo, ramos, 39, ingenio]       |[0.013146646320819855,-0.03127366816624999,0.04936338899036248,-0.1293143167470892,-0.019792902593811352,0.006279000702003637,-0.17140096674362817,-0.06953784388800462,-0.07009853764126697,-0.15918439626693726,-0.0478889945273598,0.00551569244513909,-0.06798308587409943,0.11642708101620276,-0.11149665464957555,0.0633861261109511,0.028678831954797108,0.08562309124196568,-0.05429904704215005,0.051878150581615046,-0.07630598382093012,0.004413082419584194,0.1549164665242036,-0.158519445588657,0.04538353303602586,0.05564697707692782,-0.11939196707680821,-0.006390830501914024,-0.07610516624602799,-0.13003865722566843,0.1270245760679245,-0.01100306895871957,-0.04831222646559278,-0.012363554599384466,0.013941054077198107,-0.07074329971025387,0.11878402903676033,0.36228184401988983,-0.08514894746864834,0.010858484854300816,0.06640983745455742,-0.02313533533985416,-0.07078207191079855,-0.13533556647598743,4.2065752980609733E-4,0.16421621789534885,-0.06492479349253699,0.1403982442182799,-0.12792106096943218,0.044091257111479834,0.04619581003983815,0.03177433957656224,0.032904705653587975,0.0199794794122378,0.015002927238432068,0.03627551719546318,-0.09504041944940884,0.2129326242332657,-0.012963257730007172,-0.1728980184222261,-0.03527223877608776,-0.11948824115097523,-0.06786567779878774,-0.15194460346053043,-0.02258841203971921,-0.1059669746706883,-0.014647502607355515,0.043690890073776245,-0.04539809344957272,0.038615012308582664,0.041062042252936706,-0.10446002675841251,0.058524868140618004,0.03390344108144442,-0.020321430017550785,-0.005961553814510504,0.037142983792970576,-0.052554308747251824,-0.04593084783603747,0.11639516482440133,0.0031306051338712373,-0.047836637745300926,0.09100138015734652,0.026045299600809813,-0.06734053542216618,-0.08163814269937575,0.1688737745086352,-0.0017399145290255547,0.08818330200544247,0.13177449236779162,-0.1431261481096347,-0.19355604300896326,0.03482288386051853,-0.015320503463347752,-0.218690933038791,-0.10135573955873647,-0.12428037356585264,-0.11852208198009369,0.003291922310988108,-0.03227334686865409,0.02286349314575394,-0.00932778138667345,0.21143436928590137,0.10881957535942395,0.3462214171886444,-0.21135017151633897,-0.0969771770760417,0.05238944788773854,-0.023087408898087837,-0.04209295970698197,0.20377185513886312,-0.22268004715442657,-0.019210156053304672,-0.06846178943912187,-0.02748876065015793,0.014193518397708733,-0.0437793197731177,-0.06465704645961523,-0.14546646177768707,-0.08438838024934132,-0.14605978705609837,-0.11802174577799936,-0.020484685587386288,0.14286876656115055,-0.21495259863634902,-0.07906130623693267,0.18371054405967394,0.02427707426249981,0.09612837146657208,-0.04435780388303101,-0.00947881272683541,-0.06280399672687054,-0.14159318121771017,-0.07300735785004993,0.20335513725876808,0.017015473296244938,0.0073826952526966725,-0.024509749375283718,0.08380034317572911,-0.022241220964739718,-0.1189186784128348,0.08261356564859548,-0.09944885410368443,0.050246657483512536,0.05457783738772074,-0.13418267170588175,-0.01725551707932027,0.03361953360339005,0.10062248880664507,-0.040334023380031184,0.08689126123984654,-0.05988687307884295,-0.05020890602221091,-0.12533645373090013,0.11272749925653139,0.1899106151734789,0.2212431125032405,0.057757106299201645,-0.04881363811243015,-0.04426714149303734,0.041354007087647915,-0.16187745612114668,-0.004167712293565273,-0.019631975640853245,0.08677917843063672,-0.0017723219158748784,-0.13907336629927158,0.155038831794324,0.1726711249599854,-0.006714262766763568,0.026384728650252022,-0.06008159896979729,-0.1882045647750298,0.048659981694072485,0.12965575190416226,0.07086408898855248,-0.17175009831165272,-0.003823300280297796,0.01719040796160698,-0.0012966980381558337,-0.024217722782244284,-0.0668331942676256,0.08904437720775604,-0.03506031011541684,-0.23460363247431815,-0.1330853911737601,0.10239775975545247,0.00217340017358462,-0.027022063732147217,0.05547938061257203,-0.04070877252767483,0.09348695042232671,0.16581349199016887,0.07888682985988756,-0.10796052093307176,0.03739742500086625,0.024665328053136665,0.10282144061056897,0.11120456534748276,0.11114836701502402,-0.1502196385214726,-0.028364846482872963,-0.03710541276571651,0.1349170374063154,-0.13953338346133629,0.20344507787376642,-0.0852369905139009,-0.02518756738087783,0.07158358528007132,-0.11126428470015526,0.31837663900417584,0.06769234019642074,0.029272091885407765,-0.0028857445965210595,-0.14319727321465808,-0.04503440670669079,0.16782058961689472,0.23330340286095935,-0.16734665477027494,-0.08328169258311391,0.15009500024219352,0.16812437745587278,-0.02259475737810135,0.09094700900216897,-0.16021056512060264,-0.031987589318305254,0.03702245280146599,-0.04720980301499367,0.033377119805663824,0.08192354114726186,0.029237883165478706,-0.3713983204215765,-0.12066672726844747,-0.13653501433630783,0.10848277993500233,-0.19823217888673145,0.008498791605234146,0.014538573722044626,0.012906903789068261,-0.004431633589168389,0.21781400498002768,0.06768300446371237,-0.1263750569584469,-0.19136893807444721,0.15215564022461572,-0.08584075343484679,-0.06308637567174931,0.12546666789179045,0.1186735462397337,-0.10643326118588448,-0.04294112759331862,-0.08128185166666904,-0.15130833831305304,-0.06616534230609734,0.12441718578338623,-0.05796143629898627,0.09004687890410423,-0.2603125125169754,0.0581830417116483,0.19126185472123325,0.2911565837760766,0.18945172304908434,-0.07860241558713217,0.0966587464014689,0.1412523764496048,-0.00872239035864671,-0.04645580103776107,-0.04665084889469047,-0.1718983861307303,-0.07210399086276689,0.012481717392802238,-0.08010217299064,-0.12883125369747478,0.03322928662722309,0.053593319530288376,-0.08438566389183202,0.027983019749323525,-0.13611813448369503,0.13137054722756147,-0.03733561102611323,0.08527648479988177,-0.010221629093090693,-0.16432282576958337,-0.01196809858083725,0.0600977042534699,-0.14718253134439388,0.43804771561796463,-0.05506184479842583,0.17376163679485518,0.08239936564738551,0.17339209482694665,-0.09601421467959881,-0.16983800849023584,0.0924465258916219,0.09625946544110775,0.06066142736623684,0.10995209341247876,-0.027258460720380146,-0.004052031474808851,0.04604815784841776]                                        |\n",
      "|620B43A0-3251-11E8-B3C4-480FCF5217B3|AVENIDA |CONSTITUCION                |47   |35012 |Mogán     |AVENIDA CONSTITUCION 47 MOGAN              |[avenida, constitucion, 47, mogan]                  |[0.010116330347955227,-0.050749088637530804,-0.15766774397343397,-0.07949596270918846,0.04649273119866848,-0.08696212258655578,-0.09215350006707013,-0.1036918256431818,-0.06711211614310741,0.008397814468480647,-0.04419883666560054,0.07181980460882187,-0.0037677804939448833,0.17605555057525635,-0.04949020128697157,0.07408039085566998,-0.03188305860385299,0.09830792155116796,-0.09191079623997211,-0.08344366797246039,-0.031689200550317764,0.08381921797990799,0.02003098832210526,-0.005044663790613413,-0.030918018892407417,-0.08744121331255883,0.009800879284739494,0.06445838371291757,0.08193022385239601,0.004730854881927371,-0.008639502804726362,-0.21314420644193888,0.005498380400240421,-0.006129748187959194,0.11583103612065315,0.09635807946324348,-0.06960979558061808,0.010787805542349815,-0.015865063993260264,-0.09441788832191378,-0.0020957347005605698,0.06410814658738673,-0.0048946954775601625,-0.1645719576627016,-0.05476528964936733,0.12804393004626036,-0.089325200766325,0.06351301819086075,0.01379720401018858,0.17478441447019577,-0.08876092908030841,0.08343957085162401,0.22371037676930428,0.0533563569188118,0.049453680869191885,0.029465387226082385,-0.10021063958993182,0.12437644694000483,-0.06597887864336371,-0.055938053876161575,0.0018188427202403545,-0.014949936419725418,-0.0691340072080493,-0.0038306042551994324,-0.02445201948285103,0.049692685541231185,0.09354964550584555,-0.007731029763817787,0.14694620273075998,-0.08791454136371613,0.06832009516074322,-0.23645120114088058,-0.002044246553850826,0.06766438367776573,0.020237581804394722,-0.030945246340706944,-0.05195778142660856,-0.07692857150686905,-0.05198601633310318,-0.013779788976535201,0.097634467179887,0.12731467373669147,-0.055468146689236164,-0.030755592975765467,0.009168013231828809,0.04469609772786498,0.043085929937660694,0.12317161075770855,-0.01946352666709572,0.017306228663073853,0.1327545172534883,-0.12631333200260997,0.027482651872560382,-0.11736651510000229,-0.06927866535261273,-0.057738810777664185,-0.12010301649570465,0.010498877381905913,-0.06383850052952766,-0.1331845000386238,-0.09844848641660064,-0.04726920276880264,0.14038812648504972,-0.1113893985748291,0.18578861840069294,-0.19329651445150375,-0.052293889224529266,0.11444188235327601,-0.08126743324100971,-0.05935630574822426,0.2105325823649764,-0.12400243990123272,0.18250735476613045,-0.05862628994509578,-0.16144739277660847,-0.030863802880048752,-0.08797003515064716,-0.14335998939350247,0.18355059903115034,0.06844701571390033,-0.21007543662562966,0.024560801684856415,0.08554720785468817,0.21787167061120272,-0.1641931738704443,0.04850809462368488,0.07331601716578007,0.12011627294123173,0.023682284052483737,-0.10966170951724052,-0.020085950382053852,-0.05681781284511089,-0.1923323031514883,0.002151384949684143,-0.113405573181808,-0.010709946043789387,-0.056992615573108196,0.06877049850299954,-0.008466454455628991,-0.014091122429817915,0.014781820122152567,-0.12522292509675026,0.051347059197723866,-0.08527635876089334,-0.10288088209927082,-0.1609934219159186,0.1964712105691433,0.03103358428052161,0.07644431199878454,-0.09497816674411297,0.03943879227153957,0.037614616099745035,-0.07460829708725214,0.00372113473713398,0.04761694744229317,0.037513972260057926,0.15308794099837542,0.058210066228639334,-0.07094071805477142,-0.023670731112360954,-0.024328308645635843,-0.09510949905961752,0.020329470746219158,-0.04336587688885629,0.04184363782405853,-0.01571173034608364,0.11006709281355143,-0.015636355965398252,0.15105894720181823,0.14798206789419055,-0.07135559618473053,0.03279052139259875,-0.08979207859374583,-0.010402623564004898,0.15917971869930625,0.07482532039284706,-0.08715685456991196,0.08203468844294548,-0.10227212589234114,0.10860668495297432,-0.06602074392139912,0.01411794095474761,0.06426393613219261,-0.05946214636787772,-0.10356066562235355,-0.17372649163007736,-0.11319113150238991,0.05689881555736065,0.11484227632172406,0.008742236997932196,-0.08833572454750538,-0.020000201649963856,-0.008471354376524687,0.03274209704250097,-0.04778900044038892,0.004010076634585857,-0.014149250462651253,0.043040833552367985,-0.048678233462851495,0.081385119818151,0.078938745893538,0.04650722164660692,0.012025180272758007,0.053129241801798344,-0.13561292458325624,0.18792324513196945,-0.10022786620538682,-0.07887989678420126,-0.025850949808955193,0.0664455690421164,0.1454415237531066,0.16138092055916786,-0.1527014821767807,-0.18014496006071568,-0.09352284017950296,0.03591748792678118,0.11206710897386074,0.009056316688656807,0.0051542832516133785,-0.09360920591279864,0.1254554372280836,0.08299167267978191,0.22259757295250893,0.2182836327701807,-0.008551643230021,0.05000827205367386,-0.04183210036717355,0.005962284281849861,-0.04993625404313207,-0.006639737635850906,0.17016595229506493,-0.038939470425248146,-0.043117523193359375,-0.06439940258860588,0.08167814777698368,0.04858354525640607,0.0023135067895054817,-0.05978881474584341,-0.09945280360989273,0.06760495016351342,-0.0363457587081939,0.04778794664889574,0.02443199511617422,0.030658181756734848,0.0732375979423523,-0.21712517831474543,-0.016505951061844826,0.16130301234079525,-0.11162774570402689,-0.1402414795011282,0.07158410805277526,-0.02649585297331214,0.006776225520297885,0.11981738731265068,0.1361821722239256,-0.1156489651184529,0.10144474357366562,-0.07490552589297295,-0.07830466539599001,0.11127688363194466,0.09988215588964522,-0.07570173311978579,-0.01869580475613475,-0.1411242219619453,-8.840775117278099E-4,0.05959535762667656,-0.07097707502543926,-0.0718544963747263,-0.11407905258238316,-0.038724558195099235,-0.15351821668446064,0.014213978312909603,0.03869961714372039,-0.030902912840247154,0.05957778915762901,-0.09463283349759877,-0.007985870353877544,-0.06356960162520409,0.18208686215803027,-0.0910314463544637,0.09223771188408136,-0.09122840082272887,-0.09631849359720945,0.16313877701759338,0.0023439349606633186,-0.07257941598072648,0.20313452649861574,0.08573327376507223,-0.0018252702138852328,0.0058115809224545956,0.009732555598020554,-0.19263849966228008,-0.16566793993115425,-0.029157969169318676,-0.013997316360473633,0.0027381450054235756,0.029843593132682145,-0.0696602314710617,0.04439765238203108,-0.008395189419388771]           |\n",
      "|6E311BDF-3251-11E8-B819-480FCF5217B3|CALLE   |RISCO                       |1    |35001 |Agaete    |CALLE RISCO 1 AGAETE                       |[calle, risco, 1, agaete]                           |[0.041046155616641045,-0.09400195116177201,-4.5942049473524094E-4,0.015056999865919352,-0.03233711328357458,0.028660831041634083,0.04401060380041599,-0.1577475480735302,-0.046639898559078574,0.015661417972296476,0.10858673229813576,-0.034259927342645824,0.06334354827049538,0.05996189499273896,-0.006627943366765976,-0.02560680452734232,-0.13897766738227801,0.0011740755289793015,-0.01928384928032756,-0.04326806818426121,-0.07481897016987205,0.013614167924970388,-0.0971111515755183,0.032597363693639636,0.032306065782904625,0.03655141650233418,0.08303793263621628,-0.023040901869535446,-0.11546626966446638,-0.1394598325714469,-0.02510716742835939,-0.2310727071017027,0.07199940690770745,0.07380884554004297,0.1287380699068308,0.17507427232339978,0.009429489262402058,0.10521128540858626,-0.08827762608416378,-0.20153742469847202,0.028891632333397865,0.002366973552852869,0.08524526609107852,-0.04538004763890058,-0.09835286298766732,0.15769194159656763,0.16591128494474106,0.002191059524193406,0.0769361318089068,0.15697687305510044,-0.11796953808516264,-0.06477384408935905,-0.06557069532573223,0.053483929485082626,0.08612420223653316,-0.08270945586264133,-0.01662363111972809,0.29860468534752727,0.005365142831578851,-0.1347961202263832,0.1420322898775339,0.1888823821209371,-0.09783772192895412,0.09005319187417626,-0.005368432961404324,0.02040374930948019,0.20197885856032372,0.07821040949784219,0.19321105862036347,-0.11005564173683524,0.039260114543139935,-0.25589626329019666,0.023979369550943375,0.2052225625666324,-0.12534530460834503,-0.14408167358487844,0.05875719012692571,0.037422046065330505,0.018769613932818174,0.03905494965147227,-0.016916097607463598,-0.19031216204166412,-0.008999970741569996,-0.03981022711377591,0.01860193640459329,0.00661865621805191,0.021536760963499546,-0.006269116682233289,-0.011397191439755261,-0.030884812877047807,-0.08833330124616623,-0.0571146234869957,0.05387361999601126,-0.053717732429504395,-0.08533836714923382,0.07604268100112677,-0.11789829144254327,-0.13142868944851216,-0.04127728659659624,0.08500647451728582,0.043312311405315995,0.08976172702386975,0.026259060949087143,0.15188327617943287,0.27893514186143875,-0.09625117108225822,0.018741756211966276,-0.12282871827483177,-0.0661022700369358,-0.032927355729043484,0.05570847983472049,-0.009944332763552666,-0.11186707206070423,-0.06916835065931082,0.007053937762975693,-0.00902083469554782,-0.13878438528627157,0.015751804690808058,-0.12960908748209476,-0.12670814129523933,-0.18228754960000515,-0.10329090431332588,0.13323455909267068,0.14829017966985703,-0.16412159940227866,-0.027657466009259224,0.11338080279529095,0.18946890393272042,-0.10896733589470387,-0.20773925562389195,0.021066132932901382,-0.13099957443773746,0.036783333867788315,0.055621434235945344,-0.01192703377455473,-0.09422924369573593,0.030073879985138774,-0.06755740754306316,0.09804599173367023,0.038697803393006325,-0.06814487278461456,0.14275838807225227,-0.008711735717952251,0.11015887603571173,-0.05813280213624239,-0.23433946073055267,0.15495995471792412,-0.026753532700240612,0.04463621787726879,-0.0795058305375278,-0.037297774106264114,0.08869215613231063,0.11593896150588989,-0.049112049862742424,-0.053809629753232,0.2214905507862568,0.06687058042734861,-0.03131849621422589,0.043977745808660984,0.07387280568946153,0.006458692252635956,-0.0071333590894937515,0.01165004656650126,-0.04039829969406128,0.09605182334780693,-0.07802689354866743,0.062220895662903786,0.09806266147643328,0.05846753250807524,0.05961324740201235,0.025803379714488983,-0.11853231393615715,0.11070081312209368,-0.137156622717157,-0.03832335094921291,0.1156056101899594,-0.06403148197568953,-0.010328574571758509,-0.1430422831326723,-0.014806602499447763,0.023203441174700856,-0.03599709423724562,0.11381576536223292,0.04908583406358957,-0.012427256791852415,-0.006624973379075527,0.015042589511722326,0.09689714922569692,-0.006468048319220543,-0.03152243886142969,0.07330837775953114,-0.13410106394439936,0.07132689282298088,0.1476391712203622,-0.16520166164264083,0.07360488828271627,0.11978407623246312,-0.010546551318839192,-0.07077544275671244,0.014026544522494078,0.04663621122017503,0.15787106566131115,-0.01882698992267251,0.008888157783076167,-0.011808339972048998,0.004980500554665923,-0.17280295211821795,0.0043346774764359,0.12470404803752899,-0.15959393605589867,0.03293791750911623,0.04889823071425781,-0.12424397747963667,-0.08115089312195778,-0.1751862745732069,-0.1825022641569376,0.15342525392770767,0.07564796507358551,-0.11991820926778018,-0.14703885652124882,0.22862591408193111,0.11195394821697846,-0.03939080983400345,0.10884531773626804,0.06103412667289376,0.035560941556468606,0.007809099741280079,0.041595994494855404,-0.016407456016168,0.03918382455594838,-0.04063846915960312,0.07736826164182276,-0.029364371672272682,0.04210396111011505,0.011879852507263422,-0.13840573179186322,-0.00854568462818861,-0.20128275826573372,-0.17224708700086921,0.010858805384486914,0.133029839489609,0.015877051278948784,-0.10939935687929392,-0.06615614495240152,0.13924854947254062,0.06236441223882139,0.05157181527465582,0.1242390712723136,-0.06788230687379837,-0.19918703101575375,-0.08198911277577281,-0.13311218935996294,0.04299800284206867,0.037608787417411804,0.07100140117108822,0.004846361465752125,-0.0267226486466825,-0.02667982690036297,0.07936645857989788,-0.011352987377904356,-0.05543728917837143,-0.057927447371184826,6.016263505443931E-4,-0.05187754239886999,-0.07663208711892366,-0.002942916937172413,0.007488790426577907,0.025787361431866884,-0.03742535691708326,-0.01406725775450468,-0.16185701824724674,0.06953914021141827,-0.12174831936135888,-0.01125357230193913,0.07188161555677652,-0.1644418817013502,0.004155640956014395,-0.008710181340575218,-0.11740002920851111,-0.13564519118517637,0.04588599829003215,-0.09618656849488616,0.051800062879920006,0.0018058456480503082,-0.028246749890968204,-0.16581359086558223,0.10981511021964252,-0.09486451698467135,0.1209554667584598,0.0766125803347677,0.07880421122536063,-0.14092751126736403,-0.13200438767671585,-0.021920357830822468,0.08370471629314125,-0.04506605118513107,0.08904941752552986,-0.17106066457927227,0.0815436807461083,0.13118335511535406]                            |\n",
      "|6F856150-3251-11E8-ADD4-480FCF5217B3|CALLE   |SAN JUAN                    |21   |35010 |Haría     |CALLE SAN JUAN 21 HARIA                    |[calle, san, juan, 21, haria]                       |[0.12776792626827957,0.014693582057952882,0.03876844868063927,-0.03244711272418499,-0.03410119153559208,-0.07019866984337568,-0.05486955344676972,-0.1691601760685444,-0.02093477323651314,0.07805658876895905,0.1592077315784991,-0.13774140998721124,0.09894698490097653,0.03360746689140797,0.112741931155324,-0.08269067406654358,0.005664353072643281,0.13199500516057014,-0.07261629924178124,-0.0895588542916812,-0.05207327250391245,0.09986251294612886,0.026283366419374943,-0.07440213263034821,0.09086548686027528,0.009506935067474843,0.0066169375553727155,-0.060518867895007135,0.01690085120499134,0.029430597275495532,0.11748370435088873,-0.14483907325193288,-0.06799390390515328,-0.05992246153764427,0.029880157375009733,0.07364535443484783,-0.003428754583001137,0.05356615372002125,-0.02862528618425131,-0.1424645245075226,-0.04503562897443772,0.12769433110952377,-0.009976518154144288,-0.01091997791081667,-0.08872184306383134,-0.009436045959591867,-0.006200164020992816,0.11731226406991482,0.1288780987262726,0.24960689544677736,-0.12767665609717369,0.06238789409399033,0.2113652065396309,0.05530886016786099,0.058719155658036475,-0.03401531158015132,-0.10175006333738566,0.25283522568643096,-0.021709392964839938,-0.10335827507078649,0.08225023970007897,0.034278076607733965,-0.13128914535045624,-0.08101098462939263,-0.05503101795911789,0.02082645148038864,0.12132070660591127,0.11001849621534349,0.01660554148256779,0.04389065653085709,0.05755876377224922,-0.04706421568989754,0.031023094058036806,-0.039080195128917694,0.03232841491699219,-0.06220192946493626,0.07428740561008454,0.018782568350434306,0.039002504944801335,-0.07955748112872243,0.05634529106318951,-0.01747807376086712,-0.002352423593401909,0.00918665286153555,-0.08793479353189469,0.011664175987243654,0.06981859803199768,0.050748792663216594,-0.022673631459474566,-0.08278939151205122,0.07089918218553067,-0.10523866415023804,0.18113175928592684,-0.15076782889664175,-0.16073048636317255,-0.04821538105607033,-0.014585169963538647,0.04860795644344762,-0.10984488688409329,-0.032963976579412704,0.02333447877317667,-0.12024937979876996,0.020869343727827075,0.08641681596636773,0.21196726709604263,-0.1359991744160652,0.055896504223346716,0.05190387964248658,-0.05855366718024016,0.0435799390077591,0.07195394332520665,-0.03961556849535555,0.1270653858780861,0.02341299243271351,-0.016394807770848275,0.0398005485534668,-0.14258559346199037,0.04150677435100079,-0.05091630481183529,-0.042275080987019466,-0.12156376913189888,0.050506559759378435,0.040947798267006875,0.13128681499511005,-0.1888371776789427,-0.05145034492015839,0.21306408867239954,-0.032996932789683346,-0.0777650360018015,-0.03499617781490088,-0.05077457502484322,-0.13688506036996842,0.1537328537553549,-0.06443361341953278,0.03369514793157578,0.004381779581308365,0.030743829905986786,0.07754751145839692,0.13515199422836305,-0.004423132166266441,0.04164916900917888,-0.01759650856256485,-0.03572521135210991,0.12254139519063756,-0.06896462589502335,-0.25344722121953966,0.17653796108497774,0.023987295478582384,0.07646292299032212,-0.11771624684333802,-0.006045182794332505,-0.06131021566689015,-0.11354783177375793,-0.12995418906211853,0.03317294791340828,0.13026093244552614,0.14482276663184165,-0.004535860568284989,-0.008730680495500565,-0.12122952630743385,-0.0769864559173584,-0.02956761717796326,0.05749081540852785,-0.05084276227280498,-0.0034588389098644257,-0.008372784592211246,0.10649014860391617,-4.479911178350449E-4,-0.031765283271670344,0.09314933642745019,-0.05064652599394322,-0.019036455266177657,-0.023600011318922046,0.01743719819933176,0.2092619113624096,-0.04452664721757174,0.001466348208487034,-0.022909652814269068,-0.21488730609416962,0.08959232913330198,-0.08162390943616629,-0.02076939782127738,0.07203822657465934,0.05369133912026883,-0.050060183834284545,-0.010083703882992269,0.11444260515272618,0.003246233239769936,0.1345994971692562,0.02008028291165829,0.020062343776226045,0.07951055020093918,0.0712548740208149,0.10035047763958574,0.1709233582019806,0.05045170523226261,0.16859759576618671,-0.06633225921541452,0.024485185369849206,0.06996869184076786,-0.12047749608755112,-0.08200946226716042,-0.09383778721094133,-0.05844891555607319,0.0038569729775190355,0.04863701164722443,-0.10358899384737015,-0.008018359541893005,0.1464382840320468,-0.04334285482764244,0.12645396115258337,-0.0019493041560053827,0.06909930035471916,-0.11272962093353273,-0.0332928977906704,-0.03315030373632908,0.13909849226474763,0.13346254602074623,-0.11041595079004765,-0.2808201238512993,0.0670371800661087,0.11027705003507436,0.06605927958153189,0.12731544822454452,0.08755859676748515,-0.0418425289914012,-0.09334847629070282,-0.037842956185340886,0.007716860063374043,0.03125632130540908,0.06257623098790646,-0.027209036424756052,-0.09338937513530254,-0.20274897292256355,0.23599274288862945,0.003915518522262573,0.04466229272074998,-0.06637251675128937,-0.0654081235639751,-0.027886854112148286,0.03550224862992764,0.04394947588443757,-0.15537117756903174,-0.029653584212064744,0.11545616388320923,-0.23339031245559455,-0.03438539952039719,0.11017446890473366,-0.09920992329716682,-0.020286541990935804,0.07205926273018122,0.007109306566417218,-0.08188136722892524,0.11862029395997525,0.15205056834965947,-0.046391591802239424,0.053251988254487514,-0.041697151213884356,0.014432907104492188,-0.07715316889807583,0.11897329539060593,-0.10953886508941652,-0.06910850899294019,0.0205888818949461,0.010665066447108984,0.1727960780262947,-0.007810957496985793,-0.06297170259058475,0.030361870164051653,-0.048444540798664094,-0.22412498444318774,0.07151287868618965,0.04734805561602116,-0.05388396084308625,0.014368177484720947,-0.13821126595139505,0.06783024519681931,-0.0169266976416111,8.037043502554298E-4,-0.11996203812304884,0.1187552485615015,0.07973958104848862,-0.07718000188469887,0.041786652803421025,0.02108773961663246,-0.0633902009576559,0.3193221343681216,-0.10981637462973595,0.16233513206243516,-0.09594690632075072,-0.013001663237810136,-0.042645089827783526,-0.09525435380637647,0.03703901022672653,0.07797749862074853,0.06528598666191102,0.10472247488796711,-0.06360771656036378,0.005306139215826989,0.10843530092388393]                                    |\n",
      "|4820E9E1-8321-11EA-8991-9109B330B472|LUGAR   |ASOMADITA                   |20   |35001 |Agaete    |LUGAR ASOMADITA 20 AGAETE                  |[lugar, asomadita, 20, agaete]                      |[0.1395106054842472,-0.08073381334543228,-0.06414430029690266,-0.00680018903221935,0.11590452096424997,0.0018417963283354766,0.08141930680721998,-0.04690229520201683,-6.031924858689308E-4,-0.04060969571582973,0.06286790835292777,-0.08646452100947499,0.06766563281416893,-0.05573214776813984,0.018800769466906786,0.07412176858633757,-0.0875157667323947,0.1264670304954052,-0.00379145797342062,-0.09831696189939976,0.02838206780143082,0.10586343193426728,-0.10123877227306366,0.03321328177116811,0.06498002144508064,0.03784926619846374,0.06191188283264637,0.06895668432116508,-0.11005803849548101,0.025556237902492285,-0.15982864727266133,-0.146151227876544,0.039470782154239714,0.17546452209353447,0.029841119423508644,0.10295329242944717,-0.026664542936487123,-0.018207418266683817,0.07851447630673647,-0.22599464841187,0.09257188718765974,-0.0180137250572443,0.07563491037581116,-0.06884099554736167,-0.13366003148257732,0.16282966081053019,0.08974763564765453,-0.09715449553914368,0.054281004006043077,0.15098250843584538,-0.1224469831213355,-0.0725187212228775,0.05362322460860014,-0.02194825792685151,0.09606265090405941,-0.052328445948660374,3.9619876770302653E-4,0.1333309579640627,-0.08538534864783287,-0.059925650246441364,0.06778857670724392,0.019577082712203264,-0.05575776658952236,0.04995743092149496,0.03256999162840657,-0.013166694436222315,0.13977932929992676,0.11625694297254086,0.05322507442906499,-0.12424629554152489,-0.056025518220849335,-0.14062310848385096,0.10778791271150112,0.2089840597473085,0.019178681541234255,-0.07607835158705711,-0.02108318777754903,0.06302625965327024,-0.024715129286050797,-2.8586946427822113E-4,-0.09004360483959317,-0.10208565462380648,0.04508237633854151,-0.013494569342583418,-0.02705624932423234,3.731492906808853E-4,-0.002320094034075737,0.012876357417553663,-0.044748021638952196,-0.051367339212447405,-0.059950018767267466,-0.07700239727273583,0.11617291322909296,-0.11233916878700256,-0.12142482143826783,-0.008575864136219025,-0.12494524079374969,-0.09176073782145977,-0.10650855163112283,-0.041909081395715475,0.07628358621150255,0.14468569052405655,0.11799722909927368,0.09369391016662121,0.20105383545160294,-0.11972368881106377,-0.0475028429646045,-0.024021712131798267,-0.08372792054433376,-0.11421211063861847,0.03643410354561638,-0.03961387765593827,-0.01780660985969007,-0.03866938501596451,-0.09142378345131874,-0.014769952869755798,-0.1422431929386221,0.054453824646770954,-0.10222099162638187,-0.1626906469464302,-0.14000421174569055,-0.006987274158746004,0.2033623494207859,0.18153898417949677,-0.06879657634999603,-0.09827633388340473,0.10774015402421355,0.1209567787591368,-0.038314351288136095,-0.10046556917950511,0.005303017795085907,-0.06916499324142933,0.010669234674423933,0.10256868315627798,-0.04186209919862449,-0.06426665931940079,-0.005571223795413971,-0.007291111629456282,0.08424004539847374,-0.047599753364920616,-0.0174893606454134,0.07024439156521112,-1.9527599215507507E-4,0.07929080072790384,-0.02603267040103674,-0.12131553479412105,0.08560314774513245,-0.020567319355905056,0.04989529028534889,0.015033597592264414,-0.012794461566954851,0.14672858314588666,0.10910798888653517,-0.08723070379346609,0.11539904586970806,0.12187233194708824,0.12433740543201566,-0.006954646203666925,0.034384969621896744,0.10391500778496265,-0.032403649762272835,-0.050639122258871794,0.048095136880874634,-0.17051718197762966,0.1707986369729042,-0.0573816392570734,0.04984410759061575,0.04533740598708391,0.09758305922150612,0.036221791175194085,-0.00235942768631503,-0.08719497499987483,-0.03929333796259016,-0.05801568378228694,0.03780640917830169,0.07341250497847795,-0.08073437819257379,0.005290946923196316,-0.11777485255151987,-0.03822283260524273,-0.027770981192588806,-0.06523625738918781,0.042872269405052066,-0.00433732767123729,-0.053559073712676764,-0.04221476335078478,0.08894957741722465,0.08251875918358564,-0.00907488283701241,0.07762868143618107,0.062110465893056244,-0.11697618826292455,-0.10695857834070921,0.1609947383403778,-0.12989129056222737,0.012466501793824136,0.07629330269992352,0.014046834083274007,-0.048232138447929174,-0.010626955889165401,0.01169932447373867,0.049331678077578545,0.07170071650762111,0.1277252547442913,-0.01571526564657688,0.07669743034057319,-0.15829394292086363,-0.051746759563684464,0.18706662207841873,-0.09661069512367249,0.07706918427720666,-0.009081637428607792,-0.08150194026529789,-0.12213438656181097,-0.14970990642905235,-0.07686043810099363,0.10100132878869772,0.03921262361109257,0.05078795365989208,-0.17850448144599795,0.20799060352146626,0.09188744612038136,-0.02018783800303936,0.10797954723238945,0.03321826699539088,-0.05894179828464985,0.12470273580402136,-0.0080179653596133,0.016839826945215464,0.031159603968262672,0.001181289553642273,0.07956648524850607,-0.10512152500450611,-0.005650052800774574,0.053927518194541335,-0.06494975090026855,0.05744389910250902,-0.130568980704993,-0.09543878771364689,-0.10837347246706486,0.08398129534907639,-0.09943849733099341,-0.12103548645973206,-0.03831050358712673,0.15869880933314562,-0.032670311629772186,0.04430817719548941,0.11875634454190731,-0.08970358222723007,-0.1433027656748891,-0.10510378703474998,-0.04701417312026024,0.05233369045890868,0.02296447823755443,0.09212701488286257,0.11988981114700437,-0.006459434516727924,0.003900468349456787,-0.034816221334040165,0.044705008156597614,-0.010817889124155045,-0.05986437969841063,0.00262468121945858,-0.15104377456009388,-0.06473219289910048,0.05476475693285465,0.0670687654055655,-0.07111204229295254,-0.06261283811181784,-0.08898031990975142,-0.16631248220801353,0.024159781634807587,-0.08153111825231463,-0.01715434854850173,0.052016718313097954,-0.09822323732078075,-0.03690331242978573,0.02975386008620262,-0.07192521542310715,-0.07993665081448853,0.030008630827069283,-0.0841653672978282,0.004086283501237631,0.09991302154958248,-0.022227030247449875,-0.08458467083983123,0.05195367801934481,-0.034482830204069614,0.00605264981277287,-0.046212326269596815,-6.719141383655369E-4,-0.11739547923207283,-0.13514569029211998,-0.0554810359608382,-0.03796195820905268,-0.10020326543599367,0.019825618714094162,-0.15561188757419586,0.12772567372303456,0.08069041837006807]                |\n",
      "|6252A588-3251-11E8-9C18-480FCF5217B3|CALLE   |GRAL FCO GARCIA ESCAMEZ     |87   |35011 |Ingenio   |CALLE GRAL FCO GARCIA ESCAMEZ 87 INGENIO   |[calle, gral, fco, garcia, escamez, 87, ingenio]    |[0.13948174166892255,0.11227741411754062,-0.05220172680648309,0.07939959769802434,0.03001359530857631,-0.04726373563919748,-0.10390620385961873,-0.07226164612386908,-0.01990898572174566,0.03241194624985967,0.0012237989077610628,-0.14843109675816127,-0.11150078312701744,0.06824850832344964,0.007303639747468488,0.10186478814908435,0.04417811520397663,0.03943900963557618,-0.09972442166014973,0.06821465601180014,0.08665146359375545,-0.018739326590938226,0.02998057406927858,-0.04541534717593874,0.09886211715638638,0.008013176598719187,-0.09786261867598763,0.08787399769893714,-0.023351481450455527,0.06491439869361264,-0.0726874071572508,-0.19237787170069556,0.1603531464934349,-0.009780453784125192,0.03822231784995113,0.10551696137658187,0.009604803419538906,0.10490975435823202,0.039402461876826625,-0.04229442994775517,0.022405908443033695,-0.023356193210929632,-0.03838152651275907,-0.04043065716645547,-0.14939585913504871,0.060423518131886206,-0.0821703380539215,0.05819234145539147,0.08419546232159648,0.16547971538134984,-0.06783891788550785,0.036235176026821136,0.050606973602303436,0.03263904792921884,-0.006598224464271749,0.029109408280679157,-0.09023113176226616,0.14684234453099113,-0.022227877884038856,-0.09763451665639877,0.03329404124191829,0.036044619711382044,-0.12771351156490188,-0.09119724562125546,0.03061213286127895,-0.02849602624441364,-0.07766025406973702,0.012545483719025339,0.05505136054541383,-0.03234187460371426,0.0068156156422836435,0.0755600204824337,0.05309984354036194,0.0034708556319986068,-0.023109088518789834,-0.05777440592646599,0.06953600288501807,0.07634542669568743,-0.02170788257249764,0.02310323735166873,0.10442616338176386,1.2872155223573958E-4,0.07990428831960474,-0.02008853693093572,-0.08128085838896887,-0.06847060870911394,0.08549555470900876,0.13072640315762588,0.09292713659150259,0.13863602130939917,0.07128389791718551,-0.16132441269499914,0.11562193078654152,-0.0755353978435908,-0.11506834147231919,0.03562411506261144,0.020619550187672888,0.021915095400929983,-0.011722134160143987,0.021428368586514677,-0.007569569961300917,-0.07620144529002053,0.10624335493360246,0.08477826522929327,0.059580117996249876,-0.14289610939366476,-0.13002943327384334,0.026355119588385732,0.07735781730817896,0.11085832331861768,0.15229976130649447,-0.17689723734344753,0.10218684268849236,-0.23606546755347932,-0.019335402375353233,0.14691833034157753,-0.11850346039448464,-0.1454125964748008,-0.0028016524655478338,0.050630959682166576,-0.14377578173090502,0.06936260552278586,-0.07619813776441982,0.03643623792699405,-0.38894321609820637,-0.017799379037959234,0.17864345652716498,0.1023001843797309,0.07346432602831295,-0.11862902010657957,-0.009918135989989552,-0.00888512478143509,0.009270469258938516,0.014542407755340847,0.1859823146036693,0.11990827960627419,-0.10140181386045047,-0.03398161966885839,0.08510709607175418,-0.09125183017126151,0.08286826239366617,-0.05207630127136196,0.03739592699067933,0.041008863323700746,0.028429377291883738,0.010963974254471915,0.04074462103432909,0.06272264431962477,0.11243576928973198,-0.06972838139959743,0.15705847899828637,-0.03047246961588306,0.13525537640920707,0.001471689237015588,0.013130527388836655,0.053449716951165877,-0.009285229657377514,0.14134464279881545,0.062407811180621914,-0.1463686519834612,0.012770668744841323,-0.1884468240397317,0.16119665120329174,-0.3377735087914126,-0.038466568504061015,0.11578038574329444,0.027532430099589483,0.16502269254332141,0.127665546523141,0.09920008686770285,0.09276284493639,-0.05879662062839738,-0.12999441288411617,-0.030311368272772855,0.26377616450190544,0.1031807231483981,-0.1338197933509946,0.0342395401426724,-0.07971029090029852,0.061241781405572376,0.08911990573895828,0.07217589825657861,0.005371183689151491,-0.0046686287969350815,0.012712175093059028,-0.1414066090115479,-0.05896414696638073,-0.020843251475266045,0.12694175355136395,-0.09227675199508667,0.005283167053546224,0.09182850377900259,-0.012226306567234651,0.07809105111352567,0.07432962421860013,0.14890834369829722,0.02519530936011246,-0.05513087884589497,-0.006478501217705862,0.06689763907343149,0.0073870377881186345,-0.016457181091287305,-0.022609136333423,0.13964165308113607,-0.06895815448037215,0.03700467864317553,-0.04898516541080815,-0.06675960256585052,0.052747265568801334,0.025864301515477042,0.24930958589538932,0.12967318296432495,-0.08088123106530734,-0.08206318318843842,-0.0515871239559991,0.08476657593356711,0.09478877125574009,0.0787329732307366,0.042632145807147026,-0.10463956796697207,0.20298024799142564,0.11585101249095583,0.003577048225062234,0.11129764653742313,-0.033688586205244064,-0.030325392926377908,-0.0489506172016263,0.16761733378682817,0.003400670763637338,-0.014681196638516017,-0.0028939597707773957,-0.26799830900771276,-0.17939800875527517,-0.13618854247033596,0.06861892023256846,-0.209473866969347,0.13589172012039594,-0.0816141130136592,0.07057565909677317,0.1315486981932606,0.10492042744798319,-0.07649932821680393,0.004656462264912469,-0.014557112540517534,0.11433995781200272,-0.018937916228813783,0.027020834918533052,0.1190114463014262,-0.05899405958397048,-0.12143927333610398,-0.05873768952941256,-0.17201121297797986,-0.10940557066351175,0.029159288321222575,0.15585209269608769,0.06237676101071494,0.17167957858847718,-0.08656828917030777,0.040484502113291194,0.08648492683589991,0.24812265219432966,-0.10095118438558918,-0.06462776867140617,-0.03376627740051065,0.02411772896136556,0.052966121051992686,-0.06441649784600095,-0.05762370709063751,-0.15472681926829474,0.1255797389894724,0.02944159547665289,-0.04242909194103309,-0.1670394553137677,0.038651770646018636,-0.016302742063999176,-0.054711188322731426,0.0665418272172766,-0.05616037254886967,0.1689698515193803,0.0436748509694423,0.07641136566443102,-0.013122332947594777,-0.030901358595916202,0.10074689951060073,0.061202529418681345,0.07086130577538695,0.2701980981177517,0.06467940099537373,0.13461737973349433,0.045868598856031895,0.18543544691056013,-0.07413858882085021,-0.10713602682309491,-0.04562354673232351,-3.9067864418029785E-4,0.11079614459803061,-0.016301164137465612,-0.05093811292733465,-0.009025546855160167,0.0076548590191773]                                              |\n",
      "|755456EE-3251-11E8-BF8F-480FCF5217B3|CALLEJON|NASAS                       |13   |35012 |Mogán     |CALLEJON NASAS 13 MOGAN                    |[callejon, nasas, 13, mogan]                        |[-0.058952984400093555,-0.1188181359320879,-0.052255396731197834,-0.07705748174339533,0.10275682201609015,-0.08647248521447182,-0.13702686422038823,-0.10167925618588924,-0.06369159370660782,-0.016580349765717983,-0.04724230896681547,0.08241064386675134,-0.020865135360509157,0.04961833916604519,-0.015094487927854061,0.025473004207015038,0.0022906791418790817,0.09040711401030421,-0.056273278780281544,-0.0293790262658149,0.011921692173928022,0.06508687359746546,0.0700442492379807,-0.1093899286352098,-0.022652060724794865,-0.16069448366761208,0.0029096323996782303,0.07297090068459511,0.05108041130006313,0.01953408820554614,-0.02706432342529297,-0.20250620879232883,-0.006713792681694031,-0.057090878020972013,0.07378234108909965,0.017978969030082226,-0.0052473642863333225,-0.039665256859734654,-0.022696646803524345,-0.08998281857930124,-0.05934170540422201,0.009573808871209621,0.08278699847869575,-0.13044066727161407,0.05626930820289999,0.0611168104223907,-0.04753059078939259,-0.06845411192625761,0.04106835660059005,0.08844438567757607,-0.00596232246607542,-0.010590946301817894,0.0576278492808342,0.07512637041509151,0.13859593961387873,-0.011649093590676785,-0.12909272033721209,0.173744794446975,-0.09766848385334015,-0.07915856689214706,0.03687443304806948,-0.039215378055814654,0.017457864247262478,0.024981686496175826,-0.027699696831405163,-0.04494241304928437,0.1531788818538189,-0.014520864933729172,0.05933720292523503,-0.03595741372555494,0.01293949838145636,-0.2773286420851946,0.014322665520012379,0.01385036323335953,-0.018021598923951387,0.004162332974374294,-0.023621338419616222,-0.010452724440256134,0.025784984230995178,-0.044679547660052776,-0.007903300342150033,0.06724814046174288,-0.05752795608714223,-0.03991204802878201,-0.05409583169966936,0.0033134943805634975,-0.005316645139828324,0.02253017807379365,-0.01207865180913359,0.02865547128021717,0.04825491273368243,-0.08901995234191418,0.04176375374663621,-0.06300592888146639,-0.061357368249446154,-0.0804750679526478,-0.2226579561829567,-0.018379605375230312,-0.21449536457657814,-0.16177928500110283,0.012855266220867634,-0.10987948905676603,0.07397563755512238,0.11753655783832073,0.10444321855902672,-0.08000063896179199,5.31535129994154E-4,0.1335892933420837,-0.03803583374246955,-0.04389401711523533,0.08032063208520412,-0.07729776203632355,0.07784077152609825,-0.031115860678255558,-0.10247242636978626,-0.06367511954158545,-0.12760294834151864,-0.016952537931501865,0.03158623166382313,0.0015370426699519157,-0.13431420270353556,-0.03884939267300069,0.044525540666654706,0.12908169999718666,-0.03782847709953785,0.06415316928178072,0.10030573513358831,0.08909349143505096,0.0037755091907456517,-0.08309865510091186,-0.03560889163054526,-0.10803205519914627,-0.10460795974358916,0.007287901942618191,-0.1380705162882805,0.06361712701618671,-0.0628135995939374,0.031795207876712084,0.06371958181262016,-0.022961045615375042,0.030792266596108675,-0.09050799952819943,0.09165533073246479,0.06634434778243303,-0.07434281939640641,-0.18733485549455509,0.1886107726022601,-0.012861717958003283,0.006366916000843048,-0.09571444476023316,0.07031819224357605,0.0359033583663404,-0.008267220109701157,-0.024280076031573117,-0.005332794971764088,0.11820066533982754,0.14152952749282122,0.02695375558687374,0.0180750023573637,-0.029764084320049733,0.04348859889432788,0.04543328261934221,0.08931882167235017,-0.10338150546886027,-0.014203839004039764,-0.04476064117625356,0.09480853844434023,0.018294764508027583,0.06456691399216652,0.16705403476953506,-0.02333339862525463,0.01217455678852275,-0.08764039352536201,-0.04303143685683608,0.10012188774999231,0.06350566819310188,-0.07695845142006874,0.058390230871737,-0.08895132225006819,0.08693953976035118,0.08554843906313181,0.09722527209669352,0.08081169915385544,0.0103282006457448,-0.07514848094433546,-0.22966686636209488,0.021373504772782326,0.11866814270615578,0.059223213233053684,-0.03967693354934454,-0.09575699642300606,-0.04721150081604719,-0.04096689051948488,0.12780660821590573,-0.09424321260303259,0.05210608663037419,0.04901075270026922,-0.08359084080439061,-0.07479077391326427,0.022533301264047623,0.0863522281870246,0.0863476237282157,0.15366204641759396,0.03303991979919374,-0.020790357142686844,0.17240190668962896,0.008575734682381153,-0.04802981577813625,0.021522990631638095,0.08517011953517795,0.15413286536931992,0.08166798087768257,-0.11848363443277776,-0.1500345692038536,-0.05169206392019987,0.0251969862729311,0.15079755242913961,0.023040660191327333,-0.043841680977493525,-0.1120842881500721,0.05413563922047615,-0.007225292501971126,0.12783883255906403,0.12749693728983402,0.008364860899746418,0.004281847737729549,-0.009661115473136306,-0.049292711075395346,-0.010639435986377066,-0.051875670440495014,0.028079919517040253,-0.01735816802829504,-0.05039963126182556,-0.008232608437538147,0.12806518701836467,-0.03619144158437848,-0.01588350022211671,-0.0041995421051979065,-0.1087482962757349,-0.009573106071911752,-0.04793236218392849,0.026480847969651222,-0.037991538643836975,-0.022755868169042515,0.010516464710235596,-0.12800586177036166,-0.08481032587587833,0.16946761310100555,-0.010426457534777,-0.11401098780333996,0.019384517101570964,-0.03352146013639867,-0.0491377180442214,0.09084211173467338,0.15006370563060045,-0.04704075349945924,0.08837015647441149,-0.026661335490643978,-0.07213603146374226,0.07809747150167823,-0.003929475322365761,-0.16241717617958784,-0.04883981542661786,-0.11835691798478365,0.07966562430374324,0.005924466997385025,-0.056586378486827016,-0.1033472316339612,0.010288866236805916,-0.07144366228021681,-0.10576628893613815,-0.009236566722393036,0.18044015625491738,-0.017048517242074013,6.246864795684814E-4,-0.073850286193192,0.03785189054906368,-0.01741351035889238,0.04199120122939348,-0.050267649814486504,0.11539351334795356,-0.10033953282982111,-0.07241330854594707,0.03368755057454109,-0.06249646982178092,-0.045489280950278044,0.12832161039113998,-0.07284516654908657,-0.005164379828784149,-0.03571568615734577,0.049942392855882645,-0.011843455955386162,-0.14716809549281606,-0.15331714134663343,0.07847322709858418,-7.714699022471905E-4,0.025307724718004465,-0.1519261011853814,-0.017861642700154334,0.033862868789583445]|\n",
      "|5FA8659A-3251-11E8-95F7-480FCF5217B3|CALLE   |MARINA                      |19   |35010 |Haría     |CALLE MARINA 19 HARIA                      |[calle, marina, 19, haria]                          |[0.1635866705328226,0.1313976738601923,-0.11092816200107336,-0.08525600144639611,0.04239027574658394,-0.1357157181482762,-0.12291310913860798,-0.1251013344153762,-0.0508304201066494,-0.035385143011808395,0.1288479951908812,-0.07602674560621381,0.09301142399999662,-0.025268832687288523,0.11062007769942284,-0.08788595162332058,-0.0388356689363718,-0.027054940350353718,-0.09314671624451876,-0.09419696959957946,-0.0353238012176007,0.04608678072690964,-0.017131958389654756,-0.08296002075076103,0.08428200427442789,0.04531973414123058,0.11717590061016381,0.07121966918930411,-0.015197335742413998,0.07157822186127305,0.025527017191052437,-0.1564168743789196,0.055006368085742,-0.08199458522722125,0.07984273508191109,0.05048350477591157,-0.01895966473966837,-0.03570360969752073,-0.06546648615039885,-0.10930552694480866,-0.08252402395009995,-0.09383224882185459,-0.052583811804652214,-0.11017043516039848,-0.0852648401632905,0.1420207042247057,-1.2503404286690056E-4,0.020601862110197544,0.09956212918041274,0.2513502463698387,0.014981904067099094,0.04213458625599742,0.16291694529354572,-0.02052984945476055,0.1728499906603247,0.04654861625749618,-0.10431774146854877,0.15063712326809764,-0.057577905245125294,-0.03929590526968241,-0.04833084112033248,-0.06538581568747759,-0.03560999222099781,0.07185390806989744,-0.08282388560473919,-0.09946030122227967,0.13345268182456493,0.08234484773129225,-0.02760678855702281,-0.25450727716088295,0.02487229893449694,-0.14608830586075783,-0.06039683986455202,0.013153191888704896,0.048661292530596256,-0.05076872743666172,-0.03576953077572398,0.027710435446351767,0.04857396520674229,-0.050357448984868824,0.05183929996564984,0.065432945266366,-0.054231102352787275,-0.022435047896578908,-0.11383369006216526,0.057140810415148735,0.09954614378511906,0.1523738568648696,-0.06789433024823666,-0.0356270843767561,0.10206818114966154,-0.08287965785712004,0.09802731312811375,-0.053404222868266515,-0.04109290521591902,-0.11379625555127859,-0.05261005787178874,0.032270638053887524,-0.08421002747491002,-0.18581107584759593,0.06412754324264824,-0.03568736230954528,-0.07250083796679974,0.09323569713160396,0.09021873865276575,-0.07997385133057833,0.08701119432225823,-0.0599247720092535,0.03458781260997057,0.09612517344066873,0.02606537810061127,-0.05309127547661774,0.1164722815155983,-0.002000045031309128,0.0068283528089523315,0.12445873115211725,-0.1160706877708435,0.04422716377303004,-0.1331152142956853,0.033125204616226256,-0.13854762073606253,-0.061877657688455656,0.08894541906192899,0.16355964122340083,-0.06384095083922148,0.10968495905399323,0.09488312248140574,0.03495671646669507,-0.12764981854707003,-0.0730911478458438,0.01156384451314807,-0.06470183096826077,-0.05464997608214617,-0.1608759246300906,-0.030149209313094616,-0.06350673409178853,-0.13546327780932188,0.045885337865911424,0.13379433751106262,0.030353141948580742,0.051337990909814835,-0.024116351269185543,-0.028384900651872158,0.09979688200110104,0.027694357559084892,-0.30985070671886206,0.18357844876663876,-0.05946489004418254,0.15887261740863323,-0.15425842721015215,1.7317011952400208E-5,0.011126213008537889,-0.07534205471165478,-0.10877477237954736,-0.014115281170234084,0.11815422074869275,0.16612176690250635,-0.11631962936371565,-0.05719360243529081,-0.10493910207878798,-0.033174834214150906,0.017124363221228123,8.791259024292231E-4,-0.04332558251917362,0.07110923528671265,0.010853886604309082,0.11239705327898264,-0.02907893806695938,-0.10053735878318548,0.019115622737444937,-0.026658221147954464,-0.04926499351859093,0.0074722785502672195,-0.0018340975511819124,0.16299860086292028,-0.030072772642597556,0.07188336015678942,0.008978407247923315,-0.19615042954683304,0.05216748418752104,-0.07434750231914222,0.013409095001406968,0.03313761483877897,0.11706731654703617,0.10194881330244243,-0.031185569241642952,0.13852566108107567,-0.02491906937211752,0.1793423369526863,0.012864631600677967,0.017456794157624245,0.03161717229522765,0.1298522613942623,0.07588668318931013,0.11477192118763924,0.05016517732292414,0.08384028356522322,-0.06395940738730133,0.010873666033148766,-0.010923536028712988,-0.06970292190089822,0.008699777114998142,0.10221731383353472,-0.015908480854704976,0.03871257184073329,-0.005503988824784756,-0.1134707136079669,-0.11053057853132486,0.19724306091666222,-0.05906331539154053,-0.020962369977496564,0.07224006456090137,0.05224342551082373,-0.07520000729709864,-0.04388250131160021,-0.03834322839975357,0.09242666698992252,0.09093219507485628,0.00675926124677062,-0.09843399049714208,0.07803340628743172,0.1363708233111538,0.10701769962906837,0.025938651524484158,0.07863578340038657,-0.1105876190122217,-0.07260183803737164,-0.04991497844457626,-0.01209715916775167,0.1255392602761276,0.03215978108346462,-0.059548994060605764,-0.16382061131298542,-0.24797744862735271,0.3265876714140177,-0.0405676937662065,0.09196896478533745,-0.12643888965249062,-0.07071899843867868,-0.03979408787563443,-0.10081177717074752,0.0617215521633625,-0.16291653469670564,-2.8760265558958054E-4,0.05701814405620098,-0.07147716800682247,0.03173576481640339,0.3062191503122449,-0.13008155580610037,-0.13944285083562136,0.05727529898285866,0.05035240761935711,-0.06284623616375029,0.0946147982031107,0.08281122148036957,-0.06257936172187328,0.13932188274338841,-0.10612650867551565,0.006692877039313316,-0.06753173528704792,0.02368645602837205,-0.12070590071380138,-0.06145079305861145,-0.08400511927902699,0.042214190601953305,0.17276044376194477,0.09487768559483811,-0.12249917117878795,0.001821909099817276,-0.0902151083573699,-0.29121669568121433,0.03096891939640045,0.006224612705409527,-0.061982555547729135,0.026979293674230576,-0.120825856924057,0.15910729579627514,0.08612523134797812,-0.12473281566053629,-0.07176205236464739,0.0668479916639626,-0.0642879381775856,-0.02682271972298622,0.09972699545323849,-0.05001439223997295,0.10588818462565541,0.23857401660643518,-0.0789541369304061,0.11083363322541118,-0.228944435948506,-0.016880817711353302,-0.02252890821546316,-0.08518792828544974,0.06716385297477245,0.09056797879748046,0.04125348245725036,0.11523434286937118,-0.027481095865368843,-0.0058936376590281725,0.10300282808020711]                                                 |\n",
      "|3544B0F4-7449-11EB-8771-6F70BC935088|CALLE   |JORDAN                      |0    |35009 |Gáldar    |CALLE JORDAN 0 GALDAR                      |[calle, jordan, 0, galdar]                          |[-0.04141723667271435,-0.026494973339140415,-0.22006878070533276,0.14297898532822728,0.002869095653295517,0.004524776712059975,-0.1142181633040309,-0.029789509251713753,-0.03647370915859938,0.036081272177398205,0.017090712673962116,-0.20010815933346748,-0.044344532248942414,-0.17387997964397073,-0.0345101673156023,0.09703215188346803,-0.029715033248066902,-0.06007759086787701,-0.03853505291044712,-0.05210875994816888,-0.12082476634532213,-0.0824240380898118,-0.10819046385586262,0.048960055224597454,0.05201757652685046,0.07419361732900143,0.0018795498181134462,0.013382554054260254,-0.022261389531195164,0.06454900372773409,0.0050196414813399315,-0.17053181678056717,-0.05115325003862381,-0.2263838411308825,0.06321053020656109,-0.060033219400793314,0.0072479089722037315,-0.009185956558212638,-0.030929642030969262,-0.1722976304590702,0.03522565774619579,0.0014348786789923906,0.17237997241318226,0.05824366491287947,-0.07155231910292059,0.08478182554244995,-0.011007031687768176,0.0833477508276701,-0.021958820521831512,0.17309517413377762,-0.12113240268081427,-0.017321021761745214,0.1370387002825737,0.061538293957710266,0.10269301850348711,-0.09278842760249972,0.06781521067023277,0.058108658995479345,0.03835928812623024,0.05418664589524269,0.07935833930969238,0.22387068159878254,-0.07114587957039475,-0.015311779687181115,-0.13297468377277255,-0.053571999073028564,0.0686287241987884,-0.012971953488886356,0.058228996116667986,0.09631264302879572,-0.07502862997353077,0.006064562126994133,0.09708710014820099,-0.05794815346598625,-0.1499480775091797,-0.052161095198243856,0.047976600006222725,0.1178456824272871,-0.06530741089954972,0.03218052431475371,-0.023579292465001345,-0.05697917565703392,-7.28321261703968E-4,-0.257080185925588,-0.11227381601929665,-0.05643991380929947,-0.09605749696493149,-0.038407433312386274,0.09252470079809427,-0.05299350927816704,-0.031871577724814415,-0.06473155412822962,0.09594752872362733,0.009724544361233711,-0.22381755895912647,0.07832635333761573,-0.005432936828583479,-0.07210371059773024,-0.1689386460930109,-0.17830876307561994,0.005509054521098733,-0.0901925372891128,0.14215184329077601,0.06862328946590424,0.2120751067996025,-0.23709129844792187,-0.07670604484155774,-0.034588947892189026,0.013817724422551692,-0.014637679734732956,0.07316133577842265,-0.20210995664820075,0.05086023546755314,-0.08110951958224177,-0.16249217558652163,0.15741259139031172,-0.15352765284478664,0.008993575815111399,0.0056176078505814075,-0.07511072512716055,0.03764235693961382,-0.09964188002049923,0.14001502515748143,0.20111115649342537,-0.35405677277594805,0.02367299166508019,-0.034974753856658936,0.012705293018370867,-0.05146399978548288,-0.016695795813575387,-0.007677930290810764,0.04501239024102688,-0.17484353901818395,0.013448972487822175,-0.12492264341562986,-0.07939279908896424,-0.0303552383556962,0.06116896669846028,0.07197784446179867,-0.09018776938319206,0.01071983389556408,-0.01164185255765915,-0.04830561997368932,0.03165637001802679,0.030844073742628098,-0.19301311671733856,0.06290366912799072,0.13662434834986925,-0.045172978192567825,0.009128108154982328,0.008745407685637474,-0.02157263713888824,0.1845509670674801,-0.006116487551480532,0.031244583427906036,0.0491969408467412,0.07247218489646912,0.03339314367622137,-0.03263943735510111,-0.0019386968342587352,-0.05200552102178335,0.001776337157934904,0.09574292809702456,-0.054999012500047684,0.1546596772968769,-0.04418706335127354,0.04852681700140238,-0.002354077063500881,-0.014264022000133991,-0.08246307913213968,-0.05138401594012976,-0.10558583470992744,-0.05224365368485451,0.05259564961306751,0.23213940486311913,0.12671489105559886,0.07880741194821894,0.041577152675017715,-0.09249215014278889,-0.06838630101992749,-0.07438366278074682,0.0750496267573908,0.1424261098727584,0.05973477382212877,-0.07870175980497152,-0.011481926776468754,0.061110228300094604,0.04554992518387735,4.668768960982561E-4,-0.16363426204770803,0.04787918731744867,0.03427990456111729,0.15348667837679386,0.12366536073386669,0.030150300823152065,-0.08835400454699993,-0.005497386446222663,-0.07996367721352726,0.09594049397855997,-0.08319523697718978,8.422941900789738E-4,0.0338569562882185,-0.1848431695252657,0.02311965893022716,-0.11091426340863109,0.04195890482515097,-0.12056853889953345,-0.08108965493738651,0.08502273913472891,-0.08745229989290237,0.24488374183420092,0.10570045188069344,-0.03931678307708353,0.04807380028069019,-0.0747652892023325,0.006829006597399712,0.009649231564253569,0.13049689959734678,-0.11530211800709367,0.0916013065725565,0.2848821487277746,0.015146213176194578,0.06654427014291286,-0.003414856269955635,0.014663469977676868,0.09150930040050298,0.004579056054353714,0.11050822446122766,-0.015428216895088553,0.08632390201091766,-0.08811204275116324,-0.12073342176154256,-0.09090668149292469,-0.04074539616703987,0.0296701667830348,-0.08821810455992818,-0.15377660561352968,4.3064728379249573E-4,-0.05317160615231842,0.05376922944560647,-0.00754766610043589,0.034278709441423416,-0.04395335400477052,-0.19432182144373655,0.24843774363398552,-0.02751141635235399,-0.21173887886106968,-0.08229960221797228,-0.07376515585929155,-0.18602882511913776,-0.04001113958656788,0.13567481137579307,0.04613327165134251,0.15916403103619814,0.12063419912010431,-0.07948924787342548,0.14428026601672173,-0.04927134094759822,0.04108450748026371,-0.017357759992592037,0.03345342492684722,-0.05836106278002262,-0.02525512466672808,0.004858977161347866,-0.14368620933964849,0.05123182386159897,-0.09829797392012551,-0.0018698940984904766,-0.11686104885302484,-0.05777895683422685,-0.029904110822826624,0.025595190934836864,-0.06632891483604908,-0.0011265904176980257,0.1416133577004075,-0.20543840900063515,-0.08642907720059156,5.695568397641182E-4,0.05949660204350948,-0.0016841515898704529,0.20792298996821046,0.03402420738711953,-0.06140892021358013,0.04997054906561971,0.007327487226575613,-0.009859312922344543,0.13944891886785626,0.006778057664632797,-0.0638182032853365,-0.11624796618707478,0.02386753004975617,-0.12206452246755362,-0.29414629377424717,-0.005955075612291694,-0.02661739755421877,-0.0011898123193532228,0.1480296952649951,-0.09594923246186227,0.013537466060370207,-0.07759392488515005]      |\n",
      "|6C0AF655-3251-11E8-A983-480FCF5217B3|CALLE   |ROGER LAURIA                |105  |35002 |Agüimes   |CALLE ROGER LAURIA 105 AGÜIMES             |[calle, roger, lauria, 105, agüimes]                |[0.03257929049432278,0.12293826788663864,-0.18770822882652283,-0.0052769511938095095,-0.022677696496248248,-0.04447908252477646,-0.200056416541338,-0.05884097144007683,-0.14412632063031197,0.024788258224725725,2.2390931844711305E-4,-0.01363926287740469,-0.07918851147696843,0.009738164022564888,-0.048261909373104574,0.04769851639866829,0.03589320834726095,0.08478962481021882,-0.140245009213686,-0.045698908308986576,-0.022390173748135567,0.10888403654098511,0.1629677563905716,-0.16646670997142793,0.14972580652683973,-0.07900811731815338,-0.1866060545668006,-0.0725906491279602,-0.06928215846419335,-0.10289752334356309,-0.08594324588775636,-0.057740880548954016,-0.005673733539879322,0.0028591886162757877,0.049086529016494754,-0.0702423457056284,0.0927827499806881,0.0738127887248993,0.08134611193090678,0.0031050413846969607,0.06172582805156708,0.10589732229709625,0.07113521862775088,-0.05074299201369286,0.08466387800872327,0.17182341665029527,0.06486241274978966,-0.12411018507555127,-0.06986770909279585,0.002622327953577042,0.03494415357708931,0.06263406127691269,-0.036677812039852146,0.02656850563362241,0.06892559081315995,-0.04746953248977662,-0.11622777655720712,0.22773063965141774,0.012185375764966012,-0.131051804125309,0.02645518518984318,-0.034568071365356445,0.0729532152414322,0.09069628231227399,0.0532063702121377,-0.16735841110348704,0.02925473675131798,0.017443354427814483,-0.03083986081182957,0.02836374845355749,0.04875580593943596,-0.19992246385663748,-0.0075645787641406064,-0.023807725193910303,-0.092819444835186,-0.023206205666065217,-0.075033625587821,-0.012383298575878145,-0.07458788752555848,-0.10440676724538207,0.11096104327589273,0.07808802407234908,-0.08290223628282548,-0.0786259887740016,0.175595660507679,0.026277877483516933,-0.013999062404036523,0.06278824489563704,0.028141656517982484,-0.016472680354490878,-0.05659671314060688,0.01188174467533827,0.056960575841367246,-0.1465717427432537,-0.04777980297803879,0.07910458743572235,-0.07821511700749398,-0.0906946690636687,-0.32970894277095797,-0.09423035420477391,0.04259343091398478,-0.12345966584980489,0.08935297578573227,0.06473166197538376,-0.0546934723854065,0.1009097546339035,0.02457864619791508,0.039177133422344926,0.07684491742402316,-0.015097550302743913,0.14849498504772782,-0.16928785257041457,0.16171548664569857,-0.04549404829740525,-0.006624920479953289,-0.04027571827173233,-0.2601351886987686,0.1082040458539268,-0.16589772179722787,-0.01810597740113735,-0.09051714763045311,0.048190146684646606,-0.021289595589041713,0.1948592394590378,-0.16028795540332796,0.030027920939028264,0.1189680602401495,-0.02284481041133404,0.07047274559736252,0.15367384850978852,0.06653161719441414,-0.05906990207731724,-0.07744888197630645,0.0882855910807848,-0.06727113872766495,-0.12815707176923752,0.09070161357522011,0.044341206550598145,0.15144307017326356,0.05886063501238823,-0.06706606671214103,0.09287168732844293,-0.06646244516596199,0.0018074460211209955,0.30641440451145174,-0.11398607566952706,-0.006796874440624379,0.039102648943662645,0.1648454934358597,0.0678204357624054,-0.11745733469724656,0.08128724545240402,0.011637654900550843,0.01995365917682648,0.16626146882772447,0.026269895490258932,-0.053209842089563614,-0.05908696823753417,0.044590043090283873,0.09608670854941011,0.10544126518070698,-0.23823166191577913,0.05512583944946528,-0.07002775482833386,0.09399457722902299,0.275236476957798,0.04399674162268639,0.03759235888719559,0.08344497382640839,-0.08855640813708306,-0.10425469353795053,0.06935741305351258,0.05335109625011683,0.096373363211751,0.038323397003114226,0.18078495580703022,-0.08933416288346052,-0.0915992084890604,0.0589247246272862,0.05314647415652871,0.02557871751487255,0.05366155663505197,0.08668494671583177,-0.013819262385368347,0.018949320260435346,-0.15312225818634034,0.07515298984944821,-0.10971663724631071,0.0475530419498682,-0.016382102295756342,0.006700840406119824,0.009528344869613648,-0.0037024847231805326,0.07545435652136803,0.07251567104831338,0.14943718314170837,0.052848662622272974,-0.03073042463511229,0.1457517199218273,-0.011615368351340295,0.0012796005234122277,-0.010049596428871155,0.10964224971830845,-0.03171005323529243,-0.16890376545488836,-0.06624670773744583,-0.13236953662708403,-0.10167230293154716,0.04971146360039711,0.035118309408426286,0.1328177151270211,0.17912178784608843,-0.15388760352507236,-0.11591264456510544,-0.20965513288974763,0.011710937693715097,0.1537789035588503,-0.025493218377232552,-0.13167484290897846,-0.05856202524155379,0.22562600225210191,0.09297672403044999,-0.026287472248077395,-0.0791351423598826,0.04292101170867682,-0.19016810562461617,0.17928223684430122,-0.1664748378098011,0.049968926794826986,0.09893255457282067,0.10804020762443543,-0.17744884230196478,-0.03923179339617491,-0.22698194682598116,0.056603547744452955,-0.07737645097076894,-0.18130157813429834,-0.06893115863204002,-0.11914836270734669,0.11890304405242205,0.06631064079701901,-0.031461682915687565,-0.027775418711826205,-0.21305041797459126,0.08523903973400593,-0.09998649265617132,0.06406503319740296,0.05440468648448587,-0.06348397359251977,0.08835263401269913,-0.06668121367692947,0.06041066646575928,-0.003370742686092854,0.04753646850585938,0.17946626991033554,-0.05768736563622952,0.004631675034761429,-0.035202860832214355,0.09423930570483208,0.08886442281072959,0.12265013754367829,0.12611551769077778,-0.1729550880379975,0.08153535872697831,0.09100427515804768,0.08281988333910704,0.028865145286545157,-0.04983373256400228,-0.14917995929718017,-0.13357651829719544,0.07442837096750736,0.14041438028216363,-0.031592460721731185,-0.07591933701187373,-0.005022387392818928,-0.02419314980506897,-0.08655762672424316,0.011245943047106266,-0.007488955557346345,-0.1080869659781456,0.10534184835851193,-0.04233545288443566,-0.20850701034069063,-0.039509530365467074,0.03566381186246872,0.09918467290699483,0.2303018731996417,-0.07410186603665352,0.13347436618059874,-0.27140647638589144,0.07721896171569825,-0.021931621804833414,-0.2244747281074524,-0.008717448636889459,0.11768774464726449,0.03524381555616856,0.002635575830936432,-0.004269633581861854,-0.12099030129611493,-0.016116082714870573]                                                     |\n",
      "|74749392-3251-11E8-AFE7-480FCF5217B3|CALLE   |ROSALES ALTOS               |26   |35008 |Firgas    |CALLE ROSALES ALTOS 26 FIRGAS              |[calle, rosales, altos, 26, firgas]                 |[0.1724238395690918,0.03159899711608887,0.016468951851129534,-0.11555974632501603,0.015677607059478762,-0.02758207693696022,0.0923320021480322,-0.0939860787242651,-0.03840196877717972,0.023949781060218812,-0.05291327871382237,0.02966878116130829,0.03342613023414742,0.15838353373110295,-0.02967641241848469,0.055507235601544386,0.14924274384975433,0.11260643303394319,-0.20726095736026764,0.022956401889678093,0.022838447988033295,0.053112827241420746,-0.054331795126199726,-0.010181714594364167,-0.009689311683177949,0.005321161774918437,0.027016733773052692,-0.05004090294241906,0.0996477283537388,-0.011253239586949348,0.1909280081279576,-0.03644924312829972,-0.020418649166822435,0.032147682935465126,0.17131459526717663,-0.05421750582754612,0.04028163626790047,-0.06850962638854981,0.05285833235830069,0.007078267075121403,0.10096126496791841,-0.03651754558086395,0.09666694030165673,-0.08862820379436016,0.042695976048707965,0.1610870212316513,-0.04829785323236138,-0.036610723286867146,0.11081829592585564,0.04466969668865204,-0.04125495590269566,-0.11647504419088364,-0.015861286222934725,-0.03654876910150051,-0.013503120467066766,-0.0875232756137848,-0.020828884653747083,0.05465114675462246,0.05273118354380131,-0.13607549890875817,-0.013922862708568573,0.026004403829574585,-0.15060140118002893,0.04936570008285344,0.040518668293952946,-0.12543956600129605,0.1522148445248604,-0.003916475921869278,0.008642007783055307,-0.030700600147247317,0.07463680431246758,-0.2562078688293696,-0.039813408534973865,0.043943038582801824,-0.04998823553323746,0.038609794736839835,0.05770153775811196,-0.07588352411985398,0.1772359985858202,-0.0021329491399228575,-0.05717652477324009,-0.051990328729152685,0.0348115436732769,0.03920769859105349,-0.10879897922277451,-0.05210173651576042,-2.472587861120701E-4,-0.01785763241350651,0.0017960054799914362,0.2225126703735441,0.057513925805687906,-0.18785287141799928,0.09345322959125042,0.020029096305370333,-0.04330716580152512,-0.08340877071022988,-0.10671190209686757,0.03549592253984884,-0.011235381662845613,-0.03287564367055893,-0.023795863054692747,0.050950883701443676,0.0802313519641757,0.06496059745550156,-0.01070653796195984,-0.16740293204784396,0.12813249714672567,0.030535472929477694,-0.05785770602524281,-0.1559589557349682,0.06432955386117101,-0.24322227835655214,0.10224708244204522,0.001130390167236328,0.0220728462561965,0.17593462616205216,-0.10071640387177468,0.0022673007100820542,-0.022718032728880646,0.05433582700788975,-0.026605192571878433,0.04336885809898377,0.06508605517446996,-0.07828788533806802,-0.1697994686663151,0.11917684078216553,-0.030808898806571963,-0.04538136087357998,-0.10340279191732407,0.003251934051513672,0.1164745680987835,-0.10424933698959649,0.026775072515010837,-0.03481533620506525,-0.1854892559349537,-0.09057197123765946,0.07971286177635194,-0.09054363202303649,-0.053370860219001774,-0.06005349606275559,-0.15536870732903482,-0.00612514466047287,0.05912447348237038,0.0163361523183994,0.08064121156930924,-0.1478543808683753,0.17828854056133425,-0.005623745918273926,0.06101422756910324,-0.13758576344698667,-0.030791890621185303,0.03855803664773703,-0.032189341634511946,-0.11882521730149165,-0.15671284273266795,0.14476847797632217,0.05721336752176285,0.055996442586183554,-0.06430766806006431,-0.12978182649239897,-0.11393240205943585,-0.0378052182495594,-0.06919709797948599,-0.05723397061228752,0.19983621425926687,0.008202151162549853,-0.08023920580744744,0.039329351484775545,0.02139468565583229,0.11907113008201123,-0.022383360564708712,-0.12536635026335716,0.03221267014741898,-0.053347617201507096,-0.011902768164873123,0.07444606218487025,-0.1271676963195205,-0.05674191974103451,-0.03510226607322693,-0.03813891736790538,-0.06741035487502814,-0.03713558418676257,-0.03527585752308369,-0.005904200457734987,-0.07111109597608448,-0.07465299190953374,-0.09769844673573971,0.07921912744641305,0.07988277897238732,0.0549711786210537,0.030638952553272248,0.03890001215040684,0.020780000276863577,0.14216004088521003,0.033627417683601384,0.10983587596565486,0.08399465000256896,-0.023080090247094634,-0.07817558571696281,-0.1210286557674408,-0.03665465712547302,0.09026596546173096,-0.020497312210500242,0.006879193149507046,-0.11030805595219136,0.024378228932619095,0.023873536288738253,-0.043585444986820224,0.14234095066785812,0.0485710620880127,0.16907449774444105,0.06772846020758153,-0.07295155599713325,8.939802646636964E-5,0.012131096422672273,0.13340061083436014,0.07963942561182194,0.09420908675529063,0.04430862981826067,-0.12818874642252923,0.27020626068115233,0.06509438217617572,0.026931841671466828,0.19718865156173707,0.11358408443629742,-0.06440183315426111,0.07176515907049179,0.10529000014066697,-0.01145325880497694,0.07102865725755692,-0.09483317285776138,0.15036823712289335,-0.07099779397249222,-0.05146113038063049,-0.04666201248764992,-0.02675340473651886,0.057170089334249496,-0.1918705739080906,0.08270595795474947,0.03236784003674984,0.02860127426683903,7.496267557144166E-4,-0.1296475350856781,0.07855758238583804,0.11533716693520546,-0.16169755067676306,-0.11861329898238182,0.08181838691234589,-0.0859385371208191,-0.10654026344418527,-0.027721966430544854,0.0046481467783451086,0.02858527135103941,0.17590581197291613,0.14401154220104218,-0.0969772331416607,0.07707981206476688,-0.027680167555809022,-0.09905283711850643,0.11733518848195673,0.04664841666817665,-0.03754451870918274,-0.013365819025784731,0.11992185264825822,-0.032820569537580016,0.02500871755182743,0.06106812222860754,-0.023167897388339045,-0.009192056953907013,-0.1576060686260462,-0.1945581540465355,-0.038699029386043554,0.06076037846505642,0.04068331699818373,0.028406924009323122,-0.009789635986089708,-0.052580817416310315,0.09591204486787319,0.16183655336499214,-0.14083752781152725,-0.09561864323914052,-0.052892465516924864,-0.14171559885144233,0.14420549422502518,-0.0437742518261075,0.0546325009316206,0.27715543638914825,-0.019590362906455994,-0.0023709416389465334,-0.05500292498618364,-0.06082352548837662,-0.15473070889711382,-0.10563808977603913,-0.08832204900681973,0.21086995899677277,-0.058978259563446045,0.07451087236404419,-0.03224620707333088,0.0808719962835312,0.16309825330972672]                      |\n",
      "|8D636897-79D7-11EB-A554-CB98385CFF1E|CALLE   |LLANOS CONCEPCION           |15   |35007 |Betancuria|CALLE LLANOS CONCEPCION 15 BETANCURIA      |[calle, llanos, concepcion, 15, betancuria]         |[0.031023500114679338,-0.1286557048559189,-0.02565833404660225,-0.009862281009554864,-0.034629038721323016,-0.015231795608997345,-0.0881061180960387,-0.09255163222551346,-0.17029832154512406,-0.061093116551637655,0.055096887052059174,-0.2224076643586159,0.08645782251551282,0.03451894540339708,0.054010736197233206,-0.08069774135947227,0.018122403323650362,0.055215065879747276,-0.07228388115763665,0.034779990499373525,-2.7522593736648563E-4,-0.019821872189641,-0.046991560235619546,-0.060298175364732746,0.007291849330067635,0.09117348790168762,0.13981453124433757,-0.12525635138154032,-0.050724823633208876,0.10055752880871296,0.14442280419170858,-0.12714140973985197,0.07838730625808239,-0.0708327542990446,0.08969470411539078,0.040613692626357084,0.09213859774172306,-0.13430502768605948,-0.007642038352787495,-0.1898124635219574,-0.036153855919837954,-0.04247688883915544,0.12211908884346485,-0.1217351071536541,-0.07549261599779129,0.08111205697059631,0.11389707380440087,-0.01722544609801844,0.0037157028913497926,0.249950510263443,-0.22517071291804314,0.0019021213054656984,9.562551975250245E-4,0.009977669268846513,0.09438598565757275,0.010901404917240143,0.07038078159093857,0.10018695145845413,0.08716816939413548,-0.0594728022813797,-0.007776639785151929,0.03626261278986931,-0.02045743837952614,0.03496427983045578,-0.08628699481487274,-0.03530995212495327,0.09279081523418427,0.13998883739113807,0.0760421309620142,-0.12337097898125648,-0.0771836206316948,-0.03575263561215252,-0.030021265149116516,0.021687071025371554,-0.04952822169288993,-0.0269228033721447,-0.18701421581208708,0.0352704793214798,0.08118166327476502,-0.1720149808563292,0.18284884728491307,-0.1196140930056572,0.06643607914447784,0.13935106042772533,-0.006574153434485197,-0.16384256780147555,0.001137922704219818,-2.981670200824738E-4,-0.08602146357297898,-0.021481413254514338,-0.01838212162256241,-0.1623732551932335,0.17072069719433786,-0.03774101957678795,-0.1169869713485241,0.1209839876741171,0.027579044178128245,-0.045750332053285096,-0.04695639163255692,-0.025683438032865526,0.011383541859686375,0.0408645847812295,0.03170245885848999,0.12442287057638168,0.20036318004131318,-0.08449869751930238,0.01602529245428741,0.1625759616494179,0.13400403186678886,0.03134499341249466,-0.08766613742336632,-0.2136323854327202,0.13094335906207563,-0.08065919429063798,-0.15304257133975627,0.05147489355877042,-0.1020545929670334,-0.025123872235417368,0.013560181856155396,-0.025766667909920216,-0.19155320674180987,-0.05045425072312355,0.13407207168638707,0.06310578510165214,-0.04714493751525879,-0.05136498808860779,0.029128384590148926,0.1003295261412859,-0.044404227286577225,-0.0488265821710229,-0.024890641868114474,-0.01279643513262272,0.08570232167840004,0.11103036999702454,-0.05484119951725006,-0.04318265803158283,-0.24867239221930504,-0.001844308525323868,-0.05279688909649849,-0.03710852237418294,0.11474910527467728,-0.08930359035730362,0.11483371779322625,0.08178896120516584,-0.09553221315145494,-0.05636154934763909,0.182088144440786,6.040416657924653E-4,-0.0015807814896106722,-0.11705663241446018,0.12097794548608364,-0.0062539406120777135,-0.02367801032960415,0.014246857818216087,0.1619956523180008,0.1304394976235926,0.045388429239392285,0.018111444264650344,-0.10362216979265214,-0.07630150830373168,0.11992075070738793,-0.08735154196619987,0.07974250037223102,-0.2259394705295563,0.10618039369583131,0.117476199939847,0.10474683679640294,-0.03266689479351044,0.07840689420700074,0.1682096637785435,-0.007905182242393494,-0.10453542619943619,0.039368752390146255,-0.03782231546938419,0.018936971575021746,0.018556880950927734,-0.044892265833914285,-0.08649513125419617,-0.2296582743525505,0.010585880372673273,0.05217675101011992,0.02092999750748277,0.09151655510067941,0.0048282725736498834,-0.15504869101569058,-0.11948767602443695,-0.04886288717389107,0.1438153475522995,0.1670691778883338,-0.08397360667586327,0.07790478616952896,0.03266590777784586,0.050211355090141296,0.0458163071423769,0.11429758500307799,-0.07453669141978025,-0.04749138094484806,0.040241061337292196,-0.11753257289528847,-0.013202103227376938,-0.0418660257011652,0.04318542452529073,-0.02169806957244873,-0.013444419391453266,-0.08437280468642712,0.09406599998474122,-0.11252200342714787,-0.06691128760576248,0.14912523925304413,0.018365575373172762,-0.0218447613529861,0.05576307885348797,-0.08216085862368346,-0.1671663410961628,-0.10823587086051703,-0.005850013345479965,0.005218658968806267,0.21658099964261057,0.013876033946871758,-0.3192948535084725,0.24256196022033694,0.1333302971441299,0.13551951795816422,0.03014453314244747,0.14425412975251675,0.035928984917700295,-0.10375663340091706,0.039733659476041794,0.053138666041195395,-0.04002791345119477,-0.09462902247905731,-0.05667113400995732,-0.10778035372495652,0.005074926465749741,0.006483139283955098,0.09245000109076501,-0.024138546735048297,0.04924772530794144,-0.03715668013319373,0.031120361154899003,-0.14543855153024196,0.048134133964777,0.05769101269543171,-0.10113940238952637,-0.04964037537574768,0.029763776995241645,1.6520321369171143E-4,0.031024580448865892,-0.1402997188270092,-0.0207332119345665,-0.03459547683596611,-0.12136743273586036,-0.1344062814489007,-0.10442914739251137,0.11697534173727037,0.03531087464652956,0.0830318070948124,-0.09078021720051765,-0.012805931270122528,-0.08843690035864711,-0.04676126688718796,-0.06636042445898056,0.07018241984769702,-0.11241430714726448,-0.08631481844931842,0.08407140076160431,-0.043112679338082674,-0.009147752821445466,-0.07273976281285287,-0.007478686328977347,-0.23426385931670668,0.05425797700881958,-0.16258139610290528,0.11470543276518584,0.10111089944839478,-0.0809738650918007,0.08969814758747817,-0.036616360396146776,0.03524929424747825,-0.1731453649699688,0.044624486565589906,-0.086296477005817,0.11305705308914185,0.1369306117296219,-0.03812035508453846,-0.17600364051759243,0.1024034536909312,-0.049494016123935586,0.05615244060754776,-0.08439013231545688,-0.03179569561034441,-0.1222603052854538,-0.012908364087343216,0.04295444060117007,0.04827904030680657,0.022304666787385942,0.03451364561915398,-0.05336856336798519,0.09586721900850535,0.08509080633521081]                                            |\n",
      "|62F08984-3251-11E8-AA10-480FCF5217B3|CALLE   |RESBALADERO                 |48   |35015 |Pájara    |CALLE RESBALADERO 48 PAJARA                |[calle, resbaladero, 48, pajara]                    |[0.0961654968559742,-0.0063523463904857635,-0.02369450218975544,-0.009085212834179401,0.008968756534159184,-0.06978587992489338,0.012293005362153053,-0.2493032393977046,-0.0900811543688178,-0.03318139165639877,0.1630045874044299,-7.759416475892067E-4,-0.01580187160652713,0.13844521529972553,-0.05431107059121132,0.025407184846699238,0.0674300865503028,-0.06443568877875805,-0.007221836596727371,0.033810293578426354,-0.11124016344547272,0.07650948781520128,0.12819954007863998,-0.057293911930173635,0.08697676099836826,-0.05147395748645067,9.869977366179228E-4,0.037577051436528563,-0.030237420462071896,-0.07098122080788016,0.14594913180917501,-0.198716145940125,-0.04977209120988846,-0.007678594905883074,0.18578286934643984,0.07625875738449395,-0.0849231886677444,0.16356574930250645,-0.08225002069957554,-0.012481645680963993,-0.08118209918029606,0.05369987711310387,0.17979469522833824,-0.08100600913167,-0.0111595643684268,0.03865890484303236,0.004087311186594889,-0.006810953840613365,-0.1343555715866387,0.06163237086730078,-0.018966484116390347,-0.11096871271729469,0.10187790542840958,0.03515930287539959,-0.0171270789578557,0.08716001268476248,0.07484034786466509,0.09856424061581492,-0.061696065589785576,-0.10804049484431744,0.126243632636033,0.06778053659945726,-0.006662718951702118,0.05401035398244858,-0.04637748980894685,-0.03358196746557951,0.03963178303092718,0.053095136769115925,0.03786681825295091,-0.05000308575108647,0.04813050106167793,-0.14976534713059664,-0.013849289622157812,0.029690808325540274,-0.07160887308418751,-0.07524977228604257,0.01766824023798108,-0.04851668793708086,-0.010614086408168077,-0.15967806347180158,0.10330080380663276,-0.013241274515166879,-0.021124811377376318,-0.01883254968561232,-0.12539973203092813,-0.10826234519481659,0.11489498987793922,0.008550332859158516,-0.09231586009263992,-0.01028579130070284,0.11781942052766681,-0.020326573867350817,0.0929985218681395,0.04115155339241028,-0.10302519612014294,-0.1343314633704722,-0.04982346436008811,0.055384923485689797,-0.014634914696216583,-0.076178272604011,-0.08243751781992614,0.05453737126663327,0.18813205230981112,0.009800068102777004,0.09787677321583033,-0.11967030167579651,0.08179919375106692,-0.01874340884387493,0.06764492578804493,0.018312382511794567,0.10662739269901067,-0.16648607864044607,0.0916223656386137,0.06884354539215565,-0.10235606180503964,0.06157522229477763,-0.005548145622014999,0.010473905364051461,-0.04673856915906072,1.6062194481492043E-4,-0.06346913415472955,0.014415353536605835,0.08068752521649003,0.08779316022992134,-0.010870741680264473,0.06123180501163006,0.07031569816172123,0.16166895208880305,-0.12414532504044473,-0.052289609564468265,-0.06671290192753077,-0.07542669400572777,0.030026040971279144,-0.01919214567169547,-0.002720491960644722,0.014623148832470179,-0.013009299524128437,0.009748518496053293,0.06860828772187233,-0.04929235705640167,0.022326570469886065,-0.1290141474455595,0.04322419036179781,-0.00504278858716134,0.00624773558229208,0.011461075395345688,0.05884181561486912,-0.1519260359928012,0.06727287406101823,-0.09161074040457606,0.038793471874669194,-0.05420960020273924,-0.08139799907803535,-0.008146768435835838,0.10776244476437569,-0.0465500857681036,-0.0546389264636673,0.08927502576261759,-0.012156585231423378,0.09858235262800008,0.023720456287264824,0.03282915661111474,0.07844257331453264,-0.015515891835093498,0.02079186961054802,-0.01481854822486639,0.17158288788050413,0.06545879389159381,-0.007992814294993877,0.1772831128910184,-0.036585090832886635,-0.11748682614415884,-0.012964292080141604,0.06633050795062445,0.21597817772999406,-0.022630135994404554,-0.04690860235132277,-0.11891967337578535,-0.10208404110744596,0.05830383824650198,0.06405889731831849,0.05103992123622447,0.06474152696318924,0.020296906121075153,0.016291809384711087,-0.09899528743699193,-0.09239825792610645,-0.028312435373663902,0.03525113686919212,-0.08336277399212122,-0.010781798046082258,0.05782094318419695,0.20483645610511303,0.07587707624770701,0.10751134250313044,0.08964799717068672,-0.0010315529070794582,-0.08381212106905878,-0.010300424881279469,0.07312709046527743,0.00619650399312377,-0.05011424235999584,0.03191764373332262,0.10546134342439473,0.014563055243343115,-0.04756803531199694,-0.06518208235502243,0.025652726646512747,0.014075494138523936,0.047892977483570576,0.10351284372154623,0.08545540599152446,-0.14935445599257946,-0.01782950945198536,-0.06305164494551718,-0.05066151823848486,0.1187775144353509,0.01440532598644495,-0.04842248046770692,-0.13536321558058262,0.10921182297170162,0.09793133527273312,0.01279605575837195,0.1389602404087782,-0.06685433443635702,-0.0379202791955322,-0.05003450904041529,-0.007036912371404469,-0.02531982003711164,0.12583664432168007,0.013195681385695934,-0.03226932184770703,-7.591657340526581E-4,-0.09284860035404563,0.0530748562887311,-0.07754155294969678,-0.032845760229974985,-0.13150568678975105,-7.257679244503379E-4,0.02008591080084443,-0.045766687486320734,-0.04455469688400626,-0.02126165572553873,0.016219505574554205,0.1184845706447959,-0.06704043387435377,0.02609714586287737,0.08527399739250541,-0.01927370298653841,-0.055984091479331255,-0.06458577327430248,-0.07636406738311052,0.012908709468320012,0.06284325942397118,0.09290192648768425,-0.021481025964021683,0.035581575240939856,-0.08845596702303737,-0.027263788506388664,-0.11181681475136429,0.12624960322864354,-0.00926782563328743,-0.05063252442050725,0.0635017529129982,0.022465950809419155,-0.017139713279902935,-0.03698167373659089,-0.03480107197538018,-0.019407693296670914,-8.902002591639757E-4,-0.1456346996128559,-0.04130321228149114,-0.03237284254282713,-0.05543128517456353,-0.005806824192404747,-0.18486989475786686,-0.004398426812258549,0.11567956302314997,0.026953911408782005,-0.1345672938041389,-0.03917244030162692,-0.08986210729926825,-0.019365868996828794,0.11127459164708853,-0.09318823658395559,-0.09768023109063506,0.07576082344166934,0.0014924402348697186,0.046798736322671175,-0.05628361855633557,0.13598547037690878,-0.08681877981871367,-0.04723174870014191,-0.05414681462571025,0.02988716121762991,-0.1563838655129075,0.13592921569943428,0.012089032214134932,0.023831906728446484,-0.04699401557445526]               |\n",
      "|687F05C8-3251-11E8-AFDC-480FCF5217B3|CALLE   |JOSE ANTONIO PRIMO RIVERA   |11   |35011 |Ingenio   |CALLE JOSE ANTONIO PRIMO RIVERA 11 INGENIO |[calle, jose, antonio, primo, rivera, 11, ingenio]  |[0.07849068833248955,-0.09580936761839048,0.07170257344841957,0.00991996085005147,0.11751475451248032,-0.06891084675277982,-0.05679666277553354,0.009846734922445777,0.03285642833049808,-0.08821132725902965,0.07201162938560758,-0.18848514769758495,-0.14976889370882418,0.15435620423938545,-0.08236272313765117,0.041655681761247766,0.05757142257477556,0.10927043043609176,-0.02723701762235058,-0.03540151457335534,0.003922857344150543,0.031618809194437096,-0.01729298782135759,-0.0524488258025875,0.11230366038424627,0.11185371662889207,0.04865668248385191,0.0052657755357878545,0.12332211381622722,-0.033910492035959444,0.12562261900997587,-0.13377823175064155,-0.014425331892977867,0.014076781326106616,0.04557653529835599,-0.015336427571518079,0.1205237614256995,0.13271813467144966,-0.003951999026217631,-0.006240628659725189,-0.06648576951452663,-0.017047543610845293,0.013469151412469467,-0.03377487962799413,0.036115454975515604,0.016930413033281053,-0.11752184841316193,0.08418803289532661,0.07274704998625176,0.08569183140727026,-0.10649342435811246,0.10217738736953054,0.13918992451259068,-0.055713607264416556,0.046369049831160476,0.05553528427013329,0.025657227795038904,0.1976041876311813,-0.036954928056469986,0.015468293002673557,-0.01178605601723705,-0.0485990893627916,-0.13250090501138143,-0.1397323945005025,-0.04396059297557388,-0.1122690536347883,-0.13472768877233776,0.01545706856995821,0.15621309055547627,-0.24721463716455866,0.06762233496244464,-0.09229335880705287,0.0332992235198617,-0.01686810409384114,-0.05093657597899437,-0.09108063791479383,0.007046681429658617,-0.05546510725149086,-0.018788277371121303,0.07243206611435328,0.058135995109166415,0.059602558812392605,0.13103518741471426,-0.0892076435099755,-0.10229528163160596,-0.10374278096216065,-0.008312814735940524,0.01486504284132804,0.005955525806971959,0.1911725472060165,0.03532153155122484,-0.22142109008772032,0.18905047859464372,0.010215121587472302,-0.05121576100853937,-0.09565944843260304,0.10067836754024029,-0.008073278162295796,-0.015257632093770162,0.011553664292607988,-0.12418999349964516,-0.03579521259026868,0.2644420266151428,-0.039099555994783125,0.03211803627865655,-0.22139400775943482,0.043610919000846994,0.11945073439606597,0.013581969376121248,-0.13593080852712902,-0.0012268108049673693,-0.214926542448146,0.10587343041385923,0.004518432276589529,0.1084750262754304,0.0014456382819584437,-0.07831343050513949,-0.06422129566115992,-0.012954214188669409,-0.09244444434131895,-0.09170587853129421,0.01476061445594366,0.015935187361070087,0.14436495729855128,-0.23768761168633187,0.006765474166188921,0.15712543576955795,0.02307408595723765,0.11196193524769374,0.055955038904877644,-0.07838682856942926,-0.13413486150758605,-0.11267840503049747,-0.0170653173699975,0.13836450635322503,-0.018465128860303333,-0.014640951263053075,-0.060043978854082525,-0.05804315209388733,0.09718966377632958,0.023763750280652727,0.044462923359658034,0.025940257124602795,0.02557764105066391,-0.03871768819434302,-0.2009270457284791,0.17400472208100837,0.10663412697613239,0.14211805590561458,0.03971755391518984,0.05395897597606693,-0.08820600262177841,0.01005385975752558,-0.029536511216844828,0.18393257557181641,-0.07366466628653662,0.0844337482537542,0.028170808617557795,0.09211540502396279,-0.030037949593471627,-0.08996649831533432,-0.23275518630232128,-0.023019553162157536,-0.2547981488917555,0.11043316152478967,0.07987903926654585,0.043203050004584444,0.04701500894900943,0.3115238882601261,0.07954779957487647,-0.016687729795064245,0.13726765289902687,-0.1138729979949338,-0.10697354043700864,0.12464313954114914,0.08946741917835814,-0.14736576844006777,-0.03995409794151783,-0.1116445961275271,-0.008749773127159901,0.0017774763317512613,0.06738674115123493,-0.10234736917274338,0.0018806460180452891,-0.11548156337812543,-0.11951568775943347,-0.12647320409970622,0.1152872805084501,0.2024762864623751,-0.04521244391798973,0.03078034706413746,-0.015449617606853799,0.05136466292398316,0.10437336550759417,-0.16435403855783598,0.05854403041303158,0.006280997501952307,-0.14766501221207104,0.14221653315637792,0.1289002067808594,-0.18446770523275646,-0.06626132263668945,-0.07897593666400228,0.08945192197071654,0.05855666007846594,0.034771823191217015,0.013378633186221123,0.0859348393444504,0.15093007018523555,-0.08112479985824653,0.2235500544442662,-0.050258502896342955,-0.035610152408480644,-0.20597632761512483,-0.13223528010504584,-0.035775565143142424,0.07397226669958659,0.12732581328600645,0.03417917287775448,-0.16353675190891537,0.1801643648317882,0.2285272056303386,-0.06030901240384472,0.22144134821636335,-0.025848847946950367,0.018981051897364,-0.07298653439751693,0.11727407654481274,0.0670820494581546,-0.02077664594565119,0.09726430435797997,-0.14186197625739233,-0.21615135722926684,-0.2196505974446024,-0.01198474151481475,-0.03145577173147882,0.06013073452881404,-0.05752473058445113,-0.04058149849463786,-0.07960710734395043,0.085679159765797,2.604580617376736E-4,0.08723314532211848,-0.08102438685351183,0.13024820759892464,-0.06695117867950882,-0.06236981547304562,0.08283951825329235,-0.29710554597633226,-0.19185596172298702,-0.11133029385070715,-0.1524642634072474,-0.05479289099041904,0.10607012600771018,0.11954544697489057,0.030547388280475776,-0.06010078000170844,-0.06275255020175662,-0.005762984044849873,0.24892110038282614,0.18832603522709437,-0.024668086054069654,0.06978281873411366,0.0510955314551081,-0.1568504472130111,0.137811115277665,-0.015806892786973288,-0.18899583683482238,-0.026222962087818553,0.10628091863223484,-0.23276379065854208,-0.006332801654934883,-0.2319198953253882,0.021034743503800458,0.0892724437373025,0.02575075519936425,0.014150785282254219,-0.1804801348064627,0.19801917885031017,-0.015203958244196005,0.07148949003645351,0.09894282252727342,-0.14387008388127598,0.20176636108330318,-0.05387431808880397,-0.043466404878667424,0.3208153395514403,0.03462191777569907,0.1492775987301554,0.13629659092319862,-0.04321183357387781,-0.1464509775063821,-0.03749711013266018,-0.05147507893187659,0.11013531245823417,-2.714379557541438E-4,-0.0021079140050070627,-0.07545399985143116,0.2147413207484143,0.059881032045398436]                                                |\n",
      "|78476475-3251-11E8-8EB9-480FCF5217B3|CALLE   |AZUCENA                     |17   |35002 |Agüimes   |CALLE AZUCENA 17 AGÜIMES                   |[calle, azucena, 17, agüimes]                       |[0.1056120756547898,0.003402118105441332,-0.04552072752267122,-0.020070713479071856,-0.002727637067437172,0.06029076036065817,-0.0731741189956665,-0.024367310106754303,-0.1841159723699093,0.01274079643189907,-0.013094549998641014,-0.028728794306516647,-0.006714922321407357,0.007514383178204298,-0.014081265078857541,0.039326826110482216,8.415058255195618E-5,-0.013989054365083575,-0.11100208573043346,-0.042175358583335765,0.015911638707621023,0.033570494764717296,0.012758398428559303,-0.09493181388825178,0.09667253959923983,-0.0806096950545907,-0.06131889368407428,-0.03010800527408719,-0.009328658226877451,-0.05564656388014555,0.03717751055955887,-0.1333752330392599,0.04821307398378849,0.041000917088240385,0.10668344423174858,0.04505327669903636,-0.021436322946101427,-0.05874038301408291,0.10155288456007838,-0.025739765726029873,0.02147466130554676,0.12087376695126295,0.2192253628745675,-0.08404819713905454,-0.002409782260656357,0.12660498544573784,-0.01165838007000275,-0.07218556385487318,-0.05093928088899702,0.10212623421102762,0.027055726386606693,0.030306166037917137,-0.05952316150069237,0.07124471943825483,0.036255117040127516,-0.03426824932103045,-0.15251917950809002,0.10472427634522319,-0.05509324977174401,-0.054030779749155045,-0.04286952689290047,-0.05213596997782588,0.008887520991265774,0.056813403964042664,-0.08426958881318569,-0.09154930524528027,0.18627219647169113,0.08107990026473999,-0.05156994750723243,-0.04833500599488616,0.05415542836271925,-0.08546023489907384,0.011991089209914207,-0.03298980463296175,-0.11229287460446358,-0.03514105500653386,-0.05959915416315198,-0.01873230468481779,-0.045170703902840614,0.05288077599834651,0.04895313875749707,-0.03971628379076719,-0.07193445600569248,-0.023264319403097034,0.038069942966103554,-0.04057241545524448,-0.010156761825783178,0.07740043278317899,0.03657954349182546,-0.06725947349332273,9.930687956511974E-4,-0.1442141905426979,0.12025934376288205,-0.05700130760669708,-0.07753374613821507,0.009504124522209167,-0.11732943682000041,-0.06594628676248249,-0.281613077968359,-0.061775469686836004,-0.07327741454355419,-0.027783032041043043,0.05696889944374561,0.02154838154092431,0.14721442572772503,-0.11499087885022163,0.02487315284088254,0.0221224952256307,0.06304274778813124,0.005806630477309227,0.09162415855098516,-0.15447893971577287,0.11156771145761013,0.06458144169300795,-0.047887583772535436,-0.049257714534178376,-0.23156158532947302,0.0030947727609600406,-0.07514478825032711,-0.032963027246296406,-0.06971026957035065,-0.018532695481553674,0.06216765055432916,0.11657010018825531,-0.12873308267444372,0.044064025627449155,0.1374326185323298,-0.013879505451768637,-0.0786995473317802,0.0050247833132743835,-0.04002181999385357,-0.1136211957782507,-0.005643205484375358,-0.03259799163788557,-0.1391307208687067,-0.10275719733908772,0.07713008020073175,-0.016103925183415413,0.09975715912878513,-0.0059957243502140045,0.028263552114367485,-0.12573067541234195,-0.011678721173666418,0.05817063989525195,0.12670366279780865,-0.17047460563480854,0.14027440121935797,0.02680208906531334,-0.021391721442341805,0.08905608346685767,-0.06267526373267174,-0.021728145075030625,0.045685626566410065,-9.43097285926342E-4,0.05628411192446947,0.0669953040778637,0.061798870912753046,0.014377343468368053,-0.12413576641120017,0.0029144223080947995,0.018065936863422394,-0.11605269578285515,0.06025603483431041,-0.19812423549592495,0.21208088472485542,0.14942419156432152,0.008039546199142933,0.049306368455290794,0.005025967489928007,-0.018259920179843903,-0.10332161257974803,0.005796326557174325,0.05017019063234329,-0.020442301174625754,-0.052714808989549056,0.10411822353489697,-0.14526407117955387,-0.03745895903557539,0.020361431408673525,0.09126796538475901,-0.047194775426760316,0.03370052145328373,0.019497113302350044,-0.005370275117456913,0.021661763661541045,-0.10488657373934984,0.0375409796833992,0.056934939697384834,0.05453514587134123,0.013677582610398531,0.03684774413704872,0.048776281997561455,0.07064564153552055,0.026126833632588387,0.10192565433681011,0.025468613021075726,0.06852773251011968,-0.005066599464043975,0.02788997534662485,0.008607458439655602,-0.030814412981271744,-0.0020970709156244993,0.1697336519137025,0.05756426556035876,-0.11490902910009027,0.009742667898535728,-0.09474273188970983,0.07031115796416998,0.061491197906434536,0.08231187798082829,0.1312848242232576,0.08282705117017031,-0.12221146794036031,-0.06976568605750799,-0.12672750744968653,-0.023306486196815968,0.1936849867925048,0.017402836121618748,-0.0841676652780734,-0.08568292739801109,0.2539402097463608,0.06359758792677894,-0.029378456063568592,0.07519887946546078,-0.03600845648907125,-0.05937385908327997,0.04684090614318848,-0.07705078646540642,-0.02091789315454662,0.0464630126953125,-0.03084876388311386,-0.10332056821789593,-0.06540252454578876,-0.18491708487272263,0.1377985724247992,0.042739114724099636,-0.08296602964401245,0.004987762309610844,-0.016902826144360006,0.1231266790709924,0.08618726441636682,0.008619360625743866,-0.061128931993152946,-0.12063699634745717,0.19944696128368378,-0.10535589861683547,-0.06843499513342977,0.057990734465420246,-0.07169116754084826,0.026272728806361556,0.0576794242952019,-0.04852454923093319,0.017870317911729217,0.126814128132537,0.16266270983032882,0.006751791574060917,7.926048710942268E-4,-0.0987653424963355,0.02399271773174405,0.038364639156498015,0.0016869399696588516,0.043575967429205775,-0.08601784997154027,0.03659564914414659,-0.009464867878705263,0.07249612174928188,-0.0526209267845843,-0.11582308681681752,-0.0813942588865757,-0.06165528774727136,0.007421547546982765,0.09883217234164476,0.04938882030546665,0.025308703654445708,0.052859241142868996,0.075452771037817,-0.019413704052567482,-0.012329347431659698,0.07163367001339793,-0.16729025053791702,0.00274793547578156,-0.032334825955331326,-0.1289842256810516,-0.0381926354020834,-0.038134755566716194,0.015309649053961039,0.1632654012646526,-0.09864421840757132,0.07982733403332531,-0.1486509821843356,0.0541480949614197,0.012603938579559326,-0.22725574485957623,0.020910791354253888,0.03219428472220898,4.836255684494972E-4,0.10347731970250607,-0.0946949424687773,-0.009598157368600368,-0.0018941073794849217]     |\n",
      "|70F51364-3251-11E8-A22D-480FCF5217B3|CALLE   |CALLEJON JUAN DENIZ PLANTA 3|10   |35012 |Mogán     |CALLE CALLEJON JUAN DENIZ PLANTA 3 10 MOGAN|[calle, callejon, juan, deniz, planta, 3, 10, mogan]|[-0.013257046812213957,-0.1623806597199291,0.03485314780846238,-0.05003099632449448,0.06291372166015208,-0.04587825573980808,-0.12658635240222793,-0.05371071444824338,-0.01130752608878538,0.044967205729335546,-0.06939003965817392,-0.017662527738139033,-0.011689598877637764,0.09234774205833673,0.010875075124204159,-0.0041177598759531975,-0.009641935117542744,0.07133451569825411,-0.07315850700251758,-0.042984998879546765,0.007776243262924254,0.08356745005585253,-0.03983564468217082,-0.023270852980203927,-0.00813761365134269,-0.11049953522160649,0.026672082138247788,0.028874510433524847,-0.016768205212429166,-0.06307276943698525,0.06481108807201963,-0.16962841962231323,0.0472570612328127,6.439368007704616E-5,0.10443861200474203,0.036159960785880685,-0.0337994669098407,0.033977878163568676,0.085592555871699,-0.09324513608589768,-0.06228617049055174,0.08151391451247036,0.0547698246082291,-0.10639301245100796,0.011010110145434737,0.056376955937594175,-0.015258446466759779,0.02364398364443332,0.03178379771998152,0.13494880916550756,-0.05312021996360272,0.04657445568591356,0.056201140861958265,-0.02823896985501051,0.055746449739672244,-0.06184176588431001,-0.06480189994908869,0.13360282639041543,-0.0178445796482265,-0.0700267783831805,0.043577183154411614,-0.03158881003037095,-0.027937634848058224,-0.07832287705969065,-0.07018924097064883,0.016731214622268453,0.14920838549733162,-0.01517733745276928,0.008817936759442091,0.049988278187811375,-0.012171457477961667,-0.1289762039668858,0.07727756910026073,-0.025543932046275586,-0.020851017616223544,-0.036593634402379394,0.03438704967265949,0.08699477945629042,-0.012766462517902255,0.0623766488279216,0.01348832919029519,0.06693707802332938,-0.003386564552783966,-0.08147992810700089,-0.058172624092549086,-0.008895732695236802,-0.012594026629813015,-0.011401531286537647,-0.0744727915734984,0.001647928002057597,-0.015108372310351115,-0.0826299749314785,0.020150864263996482,-0.06945414422079921,-0.09940931317396462,-0.027670682058669627,-0.12207338819280267,-0.007749299162242096,-0.12833892740309238,-0.10839661164209247,-8.913400815799832E-4,-0.10855940531473607,0.14743634848855436,0.11971110105514526,0.17103413585573435,-0.20346872368827462,0.02865343587473035,0.10136886534746736,-0.04317389568313956,0.006263843737542629,0.13432094367453828,-0.04230132341035642,0.09833065373823047,-0.007648904458619654,-0.08079486759379506,0.03799712425097823,-0.10207041978719644,-0.06938755349256098,0.04782663029618561,-0.04085444426164031,-0.08304417942417786,-0.013579080463387072,0.04691066197119653,0.037575389025732875,-0.13632918940857053,0.0035995931830257177,0.12399772694334388,0.035950757563114166,-0.026957145368214697,-0.029007506207562983,-0.09431841806508601,-0.09268316999077797,-0.04947048146277666,-0.0936075808131136,-0.05740540660917759,-0.010434844414703548,0.037725864443928,0.030328549502883106,0.0984083591029048,-0.12577610090374947,0.01876117312349379,-0.012233731802552938,0.032325190026313066,0.11155770834739087,-0.14979342394508421,-0.13225818329374306,0.17482454070159292,0.06544284033589065,0.07010127999819815,-0.00661742826923728,0.06038684258237481,0.013024206040427089,-0.016216022428125143,-0.10112228617072105,0.005191746633499861,0.19655688852071762,0.14219709299504757,0.033145598921692,0.04018232272937894,-0.07127874850993976,-0.03494913049507886,-0.016271020518615842,0.14082427264656872,-0.0874240054981783,-0.04258022643625736,-0.062269491638289765,0.0568736931309104,0.04600902894162573,0.02981849736534059,0.15038212900981307,-0.010163113474845886,-0.02370391899603419,-0.03679641417693347,0.04106812353711575,0.13904266461031511,0.07324915321078151,-0.1580250853439793,-0.030775443417951465,-0.08302722428925335,0.061048181683872826,-0.045520358136855066,0.06352882186183706,0.011327942949719727,-0.014473339542746544,-0.14696089940844104,-0.13071455981116742,-0.03985528816701844,0.06575109087862074,0.07550690602511168,-0.05356103298254311,-0.045713874977082014,0.02868291299091652,-0.060270750895142555,0.11488324211677536,-0.031228833366185427,-0.02414231572765857,0.03932944277767092,-0.028963951277546585,-0.012419137172400951,0.020184104098007083,0.02959494806418661,-0.05969072016887367,0.08034821785986423,0.01688542019110173,-0.10517380456440151,0.14381123799830675,-0.051822357811033726,0.010794567875564098,0.06196998688392341,0.06298340135253966,0.20983841345878318,0.02289893475244753,-0.04203928785864264,-0.13139211549423635,-0.03614937886595726,4.925760440528393E-4,0.08066366147249937,0.07377276732586324,-0.08746980992145836,-0.1550123430788517,0.10920668113976717,0.09675579742179252,0.17508248751983047,0.1542349811643362,0.017603287240490317,-0.010043614660389721,-0.030027997330762446,-0.07915516931097955,0.12491860466434446,0.04530036961659789,0.03690229612402618,0.0018820802215486765,0.002037474885582924,0.0018141288310289383,0.08702604495920241,-0.0712413964793086,0.013707526348298416,0.004658644087612629,-0.047737618384417146,0.023853981168940663,0.01728564966470003,0.043502748711034656,-0.027641776367090642,-0.03274569648783654,0.0733150988817215,-0.12487115699332207,-0.05332730012014508,0.15335258468985558,-0.020790319787920453,-0.09649362228810787,0.05305950006004423,-0.014558785478584468,-0.04316177137661725,0.10770974529441446,0.15934011666104198,-0.04254750697873533,0.0771262978669256,-0.016944593866355717,0.007210043258965015,0.06611213798169047,0.07989785773679614,-0.135767069645226,0.002140000753570348,-0.04514208622276783,-0.01041445619193837,0.11257343646138906,-0.022459477215306833,-0.015209181467071176,-0.03316337079741061,-0.01203090080525726,-0.11812881287187338,0.06561025325208902,0.05244959285482764,-0.019406824023462832,0.05521581100765616,-0.09331939602270722,0.0717606139369309,-0.03273688181070611,0.13100928394123912,-0.07598205446265638,0.08030686783604324,-0.013402798678725958,-0.04782614950090647,0.09988319082185626,0.029315199237316847,-0.12019845051690936,0.17100496040438884,-0.10116382874548435,0.05475590692367405,0.05613719346001744,0.033587530720978975,-0.002937899923608711,-0.18613395387728815,-0.023806976721971296,0.05337789375334978,0.027015176601707935,0.06684909039177,-0.12505878694355488,0.02738224097993225,0.03799652121961117]      |\n",
      "|749DE178-3251-11E8-BB61-480FCF5217B3|CALLE   |PITERAS                     |12   |35014 |La Oliva  |CALLE PITERAS 12 LA OLIVA                  |[calle, piteras, 12, la, oliva]                     |[0.11743622422218324,-0.0027130544185638428,0.10089851841330529,0.014782509952783586,0.13370101898908615,0.0016591284424066544,0.07417332818731666,-0.12802453399635852,-0.13922899812459946,-0.01891802176833153,0.0011051815003156663,-0.11837080791592598,0.1289635301072849,0.04916311986744404,-0.07861210629343987,-0.07128062248229981,-0.1245453178882599,-0.053016914054751396,-0.027839161083102228,-0.11096363734686748,-0.06877260480541736,-0.08724308013916016,-0.02923085652291775,0.017616095021367073,-0.06911841928958894,-0.11188510917127133,0.08460190445184708,-0.12602352127432823,-0.08193978443741799,0.13377430178225042,0.14019554788246752,-0.11005087830126287,-0.13944261306896807,-0.10997988767921925,0.12840957790613175,0.05809468142688275,-0.12383814752101899,0.03688555173575878,0.0036876348778605464,-0.019547325372695924,-0.09184530079364778,-0.006946669891476631,0.0517526020295918,-0.08375607877969743,-0.19224091172218324,0.07882344480603934,0.01552143970038742,0.11664575748145581,0.014177408814430238,0.03762103170156479,-0.15859169438481333,0.05982548296451569,0.11222256347537041,0.06613294333219528,0.10662214942276478,0.027909024292603137,-0.050618393719196325,0.16398392729461195,0.023529112525284293,-0.11928157731890679,0.0417495958507061,0.19488385932054372,-0.04962714985013009,-0.03184725306928158,-0.054250221326947214,-0.13143495842814445,0.09255649968981744,0.09705305397510529,0.049969643354415894,-0.043205215036869055,-0.012701856717467309,-0.13970170095562937,0.046591275930404664,-0.0466757245361805,-0.06868261098861694,-0.11943962052464485,0.005139437876641751,-0.1047464743256569,-0.01723911464214325,0.01822520224377513,0.062494132295250894,-0.01781555190682411,0.15095284134149553,0.0927805157378316,0.006350161880254746,-0.09176208376884461,0.08080903738737107,-0.03277737507596612,0.02909199744462967,-0.11975189750082792,-0.03050740323960781,-0.011136954277753831,-0.031231103092432023,-0.027194473613053563,-0.1783428579568863,-0.13938938155770303,-0.09852988049387933,0.14714706811355427,-0.021928449720144273,0.014585319533944131,-0.009027050249278546,-0.07102951295673847,0.15909057557582856,0.03476001620292664,0.18126117400825026,-0.11491911187767984,0.04575454266741872,0.04809513241052628,-0.053010175377130514,0.0617705887183547,0.16480857143178584,-0.07372605949640275,0.20974128097295763,-0.06547764241695404,0.02399817928671837,0.14076832421123983,-0.18242397755384446,-0.11816554702818394,-0.10069263577461243,0.09255509451031685,-0.06212502419948578,0.009297684766352177,-0.017721786722540857,0.014707776345312597,-0.13631086386740207,0.06648358218371868,0.07841526567935944,0.18367950059473515,0.024110784381628038,-0.0465694921091199,-0.019769182056188585,-0.1476340875029564,0.10151094347238541,0.07078255042433738,-0.04183445535600186,-0.11007135622203351,0.0358163021504879,0.06030150577425957,-0.011124201118946075,-0.07654186971485616,0.0709745317697525,0.2462905250489712,-0.08251470550894738,-0.08555286565097049,0.04774274826049805,-0.26677246689796447,0.1875596168829361,-0.054117050021886826,-0.047907959669828415,-0.011010952387005092,0.02506789788603783,0.03453520089387894,0.08801153004169465,-0.14321258664131165,0.12196179144084454,0.09295499324798584,-0.0308205945417285,0.02846229672431946,-0.017720233649015427,-0.14104005312547088,-0.11844907179474831,-0.007646206021308899,-0.04110637437552214,-0.14270582646131516,0.041306829452514654,-0.15854455530643463,0.06742741032503545,0.006559108197689057,-0.0041131891310215,0.09900425300002098,0.025026290118694308,0.063970823190175,0.00404498428106308,-0.10934487190097571,0.04623803645372391,0.07258831355720759,-0.2295666327700019,0.12004689574241639,-0.09412126652896405,0.12528408588841558,0.05885137263685465,-0.11090970551595092,0.020922246575355533,-0.005106616765260696,-0.009564350824803114,-0.10557740298099816,0.07036199094727635,0.05239526331424713,0.029450003802776337,0.022709751129150392,0.05867344569414854,0.016984294354915618,0.09205410927534104,0.13311689272522928,0.07871222198009492,0.011187170259654523,0.036795384064316754,-0.04272721912711859,-0.10692263916134835,0.11372130997478963,0.01408277601003647,0.039771448355168104,0.15247846320271494,0.1259727230295539,0.044223644956946376,0.12775433883070947,-0.03769591301679612,0.009378363192081452,0.03444401472806931,0.11758603006601334,0.1649872031994164,-0.0352425460703671,-0.03280350789427757,-0.18009247705340387,0.13093954920768738,-0.013139446079730988,0.03948475420475006,-0.011044054478406907,-0.0985330542549491,-0.22493470013141634,0.09088805653154851,0.11111870226450266,0.10661859586834908,0.2053808182477951,-0.03360908590257168,-0.011339895240962506,-0.24598208698444068,0.18548249639570713,-0.08046741019934417,0.14091667830944063,-0.05918712931452319,-0.046542280539870265,-0.19670196920633318,-0.12139049470424652,0.06402452029287815,-0.07204428128898144,0.059115019440650944,-0.12833537757396699,-0.09933420037850738,0.021106706559658052,0.04034304507076741,-0.08675072640180588,-0.07073694095015526,0.041438419930636884,0.13887075781822206,0.0431701684370637,0.0378445141017437,0.02178408280014992,-0.009801363199949266,-0.16488214954733849,-0.07139586061239243,-0.13077114447951318,-0.009402652271091938,0.1495205268263817,0.21328426301479342,-0.15414299219846728,0.12453262992203236,-0.029724767850711944,0.04727929756045342,0.056400073086842896,0.07749033644795418,0.1456425353884697,0.022849185299128296,-0.05521533600986004,-0.08779580877162517,0.12067549154162407,-0.10482454509474337,-0.060681053623557094,-0.06139091886579991,0.016113893780857324,-0.1511331930756569,0.07076725214719773,-0.06151001378893853,0.06842533256858588,-0.01719445288181305,-0.09821918010711671,0.025571616739034655,-0.06784388385713101,0.07701946273446084,0.062154304608702665,0.001582058146595955,-0.025671190023422243,0.09091171622276306,-0.06884611248970032,-0.07216671109199524,-0.05976121164858342,0.15246085058897735,-0.14164769127964974,0.095403709448874,-0.03967730279546231,-0.05849845632910729,0.04813888175413013,-0.18152429908514023,0.07190735377371311,-0.02762906700372696,-0.08929399251937867,0.009203637391328812,-0.0714479222893715,0.022371217142790556,0.05611580014228821]                                        |\n",
      "|66F01D72-3251-11E8-BF2F-480FCF5217B3|CALLE   |GOFIO                       |14   |35011 |Ingenio   |CALLE GOFIO 14 INGENIO                     |[calle, gofio, 14, ingenio]                         |[0.048532713670283556,-0.010643322952091694,0.00694196205586195,0.027352039236575365,0.17137668002396822,-0.08504584338515997,-0.09105408750474453,0.023221964947879314,-0.21618707478046417,0.071453966666013,-0.035458994563668966,0.04425838962197304,0.03927945816758438,0.08733360562473536,-0.08318075723946095,0.056075187399983406,0.09094470925629139,0.029235434718430042,-0.12164576604845934,0.014351434117997997,0.018988529685884714,-0.028087198501452804,-0.0531479325145483,-0.13180263992398977,0.14714262634515762,0.008935387246310711,-0.023240662878379226,0.03231328632682562,0.1417646547779441,-0.011987271602265537,0.10849608527496457,-0.06935408152639866,-0.04309054836630821,-0.008467801613733172,0.06270693591795862,0.09284423058852553,0.0760358851402998,0.021184688434004784,-0.0055682845413684845,0.012008534744381905,-0.03375644609332085,0.013542586006224155,0.04985071253031492,-0.08483094163239002,-0.012451632879674435,0.1709252605214715,-0.023862595931859687,0.06705794390290976,-0.03807453066110611,0.11514824628829956,-0.11142854113131762,-0.00786463962867856,0.11885567381978035,0.05025024525821209,0.09225848037749529,0.16423138417303562,-0.07330543734133244,0.17748471489176154,-0.0796718120254809,-0.12353400699794292,0.030406181700527668,0.023936888203024864,0.020746419206261635,-0.05043079610913992,-0.037338909576646984,-0.028785700676962733,0.06213701330125332,0.09947741217911243,0.012607787706656381,-0.15812624711543322,-0.019431746564805508,-0.1509845145046711,-0.04650913632940501,-0.02377402549609542,-0.013762082904577255,-0.1116438820026815,0.13766764174215496,-0.035719999112188816,-0.07393794925883412,0.10753919638227671,0.10997963137924671,0.005060989409685135,0.004705947358161211,0.05448934645392001,-0.040204230695962906,-0.028849453665316105,0.03757485840469599,0.09569967677816749,-0.02297137677669525,-0.008520771109033376,0.10036517307162285,-0.17636796575970948,0.13993954146280885,-0.12935896031558514,-0.0045260656625032425,-0.1188795012421906,-0.04712034156545997,0.011986737386905588,-0.19316667690873146,-0.07395303109660745,-0.03931697621010244,-0.06068282015621662,0.27616715990006924,-0.005141161847859621,0.16614521958399564,-0.1205549631267786,-0.004093210678547621,0.15619889087975025,0.027659245301038027,0.04216872155666351,0.030207115807570517,-0.2102870475500822,-0.021960461512207985,-0.060607864521443844,-0.20265936478972435,-0.032924946397542953,-0.12739465665072203,0.001797135453671217,-0.12243151385337114,-0.12134956219233572,-0.11674717557616532,0.02471231040544808,0.18860103795304894,0.1493033431470394,-0.1915586283430457,0.03830181621015072,0.07786455564200878,-0.1365706860087812,0.12080089002847672,-0.04363618069328368,-0.07361314119771123,-0.0323864808306098,-0.10044964158441871,0.015182776842266321,0.02154778130352497,-0.07655753055587411,0.02339658886194229,-0.022553990362212062,0.1182020753622055,-0.03622208908200264,-0.04869288229383528,-0.051686269231140614,0.018106495961546898,0.10862596285005566,-0.10842169634997845,-0.11829873640090227,0.12424751783328247,-0.02861519157886505,0.05287451730691828,-0.060709129087626934,0.07696686685085297,-0.00420322990976274,-0.0459127277135849,-0.011668515391647816,0.07066862564533949,0.058154473546892405,0.03338412754237652,0.004717596806585789,0.009294246105127968,-0.13251515373121947,-0.03874649666249752,-0.06205239985138178,0.006167814368382096,-0.07378074247390032,0.14914901740849018,0.002978319302201271,-0.014428877271711826,0.10970656300196424,0.0696610826998949,0.012784919585101306,0.03320518584223464,-0.010214122012257576,0.05444294959306717,-0.10464354115538299,0.14322512270882726,0.07731254841201007,-0.040851038647815585,-0.033295076340436935,-0.10443422570824623,0.0837414994603023,-0.027700539445504546,0.07115875475574285,0.102126844227314,0.05161530710756779,-0.05227450409438461,-0.05262243561446667,0.037497338838875294,-0.03736817091703415,0.19395184889435768,0.01660934742540121,0.039969449397176504,-0.023198889568448067,0.09405744215473533,0.05573724675923586,-0.006599203683435917,0.11544803762808442,-5.222302861511707E-4,-0.013653971458552405,0.08354340400546789,0.03859985386952758,-0.0472433902323246,0.03743842802941799,0.025318795815110207,0.02422284591011703,0.06763226492330432,0.10064273187890649,-0.02805699035525322,0.10254943557083607,0.08547161519527435,-0.04967901110649109,0.09085283859167248,0.015128183644264936,0.0656167445704341,-0.058895666152238846,-0.18167126434855163,0.03891562111675739,0.17355876229703426,0.06402684096246958,-0.023903191089630127,-0.049190280959010124,0.18026769161224365,0.08934533648425713,0.04251249320805073,0.2338192742317915,-0.08831976540386677,-0.01772873243317008,-0.06680362019687891,-0.006182419136166573,-0.08328605233691633,-0.005837135016918182,-0.028571792878210545,-0.0774774863384664,-0.10510761104524136,-0.1368218194693327,0.09379187226295471,-0.14010917209088802,0.10326085612177849,-0.11969435773789883,-0.08712790568824857,0.03975731635000557,0.1537462337873876,-0.06920599285513163,-0.045219515450298786,-0.11850121268071234,0.13823594897985458,-0.14565191394649446,0.11883788136765361,0.08193364914041013,0.03514250088483095,-0.07430299930274487,0.026549654081463814,-0.004058859427459538,-0.003990480909124017,0.06868138443678617,0.1491263434290886,-0.02239083033055067,-0.03638426540419459,-0.15265810769051313,-0.10199092887341976,0.11124433169607073,0.114919513463974,0.07248000614345074,0.004411857924424112,0.011665629222989082,0.028097044676542282,-0.01895635575056076,-0.009893266775179654,-0.08011938398703933,-0.228093845769763,0.005368509795516729,-0.06036354415118694,-0.05743623059242964,-0.1455287579447031,-0.037231891648843884,-0.06502500362694263,-0.08512173406779766,0.0218370973598212,-0.08099021296948195,0.06448738323524594,-0.021041600964963436,0.0672570732422173,0.019636521115899086,-0.1004674129653722,0.11666890745982528,-0.01370228547602892,-0.047610591631382704,0.1763671392109245,-0.034123897552490234,0.1549171257065609,0.0986799483653158,0.06927179149352014,-0.0391482412815094,-0.1953122140839696,0.06946625746786594,0.06225476320832968,-0.012708705849945545,0.020586066879332066,-0.07344649359583855,-0.0033001755364239216,-0.008623756468296051]                          |\n",
      "|7143F941-3251-11E8-B84B-480FCF5217B3|CALLE   |FUERTEVENTURA MARGARITAS I  |0    |35014 |La Oliva  |CALLE FUERTEVENTURA MARGARITAS I 0 LA OLIVA|[calle, fuerteventura, margaritas, i, 0, la, oliva] |[0.08371104991861751,0.008347623981535435,0.06954037717410495,0.06922624499670096,0.049261873321873796,-0.09362067189067602,-0.015807531774044037,-0.14037000870199076,-0.0921751164964267,-0.022490081244281358,0.04779374665979828,-0.11177265324762889,0.02801802118899234,0.050557469949126244,-0.11524939270956175,0.01650248827146632,-0.07303736159311873,-0.08073832467198372,0.0055218227207660675,-0.09008718864892476,-0.03472297904746873,-0.02538525587962275,-0.06749771924556365,-0.0712617819330522,-0.06894775931557108,-0.013875531298773629,0.08968223737818853,-0.02546548603900841,-0.0011037950004850114,0.07164650330586092,0.1520726696721145,-0.12613063624926976,-0.134345430880785,-0.1475566504523158,0.09960302710533142,0.055283939465880394,-0.1396534905901977,-0.04557429387101105,-0.012041623970227582,-0.034488986645426066,-0.08076034991868904,0.021868987141975334,-0.010252977987485272,-0.04828006667750222,-0.1564204222522676,0.0624420057450022,-0.008951391974863197,0.11693457859967435,0.03442349072013582,0.2058797233871051,-0.10308489575982094,0.05267103788043771,0.06691891114626612,0.08008336062942233,0.10098023898899555,0.04617508075066975,-0.06787318949188505,0.10282943663852555,0.05289694241115025,-0.0723314130944865,0.09865456074476242,0.11523137880223137,0.03278084232338837,0.015528599864670208,-0.05443613976240158,-0.23130960709282328,0.13393444940447807,0.01686003804206848,0.018622385071856633,0.03458442858287266,-0.0478212335812194,-0.14140218323362724,-0.05022104580088385,-0.0685564966074058,-0.0919710344501904,-0.039442321817789755,0.03400003617363317,-0.150097040991698,-0.027200051982487948,0.005396800049181495,0.04029109036283834,-0.08185437374881335,0.08509465785963194,0.011037997236209256,-0.0669743487877505,-0.07500961050391197,0.008960847609809466,0.029912048285560947,0.1171835001025881,-0.05682549402782959,0.07519791195435183,-0.005215192479746682,0.07267218189580099,1.43056469304221E-5,-0.18136313344751084,-0.06748977303504944,-0.054101970312850814,0.056236878178814155,-0.031772475223988295,-0.037876449259264124,-0.003803766598658902,0.029096127886857302,0.10941161534615924,-0.01217822783759662,0.19396171399525233,-0.03650066276480044,0.12378088145383766,-0.10278222497020448,-0.0851004533469677,-0.02580061408558062,0.10668760970500962,-0.07444988058081695,0.13331676008445875,-0.030530066096356934,-0.05353152485830443,0.10048075419451509,-0.13306802391473735,-0.014700254957590784,-0.05994970404676028,0.06017852228667055,-0.04715634988886969,-0.058132280063416274,-0.023882467565791946,0.10057232275305847,-0.14111379786793674,-0.008888644033244677,0.054905522614717484,0.0781626459211111,-0.041317670639338236,-0.03499835742903607,-0.03629982804081269,-0.05473580211400986,0.07108026387868449,0.008241477821554455,-0.045641207801444185,-0.14274059284278856,-0.050257470458745956,0.01510204780580742,0.02125994169286319,0.007570797577500343,0.05649721516030175,0.16502034344843455,0.039777244574257305,-0.16253113082244194,-0.01067770432148661,-0.17578855901956558,0.23085750236350577,0.06713873147964478,-0.07585985200213534,-0.05229079483875206,0.06109583830194813,0.13133625746039407,0.04089433459531782,-0.11472950263747146,0.03970088064670563,0.10349257120729556,-0.0203821330464312,0.07822595882628645,-0.08344274466591221,-0.06337321010817375,-0.08505984608616148,-0.06493143551051617,-0.06829100514629056,-0.12845700314002376,0.08443024435213634,-0.08050525713978068,0.13782672823539802,-0.01551378532894887,0.05201375324811254,0.03038395142980984,-0.005132963082620076,0.06981012584375483,0.04957706055470875,-0.008996484668127127,0.08923803935093538,0.16998114263904945,-0.13961176507707151,0.08559441566467285,-0.1844572028411286,0.09747293811025363,0.02972715387919119,-0.14118591862331542,-0.020657502646957124,0.06390987283417156,-0.0417879980190524,-0.06626326510948793,-0.02086737139948777,0.12101732939481735,0.02899277675896883,-0.056833824408905845,0.03201372930613745,0.034324309788644314,0.18012009454624991,0.04312131979635783,0.11602764736328805,0.030591278469988277,0.11860583110579422,-0.03155857464298606,-0.004349592507683805,0.11253731617970125,-0.043935147513236315,-0.006549322179385594,0.09781809151172638,0.09057013996477638,0.026748622102396827,0.1183852670448167,-0.11262364519227827,0.002830431397472109,0.04413591112409319,0.04209152289799281,0.19316030007654,0.12202603369951248,-0.08677171403542161,-0.12484557607344218,0.05803706177643367,-0.05447642891002553,0.05028233065136841,-0.006726818957499095,-0.033380742583956034,-0.1678379646369389,0.04962527352784361,0.08407785134789135,0.11718402270759855,0.20733764448336192,-0.029294796021921293,-0.03215163613536528,-0.30534169929368155,0.06001835223287344,-0.14098850464714424,0.03312930544572217,-0.04971983576459544,-0.07106051141662256,-0.17020356468856335,-0.16921371061887058,0.029515612604362623,0.02666183082120759,0.10308217363698141,-0.11554556206933089,-0.21845032347898397,-0.0314218843621867,0.013086738863161631,-0.011597444968564168,-0.028653790675369755,0.049389074822621684,0.1979497532759394,-0.019718945225966827,-0.0463828481733799,0.07113189942070415,0.0018899179995059967,-0.18020671659282275,-0.03828792706398027,-0.07326479019996311,-6.843040298138346E-4,0.009874628191547734,0.19198402549539292,-0.1465491306568895,0.046023349144629064,-0.007539530683841024,0.011546553511704716,0.007627524768135377,0.10221655453954423,0.05253741544272218,-0.0028493257372507025,0.01634642295539379,-0.05712197298583175,0.08672413123505456,-0.10971600851709289,-0.07258392950253827,-0.017926949142877544,0.045959850773215294,-0.09652116495583737,0.033380587718316486,0.056675513940198076,0.05293502166335071,0.04272968109164919,-0.13007582617657523,0.04228071442672184,0.05139464805168765,0.0690507415149893,-0.04111407910074506,-0.0438808887930853,-0.06003577448427677,0.007916051362242016,-0.07184913601460201,-0.05956581195018121,0.009755300091845649,0.08992014066981417,-0.05971666372248104,0.12868766313684837,-0.04043905954209289,-0.05203339603862592,-0.030329084123617834,-0.07517217977770736,0.0961181323177048,-0.015449150864567074,-0.10979831351765564,0.07935363160712378,-0.0020044403416769846,-0.026476796982543807,0.01779264348026897]                            |\n",
      "+------------------------------------+--------+----------------------------+-----+------+----------+-------------------------------------------+----------------------------------------------------+-----------------------------------------------------------------------------------------------------------------------------------------------------------------------------------------------------------------------------------------------------------------------------------------------------------------------------------------------------------------------------------------------------------------------------------------------------------------------------------------------------------------------------------------------------------------------------------------------------------------------------------------------------------------------------------------------------------------------------------------------------------------------------------------------------------------------------------------------------------------------------------------------------------------------------------------------------------------------------------------------------------------------------------------------------------------------------------------------------------------------------------------------------------------------------------------------------------------------------------------------------------------------------------------------------------------------------------------------------------------------------------------------------------------------------------------------------------------------------------------------------------------------------------------------------------------------------------------------------------------------------------------------------------------------------------------------------------------------------------------------------------------------------------------------------------------------------------------------------------------------------------------------------------------------------------------------------------------------------------------------------------------------------------------------------------------------------------------------------------------------------------------------------------------------------------------------------------------------------------------------------------------------------------------------------------------------------------------------------------------------------------------------------------------------------------------------------------------------------------------------------------------------------------------------------------------------------------------------------------------------------------------------------------------------------------------------------------------------------------------------------------------------------------------------------------------------------------------------------------------------------------------------------------------------------------------------------------------------------------------------------------------------------------------------------------------------------------------------------------------------------------------------------------------------------------------------------------------------------------------------------------------------------------------------------------------------------------------------------------------------------------------------------------------------------------------------------------------------------------------------------------------------------------------------------------------------------------------------------------------------------------------------------------------------------------------------------------------------------------------------------------------------------------------------------------------------------------------------------------------------------------------------------------------------------------------------------------------------------------------------------------------------------------------------------------------------------------------------------------------------------------------------------------------------------------------------------------------------------------------------------------------------------------------------------------------------------------------------------------------------------------------------------------------------------------------------------------------------------------------------------------------------------------------------------------------------------------------------------------------------------------------------------------------------------------------------------------------------------------------------------------------------------------------------------------------------------------------------------------------------------------------------------------------------------------------------------------------------------------------------------------------------------------------------------------------------------------------------------------------------------------------------------------------------------------------------------------------------------------------------------------------------------------------------------------------------------------------------------------------------------------------------------------------------------------------------------------------------------------------------------------------------------------------------------------------------------------------------------------------------------------------------------------------------------------------------------------------------------------------------------------------------------------------------------------------------------------------------------------------------------------------------------------------------------------------------------------------------------------------------------------------------------------------------------------------------------------------------------------------------------------------------------------------------------------------------------------------------------------------------------------------------------------------------------------------------------------------------------------------------------------------------------------------------------------------------------------------------------------------+\n",
      "only showing top 20 rows\n",
      "\n"
     ]
    },
    {
     "name": "stderr",
     "output_type": "stream",
     "text": [
      "                                                                                \r"
     ]
    }
   ],
   "source": [
    "word2vec_result.show(truncate=False)"
   ]
  },
  {
   "cell_type": "markdown",
   "metadata": {},
   "source": [
    "#### Escritura del modelo y del dataset con el embedding"
   ]
  },
  {
   "cell_type": "code",
   "execution_count": null,
   "metadata": {},
   "outputs": [
    {
     "name": "stderr",
     "output_type": "stream",
     "text": [
      "24/03/19 16:08:22 WARN TaskSetManager: Stage 181 contains a task of very large size (18046 KiB). The maximum recommended task size is 1000 KiB.\n",
      "                                                                                \r"
     ]
    }
   ],
   "source": [
    "try:\n",
    "  model_word2vec.write().overwrite().save(\"../models/word2vec_model\")\n",
    "except:\n",
    "  print('No se ha podido guardar el modelo word2vec.')"
   ]
  },
  {
   "cell_type": "code",
   "execution_count": null,
   "metadata": {},
   "outputs": [
    {
     "name": "stderr",
     "output_type": "stream",
     "text": [
      "                                                                                \r"
     ]
    }
   ],
   "source": [
    "try:\n",
    "  word2vec_result.write.format('parquet').save(\"../data/proccesed_data/word2vec_result.parquet\")\n",
    "except:\n",
    "  print('No se ha podido guardar el dataset con embedding word2vec.')"
   ]
  },
  {
   "cell_type": "markdown",
   "metadata": {},
   "source": [
    "### Representación con GPT"
   ]
  },
  {
   "cell_type": "code",
   "execution_count": 3,
   "metadata": {},
   "outputs": [],
   "source": [
    "from pyspark.sql.types import ArrayType, FloatType\n",
    "from pyspark.sql.functions import udf\n",
    "from openai import OpenAI\n",
    "\n",
    "def get_embedding(text, model=\"text-embedding-3-small\"):\n",
    "    client = OpenAI(api_key=\"***REMOVED***\")\n",
    "    text = text.replace(\"\\n\", \" \")\n",
    "    return client.embeddings.create(input=[text], model=model).data[0].embedding\n",
    "\n",
    "# Definir la función UDF y especificar el tipo de dato de retorno como ArrayType(FloatType())\n",
    "embedding_udf = udf(lambda text: get_embedding(text), ArrayType(FloatType()))\n",
    "\n",
    "# Aplicar la función UDF al DataFrame y crear una nueva columna llamada embeddings\"\n",
    "gpt3_result = train_df.withColumn(\"embedding\", embedding_udf(\"direccion\"))"
   ]
  },
  {
   "cell_type": "code",
   "execution_count": null,
   "metadata": {},
   "outputs": [],
   "source": [
    "gpt3_result.show(truncate=False)"
   ]
  },
  {
   "cell_type": "markdown",
   "metadata": {},
   "source": [
    "#### Escritura del dataset con el embedding"
   ]
  },
  {
   "cell_type": "code",
   "execution_count": null,
   "metadata": {},
   "outputs": [
    {
     "name": "stderr",
     "output_type": "stream",
     "text": [
      "[Stage 1051:=====================================>                (22 + 8) / 32]\r"
     ]
    },
    {
     "name": "stdout",
     "output_type": "stream",
     "text": [
      "No se ha podido guardar el dataset con embedding de gpt3.\n"
     ]
    },
    {
     "name": "stderr",
     "output_type": "stream",
     "text": [
      "[Stage 1051:====================================================> (31 + 1) / 32]\r"
     ]
    }
   ],
   "source": [
    "try:\n",
    "  gpt3_result.write.format('parquet').save(\"../data/proccesed_data/gpt3_result.parquet\")\n",
    "except:\n",
    "  print('No se ha podido guardar el dataset con embedding de gpt3.')"
   ]
  },
  {
   "cell_type": "markdown",
   "metadata": {},
   "source": [
    "### Representación con MiniLM"
   ]
  },
  {
   "cell_type": "code",
   "execution_count": 29,
   "metadata": {},
   "outputs": [
    {
     "name": "stderr",
     "output_type": "stream",
     "text": [
      "/home/usuario/Address-matching/env_address_matching/lib/python3.10/site-packages/tqdm/auto.py:21: TqdmWarning: IProgress not found. Please update jupyter and ipywidgets. See https://ipywidgets.readthedocs.io/en/stable/user_install.html\n",
      "  from .autonotebook import tqdm as notebook_tqdm\n"
     ]
    }
   ],
   "source": [
    "from sentence_transformers import SentenceTransformer\n",
    "from pyspark.sql.types import ArrayType, FloatType\n",
    "from pyspark.sql.functions import udf\n",
    "\n",
    "model = SentenceTransformer(\"all-MiniLM-L6-v2\")\n",
    "\n",
    "def minilm_embedding(direccion):\n",
    "    \"\"\" Calcula el embedding de la direccion dada y lo convierte a una lista para evitar la serelización de Spark \"\"\"\n",
    "    # Sentences are encoded by calling model.encode()\n",
    "    embedding = model.encode(direccion)\n",
    "    return embedding.tolist()  # Convertir el embedding a una lista de Python para evitar la serelización\n",
    "\n",
    "@udf(returnType=ArrayType(FloatType()))\n",
    "def minilm_embedding_udf(direccion):\n",
    "    return minilm_embedding(direccion)\n",
    "\n",
    "minilm_result = train_df.withColumn(\"embedding\", minilm_embedding_udf(\"direccion\"))"
   ]
  },
  {
   "cell_type": "code",
   "execution_count": null,
   "metadata": {},
   "outputs": [],
   "source": [
    "minilm_result.show(truncate=False)"
   ]
  },
  {
   "cell_type": "markdown",
   "metadata": {},
   "source": [
    "#### Escritura del modelo y del dataset con el embedding"
   ]
  },
  {
   "cell_type": "code",
   "execution_count": null,
   "metadata": {},
   "outputs": [
    {
     "name": "stderr",
     "output_type": "stream",
     "text": [
      "                                                                                \r"
     ]
    }
   ],
   "source": [
    "# ~200min\n",
    "try:\n",
    "  minilm_result.write.format('parquet').save(\"../data/proccesed_data/minilm_result.parquet\")\n",
    "except:\n",
    "  print('No se ha podido guardar el dataset con embedding de minilm.')"
   ]
  },
  {
   "cell_type": "markdown",
   "metadata": {},
   "source": [
    "### Representación gráfica"
   ]
  },
  {
   "cell_type": "code",
   "execution_count": 62,
   "metadata": {},
   "outputs": [
    {
     "name": "stderr",
     "output_type": "stream",
     "text": [
      "                                                                                \r"
     ]
    },
    {
     "name": "stdout",
     "output_type": "stream",
     "text": [
      "[['calle', 'sotavento', '118', 'antigua'], ['calle', 'fermina', '55', 'arrecife'], ['calle', 'b', 'villa', 'pirula', '26', 'la', 'oliva'], ['calle', 'bilbao', '55', 'arrecife'], ['calle', 'guanarteme', 'cruce', 'arinaga', '133', 'agüimes'], ['calle', 'dr', 'barnard', '3', 'ingenio'], ['calle', 'palmeral', '1', 'haria'], ['calle', 'verol', 'caleta', 'fuste', '25', 'antigua'], ['calle', 'diama', 'argana', 'alta', '41', 'arrecife'], ['calle', 'camino', 'volcan', 'macher', '7', 'arrecife']]\n"
     ]
    }
   ],
   "source": [
    "from pyspark.ml.feature import Tokenizer\n",
    "\n",
    "tokenizer = Tokenizer(inputCol=\"direccion\", outputCol=\"words\")\n",
    "tokenized_sentences = tokenizer.transform(adresses_df).select(\"words\").collect()\n",
    "tokenized_sentences = [sentence.words for sentence in tokenized_sentences]\n",
    "print(tokenized_sentences[:10])"
   ]
  },
  {
   "cell_type": "code",
   "execution_count": 63,
   "metadata": {},
   "outputs": [
    {
     "name": "stdout",
     "output_type": "stream",
     "text": [
      "+---------+-------+------------------+\n",
      "|     word|  count|         frequency|\n",
      "+---------+-------+------------------+\n",
      "|    calle|1163401| 9.279369890329013|\n",
      "|       de| 987371| 7.875341974077767|\n",
      "|      san| 472800| 3.771086739780658|\n",
      "|       la| 398688| 3.179964107676969|\n",
      "|    santa| 284912| 2.272478564307079|\n",
      "|     gran| 238890|1.9054037886340978|\n",
      "|  canaria| 227676|1.8159601196410768|\n",
      "|     cruz| 223350|1.7814556331006979|\n",
      "|   laguna| 211761|1.6890209371884346|\n",
      "|cristobal| 210151|1.6761794616151546|\n",
      "|   palmas| 197517|1.5754097706879362|\n",
      "|      las| 195800|1.5617148554336988|\n",
      "| tenerife| 159233|1.2700538384845463|\n",
      "|        0| 145890| 1.163629112662014|\n",
      "|  avenida| 124823|0.9955972083748754|\n",
      "|   camino| 109253|0.8714097706879362|\n",
      "|        1| 107738|0.8593260219341974|\n",
      "| tirajana| 105530| 0.841714855433699|\n",
      "|      los| 102542|0.8178823529411765|\n",
      "|carretera| 101610|0.8104486540378864|\n",
      "+---------+-------+------------------+\n",
      "only showing top 20 rows\n",
      "\n"
     ]
    }
   ],
   "source": [
    "word_counter = dict()\n",
    "for sentence in tokenized_sentences:\n",
    "    for word in sentence:\n",
    "        if word not in word_counter:\n",
    "            word_counter[word] = 1\n",
    "        else:\n",
    "            word_counter[word] += 1\n",
    "\n",
    "word_counter = spark.createDataFrame(\n",
    "    word_counter.items(),\n",
    "    [\"word\", \"count\"]\n",
    ").orderBy(\"count\", ascending = False)\n",
    "\n",
    "# Creo la columa frecuencia\n",
    "word_counter = word_counter.withColumn(\n",
    "    \"frequency\",\n",
    "    word_counter[\"count\"] / word_counter.count()\n",
    ")\n",
    "word_counter.show()"
   ]
  },
  {
   "cell_type": "code",
   "execution_count": 67,
   "metadata": {},
   "outputs": [
    {
     "data": {
      "text/plain": [
       "<Axes: xlabel='word'>"
      ]
     },
     "execution_count": 67,
     "metadata": {},
     "output_type": "execute_result"
    },
    {
     "data": {
      "image/png": "[encoded data removed]",
      "text/plain": [
       "<Figure size 640x480 with 1 Axes>"
      ]
     },
     "metadata": {},
     "output_type": "display_data"
    }
   ],
   "source": [
    "import matplotlib.pyplot\n",
    "# Imprimir las 20 palabras más frecuentes\n",
    "word_counter.toPandas().head(15).plot.bar(x = \"word\", y = \"frequency\")"
   ]
  },
  {
   "cell_type": "markdown",
   "metadata": {},
   "source": [
    "## Distancia entre direcciones"
   ]
  },
  {
   "cell_type": "markdown",
   "metadata": {},
   "source": [
    "#### Lectura del dataframe de validación"
   ]
  },
  {
   "cell_type": "code",
   "execution_count": 4,
   "metadata": {},
   "outputs": [],
   "source": [
    "try:\n",
    "  test_df = spark.read.format('parquet').load('../data/proccesed_data/test_dataframe2.parquet').repartition(32)\n",
    "except:\n",
    "  print('No se ha podido leer el dataset de testeo.')"
   ]
  },
  {
   "cell_type": "markdown",
   "metadata": {},
   "source": [
    "# *TODO*:\n",
    "- Hacer todo por lotes. Aplicar el crossjoin por lotes y realizar las evaluaciones\n",
    "- Extraer muestras para realizar las evaluaciones\n",
    "- Buscar la manera de extraer la informacion para usar Chromadb, es posible aplicar la realizacion por lotes\n",
    "- Dos opciones: tener dos dataframes en chroma o tener uno pero añadir metadato para diferenciarlos."
   ]
  },
  {
   "cell_type": "markdown",
   "metadata": {},
   "source": [
    "## 10/04\n",
    "- Limitar los datos a un municipio o isla para verlos resultados y comprobar que todo funciona (añadir como metadato el munipio y codigo postal)\n",
    "- Comprobar cuanto destacan las distancias"
   ]
  },
  {
   "cell_type": "markdown",
   "metadata": {},
   "source": [
    "### Distancia del coseno"
   ]
  },
  {
   "cell_type": "code",
   "execution_count": 5,
   "metadata": {},
   "outputs": [
    {
     "data": {
      "text/plain": [
       "' from pyspark.sql.window import Window\\nfrom pyspark.sql.functions import row_number, col\\nfrom pyspark.sql.types import FloatType\\nfrom pyspark.sql.functions import udf\\nfrom functools import reduce\\n\\n# Función para calcular la similitud del coseno\\n@udf(returnType=FloatType())\\ndef cosine_similarity(embedding_dir1, dirembedding_dir2):\\n    return float(embedding_dir1.dot(dirembedding_dir2) / (embedding_dir1.norm(2) * dirembedding_dir2.norm(2)))\\n\\n# Registrar la función UDF en Spark\\nspark.udf.register(\"cosine_similarity\", cosine_similarity)\\n\\n# Función para calcular la similitud del coseno en lotes\\ndef calculate_cosine_similarity_in_batches(df1, df2, batch_size=1000):\\n    \\n    df2 = df2.select(\"uuid_idt\", \"direccion\", \"embedding\")       .withColumnRenamed(\"uuid_idt\", \"uuid_idt2\")       .withColumnRenamed(\"direccion\", \"direccion2\")       .withColumnRenamed(\"embedding\", \"embedding2\")     # Obtener el número total de filas en df2\\n    total_rows = df2.count()\\n    # Calcular el número total de lotes\\n    num_batches = total_rows // batch_size + (1 if total_rows % batch_size > 0 else 0)\\n    \\n    # Lista para almacenar los resultados\\n    results = []\\n    \\n    # Procesar en lotes\\n    for i in range(num_batches):\\n        # Obtener el rango de filas para el lote actual\\n        start_row = i * batch_size\\n        end_row = min((i + 1) * batch_size, total_rows)\\n        \\n        # Obtener el lote del DataFrame df2\\n        batch_df2 = df2.limit(end_row).subtract(df2.limit(start_row))\\n        \\n        # Realizar el join entre los lotes\\n        joined_df = batch_df2.crossJoin(df1)\\n        \\n        # Calcular la similitud del coseno en el lote actual\\n        batch_results = joined_df.withColumn(\"cosine_similarity\", cosine_similarity(\"embedding2\", \"embedding\"))\\n        \\n        # Agregar los resultados del lote a la lista\\n        results.append(batch_results)\\n    \\n    # Combinar los resultados de los lotes en un solo DataFrame\\n    return reduce(lambda df1, df2: df1.union(df2), results)\\n\\n# Función para filtrar los 3 mejores resultados\\ndef filter_3_best(dataset):\\n    # Definir la ventana de partición por uuid_idt y ordenar por la columna cosine_similarity en orden descendente\\n    windowSpec = Window.partitionBy(\"uuid_idt\").orderBy(col(\"cosine_similarity\").desc())\\n\\n    # Agregar una columna \"rank\" que contiene el número de fila para cada partición\\n    cosine_similarity_df = dataset.withColumn(\"rank\", row_number().over(windowSpec))\\n\\n    # Filtrar para mantener solo los 3 mejores resultados para cada uuid_idt\\n    top3_cosine_similarity_df = cosine_similarity_df.filter(col(\"rank\") <= 3)\\n\\n    # Eliminar la columna \"rank\" ya que ya no la necesitamos\\n    return top3_cosine_similarity_df.drop(\"rank\")\\n\\n# Función para calcular la proporción de aceptación\\ndef accertion_ratio(dataframe):\\n    return dataframe.filter(\"evaluation == true\").count() / dataframe.count() \\n    \\nfrom pyspark.ml.feature import Tokenizer\\n\\ntokenizer = Tokenizer(inputCol=\"direccion\", outputCol=\"words\")\\nw2v_cosine = tokenizer.transform(test_dataframe)\\nw2v_cosine = w2v_model.transform(w2v_cosine).select(\"uuid_idt\", \"direccion\", \"embedding\")\\n\\n# Realizar el cálculo de la similitud del coseno en lotes\\ncosine_similarity_df = calculate_cosine_similarity_in_batches(w2v_cosine, word2vec_result)\\n\\n# Filtrar los 3 mejores resultados\\ntop3_cosine_similarity_df = filter_3_best(cosine_similarity_df)\\n\\n# Calcular la proporción de aceptación\\nacceptance_ratio = accertion_ratio(top3_cosine_similarity_df)\\n\\n# Mostrar resultados o hacer lo que necesites con ellos\\ntop3_cosine_similarity_df.show()    \\n'"
      ]
     },
     "execution_count": 5,
     "metadata": {},
     "output_type": "execute_result"
    }
   ],
   "source": [
    "from pyspark.sql.window import Window\n",
    "from pyspark.sql.functions import row_number, col\n",
    "from pyspark.sql.types import FloatType\n",
    "from pyspark.sql.functions import udf\n",
    "\n",
    "def accertion_ratio(dataframe):\n",
    "  return dataframe.filter(\"evaluation == true\").count() / dataframe.count()\n",
    "\n",
    "def calculate_cosine_similarity(df1, df2):\n",
    "  \"\"\" Realiza el cross join de dos dataframes \"\"\"\n",
    "  \n",
    "  return df2.select(\"uuid_idt\", \"direccion\", \"embedding\") \\\n",
    "    .withColumnRenamed(\"uuid_idt\", \"uuid_idt2\") \\\n",
    "    .withColumnRenamed(\"direccion\", \"direccion2\") \\\n",
    "    .withColumnRenamed(\"embedding\", \"embedding2\") \\\n",
    "    .crossJoin(df1) \\\n",
    "    .repartition(32) \\\n",
    "    .withColumn(\"cosine_similarity\", cosine_similarity(\"embedding\", \"embedding2\"))\n",
    "  \n",
    "def filter_3_best(dataset):\n",
    "  # Definimos la ventana de partición por uuid_idt y ordenamos por la columna cosine_similarity en orden descendente\n",
    "  windowSpec = Window.partitionBy(\"uuid_idt\").orderBy(col(\"cosine_similarity\").desc())\n",
    "\n",
    "  cosine_similarity_df = dataset.withColumn(\"rank\", row_number().over(windowSpec))\n",
    "\n",
    "  top3_cosine_similarity_df = cosine_similarity_df.filter(col(\"rank\") <= 3)\n",
    "  # top3_cosine_similarity_df.select(\"uuid_idt2\", \"direccion2\", \"uuid_idt\", \"direccion\", \"rank\").show()\n",
    "  return top3_cosine_similarity_df.drop(\"rank\")\n",
    "\n",
    "@udf(returnType=FloatType())\n",
    "def cosine_similarity(embedding_dir1, dirembedding_dir2):\n",
    "    return float(embedding_dir1.dot(dirembedding_dir2) / (embedding_dir1.norm(2) * dirembedding_dir2.norm(2)))\n",
    "\n",
    "# Registrar la función UDF en Spark\n",
    "spark.udf.register(\"cosine_similarity\", cosine_similarity)\n",
    "\n",
    "\"\"\" from pyspark.sql.window import Window\n",
    "from pyspark.sql.functions import row_number, col\n",
    "from pyspark.sql.types import FloatType\n",
    "from pyspark.sql.functions import udf\n",
    "from functools import reduce\n",
    "\n",
    "# Función para calcular la similitud del coseno\n",
    "@udf(returnType=FloatType())\n",
    "def cosine_similarity(embedding_dir1, dirembedding_dir2):\n",
    "    return float(embedding_dir1.dot(dirembedding_dir2) / (embedding_dir1.norm(2) * dirembedding_dir2.norm(2)))\n",
    "\n",
    "# Registrar la función UDF en Spark\n",
    "spark.udf.register(\"cosine_similarity\", cosine_similarity)\n",
    "\n",
    "# Función para calcular la similitud del coseno en lotes\n",
    "def calculate_cosine_similarity_in_batches(df1, df2, batch_size=1000):\n",
    "    \n",
    "    df2 = df2.select(\"uuid_idt\", \"direccion\", \"embedding\") \\\n",
    "      .withColumnRenamed(\"uuid_idt\", \"uuid_idt2\") \\\n",
    "      .withColumnRenamed(\"direccion\", \"direccion2\") \\\n",
    "      .withColumnRenamed(\"embedding\", \"embedding2\") \\\n",
    "    # Obtener el número total de filas en df2\n",
    "    total_rows = df2.count()\n",
    "    # Calcular el número total de lotes\n",
    "    num_batches = total_rows // batch_size + (1 if total_rows % batch_size > 0 else 0)\n",
    "    \n",
    "    # Lista para almacenar los resultados\n",
    "    results = []\n",
    "    \n",
    "    # Procesar en lotes\n",
    "    for i in range(num_batches):\n",
    "        # Obtener el rango de filas para el lote actual\n",
    "        start_row = i * batch_size\n",
    "        end_row = min((i + 1) * batch_size, total_rows)\n",
    "        \n",
    "        # Obtener el lote del DataFrame df2\n",
    "        batch_df2 = df2.limit(end_row).subtract(df2.limit(start_row))\n",
    "        \n",
    "        # Realizar el join entre los lotes\n",
    "        joined_df = batch_df2.crossJoin(df1)\n",
    "        \n",
    "        # Calcular la similitud del coseno en el lote actual\n",
    "        batch_results = joined_df.withColumn(\"cosine_similarity\", cosine_similarity(\"embedding2\", \"embedding\"))\n",
    "        \n",
    "        # Agregar los resultados del lote a la lista\n",
    "        results.append(batch_results)\n",
    "    \n",
    "    # Combinar los resultados de los lotes en un solo DataFrame\n",
    "    return reduce(lambda df1, df2: df1.union(df2), results)\n",
    "\n",
    "# Función para filtrar los 3 mejores resultados\n",
    "def filter_3_best(dataset):\n",
    "    # Definir la ventana de partición por uuid_idt y ordenar por la columna cosine_similarity en orden descendente\n",
    "    windowSpec = Window.partitionBy(\"uuid_idt\").orderBy(col(\"cosine_similarity\").desc())\n",
    "\n",
    "    # Agregar una columna \"rank\" que contiene el número de fila para cada partición\n",
    "    cosine_similarity_df = dataset.withColumn(\"rank\", row_number().over(windowSpec))\n",
    "\n",
    "    # Filtrar para mantener solo los 3 mejores resultados para cada uuid_idt\n",
    "    top3_cosine_similarity_df = cosine_similarity_df.filter(col(\"rank\") <= 3)\n",
    "\n",
    "    # Eliminar la columna \"rank\" ya que ya no la necesitamos\n",
    "    return top3_cosine_similarity_df.drop(\"rank\")\n",
    "\n",
    "# Función para calcular la proporción de aceptación\n",
    "def accertion_ratio(dataframe):\n",
    "    return dataframe.filter(\"evaluation == true\").count() / dataframe.count() \n",
    "    \n",
    "from pyspark.ml.feature import Tokenizer\n",
    "\n",
    "tokenizer = Tokenizer(inputCol=\"direccion\", outputCol=\"words\")\n",
    "w2v_cosine = tokenizer.transform(test_dataframe)\n",
    "w2v_cosine = w2v_model.transform(w2v_cosine).select(\"uuid_idt\", \"direccion\", \"embedding\")\n",
    "\n",
    "# Realizar el cálculo de la similitud del coseno en lotes\n",
    "cosine_similarity_df = calculate_cosine_similarity_in_batches(w2v_cosine, word2vec_result)\n",
    "\n",
    "# Filtrar los 3 mejores resultados\n",
    "top3_cosine_similarity_df = filter_3_best(cosine_similarity_df)\n",
    "\n",
    "# Calcular la proporción de aceptación\n",
    "acceptance_ratio = accertion_ratio(top3_cosine_similarity_df)\n",
    "\n",
    "# Mostrar resultados o hacer lo que necesites con ellos\n",
    "top3_cosine_similarity_df.show()    \n",
    "\"\"\"\n"
   ]
  },
  {
   "cell_type": "markdown",
   "metadata": {},
   "source": [
    "### Word2Vec"
   ]
  },
  {
   "cell_type": "code",
   "execution_count": 4,
   "metadata": {},
   "outputs": [],
   "source": [
    "try:\n",
    "  word2vec_result = spark.read.format('parquet').load('../data/proccesed_data/word2vec_result.parquet')\n",
    "except:\n",
    "  print('No se ha podido leer el dataset de testeo.')"
   ]
  },
  {
   "cell_type": "code",
   "execution_count": 27,
   "metadata": {},
   "outputs": [
    {
     "name": "stderr",
     "output_type": "stream",
     "text": [
      "24/04/24 15:21:31 WARN DAGScheduler: Broadcasting large task binary with size 28.1 MiB\n",
      "24/04/24 15:21:45 WARN DAGScheduler: Broadcasting large task binary with size 28.1 MiB\n",
      "[Stage 339:>                                                        (0 + 1) / 1]\r"
     ]
    },
    {
     "name": "stdout",
     "output_type": "stream",
     "text": [
      "+--------------------------+------+\n",
      "|nommun                    |count |\n",
      "+--------------------------+------+\n",
      "|San Cristóbal de La Laguna|129528|\n",
      "|Las Palmas de Gran Canaria|117137|\n",
      "|Santa Cruz de Tenerife    |97068 |\n",
      "|Arona                     |64118 |\n",
      "|Telde                     |49493 |\n",
      "|San Bartolomé de Tirajana |40827 |\n",
      "|La Orotava                |37390 |\n",
      "|Adeje                     |35897 |\n",
      "|Granadilla de Abona       |29390 |\n",
      "|Arrecife                  |27999 |\n",
      "|Santa Lucía de Tirajana   |25174 |\n",
      "|Puerto del Rosario        |24664 |\n",
      "|Los Realejos              |22031 |\n",
      "|Icod de los Vinos         |21083 |\n",
      "|La Oliva                  |21061 |\n",
      "|Arucas                    |20798 |\n",
      "|Pájara                    |18933 |\n",
      "|Puerto de la Cruz         |18794 |\n",
      "|San Miguel de Abona       |18465 |\n",
      "|Candelaria                |18022 |\n",
      "+--------------------------+------+\n",
      "only showing top 20 rows\n",
      "\n"
     ]
    },
    {
     "name": "stderr",
     "output_type": "stream",
     "text": [
      "                                                                                \r"
     ]
    }
   ],
   "source": [
    "word2vec_result.groupBy(\"nommun\").count().orderBy('count', ascending=False).show(truncate=False)"
   ]
  },
  {
   "cell_type": "code",
   "execution_count": 28,
   "metadata": {},
   "outputs": [],
   "source": [
    "w2v_model = model_word2vec"
   ]
  },
  {
   "cell_type": "code",
   "execution_count": 6,
   "metadata": {},
   "outputs": [
    {
     "name": "stderr",
     "output_type": "stream",
     "text": [
      "                                                                                \r"
     ]
    }
   ],
   "source": [
    "from pyspark.ml.feature import Word2VecModel\n",
    "\n",
    "w2v_model = Word2VecModel.load(\"../models/word2vec_model\")"
   ]
  },
  {
   "cell_type": "code",
   "execution_count": 29,
   "metadata": {},
   "outputs": [],
   "source": [
    "# Filter\n",
    "word2vec_result = word2vec_result.filter(\"nommun == 'San Cristóbal de La Laguna'\")"
   ]
  },
  {
   "cell_type": "code",
   "execution_count": 30,
   "metadata": {},
   "outputs": [],
   "source": [
    "from pyspark.ml.feature import Tokenizer\n",
    "\n",
    "tokenizer = Tokenizer(inputCol=\"direccion\", outputCol=\"words\")\n",
    "w2v_cosine = tokenizer.transform(test_df)\n",
    "\n",
    "# Filter\n",
    "w2v_cosine = w2v_cosine.filter(\"nommun == 'San Cristóbal de La Laguna'\") \n",
    "\n",
    "w2v_cosine = w2v_model.transform(w2v_cosine).select(\"uuid_idt\", \"direccion\", \"embedding\")"
   ]
  },
  {
   "cell_type": "code",
   "execution_count": 9,
   "metadata": {},
   "outputs": [
    {
     "name": "stderr",
     "output_type": "stream",
     "text": [
      "                                                                                \r"
     ]
    },
    {
     "name": "stdout",
     "output_type": "stream",
     "text": [
      "170143\n",
      "83001\n"
     ]
    }
   ],
   "source": [
    "print(word2vec_result.count())\n",
    "print(w2v_cosine.count())"
   ]
  },
  {
   "cell_type": "code",
   "execution_count": 31,
   "metadata": {},
   "outputs": [],
   "source": [
    "\"\"\" \n",
    "word2vec_result: 1.779.568\n",
    "w2v_cosine: 451.876\n",
    "crossjoin result: 804.144.069.568 (df1 x df2) \n",
    "\"\"\"\n",
    "\n",
    "evaluated_word2vec_cosine = calculate_cosine_similarity(word2vec_result, w2v_cosine)\n",
    "# evaluated_word2vec_cosine.sort(asc(\"uuid_idt2\")).show()\n",
    "evaluated_word2vec_cosine = filter_3_best(evaluated_word2vec_cosine)\n",
    "# evaluated_word2vec_cosine.sort(asc(\"uuid_idt2\")).show()\n",
    "# evaluated_word2vec_cosine.groupBy(\"uuid_idt\").count().show()\n",
    "evaluated_word2vec_cosine = evaluated_word2vec_cosine.repartition(32)\n",
    "evaluated_word2vec_cosine = evaluated_word2vec_cosine.withColumn(\"evaluation\", evaluated_word2vec_cosine.uuid_idt == evaluated_word2vec_cosine.uuid_idt2)\n",
    "\n",
    "# from pyspark.sql.functions import desc, asc\n",
    "# evaluated_word2vec_cosine.sort(asc(\"uuid_idt2\")).show()"
   ]
  },
  {
   "cell_type": "markdown",
   "metadata": {},
   "source": [
    "#### Evaluación"
   ]
  },
  {
   "cell_type": "code",
   "execution_count": 32,
   "metadata": {},
   "outputs": [
    {
     "name": "stderr",
     "output_type": "stream",
     "text": [
      "                                                                                \r"
     ]
    },
    {
     "data": {
      "text/plain": [
       "5"
      ]
     },
     "execution_count": 32,
     "metadata": {},
     "output_type": "execute_result"
    }
   ],
   "source": [
    "evaluated_word2vec_cosine.filter(\"evaluation == 'True'\").count()"
   ]
  },
  {
   "cell_type": "code",
   "execution_count": null,
   "metadata": {},
   "outputs": [],
   "source": [
    "evaluated_word2vec_cosine.select(\"uuid_idt\").count()"
   ]
  },
  {
   "cell_type": "code",
   "execution_count": 13,
   "metadata": {},
   "outputs": [
    {
     "name": "stdout",
     "output_type": "stream",
     "text": [
      "+--------------------+-----------+--------------------+-----+------+--------------------+--------------------+--------------------+--------------------+\n",
      "|            uuid_idt|       tvia|                nvia|numer|codmun|              nommun|           direccion|               words|           embedding|\n",
      "+--------------------+-----------+--------------------+-----+------+--------------------+--------------------+--------------------+--------------------+\n",
      "|01987842-FBE4-460...|     PARAJE|            HERCULES|   10| 38023|San Cristóbal de ...|PARAJE HERCLUES 1...|[paraje, herclues...|[0.04731898475438...|\n",
      "|030CD241-C682-411...|EXTRARRADIO|LUNA LLENA TRANSV...|    9| 38023|San Cristóbal de ...|EXTRARRADIO LUNA ...|[extrarradio, lun...|[-0.0215288131342...|\n",
      "|039FAD75-7525-11E...|      VALLE|       CAMINO CAÑADA|  109| 38023|San Cristóbal de ...|VALLE CAMINO CAÑA...|[valle, camino, c...|[0.06081359729998...|\n",
      "|03A2B8C4-7525-11E...|    ENTRADA|PUNTA HIDALGO BAJ...|    0| 38023|San Cristóbal de ...|ENTRADA PUNTA HID...|[entrada, punta, ...|[0.08374289870262...|\n",
      "|03A2B8C4-7525-11E...|         CC|GENERAL A PUNTA H...|    0| 38023|San Cristóbal de ...|CC GNEERAL A PUNT...|[cc, gneeral, a, ...|[0.10588502206585...|\n",
      "|03A2B8C4-7525-11E...|    TRASERA|GENERAL PUNTA HID...|    0| 38023|San Cristóbal de ...|TRASERA GENERAL P...|[trasera, general...|[0.05983565002679...|\n",
      "|05A0F717-FE12-408...|    AVENIDA|   HURONCILLO TEJINA|    0| 38023|San Cristóbal de ...|AVENIDA HURONCILO...|[avenida, huronci...|[0.05814484781068...|\n",
      "|05DF4E46-4F82-450...|    ANGOSTA|               CARTA|   10| 38023|San Cristóbal de ...|ANGOSTA CARTA 10 ...|[angosta, carta, ...|[0.03456553351134...|\n",
      "|08C5C402-E83A-4F2...|     RINCON|                LOMO|   11| 38023|San Cristóbal de ...|RINCON LOMO 11 SA...|[rincon, lomo, 11...|[0.10209721792489...|\n",
      "|0D2BA8DC-51EB-423...|    PASSEIG|         CAMINO MINA|   10| 38023|San Cristóbal de ...|PASSEIG CAMINO MI...|[passeig, camino,...|[0.00411500036716...|\n",
      "+--------------------+-----------+--------------------+-----+------+--------------------+--------------------+--------------------+--------------------+\n",
      "\n"
     ]
    }
   ],
   "source": [
    "word2vec_result.limit(10).show()"
   ]
  },
  {
   "cell_type": "code",
   "execution_count": 20,
   "metadata": {},
   "outputs": [
    {
     "name": "stderr",
     "output_type": "stream",
     "text": [
      "[Stage 169:==============================================>        (27 + 5) / 32]\r"
     ]
    },
    {
     "name": "stdout",
     "output_type": "stream",
     "text": [
      "+------------------------------------+-----------------------------------------------------------------------+----------------------------------------------------------------------------------------------------------------------------------------------------------------------------------------------------------------------------------------------------------------------------------------------------------------------------------------------------------------------------------------------------------------------------------------------------------------------------------------------------------------------------------------------------------------------------------------------------------------------------------------------------------------------------------------------------------------------------------------------------------------------------------------------------------------------------------------------------------------------------------------------------------------------------------------------------------------------------------------------------------------------------------------------------------------------------------------------------------------------------------------------------------------------------------------------------------------------------------------------------------------------------------------------------------------------------------------------------------------------------------------------------------------------------------------------------------------------------------------------------------------------------------------------------------------------------------------------------------------------------------------------------------------------------------------------------------------------------------------------------------------------------------------------------------------------------------------------------------------------------------------------------------------------------------------------------------------------------------------------------------------------------------------------------------------------------------------------------------------------------------------------------------------------------------------------------------------------------------------------------------------------------------------------------------------------------------------------------------------------------------------------------------------------------------------------------------------------------------------------------------------------------------------------------------------------------------------------------------------------------------------------------------------------------------------------------------------------------------------------------------------------------------------------------------------------------------------------------------------------------------------------------------------------------------------------------------------------------------------------------------------------------------------------------------------------------------------------------------------------------------------------------------------------------------------------------------------------------------------------------------------------------------------------------------------------------------------------------------------------------------------------------------------------------------------------------------------------------------------------------------------------------------------------------------------------------------------------------------------------------------------------------------------------------------------------------------------------------------------------------------------------------------------------------------------------------------------------------------------------------------------------------------------------------------------------------------------------------------------------------------------------------------------------------------------------------------------------------------------------------------------------------------------------------------------------------------------------------------------------------------------------------------------------------------------------------------------------------------------------------------------------------------------------------------------------------------------------------------------------------------------------------------------------------------------------------------------------------------------------------------------------------------------------------------------------------------------------------------------------------------------------------------------------------------------------------------------------------------------------------------------------------------------------------------------------------------------------------------------------------------------------------------------------------------------------------------------------------------------------------------------------------------------------------------------------------------------------------------------------------------------------------------------------------------------------------------------------------------------------------------------------------------------------------------------------------------------------------------------------------------------------------------------------------------------------------------------------------------------------------------------------------------------------------------------------------------------------------------------------------------------------------------------------------------------------------------------------------------------------------------------------------------------------------------------------------------------------------------------------------------------------------------------------------------------------------------------------------------------------------------------------------------------------------------------------------------------------------------------------------------------------------------------------------------------------------------------------------------------------------------------------------------------------------------------------------------------------------+------------------------------------+------+--------+-----+------+--------------------------+---------------------------------------------+------------------------------------------------------+---------------------------------------------------------------------------------------------------------------------------------------------------------------------------------------------------------------------------------------------------------------------------------------------------------------------------------------------------------------------------------------------------------------------------------------------------------------------------------------------------------------------------------------------------------------------------------------------------------------------------------------------------------------------------------------------------------------------------------------------------------------------------------------------------------------------------------------------------------------------------------------------------------------------------------------------------------------------------------------------------------------------------------------------------------------------------------------------------------------------------------------------------------------------------------------------------------------------------------------------------------------------------------------------------------------------------------------------------------------------------------------------------------------------------------------------------------------------------------------------------------------------------------------------------------------------------------------------------------------------------------------------------------------------------------------------------------------------------------------------------------------------------------------------------------------------------------------------------------------------------------------------------------------------------------------------------------------------------------------------------------------------------------------------------------------------------------------------------------------------------------------------------------------------------------------------------------------------------------------------------------------------------------------------------------------------------------------------------------------------------------------------------------------------------------------------------------------------------------------------------------------------------------------------------------------------------------------------------------------------------------------------------------------------------------------------------------------------------------------------------------------------------------------------------------------------------------------------------------------------------------------------------------------------------------------------------------------------------------------------------------------------------------------------------------------------------------------------------------------------------------------------------------------------------------------------------------------------------------------------------------------------------------------------------------------------------------------------------------------------------------------------------------------------------------------------------------------------------------------------------------------------------------------------------------------------------------------------------------------------------------------------------------------------------------------------------------------------------------------------------------------------------------------------------------------------------------------------------------------------------------------------------------------------------------------------------------------------------------------------------------------------------------------------------------------------------------------------------------------------------------------------------------------------------------------------------------------------------------------------------------------------------------------------------------------------------------------------------------------------------------------------------------------------------------------------------------------------------------------------------------------------------------------------------------------------------------------------------------------------------------------------------------------------------------------------------------------------------------------------------------------------------------------------------------------------------------------------------------------------------------------------------------------------------------------------------------------------------------------------------------------------------------------------------------------------------------------------------------------------------------------------------------------------------------------------------------------------------------------------------------------------------------------------------------------------------------------------------------------------------------------------------------------------------------------------------------------------------------------------------------------------------------------------------------------------------------------------------------------------------------------------------------------------------------------------------------------------------------------------------------------------------------------------------------------------------------------------------------------------------------------------------------------------------------------------------------------------------------------------------------------------------------------------------------------------------------------------------------------------------------------------------------------------------------------------------------------------------------------------------------------------------------------------------------------------------------------------------------------------------------------------------------------------------------------------------------+-----------------+----------+\n",
      "|uuid_idt2                           |direccion2                                                             |embedding2                                                                                                                                                                                                                                                                                                                                                                                                                                                                                                                                                                                                                                                                                                                                                                                                                                                                                                                                                                                                                                                                                                                                                                                                                                                                                                                                                                                                                                                                                                                                                                                                                                                                                                                                                                                                                                                                                                                                                                                                                                                                                                                                                                                                                                                                                                                                                                                                                                                                                                                                                                                                                                                                                                                                                                                                                                                                                                                                                                                                                                                                                                                                                                                                                                                                                                                                                                                                                                                                                                                                                                                                                                                                                                                                                                                                                                                                                                                                                                                                                                                                                                                                                                                                                                                                                                                                                                                                                                                                                                                                                                                                                                                                                                                                                                                                                                                                                                                                                                                                                                                                                                                                                                                                                                                                                                                                                                                                                                                                                                                                                                                                                                                                                                                                                                                                                                                                                                                                                                                                                                                                                                                                                                                                                                                                                                                                                                                                                                                                  |uuid_idt                            |tvia  |nvia    |numer|codmun|nommun                    |direccion                                    |words                                                 |embedding                                                                                                                                                                                                                                                                                                                                                                                                                                                                                                                                                                                                                                                                                                                                                                                                                                                                                                                                                                                                                                                                                                                                                                                                                                                                                                                                                                                                                                                                                                                                                                                                                                                                                                                                                                                                                                                                                                                                                                                                                                                                                                                                                                                                                                                                                                                                                                                                                                                                                                                                                                                                                                                                                                                                                                                                                                                                                                                                                                                                                                                                                                                                                                                                                                                                                                                                                                                                                                                                                                                                                                                                                                                                                                                                                                                                                                                                                                                                                                                                                                                                                                                                                                                                                                                                                                                                                                                                                                                                                                                                                                                                                                                                                                                                                                                                                                                                                                                                                                                                                                                                                                                                                                                                                                                                                                                                                                                                                                                                                                                                                                                                                                                                                                                                                                                                                                                                                                                                                                                                                                                                                                                                                                                                                                                                                                                                                                                                                                                |cosine_similarity|evaluation|\n",
      "+------------------------------------+-----------------------------------------------------------------------+----------------------------------------------------------------------------------------------------------------------------------------------------------------------------------------------------------------------------------------------------------------------------------------------------------------------------------------------------------------------------------------------------------------------------------------------------------------------------------------------------------------------------------------------------------------------------------------------------------------------------------------------------------------------------------------------------------------------------------------------------------------------------------------------------------------------------------------------------------------------------------------------------------------------------------------------------------------------------------------------------------------------------------------------------------------------------------------------------------------------------------------------------------------------------------------------------------------------------------------------------------------------------------------------------------------------------------------------------------------------------------------------------------------------------------------------------------------------------------------------------------------------------------------------------------------------------------------------------------------------------------------------------------------------------------------------------------------------------------------------------------------------------------------------------------------------------------------------------------------------------------------------------------------------------------------------------------------------------------------------------------------------------------------------------------------------------------------------------------------------------------------------------------------------------------------------------------------------------------------------------------------------------------------------------------------------------------------------------------------------------------------------------------------------------------------------------------------------------------------------------------------------------------------------------------------------------------------------------------------------------------------------------------------------------------------------------------------------------------------------------------------------------------------------------------------------------------------------------------------------------------------------------------------------------------------------------------------------------------------------------------------------------------------------------------------------------------------------------------------------------------------------------------------------------------------------------------------------------------------------------------------------------------------------------------------------------------------------------------------------------------------------------------------------------------------------------------------------------------------------------------------------------------------------------------------------------------------------------------------------------------------------------------------------------------------------------------------------------------------------------------------------------------------------------------------------------------------------------------------------------------------------------------------------------------------------------------------------------------------------------------------------------------------------------------------------------------------------------------------------------------------------------------------------------------------------------------------------------------------------------------------------------------------------------------------------------------------------------------------------------------------------------------------------------------------------------------------------------------------------------------------------------------------------------------------------------------------------------------------------------------------------------------------------------------------------------------------------------------------------------------------------------------------------------------------------------------------------------------------------------------------------------------------------------------------------------------------------------------------------------------------------------------------------------------------------------------------------------------------------------------------------------------------------------------------------------------------------------------------------------------------------------------------------------------------------------------------------------------------------------------------------------------------------------------------------------------------------------------------------------------------------------------------------------------------------------------------------------------------------------------------------------------------------------------------------------------------------------------------------------------------------------------------------------------------------------------------------------------------------------------------------------------------------------------------------------------------------------------------------------------------------------------------------------------------------------------------------------------------------------------------------------------------------------------------------------------------------------------------------------------------------------------------------------------------------------------------------------------------------------------------------------------------------------------------------------------------------------+------------------------------------+------+--------+-----+------+--------------------------+---------------------------------------------+------------------------------------------------------+---------------------------------------------------------------------------------------------------------------------------------------------------------------------------------------------------------------------------------------------------------------------------------------------------------------------------------------------------------------------------------------------------------------------------------------------------------------------------------------------------------------------------------------------------------------------------------------------------------------------------------------------------------------------------------------------------------------------------------------------------------------------------------------------------------------------------------------------------------------------------------------------------------------------------------------------------------------------------------------------------------------------------------------------------------------------------------------------------------------------------------------------------------------------------------------------------------------------------------------------------------------------------------------------------------------------------------------------------------------------------------------------------------------------------------------------------------------------------------------------------------------------------------------------------------------------------------------------------------------------------------------------------------------------------------------------------------------------------------------------------------------------------------------------------------------------------------------------------------------------------------------------------------------------------------------------------------------------------------------------------------------------------------------------------------------------------------------------------------------------------------------------------------------------------------------------------------------------------------------------------------------------------------------------------------------------------------------------------------------------------------------------------------------------------------------------------------------------------------------------------------------------------------------------------------------------------------------------------------------------------------------------------------------------------------------------------------------------------------------------------------------------------------------------------------------------------------------------------------------------------------------------------------------------------------------------------------------------------------------------------------------------------------------------------------------------------------------------------------------------------------------------------------------------------------------------------------------------------------------------------------------------------------------------------------------------------------------------------------------------------------------------------------------------------------------------------------------------------------------------------------------------------------------------------------------------------------------------------------------------------------------------------------------------------------------------------------------------------------------------------------------------------------------------------------------------------------------------------------------------------------------------------------------------------------------------------------------------------------------------------------------------------------------------------------------------------------------------------------------------------------------------------------------------------------------------------------------------------------------------------------------------------------------------------------------------------------------------------------------------------------------------------------------------------------------------------------------------------------------------------------------------------------------------------------------------------------------------------------------------------------------------------------------------------------------------------------------------------------------------------------------------------------------------------------------------------------------------------------------------------------------------------------------------------------------------------------------------------------------------------------------------------------------------------------------------------------------------------------------------------------------------------------------------------------------------------------------------------------------------------------------------------------------------------------------------------------------------------------------------------------------------------------------------------------------------------------------------------------------------------------------------------------------------------------------------------------------------------------------------------------------------------------------------------------------------------------------------------------------------------------------------------------------------------------------------------------------------------------------------------------------------------------------------------------------------------------------------------------------------------------------------------------------------------------------------------------------------------------------------------------------------------------------------------------------------------------------------------------------------------------------------------------------------------------------------------------------------------------------------------------------------------------------------------------------------------------+-----------------+----------+\n",
      "|6CBC519A-3251-11E8-BC74-480FCF5217B3|CALLE IGNACIO PEREZ GARCIA 8 SAN CRISTOBAL DE LA LAGUNA                |[0.02992508336901665,0.03586829598061741,-0.03926678579300642,-0.01897943988442421,-0.1808471031486988,-0.14275133537594228,-0.04809380923397839,0.06083791553974152,0.09083024505525827,-0.0781576169654727,-0.06172111658379436,0.027962691755965354,-0.014696082193404437,0.077619370771572,-0.011645906465128066,-0.008633900061249733,-0.005852216295897961,0.03339564129710198,0.06717044226825238,0.1206485552713275,0.0850647347047925,0.03006369322538376,-0.02954881675541401,-0.09532665833830833,-0.10361353727057576,-0.028318389505147937,-0.07366072610020638,0.005555542558431626,-0.0020560260163620114,0.026812376175075772,-0.09642308105248959,0.09255198482424021,0.08757752943783999,-0.053273975104093554,0.05636612311936915,0.12554309368133545,-0.19375974982976915,-0.12701028864830732,-0.21378222517669201,0.05024311505258083,-0.07837253068573774,0.05077504552900791,-0.15262352339923382,-0.024685236252844335,0.03268872597254813,0.03455274105072022,-0.09229012783616782,0.16142082549631598,-0.10815497003495694,-0.019333093613386157,-0.008342046418692918,0.13058564914390444,0.0665228858590126,0.054916892782785,0.20340531766414643,-0.0446869045495987,-0.07435773778706789,0.0033717406913638115,0.0027387451846152544,-0.08156464961357415,-0.00646896418184042,-0.10575292892754079,-0.02190988287329674,-0.05098253190517426,0.17904864330776038,0.008800675999373198,-0.049685762263834476,-0.041324369609355927,-0.039039783738553525,0.22298154649324717,0.22752626687288285,-0.04760532192885876,-0.0754988232627511,-0.018344107270240783,0.06379580103093759,0.08883162830024958,0.06844758987426758,0.11961046662181617,0.07538016326725483,-0.08164742775261402,-0.008607255294919014,0.04560610726475716,-0.24015668388456107,-0.05092250052839518,-0.09189290506765246,-0.0022778271231800318,0.03753695320338011,0.025141677074134353,0.11876488700509072,-0.030565159022808076,0.11288537731161341,-0.007398462481796742,0.12234027809463442,-0.1439140659524128,-0.16747181056998672,0.03411619924008846,-0.03907918613404036,-0.0023929219692945484,0.10177821572870016,0.17594926841557026,-0.019915541145019235,-0.08940508943051101,-0.010366853093728423,0.14477872531861066,0.03909821528941393,0.21725528691895307,0.017601690348237754,-0.021577765326946975,0.10803967528045177,-0.09202906521968544,0.05711424890905619,0.01979201516369358,-0.0174697722773999,0.023363574314862492,-0.09130561156198383,0.05646714782342315,0.11518427394330502,0.09403905980288983,0.2357504814863205,-0.13145674876868726,0.07351437900215388,-0.06051769591867924,0.0405152217950672,0.03633159007877112,0.06630604602396488,-0.04948423430323601,-0.06063266294077039,-0.057643188768997794,-0.03880857666954399,0.04313062727451325,-0.028538222424685955,0.11261831689625978,0.10758105283603073,-0.042844248283654456,0.028856338746845723,-0.1718352015130222,-0.07445473894476891,-0.08223471119999887,0.13577419514767827,0.06853191424161197,0.009090343769639731,-0.07755347755737603,0.13690744992345572,0.1825735054910183,0.014942798949778081,0.022931668348610403,0.16105256062000992,0.09166745990514756,-0.14452881813049318,-0.05155845917761326,-0.02949366690590978,-0.181016549654305,-0.006858130171895027,0.03374895884189755,0.013613376556895674,0.1360934820957482,-0.04407723136246205,-0.018304175697267056,0.06526550091803074,-0.01182027958566323,0.08746272805146874,0.03646306926384568,0.0645496552810073,0.01274392968043685,-0.004737270995974541,-0.09013321733800694,-0.048723191450335435,-0.042782730050385,0.12264218032360077,0.11526363091543318,0.0577790048904717,0.06938201398588717,-0.05761668896302581,0.03963725278154016,-0.02566762461792678,-0.005589591243915493,-0.018548741284757853,0.034535381197929385,-0.06287615820765495,0.035894440865376964,-0.06289191581308842,0.06740594075527043,-0.07620358094573021,-0.040605860576033596,-0.038470322452485564,-0.0035033838823437693,0.007828359736595304,-0.09138247603550553,-0.03900383729487658,-0.15274245068430903,0.06757629159837962,0.13915297873318197,-0.05669956132769585,0.0038294773548841476,0.10711496397852899,-0.21921701729297638,0.10151867668610066,-0.14340083216084168,0.13970381412655117,-0.024431601725518705,0.13237415961921215,-0.03324609696865082,-0.03373925406485796,0.011474184272810817,-0.0064918348565697675,-0.009367321617901325,0.12415888607501985,0.007621296308934689,0.11726426929235459,-0.09368504285812379,0.13777468921616673,-0.11349913607118652,0.05788452904671431,0.09132006391882896,-0.024893245473504067,0.05717952689155936,-0.004970439337193966,0.04561768053099513,0.1173428678244818,0.05045155673287809,0.2517009899020195,-0.21037870906293393,-0.01868787230923772,-0.07292284406721593,0.08042700495570898,-0.03664005608297884,0.02780953565379605,0.03690694905817509,-0.06042774450033903,0.007492222636938096,-0.036758013839425986,-0.10412269607186318,0.02953847497701645,0.10521394512616099,0.06475830934941769,0.1872311887680553,-0.011162379384040834,0.1380464939400554,0.12177655957639218,0.035720400512218475,0.18338557928800583,-0.1404653150588274,0.051979176909662785,0.11821399834007025,0.1378553343936801,-0.1504422027617693,0.10001387091469952,-0.16655330345965924,-0.10266889102058485,-0.04583383407443762,0.026611790712922814,-0.06791349928826095,0.06482777297496796,-0.16344395466148853,-0.09292385205626488,-0.024481698963791133,0.24816782288253308,0.03698868444189429,0.09828621558845044,0.05760387666523457,0.01266978537896648,0.027131328452378513,0.09204321205615998,0.0830931561999023,-0.039418442547321325,-0.047883345000445846,0.01822236143052578,0.11480321995913984,-0.010551701392978431,-0.1041915680281818,-0.034704654058441524,-0.06417428978475073,-0.03874937845394016,0.01480142306536436,0.036568937823176384,0.01977296303957701,0.025735342130064967,0.05671093789860607,-0.04576196391135454,0.061192390962969516,-0.13775600800290705,-0.15060591138899326,-0.08201202331110835,-0.02002433277666569,0.14809445994906129,-0.02923902887851,0.025347586534917355,-0.07542094821110368,0.1655254326760769,-0.08263558562612161,0.0014912210404872896,-0.04108606171794236,0.18802852705121043,0.16046232320368292,-0.03888917942531407,0.04899940975010395,0.009192587528377772,0.07614809572696686,0.03810849711298943,-0.23834427520632745]                         |01987842-FBE4-4608-B382-48C3346DCCCC|PARAJE|HERCULES|10   |38023 |San Cristóbal de La Laguna|PARAJE HERCLUES 10 SAN CRISTOBAL DE LA LAGUNA|[paraje, herclues, 10, san, cristobal, de, la, laguna]|[0.047318984754383564,-0.015259165724273771,0.002303656656295061,-0.08436959609389305,-0.1329002461861819,-0.07781284270458855,0.05290314648300409,-0.026592609472572803,0.06519131257664412,-0.13195596530567855,-0.03367367584723979,0.048393288103397936,-0.06617021991405636,0.1334858878835803,0.09369968267856166,-0.028417545836418867,-0.023889974341727793,0.11759923165664077,-0.026892947731539607,0.030705923796631396,0.10773512511514127,0.001860408650827594,-0.029330774676054716,-0.07078410475514829,-0.08186657226178795,0.06798394722864032,-0.041503945481963456,-0.031239973148331046,-0.03431613533757627,0.022306379745714366,-0.06498330962494947,0.025776294758543372,0.08061215793713927,-0.032678514369763434,0.09449307696195319,0.11926625901833177,-0.1707976933394093,-0.10987178364302963,-0.07960265350993723,0.019936952623538673,-0.016943144670221955,0.025277627806644887,-0.14401660859584808,0.016704260371625423,0.074359517369885,-0.038860717322677374,-0.0739793706452474,0.23177154234144837,-0.16028680402087048,-0.004479640629142523,-0.04172684972581919,0.11974752321839333,0.14403815753757954,0.11371145167504437,0.1661683817510493,-0.02950220776256174,-0.02647721371613443,0.07433885836508125,0.006445641221944243,-0.014394025696674362,0.012718370417132974,-0.018526922911405563,-0.039379354449920356,-0.0973990693455562,0.17394928296562284,0.03542924742214382,0.025234828586690128,-0.05257295584306121,0.027634198078885674,0.15939112391788512,0.13967594463611022,-0.13059780467301607,-0.0015275764744728804,0.17316920903977007,0.09462779476598371,0.07143648044439033,0.13055932754650712,0.07870567007921636,-0.006581256253411993,-0.1300050272839144,0.07732894172659144,0.007257243851199746,-0.163733399938792,-0.10836478273267858,-0.058452159573789686,0.04268946760566905,0.06684204441262409,0.02865740843117237,0.0211190230329521,0.0024710623547434807,0.12358959577977657,-0.06771494378335774,0.15950290649197996,-0.16023023330490105,-0.055631494367844425,0.14379039662890136,-0.07906441068917047,-0.05177487758919597,0.11435676144901663,0.18122379889246076,0.008188165142200887,-0.020174639066681266,0.02200137358158827,0.17985883494839072,0.0037457291036844254,0.17549522779881954,-0.002009857795201242,0.023019834305159748,0.05401535425335169,-0.07902415961143561,0.08236857585143298,0.008601302281022072,-0.029039332002867013,0.03322560421656817,-0.10661448037717491,-0.08750080212485045,0.0887748597888276,-0.04036076203919947,0.18161675601731986,-0.029061187407933176,0.04640123012359254,-0.0358177829766646,0.017371273366734385,-0.07714008912444115,0.09595529932994395,-0.08125221251975745,-0.024475697457091883,-0.04171924333786592,-0.05101996206212789,0.07278099190443754,-0.05012005672324449,0.05363519163802266,0.11101556534413248,-0.06690820553922094,0.011221648892387748,-0.10500314261298627,-0.053379561053588986,-0.10351580008864403,0.15752444908139296,0.03584263380616903,0.07966221903916448,-0.012241836113389581,0.07937979395501316,0.19282412878237665,0.0270223175175488,-0.05149001465179026,0.09209339006338269,-0.00784967141225934,-0.16589099320117384,0.03588773068622686,0.02419806143734604,-0.23435778403654695,-0.09601586731150746,0.12919102257001214,0.060316002258332446,0.18421269359532744,-0.11926748813129961,0.020422880304977298,0.062326092505827546,0.07188480456534307,0.03428382382844575,-0.04840485140448436,0.02470376226119697,0.02116183319594711,0.010168320673983544,-0.026490456250030547,0.04919572424842045,-0.08168237842619419,0.08661732659675181,0.027702686958946288,0.06936196811147965,0.11133697658078745,-0.04510640981607139,0.049019325291737914,-0.006221215036930516,-0.03193903900682926,-0.09697980782948434,0.07504160236567259,-0.030837524391245097,0.003588718012906611,-0.06424268358387053,0.03506714754621498,-0.04441988852340728,-0.060826024011475965,-0.02601793548092246,-0.0819852058775723,0.01651977289293427,-0.06882514950120822,-0.03944041673094034,-0.023727509193122387,0.04368662997148931,0.14956825179979205,-0.020456868689507246,-0.09543063270393759,0.08792526792967692,-0.10365988407284021,0.12592613775632344,-0.2118068968411535,0.08941955887712538,0.008222675765864551,0.06358099984936416,0.021049943170510232,-0.025706306390929967,-0.03240554060903378,0.05931562400655821,-0.05703414371237159,0.08576534455642104,-0.11517340372665785,0.06365745910443366,-0.05943306745029986,0.17492222471628338,-0.08272613259032369,0.10394074337091297,0.08242141176015139,-0.08286081650294363,0.03234283596975729,0.022252135444432497,0.03770182246807963,0.09347118825098732,0.052560952986823395,0.24823320237919688,-0.05988262756727636,-0.0784447327023372,0.0345588237978518,0.08187791844829917,-0.10249581519747153,-0.04672411864157766,-0.05027663125656545,-0.04751830224995501,-0.03884921711869538,0.0838982972472877,-0.03833362634759396,0.04360969865228981,0.09057677094824612,0.08645828498993069,0.1571128194918856,-0.006650456110946834,0.08028623716381844,0.1188588035875,-0.0027280158828943968,0.1788933160714805,-0.033889102982357144,0.042382086016004905,0.14033342490438372,0.1625199944828637,-0.10379918597755022,-0.02443692662200192,-0.1052126211579889,-0.061671186005696654,-0.03491683168977033,0.06394131341949105,-0.04186649830080569,0.07763655867893249,-0.14160012383945286,-0.09343784477096051,-0.062351815791771514,0.27617584832478315,0.0497769812354818,0.1894280130509287,0.0710704218945466,0.08579611498862505,-0.0399059453047812,0.15110885427566245,0.05841665284242481,-0.06559086428023875,-0.041319615789689124,-0.09902897709980607,0.053944097831845284,-0.08458190289093181,-0.03758550644852221,-0.09738941473187879,-0.10669672869539681,-0.05051081033889204,-0.0024641064810566604,0.002966901403851807,-0.13308245479129255,0.05147605435922742,0.02416713733691722,0.01398776238784194,0.04962104250444099,-0.10440813977038488,-0.13414637591631617,-0.040719248936511576,-0.02108856209088117,0.09723653295077384,-0.01292650424875319,0.012123628985136747,-0.07494826754555106,0.11244034301489592,0.002685978834051639,-0.03699040366336703,0.009287169959861785,0.18101899238536134,0.12358538183616474,0.0014613740495406091,0.059318119660019875,-0.03819604148156941,0.09167042723856866,-0.0036644425126723945,-0.21018644876312464]|0.81609094       |false     |\n",
      "|73F1ACAC-3251-11E8-8B41-480FCF5217B3|CALLE DOMINGO PEREZ NINIK 61 SAN CRISTOBAL DE LA LAGUNA                |[0.03210465963929892,0.06669962053420023,0.04418482030741871,-0.06399027453735472,-0.21785722947679462,-0.11435110059101135,-0.013495751330628991,0.06193206880707294,0.13611154058016836,-0.17024514013901354,-0.12361707575619221,0.004530001012608409,-0.017503020353615284,0.10118351723067463,0.06106124348007143,-0.0795920385979116,9.239666862413288E-4,0.061491274274885654,0.06026506442576647,0.013071487983688714,0.05199653562158346,0.041035079536959534,0.03990482455119491,-0.0688635696657002,-0.10939744613133372,-0.00969367753714323,-0.0886146323522553,0.003968127071857452,-0.052199762803502386,0.13138905265368522,-0.07714395376387984,0.056123121175915,0.05899042999371887,-0.018592509930022063,0.10379020469263196,0.1581633001798764,-0.12910627108067274,-0.10242535679135473,-0.16578732337802649,0.037251248280517756,-0.0163922606036067,0.06061690484639257,-0.11299299411475659,-0.007323054620064795,0.09178233826532961,0.030378334876149896,-0.048024224932305515,0.27780623678117994,-0.1558659457601607,-0.05044494215399027,-0.029853582836221904,0.1749920447356999,0.10675385938957334,0.07028602326754481,0.1951284697279334,-0.01048467759974301,-0.059651451930403714,0.06811254303902388,0.03344596945680678,-0.12307584360241891,0.04865239607170224,-0.005451907124370337,-0.026131200569216164,-0.08691857401281596,0.1379496677313,0.09805757380090654,-0.013107054261490704,-0.07408947721123696,0.06491305315867067,0.21572120799683037,0.18723361887969078,-0.06910804556682706,-0.05723062548786402,0.031134268711321057,0.08219350675353781,0.09615900089265779,0.13528626579791309,0.07921678833663465,0.07792618642561139,-0.1019724840996787,0.074679085589014,0.024503969773650172,-0.2186620199121535,-0.10000825868919493,-0.08290000637061895,0.07143424930982292,0.07698760950006545,0.05290201092138887,0.09644266655668617,-0.03278958392329514,0.12136754824314266,-0.02651842460036278,0.12642370713874698,-0.12704730390105398,-0.08713746407302098,0.07055151569657028,-0.03699039159109816,0.02856895560398698,0.08668635492213071,0.1330934085417539,-0.0336849081562832,-0.020181166334077717,-0.0313594460953027,0.13070970863918774,0.011831655725836755,0.08869416695088149,0.0065930605400353675,-0.007452899031341076,-0.02951023764908314,-0.09790253676474095,0.03488284128252417,-0.016519923880696296,0.014253623178228737,0.03997757101315074,-0.16784372162073852,0.006943390332162381,0.12080336050130427,0.023861771449446678,0.23162167696282268,-0.1090938835637644,0.012966188788414003,-0.09240800075931475,0.06626336965709925,0.030427091906312854,0.07739735920913518,-0.11498749546008186,0.023129731183871627,0.010184538608882576,-0.050591326272115114,0.031506124325096606,-0.024529974767938258,0.0853571118786931,0.10411189259029925,-0.07028896259143949,0.03877001963555813,-0.16214572321623566,-0.10924717737361789,-0.08566569616086782,0.11972361830994488,0.04343046577414498,0.01637597696390003,-0.06823552979622037,0.08800526380655356,0.15599004292016616,-0.03687377711758018,-0.004272988997399807,0.11906286082230509,0.02200752990320325,-0.1656183309853077,-0.03601029985584319,0.004084519576281309,-0.12279766481369735,-0.08247167363297195,0.08037925767712295,0.020583818410523237,0.14305923045612873,-0.04377850843593478,0.016590511053800584,0.05232372088357806,0.03519998997217044,0.031010334519669416,0.03596338499337435,0.008990444801747799,0.011223802529275418,0.006374035566113889,-0.004120691865682602,0.01960137540008873,-0.05046079573221505,0.08466235225787387,0.08305514343082905,0.08363115848042071,0.07326723405858503,-0.09582129968330265,0.09218370812013746,-0.02220904250862077,-0.036001919743284816,0.021995745785534385,0.05442036624299362,-0.06599911516532302,-0.01299493302940391,-0.010592882428318262,0.09164586239494384,-0.11276566604501569,-0.06319300131872296,-0.04361247286942671,-0.005545367882587016,0.021916640095878393,-0.09269187833415345,-0.07841502819210291,-0.15403657965362072,0.043302605091594164,0.1059422985650599,-0.10693854978308082,-0.10041166939772667,0.13025247231125833,-0.1578612130135298,0.1071440130006522,-0.14310232256539165,0.11321860132738948,-0.023718369565904143,0.07479892717674375,-0.01075865887105465,-0.049587875790894034,0.030135560454800727,0.03858536239713431,-0.06440270666498692,0.10289730159565807,-0.05511641628108919,0.1193836085498333,-0.08754926756955683,0.11814292510971428,-0.10306573048001155,0.08645508721238003,0.1518809854052961,-0.06464511691592634,0.04640321945771575,-0.009195748623460532,0.037686968641355637,0.06451240166206844,0.06388853900134564,0.2153274322859943,-0.1480194936040789,0.007607650756835938,-0.02239932855591178,0.10137190874665976,-0.048286652239039544,-0.01501013644738123,-0.0431124500464648,-0.06745460801757873,-0.012348254257813097,-0.004735692522081081,-0.05977754974737764,2.218556357547641E-4,0.08622021563351155,0.12079278845340014,0.08111041700467468,-0.03523680232465267,0.06077339476905763,0.04402764644473792,0.0011258677579462529,0.17225654954090716,-0.042149042477831244,0.023292566707823426,0.09459536103531718,0.08316034520976245,-0.08071422884240748,0.09045544568798505,-0.10777001362293959,-0.024191382876597348,-0.02736704433336854,0.03154630004428327,-0.04821027591824532,0.029520650347694757,-0.12796484101563693,-0.11105149785289542,-0.06613262230530381,0.2404465320170857,0.025288206315599384,0.1171232978347689,0.06266999177169055,0.002122570259962231,0.013867165287956597,0.03906689872965217,0.05378509819274768,-0.015454937331378461,0.0038625906221568585,0.07337734918110073,0.07672742968425156,-0.017792660300619902,-0.028168450365774336,-0.0814851941075176,-0.02603818047082314,-0.0693024589214474,0.02327952012419701,0.023952696565538646,-0.04864561948925257,0.04405356221832335,0.10846780333667994,-0.042610520636662846,-0.0014158599777147176,-0.09693329897709191,-0.15213719136081638,-0.06959372498095036,0.005961151421070099,0.08711587789002806,0.035279834643006325,0.11483964945655317,-0.039536747522652155,0.12507648426108062,0.025237253308296206,-0.05348253403790296,0.014109907066449524,0.14179579261690378,0.18611544454470277,-0.03387756374431774,0.0271788374055177,0.00541942697018385,0.09325868678279221,0.01576340729370713,-0.17224108302034438]                                       |01987842-FBE4-4608-B382-48C3346DCCCC|PARAJE|HERCULES|10   |38023 |San Cristóbal de La Laguna|PARAJE HERCLUES 10 SAN CRISTOBAL DE LA LAGUNA|[paraje, herclues, 10, san, cristobal, de, la, laguna]|[0.047318984754383564,-0.015259165724273771,0.002303656656295061,-0.08436959609389305,-0.1329002461861819,-0.07781284270458855,0.05290314648300409,-0.026592609472572803,0.06519131257664412,-0.13195596530567855,-0.03367367584723979,0.048393288103397936,-0.06617021991405636,0.1334858878835803,0.09369968267856166,-0.028417545836418867,-0.023889974341727793,0.11759923165664077,-0.026892947731539607,0.030705923796631396,0.10773512511514127,0.001860408650827594,-0.029330774676054716,-0.07078410475514829,-0.08186657226178795,0.06798394722864032,-0.041503945481963456,-0.031239973148331046,-0.03431613533757627,0.022306379745714366,-0.06498330962494947,0.025776294758543372,0.08061215793713927,-0.032678514369763434,0.09449307696195319,0.11926625901833177,-0.1707976933394093,-0.10987178364302963,-0.07960265350993723,0.019936952623538673,-0.016943144670221955,0.025277627806644887,-0.14401660859584808,0.016704260371625423,0.074359517369885,-0.038860717322677374,-0.0739793706452474,0.23177154234144837,-0.16028680402087048,-0.004479640629142523,-0.04172684972581919,0.11974752321839333,0.14403815753757954,0.11371145167504437,0.1661683817510493,-0.02950220776256174,-0.02647721371613443,0.07433885836508125,0.006445641221944243,-0.014394025696674362,0.012718370417132974,-0.018526922911405563,-0.039379354449920356,-0.0973990693455562,0.17394928296562284,0.03542924742214382,0.025234828586690128,-0.05257295584306121,0.027634198078885674,0.15939112391788512,0.13967594463611022,-0.13059780467301607,-0.0015275764744728804,0.17316920903977007,0.09462779476598371,0.07143648044439033,0.13055932754650712,0.07870567007921636,-0.006581256253411993,-0.1300050272839144,0.07732894172659144,0.007257243851199746,-0.163733399938792,-0.10836478273267858,-0.058452159573789686,0.04268946760566905,0.06684204441262409,0.02865740843117237,0.0211190230329521,0.0024710623547434807,0.12358959577977657,-0.06771494378335774,0.15950290649197996,-0.16023023330490105,-0.055631494367844425,0.14379039662890136,-0.07906441068917047,-0.05177487758919597,0.11435676144901663,0.18122379889246076,0.008188165142200887,-0.020174639066681266,0.02200137358158827,0.17985883494839072,0.0037457291036844254,0.17549522779881954,-0.002009857795201242,0.023019834305159748,0.05401535425335169,-0.07902415961143561,0.08236857585143298,0.008601302281022072,-0.029039332002867013,0.03322560421656817,-0.10661448037717491,-0.08750080212485045,0.0887748597888276,-0.04036076203919947,0.18161675601731986,-0.029061187407933176,0.04640123012359254,-0.0358177829766646,0.017371273366734385,-0.07714008912444115,0.09595529932994395,-0.08125221251975745,-0.024475697457091883,-0.04171924333786592,-0.05101996206212789,0.07278099190443754,-0.05012005672324449,0.05363519163802266,0.11101556534413248,-0.06690820553922094,0.011221648892387748,-0.10500314261298627,-0.053379561053588986,-0.10351580008864403,0.15752444908139296,0.03584263380616903,0.07966221903916448,-0.012241836113389581,0.07937979395501316,0.19282412878237665,0.0270223175175488,-0.05149001465179026,0.09209339006338269,-0.00784967141225934,-0.16589099320117384,0.03588773068622686,0.02419806143734604,-0.23435778403654695,-0.09601586731150746,0.12919102257001214,0.060316002258332446,0.18421269359532744,-0.11926748813129961,0.020422880304977298,0.062326092505827546,0.07188480456534307,0.03428382382844575,-0.04840485140448436,0.02470376226119697,0.02116183319594711,0.010168320673983544,-0.026490456250030547,0.04919572424842045,-0.08168237842619419,0.08661732659675181,0.027702686958946288,0.06936196811147965,0.11133697658078745,-0.04510640981607139,0.049019325291737914,-0.006221215036930516,-0.03193903900682926,-0.09697980782948434,0.07504160236567259,-0.030837524391245097,0.003588718012906611,-0.06424268358387053,0.03506714754621498,-0.04441988852340728,-0.060826024011475965,-0.02601793548092246,-0.0819852058775723,0.01651977289293427,-0.06882514950120822,-0.03944041673094034,-0.023727509193122387,0.04368662997148931,0.14956825179979205,-0.020456868689507246,-0.09543063270393759,0.08792526792967692,-0.10365988407284021,0.12592613775632344,-0.2118068968411535,0.08941955887712538,0.008222675765864551,0.06358099984936416,0.021049943170510232,-0.025706306390929967,-0.03240554060903378,0.05931562400655821,-0.05703414371237159,0.08576534455642104,-0.11517340372665785,0.06365745910443366,-0.05943306745029986,0.17492222471628338,-0.08272613259032369,0.10394074337091297,0.08242141176015139,-0.08286081650294363,0.03234283596975729,0.022252135444432497,0.03770182246807963,0.09347118825098732,0.052560952986823395,0.24823320237919688,-0.05988262756727636,-0.0784447327023372,0.0345588237978518,0.08187791844829917,-0.10249581519747153,-0.04672411864157766,-0.05027663125656545,-0.04751830224995501,-0.03884921711869538,0.0838982972472877,-0.03833362634759396,0.04360969865228981,0.09057677094824612,0.08645828498993069,0.1571128194918856,-0.006650456110946834,0.08028623716381844,0.1188588035875,-0.0027280158828943968,0.1788933160714805,-0.033889102982357144,0.042382086016004905,0.14033342490438372,0.1625199944828637,-0.10379918597755022,-0.02443692662200192,-0.1052126211579889,-0.061671186005696654,-0.03491683168977033,0.06394131341949105,-0.04186649830080569,0.07763655867893249,-0.14160012383945286,-0.09343784477096051,-0.062351815791771514,0.27617584832478315,0.0497769812354818,0.1894280130509287,0.0710704218945466,0.08579611498862505,-0.0399059453047812,0.15110885427566245,0.05841665284242481,-0.06559086428023875,-0.041319615789689124,-0.09902897709980607,0.053944097831845284,-0.08458190289093181,-0.03758550644852221,-0.09738941473187879,-0.10669672869539681,-0.05051081033889204,-0.0024641064810566604,0.002966901403851807,-0.13308245479129255,0.05147605435922742,0.02416713733691722,0.01398776238784194,0.04962104250444099,-0.10440813977038488,-0.13414637591631617,-0.040719248936511576,-0.02108856209088117,0.09723653295077384,-0.01292650424875319,0.012123628985136747,-0.07494826754555106,0.11244034301489592,0.002685978834051639,-0.03699040366336703,0.009287169959861785,0.18101899238536134,0.12358538183616474,0.0014613740495406091,0.059318119660019875,-0.03819604148156941,0.09167042723856866,-0.0036644425126723945,-0.21018644876312464]|0.8510605        |false     |\n",
      "|723FB0DB-3251-11E8-BBF7-480FCF5217B3|CLALEJON PORLIER 4 SAN CRISTOBAL DE LA LAGUNA                          |[0.04736827872693539,0.023409063753206283,0.033568948740139604,-0.05900129163637757,-0.19088393729180098,-0.0884330082044471,-0.0013108530547469854,0.018982851412147284,0.058696873602457345,-0.09315926348790526,-0.03898299508728087,0.03326655231649056,-0.08018675434868783,0.10503300605341792,0.06159140885574743,0.02081783942412585,0.003919374314136803,0.0683715432533063,0.008073250064626336,0.030256560305133462,0.1508928001858294,-0.03138435259461403,-0.06886904500424862,-0.042082492436748,-0.08763563062530011,0.033308814046904445,-0.15784114133566618,7.569463923573494E-4,-0.047228238261595834,0.05566454119980335,-0.0169695493823383,0.051281253807246685,0.09497596742585301,0.01894084457308054,0.06276622350560501,0.1209507305175066,-0.17460359842516482,-0.14545024069957435,-0.07924354379065335,0.015158832888118923,-0.0039344411925412714,0.01350818993523717,-0.1652255062945187,0.054527668515220284,0.04885169240878895,-0.045829374343156815,-0.0980946661438793,0.21909613069146872,-0.13793073064880446,-0.01890302961692214,-0.007680531809455715,0.09522195474710315,0.1511914376169443,0.061319998843828216,0.16783747030422091,-0.05921558244153857,-0.07252189656719565,0.08155290596187115,-0.004042597895022482,-0.05384546989807859,0.008449997520074248,-0.052086430601775646,-0.040601556305773556,-0.06073538237251341,0.15067689248826355,0.04346005176194012,0.061475447844713926,-0.06364409159868956,0.033848275197669864,0.18564060697099194,0.12244434794411063,-0.08339696237817407,-0.04691077035386115,0.10470718395663425,0.0933268449298339,0.09707869589328766,0.10337541985791177,0.08830608520656824,0.034263937501236796,-0.12116694217547774,0.08790699834935367,0.07692036917433143,-0.20675220852717757,-0.10201303521171212,-0.00438896135892719,0.053021065366920084,0.07351807435043156,0.013636663788929582,0.042388236382976174,-0.061974002281203866,0.12248979811556637,-0.05519616254605353,0.11705236323177814,-0.13220551106496714,-0.08205859786539804,0.11046529421582818,-0.09257878502830863,-0.027641876600682735,0.07601439172867686,0.15762710804119706,-0.028268884401768446,-0.027967373142018914,-0.041621075361035764,0.18515740567818284,-0.015328641748055816,0.2415983413811773,0.08676193037535995,-0.021141347009688616,0.021980577148497105,-0.06639816839015111,0.05453023186419159,0.04620959935709834,-0.010708274028729647,0.020640126371290535,-0.12810229125898331,-0.04246580752078444,0.11590712983161211,-0.0012856456451117992,0.16036009695380926,-0.04971067747101188,0.08509282930754125,-0.012872885563410819,0.030367724015377462,-0.048764087609015405,0.0670341260265559,-0.11702075833454728,-0.0128775933990255,-0.02406697632977739,-0.021651716087944806,0.04280212731100619,-0.02905010881659109,0.006475691217929125,0.05475416511762887,-0.08354297117330134,-0.024789128685370088,-0.10353728116024286,-0.0817191987298429,-0.13580068852752447,0.18664571561384946,0.07722712657414377,0.01393195556011051,-0.030708713427884504,0.08810181391891092,0.21275290474295616,0.07066209294134751,-0.03595592500641942,0.11157282115891576,0.013135208282619715,-0.15851310035213828,0.03372282348573208,0.03438088239636272,-0.21891624783165753,-0.12000277964398265,0.08886933396570385,0.04094074765453115,0.23643952939892188,-0.11560730449855328,0.0838117403909564,0.09708729246631265,0.0885856904060347,0.025900670501869172,-0.04151562508195639,0.002536365471314639,0.02525140473153442,0.037432353012263775,0.01320365123638112,0.0874692695797421,-0.08911104733124375,0.09660927532240748,0.03154902288224548,0.015364664257504046,0.09932288370328024,-0.10206801723688841,0.09193953774956753,-0.05477596414857544,0.00480477255769074,-0.09414810640737414,0.09596291882917285,-0.017057716380804777,-0.037275841168593615,-0.04257136816158891,0.06643062489456497,-0.1198857338167727,-0.05258758901618421,-0.06908346549607813,-0.025417104712687433,-0.027332235986250453,-0.1269533857703209,-0.06927604379598051,-0.0016153929755091667,0.07408644142560661,0.08906937931897119,-0.04160234362461779,-0.08785685570910573,0.1210763247217983,-0.11207164148800075,0.10528099219664,-0.1974380612373352,0.09828117513097823,-0.008207139791920781,0.07409607271074492,0.08221982419490814,-0.01888721575960517,0.01721736090257764,0.016904076328501105,-0.05301889474503696,0.14068317925557494,-0.0830985214561224,0.054555303417146206,0.01840946520678699,0.1251330617815256,-0.0678945892068441,0.07587680476717651,0.06287398489075713,-0.04083576670382172,0.06633593351580203,0.02597457729279995,0.04699822887778282,0.12136495166487293,0.013973136432468891,0.22167999390512705,-0.13486908748745918,0.008207252132706344,0.004570989403873682,0.06521000887732953,-0.08676935994299129,-0.04722586274147034,-0.02782453375402838,-0.03594288485328434,0.016645063762553036,0.09290703662372835,-0.0794076812453568,0.016437585931271315,0.04779063048772514,0.0762912577483803,0.16416625311831012,0.01584732159972191,0.13540622917935252,0.052296278372523375,0.05250783218070865,0.20960620697587729,-0.06037285132333636,0.09523546227137558,0.099342149682343,0.13895678147673607,-0.17130068293772638,0.04731562892993679,-0.06553313438780606,-0.0011491967597976327,-0.07715055928565562,0.0341979666845873,-0.03200717899017036,0.06392504554241896,-0.12144646979868412,-0.09290628065355122,-0.1140981640201062,0.2485013788100332,0.03044953930657357,0.15535505185835063,0.11971057299524546,0.07795090589206666,-0.02021735825110227,0.21038655936717987,0.058300230419263244,-0.07129486044868827,-0.016142836771905422,-0.07636609382461756,0.01717026246478781,-0.1310349296836648,-0.08979142573662102,-0.06961447991488967,-0.09967977922337923,-0.04824955260846764,0.013251475000288337,-0.014936384279280901,-0.032467026729136705,0.07656969036906958,0.02397461363580078,0.035329301143065095,0.0632075082976371,-0.10463336808606982,-0.1157299242913723,-0.045659542083740234,0.01330339559353888,0.09774756920523942,-0.004524422809481621,0.04921824624761939,-0.1236229655041825,0.14901585644111037,-0.007405510521493852,-0.10186336236074567,0.027325671166181564,0.13917286071227863,0.11931274639209732,-0.026974350679665804,0.0979030926246196,-0.023455747636035085,0.09040097275283188,-0.014870898798108101,-0.20812663715332747]                                       |01987842-FBE4-4608-B382-48C3346DCCCC|PARAJE|HERCULES|10   |38023 |San Cristóbal de La Laguna|PARAJE HERCLUES 10 SAN CRISTOBAL DE LA LAGUNA|[paraje, herclues, 10, san, cristobal, de, la, laguna]|[0.047318984754383564,-0.015259165724273771,0.002303656656295061,-0.08436959609389305,-0.1329002461861819,-0.07781284270458855,0.05290314648300409,-0.026592609472572803,0.06519131257664412,-0.13195596530567855,-0.03367367584723979,0.048393288103397936,-0.06617021991405636,0.1334858878835803,0.09369968267856166,-0.028417545836418867,-0.023889974341727793,0.11759923165664077,-0.026892947731539607,0.030705923796631396,0.10773512511514127,0.001860408650827594,-0.029330774676054716,-0.07078410475514829,-0.08186657226178795,0.06798394722864032,-0.041503945481963456,-0.031239973148331046,-0.03431613533757627,0.022306379745714366,-0.06498330962494947,0.025776294758543372,0.08061215793713927,-0.032678514369763434,0.09449307696195319,0.11926625901833177,-0.1707976933394093,-0.10987178364302963,-0.07960265350993723,0.019936952623538673,-0.016943144670221955,0.025277627806644887,-0.14401660859584808,0.016704260371625423,0.074359517369885,-0.038860717322677374,-0.0739793706452474,0.23177154234144837,-0.16028680402087048,-0.004479640629142523,-0.04172684972581919,0.11974752321839333,0.14403815753757954,0.11371145167504437,0.1661683817510493,-0.02950220776256174,-0.02647721371613443,0.07433885836508125,0.006445641221944243,-0.014394025696674362,0.012718370417132974,-0.018526922911405563,-0.039379354449920356,-0.0973990693455562,0.17394928296562284,0.03542924742214382,0.025234828586690128,-0.05257295584306121,0.027634198078885674,0.15939112391788512,0.13967594463611022,-0.13059780467301607,-0.0015275764744728804,0.17316920903977007,0.09462779476598371,0.07143648044439033,0.13055932754650712,0.07870567007921636,-0.006581256253411993,-0.1300050272839144,0.07732894172659144,0.007257243851199746,-0.163733399938792,-0.10836478273267858,-0.058452159573789686,0.04268946760566905,0.06684204441262409,0.02865740843117237,0.0211190230329521,0.0024710623547434807,0.12358959577977657,-0.06771494378335774,0.15950290649197996,-0.16023023330490105,-0.055631494367844425,0.14379039662890136,-0.07906441068917047,-0.05177487758919597,0.11435676144901663,0.18122379889246076,0.008188165142200887,-0.020174639066681266,0.02200137358158827,0.17985883494839072,0.0037457291036844254,0.17549522779881954,-0.002009857795201242,0.023019834305159748,0.05401535425335169,-0.07902415961143561,0.08236857585143298,0.008601302281022072,-0.029039332002867013,0.03322560421656817,-0.10661448037717491,-0.08750080212485045,0.0887748597888276,-0.04036076203919947,0.18161675601731986,-0.029061187407933176,0.04640123012359254,-0.0358177829766646,0.017371273366734385,-0.07714008912444115,0.09595529932994395,-0.08125221251975745,-0.024475697457091883,-0.04171924333786592,-0.05101996206212789,0.07278099190443754,-0.05012005672324449,0.05363519163802266,0.11101556534413248,-0.06690820553922094,0.011221648892387748,-0.10500314261298627,-0.053379561053588986,-0.10351580008864403,0.15752444908139296,0.03584263380616903,0.07966221903916448,-0.012241836113389581,0.07937979395501316,0.19282412878237665,0.0270223175175488,-0.05149001465179026,0.09209339006338269,-0.00784967141225934,-0.16589099320117384,0.03588773068622686,0.02419806143734604,-0.23435778403654695,-0.09601586731150746,0.12919102257001214,0.060316002258332446,0.18421269359532744,-0.11926748813129961,0.020422880304977298,0.062326092505827546,0.07188480456534307,0.03428382382844575,-0.04840485140448436,0.02470376226119697,0.02116183319594711,0.010168320673983544,-0.026490456250030547,0.04919572424842045,-0.08168237842619419,0.08661732659675181,0.027702686958946288,0.06936196811147965,0.11133697658078745,-0.04510640981607139,0.049019325291737914,-0.006221215036930516,-0.03193903900682926,-0.09697980782948434,0.07504160236567259,-0.030837524391245097,0.003588718012906611,-0.06424268358387053,0.03506714754621498,-0.04441988852340728,-0.060826024011475965,-0.02601793548092246,-0.0819852058775723,0.01651977289293427,-0.06882514950120822,-0.03944041673094034,-0.023727509193122387,0.04368662997148931,0.14956825179979205,-0.020456868689507246,-0.09543063270393759,0.08792526792967692,-0.10365988407284021,0.12592613775632344,-0.2118068968411535,0.08941955887712538,0.008222675765864551,0.06358099984936416,0.021049943170510232,-0.025706306390929967,-0.03240554060903378,0.05931562400655821,-0.05703414371237159,0.08576534455642104,-0.11517340372665785,0.06365745910443366,-0.05943306745029986,0.17492222471628338,-0.08272613259032369,0.10394074337091297,0.08242141176015139,-0.08286081650294363,0.03234283596975729,0.022252135444432497,0.03770182246807963,0.09347118825098732,0.052560952986823395,0.24823320237919688,-0.05988262756727636,-0.0784447327023372,0.0345588237978518,0.08187791844829917,-0.10249581519747153,-0.04672411864157766,-0.05027663125656545,-0.04751830224995501,-0.03884921711869538,0.0838982972472877,-0.03833362634759396,0.04360969865228981,0.09057677094824612,0.08645828498993069,0.1571128194918856,-0.006650456110946834,0.08028623716381844,0.1188588035875,-0.0027280158828943968,0.1788933160714805,-0.033889102982357144,0.042382086016004905,0.14033342490438372,0.1625199944828637,-0.10379918597755022,-0.02443692662200192,-0.1052126211579889,-0.061671186005696654,-0.03491683168977033,0.06394131341949105,-0.04186649830080569,0.07763655867893249,-0.14160012383945286,-0.09343784477096051,-0.062351815791771514,0.27617584832478315,0.0497769812354818,0.1894280130509287,0.0710704218945466,0.08579611498862505,-0.0399059453047812,0.15110885427566245,0.05841665284242481,-0.06559086428023875,-0.041319615789689124,-0.09902897709980607,0.053944097831845284,-0.08458190289093181,-0.03758550644852221,-0.09738941473187879,-0.10669672869539681,-0.05051081033889204,-0.0024641064810566604,0.002966901403851807,-0.13308245479129255,0.05147605435922742,0.02416713733691722,0.01398776238784194,0.04962104250444099,-0.10440813977038488,-0.13414637591631617,-0.040719248936511576,-0.02108856209088117,0.09723653295077384,-0.01292650424875319,0.012123628985136747,-0.07494826754555106,0.11244034301489592,0.002685978834051639,-0.03699040366336703,0.009287169959861785,0.18101899238536134,0.12358538183616474,0.0014613740495406091,0.059318119660019875,-0.03819604148156941,0.09167042723856866,-0.0036644425126723945,-0.21018644876312464]|0.92634726       |false     |\n",
      "|61256FDD-3251-11E8-9DB0-480FCF5217B3|AVENIDA BARTOLOME CAIRASCO 7 SAN CRISTOBAL DE LA LAGUNA                |[0.06339692986673778,0.035993753052834004,0.07723929877910349,-0.04709951869315571,-0.164519638237026,-0.08310188873050113,-0.0083701287706693,0.061508303715123065,0.10768935788008901,-0.1410786687499947,-0.011063732103341155,0.046522169943071075,0.020832142378720973,0.20624997756547397,0.0534598143874771,-0.027817386461214885,0.03617511296437846,0.052082830005221896,0.07715713739809062,0.030234772091110546,0.11519433185458183,0.007613044025169478,0.04736230832835038,-0.020456699033578236,-0.04284412724276383,0.039558676795827016,-0.13620552368876007,0.03696425134936968,-0.07671957669986619,0.054685006125105746,-0.05190419956731299,0.019783850966228377,0.07156836075915231,0.007336045977556042,0.00440470776003268,0.08739279293351702,-0.13607416384749943,-0.15548433384133709,-0.02527071783939997,0.07036802358925343,0.02214595339157515,0.027833896792597238,-0.1396202254626486,0.05374457961362269,-0.009160598274320364,-0.005966505656639734,-0.05447604714168442,0.2283896878361702,-0.1609303272432751,-0.041740724590555243,-0.010406550420965584,0.14615645042310157,0.16080266733964282,0.014456572450904382,0.12750050249612993,-0.12132120132446289,-0.05524584361248546,0.1434604020582305,0.006286152172833681,-0.05397983976743287,-3.017691067523426E-4,-0.07049428092108832,-0.017040831347306568,-0.02445170614454481,0.2057463964447379,0.03216088894340727,0.07620171333352724,-0.02489067655470636,0.011232286898626221,0.24174344130895203,0.18447829576002225,-0.13423351446787515,-0.04445041700576742,0.12239847787552409,0.10005002237287246,0.05270976945757866,0.13436518718178073,0.09897596057918336,-0.011274603092008166,-0.07590863475989963,0.12737783996595275,0.1816163770854473,-0.12796747063597042,-0.17186249502831033,0.04546939550588528,0.05301527735880679,0.0399831539640824,0.006301655071891016,0.036420045627488025,0.09640292078256607,0.09941036761220957,-0.10986031074490811,0.10961772749821344,-0.1706029291316453,-0.06105344684328884,0.021249621071749263,-0.06636424817972712,-0.06429179840617709,0.06529046915885475,0.16964500327594578,-0.02304050564352009,-0.06587134198182158,-0.0962823513481352,0.06887062887350717,0.05930951620555586,0.15083146178060106,0.010444462195866637,-0.07445717892713016,0.025071693280349586,-0.012588156956351465,0.0728448706989487,0.0907969269901514,0.0479386329340438,0.0018023013447721798,-0.08612770825210544,-0.06200369985567199,0.10342794698145653,0.02861127257347107,0.17979209808011848,-0.06054429502950774,0.05032693656782309,-0.017245316567520298,0.06541397598468594,0.01728921766496367,0.053787194606330656,-0.05826386147075229,-0.004452761780056688,0.02560009160596463,0.06415504434456427,0.0531390414883693,-0.015160818377302751,-0.0220387385537227,0.15159986613111362,0.03852553976078828,-0.010526755410763951,-0.07643452400548591,-0.005615774128172132,-0.14054016520579654,0.14133321576648286,0.12227238031725088,-0.03090247625692023,-0.03197459773057037,0.06662304078539212,0.19939880900912813,0.00351020988697807,-0.01204245144294368,0.10921797259814209,-0.06263523673017819,-0.14305448118183348,0.03271992214851909,0.032677513340281114,-0.11390661686244938,-0.16706024731198946,0.07222186546358797,0.08183060542473362,0.12090299651026726,-0.03477823237578074,0.03176762629300356,0.14038056838843557,0.11577995704849146,0.056303418914063104,0.02884112443361017,0.016679267916414473,0.002641695862015088,0.04236117915974723,0.04058486192176739,0.09893961788394436,-0.01689573460155063,0.15716209304001597,0.04062317156543334,0.07303698091871208,0.09406897492913736,-0.10408201078987783,0.06428433913323614,0.009338494726560181,0.04672940716975265,-0.08535560344656308,0.23115597499741447,-0.038892653253343366,-0.040388148536698684,-0.028468426886118118,0.03819457946034769,-0.10724540158278412,9.393393993377686E-4,-0.0545861582375235,-0.07412487578888734,-0.009658780712116923,-0.0951886773109436,0.00987484688974089,-0.08174841519859101,0.0928247140513526,0.04370427649054262,0.016360343330436282,-0.12657465578781232,0.16891027697258523,-0.14753999354110822,0.1463869760563183,-0.18727367578281295,0.16032901758121118,0.03867139439615938,0.07170124310586187,0.06552553508016798,0.14019460663095942,0.005644544959068298,0.04863590478069252,-0.08568210589389005,0.1954404739663005,-0.06309895300202899,0.10976198895110023,0.0457779485732317,0.1478938878410392,-0.10304355600641833,0.13783741406061584,0.1263478940559758,-0.04439279602633582,0.018729030051165156,-0.017535604122612212,0.034084569197148085,0.13919359448805657,0.08475160598754883,0.21389310475852752,-0.09711543263660537,-0.004377977612117926,-0.029997015139088035,0.05451878636247581,-0.02638926962390542,-0.0354250302641756,-0.021556656083299052,0.00204833990169896,-0.08007830112344688,-0.008775326114523018,-0.024950957236190636,0.0178727522595889,0.0526675086067472,0.12093403418031003,0.1482734659479724,0.04962551883525318,0.1222841323663791,0.10066693224426772,-0.02016606554389,0.17348021123972204,-0.07652941511736976,0.06650473092061777,0.05422810692754056,0.20182754430505964,-0.15236415382888582,0.029142170491266165,-0.0057986305716137086,0.005713990786009365,-0.05188077439864476,-0.07248656782839033,-0.06355656067737274,0.05596921592950821,-0.1392246319188012,-0.08274883807947238,-0.06111088105373912,0.1759354876768258,0.001639545067316956,0.07549826179941495,0.046095041739236974,0.06405936285025543,-0.01165822965817319,0.20198173407051298,0.06389753023783365,-0.06196928541693422,-0.03475295752286911,-0.1542518635590871,-0.019830905366688967,-0.0809271769362062,-0.035218354107605085,-0.12376927475755413,-0.0691289528866845,-0.013076510797772141,-0.05733531056385901,-0.03231556589404742,-0.06980893036557569,0.032801251030630536,-0.006779328299065431,0.004941313527524471,0.021618265244695876,0.014997648282183541,-0.025016403032673728,0.023074711892857317,0.04128712871008449,0.11008021587298976,0.09286031685769558,0.018314382268322837,-0.05304598228798972,0.1480870505587922,-0.12111227379904853,-0.05245965450174278,-0.02354065944544143,0.13477090580595863,0.1450261113544305,-0.05417053944741686,0.08292181334561771,-0.048181027484436825,0.09837228887610965,0.017754905339744356,-0.1826398658255736]                                                         |01987842-FBE4-4608-B382-48C3346DCCCC|PARAJE|HERCULES|10   |38023 |San Cristóbal de La Laguna|PARAJE HERCLUES 10 SAN CRISTOBAL DE LA LAGUNA|[paraje, herclues, 10, san, cristobal, de, la, laguna]|[0.047318984754383564,-0.015259165724273771,0.002303656656295061,-0.08436959609389305,-0.1329002461861819,-0.07781284270458855,0.05290314648300409,-0.026592609472572803,0.06519131257664412,-0.13195596530567855,-0.03367367584723979,0.048393288103397936,-0.06617021991405636,0.1334858878835803,0.09369968267856166,-0.028417545836418867,-0.023889974341727793,0.11759923165664077,-0.026892947731539607,0.030705923796631396,0.10773512511514127,0.001860408650827594,-0.029330774676054716,-0.07078410475514829,-0.08186657226178795,0.06798394722864032,-0.041503945481963456,-0.031239973148331046,-0.03431613533757627,0.022306379745714366,-0.06498330962494947,0.025776294758543372,0.08061215793713927,-0.032678514369763434,0.09449307696195319,0.11926625901833177,-0.1707976933394093,-0.10987178364302963,-0.07960265350993723,0.019936952623538673,-0.016943144670221955,0.025277627806644887,-0.14401660859584808,0.016704260371625423,0.074359517369885,-0.038860717322677374,-0.0739793706452474,0.23177154234144837,-0.16028680402087048,-0.004479640629142523,-0.04172684972581919,0.11974752321839333,0.14403815753757954,0.11371145167504437,0.1661683817510493,-0.02950220776256174,-0.02647721371613443,0.07433885836508125,0.006445641221944243,-0.014394025696674362,0.012718370417132974,-0.018526922911405563,-0.039379354449920356,-0.0973990693455562,0.17394928296562284,0.03542924742214382,0.025234828586690128,-0.05257295584306121,0.027634198078885674,0.15939112391788512,0.13967594463611022,-0.13059780467301607,-0.0015275764744728804,0.17316920903977007,0.09462779476598371,0.07143648044439033,0.13055932754650712,0.07870567007921636,-0.006581256253411993,-0.1300050272839144,0.07732894172659144,0.007257243851199746,-0.163733399938792,-0.10836478273267858,-0.058452159573789686,0.04268946760566905,0.06684204441262409,0.02865740843117237,0.0211190230329521,0.0024710623547434807,0.12358959577977657,-0.06771494378335774,0.15950290649197996,-0.16023023330490105,-0.055631494367844425,0.14379039662890136,-0.07906441068917047,-0.05177487758919597,0.11435676144901663,0.18122379889246076,0.008188165142200887,-0.020174639066681266,0.02200137358158827,0.17985883494839072,0.0037457291036844254,0.17549522779881954,-0.002009857795201242,0.023019834305159748,0.05401535425335169,-0.07902415961143561,0.08236857585143298,0.008601302281022072,-0.029039332002867013,0.03322560421656817,-0.10661448037717491,-0.08750080212485045,0.0887748597888276,-0.04036076203919947,0.18161675601731986,-0.029061187407933176,0.04640123012359254,-0.0358177829766646,0.017371273366734385,-0.07714008912444115,0.09595529932994395,-0.08125221251975745,-0.024475697457091883,-0.04171924333786592,-0.05101996206212789,0.07278099190443754,-0.05012005672324449,0.05363519163802266,0.11101556534413248,-0.06690820553922094,0.011221648892387748,-0.10500314261298627,-0.053379561053588986,-0.10351580008864403,0.15752444908139296,0.03584263380616903,0.07966221903916448,-0.012241836113389581,0.07937979395501316,0.19282412878237665,0.0270223175175488,-0.05149001465179026,0.09209339006338269,-0.00784967141225934,-0.16589099320117384,0.03588773068622686,0.02419806143734604,-0.23435778403654695,-0.09601586731150746,0.12919102257001214,0.060316002258332446,0.18421269359532744,-0.11926748813129961,0.020422880304977298,0.062326092505827546,0.07188480456534307,0.03428382382844575,-0.04840485140448436,0.02470376226119697,0.02116183319594711,0.010168320673983544,-0.026490456250030547,0.04919572424842045,-0.08168237842619419,0.08661732659675181,0.027702686958946288,0.06936196811147965,0.11133697658078745,-0.04510640981607139,0.049019325291737914,-0.006221215036930516,-0.03193903900682926,-0.09697980782948434,0.07504160236567259,-0.030837524391245097,0.003588718012906611,-0.06424268358387053,0.03506714754621498,-0.04441988852340728,-0.060826024011475965,-0.02601793548092246,-0.0819852058775723,0.01651977289293427,-0.06882514950120822,-0.03944041673094034,-0.023727509193122387,0.04368662997148931,0.14956825179979205,-0.020456868689507246,-0.09543063270393759,0.08792526792967692,-0.10365988407284021,0.12592613775632344,-0.2118068968411535,0.08941955887712538,0.008222675765864551,0.06358099984936416,0.021049943170510232,-0.025706306390929967,-0.03240554060903378,0.05931562400655821,-0.05703414371237159,0.08576534455642104,-0.11517340372665785,0.06365745910443366,-0.05943306745029986,0.17492222471628338,-0.08272613259032369,0.10394074337091297,0.08242141176015139,-0.08286081650294363,0.03234283596975729,0.022252135444432497,0.03770182246807963,0.09347118825098732,0.052560952986823395,0.24823320237919688,-0.05988262756727636,-0.0784447327023372,0.0345588237978518,0.08187791844829917,-0.10249581519747153,-0.04672411864157766,-0.05027663125656545,-0.04751830224995501,-0.03884921711869538,0.0838982972472877,-0.03833362634759396,0.04360969865228981,0.09057677094824612,0.08645828498993069,0.1571128194918856,-0.006650456110946834,0.08028623716381844,0.1188588035875,-0.0027280158828943968,0.1788933160714805,-0.033889102982357144,0.042382086016004905,0.14033342490438372,0.1625199944828637,-0.10379918597755022,-0.02443692662200192,-0.1052126211579889,-0.061671186005696654,-0.03491683168977033,0.06394131341949105,-0.04186649830080569,0.07763655867893249,-0.14160012383945286,-0.09343784477096051,-0.062351815791771514,0.27617584832478315,0.0497769812354818,0.1894280130509287,0.0710704218945466,0.08579611498862505,-0.0399059453047812,0.15110885427566245,0.05841665284242481,-0.06559086428023875,-0.041319615789689124,-0.09902897709980607,0.053944097831845284,-0.08458190289093181,-0.03758550644852221,-0.09738941473187879,-0.10669672869539681,-0.05051081033889204,-0.0024641064810566604,0.002966901403851807,-0.13308245479129255,0.05147605435922742,0.02416713733691722,0.01398776238784194,0.04962104250444099,-0.10440813977038488,-0.13414637591631617,-0.040719248936511576,-0.02108856209088117,0.09723653295077384,-0.01292650424875319,0.012123628985136747,-0.07494826754555106,0.11244034301489592,0.002685978834051639,-0.03699040366336703,0.009287169959861785,0.18101899238536134,0.12358538183616474,0.0014613740495406091,0.059318119660019875,-0.03819604148156941,0.09167042723856866,-0.0036644425126723945,-0.21018644876312464]|0.82410747       |false     |\n",
      "|68FBC553-3251-11E8-A7AB-480FCF5217B3|ROTONDA PILAREL 43 SAN CRISTOABL DE LA LAGUNA                          |[0.0506554339081049,0.04267105215694755,0.028791176853701472,-0.0011902833357453346,-0.14620257331989706,-0.11048540638876148,0.017736835405230522,0.01394285133574158,0.02240026491926983,-0.13350372307468206,-0.06306406890507787,0.015560365580313373,-0.05760098865721375,0.1233076887729112,0.03139945707516745,0.004197604197543114,0.0044591056648641825,0.09243739861994982,-0.035960351349785924,0.01908269544946961,0.13204055046662688,-0.017032364732585847,0.008024200215004385,-0.06530121186369797,-0.0513095878995955,0.1122661754488945,-0.06879765028133988,-0.07504855074512307,-0.033514976501464844,0.015981160788214765,0.0027227351383771747,0.011934255715459585,0.06814739666879177,-0.06950544501887634,0.016514772025402635,0.15278776502236724,-0.1086912783794105,-0.05860160547308624,-0.10604298836551607,0.022680028341710567,-0.00713559944415465,0.04361073183827102,-0.13861738983541727,0.027474136790260673,0.05162667069816962,-0.013738018926233053,-0.009924181620590389,0.21244024857878685,-0.08733724080957472,-0.02399390935897827,-0.06517428829101846,0.12914420431479812,0.18442530487664044,-0.0204307671810966,0.12238360126502812,0.01144017931073904,0.006998938042670488,-0.014050022698938847,0.03766604937845841,-0.05136744520859793,-0.003980219596996903,0.021509163081645966,-0.05856475280597806,-0.06965205492451787,0.16914622869808227,-0.0559004086535424,0.03215818537864834,-0.058153364865574986,-0.024261799408122897,0.11397027836937923,0.1093017403036356,-0.05753249680856243,-0.04442153198760934,0.057817605789750814,0.05129707390733529,0.0841923039406538,0.07908393954858184,0.09392633335664868,-0.0036541572771966457,-0.07668496342375875,0.11072142864577472,0.08249539928510785,-0.10123186744749546,-0.16088494495488703,0.02295377349946648,0.01337814558064565,0.06566751073114574,0.010436857119202614,-0.00827996653970331,0.051434189546853304,0.061637836042791605,-0.03348346590064466,0.09415078582242131,-0.13881789552397095,-0.06736943083524238,0.13844930613413453,-0.04443400911986828,-0.012547108985017985,0.10059139429358765,0.17631209711544216,-0.037818872602656484,-0.02875218028202653,0.015138274990022182,0.16983758169226348,0.04168861359357834,0.1689131852472201,0.023242594674229622,-0.034464621683582664,0.02288770640734583,-0.0637058715801686,0.058249050518497825,-0.024877080373698846,0.020692592079285532,0.006695451680570841,-0.09780152328312397,-0.05054267856758088,0.10521598486229777,0.013951573055237532,0.10002250748220831,-0.0028307102620601654,-0.008300466812215745,0.007223264779895544,0.011981183663010597,-0.02558684244286269,0.03765740618109703,0.010674169287085533,-0.06148648785892874,-0.038102686463389546,-0.012736982083879411,0.07602783991023898,-0.04977173275256064,0.019585203612223268,0.1320379635435529,-0.07389028323814273,-0.05167104420252144,-0.06364234490320086,-0.06260162149555981,-0.10130577441304922,0.12801960110664368,-0.026310495799407363,-0.05654824668454239,0.015357757918536663,0.13259198213927448,0.14024867676198483,0.011187438620254397,-0.023683081613853574,0.08286296820733696,0.018104976508766413,-0.16157963743899018,0.051081271609291434,0.009043865138664842,-0.16255504556465894,-0.09613468125462532,0.11019661494356114,0.007557237055152655,0.12438655830919743,-0.08483963075559586,0.06760734505951405,0.12297457084059715,0.056500342485378496,0.04285855055786669,-0.02335307258181274,0.023669182701269165,0.033778714830987155,-0.023835045285522938,2.887763548642397E-4,0.04328606621129438,-0.043609491316601634,0.07601583638461307,-0.0174357007490471,-0.012204615748487413,0.09460252831922844,-0.05674566002562642,0.07441649679094553,0.002190315426560119,-0.005935063119977713,-0.10346308656153269,0.05762065574526787,-0.06432883412344381,-0.0722871997859329,-0.049370267894119024,0.04018127926974557,-0.06530659645795822,-0.04402032552752644,-0.03049354488030076,-0.09882680373266339,0.0011686209618346766,-0.11648661829531193,-0.002461974276229739,-0.0012201675126561895,0.034779558423906565,0.12349435011856258,0.003891869680956006,-0.09893882204778492,0.10359524469822645,-0.07630515936762094,0.11291325447382405,-0.12364731426350772,0.08471012394875288,0.0019424846395850182,-9.191757999360561E-4,0.02987889712676406,0.014689157018437982,-0.021220282797003165,0.004645710112527013,-0.05203965096734464,0.11032315506599844,-0.049152529798448086,0.13043368933722377,0.004408637993037701,0.1408885456621647,-0.09112135204486549,0.06450493913143873,0.05688901912071742,-0.08607235527597368,0.06863281383994035,0.07335708104074001,0.10145793645642698,0.06824661931750597,0.029458126169629395,0.16621561255306005,-0.08703206415520981,-0.008015841362066567,0.07639449904672801,0.041100854985415936,-0.03930378414224833,-0.010779788135550916,-0.10690663603600115,-0.019524115370586514,-0.0780430044978857,0.07556411375117023,-0.027745081577450037,0.05876018770504743,0.060921774711459875,0.08309626393020153,0.06536275614053011,0.014230121043510735,0.09790613665245473,0.0776290133362636,-0.029583141673356295,0.1333195515908301,-0.047225994290784,0.03531971757183783,0.10816141543909907,0.11669458681717515,-0.1665551933037932,0.06486613649030915,-0.03986333665670827,-0.009404832846485078,-0.05045953474473208,0.043392918072640896,-0.1055581213440746,0.03696894727181643,-0.13368859700858593,-0.09622150007635355,-0.1406977134756744,0.2086174888536334,0.049514589831233025,0.14055757457390428,0.019788495963439345,0.02623448465601541,-0.06521268922369927,0.128956039698096,0.044186148210428655,-0.06454329320695251,-0.012012208811938763,-0.13382852729409933,-0.05336630064994097,-0.07080492039676756,-0.029426287161186337,-0.04916570242494345,-0.09879888753334853,-0.01629226782824844,-0.04824106213345658,0.011045122286304832,-0.06201726687140763,0.01392440078780055,0.03523956026765518,-0.017457584151998162,0.0336558001145022,-0.11905849259346724,-0.1341102016158402,-0.023878234438598156,0.03440742241218686,0.13804188545327634,-0.0048019723035395145,0.08615058939903975,-0.06866712681949139,0.12825738498941064,0.03411383810453117,-0.09635992199764587,-0.040996252617333084,0.08329749736003578,0.0918119897833094,0.03522718482417986,0.033179617719724774,-0.017175524029880762,0.04003974416991696,0.040919051971286535,-0.13138067757245153]|01987842-FBE4-4608-B382-48C3346DCCCC|PARAJE|HERCULES|10   |38023 |San Cristóbal de La Laguna|PARAJE HERCLUES 10 SAN CRISTOBAL DE LA LAGUNA|[paraje, herclues, 10, san, cristobal, de, la, laguna]|[0.047318984754383564,-0.015259165724273771,0.002303656656295061,-0.08436959609389305,-0.1329002461861819,-0.07781284270458855,0.05290314648300409,-0.026592609472572803,0.06519131257664412,-0.13195596530567855,-0.03367367584723979,0.048393288103397936,-0.06617021991405636,0.1334858878835803,0.09369968267856166,-0.028417545836418867,-0.023889974341727793,0.11759923165664077,-0.026892947731539607,0.030705923796631396,0.10773512511514127,0.001860408650827594,-0.029330774676054716,-0.07078410475514829,-0.08186657226178795,0.06798394722864032,-0.041503945481963456,-0.031239973148331046,-0.03431613533757627,0.022306379745714366,-0.06498330962494947,0.025776294758543372,0.08061215793713927,-0.032678514369763434,0.09449307696195319,0.11926625901833177,-0.1707976933394093,-0.10987178364302963,-0.07960265350993723,0.019936952623538673,-0.016943144670221955,0.025277627806644887,-0.14401660859584808,0.016704260371625423,0.074359517369885,-0.038860717322677374,-0.0739793706452474,0.23177154234144837,-0.16028680402087048,-0.004479640629142523,-0.04172684972581919,0.11974752321839333,0.14403815753757954,0.11371145167504437,0.1661683817510493,-0.02950220776256174,-0.02647721371613443,0.07433885836508125,0.006445641221944243,-0.014394025696674362,0.012718370417132974,-0.018526922911405563,-0.039379354449920356,-0.0973990693455562,0.17394928296562284,0.03542924742214382,0.025234828586690128,-0.05257295584306121,0.027634198078885674,0.15939112391788512,0.13967594463611022,-0.13059780467301607,-0.0015275764744728804,0.17316920903977007,0.09462779476598371,0.07143648044439033,0.13055932754650712,0.07870567007921636,-0.006581256253411993,-0.1300050272839144,0.07732894172659144,0.007257243851199746,-0.163733399938792,-0.10836478273267858,-0.058452159573789686,0.04268946760566905,0.06684204441262409,0.02865740843117237,0.0211190230329521,0.0024710623547434807,0.12358959577977657,-0.06771494378335774,0.15950290649197996,-0.16023023330490105,-0.055631494367844425,0.14379039662890136,-0.07906441068917047,-0.05177487758919597,0.11435676144901663,0.18122379889246076,0.008188165142200887,-0.020174639066681266,0.02200137358158827,0.17985883494839072,0.0037457291036844254,0.17549522779881954,-0.002009857795201242,0.023019834305159748,0.05401535425335169,-0.07902415961143561,0.08236857585143298,0.008601302281022072,-0.029039332002867013,0.03322560421656817,-0.10661448037717491,-0.08750080212485045,0.0887748597888276,-0.04036076203919947,0.18161675601731986,-0.029061187407933176,0.04640123012359254,-0.0358177829766646,0.017371273366734385,-0.07714008912444115,0.09595529932994395,-0.08125221251975745,-0.024475697457091883,-0.04171924333786592,-0.05101996206212789,0.07278099190443754,-0.05012005672324449,0.05363519163802266,0.11101556534413248,-0.06690820553922094,0.011221648892387748,-0.10500314261298627,-0.053379561053588986,-0.10351580008864403,0.15752444908139296,0.03584263380616903,0.07966221903916448,-0.012241836113389581,0.07937979395501316,0.19282412878237665,0.0270223175175488,-0.05149001465179026,0.09209339006338269,-0.00784967141225934,-0.16589099320117384,0.03588773068622686,0.02419806143734604,-0.23435778403654695,-0.09601586731150746,0.12919102257001214,0.060316002258332446,0.18421269359532744,-0.11926748813129961,0.020422880304977298,0.062326092505827546,0.07188480456534307,0.03428382382844575,-0.04840485140448436,0.02470376226119697,0.02116183319594711,0.010168320673983544,-0.026490456250030547,0.04919572424842045,-0.08168237842619419,0.08661732659675181,0.027702686958946288,0.06936196811147965,0.11133697658078745,-0.04510640981607139,0.049019325291737914,-0.006221215036930516,-0.03193903900682926,-0.09697980782948434,0.07504160236567259,-0.030837524391245097,0.003588718012906611,-0.06424268358387053,0.03506714754621498,-0.04441988852340728,-0.060826024011475965,-0.02601793548092246,-0.0819852058775723,0.01651977289293427,-0.06882514950120822,-0.03944041673094034,-0.023727509193122387,0.04368662997148931,0.14956825179979205,-0.020456868689507246,-0.09543063270393759,0.08792526792967692,-0.10365988407284021,0.12592613775632344,-0.2118068968411535,0.08941955887712538,0.008222675765864551,0.06358099984936416,0.021049943170510232,-0.025706306390929967,-0.03240554060903378,0.05931562400655821,-0.05703414371237159,0.08576534455642104,-0.11517340372665785,0.06365745910443366,-0.05943306745029986,0.17492222471628338,-0.08272613259032369,0.10394074337091297,0.08242141176015139,-0.08286081650294363,0.03234283596975729,0.022252135444432497,0.03770182246807963,0.09347118825098732,0.052560952986823395,0.24823320237919688,-0.05988262756727636,-0.0784447327023372,0.0345588237978518,0.08187791844829917,-0.10249581519747153,-0.04672411864157766,-0.05027663125656545,-0.04751830224995501,-0.03884921711869538,0.0838982972472877,-0.03833362634759396,0.04360969865228981,0.09057677094824612,0.08645828498993069,0.1571128194918856,-0.006650456110946834,0.08028623716381844,0.1188588035875,-0.0027280158828943968,0.1788933160714805,-0.033889102982357144,0.042382086016004905,0.14033342490438372,0.1625199944828637,-0.10379918597755022,-0.02443692662200192,-0.1052126211579889,-0.061671186005696654,-0.03491683168977033,0.06394131341949105,-0.04186649830080569,0.07763655867893249,-0.14160012383945286,-0.09343784477096051,-0.062351815791771514,0.27617584832478315,0.0497769812354818,0.1894280130509287,0.0710704218945466,0.08579611498862505,-0.0399059453047812,0.15110885427566245,0.05841665284242481,-0.06559086428023875,-0.041319615789689124,-0.09902897709980607,0.053944097831845284,-0.08458190289093181,-0.03758550644852221,-0.09738941473187879,-0.10669672869539681,-0.05051081033889204,-0.0024641064810566604,0.002966901403851807,-0.13308245479129255,0.05147605435922742,0.02416713733691722,0.01398776238784194,0.04962104250444099,-0.10440813977038488,-0.13414637591631617,-0.040719248936511576,-0.02108856209088117,0.09723653295077384,-0.01292650424875319,0.012123628985136747,-0.07494826754555106,0.11244034301489592,0.002685978834051639,-0.03699040366336703,0.009287169959861785,0.18101899238536134,0.12358538183616474,0.0014613740495406091,0.059318119660019875,-0.03819604148156941,0.09167042723856866,-0.0036644425126723945,-0.21018644876312464]|0.8818142        |false     |\n",
      "|6312A7F0-3251-11E8-B3A1-480FCF5217B3|URBANIZACION GUAJARA DELTA 14 SAN CRISTOBAL DE LA LAGUNA               |[-0.02223893172211117,0.006642765727721982,-0.009451473959618144,-0.07817489902178446,-0.2899597013990084,-0.1322512008094539,0.004323365166783333,0.02899567844967047,-0.010574900752140416,-0.0663917971154054,-0.08250152195493379,0.06336930026817653,-0.07545386541945238,0.095302847524484,0.10914952323461571,-0.033482828487952546,0.10846819666524728,0.09638258152537875,-0.07918374675015608,0.04836027096543047,0.13542908388707373,0.09797442714787191,0.05063242382473415,-0.059001451565159686,-0.041135258972644806,0.007462889783912234,-0.160814700441228,-0.00974927759832806,-0.14341101091769007,-0.017264774276150596,-0.018902886839997437,0.04940965233577622,0.029938476781050362,-0.04574057004517979,0.1490110335354176,0.09277356457379128,-0.18336522204077077,-0.16531777237024572,-0.22410954493615362,0.1013611052185297,0.04431515461247828,0.09564937733941607,-0.2071198895573616,0.14370522544615796,0.0662359539936814,-0.045609836363130145,-0.1233492958643991,0.17910265881154272,-0.08107603755262162,-0.05589391912023226,-0.04489085583999339,0.13734401959098047,0.2355205507742034,0.021838880273410015,0.03887386040555106,-0.009365065644184748,-0.04392559826374054,-0.0801607577337159,-8.392530079517099E-4,-0.07936446580828892,0.03912748727533552,-0.0287751162217723,-0.1023290945837895,-0.07043262239959504,0.2310539474710822,-0.04807735400067435,0.09769099654578085,-0.021303691797786288,0.03210190745691458,0.2375357718620863,0.18989178569366533,-0.10857671250899632,-0.038488687947392464,0.07387967614663972,0.10442488119264857,0.07966240412659115,0.12978506336609522,0.13042019452485773,0.013449835694498485,-0.17182129083408249,0.006819528941478994,0.09968410722083515,-0.23696567035383648,-0.1271976569874419,-0.018868002937071852,0.027169439062062234,0.06859639526293096,-0.017059278674423695,0.08937386402653323,0.029203983644644417,0.16457312098807758,-0.007548975240853097,0.13095140208800632,-0.12266934236201146,-0.1362836003018957,0.2596832402050495,-0.10191307858460479,0.009135418054130342,0.059318383845190205,0.13836925849318504,0.006210321819202767,0.07776846964326169,-0.05360010266304016,0.23934523140390712,0.08932826771504349,0.18632224616077211,0.07575117703527212,0.018201387176911034,0.03703771490189764,-0.06888465702326761,0.16995415029426414,0.11802574743827184,-0.013634151416934198,-0.0034970055955151715,-0.11686286361267169,-0.08886733661509222,0.15390651259157392,-0.013528313901689317,0.27172946433226264,-0.07322780746552679,0.01838343631890085,-0.09751061122450563,0.009487081888235277,-0.037536372223662004,0.15272357232040829,-0.07454726907114187,-0.09297764208167791,-0.08649842963657445,0.025103087640470926,0.13108141844471294,-0.02819557146479686,-0.01807646649993128,0.06373811978846788,-0.010191828141816787,-0.05050851177010271,-0.08863492506659693,-0.08641589764091703,-0.13496817234489653,0.19742215010854933,0.019381219521164894,0.06247810222622421,-0.05158305525158842,0.04766807291242811,0.15109066085682973,0.05622031529330545,-0.04994834731850359,0.1201146551563094,0.014086758924855126,-0.17576917892114982,0.06093739925159348,0.1265025675917665,-0.20684158470895553,-0.13443274340695804,0.03509720952974425,0.011370248238866527,0.19790677312347624,-0.09265870787203312,-0.035253588679350085,0.2144421169327365,0.13266080580393058,0.0412549851462245,-0.11724008205864164,-0.13329068447152773,-0.006374582751757569,0.02006298303604126,-0.07540161866280767,0.11398139445938997,-0.08570128927628198,0.12369502309916747,0.06283569801598787,0.054615623938540615,0.09629436566804846,-0.08291201402122775,0.09128744662221934,-0.0970199654240989,0.07636481833954652,-0.1055198252821962,0.04921436723735597,-4.03250257174174E-5,-0.04465602214137713,-0.04002465318383959,0.042782963124207325,-0.10305137849516338,-0.08009846001449558,0.002654970313111941,-0.07752331594626108,-0.05029438098426908,-0.08457607196436988,0.02175411633733246,-0.022566782931486763,0.05493121221661568,0.10774384025070402,-0.015062152097622553,-0.14091947053869563,0.15619267978601983,-0.05297048886617024,0.09850132980176972,-0.15777023798889583,0.02338424107680718,0.01978100836277008,0.03606403660443094,-0.014082999693022832,0.04559089491764704,0.008062578323814604,-0.0018801956644488704,-0.15879343015452224,0.059450572563542255,-0.040302958753373884,0.13880820986297396,0.0059914884881840805,0.14320899235705534,-0.007687611039727926,0.05341451573703024,0.03350713766283459,-0.1179973536895381,0.10276823780602878,0.021704299789335992,0.045061255378338196,0.051134367505761065,-0.034844512326849826,0.23875917701257598,-0.06587203385101424,0.030739234294742346,0.06811279389593336,0.023954209147228133,-0.06909655515725413,-0.03303438394020001,-0.08248131504903236,0.01141670863661501,-0.16730581120484403,0.06100697015871345,-0.0853690608508057,0.07189127937373187,0.13244755793776777,0.0482396365971201,0.20111324389775592,0.06284313317802218,0.21861869924598268,0.08867574027842945,-0.009155023429128857,0.2140319337033563,-0.15582196021245584,0.0826883647047604,0.1334735153035985,0.10283396741983274,-0.15398809355166224,-0.00811286791253628,-0.06997856715073188,-0.059654174372553825,-0.015609707269403668,0.03133805955035819,-0.0564255178388622,0.044391283248033785,-0.12235681239205101,-0.07843070332374837,-0.15683174754182497,0.17008139938116074,0.0493975400717722,0.10026846081018448,0.09139835172229342,0.14241538155410025,0.010476570679909652,0.24081682537992793,0.038526716745562024,-0.016369394958019257,-0.05111694087584813,-0.07971335368023978,-0.03366467418769995,-0.09474592976686026,-0.030850210330552522,-0.04239840008732345,-0.06341244028610364,-9.224341354436344E-4,-0.01831165649410751,-0.06204709203706847,-0.1015411408411132,0.10147591804464658,0.005585888918075296,-0.035307169581453,0.049571859753794134,-0.07205124716791841,-0.03995286011033588,0.04467201248432199,0.03021854700313674,0.0781496848923982,0.0727680713041789,0.11630545804897943,-0.15573336639338067,0.09118356307347615,-0.07528592625425921,-0.07420935378306441,0.05563602446474963,0.17334260212050542,0.2438774440023634,-0.12287284733934534,0.1133766933861706,-0.024619839878545866,0.09453565751512845,0.03202308714389801,-0.207768765795562]                                                |01987842-FBE4-4608-B382-48C3346DCCCC|PARAJE|HERCULES|10   |38023 |San Cristóbal de La Laguna|PARAJE HERCLUES 10 SAN CRISTOBAL DE LA LAGUNA|[paraje, herclues, 10, san, cristobal, de, la, laguna]|[0.047318984754383564,-0.015259165724273771,0.002303656656295061,-0.08436959609389305,-0.1329002461861819,-0.07781284270458855,0.05290314648300409,-0.026592609472572803,0.06519131257664412,-0.13195596530567855,-0.03367367584723979,0.048393288103397936,-0.06617021991405636,0.1334858878835803,0.09369968267856166,-0.028417545836418867,-0.023889974341727793,0.11759923165664077,-0.026892947731539607,0.030705923796631396,0.10773512511514127,0.001860408650827594,-0.029330774676054716,-0.07078410475514829,-0.08186657226178795,0.06798394722864032,-0.041503945481963456,-0.031239973148331046,-0.03431613533757627,0.022306379745714366,-0.06498330962494947,0.025776294758543372,0.08061215793713927,-0.032678514369763434,0.09449307696195319,0.11926625901833177,-0.1707976933394093,-0.10987178364302963,-0.07960265350993723,0.019936952623538673,-0.016943144670221955,0.025277627806644887,-0.14401660859584808,0.016704260371625423,0.074359517369885,-0.038860717322677374,-0.0739793706452474,0.23177154234144837,-0.16028680402087048,-0.004479640629142523,-0.04172684972581919,0.11974752321839333,0.14403815753757954,0.11371145167504437,0.1661683817510493,-0.02950220776256174,-0.02647721371613443,0.07433885836508125,0.006445641221944243,-0.014394025696674362,0.012718370417132974,-0.018526922911405563,-0.039379354449920356,-0.0973990693455562,0.17394928296562284,0.03542924742214382,0.025234828586690128,-0.05257295584306121,0.027634198078885674,0.15939112391788512,0.13967594463611022,-0.13059780467301607,-0.0015275764744728804,0.17316920903977007,0.09462779476598371,0.07143648044439033,0.13055932754650712,0.07870567007921636,-0.006581256253411993,-0.1300050272839144,0.07732894172659144,0.007257243851199746,-0.163733399938792,-0.10836478273267858,-0.058452159573789686,0.04268946760566905,0.06684204441262409,0.02865740843117237,0.0211190230329521,0.0024710623547434807,0.12358959577977657,-0.06771494378335774,0.15950290649197996,-0.16023023330490105,-0.055631494367844425,0.14379039662890136,-0.07906441068917047,-0.05177487758919597,0.11435676144901663,0.18122379889246076,0.008188165142200887,-0.020174639066681266,0.02200137358158827,0.17985883494839072,0.0037457291036844254,0.17549522779881954,-0.002009857795201242,0.023019834305159748,0.05401535425335169,-0.07902415961143561,0.08236857585143298,0.008601302281022072,-0.029039332002867013,0.03322560421656817,-0.10661448037717491,-0.08750080212485045,0.0887748597888276,-0.04036076203919947,0.18161675601731986,-0.029061187407933176,0.04640123012359254,-0.0358177829766646,0.017371273366734385,-0.07714008912444115,0.09595529932994395,-0.08125221251975745,-0.024475697457091883,-0.04171924333786592,-0.05101996206212789,0.07278099190443754,-0.05012005672324449,0.05363519163802266,0.11101556534413248,-0.06690820553922094,0.011221648892387748,-0.10500314261298627,-0.053379561053588986,-0.10351580008864403,0.15752444908139296,0.03584263380616903,0.07966221903916448,-0.012241836113389581,0.07937979395501316,0.19282412878237665,0.0270223175175488,-0.05149001465179026,0.09209339006338269,-0.00784967141225934,-0.16589099320117384,0.03588773068622686,0.02419806143734604,-0.23435778403654695,-0.09601586731150746,0.12919102257001214,0.060316002258332446,0.18421269359532744,-0.11926748813129961,0.020422880304977298,0.062326092505827546,0.07188480456534307,0.03428382382844575,-0.04840485140448436,0.02470376226119697,0.02116183319594711,0.010168320673983544,-0.026490456250030547,0.04919572424842045,-0.08168237842619419,0.08661732659675181,0.027702686958946288,0.06936196811147965,0.11133697658078745,-0.04510640981607139,0.049019325291737914,-0.006221215036930516,-0.03193903900682926,-0.09697980782948434,0.07504160236567259,-0.030837524391245097,0.003588718012906611,-0.06424268358387053,0.03506714754621498,-0.04441988852340728,-0.060826024011475965,-0.02601793548092246,-0.0819852058775723,0.01651977289293427,-0.06882514950120822,-0.03944041673094034,-0.023727509193122387,0.04368662997148931,0.14956825179979205,-0.020456868689507246,-0.09543063270393759,0.08792526792967692,-0.10365988407284021,0.12592613775632344,-0.2118068968411535,0.08941955887712538,0.008222675765864551,0.06358099984936416,0.021049943170510232,-0.025706306390929967,-0.03240554060903378,0.05931562400655821,-0.05703414371237159,0.08576534455642104,-0.11517340372665785,0.06365745910443366,-0.05943306745029986,0.17492222471628338,-0.08272613259032369,0.10394074337091297,0.08242141176015139,-0.08286081650294363,0.03234283596975729,0.022252135444432497,0.03770182246807963,0.09347118825098732,0.052560952986823395,0.24823320237919688,-0.05988262756727636,-0.0784447327023372,0.0345588237978518,0.08187791844829917,-0.10249581519747153,-0.04672411864157766,-0.05027663125656545,-0.04751830224995501,-0.03884921711869538,0.0838982972472877,-0.03833362634759396,0.04360969865228981,0.09057677094824612,0.08645828498993069,0.1571128194918856,-0.006650456110946834,0.08028623716381844,0.1188588035875,-0.0027280158828943968,0.1788933160714805,-0.033889102982357144,0.042382086016004905,0.14033342490438372,0.1625199944828637,-0.10379918597755022,-0.02443692662200192,-0.1052126211579889,-0.061671186005696654,-0.03491683168977033,0.06394131341949105,-0.04186649830080569,0.07763655867893249,-0.14160012383945286,-0.09343784477096051,-0.062351815791771514,0.27617584832478315,0.0497769812354818,0.1894280130509287,0.0710704218945466,0.08579611498862505,-0.0399059453047812,0.15110885427566245,0.05841665284242481,-0.06559086428023875,-0.041319615789689124,-0.09902897709980607,0.053944097831845284,-0.08458190289093181,-0.03758550644852221,-0.09738941473187879,-0.10669672869539681,-0.05051081033889204,-0.0024641064810566604,0.002966901403851807,-0.13308245479129255,0.05147605435922742,0.02416713733691722,0.01398776238784194,0.04962104250444099,-0.10440813977038488,-0.13414637591631617,-0.040719248936511576,-0.02108856209088117,0.09723653295077384,-0.01292650424875319,0.012123628985136747,-0.07494826754555106,0.11244034301489592,0.002685978834051639,-0.03699040366336703,0.009287169959861785,0.18101899238536134,0.12358538183616474,0.0014613740495406091,0.059318119660019875,-0.03819604148156941,0.09167042723856866,-0.0036644425126723945,-0.21018644876312464]|0.8310107        |false     |\n",
      "|772F6332-3251-11E8-B07A-480FCF5217B3|PTZA DTOR PASTEUR BARRIO NUEVO 74 SAN CRISTOBAL DE LA LAGUNA           |[0.03215231509371237,-0.0846226595934819,0.06668519668958404,-0.03538444672118534,-0.025166062807494945,-0.02442506821402772,0.00661037608303807,-0.0077894384210759945,0.09456570793620565,-0.14595917849378154,-0.14458372875709427,0.015977375759658487,0.014475356702777473,0.0754165727306496,0.06557397650216114,-0.09369311820377003,0.07052520781078123,0.016677836887538433,-0.05974258363924243,0.011335601691495289,0.11772584762762894,0.05022046054628763,0.00606568028557707,-0.047231525013392624,-0.0614453601566228,-0.018804334263470744,-0.04423412104899233,-0.02336525307460265,-0.0670346434820782,0.0471617112105543,0.013560362393036485,0.030590169004757296,6.948499517007308E-4,-0.022927896098487756,-0.04557971923019399,0.10770348594947295,-0.12221683087674054,-0.09392382323064588,-0.0744663775390522,0.09874042089689862,-0.05061032847416672,0.02300159343179654,-0.06695331412960183,0.007959064180878076,0.09182853967120702,0.02719423555853692,-0.10232751325450161,0.17963855188678612,-0.04670945929617367,0.012892713770270348,-0.04541908559093082,0.09771030049093746,0.19496126240119338,0.10844798947007142,0.1865497421134602,-0.04591230887242339,-0.06542846238748594,0.06388458838178353,0.0013419244523075495,0.02166503087871454,0.06815319118851965,-0.015118170698935335,0.043363797732374885,-0.17764854058623314,0.11529428892853585,-0.015052687842398882,-0.05894316284155304,-0.0329295438290997,0.03256565383212133,0.16816310622644695,0.12667878259989349,-0.08202815225178546,0.00869553265246478,0.12815744836222043,0.07695994980167598,0.11298951438882135,0.16362726451321083,0.16463109309023077,0.08046972939469428,-0.04522110741924156,0.09537935065534178,0.043832136296921155,-0.15670810792256487,-0.18011524494398726,-0.013583246872506359,0.014074169310995125,0.05746778219260953,0.07668009197170085,0.052003183656118133,-0.03548128445717422,0.11165448515252634,-0.08293213678354568,0.06828073556111618,-0.09232451620681043,-0.04498681327624416,0.11636945783075961,-0.053157649278132754,0.0011652643707665531,0.08410655351525004,0.14529244728725066,0.028966382484544407,0.00708655369552699,-0.022975935177369552,0.12713011963800952,-0.017461543712256986,0.11253409189256755,0.04520299649712715,0.01737288995222612,-0.009002083065834913,-0.033688564149832186,0.08424194851382212,0.023848348212513058,-0.0298701090822843,0.05565688665956259,-0.12058401056988673,-0.034798049928874454,0.1254750209574757,0.049392878374254164,0.17758543738587337,-0.014843823430551725,-0.06861925954845818,-0.05559512261639942,0.09015517072244124,-0.07489430506459692,0.03122485869310119,-0.041321332143111664,-0.035415932959453625,-0.06902223584157499,-0.009565999477424406,0.0692420547658747,-0.0014093327336013317,0.04642858153039759,0.0595899922773242,-0.07253889959644187,0.0537505161694505,-0.15470140249553052,-0.07272723768454109,-0.08905644918029959,0.08899130807681517,0.047544523142278194,0.02169773431325501,-0.06615160308270292,0.09409999051554636,0.1295914849774404,-0.011851315217261965,0.02320361492986029,0.10175642371177673,-0.033211629329757256,-0.15858715992759576,-0.08705145594748584,-0.010567184918644754,-0.20532893677326766,-0.1286019549959085,0.066459175537933,-0.020786188902672042,0.13703443939712914,-0.009635443037206476,0.11213639581745322,0.00619310394606807,0.13188893342686986,0.08347409028051929,-0.10379313017156991,0.012510032477703962,-0.07877989290599627,-0.031716892453418535,-0.054167801344936546,0.015569546217606827,-0.12759403884410858,0.14216076244007458,0.028111295181919228,-0.03971926851028746,0.1880637385713106,-0.05662184462628581,0.07316623987968672,0.013461785115809604,-0.015622796321457083,-0.07763908363201402,0.0841625143181194,-0.03391899291256612,-0.05741121696138924,-0.02019757294858044,0.11754585038447245,-0.11096394908699123,-0.12115151231939143,-0.07714573717252775,0.05980920706960288,0.03388051770161837,-0.11926933953707869,-0.06278005335479975,-0.03611690872772173,0.03706437984312123,0.11177277565002441,-0.12666409344158389,-0.12167281750589609,0.10867096653038806,-0.18154824956912888,0.17523052795282143,-0.06833753468130123,0.1598000623370436,0.010346944359215824,-0.09530345790765503,0.020961430939761074,-0.026374994015151806,0.025930690494450657,0.021842411803928288,0.03342769811437889,0.08528320652178743,-0.01754162088036537,0.06987118543210355,-0.015901277857747944,0.14222110536965457,-0.09363867122341286,0.0055805271999402484,0.07199618440460075,-0.1250040803358636,0.008721247146075422,0.03536192666400563,0.027077991684729404,0.07368742296239361,0.04458268873647533,0.2385167262770913,-0.15966198965907097,0.06243447273630988,-0.022135497875172983,0.06004882663149726,-0.11027746270834045,-0.038065183399753136,-0.037882413630458446,0.012544416737827389,-0.02629487504335967,0.027277459071642213,-0.018932904286140747,0.05704419407993555,0.03912533057684248,0.03927848691290075,0.09981540996919978,0.05371619884813712,0.10943288593129678,0.10564854690297083,-0.005389517681165175,0.20755794949152254,-0.07205123492431911,-0.059635037746788425,0.12118747542527589,0.07880615950985388,-0.203222297470678,0.053678240431260994,-0.08308108417655934,-0.12153101255270568,-0.03854539059102535,0.043018841269341385,-0.0592496686572717,0.015952149490741165,-0.1255442523820834,-0.05801929431882772,0.012036405503749847,0.23374938012354754,-0.044633077796209945,0.13766697099940345,-0.0025118885731155224,0.06326021059331569,-0.055556971791454336,0.1715631823648106,0.07563896917484024,-0.00875406318598173,-0.003690933808684349,-0.037513689561323685,0.09313707316124982,-0.11679078367623416,-0.1252690852535042,-0.054727153132923624,-0.07495069026894767,0.0226779995824803,-0.1007250674830919,-0.06293451142582027,-0.09262084038081494,0.0886389682577415,0.0015954874371263115,-0.10621803931214593,-0.013175115581940521,-0.012051671235398813,-0.07149458541111513,-0.008819300342689861,0.022684081372889606,0.12064718446609649,0.0066247114657678385,0.10560693202370948,0.006505223329771649,0.21889120992273092,-0.047096092253923416,-0.09127664354375818,-0.002462837379425764,0.137390089136633,0.11010059538636018,-0.043491565326059405,0.15119649859314616,-0.03349596926603805,0.12250144474885681,0.056558973409912804,-0.12951619175940074]               |01987842-FBE4-4608-B382-48C3346DCCCC|PARAJE|HERCULES|10   |38023 |San Cristóbal de La Laguna|PARAJE HERCLUES 10 SAN CRISTOBAL DE LA LAGUNA|[paraje, herclues, 10, san, cristobal, de, la, laguna]|[0.047318984754383564,-0.015259165724273771,0.002303656656295061,-0.08436959609389305,-0.1329002461861819,-0.07781284270458855,0.05290314648300409,-0.026592609472572803,0.06519131257664412,-0.13195596530567855,-0.03367367584723979,0.048393288103397936,-0.06617021991405636,0.1334858878835803,0.09369968267856166,-0.028417545836418867,-0.023889974341727793,0.11759923165664077,-0.026892947731539607,0.030705923796631396,0.10773512511514127,0.001860408650827594,-0.029330774676054716,-0.07078410475514829,-0.08186657226178795,0.06798394722864032,-0.041503945481963456,-0.031239973148331046,-0.03431613533757627,0.022306379745714366,-0.06498330962494947,0.025776294758543372,0.08061215793713927,-0.032678514369763434,0.09449307696195319,0.11926625901833177,-0.1707976933394093,-0.10987178364302963,-0.07960265350993723,0.019936952623538673,-0.016943144670221955,0.025277627806644887,-0.14401660859584808,0.016704260371625423,0.074359517369885,-0.038860717322677374,-0.0739793706452474,0.23177154234144837,-0.16028680402087048,-0.004479640629142523,-0.04172684972581919,0.11974752321839333,0.14403815753757954,0.11371145167504437,0.1661683817510493,-0.02950220776256174,-0.02647721371613443,0.07433885836508125,0.006445641221944243,-0.014394025696674362,0.012718370417132974,-0.018526922911405563,-0.039379354449920356,-0.0973990693455562,0.17394928296562284,0.03542924742214382,0.025234828586690128,-0.05257295584306121,0.027634198078885674,0.15939112391788512,0.13967594463611022,-0.13059780467301607,-0.0015275764744728804,0.17316920903977007,0.09462779476598371,0.07143648044439033,0.13055932754650712,0.07870567007921636,-0.006581256253411993,-0.1300050272839144,0.07732894172659144,0.007257243851199746,-0.163733399938792,-0.10836478273267858,-0.058452159573789686,0.04268946760566905,0.06684204441262409,0.02865740843117237,0.0211190230329521,0.0024710623547434807,0.12358959577977657,-0.06771494378335774,0.15950290649197996,-0.16023023330490105,-0.055631494367844425,0.14379039662890136,-0.07906441068917047,-0.05177487758919597,0.11435676144901663,0.18122379889246076,0.008188165142200887,-0.020174639066681266,0.02200137358158827,0.17985883494839072,0.0037457291036844254,0.17549522779881954,-0.002009857795201242,0.023019834305159748,0.05401535425335169,-0.07902415961143561,0.08236857585143298,0.008601302281022072,-0.029039332002867013,0.03322560421656817,-0.10661448037717491,-0.08750080212485045,0.0887748597888276,-0.04036076203919947,0.18161675601731986,-0.029061187407933176,0.04640123012359254,-0.0358177829766646,0.017371273366734385,-0.07714008912444115,0.09595529932994395,-0.08125221251975745,-0.024475697457091883,-0.04171924333786592,-0.05101996206212789,0.07278099190443754,-0.05012005672324449,0.05363519163802266,0.11101556534413248,-0.06690820553922094,0.011221648892387748,-0.10500314261298627,-0.053379561053588986,-0.10351580008864403,0.15752444908139296,0.03584263380616903,0.07966221903916448,-0.012241836113389581,0.07937979395501316,0.19282412878237665,0.0270223175175488,-0.05149001465179026,0.09209339006338269,-0.00784967141225934,-0.16589099320117384,0.03588773068622686,0.02419806143734604,-0.23435778403654695,-0.09601586731150746,0.12919102257001214,0.060316002258332446,0.18421269359532744,-0.11926748813129961,0.020422880304977298,0.062326092505827546,0.07188480456534307,0.03428382382844575,-0.04840485140448436,0.02470376226119697,0.02116183319594711,0.010168320673983544,-0.026490456250030547,0.04919572424842045,-0.08168237842619419,0.08661732659675181,0.027702686958946288,0.06936196811147965,0.11133697658078745,-0.04510640981607139,0.049019325291737914,-0.006221215036930516,-0.03193903900682926,-0.09697980782948434,0.07504160236567259,-0.030837524391245097,0.003588718012906611,-0.06424268358387053,0.03506714754621498,-0.04441988852340728,-0.060826024011475965,-0.02601793548092246,-0.0819852058775723,0.01651977289293427,-0.06882514950120822,-0.03944041673094034,-0.023727509193122387,0.04368662997148931,0.14956825179979205,-0.020456868689507246,-0.09543063270393759,0.08792526792967692,-0.10365988407284021,0.12592613775632344,-0.2118068968411535,0.08941955887712538,0.008222675765864551,0.06358099984936416,0.021049943170510232,-0.025706306390929967,-0.03240554060903378,0.05931562400655821,-0.05703414371237159,0.08576534455642104,-0.11517340372665785,0.06365745910443366,-0.05943306745029986,0.17492222471628338,-0.08272613259032369,0.10394074337091297,0.08242141176015139,-0.08286081650294363,0.03234283596975729,0.022252135444432497,0.03770182246807963,0.09347118825098732,0.052560952986823395,0.24823320237919688,-0.05988262756727636,-0.0784447327023372,0.0345588237978518,0.08187791844829917,-0.10249581519747153,-0.04672411864157766,-0.05027663125656545,-0.04751830224995501,-0.03884921711869538,0.0838982972472877,-0.03833362634759396,0.04360969865228981,0.09057677094824612,0.08645828498993069,0.1571128194918856,-0.006650456110946834,0.08028623716381844,0.1188588035875,-0.0027280158828943968,0.1788933160714805,-0.033889102982357144,0.042382086016004905,0.14033342490438372,0.1625199944828637,-0.10379918597755022,-0.02443692662200192,-0.1052126211579889,-0.061671186005696654,-0.03491683168977033,0.06394131341949105,-0.04186649830080569,0.07763655867893249,-0.14160012383945286,-0.09343784477096051,-0.062351815791771514,0.27617584832478315,0.0497769812354818,0.1894280130509287,0.0710704218945466,0.08579611498862505,-0.0399059453047812,0.15110885427566245,0.05841665284242481,-0.06559086428023875,-0.041319615789689124,-0.09902897709980607,0.053944097831845284,-0.08458190289093181,-0.03758550644852221,-0.09738941473187879,-0.10669672869539681,-0.05051081033889204,-0.0024641064810566604,0.002966901403851807,-0.13308245479129255,0.05147605435922742,0.02416713733691722,0.01398776238784194,0.04962104250444099,-0.10440813977038488,-0.13414637591631617,-0.040719248936511576,-0.02108856209088117,0.09723653295077384,-0.01292650424875319,0.012123628985136747,-0.07494826754555106,0.11244034301489592,0.002685978834051639,-0.03699040366336703,0.009287169959861785,0.18101899238536134,0.12358538183616474,0.0014613740495406091,0.059318119660019875,-0.03819604148156941,0.09167042723856866,-0.0036644425126723945,-0.21018644876312464]|0.8097183        |false     |\n",
      "|66B0C3D1-3251-11E8-AD56-480FCF5217B3|PASO CINEEL 19 SAN CRISTBOAL DE LA LAGUNA                              |[0.015571593306958675,0.06859960645670071,0.011198317864909768,-0.026962733718391974,-0.1362978553006542,-0.1264429604925681,-0.009500349755398929,0.03692868771031499,0.03700142039451748,-0.14996411558240652,-0.041691484046168625,0.030275421420810744,-0.034947196720167994,0.1596385883167386,0.006743389356415719,-0.036377887008711696,-0.014815628761425614,0.17382424185052514,0.01000380702316761,0.092272108187899,0.0889280466362834,0.016661046800436452,-0.009096194611629471,-0.0649378364905715,-0.11759087210521102,0.12345182429999113,-0.08405283174943179,-0.02964738424634561,-0.06645467597991228,0.034479224821552634,-0.0034860259911511093,0.030276288278400898,0.06839184649288654,-0.05982148530893028,-0.05348747922107577,0.21785398619249463,-0.13229404669255018,-0.04646624193992466,-0.12918822467327118,0.01446222048252821,-0.035681288747582585,0.039397771935909986,-0.14485042192973197,0.02386184682836756,0.04845259076682851,0.02757524000480771,0.005626044701784849,0.24299907544627786,-0.07814448093995452,-0.020727526862174273,-0.002131534507498145,0.17040928360074759,0.17586762108840048,-0.05659920963807963,0.10571033135056496,-0.020460298634134233,-0.04094643937423825,-0.04544796235859394,0.040473185072187334,-0.06736036558868363,-0.032277553298627026,0.08601870178245008,-0.023086783476173878,-0.03904601349495351,0.18312976777087897,-0.017027535941451788,0.06757709407247603,-0.029259323608130217,-0.0026351655833423138,0.13168066093930975,0.12779572846920928,-0.11967091155747767,-0.07878472399897873,0.07223037676885724,0.025378331760293804,0.09773697517812252,0.09406047640368342,0.07764020701870322,0.021696950774639845,-0.1279839132912457,0.1082551620202139,0.09174799756146967,-0.1503993161022663,-0.09182474832050502,-0.021601518499664962,0.020489213697146624,0.07983273430727422,0.006797103909775615,0.011218077852390707,0.049420797964558005,0.02154547539248597,-0.07541741617023945,0.11776453070342541,-0.13154847369878553,-0.0548655277088983,0.1538174597080797,-0.05596690298989415,-0.006691121408948675,0.11902053514495492,0.12420489825308323,-0.07000821945257485,-0.043897192226722836,0.01629905798472464,0.18148240959271789,0.04131395777221769,0.22888196492567658,0.04617936001159251,-0.005794397788122296,-0.0116211730055511,-0.0668507077061804,0.042287581600248814,-0.041582967387512326,0.05057059513637796,0.020671453792601824,-0.1313823264790699,-0.045394765853416175,0.1120103863067925,0.017079933855711715,0.07326462572382297,-0.05549115382018499,-0.009695205022580922,0.053762858267873526,0.015468864934518933,-0.04727537359576672,0.03358443744946271,-0.039267088344786316,-0.06260897510219365,0.0012337446096353233,0.06136243813671172,0.07368626282550395,-0.08895682141883299,0.09148308145813644,0.12574922398198396,-0.05152025003917515,-0.02272338210605085,-0.15899446967523545,-0.07762936415383592,-0.1351329362951219,0.15848733251914382,-0.04424019390717149,-0.04940132040064782,0.0064556251163594425,0.10457739818957634,0.1704368803766556,-0.026422575348988175,-0.004922869615256786,0.08805630495771766,0.03698432166129351,-0.11702882731333375,0.024213996715843678,-0.018460404593497515,-0.18227054132148623,-0.07562639052048326,0.043108769692480564,0.034742409363389015,0.14495530561544,-0.12367295171134174,0.059194241650402546,0.16099371807649732,0.04552114552643616,0.033655975421424955,-0.07235060993116349,-0.002794678555801511,0.016987501294352114,0.013609118643216789,-0.0071403420879505575,0.08280596736585721,-0.04389779828488827,0.11401461844798177,-0.029858284979127347,-0.028127174475230277,0.0537091438563948,-0.06740702455863357,0.11632227629888803,-0.07707544034929015,0.012658337596803904,-0.10515310987830162,0.11359992250800133,-0.014214027905836701,-0.084158276906237,-0.06943334685638547,0.07428372904541902,-0.04540791688486934,-0.00838747271336615,-0.05640894523821771,-0.10253224847838283,-0.006915828140336089,-0.11527729965746403,-0.03746005648281425,-0.05508299358189106,0.11114725936204195,0.0782224136419245,0.023215518100187182,-0.08337721484713256,0.10999185685068369,-0.07439897186122835,0.07353184040402994,-0.11511867650551721,0.11621095705777407,0.008214502828195691,0.0012080067535862327,0.005156042810995132,0.045503101544454694,-0.020149064483121037,0.0033574916888028383,-0.11642312328331172,0.10855668038129807,-0.008741030469536781,0.08310953504405916,-0.011256372788920999,0.14324446860700846,-0.10109360818751156,0.05967931356281042,0.1252416567876935,-0.081517752725631,0.09694661147659644,0.11513072019442916,0.09074991033412516,0.04290968904751935,0.07421610155142844,0.19196403259411454,-0.12593226926401258,-0.032522222376428545,0.025542995426803827,0.10284737846814096,-0.06424639117904007,-0.03249330085236579,-0.10258189175510779,0.02451831568032503,-0.1348988050594926,0.07186806475510821,-0.031161346123553813,0.039326216210611165,0.03647553804330528,0.0868664151057601,0.11799992807209492,-0.017137047601863742,0.07574346591718495,0.04270869353786111,-0.012972275260835886,0.09737097099423409,-0.037627273704856634,0.00169910115073435,0.12979688425548375,0.12879894254729152,-0.15548669116105884,0.007544456246250775,-0.06886405614204705,-0.016181087936274707,-0.020674476050771773,0.04632381291594356,-0.06377912661992013,0.051447683305013925,-0.17615561047568917,-0.0706811067648232,-0.09755718056112528,0.14861249667592347,0.026963743730448186,0.0992138555739075,0.013687372906133533,-0.002792065697576618,-0.037380221649073064,0.09851947100833058,0.01955846359487623,-0.026174545753747225,-0.03771162705379538,-0.054341552895493805,-0.07990355169749819,-0.0665414942195639,0.017625600332394242,-0.012637310195714235,-0.0884155083533642,-0.07391450344584882,0.008930259908083826,-0.009015628136694431,-0.07989483582787216,-0.013490619836375117,0.05793927563354373,-0.03600670781452209,0.06609986210241914,-0.16296164272353053,-0.08667842028080486,0.015225550741888583,0.057216734159737825,0.09178811917081475,-0.018843108788132668,0.03134691156446934,-0.11059845332056284,0.10436308407224715,0.00519914273172617,-0.06219134968705475,0.019940526166465133,0.105395712191239,0.04492206033319235,0.03665942879160866,0.0175110783893615,-0.059333754470571876,0.06591636431403458,0.005033056251704693,-0.16700026695616543]   |01987842-FBE4-4608-B382-48C3346DCCCC|PARAJE|HERCULES|10   |38023 |San Cristóbal de La Laguna|PARAJE HERCLUES 10 SAN CRISTOBAL DE LA LAGUNA|[paraje, herclues, 10, san, cristobal, de, la, laguna]|[0.047318984754383564,-0.015259165724273771,0.002303656656295061,-0.08436959609389305,-0.1329002461861819,-0.07781284270458855,0.05290314648300409,-0.026592609472572803,0.06519131257664412,-0.13195596530567855,-0.03367367584723979,0.048393288103397936,-0.06617021991405636,0.1334858878835803,0.09369968267856166,-0.028417545836418867,-0.023889974341727793,0.11759923165664077,-0.026892947731539607,0.030705923796631396,0.10773512511514127,0.001860408650827594,-0.029330774676054716,-0.07078410475514829,-0.08186657226178795,0.06798394722864032,-0.041503945481963456,-0.031239973148331046,-0.03431613533757627,0.022306379745714366,-0.06498330962494947,0.025776294758543372,0.08061215793713927,-0.032678514369763434,0.09449307696195319,0.11926625901833177,-0.1707976933394093,-0.10987178364302963,-0.07960265350993723,0.019936952623538673,-0.016943144670221955,0.025277627806644887,-0.14401660859584808,0.016704260371625423,0.074359517369885,-0.038860717322677374,-0.0739793706452474,0.23177154234144837,-0.16028680402087048,-0.004479640629142523,-0.04172684972581919,0.11974752321839333,0.14403815753757954,0.11371145167504437,0.1661683817510493,-0.02950220776256174,-0.02647721371613443,0.07433885836508125,0.006445641221944243,-0.014394025696674362,0.012718370417132974,-0.018526922911405563,-0.039379354449920356,-0.0973990693455562,0.17394928296562284,0.03542924742214382,0.025234828586690128,-0.05257295584306121,0.027634198078885674,0.15939112391788512,0.13967594463611022,-0.13059780467301607,-0.0015275764744728804,0.17316920903977007,0.09462779476598371,0.07143648044439033,0.13055932754650712,0.07870567007921636,-0.006581256253411993,-0.1300050272839144,0.07732894172659144,0.007257243851199746,-0.163733399938792,-0.10836478273267858,-0.058452159573789686,0.04268946760566905,0.06684204441262409,0.02865740843117237,0.0211190230329521,0.0024710623547434807,0.12358959577977657,-0.06771494378335774,0.15950290649197996,-0.16023023330490105,-0.055631494367844425,0.14379039662890136,-0.07906441068917047,-0.05177487758919597,0.11435676144901663,0.18122379889246076,0.008188165142200887,-0.020174639066681266,0.02200137358158827,0.17985883494839072,0.0037457291036844254,0.17549522779881954,-0.002009857795201242,0.023019834305159748,0.05401535425335169,-0.07902415961143561,0.08236857585143298,0.008601302281022072,-0.029039332002867013,0.03322560421656817,-0.10661448037717491,-0.08750080212485045,0.0887748597888276,-0.04036076203919947,0.18161675601731986,-0.029061187407933176,0.04640123012359254,-0.0358177829766646,0.017371273366734385,-0.07714008912444115,0.09595529932994395,-0.08125221251975745,-0.024475697457091883,-0.04171924333786592,-0.05101996206212789,0.07278099190443754,-0.05012005672324449,0.05363519163802266,0.11101556534413248,-0.06690820553922094,0.011221648892387748,-0.10500314261298627,-0.053379561053588986,-0.10351580008864403,0.15752444908139296,0.03584263380616903,0.07966221903916448,-0.012241836113389581,0.07937979395501316,0.19282412878237665,0.0270223175175488,-0.05149001465179026,0.09209339006338269,-0.00784967141225934,-0.16589099320117384,0.03588773068622686,0.02419806143734604,-0.23435778403654695,-0.09601586731150746,0.12919102257001214,0.060316002258332446,0.18421269359532744,-0.11926748813129961,0.020422880304977298,0.062326092505827546,0.07188480456534307,0.03428382382844575,-0.04840485140448436,0.02470376226119697,0.02116183319594711,0.010168320673983544,-0.026490456250030547,0.04919572424842045,-0.08168237842619419,0.08661732659675181,0.027702686958946288,0.06936196811147965,0.11133697658078745,-0.04510640981607139,0.049019325291737914,-0.006221215036930516,-0.03193903900682926,-0.09697980782948434,0.07504160236567259,-0.030837524391245097,0.003588718012906611,-0.06424268358387053,0.03506714754621498,-0.04441988852340728,-0.060826024011475965,-0.02601793548092246,-0.0819852058775723,0.01651977289293427,-0.06882514950120822,-0.03944041673094034,-0.023727509193122387,0.04368662997148931,0.14956825179979205,-0.020456868689507246,-0.09543063270393759,0.08792526792967692,-0.10365988407284021,0.12592613775632344,-0.2118068968411535,0.08941955887712538,0.008222675765864551,0.06358099984936416,0.021049943170510232,-0.025706306390929967,-0.03240554060903378,0.05931562400655821,-0.05703414371237159,0.08576534455642104,-0.11517340372665785,0.06365745910443366,-0.05943306745029986,0.17492222471628338,-0.08272613259032369,0.10394074337091297,0.08242141176015139,-0.08286081650294363,0.03234283596975729,0.022252135444432497,0.03770182246807963,0.09347118825098732,0.052560952986823395,0.24823320237919688,-0.05988262756727636,-0.0784447327023372,0.0345588237978518,0.08187791844829917,-0.10249581519747153,-0.04672411864157766,-0.05027663125656545,-0.04751830224995501,-0.03884921711869538,0.0838982972472877,-0.03833362634759396,0.04360969865228981,0.09057677094824612,0.08645828498993069,0.1571128194918856,-0.006650456110946834,0.08028623716381844,0.1188588035875,-0.0027280158828943968,0.1788933160714805,-0.033889102982357144,0.042382086016004905,0.14033342490438372,0.1625199944828637,-0.10379918597755022,-0.02443692662200192,-0.1052126211579889,-0.061671186005696654,-0.03491683168977033,0.06394131341949105,-0.04186649830080569,0.07763655867893249,-0.14160012383945286,-0.09343784477096051,-0.062351815791771514,0.27617584832478315,0.0497769812354818,0.1894280130509287,0.0710704218945466,0.08579611498862505,-0.0399059453047812,0.15110885427566245,0.05841665284242481,-0.06559086428023875,-0.041319615789689124,-0.09902897709980607,0.053944097831845284,-0.08458190289093181,-0.03758550644852221,-0.09738941473187879,-0.10669672869539681,-0.05051081033889204,-0.0024641064810566604,0.002966901403851807,-0.13308245479129255,0.05147605435922742,0.02416713733691722,0.01398776238784194,0.04962104250444099,-0.10440813977038488,-0.13414637591631617,-0.040719248936511576,-0.02108856209088117,0.09723653295077384,-0.01292650424875319,0.012123628985136747,-0.07494826754555106,0.11244034301489592,0.002685978834051639,-0.03699040366336703,0.009287169959861785,0.18101899238536134,0.12358538183616474,0.0014613740495406091,0.059318119660019875,-0.03819604148156941,0.09167042723856866,-0.0036644425126723945,-0.21018644876312464]|0.8400677        |false     |\n",
      "|686D94A0-3251-11E8-BF56-480FCF5217B3|CALLE AMAPOLA JARDINA 6 SAN CRISTOBAL DE LA LAGUNA                     |[-0.010458213380641406,0.001402498274627659,0.06371556274178955,-0.059382059921820954,-0.18730978450427452,-0.06285500115094085,0.03015834610495302,0.003163354264365302,0.05689886760794454,-0.11623048865132861,-0.06867813867413335,0.06546059897583392,-0.08301071501854393,0.14037223900150922,0.059317591444899634,0.01688094540602631,-0.033674876516064,0.06694084323114818,0.0049643975992997484,0.0519805233925581,0.14719553736762866,0.02357112792217069,-0.045330713192621865,-0.09036532127194934,-0.08517465968098904,0.032638096561034516,-0.09403561495451464,-0.005057794352372487,-0.0679793272477885,0.040221355545024075,-0.075229566052763,0.0366396972288688,0.041763094486668706,0.004127083139287101,0.0967387455360343,0.13002929546766812,-0.13841029215190145,-0.15536245527780718,-0.09276287857857014,-0.03209077111548848,0.04619984571925468,0.015597531468504004,-0.20362104175405368,0.0510287271398637,0.05243053292441699,-0.014160736153523127,-0.07676089759398665,0.20091753991113767,-0.0942279841336939,-0.07144659260908762,-0.0013987067957512206,0.19399716777520046,0.17267786814934677,0.04204203418662978,0.12457319421486722,-0.02661784572733773,-0.07176781135300794,0.08041060322688685,0.00662289730583628,-0.01830728543508384,0.008540189928478664,-0.06267401493257946,-0.04716745225919617,-0.06775424049960242,0.18523079643232954,0.034746054042544626,0.017174620857177716,-0.07953506356312169,0.06289004389610556,0.17020810235084757,0.16550104113088712,-0.1377266825487216,-0.048982200523217514,0.12932991402016744,0.11654233990702778,0.0903836420426766,0.1368520450260904,0.10725246970024373,0.06197347574763828,-0.18172469528184995,-0.007439805608656671,0.0373522179822127,-0.17975046237309772,-0.1105974300040139,-0.007932837949030928,0.06118706763825482,0.05148745928373601,0.0823349141412311,0.060518745746877455,0.0037842036949263676,0.14899829112821153,-0.04209187564750512,0.10569762981807192,-0.08407737550118731,-0.12636040568920887,0.1393743757572439,-0.06885102929340468,-0.05603232131236129,0.07641971432086493,0.18637383915483952,-0.02799642590495447,-0.07944812791215049,-0.017988147731456492,0.16316123430927593,0.03572890469028304,0.24885630276468063,0.060391311533749104,0.016306617193751864,0.043910834938287735,-0.06639230908412072,0.12165131813122165,0.010363961466484599,0.008491372120463185,-0.04252140379200379,-0.1155573112062282,-0.039213875205152564,0.07383682578802109,0.013868008222844865,0.2361747415529357,-0.04877350976069768,0.0372694151269065,-0.05495427569581402,0.0020841586713989573,-0.00867127233909236,0.09175995820098452,-0.0912785857088036,-0.0411633365891046,0.016105603167994153,-0.0715457121324208,0.0849842280925562,-0.08875379455275834,0.04281490813526842,0.14815727797233394,-0.007103820434874958,-0.004787473421957757,-0.10288542622907293,-0.09662756323814392,-0.14799790125754145,0.16067345523171953,0.014404504870374996,-0.002935626751018895,-0.05465593939233157,0.08818641812023188,0.18714927840563986,-0.02195129564238919,-0.04787179584511452,0.098880172189739,-0.01335316342819068,-0.14682569530689052,0.05431408393714163,-0.029094428341421813,-0.16303394527898893,-0.11477206347303258,0.10435832664370537,0.09918235032819211,0.24347063071197933,-0.12063283421513106,0.07125410209927294,0.099517363227076,0.11250678474445723,0.08533078488997287,-0.04802382323477003,0.025799982042776212,0.012238823187847931,-0.04332640435960557,-0.05639280378818512,0.10325951072283916,-0.13875817714465988,0.031944828418393925,0.047915538462499775,0.09192507600204812,0.1281026885844767,-0.05976701031128565,0.0556398577367266,-0.051410297889055476,0.030666236248281267,-0.12057981205483277,0.06387001451932721,-0.12388614482349819,-0.05800094868754968,-0.06618341348237461,0.07312829707128306,-0.11936092749238014,-0.034186851854125656,-0.07036994418336286,-0.00816183764901426,-0.007516100524096853,-0.09184724630581008,-0.05642935892360078,-0.02264936433898078,0.06004403945472505,0.1097884476184845,-0.058701165641347565,-0.13759963690406746,0.11145841687296827,-0.10093452284733453,0.10374637483619153,-0.19068882407413587,0.12822356426881418,0.02077185321185324,0.07069898769259453,0.03905644723110729,-0.016288247373369005,-0.015293674491759803,0.03872906799531645,-0.08586103117300405,0.051734920177194804,-0.11656363391213946,0.16730471617645687,-0.01465686514145798,0.1705196922024091,-0.06254924481941594,0.08815403189510107,0.13319963092605272,-0.1071936111483309,0.05902181865854395,0.055422715221842125,0.030566226859163076,0.1334480255544703,0.01906984630558226,0.26840065805137986,-0.12613396222392717,-0.013166618533432484,0.024136659999688465,0.010285691047708193,-0.10910476190555427,-0.011302779739101727,-0.05171099382763107,-0.02254885021183226,-0.03611159324645996,0.054035818642458044,-0.059884863595167794,0.06628649174753162,0.062148517204655536,0.05166178486413425,0.18050911670757663,-0.020964142349031236,0.10812275737730992,0.08123962622549798,-0.0024192457397778826,0.23473518962661424,-0.10240546158618397,0.08672016359762184,0.12999574462365773,0.1125817670383387,-0.18624183038870493,0.054350328961542495,-0.10664291079673502,-0.007743054768070579,-0.0533298725883166,-0.0025554371386533603,-0.05582959680921501,0.033008162760072284,-0.17536989873689082,-0.0874518027736081,-0.0688711040549808,0.21246692207124496,0.01769780936754412,0.17433169442746374,0.10538093538747893,0.11340089811063889,-0.021488431323733594,0.2132467586133215,0.04016701194147269,-0.030161893823080592,-0.020344931218359206,-0.051193523401808404,0.11053678269187608,-0.0877646877326899,-0.03419894854434662,-0.04532407777797844,-0.0568488602085482,-0.02573110070079565,0.04928256467812591,-0.025136624773343403,-0.09535893342561191,0.051967592289050415,0.031115116654998724,-0.004044092777702543,0.042274472303688526,-0.0720618214044306,-0.15463293178213966,0.010803721120787991,0.019257744981182944,0.054213921642965734,0.02617467236187723,0.10058388010495238,-0.1189444080616037,0.16955172601673338,-0.00405086949467659,-0.061161036913593606,-0.007211480134477218,0.2050544064905908,0.16244061291217804,-0.041958830681526,0.12842182318369547,-0.03236968971840623,0.06147325633921557,-0.03178928875260883,-0.23827981415929064]                                    |01987842-FBE4-4608-B382-48C3346DCCCC|PARAJE|HERCULES|10   |38023 |San Cristóbal de La Laguna|PARAJE HERCLUES 10 SAN CRISTOBAL DE LA LAGUNA|[paraje, herclues, 10, san, cristobal, de, la, laguna]|[0.047318984754383564,-0.015259165724273771,0.002303656656295061,-0.08436959609389305,-0.1329002461861819,-0.07781284270458855,0.05290314648300409,-0.026592609472572803,0.06519131257664412,-0.13195596530567855,-0.03367367584723979,0.048393288103397936,-0.06617021991405636,0.1334858878835803,0.09369968267856166,-0.028417545836418867,-0.023889974341727793,0.11759923165664077,-0.026892947731539607,0.030705923796631396,0.10773512511514127,0.001860408650827594,-0.029330774676054716,-0.07078410475514829,-0.08186657226178795,0.06798394722864032,-0.041503945481963456,-0.031239973148331046,-0.03431613533757627,0.022306379745714366,-0.06498330962494947,0.025776294758543372,0.08061215793713927,-0.032678514369763434,0.09449307696195319,0.11926625901833177,-0.1707976933394093,-0.10987178364302963,-0.07960265350993723,0.019936952623538673,-0.016943144670221955,0.025277627806644887,-0.14401660859584808,0.016704260371625423,0.074359517369885,-0.038860717322677374,-0.0739793706452474,0.23177154234144837,-0.16028680402087048,-0.004479640629142523,-0.04172684972581919,0.11974752321839333,0.14403815753757954,0.11371145167504437,0.1661683817510493,-0.02950220776256174,-0.02647721371613443,0.07433885836508125,0.006445641221944243,-0.014394025696674362,0.012718370417132974,-0.018526922911405563,-0.039379354449920356,-0.0973990693455562,0.17394928296562284,0.03542924742214382,0.025234828586690128,-0.05257295584306121,0.027634198078885674,0.15939112391788512,0.13967594463611022,-0.13059780467301607,-0.0015275764744728804,0.17316920903977007,0.09462779476598371,0.07143648044439033,0.13055932754650712,0.07870567007921636,-0.006581256253411993,-0.1300050272839144,0.07732894172659144,0.007257243851199746,-0.163733399938792,-0.10836478273267858,-0.058452159573789686,0.04268946760566905,0.06684204441262409,0.02865740843117237,0.0211190230329521,0.0024710623547434807,0.12358959577977657,-0.06771494378335774,0.15950290649197996,-0.16023023330490105,-0.055631494367844425,0.14379039662890136,-0.07906441068917047,-0.05177487758919597,0.11435676144901663,0.18122379889246076,0.008188165142200887,-0.020174639066681266,0.02200137358158827,0.17985883494839072,0.0037457291036844254,0.17549522779881954,-0.002009857795201242,0.023019834305159748,0.05401535425335169,-0.07902415961143561,0.08236857585143298,0.008601302281022072,-0.029039332002867013,0.03322560421656817,-0.10661448037717491,-0.08750080212485045,0.0887748597888276,-0.04036076203919947,0.18161675601731986,-0.029061187407933176,0.04640123012359254,-0.0358177829766646,0.017371273366734385,-0.07714008912444115,0.09595529932994395,-0.08125221251975745,-0.024475697457091883,-0.04171924333786592,-0.05101996206212789,0.07278099190443754,-0.05012005672324449,0.05363519163802266,0.11101556534413248,-0.06690820553922094,0.011221648892387748,-0.10500314261298627,-0.053379561053588986,-0.10351580008864403,0.15752444908139296,0.03584263380616903,0.07966221903916448,-0.012241836113389581,0.07937979395501316,0.19282412878237665,0.0270223175175488,-0.05149001465179026,0.09209339006338269,-0.00784967141225934,-0.16589099320117384,0.03588773068622686,0.02419806143734604,-0.23435778403654695,-0.09601586731150746,0.12919102257001214,0.060316002258332446,0.18421269359532744,-0.11926748813129961,0.020422880304977298,0.062326092505827546,0.07188480456534307,0.03428382382844575,-0.04840485140448436,0.02470376226119697,0.02116183319594711,0.010168320673983544,-0.026490456250030547,0.04919572424842045,-0.08168237842619419,0.08661732659675181,0.027702686958946288,0.06936196811147965,0.11133697658078745,-0.04510640981607139,0.049019325291737914,-0.006221215036930516,-0.03193903900682926,-0.09697980782948434,0.07504160236567259,-0.030837524391245097,0.003588718012906611,-0.06424268358387053,0.03506714754621498,-0.04441988852340728,-0.060826024011475965,-0.02601793548092246,-0.0819852058775723,0.01651977289293427,-0.06882514950120822,-0.03944041673094034,-0.023727509193122387,0.04368662997148931,0.14956825179979205,-0.020456868689507246,-0.09543063270393759,0.08792526792967692,-0.10365988407284021,0.12592613775632344,-0.2118068968411535,0.08941955887712538,0.008222675765864551,0.06358099984936416,0.021049943170510232,-0.025706306390929967,-0.03240554060903378,0.05931562400655821,-0.05703414371237159,0.08576534455642104,-0.11517340372665785,0.06365745910443366,-0.05943306745029986,0.17492222471628338,-0.08272613259032369,0.10394074337091297,0.08242141176015139,-0.08286081650294363,0.03234283596975729,0.022252135444432497,0.03770182246807963,0.09347118825098732,0.052560952986823395,0.24823320237919688,-0.05988262756727636,-0.0784447327023372,0.0345588237978518,0.08187791844829917,-0.10249581519747153,-0.04672411864157766,-0.05027663125656545,-0.04751830224995501,-0.03884921711869538,0.0838982972472877,-0.03833362634759396,0.04360969865228981,0.09057677094824612,0.08645828498993069,0.1571128194918856,-0.006650456110946834,0.08028623716381844,0.1188588035875,-0.0027280158828943968,0.1788933160714805,-0.033889102982357144,0.042382086016004905,0.14033342490438372,0.1625199944828637,-0.10379918597755022,-0.02443692662200192,-0.1052126211579889,-0.061671186005696654,-0.03491683168977033,0.06394131341949105,-0.04186649830080569,0.07763655867893249,-0.14160012383945286,-0.09343784477096051,-0.062351815791771514,0.27617584832478315,0.0497769812354818,0.1894280130509287,0.0710704218945466,0.08579611498862505,-0.0399059453047812,0.15110885427566245,0.05841665284242481,-0.06559086428023875,-0.041319615789689124,-0.09902897709980607,0.053944097831845284,-0.08458190289093181,-0.03758550644852221,-0.09738941473187879,-0.10669672869539681,-0.05051081033889204,-0.0024641064810566604,0.002966901403851807,-0.13308245479129255,0.05147605435922742,0.02416713733691722,0.01398776238784194,0.04962104250444099,-0.10440813977038488,-0.13414637591631617,-0.040719248936511576,-0.02108856209088117,0.09723653295077384,-0.01292650424875319,0.012123628985136747,-0.07494826754555106,0.11244034301489592,0.002685978834051639,-0.03699040366336703,0.009287169959861785,0.18101899238536134,0.12358538183616474,0.0014613740495406091,0.059318119660019875,-0.03819604148156941,0.09167042723856866,-0.0036644425126723945,-0.21018644876312464]|0.91896456       |false     |\n",
      "|ACCDC40D-C2DD-479A-B3FB-BC0049A35F5B|URBANIZACION DR ANTONIO GONZALEZ GONZALEZ 13 SAN RCISTOBAL DE LA LAGUNA|[-0.0479215414009311,-0.05040987187319181,-0.03955987231297926,-0.02216683802279559,-0.136165105399083,-0.14339691783640196,0.03812335736372254,0.08307895995676517,0.007426939312029969,-0.0666214483155107,-0.14237973153252495,0.04085633535446091,-0.03785510420460593,0.03408763083544644,0.01700652615082535,-0.04303589971228079,0.02350171401419423,0.08688762377608907,-0.024807663126425312,-0.055503237611529505,0.09532242149791935,0.1155532155693932,0.02135036945004355,-0.05092815411361781,-0.08320672302083536,-0.017119251868941567,-0.0025069067593325267,-0.06159365244887092,-5.760796960781921E-4,-0.027933472259478138,-0.11985376352359625,0.06252859228036621,0.014646835625171661,-0.08409277785738761,0.016677626874297857,0.08778124099428004,-0.1564517617225647,-0.020518274639140476,-0.1730719693005085,0.07021486632187258,-0.09573508890885436,-0.02506621927022934,-0.1706456057727337,-0.013371974737806753,-0.005440716007301076,0.04276882213625041,-0.019477058995769105,0.15175244162409482,-0.02962948652830991,-0.025624414736574348,0.03156990041448311,0.1736787273125215,0.06380952429026365,0.04756990856152367,0.10892177644101056,0.0016032040796496651,0.021554850041866302,0.043519253080541435,0.07144291872497309,-0.08412117075005716,0.08998984012710438,0.11663576139835641,0.022618669677864422,-0.11057748171416196,0.11651953140443022,0.02793938717381521,0.061438446695154365,-0.11364614150740884,-0.0666642581874674,0.1590847852639854,0.13736215166070245,-0.08369988880374216,-0.11353727548637174,0.010622972453182394,-0.06880759332456034,0.039375684478066185,0.1356808248568665,0.09261764535172419,0.08183034238490192,-0.02990734949707985,0.18571702162311837,0.16454063389788975,-0.23206124590201813,-0.016090623695742,-0.05330518167465925,0.03784588821740313,0.03966309248723767,0.016989739177833228,0.09253493459387259,0.07562402229417454,0.07956527224318548,-0.10060302862389521,0.15431641510010444,-0.003544737309725447,-0.003807533712295646,0.11644796349785545,0.008608340201052753,0.03817063993351026,0.07038806700571017,0.125225797126239,0.004985224836590615,0.08840249210003424,0.11754504074765877,0.12290911986069246,0.09055801514874805,0.08388612724163316,0.010033404962583021,-0.04849706149914048,0.11794399393891747,-0.08071614903482524,0.1209184400398623,0.07794122338104485,-0.04669607121666724,0.12048483263193206,-0.16570276013490828,0.02701625829054551,0.19095734489912336,0.08618415011601015,0.05732675370844928,-0.03931158747185361,0.026431658559224823,0.11422027342698791,0.011383684690703045,-0.0321450981057503,0.007347453385591507,-0.12016624268356034,0.026269601573320953,0.016377005514434793,0.03840736248953776,0.005230713551017371,0.057113469070331616,0.016715526855974036,0.18314518364654347,0.0014092310924421658,0.0670200286602432,-0.22339161290702494,-0.1183759786865928,-0.15893323516303842,0.11718228967352347,0.040699016133492645,-0.0398085681213574,0.029519251166758215,0.11051439510827715,0.15668524446135218,-0.0791353497823531,-0.0339190157299692,0.1896932155147872,0.03485031679949977,-0.16190293137597936,-0.03721711462871595,0.06029086399146102,-0.11868595924567094,-0.043977974829348655,-0.03622383522716436,-0.07554469528523358,0.22639521600847895,-0.044548657638105484,0.08620337677844377,0.08265036209063097,0.035805900866927746,-0.021717436696318062,0.0334768376567147,0.0627251338552345,0.06803216302598064,0.02064982361414216,-0.07627794214270332,-0.09096450549127026,-0.0197629662738605,0.15836453310806645,0.08961215996268121,0.001180325634777546,0.07008759427646345,-0.048187402839010414,0.08987121597271074,0.04035612303678963,0.05518147298558192,0.04823559590361335,0.10497286989861591,-0.04796553199941462,-0.06538607281717387,-0.04220754212953828,0.09911361927251247,-0.08080098236149008,-0.13470619772984224,-0.08741202899678187,-0.06203325956382535,-0.09543042032005773,-0.006746227175674655,-0.008323191665112972,-0.1582244268872521,0.0843644335188649,0.07093229322609576,-0.03871609406037764,-0.13645772263407707,0.0030284281820058823,-0.14805186946283688,0.11129978836768054,-0.064656596546146,0.11266593914479017,-0.00843211602080952,-0.04529693561860106,-0.014585222371599892,0.03829407793554393,-0.040763261770321566,-0.1658601721918041,-0.0651600081473589,0.06566626290706071,0.011622825129465624,0.06049494377591393,-0.025629494508559055,0.12353143214502119,-0.05797194748778235,-0.04316538204015656,0.0019141703166744926,-0.05152098495851864,0.020131201144646515,0.10172894715585493,0.07172277586703951,-0.05986580072203651,-0.05787030065601523,0.18236443129452792,-0.08807319809090007,0.05288822432471947,-0.03372013873674653,0.18795329772613265,-0.08792907490649007,-0.01039694304662672,-0.04593007207255472,-0.04891185401092199,0.028327752751382915,0.03760764290663329,-0.06120881472121586,0.07353234722871672,0.028740821067582478,0.14176506185057489,0.05268209055066109,0.019475506533953277,0.10397087435492061,0.051632372493093666,0.10335420427674598,0.17595263468948277,-0.13668717046014286,-0.08051973778161813,0.21578052047301424,-0.0011453995142470708,-0.15905944867567584,0.1342590860757892,-0.06681330222636461,-0.08651513928039507,-0.014630972788753836,0.06549373946406625,-0.07160942612046546,0.12909981487742203,-0.17568558426732622,-0.025507395282726397,-0.1359082626348192,0.1575214107605544,-0.05297000172801993,-0.057978078384291046,0.0059634406458247795,-0.08990989566187967,0.0021616925739429216,0.11668530275875873,0.12353752231733366,-0.015742111781781372,0.0493533963506872,-0.0073419054970145226,-0.03170001540671696,-0.004920913329855963,-0.13917963426898827,-0.0378428939729929,-0.04963675866697899,0.06661904814907096,0.08958537736907601,0.053713192655281586,-0.016090813389217314,0.10531223844736814,-0.0186013373630968,-0.003968320786952972,-0.09186643734574318,-0.1377064140344208,-0.10423295707865195,-0.03480521437119354,0.0933606932786378,0.08024605422873389,0.02119344731115482,0.009571743282404814,-0.12614150074395267,0.1260610478506847,-0.04248640212145719,-0.08301606774330139,0.011064116885377602,0.15838410174050793,0.04765930297699842,0.0602791782849553,0.0692918405614116,-0.08243966204198924,0.07621918212283742,0.06907921419902281,-0.18449246883392334]                                             |01987842-FBE4-4608-B382-48C3346DCCCC|PARAJE|HERCULES|10   |38023 |San Cristóbal de La Laguna|PARAJE HERCLUES 10 SAN CRISTOBAL DE LA LAGUNA|[paraje, herclues, 10, san, cristobal, de, la, laguna]|[0.047318984754383564,-0.015259165724273771,0.002303656656295061,-0.08436959609389305,-0.1329002461861819,-0.07781284270458855,0.05290314648300409,-0.026592609472572803,0.06519131257664412,-0.13195596530567855,-0.03367367584723979,0.048393288103397936,-0.06617021991405636,0.1334858878835803,0.09369968267856166,-0.028417545836418867,-0.023889974341727793,0.11759923165664077,-0.026892947731539607,0.030705923796631396,0.10773512511514127,0.001860408650827594,-0.029330774676054716,-0.07078410475514829,-0.08186657226178795,0.06798394722864032,-0.041503945481963456,-0.031239973148331046,-0.03431613533757627,0.022306379745714366,-0.06498330962494947,0.025776294758543372,0.08061215793713927,-0.032678514369763434,0.09449307696195319,0.11926625901833177,-0.1707976933394093,-0.10987178364302963,-0.07960265350993723,0.019936952623538673,-0.016943144670221955,0.025277627806644887,-0.14401660859584808,0.016704260371625423,0.074359517369885,-0.038860717322677374,-0.0739793706452474,0.23177154234144837,-0.16028680402087048,-0.004479640629142523,-0.04172684972581919,0.11974752321839333,0.14403815753757954,0.11371145167504437,0.1661683817510493,-0.02950220776256174,-0.02647721371613443,0.07433885836508125,0.006445641221944243,-0.014394025696674362,0.012718370417132974,-0.018526922911405563,-0.039379354449920356,-0.0973990693455562,0.17394928296562284,0.03542924742214382,0.025234828586690128,-0.05257295584306121,0.027634198078885674,0.15939112391788512,0.13967594463611022,-0.13059780467301607,-0.0015275764744728804,0.17316920903977007,0.09462779476598371,0.07143648044439033,0.13055932754650712,0.07870567007921636,-0.006581256253411993,-0.1300050272839144,0.07732894172659144,0.007257243851199746,-0.163733399938792,-0.10836478273267858,-0.058452159573789686,0.04268946760566905,0.06684204441262409,0.02865740843117237,0.0211190230329521,0.0024710623547434807,0.12358959577977657,-0.06771494378335774,0.15950290649197996,-0.16023023330490105,-0.055631494367844425,0.14379039662890136,-0.07906441068917047,-0.05177487758919597,0.11435676144901663,0.18122379889246076,0.008188165142200887,-0.020174639066681266,0.02200137358158827,0.17985883494839072,0.0037457291036844254,0.17549522779881954,-0.002009857795201242,0.023019834305159748,0.05401535425335169,-0.07902415961143561,0.08236857585143298,0.008601302281022072,-0.029039332002867013,0.03322560421656817,-0.10661448037717491,-0.08750080212485045,0.0887748597888276,-0.04036076203919947,0.18161675601731986,-0.029061187407933176,0.04640123012359254,-0.0358177829766646,0.017371273366734385,-0.07714008912444115,0.09595529932994395,-0.08125221251975745,-0.024475697457091883,-0.04171924333786592,-0.05101996206212789,0.07278099190443754,-0.05012005672324449,0.05363519163802266,0.11101556534413248,-0.06690820553922094,0.011221648892387748,-0.10500314261298627,-0.053379561053588986,-0.10351580008864403,0.15752444908139296,0.03584263380616903,0.07966221903916448,-0.012241836113389581,0.07937979395501316,0.19282412878237665,0.0270223175175488,-0.05149001465179026,0.09209339006338269,-0.00784967141225934,-0.16589099320117384,0.03588773068622686,0.02419806143734604,-0.23435778403654695,-0.09601586731150746,0.12919102257001214,0.060316002258332446,0.18421269359532744,-0.11926748813129961,0.020422880304977298,0.062326092505827546,0.07188480456534307,0.03428382382844575,-0.04840485140448436,0.02470376226119697,0.02116183319594711,0.010168320673983544,-0.026490456250030547,0.04919572424842045,-0.08168237842619419,0.08661732659675181,0.027702686958946288,0.06936196811147965,0.11133697658078745,-0.04510640981607139,0.049019325291737914,-0.006221215036930516,-0.03193903900682926,-0.09697980782948434,0.07504160236567259,-0.030837524391245097,0.003588718012906611,-0.06424268358387053,0.03506714754621498,-0.04441988852340728,-0.060826024011475965,-0.02601793548092246,-0.0819852058775723,0.01651977289293427,-0.06882514950120822,-0.03944041673094034,-0.023727509193122387,0.04368662997148931,0.14956825179979205,-0.020456868689507246,-0.09543063270393759,0.08792526792967692,-0.10365988407284021,0.12592613775632344,-0.2118068968411535,0.08941955887712538,0.008222675765864551,0.06358099984936416,0.021049943170510232,-0.025706306390929967,-0.03240554060903378,0.05931562400655821,-0.05703414371237159,0.08576534455642104,-0.11517340372665785,0.06365745910443366,-0.05943306745029986,0.17492222471628338,-0.08272613259032369,0.10394074337091297,0.08242141176015139,-0.08286081650294363,0.03234283596975729,0.022252135444432497,0.03770182246807963,0.09347118825098732,0.052560952986823395,0.24823320237919688,-0.05988262756727636,-0.0784447327023372,0.0345588237978518,0.08187791844829917,-0.10249581519747153,-0.04672411864157766,-0.05027663125656545,-0.04751830224995501,-0.03884921711869538,0.0838982972472877,-0.03833362634759396,0.04360969865228981,0.09057677094824612,0.08645828498993069,0.1571128194918856,-0.006650456110946834,0.08028623716381844,0.1188588035875,-0.0027280158828943968,0.1788933160714805,-0.033889102982357144,0.042382086016004905,0.14033342490438372,0.1625199944828637,-0.10379918597755022,-0.02443692662200192,-0.1052126211579889,-0.061671186005696654,-0.03491683168977033,0.06394131341949105,-0.04186649830080569,0.07763655867893249,-0.14160012383945286,-0.09343784477096051,-0.062351815791771514,0.27617584832478315,0.0497769812354818,0.1894280130509287,0.0710704218945466,0.08579611498862505,-0.0399059453047812,0.15110885427566245,0.05841665284242481,-0.06559086428023875,-0.041319615789689124,-0.09902897709980607,0.053944097831845284,-0.08458190289093181,-0.03758550644852221,-0.09738941473187879,-0.10669672869539681,-0.05051081033889204,-0.0024641064810566604,0.002966901403851807,-0.13308245479129255,0.05147605435922742,0.02416713733691722,0.01398776238784194,0.04962104250444099,-0.10440813977038488,-0.13414637591631617,-0.040719248936511576,-0.02108856209088117,0.09723653295077384,-0.01292650424875319,0.012123628985136747,-0.07494826754555106,0.11244034301489592,0.002685978834051639,-0.03699040366336703,0.009287169959861785,0.18101899238536134,0.12358538183616474,0.0014613740495406091,0.059318119660019875,-0.03819604148156941,0.09167042723856866,-0.0036644425126723945,-0.21018644876312464]|0.65214056       |false     |\n",
      "+------------------------------------+-----------------------------------------------------------------------+----------------------------------------------------------------------------------------------------------------------------------------------------------------------------------------------------------------------------------------------------------------------------------------------------------------------------------------------------------------------------------------------------------------------------------------------------------------------------------------------------------------------------------------------------------------------------------------------------------------------------------------------------------------------------------------------------------------------------------------------------------------------------------------------------------------------------------------------------------------------------------------------------------------------------------------------------------------------------------------------------------------------------------------------------------------------------------------------------------------------------------------------------------------------------------------------------------------------------------------------------------------------------------------------------------------------------------------------------------------------------------------------------------------------------------------------------------------------------------------------------------------------------------------------------------------------------------------------------------------------------------------------------------------------------------------------------------------------------------------------------------------------------------------------------------------------------------------------------------------------------------------------------------------------------------------------------------------------------------------------------------------------------------------------------------------------------------------------------------------------------------------------------------------------------------------------------------------------------------------------------------------------------------------------------------------------------------------------------------------------------------------------------------------------------------------------------------------------------------------------------------------------------------------------------------------------------------------------------------------------------------------------------------------------------------------------------------------------------------------------------------------------------------------------------------------------------------------------------------------------------------------------------------------------------------------------------------------------------------------------------------------------------------------------------------------------------------------------------------------------------------------------------------------------------------------------------------------------------------------------------------------------------------------------------------------------------------------------------------------------------------------------------------------------------------------------------------------------------------------------------------------------------------------------------------------------------------------------------------------------------------------------------------------------------------------------------------------------------------------------------------------------------------------------------------------------------------------------------------------------------------------------------------------------------------------------------------------------------------------------------------------------------------------------------------------------------------------------------------------------------------------------------------------------------------------------------------------------------------------------------------------------------------------------------------------------------------------------------------------------------------------------------------------------------------------------------------------------------------------------------------------------------------------------------------------------------------------------------------------------------------------------------------------------------------------------------------------------------------------------------------------------------------------------------------------------------------------------------------------------------------------------------------------------------------------------------------------------------------------------------------------------------------------------------------------------------------------------------------------------------------------------------------------------------------------------------------------------------------------------------------------------------------------------------------------------------------------------------------------------------------------------------------------------------------------------------------------------------------------------------------------------------------------------------------------------------------------------------------------------------------------------------------------------------------------------------------------------------------------------------------------------------------------------------------------------------------------------------------------------------------------------------------------------------------------------------------------------------------------------------------------------------------------------------------------------------------------------------------------------------------------------------------------------------------------------------------------------------------------------------------------------------------------------------------------------------------------------------------------------------------------------------------------------------------------------------------------------------+------------------------------------+------+--------+-----+------+--------------------------+---------------------------------------------+------------------------------------------------------+---------------------------------------------------------------------------------------------------------------------------------------------------------------------------------------------------------------------------------------------------------------------------------------------------------------------------------------------------------------------------------------------------------------------------------------------------------------------------------------------------------------------------------------------------------------------------------------------------------------------------------------------------------------------------------------------------------------------------------------------------------------------------------------------------------------------------------------------------------------------------------------------------------------------------------------------------------------------------------------------------------------------------------------------------------------------------------------------------------------------------------------------------------------------------------------------------------------------------------------------------------------------------------------------------------------------------------------------------------------------------------------------------------------------------------------------------------------------------------------------------------------------------------------------------------------------------------------------------------------------------------------------------------------------------------------------------------------------------------------------------------------------------------------------------------------------------------------------------------------------------------------------------------------------------------------------------------------------------------------------------------------------------------------------------------------------------------------------------------------------------------------------------------------------------------------------------------------------------------------------------------------------------------------------------------------------------------------------------------------------------------------------------------------------------------------------------------------------------------------------------------------------------------------------------------------------------------------------------------------------------------------------------------------------------------------------------------------------------------------------------------------------------------------------------------------------------------------------------------------------------------------------------------------------------------------------------------------------------------------------------------------------------------------------------------------------------------------------------------------------------------------------------------------------------------------------------------------------------------------------------------------------------------------------------------------------------------------------------------------------------------------------------------------------------------------------------------------------------------------------------------------------------------------------------------------------------------------------------------------------------------------------------------------------------------------------------------------------------------------------------------------------------------------------------------------------------------------------------------------------------------------------------------------------------------------------------------------------------------------------------------------------------------------------------------------------------------------------------------------------------------------------------------------------------------------------------------------------------------------------------------------------------------------------------------------------------------------------------------------------------------------------------------------------------------------------------------------------------------------------------------------------------------------------------------------------------------------------------------------------------------------------------------------------------------------------------------------------------------------------------------------------------------------------------------------------------------------------------------------------------------------------------------------------------------------------------------------------------------------------------------------------------------------------------------------------------------------------------------------------------------------------------------------------------------------------------------------------------------------------------------------------------------------------------------------------------------------------------------------------------------------------------------------------------------------------------------------------------------------------------------------------------------------------------------------------------------------------------------------------------------------------------------------------------------------------------------------------------------------------------------------------------------------------------------------------------------------------------------------------------------------------------------------------------------------------------------------------------------------------------------------------------------------------------------------------------------------------------------------------------------------------------------------------------------------------------------------------------------------------------------------------------------------------------------------------------------------------------------------------------------------------------------------------------------------------------------+-----------------+----------+\n",
      "\n"
     ]
    },
    {
     "name": "stderr",
     "output_type": "stream",
     "text": [
      "                                                                                \r"
     ]
    }
   ],
   "source": [
    "evaluated_word2vec_cosine.show(truncate=False)"
   ]
  },
  {
   "cell_type": "code",
   "execution_count": 25,
   "metadata": {},
   "outputs": [
    {
     "name": "stderr",
     "output_type": "stream",
     "text": [
      "[Stage 171:============================================>          (26 + 6) / 32]\r"
     ]
    },
    {
     "name": "stdout",
     "output_type": "stream",
     "text": [
      "+------------------------------------+------------------------------------+-------------------------------------------------------------------------------+-----------------------------------------------------------------------+-----------------+\n",
      "|uuid_idt                            |uuid_idt2                           |direccion                                                                      |direccion2                                                             |cosine_similarity|\n",
      "+------------------------------------+------------------------------------+-------------------------------------------------------------------------------+-----------------------------------------------------------------------+-----------------+\n",
      "|05DF4E46-4F82-450B-ACF3-E2757D0AE09B|7438477F-3251-11E8-9F08-480FCF5217B3|ANGOSTA CARTA 10 SAN CRISTOBAL DE LA LAGUAN                                    |CRA CANDILA LGAUNA 21 SAN CRISTOBAL DE LA LGAUNA                       |0.91462225       |\n",
      "|33ECFF0C-9C99-4F93-BECD-3E7872E2DC03|685B7500-95B0-4048-BBFA-1E3D2884B428|APARTADO DE CORREOS AVDA MENCEEYS 295 SAN CRISTOBAL DE LA LAGUNA               |APARTADO DE CORREOS APARTADO CORREOS 659 SAN CRISTOBAL DE LA LAGUNA    |0.92651683       |\n",
      "|1946009D-6F04-4EB9-8882-3BDE351D99AE|6CBC519A-3251-11E8-BC74-480FCF5217B3|PLAZUELA D ALFONSO FERNANEDZ GARCIA 11 SAN CRISTOBAL DE LA LAGUNA              |CALLE IGNACIO PEREZ GARCIA 8 SAN CRISTOBAL DE LA LAGUNA                |0.8767058        |\n",
      "|3543EE18-7449-11EB-8771-6F70BC935088|61256FDD-3251-11E8-9DB0-480FCF5217B3|PLAZOLETA PANASCOS S BARTOLOME GENETO 33 SAN CRISTOBAL ED LA LAGUNA            |AVENIDA BARTOLOME CAIRASCO 7 SAN CRISTOBAL DE LA LAGUNA                |0.85955495       |\n",
      "|039FAD75-7525-11EB-A26D-7D5EFCBC1961|C0623070-0AD1-11EA-8401-7756D0C25261|VALLE CAMINO CAÑADA 109 SAN CRISTOBAL DE LA LAGUAN                             |CAMINO CAÑADA ORTIGAL 74 SAN CRISTOBAL DE LA LAGUNA                    |0.8677388        |\n",
      "|1B0B44DF-8652-42C2-A37E-7AF4D209210B|660AC9A5-3251-11E8-AB67-480FCF5217B3|PISTA AGUIRRE RIOS 12 SAN CRISTOBAL DE LA LGAUNA                               |CALLE CARMENEL BPILAR 9 SAN CRISTOBAL DE LA LAGUNA                     |0.78717923       |\n",
      "|35406E0E-7449-11EB-8771-6F70BC935088|6D65908E-3251-11E8-B903-480FCF5217B3|CSRIO JUSTICIA GUAAJRA 23 SAN CRISTOBAL DE LA LAGUNA                           |AMPLIACION CEBDAA 11 SAN CRISTOBAL DE LA LAGUNA                        |0.97899675       |\n",
      "|39F9AE5C-83CF-11EA-A806-0768FB2B34E1|636F3879-3251-11E8-AC36-480FCF5217B3|PARTICULAR VIRGEN SALETTE 25 SAN CRISTOBAL ED LA LAGUNA                        |CAMIN CREMONA 27 SAN CRISTOBAL ED LA LAGUNA                            |0.90635175       |\n",
      "|29651D6D-5160-487A-8176-E32CF027A6AF|481D68B3-8321-11EA-8991-9109B330B472|VIVIEDNAS GENERAL ESPERANZA 114 SAN CRISTOBAL DE LA LAGUNA                     |CARRETERA CTRAGRALBAJAMAR 14 SAN CRISTOBAL DE LA LAGUNA                |0.9321774        |\n",
      "|34CF828F-7449-11EB-8771-6F70BC935088|77487A61-3251-11E8-B785-480FCF5217B3|CORRAL LUCANAS VLALE GUERRA 0 SAN CRISTOBAL DE LA LAGUNA                       |MUNICIPIO CTRAGRALVALLE GUERRA 83 SAN CRISOTBAL DE LA LAGUNA           |0.88278407       |\n",
      "|34BE72D8-31A8-4684-814D-2F453A39B0FB|ACCDC40D-C2DD-479A-B3FB-BC0049A35F5B|MONTAÑA DOCTOR ESCOLASTICO AGUIAR SOTO 15 SAN CRISTOBAL DE LA LAGUAN           |URBANIZACION DR ANTONIO GONZALEZ GONZALEZ 13 SAN RCISTOBAL DE LA LAGUNA|0.64667183       |\n",
      "|39BB4635-BE4F-49F6-8680-7E0B95862B6D|636F3879-3251-11E8-AC36-480FCF5217B3|ZONA TEJINA BAJAMAR 4 SAN CRISTOBAL ED LA LAGUNA                               |CAMIN CREMONA 27 SAN CRISTOBAL ED LA LAGUNA                            |0.89648026       |\n",
      "|34CBDB57-7449-11EB-8771-6F70BC935088|6A8AC650-3251-11E8-B6AC-480FCF5217B3|PROLONGACION ADRE AGUA 3 SAN CRISTOBAL ED LA LAGUNA                            |BLOQUES MARTE 6 SAN CRISTOBAL ED LA LAGUNA                             |0.9030564        |\n",
      "|030CD241-C682-4119-96BA-2AB107F83014|65B14638-3251-11E8-BE7C-480FCF5217B3|EXTRARRADIO LUNA LLENA EXTRARRADIO TERCERA DERECHA 9 SAN CRISTOBAL DE AL LAGUNA|TRAV TANGANILLO 0 SAN CRISTOBAL DE AL LAGUNA                           |0.80556613       |\n",
      "|20D60BB5-C77B-443F-870B-495DA79409E9|7360B0CC-3251-11E8-9A67-480FCF5217B3|ACCESO BALTASAR NUÑEZ 17 JB 5 17 SAN CRISTOBAL DE LA LAGUNA                    |SUBIDA ANDENES 53 SAN CRISTOBAL DE LA LAGUNA                           |0.8413811        |\n",
      "|2250307D-5DDD-40D4-B4E2-209200A81CF4|63ECFC43-3251-11E8-B376-480FCF5217B3|ROTONDA COLEGIO PRINCESA TEJINA 0 ASN CRISTOBAL DE LA LAGUNA                   |ROTONDA SALERNO 3 SNA CRISTOBAL DE LA LAGUNA                           |0.85226595       |\n",
      "|34B18684-7449-11EB-8771-6F70BC935088|5FD5AF2B-3251-11E8-A2A7-480FCF5217B3|ESCALERA AGUIRRE IROS 44 SAN CRISTOBAL DE LA LAGUNA                            |CALLE ORTIGALA 17 SAN CRISTOBAL DE LA LAGUNA                           |0.95233494       |\n",
      "|31123F8D-7998-11EB-9335-3553A692CF72|6A8AC650-3251-11E8-B6AC-480FCF5217B3|CARRERA INDUSTRIAL MARCEROL 27 SAN CRISTOBAL ED LA LAGUNA                      |BLOQUES MARTE 6 SAN CRISTOBAL ED LA LAGUNA                             |0.8855191        |\n",
      "|34A9C410-7449-11EB-8771-6F70BC935088|6E35163F-3251-11E8-B930-480FCF5217B3|POLIGONO MERCEDES MAJUELOS TACO 0 SAN CRISTOBAL DE LA ALGUNA                   |CALLE SAN SEBASTIAN CNO HORNERA MAJUELOS 29 SAN CRISTOBAL DE LA LAGUNA |0.82562786       |\n",
      "|05A0F717-FE12-4087-8CC5-E718D630AD30|ED4F4D56-0C67-43DA-9DD3-275238008AF2|AVENIDA HURONCILOL TEJINA 0 SAN CRISTOBAL DE LA LAGUNA                         |SOLAR CHUMBEARS 7 SAN CRISTOBAL DE LA LAGUNA                           |0.92452323       |\n",
      "+------------------------------------+------------------------------------+-------------------------------------------------------------------------------+-----------------------------------------------------------------------+-----------------+\n",
      "only showing top 20 rows\n",
      "\n"
     ]
    },
    {
     "name": "stderr",
     "output_type": "stream",
     "text": [
      "                                                                                \r"
     ]
    }
   ],
   "source": [
    "evaluated_word2vec_cosine.select(\"uuid_idt\", \"uuid_idt2\", \"direccion\", \"direccion2\", \"cosine_similarity\").show(truncate=False)"
   ]
  },
  {
   "cell_type": "code",
   "execution_count": null,
   "metadata": {},
   "outputs": [],
   "source": [
    "evaluated_word2vec_cosine.select(\"evaluation\").filter(\"evaluation == true\").count()\n",
    "# 1.000 2min\n",
    "# 10.000 error"
   ]
  },
  {
   "cell_type": "code",
   "execution_count": null,
   "metadata": {},
   "outputs": [],
   "source": [
    "print(accertion_ratio(evaluated_word2vec_cosine))"
   ]
  },
  {
   "cell_type": "code",
   "execution_count": null,
   "metadata": {},
   "outputs": [],
   "source": [
    "# !!! Error por falta de almacenamiento\n",
    "evaluated_word2vec_cosine.write.format('parquet').save(\"../data/proccesed_data/word2vec_cosine.parquet\")"
   ]
  },
  {
   "cell_type": "markdown",
   "metadata": {},
   "source": [
    "#### Test"
   ]
  },
  {
   "cell_type": "markdown",
   "metadata": {},
   "source": [
    "--------"
   ]
  },
  {
   "cell_type": "code",
   "execution_count": 12,
   "metadata": {},
   "outputs": [
    {
     "name": "stderr",
     "output_type": "stream",
     "text": [
      "ERROR:root:KeyboardInterrupt while sending command.                             \n",
      "Traceback (most recent call last):\n",
      "  File \"/home/usuario/Address-matching/env_address_matching/lib/python3.10/site-packages/py4j/java_gateway.py\", line 1038, in send_command\n",
      "    response = connection.send_command(command)\n",
      "  File \"/home/usuario/Address-matching/env_address_matching/lib/python3.10/site-packages/py4j/clientserver.py\", line 511, in send_command\n",
      "    answer = smart_decode(self.stream.readline()[:-1])\n",
      "  File \"/usr/lib/python3.10/socket.py\", line 705, in readinto\n",
      "    return self._sock.recv_into(b)\n",
      "KeyboardInterrupt\n"
     ]
    },
    {
     "ename": "KeyboardInterrupt",
     "evalue": "",
     "output_type": "error",
     "traceback": [
      "\u001b[0;31m---------------------------------------------------------------------------\u001b[0m",
      "\u001b[0;31mKeyboardInterrupt\u001b[0m                         Traceback (most recent call last)",
      "Cell \u001b[0;32mIn[12], line 26\u001b[0m\n\u001b[1;32m     24\u001b[0m   evaluated_word2vec_cosine \u001b[38;5;241m=\u001b[39m filter_3_best(evaluated_word2vec_cosine)\n\u001b[1;32m     25\u001b[0m   evaluated_word2vec_cosine \u001b[38;5;241m=\u001b[39m evaluated_word2vec_cosine\u001b[38;5;241m.\u001b[39mwithColumn(\u001b[38;5;124m\"\u001b[39m\u001b[38;5;124mevaluation\u001b[39m\u001b[38;5;124m\"\u001b[39m, evaluated_word2vec_cosine\u001b[38;5;241m.\u001b[39muuid_idt \u001b[38;5;241m==\u001b[39m evaluated_word2vec_cosine\u001b[38;5;241m.\u001b[39muuid_idt2)\n\u001b[0;32m---> 26\u001b[0m   x\u001b[38;5;241m.\u001b[39munion(\u001b[43mevaluated_word2vec_cosine\u001b[49m\u001b[38;5;241;43m.\u001b[39;49m\u001b[43mselect\u001b[49m\u001b[43m(\u001b[49m\u001b[38;5;124;43m\"\u001b[39;49m\u001b[38;5;124;43muuid_idt\u001b[39;49m\u001b[38;5;124;43m\"\u001b[39;49m\u001b[43m,\u001b[49m\u001b[43m \u001b[49m\u001b[38;5;124;43m\"\u001b[39;49m\u001b[38;5;124;43muuid_idt2\u001b[39;49m\u001b[38;5;124;43m\"\u001b[39;49m\u001b[43m,\u001b[49m\u001b[43m \u001b[49m\u001b[38;5;124;43m\"\u001b[39;49m\u001b[38;5;124;43mdireccion\u001b[39;49m\u001b[38;5;124;43m\"\u001b[39;49m\u001b[43m,\u001b[49m\u001b[43m \u001b[49m\u001b[38;5;124;43m\"\u001b[39;49m\u001b[38;5;124;43mdireccion2\u001b[39;49m\u001b[38;5;124;43m\"\u001b[39;49m\u001b[43m,\u001b[49m\u001b[43m \u001b[49m\u001b[38;5;124;43m\"\u001b[39;49m\u001b[38;5;124;43mcosine_similarity\u001b[39;49m\u001b[38;5;124;43m\"\u001b[39;49m\u001b[43m,\u001b[49m\u001b[43m \u001b[49m\u001b[38;5;124;43m\"\u001b[39;49m\u001b[38;5;124;43mevaluation\u001b[39;49m\u001b[38;5;124;43m\"\u001b[39;49m\u001b[43m)\u001b[49m)\n\u001b[1;32m     28\u001b[0m   \u001b[38;5;66;03m# Calcular la similitud del coseno en el lote actual\u001b[39;00m\n\u001b[1;32m     29\u001b[0m   \u001b[38;5;66;03m# batch_results = joined_df.withColumn(\"cosine_similarity\", cosine_similarity(\"embedding2\", \"embedding\"))\u001b[39;00m\n\u001b[1;32m     31\u001b[0m \u001b[38;5;124;03m\"\"\" uuids = [row.uuid_idt for row in w2v_cosine.select(\"uuid_idt\").distinct().collect()]\u001b[39;00m\n\u001b[1;32m     32\u001b[0m \n\u001b[1;32m     33\u001b[0m \u001b[38;5;124;03mbatches_size = 1000\u001b[39;00m\n\u001b[0;32m   (...)\u001b[0m\n\u001b[1;32m     51\u001b[0m \u001b[38;5;124;03m    # Calcular la similitud del coseno en el lote actual\u001b[39;00m\n\u001b[1;32m     52\u001b[0m \u001b[38;5;124;03m    batch_results = joined_df.withColumn(\"cosine_similarity\", cosine_similarity(\"embedding2\", \"embedding\")) \"\"\"\u001b[39;00m\n",
      "File \u001b[0;32m~/Address-matching/env_address_matching/lib/python3.10/site-packages/pyspark/sql/dataframe.py:3227\u001b[0m, in \u001b[0;36mDataFrame.select\u001b[0;34m(self, *cols)\u001b[0m\n\u001b[1;32m   3182\u001b[0m \u001b[38;5;28;01mdef\u001b[39;00m \u001b[38;5;21mselect\u001b[39m(\u001b[38;5;28mself\u001b[39m, \u001b[38;5;241m*\u001b[39mcols: \u001b[38;5;124m\"\u001b[39m\u001b[38;5;124mColumnOrName\u001b[39m\u001b[38;5;124m\"\u001b[39m) \u001b[38;5;241m-\u001b[39m\u001b[38;5;241m>\u001b[39m \u001b[38;5;124m\"\u001b[39m\u001b[38;5;124mDataFrame\u001b[39m\u001b[38;5;124m\"\u001b[39m:  \u001b[38;5;66;03m# type: ignore[misc]\u001b[39;00m\n\u001b[1;32m   3183\u001b[0m \u001b[38;5;250m    \u001b[39m\u001b[38;5;124;03m\"\"\"Projects a set of expressions and returns a new :class:`DataFrame`.\u001b[39;00m\n\u001b[1;32m   3184\u001b[0m \n\u001b[1;32m   3185\u001b[0m \u001b[38;5;124;03m    .. versionadded:: 1.3.0\u001b[39;00m\n\u001b[0;32m   (...)\u001b[0m\n\u001b[1;32m   3225\u001b[0m \u001b[38;5;124;03m    +-----+---+\u001b[39;00m\n\u001b[1;32m   3226\u001b[0m \u001b[38;5;124;03m    \"\"\"\u001b[39;00m\n\u001b[0;32m-> 3227\u001b[0m     jdf \u001b[38;5;241m=\u001b[39m \u001b[38;5;28mself\u001b[39m\u001b[38;5;241m.\u001b[39m_jdf\u001b[38;5;241m.\u001b[39mselect(\u001b[38;5;28;43mself\u001b[39;49m\u001b[38;5;241;43m.\u001b[39;49m\u001b[43m_jcols\u001b[49m\u001b[43m(\u001b[49m\u001b[38;5;241;43m*\u001b[39;49m\u001b[43mcols\u001b[49m\u001b[43m)\u001b[49m)\n\u001b[1;32m   3228\u001b[0m     \u001b[38;5;28;01mreturn\u001b[39;00m DataFrame(jdf, \u001b[38;5;28mself\u001b[39m\u001b[38;5;241m.\u001b[39msparkSession)\n",
      "File \u001b[0;32m~/Address-matching/env_address_matching/lib/python3.10/site-packages/pyspark/sql/dataframe.py:2764\u001b[0m, in \u001b[0;36mDataFrame._jcols\u001b[0;34m(self, *cols)\u001b[0m\n\u001b[1;32m   2762\u001b[0m \u001b[38;5;28;01mif\u001b[39;00m \u001b[38;5;28mlen\u001b[39m(cols) \u001b[38;5;241m==\u001b[39m \u001b[38;5;241m1\u001b[39m \u001b[38;5;129;01mand\u001b[39;00m \u001b[38;5;28misinstance\u001b[39m(cols[\u001b[38;5;241m0\u001b[39m], \u001b[38;5;28mlist\u001b[39m):\n\u001b[1;32m   2763\u001b[0m     cols \u001b[38;5;241m=\u001b[39m cols[\u001b[38;5;241m0\u001b[39m]\n\u001b[0;32m-> 2764\u001b[0m \u001b[38;5;28;01mreturn\u001b[39;00m \u001b[38;5;28;43mself\u001b[39;49m\u001b[38;5;241;43m.\u001b[39;49m\u001b[43m_jseq\u001b[49m\u001b[43m(\u001b[49m\u001b[43mcols\u001b[49m\u001b[43m,\u001b[49m\u001b[43m \u001b[49m\u001b[43m_to_java_column\u001b[49m\u001b[43m)\u001b[49m\n",
      "File \u001b[0;32m~/Address-matching/env_address_matching/lib/python3.10/site-packages/pyspark/sql/dataframe.py:2751\u001b[0m, in \u001b[0;36mDataFrame._jseq\u001b[0;34m(self, cols, converter)\u001b[0m\n\u001b[1;32m   2745\u001b[0m \u001b[38;5;28;01mdef\u001b[39;00m \u001b[38;5;21m_jseq\u001b[39m(\n\u001b[1;32m   2746\u001b[0m     \u001b[38;5;28mself\u001b[39m,\n\u001b[1;32m   2747\u001b[0m     cols: Sequence,\n\u001b[1;32m   2748\u001b[0m     converter: Optional[Callable[\u001b[38;5;241m.\u001b[39m\u001b[38;5;241m.\u001b[39m\u001b[38;5;241m.\u001b[39m, Union[\u001b[38;5;124m\"\u001b[39m\u001b[38;5;124mPrimitiveType\u001b[39m\u001b[38;5;124m\"\u001b[39m, JavaObject]]] \u001b[38;5;241m=\u001b[39m \u001b[38;5;28;01mNone\u001b[39;00m,\n\u001b[1;32m   2749\u001b[0m ) \u001b[38;5;241m-\u001b[39m\u001b[38;5;241m>\u001b[39m JavaObject:\n\u001b[1;32m   2750\u001b[0m \u001b[38;5;250m    \u001b[39m\u001b[38;5;124;03m\"\"\"Return a JVM Seq of Columns from a list of Column or names\"\"\"\u001b[39;00m\n\u001b[0;32m-> 2751\u001b[0m     \u001b[38;5;28;01mreturn\u001b[39;00m \u001b[43m_to_seq\u001b[49m\u001b[43m(\u001b[49m\u001b[38;5;28;43mself\u001b[39;49m\u001b[38;5;241;43m.\u001b[39;49m\u001b[43msparkSession\u001b[49m\u001b[38;5;241;43m.\u001b[39;49m\u001b[43m_sc\u001b[49m\u001b[43m,\u001b[49m\u001b[43m \u001b[49m\u001b[43mcols\u001b[49m\u001b[43m,\u001b[49m\u001b[43m \u001b[49m\u001b[43mconverter\u001b[49m\u001b[43m)\u001b[49m\n",
      "File \u001b[0;32m~/Address-matching/env_address_matching/lib/python3.10/site-packages/pyspark/sql/column.py:88\u001b[0m, in \u001b[0;36m_to_seq\u001b[0;34m(sc, cols, converter)\u001b[0m\n\u001b[1;32m     81\u001b[0m \u001b[38;5;250m\u001b[39m\u001b[38;5;124;03m\"\"\"\u001b[39;00m\n\u001b[1;32m     82\u001b[0m \u001b[38;5;124;03mConvert a list of Columns (or names) into a JVM Seq of Column.\u001b[39;00m\n\u001b[1;32m     83\u001b[0m \n\u001b[1;32m     84\u001b[0m \u001b[38;5;124;03mAn optional `converter` could be used to convert items in `cols`\u001b[39;00m\n\u001b[1;32m     85\u001b[0m \u001b[38;5;124;03minto JVM Column objects.\u001b[39;00m\n\u001b[1;32m     86\u001b[0m \u001b[38;5;124;03m\"\"\"\u001b[39;00m\n\u001b[1;32m     87\u001b[0m \u001b[38;5;28;01mif\u001b[39;00m converter:\n\u001b[0;32m---> 88\u001b[0m     cols \u001b[38;5;241m=\u001b[39m [converter(c) \u001b[38;5;28;01mfor\u001b[39;00m c \u001b[38;5;129;01min\u001b[39;00m cols]\n\u001b[1;32m     89\u001b[0m \u001b[38;5;28;01massert\u001b[39;00m sc\u001b[38;5;241m.\u001b[39m_jvm \u001b[38;5;129;01mis\u001b[39;00m \u001b[38;5;129;01mnot\u001b[39;00m \u001b[38;5;28;01mNone\u001b[39;00m\n\u001b[1;32m     90\u001b[0m \u001b[38;5;28;01mreturn\u001b[39;00m sc\u001b[38;5;241m.\u001b[39m_jvm\u001b[38;5;241m.\u001b[39mPythonUtils\u001b[38;5;241m.\u001b[39mtoSeq(cols)\n",
      "File \u001b[0;32m~/Address-matching/env_address_matching/lib/python3.10/site-packages/pyspark/sql/column.py:88\u001b[0m, in \u001b[0;36m<listcomp>\u001b[0;34m(.0)\u001b[0m\n\u001b[1;32m     81\u001b[0m \u001b[38;5;250m\u001b[39m\u001b[38;5;124;03m\"\"\"\u001b[39;00m\n\u001b[1;32m     82\u001b[0m \u001b[38;5;124;03mConvert a list of Columns (or names) into a JVM Seq of Column.\u001b[39;00m\n\u001b[1;32m     83\u001b[0m \n\u001b[1;32m     84\u001b[0m \u001b[38;5;124;03mAn optional `converter` could be used to convert items in `cols`\u001b[39;00m\n\u001b[1;32m     85\u001b[0m \u001b[38;5;124;03minto JVM Column objects.\u001b[39;00m\n\u001b[1;32m     86\u001b[0m \u001b[38;5;124;03m\"\"\"\u001b[39;00m\n\u001b[1;32m     87\u001b[0m \u001b[38;5;28;01mif\u001b[39;00m converter:\n\u001b[0;32m---> 88\u001b[0m     cols \u001b[38;5;241m=\u001b[39m [\u001b[43mconverter\u001b[49m\u001b[43m(\u001b[49m\u001b[43mc\u001b[49m\u001b[43m)\u001b[49m \u001b[38;5;28;01mfor\u001b[39;00m c \u001b[38;5;129;01min\u001b[39;00m cols]\n\u001b[1;32m     89\u001b[0m \u001b[38;5;28;01massert\u001b[39;00m sc\u001b[38;5;241m.\u001b[39m_jvm \u001b[38;5;129;01mis\u001b[39;00m \u001b[38;5;129;01mnot\u001b[39;00m \u001b[38;5;28;01mNone\u001b[39;00m\n\u001b[1;32m     90\u001b[0m \u001b[38;5;28;01mreturn\u001b[39;00m sc\u001b[38;5;241m.\u001b[39m_jvm\u001b[38;5;241m.\u001b[39mPythonUtils\u001b[38;5;241m.\u001b[39mtoSeq(cols)\n",
      "File \u001b[0;32m~/Address-matching/env_address_matching/lib/python3.10/site-packages/pyspark/sql/column.py:63\u001b[0m, in \u001b[0;36m_to_java_column\u001b[0;34m(col)\u001b[0m\n\u001b[1;32m     61\u001b[0m     jcol \u001b[38;5;241m=\u001b[39m col\u001b[38;5;241m.\u001b[39m_jc\n\u001b[1;32m     62\u001b[0m \u001b[38;5;28;01melif\u001b[39;00m \u001b[38;5;28misinstance\u001b[39m(col, \u001b[38;5;28mstr\u001b[39m):\n\u001b[0;32m---> 63\u001b[0m     jcol \u001b[38;5;241m=\u001b[39m \u001b[43m_create_column_from_name\u001b[49m\u001b[43m(\u001b[49m\u001b[43mcol\u001b[49m\u001b[43m)\u001b[49m\n\u001b[1;32m     64\u001b[0m \u001b[38;5;28;01melse\u001b[39;00m:\n\u001b[1;32m     65\u001b[0m     \u001b[38;5;28;01mraise\u001b[39;00m PySparkTypeError(\n\u001b[1;32m     66\u001b[0m         error_class\u001b[38;5;241m=\u001b[39m\u001b[38;5;124m\"\u001b[39m\u001b[38;5;124mNOT_COLUMN_OR_STR\u001b[39m\u001b[38;5;124m\"\u001b[39m,\n\u001b[1;32m     67\u001b[0m         message_parameters\u001b[38;5;241m=\u001b[39m{\u001b[38;5;124m\"\u001b[39m\u001b[38;5;124marg_name\u001b[39m\u001b[38;5;124m\"\u001b[39m: \u001b[38;5;124m\"\u001b[39m\u001b[38;5;124mcol\u001b[39m\u001b[38;5;124m\"\u001b[39m, \u001b[38;5;124m\"\u001b[39m\u001b[38;5;124marg_type\u001b[39m\u001b[38;5;124m\"\u001b[39m: \u001b[38;5;28mtype\u001b[39m(col)\u001b[38;5;241m.\u001b[39m\u001b[38;5;18m__name__\u001b[39m},\n\u001b[1;32m     68\u001b[0m     )\n",
      "File \u001b[0;32m~/Address-matching/env_address_matching/lib/python3.10/site-packages/pyspark/sql/column.py:56\u001b[0m, in \u001b[0;36m_create_column_from_name\u001b[0;34m(name)\u001b[0m\n\u001b[1;32m     54\u001b[0m \u001b[38;5;28;01mdef\u001b[39;00m \u001b[38;5;21m_create_column_from_name\u001b[39m(name: \u001b[38;5;28mstr\u001b[39m) \u001b[38;5;241m-\u001b[39m\u001b[38;5;241m>\u001b[39m \u001b[38;5;124m\"\u001b[39m\u001b[38;5;124mColumn\u001b[39m\u001b[38;5;124m\"\u001b[39m:\n\u001b[1;32m     55\u001b[0m     sc \u001b[38;5;241m=\u001b[39m get_active_spark_context()\n\u001b[0;32m---> 56\u001b[0m     \u001b[38;5;28;01mreturn\u001b[39;00m \u001b[43mcast\u001b[49m\u001b[43m(\u001b[49m\u001b[43mJVMView\u001b[49m\u001b[43m,\u001b[49m\u001b[43m \u001b[49m\u001b[43msc\u001b[49m\u001b[38;5;241;43m.\u001b[39;49m\u001b[43m_jvm\u001b[49m\u001b[43m)\u001b[49m\u001b[38;5;241;43m.\u001b[39;49m\u001b[43mfunctions\u001b[49m\u001b[38;5;241m.\u001b[39mcol(name)\n",
      "File \u001b[0;32m~/Address-matching/env_address_matching/lib/python3.10/site-packages/py4j/java_gateway.py:1712\u001b[0m, in \u001b[0;36mJVMView.__getattr__\u001b[0;34m(self, name)\u001b[0m\n\u001b[1;32m   1709\u001b[0m \u001b[38;5;28;01mif\u001b[39;00m name \u001b[38;5;241m==\u001b[39m UserHelpAutoCompletion\u001b[38;5;241m.\u001b[39mKEY:\n\u001b[1;32m   1710\u001b[0m     \u001b[38;5;28;01mreturn\u001b[39;00m UserHelpAutoCompletion()\n\u001b[0;32m-> 1712\u001b[0m answer \u001b[38;5;241m=\u001b[39m \u001b[38;5;28;43mself\u001b[39;49m\u001b[38;5;241;43m.\u001b[39;49m\u001b[43m_gateway_client\u001b[49m\u001b[38;5;241;43m.\u001b[39;49m\u001b[43msend_command\u001b[49m\u001b[43m(\u001b[49m\n\u001b[1;32m   1713\u001b[0m \u001b[43m    \u001b[49m\u001b[43mproto\u001b[49m\u001b[38;5;241;43m.\u001b[39;49m\u001b[43mREFLECTION_COMMAND_NAME\u001b[49m\u001b[43m \u001b[49m\u001b[38;5;241;43m+\u001b[39;49m\n\u001b[1;32m   1714\u001b[0m \u001b[43m    \u001b[49m\u001b[43mproto\u001b[49m\u001b[38;5;241;43m.\u001b[39;49m\u001b[43mREFL_GET_UNKNOWN_SUB_COMMAND_NAME\u001b[49m\u001b[43m \u001b[49m\u001b[38;5;241;43m+\u001b[39;49m\u001b[43m \u001b[49m\u001b[43mname\u001b[49m\u001b[43m \u001b[49m\u001b[38;5;241;43m+\u001b[39;49m\u001b[43m \u001b[49m\u001b[38;5;124;43m\"\u001b[39;49m\u001b[38;5;130;43;01m\\n\u001b[39;49;00m\u001b[38;5;124;43m\"\u001b[39;49m\u001b[43m \u001b[49m\u001b[38;5;241;43m+\u001b[39;49m\u001b[43m \u001b[49m\u001b[38;5;28;43mself\u001b[39;49m\u001b[38;5;241;43m.\u001b[39;49m\u001b[43m_id\u001b[49m\u001b[43m \u001b[49m\u001b[38;5;241;43m+\u001b[39;49m\n\u001b[1;32m   1715\u001b[0m \u001b[43m    \u001b[49m\u001b[38;5;124;43m\"\u001b[39;49m\u001b[38;5;130;43;01m\\n\u001b[39;49;00m\u001b[38;5;124;43m\"\u001b[39;49m\u001b[43m \u001b[49m\u001b[38;5;241;43m+\u001b[39;49m\u001b[43m \u001b[49m\u001b[43mproto\u001b[49m\u001b[38;5;241;43m.\u001b[39;49m\u001b[43mEND_COMMAND_PART\u001b[49m\u001b[43m)\u001b[49m\n\u001b[1;32m   1716\u001b[0m \u001b[38;5;28;01mif\u001b[39;00m answer \u001b[38;5;241m==\u001b[39m proto\u001b[38;5;241m.\u001b[39mSUCCESS_PACKAGE:\n\u001b[1;32m   1717\u001b[0m     \u001b[38;5;28;01mreturn\u001b[39;00m JavaPackage(name, \u001b[38;5;28mself\u001b[39m\u001b[38;5;241m.\u001b[39m_gateway_client, jvm_id\u001b[38;5;241m=\u001b[39m\u001b[38;5;28mself\u001b[39m\u001b[38;5;241m.\u001b[39m_id)\n",
      "File \u001b[0;32m~/Address-matching/env_address_matching/lib/python3.10/site-packages/py4j/java_gateway.py:1038\u001b[0m, in \u001b[0;36mGatewayClient.send_command\u001b[0;34m(self, command, retry, binary)\u001b[0m\n\u001b[1;32m   1036\u001b[0m connection \u001b[38;5;241m=\u001b[39m \u001b[38;5;28mself\u001b[39m\u001b[38;5;241m.\u001b[39m_get_connection()\n\u001b[1;32m   1037\u001b[0m \u001b[38;5;28;01mtry\u001b[39;00m:\n\u001b[0;32m-> 1038\u001b[0m     response \u001b[38;5;241m=\u001b[39m \u001b[43mconnection\u001b[49m\u001b[38;5;241;43m.\u001b[39;49m\u001b[43msend_command\u001b[49m\u001b[43m(\u001b[49m\u001b[43mcommand\u001b[49m\u001b[43m)\u001b[49m\n\u001b[1;32m   1039\u001b[0m     \u001b[38;5;28;01mif\u001b[39;00m binary:\n\u001b[1;32m   1040\u001b[0m         \u001b[38;5;28;01mreturn\u001b[39;00m response, \u001b[38;5;28mself\u001b[39m\u001b[38;5;241m.\u001b[39m_create_connection_guard(connection)\n",
      "File \u001b[0;32m~/Address-matching/env_address_matching/lib/python3.10/site-packages/py4j/clientserver.py:511\u001b[0m, in \u001b[0;36mClientServerConnection.send_command\u001b[0;34m(self, command)\u001b[0m\n\u001b[1;32m    509\u001b[0m \u001b[38;5;28;01mtry\u001b[39;00m:\n\u001b[1;32m    510\u001b[0m     \u001b[38;5;28;01mwhile\u001b[39;00m \u001b[38;5;28;01mTrue\u001b[39;00m:\n\u001b[0;32m--> 511\u001b[0m         answer \u001b[38;5;241m=\u001b[39m smart_decode(\u001b[38;5;28;43mself\u001b[39;49m\u001b[38;5;241;43m.\u001b[39;49m\u001b[43mstream\u001b[49m\u001b[38;5;241;43m.\u001b[39;49m\u001b[43mreadline\u001b[49m\u001b[43m(\u001b[49m\u001b[43m)\u001b[49m[:\u001b[38;5;241m-\u001b[39m\u001b[38;5;241m1\u001b[39m])\n\u001b[1;32m    512\u001b[0m         logger\u001b[38;5;241m.\u001b[39mdebug(\u001b[38;5;124m\"\u001b[39m\u001b[38;5;124mAnswer received: \u001b[39m\u001b[38;5;132;01m{0}\u001b[39;00m\u001b[38;5;124m\"\u001b[39m\u001b[38;5;241m.\u001b[39mformat(answer))\n\u001b[1;32m    513\u001b[0m         \u001b[38;5;66;03m# Happens when a the other end is dead. There might be an empty\u001b[39;00m\n\u001b[1;32m    514\u001b[0m         \u001b[38;5;66;03m# answer before the socket raises an error.\u001b[39;00m\n",
      "File \u001b[0;32m/usr/lib/python3.10/socket.py:705\u001b[0m, in \u001b[0;36mSocketIO.readinto\u001b[0;34m(self, b)\u001b[0m\n\u001b[1;32m    703\u001b[0m \u001b[38;5;28;01mwhile\u001b[39;00m \u001b[38;5;28;01mTrue\u001b[39;00m:\n\u001b[1;32m    704\u001b[0m     \u001b[38;5;28;01mtry\u001b[39;00m:\n\u001b[0;32m--> 705\u001b[0m         \u001b[38;5;28;01mreturn\u001b[39;00m \u001b[38;5;28;43mself\u001b[39;49m\u001b[38;5;241;43m.\u001b[39;49m\u001b[43m_sock\u001b[49m\u001b[38;5;241;43m.\u001b[39;49m\u001b[43mrecv_into\u001b[49m\u001b[43m(\u001b[49m\u001b[43mb\u001b[49m\u001b[43m)\u001b[49m\n\u001b[1;32m    706\u001b[0m     \u001b[38;5;28;01mexcept\u001b[39;00m timeout:\n\u001b[1;32m    707\u001b[0m         \u001b[38;5;28mself\u001b[39m\u001b[38;5;241m.\u001b[39m_timeout_occurred \u001b[38;5;241m=\u001b[39m \u001b[38;5;28;01mTrue\u001b[39;00m\n",
      "\u001b[0;31mKeyboardInterrupt\u001b[0m: "
     ]
    }
   ],
   "source": [
    "# Obtener una lista de UUID únicos\n",
    "uuids = [fila.uuid_idt for fila in w2v_cosine.select(\"uuid_idt\").distinct().collect()]\n",
    "\n",
    "df2 = word2vec_result.limit(10)\n",
    "# batch_size = 1000\n",
    "# total_rows = df2.count()\n",
    "\n",
    "x = spark.createDataFrame([], \"uuid_idt: string, uuid_idt2: string, direccion: string, direccion2: string, cosine_similarity: float, evaluation: boolean\")\n",
    "\n",
    "for uuid in uuids:\n",
    "  df1 = w2v_cosine.filter(w2v_cosine.uuid_idt == uuid) # 5min: Ralentiza la ejecución porque tiene que filtar 257 mil veces\n",
    "  # Procesar en lotes\n",
    "  \"\"\" for i in range(0, total_rows, batch_size):\n",
    "    # Obtener el rango de filas para el lote actual\n",
    "    start_row = i\n",
    "    end_row = min(i + batch_size, total_rows)\n",
    "    \n",
    "    # Obtener el lote del DataFrame df2\n",
    "    batch_df2 = df2.limit(end_row).subtract(df2.limit(start_row)) \"\"\"\n",
    "    \n",
    "  # joined_df = df2.crossJoin(df1) # 12min\n",
    "\n",
    "  evaluated_word2vec_cosine = calculate_cosine_similarity(df1, df2)\n",
    "  evaluated_word2vec_cosine = filter_3_best(evaluated_word2vec_cosine)\n",
    "  evaluated_word2vec_cosine = evaluated_word2vec_cosine.withColumn(\"evaluation\", evaluated_word2vec_cosine.uuid_idt == evaluated_word2vec_cosine.uuid_idt2)\n",
    "  x.union(evaluated_word2vec_cosine.select(\"uuid_idt\", \"uuid_idt2\", \"direccion\", \"direccion2\", \"cosine_similarity\", \"evaluation\"))\n",
    " \n",
    "  # Calcular la similitud del coseno en el lote actual\n",
    "  # batch_results = joined_df.withColumn(\"cosine_similarity\", cosine_similarity(\"embedding2\", \"embedding\"))\n",
    "\n",
    "\"\"\" uuids = [row.uuid_idt for row in w2v_cosine.select(\"uuid_idt\").distinct().collect()]\n",
    "\n",
    "batches_size = 1000\n",
    "\n",
    "df2 = word2vec_result\n",
    "total_rows = df2.count()\n",
    "\n",
    "for uuid in uuids:\n",
    "  df1 = w2v_cosine.filter(w2v_cosine.uuid_idt == uuid)\n",
    "  for i in range(batches_size):\n",
    "    # Obtener el rango de filas para el lote actual\n",
    "    start_row = i * batches_size\n",
    "    end_row = min((i + 1) * batches_size, total_rows)\n",
    "    \n",
    "    # Obtener el lote del DataFrame df2\n",
    "    batch_df2 = df2.limit(end_row).subtract(df2.limit(start_row))\n",
    "    \n",
    "    # Realizar el join entre los lotes\n",
    "    joined_df = batch_df2.crossJoin(df1)\n",
    "    \n",
    "    # Calcular la similitud del coseno en el lote actual\n",
    "    batch_results = joined_df.withColumn(\"cosine_similarity\", cosine_similarity(\"embedding2\", \"embedding\")) \"\"\"\n",
    "      "
   ]
  },
  {
   "cell_type": "code",
   "execution_count": 7,
   "metadata": {},
   "outputs": [
    {
     "name": "stderr",
     "output_type": "stream",
     "text": [
      "[Stage 7:>                                                          (0 + 1) / 1]\r"
     ]
    },
    {
     "name": "stdout",
     "output_type": "stream",
     "text": [
      "+--------------------+---------+--------------------+-----+------+--------------------+--------------------+--------------------+--------------------+\n",
      "|            uuid_idt|     tvia|                nvia|numer|codmun|              nommun|           direccion|               words|           embedding|\n",
      "+--------------------+---------+--------------------+-----+------+--------------------+--------------------+--------------------+--------------------+\n",
      "|0016535F-03E9-429...|VIVIENDAS|SIROCO CUEVAS BLA...|   21| 38038|Santa Cruz de Ten...|VIVIENDAS SIROCO ...|[viviendas, siroc...|[-0.1428224661697...|\n",
      "|00760F34-E924-418...|  BLOQUES|BRISAMAR III CL A...|    8| 38038|Santa Cruz de Ten...|BLOQUES BRISAMAR ...|[bloques, brisama...|[-0.1585414991714...|\n",
      "|00AB4743-6F76-427...|  ANGOSTA|         CAMINO TRES|   83| 38008|          Breña Alta|ANGOSTA CAMINO TR...|[angosta, camino,...|[-0.0305986578265...|\n",
      "|00EE8A38-3881-449...|    VALLE|              MEXICO|   42| 35034|               Yaiza|AVLLE MEXICO 42 Y...|[avlle, mexico, 4...|[-0.0220695752650...|\n",
      "|0103D93A-4455-496...|       SB|SAN ISIDRO MAJADILLA|   12| 35027|               Teror|SB SAN ISDIRO MAJ...|[sb, san, isdiro,...|[0.06197384931147...|\n",
      "+--------------------+---------+--------------------+-----+------+--------------------+--------------------+--------------------+--------------------+\n",
      "only showing top 5 rows\n",
      "\n"
     ]
    },
    {
     "name": "stderr",
     "output_type": "stream",
     "text": [
      "                                                                                \r"
     ]
    }
   ],
   "source": [
    "word2vec_result.show(5)"
   ]
  },
  {
   "cell_type": "markdown",
   "metadata": {},
   "source": [
    "### MiniLM"
   ]
  },
  {
   "cell_type": "code",
   "execution_count": 30,
   "metadata": {},
   "outputs": [],
   "source": [
    "from sentence_transformers import SentenceTransformer\n",
    "from pyspark.sql.types import ArrayType, FloatType\n",
    "\n",
    "minilm_model = SentenceTransformer(\"all-MiniLM-L6-v2\")\n",
    "\n",
    "def minilm_embedding(direccion):\n",
    "    \"\"\" Calcula el embedding de la direccion dada y lo convierte a una lista para evitar la serelización de Spark \"\"\"\n",
    "    embedding = minilm_model.encode(direccion)\n",
    "    return embedding.tolist()\n",
    "\n",
    "@udf(returnType=ArrayType(FloatType()))\n",
    "def minilm_embedding_udf(direccion):\n",
    "    return minilm_embedding(direccion)\n",
    "\n",
    "minilm_cosine = test_df.withColumn(\"embedding\", minilm_embedding_udf(\"direccion\"))"
   ]
  },
  {
   "cell_type": "code",
   "execution_count": 31,
   "metadata": {},
   "outputs": [],
   "source": [
    "minilm_cosine = minilm_cosine.filter(\"nommun == 'San Cristóbal de La Laguna'\") \n",
    "# Filter\n",
    "minilm_result = minilm_result.filter(\"nommun == 'San Cristóbal de La Laguna'\")"
   ]
  },
  {
   "cell_type": "code",
   "execution_count": null,
   "metadata": {},
   "outputs": [],
   "source": [
    "evaluated_minilm_cosine = calculate_cosine_similarity(minilm_cosine, minilm_result)\n",
    "evaluated_minilm_cosine = filter_3_best(evaluated_minilm_cosine)\n",
    "evaluated_minilm_cosine = evaluated_minilm_cosine.withColumn(\"evaluation\", evaluated_minilm_cosine.uuid_idt == evaluated_minilm_cosine.uuid_idt2)"
   ]
  },
  {
   "cell_type": "code",
   "execution_count": null,
   "metadata": {},
   "outputs": [],
   "source": [
    "print(accertion_ratio(evaluated_minilm_cosine))"
   ]
  },
  {
   "cell_type": "markdown",
   "metadata": {},
   "source": [
    "### GPT"
   ]
  },
  {
   "cell_type": "code",
   "execution_count": 6,
   "metadata": {},
   "outputs": [],
   "source": [
    "from pyspark.sql.types import ArrayType, FloatType\n",
    "from pyspark.sql.functions import udf\n",
    "from openai import OpenAI\n",
    "\n",
    "def get_embedding(text, model=\"text-embedding-3-small\"):\n",
    "    client = OpenAI(api_key=\"***REMOVED***\")\n",
    "    text = text.replace(\"\\n\", \" \")\n",
    "    return client.embeddings.create(input=[text], model=model).data[0].embedding\n",
    "\n",
    "# Definir la función UDF y especificar el tipo de dato de retorno como ArrayType(FloatType())\n",
    "embedding_udf = udf(lambda text: get_embedding(text), ArrayType(FloatType()))\n",
    "\n",
    "# Aplicar la función UDF al DataFrame y crear una nueva columna llamada embeddings\"\n",
    "gpt3_cosine = test_df.withColumn(\"embedding\", embedding_udf(\"direccion\"))"
   ]
  },
  {
   "cell_type": "code",
   "execution_count": 7,
   "metadata": {},
   "outputs": [],
   "source": [
    "gpt3_cosine = gpt3_cosine.filter(\"nommun == 'San Cristóbal de La Laguna'\")\n",
    "gpt3_result = gpt3_result.filter(\"nommun == 'San Cristóbal de La Laguna'\")"
   ]
  },
  {
   "cell_type": "code",
   "execution_count": 14,
   "metadata": {},
   "outputs": [],
   "source": [
    "evaluated_gpt3_cosine = calculate_cosine_similarity(gpt3_cosine, gpt3_result)\n",
    "evaluated_gpt3_cosine = filter_3_best(evaluated_gpt3_cosine)\n",
    "evaluated_gpt3_cosine = evaluated_gpt3_cosine.withColumn(\"evaluation\", evaluated_gpt3_cosine.uuid_idt == evaluated_gpt3_cosine.uuid_idt2)"
   ]
  },
  {
   "cell_type": "code",
   "execution_count": null,
   "metadata": {},
   "outputs": [],
   "source": [
    "evaluated_gpt3_cosine.filter(\"evaluation == 'True'\").count()"
   ]
  },
  {
   "cell_type": "code",
   "execution_count": null,
   "metadata": {},
   "outputs": [],
   "source": [
    "print(accertion_ratio(evaluated_gpt3_cosine))"
   ]
  },
  {
   "cell_type": "markdown",
   "metadata": {},
   "source": [
    "### Chroma DB"
   ]
  },
  {
   "cell_type": "markdown",
   "metadata": {},
   "source": [
    "#### Connect"
   ]
  },
  {
   "cell_type": "code",
   "execution_count": 32,
   "metadata": {},
   "outputs": [],
   "source": [
    "import chromadb\n",
    "\n",
    "# Conéctate al cliente de ChromaDB y crea la colección\n",
    "chroma_client = chromadb.Client()\n",
    "collection = chroma_client.create_collection(name=\"address_matching\")"
   ]
  },
  {
   "cell_type": "code",
   "execution_count": 34,
   "metadata": {},
   "outputs": [],
   "source": [
    "from pyspark.ml.linalg import DenseVector\n",
    "\n",
    "def extract_to_chroma(dataframes):\n",
    "    embeddings = []\n",
    "    documents = []\n",
    "    metadata = []\n",
    "    ids = []\n",
    "    start = 0\n",
    "    \n",
    "    for index in range(len(dataframes)):\n",
    "        type_df = \"test\" if index == 1 else \"train\" \n",
    "        \n",
    "        # Extraer los datos restantes como listas\n",
    "        embeddings_df = dataframes[index].select(\"embedding\").collect()\n",
    "        documents_df = dataframes[index].select(\"direccion\").collect()\n",
    "        metadata_df = dataframes[index].select(\"uuid_idt\").collect()\n",
    "        ids_df = list(range(start, len(embeddings_df) + start))\n",
    "\n",
    "        # print(type(embeddings_df[0].embedding))\n",
    "        # Extraer los embeddings como listas\n",
    "        embeddings_list = []\n",
    "        for row in embeddings_df:\n",
    "            if type(row.embedding) != list:\n",
    "                embeddings_list.append(row.embedding.toArray().tolist())\n",
    "            else:\n",
    "                embeddings_list.append(row.embedding)\n",
    "        embeddings_df = embeddings_list\n",
    "        # embeddings_df = [row.embedding.toArray().tolist() for row in embeddings_df]\n",
    "\n",
    "        # Extraer los documentos como listas\n",
    "        documents_df = [row.direccion for row in documents_df]\n",
    "\n",
    "        # Extraer los metadatos como listas\n",
    "        metadata_df = [{\"uuid_idt\": row.uuid_idt, \"type_df\": type_df} for row in metadata_df]\n",
    "        \n",
    "        ids_df = [str(id_) for id_ in ids_df]\n",
    "\n",
    "        embeddings += embeddings_df\n",
    "        documents += documents_df\n",
    "        metadata += metadata_df\n",
    "        ids += ids_df\n",
    "        start = len(ids_df)\n",
    "\n",
    "    return ids, documents, embeddings, metadata\n",
    "\n",
    "def extract_to_chroma1(dataframe, type_df):\n",
    "    ids = []\n",
    "    documents = []\n",
    "    embeddings = []\n",
    "    metadata = []\n",
    "\n",
    "    # Recopilar los datos del DataFrame\n",
    "    rows = dataframe.select(\"uuid_idt\", \"latitud\", \"longitud\", \"direccion\", \"embedding\").collect()\n",
    "    index = 0\n",
    "    for row in rows:\n",
    "        # Extraer los datos de cada fila\n",
    "        uuid_idt = str(row.uuid_idt)\n",
    "        direccion = str(row.direccion)\n",
    "        embedding = row.embedding.toArray().tolist() if isinstance(row.embedding, DenseVector) else row.embedding\n",
    "\n",
    "        # Agregar los datos a las listas correspondientes\n",
    "        ids.append(str(index))\n",
    "        documents.append(direccion)\n",
    "        embeddings.append(embedding)\n",
    "        metadata.append({\n",
    "            \"uuid_idt\": uuid_idt, \n",
    "            \"latitud\": float(row.latitud),\n",
    "            \"longitud\": float(row.longitud),\n",
    "            \"type_df\": type_df\n",
    "            })\n",
    "        index += 1\n",
    "    return embeddings, documents, metadata, ids \n",
    "\n",
    "\n",
    "def chunk_data(data, chunk_size):\n",
    "    for i in range(0, len(data), chunk_size):\n",
    "        yield data[i:i + chunk_size]"
   ]
  },
  {
   "cell_type": "code",
   "execution_count": null,
   "metadata": {},
   "outputs": [],
   "source": [
    "schema = \"uuid_idt_test: string, \\\n",
    "          latitud_test: float, \\\n",
    "          longitud_test: float, \\\n",
    "          direccion_test: string, \\\n",
    "          uuid_idt_train: string, \\\n",
    "          latitud_train: float, \\\n",
    "          longitud_train: float, \\\n",
    "          direccion_train: string\""
   ]
  },
  {
   "cell_type": "code",
   "execution_count": 78,
   "metadata": {},
   "outputs": [
    {
     "data": {
      "text/plain": [
       "' def extract_data(test_result_collection, train_result_collection):\\n  global evaluated_no_match_dirs\\n  uuid_test_result = test_result_collection[\"metadatas\"][0][\"uuid_idt\"]\\n  latitud_test_result = test_result_collection[\"metadatas\"][0][\"latitud\"]\\n  longitud_test_result = test_result_collection[\"metadatas\"][0][\"longitud\"]\\n  direccion_test_result = test_result_collection[\"documents\"][0]\\n  \\n  test_data = (uuid_test_result, latitud_test_result, longitud_test_result, direccion_test_result)\\n  \\n  train_data = []\\n  for index in range(len(train_result_collection[\"ids\"][0])):\\n    metadata = train_result_collection[\"metadatas\"][0]\\n    uuid_train_result = metadata[index][\"uuid_idt\"]\\n    latitud_train_result = metadata[index][\"latitud\"]\\n    longitud_train_result = metadata[index][\"longitud\"]\\n    direccion_train_result = train_result_collection[\"documents\"][0][index]\\n    \\n    train_data.append((uuid_train_result, latitud_train_result, longitud_train_result, direccion_train_result))\\n\\n  # Creación de DataFrame para cada dato de entrenamiento y unión con el DataFrame del conjunto de prueba\\n  df_rows = [(test_data + result) for result in train_data]\\n  df = spark.createDataFrame(df_rows, schema)\\n  \\n  # Uniones de DataFrames\\n  evaluated_no_match_dirs = evaluated_no_match_dirs.union(df) '"
      ]
     },
     "execution_count": 78,
     "metadata": {},
     "output_type": "execute_result"
    }
   ],
   "source": [
    "def extract_data(test_result_collection, train_result_collection, dataframe):\n",
    "  uuid_test_result = test_result_collection[\"metadatas\"][0][\"uuid_idt\"]\n",
    "  latitud_test_result = test_result_collection[\"metadatas\"][0][\"latitud\"]\n",
    "  longitud_test_result = test_result_collection[\"metadatas\"][0][\"longitud\"]\n",
    "  direccion_test_result = test_result_collection[\"documents\"][0]\n",
    "  test_data = (uuid_test_result, latitud_test_result, longitud_test_result, direccion_test_result)\n",
    "  \n",
    "  train_data = []\n",
    "  for index in range(len(train_result_collection[\"ids\"][0])):\n",
    "    metadata = train_result_collection[\"metadatas\"][0]\n",
    "    uuid_train_result = metadata[index][\"uuid_idt\"]\n",
    "    latitud_train_result = metadata[index][\"latitud\"]\n",
    "    longitud_train_result = metadata[index][\"longitud\"]\n",
    "    direccion_train_result = train_result_collection[\"documents\"][0][index]\n",
    "    \n",
    "    train_data.append((uuid_train_result, latitud_train_result, longitud_train_result, direccion_train_result))\n",
    "\n",
    "  for result in train_data:\n",
    "    temp_df = spark.createDataFrame([test_data + result], schema)\n",
    "    dataframe = dataframe.union(temp_df)\n",
    "  return dataframe\n",
    "\n",
    "\"\"\" def extract_data(test_result_collection, train_result_collection):\n",
    "  global evaluated_no_match_dirs\n",
    "  uuid_test_result = test_result_collection[\"metadatas\"][0][\"uuid_idt\"]\n",
    "  latitud_test_result = test_result_collection[\"metadatas\"][0][\"latitud\"]\n",
    "  longitud_test_result = test_result_collection[\"metadatas\"][0][\"longitud\"]\n",
    "  direccion_test_result = test_result_collection[\"documents\"][0]\n",
    "  \n",
    "  test_data = (uuid_test_result, latitud_test_result, longitud_test_result, direccion_test_result)\n",
    "  \n",
    "  train_data = []\n",
    "  for index in range(len(train_result_collection[\"ids\"][0])):\n",
    "    metadata = train_result_collection[\"metadatas\"][0]\n",
    "    uuid_train_result = metadata[index][\"uuid_idt\"]\n",
    "    latitud_train_result = metadata[index][\"latitud\"]\n",
    "    longitud_train_result = metadata[index][\"longitud\"]\n",
    "    direccion_train_result = train_result_collection[\"documents\"][0][index]\n",
    "    \n",
    "    train_data.append((uuid_train_result, latitud_train_result, longitud_train_result, direccion_train_result))\n",
    "\n",
    "  # Creación de DataFrame para cada dato de entrenamiento y unión con el DataFrame del conjunto de prueba\n",
    "  df_rows = [(test_data + result) for result in train_data]\n",
    "  df = spark.createDataFrame(df_rows, schema)\n",
    "  \n",
    "  # Uniones de DataFrames\n",
    "  evaluated_no_match_dirs = evaluated_no_match_dirs.union(df) \"\"\""
   ]
  },
  {
   "cell_type": "code",
   "execution_count": 60,
   "metadata": {},
   "outputs": [],
   "source": [
    "def evaluation(collection_test, collection_train, max_id):\n",
    "  evaluated_dirs = spark.createDataFrame([], schema)\n",
    "  \n",
    "  counter = 0\n",
    "  match = 0\n",
    "  no_match = 0\n",
    "\n",
    "  while counter < max_id:\n",
    "    # Select from test df\n",
    "    result = collection_test.get(\n",
    "      ids=[str(counter)],\n",
    "      include=[\"embeddings\", \"metadatas\", \"documents\"]\n",
    "    )\n",
    "\n",
    "    # print(result)\n",
    "    # print(result[\"embeddings\"][0])\n",
    "    # print(result[\"metadatas\"][0][\"uuid_idt\"])\n",
    "    \n",
    "    # Embedding and uuid from test df\n",
    "    embedding_to_evaluate = result[\"embeddings\"][0]\n",
    "    uuid_to_evaluate = result[\"metadatas\"][0][\"uuid_idt\"]\n",
    "\n",
    "    # Generate best similarities\n",
    "    results_similarities = collection_train.query(\n",
    "      query_embeddings=[embedding_to_evaluate],\n",
    "      n_results=3\n",
    "    )\n",
    "\n",
    "    best_uuids = [u[\"uuid_idt\"] for i in results_similarities[\"metadatas\"] for u in i]\n",
    "    # print(best_uuids)\n",
    "\n",
    "    # print(result)\n",
    "    # print(\"--------\")\n",
    "    # print(results_similarities, \"\\n\")\n",
    "    if uuid_to_evaluate in best_uuids:\n",
    "      match+=1\n",
    "    else:\n",
    "      no_match+=1\n",
    "      \n",
    "    if match <= 100 and no_match <= 100:\n",
    "      evaluated_dirs = extract_data(result, results_similarities, evaluated_dirs)\n",
    "    counter+=1\n",
    "  return match, no_match, evaluated_dirs"
   ]
  },
  {
   "cell_type": "code",
   "execution_count": 39,
   "metadata": {},
   "outputs": [],
   "source": [
    "def add_to_collection(collection, embeddings_list, documents_list, metadata_list, ids_list):\n",
    "  # Define el tamaño del lote\n",
    "  batch_size = 41666\n",
    "\n",
    "  # Divide tus datos en lotes más pequeños\n",
    "  embeddings_chunks = list(chunk_data(embeddings_list, batch_size))\n",
    "  documents_chunks = list(chunk_data(documents_list, batch_size))\n",
    "  metadata_chunks = list(chunk_data(metadata_list, batch_size))\n",
    "  ids_chunks = list(chunk_data(ids_list, batch_size))\n",
    "\n",
    "  # Agrega cada lote por separado a la colección\n",
    "  for embeddings, documents, metadata, ids in zip(embeddings_chunks, documents_chunks, metadata_chunks, ids_chunks):\n",
    "      collection.add(embeddings=embeddings, documents=documents, metadatas=metadata, ids=ids)"
   ]
  },
  {
   "cell_type": "markdown",
   "metadata": {},
   "source": [
    "#### Word2Vec"
   ]
  },
  {
   "cell_type": "code",
   "execution_count": 12,
   "metadata": {},
   "outputs": [
    {
     "name": "stderr",
     "output_type": "stream",
     "text": [
      "                                                                                \r"
     ]
    }
   ],
   "source": [
    "ids_list, documents_list, embeddings_list, metadata_list = extract_to_chroma1(w2v_cosine, \"test\")\n",
    "collection_test_w2v = chroma_client.create_collection(name=\"test_df_w2v\")\n",
    "add_to_collection(collection_test_w2v, ids_list, documents_list, embeddings_list, metadata_list) # ?min"
   ]
  },
  {
   "cell_type": "code",
   "execution_count": 13,
   "metadata": {},
   "outputs": [
    {
     "name": "stderr",
     "output_type": "stream",
     "text": [
      "                                                                                \r"
     ]
    }
   ],
   "source": [
    "ids_list, documents_list, embeddings_list, metadata_list = extract_to_chroma1(word2vec_result, \"train\")\n",
    "collection_train_w2v = chroma_client.create_collection(name=\"train_df_w2v\")\n",
    "add_to_collection(collection_train_w2v, ids_list, documents_list, embeddings_list, metadata_list) # 21min"
   ]
  },
  {
   "cell_type": "code",
   "execution_count": 29,
   "metadata": {},
   "outputs": [
    {
     "name": "stdout",
     "output_type": "stream",
     "text": [
      "15841 67160\n"
     ]
    }
   ],
   "source": [
    "match, no_match = evaluation(collection_test_w2v, collection_train_w2v, w2v_cosine.count() - 1)\n",
    "print(match, no_match)"
   ]
  },
  {
   "cell_type": "code",
   "execution_count": null,
   "metadata": {},
   "outputs": [
    {
     "name": "stdout",
     "output_type": "stream",
     "text": [
      "{'ids': [['90351', '33999', '130209', '91576', '140145']], 'distances': [[0.0, 0.19808949530124664, 0.20216217637062073, 0.20269343256950378, 0.22468826174736023]], 'metadatas': [[{'hnsw:space': 'cosine', 'type': 'test', 'uuid_idt': '6BD93CCB-3251-11E8-9BFD-480FCF5217B3'}, {'hnsw:space': 'cosine', 'type': 'train', 'uuid_idt': '683E27B8-3251-11E8-B413-480FCF5217B3'}, {'hnsw:space': 'cosine', 'type': 'test', 'uuid_idt': '6091C9B3-3251-11E8-BB6A-480FCF5217B3'}, {'hnsw:space': 'cosine', 'type': 'test', 'uuid_idt': '737D7422-1C73-476A-815F-292B1C2C11DD'}, {'hnsw:space': 'cosine', 'type': 'test', 'uuid_idt': '6273B1E0-3251-11E8-A556-480FCF5217B3'}]], 'embeddings': None, 'documents': [['CAMIN BOQUERON VALEL GUERRA 189 SAN CRISTOBAL DE LA LAGUNA', 'CG CARRETERA BOQUERON VALEL GUERRA 29 SAN CRISTOBAL DE LA LAGUNA', 'EXTRARRADIO VINO AVLLE GUERRA 357 SAN CRISTOBAL DE LA LAGUNA', 'DEIF BOQUERON VALLE GUERRA 85 SAN CRISTOBAL DE LA LAGUNA', 'CALLE BOQUERON VALLE GUERRA 214 SAN CRISTOBAL DE LA LAGUNA']], 'uris': None, 'data': None}\n"
     ]
    },
    {
     "data": {
      "text/plain": [
       "' # print(uuids)\\nif u1 in uuids:\\n  yes+=1\\n  print(result)\\n  print(\"--------\")\\n  print(results_q)\\nelse:\\n  no+=1\\ncounter+=1\\n\\nprint(yes)\\nprint(no) '"
      ]
     },
     "metadata": {},
     "output_type": "display_data"
    }
   ],
   "source": [
    "\"\"\" max_id = w2v_cosine.count() + word2vec_result.count() - 1\n",
    "counter = w2v_cosine.count()\n",
    "yes = 0\n",
    "no = 0\n",
    "while counter < max_id:\n",
    "  # Select from train df\n",
    "  result = collection.get(\n",
    "    ids=[str(counter)],\n",
    "    include=[\"embeddings\", \"metadatas\", \"documents\"]\n",
    "  )\n",
    "\n",
    "  # print(result)\n",
    "  # print(result[\"embeddings\"][0])\n",
    "  # print(result[\"metadatas\"][0][\"uuid_idt\"])\n",
    "  \n",
    "  # Embedding from train df\n",
    "  e1 = result[\"embeddings\"][0]\n",
    "  u1 = result[\"metadatas\"][0][\"uuid_idt\"]\n",
    "\n",
    "  # Generate best similarities\n",
    "  # TODO: filtrar antes por aquellos embeddings que son de \"train\"\n",
    "  results_q = collection.query(\n",
    "    query_embeddings=[e1],\n",
    "    n_results=2,\n",
    "  )\n",
    "\n",
    "  uuids = [u[\"uuid_idt\"] for i in results_q[\"metadatas\"] for u in i]\n",
    "  # print(uuids)\n",
    "\n",
    "  if u1 in uuids:\n",
    "    yes+=1\n",
    "    print(result)\n",
    "    print(\"--------\")\n",
    "    print(results_q)\n",
    "  else:\n",
    "    no+=1\n",
    "  counter+=1\n",
    "\n",
    "print(yes)\n",
    "print(no) \"\"\""
   ]
  },
  {
   "cell_type": "code",
   "execution_count": null,
   "metadata": {},
   "outputs": [],
   "source": [
    "from pyspark.sql.functions import col\n",
    "\n",
    "# Función para procesar cada ID en paralelo\n",
    "def process_id(id):\n",
    "    result = collection.get(\n",
    "        ids=[str(id)],\n",
    "        include=[\"embeddings\", \"metadatas\", \"documents\"]\n",
    "    )\n",
    "    e1 = result[\"embeddings\"][0]\n",
    "    u1 = result[\"metadatas\"][0][\"uuid_idt\"]\n",
    "\n",
    "    # Generar mejores similitudes en el conjunto de datos de entrenamiento\n",
    "    results_q = collection.query(\n",
    "        query_embeddings=[e1],\n",
    "        n_results=2,\n",
    "        where={\"type\": \"train\"}\n",
    "    )\n",
    "    uuids = [u[\"uuid_idt\"] for i in results_q[\"metadatas\"] for u in i]\n",
    "    return u1 in uuids\n",
    "\n",
    "# Crear un rango de IDs para procesar\n",
    "max_id = w2v_cosine.count() - 1\n",
    "ids_range = range(max_id)\n",
    "\n",
    "# Convertir el rango de IDs en un DataFrame de Spark\n",
    "ids_df = spark.createDataFrame(ids_range, \"id\")\n",
    "\n",
    "# Aplicar la función de procesamiento a cada ID en paralelo utilizando Spark\n",
    "results_df = ids_df.select(\"id\").withColumn(\"match\", process_id(col(\"id\")))\n",
    "\n",
    "# Contar los resultados positivos y negativos\n",
    "yes_count = results_df.filter(results_df[\"match\"] == True).count()\n",
    "no_count = results_df.filter(results_df[\"match\"] == False).count()\n",
    "\n",
    "print(\"Yes count:\", yes_count)\n",
    "print(\"No count:\", no_count)"
   ]
  },
  {
   "cell_type": "markdown",
   "metadata": {},
   "source": [
    "#### GPT"
   ]
  },
  {
   "cell_type": "code",
   "execution_count": null,
   "metadata": {},
   "outputs": [],
   "source": [
    "ids_list, documents_list, embeddings_list, metadata_list = extract_to_chroma([gpt3_cosine, gpt3_result])"
   ]
  },
  {
   "cell_type": "code",
   "execution_count": 18,
   "metadata": {},
   "outputs": [
    {
     "name": "stderr",
     "output_type": "stream",
     "text": [
      "ERROR:root:KeyboardInterrupt while sending command.][Stage 6:>    (0 + 0) / 9]\n",
      "Traceback (most recent call last):\n",
      "  File \"/home/usuario/Address-matching/env_address_matching/lib/python3.10/site-packages/py4j/java_gateway.py\", line 1038, in send_command\n",
      "    response = connection.send_command(command)\n",
      "  File \"/home/usuario/Address-matching/env_address_matching/lib/python3.10/site-packages/py4j/clientserver.py\", line 511, in send_command\n",
      "    answer = smart_decode(self.stream.readline()[:-1])\n",
      "  File \"/usr/lib/python3.10/socket.py\", line 705, in readinto\n",
      "    return self._sock.recv_into(b)\n",
      "KeyboardInterrupt\n"
     ]
    },
    {
     "ename": "KeyboardInterrupt",
     "evalue": "",
     "output_type": "error",
     "traceback": [
      "\u001b[0;31m---------------------------------------------------------------------------\u001b[0m",
      "\u001b[0;31mKeyboardInterrupt\u001b[0m                         Traceback (most recent call last)",
      "Cell \u001b[0;32mIn[18], line 1\u001b[0m\n\u001b[0;32m----> 1\u001b[0m ids_list, documents_list, embeddings_list, metadata_list \u001b[38;5;241m=\u001b[39m \u001b[43mextract_to_chroma1\u001b[49m\u001b[43m(\u001b[49m\u001b[43mgpt3_cosine\u001b[49m\u001b[43m,\u001b[49m\u001b[43m \u001b[49m\u001b[38;5;124;43m\"\u001b[39;49m\u001b[38;5;124;43mtest\u001b[39;49m\u001b[38;5;124;43m\"\u001b[39;49m\u001b[43m)\u001b[49m\n\u001b[1;32m      2\u001b[0m collection_test_gpt \u001b[38;5;241m=\u001b[39m chroma_client\u001b[38;5;241m.\u001b[39mcreate_collection(name\u001b[38;5;241m=\u001b[39m\u001b[38;5;124m\"\u001b[39m\u001b[38;5;124mtest_df\u001b[39m\u001b[38;5;124m\"\u001b[39m)\n\u001b[1;32m      3\u001b[0m add_to_collection(collection_test_gpt, ids_list, documents_list, embeddings_list, metadata_list) \u001b[38;5;66;03m# xmin\u001b[39;00m\n",
      "Cell \u001b[0;32mIn[6], line 53\u001b[0m, in \u001b[0;36mextract_to_chroma1\u001b[0;34m(dataframe, type_df)\u001b[0m\n\u001b[1;32m     50\u001b[0m metadata \u001b[38;5;241m=\u001b[39m []\n\u001b[1;32m     52\u001b[0m \u001b[38;5;66;03m# Recopilar los datos del DataFrame\u001b[39;00m\n\u001b[0;32m---> 53\u001b[0m rows \u001b[38;5;241m=\u001b[39m \u001b[43mdataframe\u001b[49m\u001b[38;5;241;43m.\u001b[39;49m\u001b[43mselect\u001b[49m\u001b[43m(\u001b[49m\u001b[38;5;124;43m\"\u001b[39;49m\u001b[38;5;124;43muuid_idt\u001b[39;49m\u001b[38;5;124;43m\"\u001b[39;49m\u001b[43m,\u001b[49m\u001b[43m \u001b[49m\u001b[38;5;124;43m\"\u001b[39;49m\u001b[38;5;124;43mdireccion\u001b[39;49m\u001b[38;5;124;43m\"\u001b[39;49m\u001b[43m,\u001b[49m\u001b[43m \u001b[49m\u001b[38;5;124;43m\"\u001b[39;49m\u001b[38;5;124;43membedding\u001b[39;49m\u001b[38;5;124;43m\"\u001b[39;49m\u001b[43m)\u001b[49m\u001b[38;5;241;43m.\u001b[39;49m\u001b[43mcollect\u001b[49m\u001b[43m(\u001b[49m\u001b[43m)\u001b[49m\n\u001b[1;32m     54\u001b[0m index \u001b[38;5;241m=\u001b[39m \u001b[38;5;241m0\u001b[39m\n\u001b[1;32m     55\u001b[0m \u001b[38;5;28;01mfor\u001b[39;00m row \u001b[38;5;129;01min\u001b[39;00m rows:\n\u001b[1;32m     56\u001b[0m     \u001b[38;5;66;03m# Extraer los datos de cada fila\u001b[39;00m\n",
      "File \u001b[0;32m~/Address-matching/env_address_matching/lib/python3.10/site-packages/pyspark/sql/dataframe.py:1261\u001b[0m, in \u001b[0;36mDataFrame.collect\u001b[0;34m(self)\u001b[0m\n\u001b[1;32m   1241\u001b[0m \u001b[38;5;250m\u001b[39m\u001b[38;5;124;03m\"\"\"Returns all the records as a list of :class:`Row`.\u001b[39;00m\n\u001b[1;32m   1242\u001b[0m \n\u001b[1;32m   1243\u001b[0m \u001b[38;5;124;03m.. versionadded:: 1.3.0\u001b[39;00m\n\u001b[0;32m   (...)\u001b[0m\n\u001b[1;32m   1258\u001b[0m \u001b[38;5;124;03m[Row(age=14, name='Tom'), Row(age=23, name='Alice'), Row(age=16, name='Bob')]\u001b[39;00m\n\u001b[1;32m   1259\u001b[0m \u001b[38;5;124;03m\"\"\"\u001b[39;00m\n\u001b[1;32m   1260\u001b[0m \u001b[38;5;28;01mwith\u001b[39;00m SCCallSiteSync(\u001b[38;5;28mself\u001b[39m\u001b[38;5;241m.\u001b[39m_sc):\n\u001b[0;32m-> 1261\u001b[0m     sock_info \u001b[38;5;241m=\u001b[39m \u001b[38;5;28;43mself\u001b[39;49m\u001b[38;5;241;43m.\u001b[39;49m\u001b[43m_jdf\u001b[49m\u001b[38;5;241;43m.\u001b[39;49m\u001b[43mcollectToPython\u001b[49m\u001b[43m(\u001b[49m\u001b[43m)\u001b[49m\n\u001b[1;32m   1262\u001b[0m \u001b[38;5;28;01mreturn\u001b[39;00m \u001b[38;5;28mlist\u001b[39m(_load_from_socket(sock_info, BatchedSerializer(CPickleSerializer())))\n",
      "File \u001b[0;32m~/Address-matching/env_address_matching/lib/python3.10/site-packages/py4j/java_gateway.py:1321\u001b[0m, in \u001b[0;36mJavaMember.__call__\u001b[0;34m(self, *args)\u001b[0m\n\u001b[1;32m   1314\u001b[0m args_command, temp_args \u001b[38;5;241m=\u001b[39m \u001b[38;5;28mself\u001b[39m\u001b[38;5;241m.\u001b[39m_build_args(\u001b[38;5;241m*\u001b[39margs)\n\u001b[1;32m   1316\u001b[0m command \u001b[38;5;241m=\u001b[39m proto\u001b[38;5;241m.\u001b[39mCALL_COMMAND_NAME \u001b[38;5;241m+\u001b[39m\\\n\u001b[1;32m   1317\u001b[0m     \u001b[38;5;28mself\u001b[39m\u001b[38;5;241m.\u001b[39mcommand_header \u001b[38;5;241m+\u001b[39m\\\n\u001b[1;32m   1318\u001b[0m     args_command \u001b[38;5;241m+\u001b[39m\\\n\u001b[1;32m   1319\u001b[0m     proto\u001b[38;5;241m.\u001b[39mEND_COMMAND_PART\n\u001b[0;32m-> 1321\u001b[0m answer \u001b[38;5;241m=\u001b[39m \u001b[38;5;28;43mself\u001b[39;49m\u001b[38;5;241;43m.\u001b[39;49m\u001b[43mgateway_client\u001b[49m\u001b[38;5;241;43m.\u001b[39;49m\u001b[43msend_command\u001b[49m\u001b[43m(\u001b[49m\u001b[43mcommand\u001b[49m\u001b[43m)\u001b[49m\n\u001b[1;32m   1322\u001b[0m return_value \u001b[38;5;241m=\u001b[39m get_return_value(\n\u001b[1;32m   1323\u001b[0m     answer, \u001b[38;5;28mself\u001b[39m\u001b[38;5;241m.\u001b[39mgateway_client, \u001b[38;5;28mself\u001b[39m\u001b[38;5;241m.\u001b[39mtarget_id, \u001b[38;5;28mself\u001b[39m\u001b[38;5;241m.\u001b[39mname)\n\u001b[1;32m   1325\u001b[0m \u001b[38;5;28;01mfor\u001b[39;00m temp_arg \u001b[38;5;129;01min\u001b[39;00m temp_args:\n",
      "File \u001b[0;32m~/Address-matching/env_address_matching/lib/python3.10/site-packages/py4j/java_gateway.py:1038\u001b[0m, in \u001b[0;36mGatewayClient.send_command\u001b[0;34m(self, command, retry, binary)\u001b[0m\n\u001b[1;32m   1036\u001b[0m connection \u001b[38;5;241m=\u001b[39m \u001b[38;5;28mself\u001b[39m\u001b[38;5;241m.\u001b[39m_get_connection()\n\u001b[1;32m   1037\u001b[0m \u001b[38;5;28;01mtry\u001b[39;00m:\n\u001b[0;32m-> 1038\u001b[0m     response \u001b[38;5;241m=\u001b[39m \u001b[43mconnection\u001b[49m\u001b[38;5;241;43m.\u001b[39;49m\u001b[43msend_command\u001b[49m\u001b[43m(\u001b[49m\u001b[43mcommand\u001b[49m\u001b[43m)\u001b[49m\n\u001b[1;32m   1039\u001b[0m     \u001b[38;5;28;01mif\u001b[39;00m binary:\n\u001b[1;32m   1040\u001b[0m         \u001b[38;5;28;01mreturn\u001b[39;00m response, \u001b[38;5;28mself\u001b[39m\u001b[38;5;241m.\u001b[39m_create_connection_guard(connection)\n",
      "File \u001b[0;32m~/Address-matching/env_address_matching/lib/python3.10/site-packages/py4j/clientserver.py:511\u001b[0m, in \u001b[0;36mClientServerConnection.send_command\u001b[0;34m(self, command)\u001b[0m\n\u001b[1;32m    509\u001b[0m \u001b[38;5;28;01mtry\u001b[39;00m:\n\u001b[1;32m    510\u001b[0m     \u001b[38;5;28;01mwhile\u001b[39;00m \u001b[38;5;28;01mTrue\u001b[39;00m:\n\u001b[0;32m--> 511\u001b[0m         answer \u001b[38;5;241m=\u001b[39m smart_decode(\u001b[38;5;28;43mself\u001b[39;49m\u001b[38;5;241;43m.\u001b[39;49m\u001b[43mstream\u001b[49m\u001b[38;5;241;43m.\u001b[39;49m\u001b[43mreadline\u001b[49m\u001b[43m(\u001b[49m\u001b[43m)\u001b[49m[:\u001b[38;5;241m-\u001b[39m\u001b[38;5;241m1\u001b[39m])\n\u001b[1;32m    512\u001b[0m         logger\u001b[38;5;241m.\u001b[39mdebug(\u001b[38;5;124m\"\u001b[39m\u001b[38;5;124mAnswer received: \u001b[39m\u001b[38;5;132;01m{0}\u001b[39;00m\u001b[38;5;124m\"\u001b[39m\u001b[38;5;241m.\u001b[39mformat(answer))\n\u001b[1;32m    513\u001b[0m         \u001b[38;5;66;03m# Happens when a the other end is dead. There might be an empty\u001b[39;00m\n\u001b[1;32m    514\u001b[0m         \u001b[38;5;66;03m# answer before the socket raises an error.\u001b[39;00m\n",
      "File \u001b[0;32m/usr/lib/python3.10/socket.py:705\u001b[0m, in \u001b[0;36mSocketIO.readinto\u001b[0;34m(self, b)\u001b[0m\n\u001b[1;32m    703\u001b[0m \u001b[38;5;28;01mwhile\u001b[39;00m \u001b[38;5;28;01mTrue\u001b[39;00m:\n\u001b[1;32m    704\u001b[0m     \u001b[38;5;28;01mtry\u001b[39;00m:\n\u001b[0;32m--> 705\u001b[0m         \u001b[38;5;28;01mreturn\u001b[39;00m \u001b[38;5;28;43mself\u001b[39;49m\u001b[38;5;241;43m.\u001b[39;49m\u001b[43m_sock\u001b[49m\u001b[38;5;241;43m.\u001b[39;49m\u001b[43mrecv_into\u001b[49m\u001b[43m(\u001b[49m\u001b[43mb\u001b[49m\u001b[43m)\u001b[49m\n\u001b[1;32m    706\u001b[0m     \u001b[38;5;28;01mexcept\u001b[39;00m timeout:\n\u001b[1;32m    707\u001b[0m         \u001b[38;5;28mself\u001b[39m\u001b[38;5;241m.\u001b[39m_timeout_occurred \u001b[38;5;241m=\u001b[39m \u001b[38;5;28;01mTrue\u001b[39;00m\n",
      "\u001b[0;31mKeyboardInterrupt\u001b[0m: "
     ]
    }
   ],
   "source": [
    "ids_list, documents_list, embeddings_list, metadata_list = extract_to_chroma1(gpt3_cosine, \"test\")\n",
    "collection_test_gpt = chroma_client.create_collection(name=\"test_df\")\n",
    "add_to_collection(collection_test_gpt, ids_list, documents_list, embeddings_list, metadata_list) # xmin"
   ]
  },
  {
   "cell_type": "code",
   "execution_count": null,
   "metadata": {},
   "outputs": [],
   "source": [
    "ids_list, documents_list, embeddings_list, metadata_list = extract_to_chroma1(gpt3_result, \"train\")\n",
    "collection_train_gpt = chroma_client.create_collection(name=\"train_df\")\n",
    "add_to_collection(collection_train_gpt, ids_list, documents_list, embeddings_list, metadata_list) # xmin"
   ]
  },
  {
   "cell_type": "code",
   "execution_count": null,
   "metadata": {},
   "outputs": [],
   "source": [
    "match, no_match = evaluation(collection_test_gpt, collection_train_gpt, w2v_cosine.count() - 1)\n",
    "print(match, no_match)"
   ]
  },
  {
   "cell_type": "markdown",
   "metadata": {},
   "source": [
    "#### MiniLLM"
   ]
  },
  {
   "cell_type": "code",
   "execution_count": 37,
   "metadata": {},
   "outputs": [
    {
     "name": "stderr",
     "output_type": "stream",
     "text": [
      "24/04/27 08:54:13 WARN DAGScheduler: Broadcasting large task binary with size 28.1 MiB\n",
      "                                                                                \r"
     ]
    },
    {
     "name": "stdout",
     "output_type": "stream",
     "text": [
      "169772\n"
     ]
    },
    {
     "name": "stderr",
     "output_type": "stream",
     "text": [
      "24/04/27 08:54:40 WARN DAGScheduler: Broadcasting large task binary with size 28.1 MiB\n",
      "24/04/27 08:55:05 WARN DAGScheduler: Broadcasting large task binary with size 28.2 MiB\n",
      "24/04/27 08:55:13 WARN DAGScheduler: Broadcasting large task binary with size 28.2 MiB\n",
      "[Stage 1032:=======>                                                (1 + 7) / 8]\r"
     ]
    },
    {
     "name": "stdout",
     "output_type": "stream",
     "text": [
      "82891\n"
     ]
    },
    {
     "name": "stderr",
     "output_type": "stream",
     "text": [
      "                                                                                \r"
     ]
    }
   ],
   "source": [
    "print(minilm_result.count())\n",
    "print(minilm_cosine.count())"
   ]
  },
  {
   "cell_type": "code",
   "execution_count": 59,
   "metadata": {},
   "outputs": [],
   "source": [
    "chroma_client.delete_collection(\"test_df_minilm\")\n",
    "chroma_client.delete_collection(\"train_df_minilm\")"
   ]
  },
  {
   "cell_type": "code",
   "execution_count": null,
   "metadata": {},
   "outputs": [],
   "source": [
    "embeddings_list, documents_list, metadata_list, ids_list = extract_to_chroma1(minilm_cosine, \"test\")\n",
    "collection_test_minilm = chroma_client.create_collection(name=\"test_df_minilm\")\n",
    "add_to_collection(collection_test_minilm, embeddings_list, documents_list, metadata_list, ids_list) # 10min"
   ]
  },
  {
   "cell_type": "code",
   "execution_count": 54,
   "metadata": {},
   "outputs": [
    {
     "name": "stdout",
     "output_type": "stream",
     "text": [
      "{'ids': ['0'], 'embeddings': None, 'metadatas': [{'latitud': 28.48819, 'longitud': -16.28094, 'type_df': 'test', 'uuid_idt': '000C72C6-F85F-4FB3-81AA-407BAEAF922B'}], 'documents': ['CALLE CABEZADA VALLE JIMENEZ 24 SAN CRISTOBAL DE LA LAGUNA'], 'uris': None, 'data': None}\n"
     ]
    }
   ],
   "source": [
    "result = collection_test_minilm.get(\n",
    "      ids=['0'],\n",
    "      include=[\"metadatas\", \"documents\"]\n",
    "    )\n",
    "\n",
    "print(result)\n",
    "# minilm_cosine.filter(\"uuid_idt == '000C72C6-F85F-4FB3-81AA-407BAEAF922B'\").show()"
   ]
  },
  {
   "cell_type": "code",
   "execution_count": 41,
   "metadata": {},
   "outputs": [
    {
     "name": "stderr",
     "output_type": "stream",
     "text": [
      "24/04/27 09:29:06 WARN DAGScheduler: Broadcasting large task binary with size 28.1 MiB\n",
      "                                                                                \r"
     ]
    }
   ],
   "source": [
    "embeddings_list, documents_list, metadata_list, ids_list = extract_to_chroma1(minilm_result, \"train\")\n",
    "collection_train_minilm = chroma_client.create_collection(name=\"train_df_minilm\")\n",
    "add_to_collection(collection_train_minilm, embeddings_list, documents_list, metadata_list, ids_list) # 21min"
   ]
  },
  {
   "cell_type": "code",
   "execution_count": 61,
   "metadata": {},
   "outputs": [
    {
     "name": "stderr",
     "output_type": "stream",
     "text": [
      "24/04/27 19:19:37 WARN DAGScheduler: Broadcasting large task binary with size 28.1 MiB\n",
      "24/04/27 19:20:08 WARN DAGScheduler: Broadcasting large task binary with size 28.2 MiB\n",
      "24/04/27 19:20:16 WARN DAGScheduler: Broadcasting large task binary with size 28.2 MiB\n",
      "                                                                                \r"
     ]
    },
    {
     "name": "stdout",
     "output_type": "stream",
     "text": [
      "37913 44972\n"
     ]
    }
   ],
   "source": [
    "match, no_match, evaluated_dirs = evaluation(collection_test_minilm, collection_train_minilm, minilm_cosine.count() - 1)\n",
    "print(match, no_match)"
   ]
  },
  {
   "cell_type": "code",
   "execution_count": 62,
   "metadata": {},
   "outputs": [
    {
     "name": "stderr",
     "output_type": "stream",
     "text": [
      "24/04/27 19:23:57 WARN DAGScheduler: Broadcasting large task binary with size 2.7 MiB\n",
      "24/04/27 19:23:58 WARN DAGScheduler: Broadcasting large task binary with size 2.7 MiB\n",
      "24/04/27 19:23:58 WARN DAGScheduler: Broadcasting large task binary with size 2.7 MiB\n",
      "24/04/27 19:23:59 WARN DAGScheduler: Broadcasting large task binary with size 2.7 MiB\n",
      "24/04/27 19:24:04 WARN DAGScheduler: Broadcasting large task binary with size 2.7 MiB\n",
      "[Stage 1502:==================================================>   (88 + 6) / 94]\r"
     ]
    },
    {
     "name": "stdout",
     "output_type": "stream",
     "text": [
      "+------------------------------------+------------+-------------+--------------------------------------------------------------+------------------------------------+-------------+--------------+--------------------------------------------------------------+\n",
      "|uuid_idt_test                       |latitud_test|longitud_test|direccion_test                                                |uuid_idt_train                      |latitud_train|longitud_train|direccion_train                                               |\n",
      "+------------------------------------+------------+-------------+--------------------------------------------------------------+------------------------------------+-------------+--------------+--------------------------------------------------------------+\n",
      "|000C72C6-F85F-4FB3-81AA-407BAEAF922B|28.48819    |-16.28094    |CALLE CABEZADA VALLE JIMENEZ 24 SAN CRISTOBAL DE LA LAGUNA    |000C72C6-F85F-4FB3-81AA-407BAEAF922B|28.48819     |-16.28094     |CALLE CABEZADA VALLE JIMENEZ 24 SAN CRISTOBAL DE LA LAGUNA    |\n",
      "|000C72C6-F85F-4FB3-81AA-407BAEAF922B|28.48819    |-16.28094    |CALLE CABEZADA VALLE JIMENEZ 24 SAN CRISTOBAL DE LA LAGUNA    |D42B9A37-B001-11EB-AAC4-C5AAA44A5E49|28.48807     |-16.28069     |CALLE CABEZADA VALLE JIMENEZ 14 SAN CRISTOBAL DE LA LAGUNA    |\n",
      "|000C72C6-F85F-4FB3-81AA-407BAEAF922B|28.48819    |-16.28094    |CALLE CABEZADA VALLE JIMENEZ 24 SAN CRISTOBAL DE LA LAGUNA    |F8D2321C-86E0-11EA-AB71-7FEF9DA0C175|28.48956     |-16.28162     |CALLE CABEZADAS VALLE JIMENEZ 11 SAN CRISTOBAL DE LA LAGUNA   |\n",
      "|5F739B93-3251-11E8-8743-480FCF5217B3|28.471312   |-16.320879   |CAMINO FERIA TRASERA S FCO PAULA 45 SAN CRISTOBAL DE LA LAGUNA|5F739B93-3251-11E8-8743-480FCF5217B3|28.471312    |-16.320879    |CAMINO FERIA TRASERA S FCO PAULA 45 SAN CRISTOBAL DE LA LAGUNA|\n",
      "|5F739B93-3251-11E8-8743-480FCF5217B3|28.471312   |-16.320879   |CAMINO FERIA TRASERA S FCO PAULA 45 SAN CRISTOBAL DE LA LAGUNA|5F739B93-3251-11E8-8743-480FCF5217B3|28.471312    |-16.320879    |CAMINO FERIA TRASERA S FCO PAULA 21 SAN CRISTOBAL DE LA LAGUNA|\n",
      "|5F739B93-3251-11E8-8743-480FCF5217B3|28.471312   |-16.320879   |CAMINO FERIA TRASERA S FCO PAULA 45 SAN CRISTOBAL DE LA LAGUNA|628CA0FB-3251-11E8-AC52-480FCF5217B3|28.471247    |-16.324568    |CAMINO FERIA SAN FCO PAULA 45 SAN CRISTOBAL DE LA LAGUNA      |\n",
      "|5F8F4E1E-3251-11E8-8F00-480FCF5217B3|28.466084   |-16.28399    |CALLE MAGISTRAL LUIS REYES PEREZ 6 SAN CRISTOBAL DE LA LAGUNA |5F8F4E1E-3251-11E8-8F00-480FCF5217B3|28.466084    |-16.28399     |CALLE MAGISTRAL LUIS REYES PEREZ 5 SAN CRISTOBAL DE LA LAGUNA |\n",
      "|5F8F4E1E-3251-11E8-8F00-480FCF5217B3|28.466084   |-16.28399    |CALLE MAGISTRAL LUIS REYES PEREZ 6 SAN CRISTOBAL DE LA LAGUNA |5F8F4E1E-3251-11E8-8F00-480FCF5217B3|28.466084    |-16.28399     |CALLE MAGISTRAL LUIS REYES PEREZ 8 SAN CRISTOBAL DE LA LAGUNA |\n",
      "|5F8F4E1E-3251-11E8-8F00-480FCF5217B3|28.466084   |-16.28399    |CALLE MAGISTRAL LUIS REYES PEREZ 6 SAN CRISTOBAL DE LA LAGUNA |676CD660-3251-11E8-A9EC-480FCF5217B3|28.465675    |-16.284222    |CALLE MAGISTRAL LUIS REYES PEREZ 13 SAN CRISTOBAL DE LA LAGUNA|\n",
      "|5FED992E-3251-11E8-A95F-480FCF5217B3|28.490852   |-16.372656   |CAMINO TUNEL 3 SAN CRISTOBAL DE LA LAGUNA                     |5FED992E-3251-11E8-A95F-480FCF5217B3|28.490852    |-16.372656    |CAMINO TUNEL 3 SAN CRISTOBAL DE LA LAGUNA                     |\n",
      "|5FED992E-3251-11E8-A95F-480FCF5217B3|28.490852   |-16.372656   |CAMINO TUNEL 3 SAN CRISTOBAL DE LA LAGUNA                     |5FED992E-3251-11E8-A95F-480FCF5217B3|28.490852    |-16.372656    |CAMINO TUNELEL 3 SAN CRISTOBAL DE LA LAGUNA                   |\n",
      "|5FED992E-3251-11E8-A95F-480FCF5217B3|28.490852   |-16.372656   |CAMINO TUNEL 3 SAN CRISTOBAL DE LA LAGUNA                     |C05F266F-0AD1-11EA-8401-7756D0C25261|28.49078     |-16.37279     |CAMINO TUNEL 4 SAN CRISTOBAL DE LA LAGUNA                     |\n",
      "|6060D404-3251-11E8-ADC5-480FCF5217B3|28.522865   |-16.384052   |CALLE C VALLE GUERRA 6 SAN CRISTOBAL DE LA LAGUNA             |6637F6D9-3251-11E8-B812-480FCF5217B3|28.52085     |-16.396385    |CALLE CIRUELO VALLE GUERRA 6 SAN CRISTOBAL DE LA LAGUNA       |\n",
      "|6060D404-3251-11E8-ADC5-480FCF5217B3|28.522865   |-16.384052   |CALLE C VALLE GUERRA 6 SAN CRISTOBAL DE LA LAGUNA             |C72F6CC8-3EDA-11EB-845E-5FC45ADE36E3|28.51778     |-16.38925     |CALLE CONSUMO VALLE GUERRA 6 SAN CRISTOBAL DE LA LAGUNA       |\n",
      "|6060D404-3251-11E8-ADC5-480FCF5217B3|28.522865   |-16.384052   |CALLE C VALLE GUERRA 6 SAN CRISTOBAL DE LA LAGUNA             |C72F6CC8-3EDA-11EB-845E-5FC45ADE36E3|28.51778     |-16.38925     |CALLE CUEVAS VALLE GUERRA 6 SAN CRISTOBAL DE LA LAGUNA        |\n",
      "|61987CAD-3251-11E8-BDBA-480FCF5217B3|28.513136   |-16.381092   |URBANIZACION COLLAZOS CALLE C 1 SAN CRISTOBAL DE LA LAGUNA    |61987CAD-3251-11E8-BDBA-480FCF5217B3|28.513136    |-16.381092    |URBANIZACION COLLAZOS CALLE C 1 SAN CRISTOBAL DE LA LAGUNA    |\n",
      "|61987CAD-3251-11E8-BDBA-480FCF5217B3|28.513136   |-16.381092   |URBANIZACION COLLAZOS CALLE C 1 SAN CRISTOBAL DE LA LAGUNA    |70608653-3251-11E8-9DC4-480FCF5217B3|28.512907    |-16.38043     |URBANIZACION COLLAZOS CALLE B 1 SAN CRISTOBAL DE LA LAGUNA    |\n",
      "|61987CAD-3251-11E8-BDBA-480FCF5217B3|28.513136   |-16.381092   |URBANIZACION COLLAZOS CALLE C 1 SAN CRISTOBAL DE LA LAGUNA    |C0B74244-0AD1-11EA-8401-7756D0C25261|28.51346     |-16.38064     |URBANIZACION COLLAZOS CALLE D 1 SAN CRISTOBAL DE LA LAGUNA    |\n",
      "|6198F343-3251-11E8-BDD9-480FCF5217B3|28.47574    |-16.301422   |CALLE BUEN PASTOR 15 SAN CRISTOBAL DE LA LAGUNA               |FC32173D-ADD9-11EB-89E0-E18902917BE0|28.47602     |-16.30123     |CALLE BUEN PASTOR 26 SAN CRISTOBAL DE LA LAGUNA               |\n",
      "|6198F343-3251-11E8-BDD9-480FCF5217B3|28.47574    |-16.301422   |CALLE BUEN PASTOR 15 SAN CRISTOBAL DE LA LAGUNA               |7319F37D-3251-11E8-B70D-480FCF5217B3|28.485228    |-16.320099    |CALLE BUEN PASTOR MORADITAS 15 SAN CRISTOBAL DE LA LAGUNA     |\n",
      "+------------------------------------+------------+-------------+--------------------------------------------------------------+------------------------------------+-------------+--------------+--------------------------------------------------------------+\n",
      "only showing top 20 rows\n",
      "\n"
     ]
    },
    {
     "name": "stderr",
     "output_type": "stream",
     "text": [
      "                                                                                \r"
     ]
    }
   ],
   "source": [
    "evaluated_dirs.show(truncate=False)"
   ]
  },
  {
   "cell_type": "code",
   "execution_count": 72,
   "metadata": {},
   "outputs": [],
   "source": [
    "from pyspark.sql.functions import lit, col, udf\n",
    "from haversine import haversine\n",
    "from pyspark.sql.types import DoubleType\n",
    "\n",
    "# Definir una función UDF (User Defined Function) para aplicar haversine\n",
    "haversine_udf = udf(lambda lat1, lon1, lat2, lon2: haversine((lat1, lon1), (lat2, lon2)), returnType=DoubleType())\n",
    "\n",
    "# Aplicar la función UDF a las columnas del DataFrame\n",
    "evaluated_dirs = evaluated_dirs.withColumn(\"distance_haversine\", \n",
    "                                           haversine_udf(col(\"latitud_test\"), \n",
    "                                                         col(\"longitud_test\"), \n",
    "                                                         col(\"latitud_train\"), \n",
    "                                                         col(\"longitud_train\")))\n",
    "evaluated_dirs.write.csv(\"../data/proccesed_data/evaluated_dirs.csv\")"
   ]
  },
  {
   "cell_type": "code",
   "execution_count": null,
   "metadata": {},
   "outputs": [],
   "source": [
    "TODO: \n",
    "- probar con proporción 90 - 10\n",
    "1. ver si las direcciones mal clasificadas están próximas a estar bien clasificadas. Agregar las coordenadas al df y en el caso de estar mal clasificadas, ver por cuanto fallan. Extraer 100 de cada caso (bien y mal clasificado)\n",
    "- Usar 200 mil direcciones para calcular los embeddings usando la API de OpenAI dada\n",
    "- Utilizar los uuid que tengan al menos 10 o mas direcciones asociadas"
   ]
  },
  {
   "cell_type": "code",
   "execution_count": 43,
   "metadata": {},
   "outputs": [
    {
     "name": "stderr",
     "output_type": "stream",
     "text": [
      "24/04/26 09:25:59 WARN DAGScheduler: Broadcasting large task binary with size 28.1 MiB\n",
      "24/04/26 09:26:31 WARN DAGScheduler: Broadcasting large task binary with size 28.2 MiB\n",
      "24/04/26 09:26:41 WARN DAGScheduler: Broadcasting large task binary with size 28.2 MiB\n",
      "[Stage 1173:>                                                       (0 + 1) / 1]\r"
     ]
    },
    {
     "name": "stdout",
     "output_type": "stream",
     "text": [
      "[Row(uuid_idt='000C72C6-F85F-4FB3-81AA-407BAEAF922B', latitud='28.48819', longitud='-16.28094', direccion='CALLE CABEZADA VALLE JIMENEZ 24 SAN CRISTOBAL DE LA LAGUNA', embedding=[-0.02331388369202614, 0.0090729258954525, -0.02462688647210598, 0.047039005905389786, -0.10695862770080566, -0.0215102881193161, 0.02594497799873352, 0.059718310832977295, 0.030831480398774147, -0.020542122423648834, 0.03136146068572998, -0.11673516035079956, -0.009630272164940834, -0.04615824297070503, 0.002846973016858101, -0.004598279949277639, -0.011703044176101685, 0.0076271649450063705, 0.0823153555393219, -0.0241731908172369, 0.0261106975376606, -0.01573164388537407, -0.056988902390003204, 0.08307622373104095, -0.06887605786323547, -0.07290302217006683, -0.04966107755899429, 0.05127626657485962, -0.024711046367883682, -0.04055587947368622, 0.03987046331167221, 0.16633261740207672, 0.11824174225330353, -0.0017034183256328106, 0.007371372543275356, 0.09172456711530685, 0.020831171423196793, -0.0653703436255455, -0.038664959371089935, 0.05443190038204193, -0.08385515213012695, -0.00938916765153408, -0.05086115747690201, -0.03620074689388275, 0.0032677538692951202, -0.09037048369646072, 0.03122500330209732, 0.04797258600592613, 0.05993209406733513, -0.019333306699991226, -0.07559798657894135, -0.013149047270417213, -0.04616979882121086, 0.05303480848670006, -0.024236829951405525, 0.016877347603440285, 0.061862435191869736, -0.009084983728826046, 0.11470713466405869, 0.04044099152088165, 0.07481009513139725, 0.031856101006269455, -0.08177933841943741, 0.0039258417673408985, -0.044832419604063034, 0.010772245936095715, -0.0245145745575428, -0.029470989480614662, -0.04741794615983963, -0.05413344129920006, 0.07173756510019302, -0.02293482981622219, -0.02364114299416542, -0.024301985278725624, -0.017103858292102814, 0.041033435612916946, -0.0690293163061142, -0.001591643551364541, -0.04924998804926872, 0.005135716404765844, -0.02663281187415123, -4.6568718971684575e-05, 0.07803861051797867, -0.07323097437620163, -0.024003325030207634, 0.07678472250699997, 0.013822159729897976, -0.02146165817975998, 0.07991376519203186, -0.029064610600471497, -0.08154746145009995, 0.041915398091077805, -0.09504605829715729, -0.006900445092469454, -0.07636869698762894, -0.022901086136698723, 0.034979406744241714, -0.04698088392615318, 0.012888830155134201, 0.06783071160316467, 0.02677397057414055, 0.05493968725204468, -0.05438988655805588, -0.01209300383925438, -0.0029455844778567553, 0.05487717688083649, 0.10819461196660995, 0.03428538516163826, -0.05325929448008537, 0.0214350875467062, -0.049972791224718094, 0.023274460807442665, -0.015403930097818375, -0.047413378953933716, 0.03816657513380051, 0.017936384305357933, 0.06315091252326965, 5.8290024753659964e-05, 0.0041050659492611885, -0.0032979173120111227, 0.019425272941589355, -0.003151735058054328, -0.038964271545410156, -0.05980085954070091, -0.006072955671697855, -0.03169187530875206, 0.06824541836977005, 5.5368476540477094e-33, 0.013912895694375038, -0.019668281078338623, 0.03763441741466522, 0.08037209510803223, 0.11669324338436127, -0.016271652653813362, -0.037066563963890076, -0.060214754194021225, -0.0742383524775505, 0.037570059299468994, -0.023384273052215576, -0.088430255651474, -0.0017737637972459197, -0.015768783167004585, 0.09064333885908127, 0.08333203941583633, 0.012897750362753868, -0.10856910794973373, -0.04454959183931351, -0.027064595371484756, -0.03135038912296295, 0.004145699553191662, 0.0035155671648681164, -0.0030925751198083162, 0.05219966545701027, 0.06612901389598846, 0.015761058777570724, -0.015076050534844398, -0.004368723835796118, 0.030963143333792686, -0.022586602717638016, -0.009668754413723946, 0.049736205488443375, -0.004899214021861553, 0.028799161314964294, -0.016406314447522163, -0.002647044137120247, 0.012752369046211243, -0.08470157533884048, 0.03761030361056328, 0.08899950981140137, 0.003897125832736492, -0.015375446528196335, -0.01715530827641487, 0.00014837821072433144, 0.003332835854962468, 0.07378636300563812, 0.020595531910657883, 0.09496390074491501, 0.033694878220558167, -0.07179885357618332, 0.017178865149617195, -0.07106233388185501, 0.0388430692255497, -0.012955787591636181, 0.006586848292499781, -0.09076987206935883, -0.015079149045050144, -0.023416435346007347, 0.009731347672641277, 0.12587516009807587, -0.0038689356297254562, 0.013261822983622551, 0.025640785694122314, -0.0028336704708635807, -0.09351063519716263, -0.002701197052374482, 0.0475505106151104, 0.13827817142009735, -0.09976273030042648, -0.07809463888406754, 0.001662672497332096, 0.10783460736274719, 0.04001407325267792, -0.017104865983128548, -0.05078164115548134, -0.035410765558481216, -0.07413415610790253, 0.020588351413607597, 0.06619952619075775, -0.034557029604911804, -0.0180499367415905, -0.0025591764133423567, 0.06252241134643555, 0.07447082549333572, 0.08115492016077042, 0.08559877425432205, -0.0149448337033391, -0.05410218983888626, 0.06648315489292145, -0.1395537257194519, 0.04243363067507744, 0.016673242673277855, -0.034390635788440704, 0.02656041644513607, -6.860478904986575e-33, 0.08201223611831665, -0.06475044786930084, 0.029414018616080284, -0.024199463427066803, 0.005947156343609095, -0.013834252022206783, -0.011825083754956722, 0.006208631210029125, -0.01825600303709507, -0.047861237078905106, -0.07992177456617355, -0.04236575961112976, 0.09404479712247849, -0.05761750414967537, 0.07623054832220078, 0.08550342917442322, 0.04927539825439453, -0.09702944755554199, -0.07243156433105469, 0.012539292685687542, -0.03046763315796852, 0.027586523443460464, -0.05554091930389404, -0.011099467054009438, 0.005646368954330683, -0.008816814050078392, 0.07742224633693695, 0.058017298579216, -0.010498447343707085, 0.009440901689231396, -0.04601423442363739, -0.05017761513590813, -0.010141449980437756, 0.11698935925960541, -0.01783234253525734, 0.05139242485165596, 0.04043611139059067, -0.020861368626356125, 0.06308964639902115, 0.053610920906066895, 0.002065466484054923, -0.026050832122564316, -0.007478220853954554, -0.025522898882627487, -0.013239842839539051, 0.016064908355474472, -0.002594400430098176, -0.023699751123785973, -0.04576544463634491, -0.09674015641212463, 0.066399484872818, -0.05922451987862587, -0.12368936091661453, 0.08886902779340744, 0.07399392873048782, -0.030409228056669235, 0.021480433642864227, -0.026875818148255348, 0.002429010346531868, -0.013046947307884693, 0.05030042678117752, 0.04673805460333824, -0.04991200938820839, -0.03348299488425255, 0.04838135838508606, 0.012196051888167858, -0.07262825965881348, -0.06276882439851761, -0.00028758193366229534, 0.037404049187898636, 0.012733843177556992, -0.028024064376950264, -0.11909923702478409, 0.041621625423431396, -0.08802619576454163, 0.0010070832213386893, -0.08481057733297348, 0.059144604951143265, -0.032928694039583206, 0.02937813103199005, 0.03465360775589943, -0.07464030385017395, -0.04362313076853752, 0.024421777576208115, 0.039535775780677795, 0.030567536130547523, 0.01099154818803072, -0.010972199961543083, 0.03493070974946022, -0.03597080707550049, 0.03075736202299595, 0.0072166807949543, -0.015362736769020557, -0.0832691565155983, -0.06625029444694519, -2.6450059920080093e-08, 0.06255681812763214, 0.003895316505804658, -0.06019650772213936, 0.028964929282665253, -0.008624601177871227, -0.07177776098251343, 0.02278158999979496, 0.021327583119273186, -0.017142321914434433, 0.09233752638101578, -0.030142784118652344, -0.017053255811333656, 0.03565199300646782, 0.05436074733734131, -0.03359098359942436, 0.03221777826547623, 0.05598106235265732, 0.051859259605407715, -0.007522174157202244, -0.039660826325416565, -0.006096672732383013, -0.06445212662220001, -0.02491769567131996, -0.037349238991737366, -0.025421151891350746, -0.03920526057481766, -0.006553878542035818, 0.030076758936047554, -0.004399216268211603, -0.0767209455370903, 0.01341372262686491, 0.02893410064280033, -0.034789957106113434, -0.03700082004070282, 0.02176864631474018, 0.008117422461509705, -0.04334324598312378, -0.016790300607681274, -0.03254636377096176, -0.05163504555821419, 0.0843045562505722, -0.014934108592569828, -0.0031558468472212553, -0.016972988843917847, 0.011963482946157455, -0.01072673685848713, 0.0038176511880010366, -0.02105606533586979, 0.032397814095020294, 0.0022137046325951815, -0.011818920262157917, 0.001791388145647943, 0.11560718715190887, 0.05278017371892929, 0.0326264463365078, 0.0240255668759346, 0.045027486979961395, 0.010315178893506527, -0.010319753549993038, 0.0686902403831482, -0.010244578123092651, 0.003393164137378335, -0.0990130677819252, -0.13521908223628998]), Row(uuid_idt='5F739B93-3251-11E8-8743-480FCF5217B3', latitud='28.471312', longitud='-16.320879', direccion='CAMINO FERIA TRASERA S FCO PAULA 45 SAN CRISTOBAL DE LA LAGUNA', embedding=[0.04484166204929352, -0.007540796417742968, -0.04869955778121948, 0.031633906066417694, -0.0963611751794815, 0.05623325705528259, 0.04296252131462097, 0.0532015860080719, 0.010866418480873108, -0.0638241246342659, 0.043681103736162186, -0.11233393847942352, -0.03692050278186798, -0.048976603895425797, -0.020976345986127853, -0.07485952228307724, 0.0030489941127598286, -0.02543744444847107, 0.04813172295689583, 0.02367127686738968, 0.005412721540778875, -0.08093984425067902, -0.08902069926261902, 0.11395473778247833, -0.09538094699382782, 0.030998175963759422, -0.00856041256338358, 0.0800757110118866, -0.0687849149107933, -0.06541118025779724, -0.04403292015194893, 0.11968685686588287, 0.11245330423116684, 0.017812341451644897, 0.010922969318926334, -0.05235593393445015, -0.009961244650185108, -0.08253403007984161, 0.0525524765253067, 0.08317858725786209, -0.08424052596092224, -0.036549899727106094, -0.06192007288336754, -0.006878796964883804, 0.021296421065926552, -0.021619342267513275, 0.058672770857810974, 0.07319232821464539, 0.07385358214378357, -0.026888292282819748, -0.11790776252746582, 0.02152249403297901, -0.026757370680570602, 0.06627491116523743, -0.08723114430904388, 0.021014653146266937, 0.035907868295907974, -0.020502446219325066, 0.022782905027270317, -0.004431691486388445, 0.013080398552119732, 0.01871720887720585, -0.03368252515792847, 0.04533122479915619, -0.015683237463235855, -0.014926215633749962, -0.036687470972537994, -0.045648619532585144, -0.046327169984579086, -0.034246668219566345, 0.011902461759746075, 0.023391537368297577, -0.013205689378082752, 0.02153899520635605, -0.033204592764377594, 0.07016787678003311, 0.022564902901649475, -0.02746657095849514, -0.03277067467570305, -0.02259860932826996, -0.01493038609623909, -0.08585260063409805, 0.033804528415203094, 0.000650022819172591, 0.013496045023202896, 0.03410518169403076, -0.0002971273206640035, -0.0024532449897378683, 0.028839075937867165, -0.018791312351822853, -0.04250723123550415, 0.03561260178685188, -0.12710851430892944, -0.05141651630401611, -0.028379397466778755, 0.048372190445661545, -0.011472375132143497, -0.07863692939281464, 0.07734289765357971, 0.029674503952264786, -0.0018350319005548954, 0.0439334362745285, -0.014395424164831638, 0.01930304430425167, -0.04734507575631142, 0.04187515377998352, 0.07970162481069565, 0.028620490804314613, -0.019814252853393555, 0.0016973750898614526, -0.05251283198595047, -0.007575462572276592, -0.0042495415546, -0.0474037230014801, -0.018274961039423943, 0.041948702186346054, 0.006100249011069536, 0.012332635000348091, 0.0019353664247319102, -0.03373231366276741, 0.026059282943606377, -0.07892540842294693, -0.07510873675346375, -0.05646530166268349, -0.05608329549431801, -0.015361548401415348, 0.01231195405125618, 8.443492167983995e-33, -0.039470791816711426, -0.04825055971741676, 0.017377398908138275, 0.03865538164973259, 0.11437464505434036, -0.024955999106168747, -0.0546455904841423, -0.04450288414955139, -0.06334835290908813, -0.004840982612222433, -0.03240995109081268, -0.10384728014469147, -0.03176061809062958, -0.1158301830291748, 0.10841992497444153, 0.09262985736131668, -0.027697863057255745, -0.05157517269253731, -0.060668013989925385, -0.020730799064040184, -0.007711734622716904, 0.013620714657008648, 0.020831523463129997, 0.015120960772037506, -0.03382490202784538, 0.10575490444898605, 0.0026679423172026873, -0.011374480091035366, -0.016792969778180122, 0.04875396192073822, 0.008127209730446339, 0.007120267953723669, -0.006516201421618462, -0.028437035158276558, 0.04051503539085388, -0.04943642020225525, -0.0009232028387486935, -0.036470334976911545, -0.07835687696933746, 0.03310859948396683, 0.029986834153532982, 0.060404855757951736, 0.0494682677090168, 0.022727664560079575, -0.0014621607260778546, 0.06382711231708527, 0.05737212300300598, 0.048399485647678375, 0.09829462319612503, 0.03064412996172905, -0.07805976271629333, -0.021671902388334274, -0.09508445113897324, -0.02833382599055767, 0.02511601522564888, 0.012446564622223377, -0.062644362449646, -0.016353830695152283, -0.023112354800105095, 0.06558246165513992, 0.028303388506174088, 0.07173312455415726, 0.009278432466089725, -0.0169060155749321, -0.047746140509843826, 0.010386934503912926, 0.04048218950629234, 0.008772195316851139, 0.1488214135169983, 0.0030970803927630186, -0.031610243022441864, -0.02561783790588379, 0.09882430732250214, 0.0067480760626494884, -0.009890596382319927, 0.014798100106418133, -0.00036905158776789904, -0.0648365393280983, 0.006894176825881004, 0.04478641226887703, -0.04222659394145012, 0.0059585534036159515, 0.026163343340158463, 0.07929018884897232, 0.10387377440929413, 0.014695205725729465, 0.04220931977033615, 0.00549286138266325, -0.046895626932382584, 0.05654769763350487, -0.028071556240320206, 0.0859772264957428, 0.06305412948131561, -0.03704524785280228, 0.024275293573737144, -8.12350129985506e-33, 0.08562646061182022, -0.048854488879442215, 0.010322384536266327, -0.03154702112078667, -0.02277635969221592, 0.038347452878952026, -0.04863539710640907, 0.006597903091460466, 0.0847405418753624, -0.028606878593564034, -0.0714515745639801, -0.08311358839273453, 0.06015300750732422, -0.06058061122894287, 0.0008450620225630701, 0.0966818779706955, 0.07921308279037476, -0.0350680947303772, -0.11600334942340851, -0.047196246683597565, -0.024136975407600403, 0.09032310545444489, -0.00211937353014946, 0.03088768944144249, 0.041396353393793106, -0.009930283762514591, 0.04599659889936447, 0.08892983198165894, -0.07015449553728104, -0.01471715234220028, 0.03316773101687431, -0.12772975862026215, -0.047062911093235016, 0.0854102224111557, -0.07181932777166367, 0.020886464044451714, 0.08966119587421417, 0.016958486288785934, 0.046416155993938446, 0.0547516755759716, -0.010439753532409668, -0.02316657453775406, 0.014681520871818066, 0.03978205844759941, -0.03324253857135773, -0.024431541562080383, -0.04417826980352402, -0.036251988261938095, 0.02415631152689457, -0.0698162391781807, 0.04889155179262161, -0.07344582676887512, -0.12165649235248566, 0.03463418781757355, 0.0760967880487442, -0.014891080558300018, 0.004177246242761612, 0.020022466778755188, -0.05674152076244354, -0.016596168279647827, 0.10171131044626236, 0.04759490117430687, -0.04727917164564133, 0.012305826880037785, 0.022965556010603905, -0.00750421267002821, 0.023557668551802635, -0.01746951974928379, -0.023595474660396576, 0.035045038908720016, 0.013263699598610401, -0.021038305014371872, -0.07003986090421677, 0.09699129313230515, -0.09561330080032349, 0.036074355244636536, -0.0822528824210167, 0.057904474437236786, 0.034874122589826584, 0.07203613221645355, 0.014550008811056614, -0.0987858921289444, -0.08157188445329666, 0.05212317034602165, 0.03431499004364014, 0.003118810011073947, -0.041226889938116074, -0.0170741006731987, 0.08346692472696304, -0.03045840561389923, 0.049395617097616196, 0.029947981238365173, 0.005183048080652952, -0.08840925246477127, -0.05762315168976784, -2.7738964902823682e-08, 0.027468375861644745, -0.02425805851817131, -0.06235329806804657, 0.04648614302277565, 0.09569855034351349, -0.037901610136032104, -0.012656688690185547, 0.024094512686133385, 0.010304856114089489, 0.024393795058131218, 0.008341220207512379, -0.026475632563233376, 0.07468005269765854, 0.029401151463389397, -0.03163730725646019, 0.001989983953535557, 0.0636659562587738, 0.07739897072315216, 0.012609261088073254, -0.001456724596209824, 0.02524499036371708, -0.07951933145523071, -0.06070096045732498, -0.025464849546551704, -0.011958307586610317, -0.07178796082735062, 0.008665697649121284, -0.008625254966318607, 0.031241996213793755, -0.01178304385393858, -0.014082913286983967, -0.025297626852989197, 0.04326065257191658, -0.06734011322259903, -0.003465808928012848, 0.00849077943712473, -0.04246976599097252, -0.00724874809384346, -0.08692601323127747, 0.0005862156976945698, 0.10755878686904907, -0.02064024843275547, -0.0046973261050879955, -0.004634867887943983, -6.141467747511342e-05, 0.022478634491562843, -0.02534029446542263, -0.026814328506588936, 0.0017653205431997776, -0.029267216101288795, 0.0026609720662236214, -0.019217871129512787, 0.08674092590808868, 0.10012608021497726, 0.004398758057504892, 0.015029472298920155, 0.04449653625488281, 0.016762351617217064, -0.01612909696996212, 0.046607211232185364, 0.027202274650335312, 0.03672321140766144, -0.005193182732909918, -0.06099865213036537]), Row(uuid_idt='5F8F4E1E-3251-11E8-8F00-480FCF5217B3', latitud='28.466083', longitud='-16.28399', direccion='CALLE MAGISTRAL LUIS REYES PEREZ 6 SAN CRISTOBAL DE LA LAGUNA', embedding=[0.004999836906790733, 0.030015219002962112, -0.024988273158669472, 0.03299273923039436, -0.04801522195339203, 0.005827238317579031, 0.01494009792804718, 0.042322199791669846, 0.024711627513170242, -0.04817340523004532, 0.00013632350601255894, -0.08506804704666138, -0.0618651807308197, -0.03743697702884674, -0.03894573077559471, -0.03462187945842743, -0.09058425575494766, -0.022700004279613495, 0.07457703351974487, 0.046453773975372314, 0.06931235641241074, -0.01087616290897131, -0.08322872221469879, 0.04773498699069023, -0.023314721882343292, -0.05653279647231102, 0.028595497831702232, 0.009705583564937115, -0.03361271694302559, -0.056239448487758636, 0.04279731214046478, 0.16550251841545105, 0.09650848805904388, 0.012244129553437233, -0.04154864698648453, 0.05633426830172539, 0.020976874977350235, -0.04899797588586807, 0.003374495543539524, 0.05079316720366478, -0.10715553164482117, -0.006782940588891506, -0.05673929676413536, -0.0033434650395065546, -0.03791457787156105, -0.039728641510009766, 0.041813258081674576, 0.03012024238705635, 0.051611822098493576, 0.015646344050765038, -0.05755743011832237, -0.0146042974665761, -0.003401846857741475, 0.09588675200939178, 2.456776019243989e-05, 0.03526461869478226, 0.07275588065385818, -0.015673337504267693, 0.08415695279836655, 0.05662667378783226, 0.09937462955713272, 0.012061186134815216, -0.10659653693437576, 0.007328107487410307, -0.0363280363380909, 0.015255998820066452, -0.017989106476306915, -0.06536529213190079, -0.051995355635881424, -0.10076620429754257, 0.06312695145606995, 0.028932567685842514, 0.03461490198969841, 0.013936668634414673, 0.0004586585273500532, 0.10075954347848892, -0.09702446311712265, -0.08827751129865646, -0.039848558604717255, -0.026104247197508812, -0.03395827114582062, -0.023955823853611946, 0.008873837999999523, -0.07843495905399323, 0.03199567273259163, 0.07138914614915848, -0.0076936883851885796, -0.033695902675390244, 0.06558631360530853, -0.0004226506280247122, -0.03161740303039551, 0.09813939034938812, -0.12616115808486938, -0.029401784762740135, -0.06826715171337128, 0.02107234299182892, 0.04212619364261627, -0.020129084587097168, -0.04011473059654236, 0.08927129954099655, 0.0606694333255291, 0.05812888219952583, -0.04765193164348602, -0.007724105846136808, -0.004873248282819986, 0.01522750873118639, 0.07520581781864166, -0.0023194393143057823, -0.08078598231077194, 0.026867467910051346, -0.017023026943206787, 0.023285025730729103, -0.029065238311886787, -0.07638395577669144, 0.020396722480654716, -0.0024031070061028004, 0.09478364139795303, -0.014024023897945881, -0.029502907767891884, -0.06286782771348953, 0.03545278683304787, 0.01374786626547575, -0.11310210824012756, -0.05271420255303383, -0.037568941712379456, -0.01682189479470253, 0.03599415346980095, 7.229582661776835e-33, -0.005139761138707399, -0.038443151861429214, -0.005932292900979519, 0.07206113636493683, 0.04964911937713623, -0.01762595772743225, -0.025638295337557793, -0.06491762399673462, -0.009574128314852715, -0.031555019319057465, 0.01693507842719555, -0.038438599556684494, 0.017833497375249863, -0.07122357934713364, 0.07250463217496872, 0.060915470123291016, 0.03396284952759743, -0.04762983322143555, -0.03313223645091057, -0.010946149006485939, -0.005938508547842503, -0.0021777222864329815, -0.012728702276945114, 0.0017242106841877103, 0.05096956714987755, 0.10067211836576462, 0.021113255992531776, -0.0711914449930191, -0.0413910336792469, 0.027372488752007484, -0.03784992918372154, 0.012218191288411617, 0.03196702152490616, 0.01702837087213993, 0.06257624179124832, -0.02904682606458664, 0.02544918656349182, -0.024028198793530464, -0.07251318544149399, -0.02403107099235058, 0.08713109791278839, 0.04705935716629028, 0.012322360649704933, 0.004923386964946985, -0.029843060299754143, 0.03478587791323662, 0.054199106991291046, 0.052755799144506454, 0.14162610471248627, 0.0006181676289997995, -0.04897202551364899, -0.0466332733631134, -0.04081234335899353, 0.009947409853339195, 0.05602043867111206, -0.0064665707759559155, -0.09806323796510696, -0.01666644960641861, -0.0026421186048537493, 0.040373194962739944, 0.0891852155327797, 0.040469855070114136, 0.00048683653585612774, 0.10519537329673767, -0.004799105692654848, -0.09387712180614471, -0.009689021855592728, 0.03834966942667961, 0.10171093791723251, -0.035229384899139404, -0.07440109550952911, -0.015809711068868637, 0.07284484803676605, 0.020012959837913513, -0.028851941227912903, -0.040952492505311966, -0.01517631858587265, -0.021078739315271378, -0.016282811760902405, 0.08034411072731018, -0.018240710720419884, -0.01624291017651558, 0.014545878395438194, 0.020329531282186508, 0.05911958962678909, 0.11074279993772507, 0.07454363256692886, -0.002129380824044347, -0.07113021612167358, 0.09859396517276764, -0.018345573917031288, 0.07515934109687805, 0.014442223124206066, -0.06778685748577118, -0.0204660315066576, -7.959555837429845e-33, 0.0396401546895504, -0.08712626248598099, 0.06448301672935486, -0.04914407059550285, 0.005711329635232687, 0.02910052426159382, -0.027016881853342056, 0.023434892296791077, -0.03833886981010437, -0.1270049661397934, -0.0747242197394371, -0.04215559735894203, 0.09441687911748886, -0.07710154354572296, 0.0635845959186554, 0.06863414496183395, 0.07312443107366562, -0.07620151340961456, -0.062401168048381805, 0.05446702614426613, 0.03849652037024498, 0.05078358203172684, -0.0923372209072113, 0.010234597139060497, 0.0006301144021563232, -0.05068231001496315, 0.0574692003428936, 0.05669347941875458, -0.03459743782877922, -0.010323104448616505, -0.031711142510175705, -0.05117713660001755, -0.0027644378133118153, 0.05767098441720009, -0.06279879063367844, 0.05318445712327957, 0.01962128095328808, 0.02006164751946926, 0.07477323710918427, 0.0646950751543045, -0.03395162895321846, -0.00030751011217944324, 0.0003229119465686381, -0.020289013162255287, -0.058296117931604385, -0.014815201051533222, 0.005425048526376486, -0.021911513060331345, -0.0300053171813488, -0.08645059168338776, 0.011470134370028973, -0.06590235978364944, -0.13090208172798157, 0.02440924197435379, 0.07995311170816422, -0.06453171372413635, -0.007647568825632334, -0.07937466353178024, 0.006566877942532301, -0.016103684902191162, 0.02933545410633087, 0.05402837321162224, -0.024721434339880943, -0.01488032378256321, 0.026919865980744362, 0.01778852939605713, -0.05531958490610123, -0.051854074001312256, 0.012670791707932949, 0.02603175863623619, 0.08622263371944427, 0.012544429861009121, -0.10493388772010803, 0.03818012401461601, -0.06628633290529251, 0.02934865653514862, -0.06710688024759293, 0.1149035170674324, -0.006708188913762569, 0.0678711086511612, 0.02998063713312149, -0.013069103471934795, -0.07708963751792908, 0.03651237115263939, 0.07148054242134094, 0.02632579579949379, -0.001899374765343964, -0.04355628788471222, 0.01640843041241169, -0.05550336092710495, 0.04023145139217377, 0.011807892471551895, 0.0018336012726649642, -0.0699373185634613, 0.01417932566255331, -2.7617586439987463e-08, 0.029117600992321968, -0.008292857557535172, -0.012304085306823254, -0.020397093147039413, 0.024844134226441383, -0.029149385169148445, 0.022418851032853127, 0.00543813593685627, 0.007515425328165293, 0.05395423620939255, 0.012740871869027615, -0.0028689512982964516, 0.07632752507925034, 0.02856508642435074, -0.012184999883174896, -0.03622186928987503, 0.056376680731773376, 0.06950955092906952, -0.02639668621122837, 0.019413916394114494, -0.008034736849367619, -0.07153057307004929, -0.05572579428553581, -0.03646776080131531, 0.021857047453522682, 0.038823798298835754, -0.04132623225450516, -0.018372131511569023, 0.0012109337840229273, -0.038290075957775116, 0.02293701283633709, -0.016776425763964653, -0.0279092937707901, -0.0976061150431633, 0.03451003134250641, 0.06225240230560303, -0.05559924244880676, -0.020353930070996284, -0.02797894924879074, -0.039524469524621964, 0.07889270037412643, -0.004357518628239632, -0.025315482169389725, 0.028819004073739052, -0.03696601092815399, -0.06054597347974777, -0.03601473942399025, -0.03701367974281311, 0.04499887302517891, -0.005313422996550798, 0.02389475889503956, -0.03162875771522522, 0.11911240220069885, 0.0048902020789682865, 0.023567961528897285, 0.0063483212143182755, 0.040048323571681976, 0.002387680346146226, -0.040457822382450104, 0.06924127042293549, 0.025354301556944847, -0.0012727051507681608, -0.08949405699968338, -0.04732925072312355]), Row(uuid_idt='5FED992E-3251-11E8-A95F-480FCF5217B3', latitud='28.490853', longitud='-16.372656', direccion='CAMINO TUNEL 3 SAN CRISTOBAL DE LA LAGUNA', embedding=[0.007573375478386879, -0.04026623070240021, -0.045190874487161636, -0.02893400751054287, -0.07939457148313522, 0.016324307769536972, 0.07091090083122253, 0.02058694325387478, 0.03048941120505333, -0.05137438327074051, 0.01686394028365612, -0.12243080139160156, -0.029500888660550117, -0.061250507831573486, 0.02752101793885231, -0.041112370789051056, -0.038487132638692856, 0.0013316762633621693, 0.039736323058605194, -0.006579457316547632, 0.0013255341909825802, -0.0696365088224411, -0.06525059789419174, 0.12319180369377136, -0.05980195105075836, 0.029429107904434204, 0.022637611255049706, 0.12411780655384064, -0.05696460232138634, -0.06388220191001892, -0.03321825712919235, 0.11932104825973511, 0.10855148732662201, -0.02738829515874386, 0.02861262671649456, -0.04912583902478218, -0.019628630951046944, -0.11185849457979202, -0.04123549535870552, 0.08780157566070557, -0.08604416996240616, 0.035245947539806366, -0.019708115607500076, 0.014993398450314999, 0.019373707473278046, -0.008127550594508648, 0.012286186218261719, 0.006093178875744343, 0.10362857580184937, -0.04713121056556702, -0.10319399833679199, 0.03895457461476326, 0.0032147266902029514, 0.04315344616770744, -0.08141230791807175, 0.060539063066244125, -0.0006028293282724917, 0.022392088547348976, 0.08207615464925766, 0.013069170527160168, 0.024961890652775764, -0.0016694653313606977, -0.05867721512913704, 0.009907400235533714, -0.026166589930653572, 0.011478932574391365, -0.02709084376692772, -0.06291919946670532, -0.03361888974905014, -0.007797954138368368, -0.02695954404771328, -0.03406006842851639, 0.007027208339422941, 0.010319504886865616, -0.016396814957261086, 0.04380403459072113, 0.012110273353755474, -0.05525863915681839, -0.049930326640605927, -0.0757879763841629, -0.026943525299429893, -0.08345119655132294, -0.025654325261712074, -0.011291667819023132, -0.00489049730822444, 0.03530986234545708, 0.01727457530796528, -0.036935582756996155, 0.08351003378629684, 0.018741533160209656, -0.06983665376901627, 0.06377552449703217, -0.1228523924946785, -0.06552761793136597, -0.017951248213648796, 0.062313567847013474, 0.030530769377946854, -0.08907140791416168, 0.07993372529745102, 0.08852174878120422, 0.035893119871616364, 0.023247873410582542, -0.026017269119620323, 0.01458471268415451, -0.03974253684282303, 0.05527931824326515, 0.07723444700241089, 0.04885173588991165, -0.04260079562664032, -0.036812301725149155, -0.06567931175231934, 0.011453645303845406, 0.018918253481388092, -0.062127359211444855, -0.03743699938058853, 0.05512760579586029, 0.024478325620293617, -0.017143191769719124, -0.006453610956668854, -0.011955632828176022, 0.06662821024656296, -0.10102362185716629, -0.07372846454381943, -0.07893531024456024, -0.052440810948610306, -0.0562470518052578, 0.0313393659889698, 5.16997403044615e-33, -0.022199111059308052, -0.02411835268139839, 0.014441435225307941, 0.05670662969350815, 0.054823946207761765, 0.014225642196834087, -0.07159322500228882, -0.027414310723543167, -0.0859769731760025, -0.01793523132801056, -0.006181941833347082, -0.13746874034404755, -0.05539853498339653, -0.07737507671117783, 0.1008986234664917, 0.052782826125621796, -0.02896841987967491, -0.10620059818029404, -0.07677828520536423, -0.043007418513298035, 0.003374564228579402, -0.009721602313220501, 0.001479106373153627, -0.011930449865758419, -0.05584661290049553, 0.0990714281797409, 0.033239949494600296, -0.0005615497357212007, 0.004656098783016205, 0.05186014994978905, 0.026891829445958138, 0.004930800758302212, -0.00973256304860115, -0.016007278114557266, 0.04300391674041748, -0.025663413107395172, -0.04588516429066658, 0.018626246601343155, -0.024879813194274902, 0.08660954236984253, 0.07574070990085602, 0.03622967004776001, -0.00818591844290495, -0.012445840053260326, -0.006920641753822565, 0.06432227790355682, 0.07097454369068146, 0.06216466799378395, 0.057076483964920044, 0.021032560616731644, -0.01089005172252655, -0.013424709439277649, -0.0898188054561615, 0.0065676989033818245, 0.0362815335392952, 0.04129202291369438, -0.026269616559147835, -0.02643100917339325, -0.043759461492300034, 0.056814998388290405, 0.00822787918150425, 0.04124630615115166, 0.04333409294486046, -0.012511512264609337, -0.035536158829927444, 0.03588920086622238, 0.040275972336530685, 0.0059765721671283245, 0.10170295089483261, -0.02867000550031662, -0.034267496317625046, -0.03093300759792328, 0.10570330172777176, 0.035378824919462204, -0.03399293124675751, 0.0006224568351171911, -0.06637095659971237, -0.011138158850371838, -0.016704590991139412, 0.038791410624980927, -0.09140728414058685, 0.0003093710110988468, 0.03400847688317299, 0.0779004693031311, 0.03971138596534729, 0.012859737500548363, 0.0530841201543808, -0.027448225766420364, -0.023672936484217644, 0.06432017683982849, -0.04741005226969719, 0.06328580528497696, 0.06986777484416962, -0.07259316742420197, 0.023351367563009262, -4.647678747830776e-33, 0.08448270708322525, -0.004957858007401228, 0.03430560976266861, -0.021304041147232056, -0.06741034239530563, 0.016741834580898285, -0.019483868032693863, 0.015101959928870201, 0.0933145135641098, 0.006033824756741524, -0.06024792417883873, -0.034695886075496674, 0.057765893638134, -0.0651351660490036, 0.029790448024868965, 0.10096242278814316, 0.08130837231874466, -0.06189718842506409, -0.09117643535137177, 0.0040885647758841515, 0.0817553699016571, 0.012593546882271767, -0.051413167268037796, 0.04653055593371391, 0.011186127550899982, -0.002579404739663005, 0.048242922872304916, 0.13356897234916687, -0.03769760951399803, 0.006491534411907196, 0.017528055235743523, -0.13234074413776398, 0.0012107329675927758, 0.0415932796895504, -0.05000745877623558, 0.030449368059635162, 0.1291106641292572, 0.0025025280192494392, 0.008083729073405266, 0.039933815598487854, -0.04094255715608597, 0.0014461191603913903, 0.019944867119193077, -0.00047441694187000394, -0.00998594332486391, 0.028145354241132736, -0.0028637463692575693, 0.011741753667593002, -0.02015034109354019, -0.03307962045073509, 0.04335922747850418, -0.08419108390808105, -0.1139473170042038, 0.0023532917257398367, 0.06396029144525528, -0.019733190536499023, -0.01248405035585165, -0.01124788261950016, -0.018389619886875153, 0.009924625046551228, 0.08381415158510208, 0.034499697387218475, -0.025880474597215652, -0.036625638604164124, 0.018506065011024475, 0.0008160893339663744, 0.06338364630937576, -0.040836580097675323, 0.04308658838272095, 0.03462328761816025, 0.001302187331020832, -0.007990979589521885, -0.045450836420059204, 0.0536130852997303, -0.10141276568174362, 0.05057216435670853, -0.10579219460487366, 0.09247425943613052, 0.019403675571084023, 0.04515265300869942, 0.01503327488899231, -0.09317808598279953, -0.05182695761322975, 0.052157700061798096, 0.02220931649208069, 0.04125894233584404, 0.0017851177835837007, -0.0009291655733250082, 0.06342467665672302, -0.041469756513834, 0.052069831639528275, 0.0550367571413517, 0.006812775507569313, -0.019810199737548828, -0.03252759948372841, -2.0105526132851992e-08, 0.05313941463828087, -0.022443030029535294, -0.10045324265956879, 0.062117841094732285, 0.048473384231328964, -0.049944546073675156, -0.01975879818201065, 0.014845349825918674, 0.0339086689054966, 0.015460429713129997, 0.04533300921320915, -0.024025598540902138, 0.07504631578922272, 0.010518139228224754, -0.017413372173905373, 0.055554457008838654, 0.04950516298413277, 0.04826008528470993, -0.020821787416934967, -0.04107550531625748, 0.03964318335056305, -0.004869669675827026, -0.025883622467517853, -0.06200742349028587, 0.025200452655553818, -0.030154552310705185, -0.010297022759914398, 0.041947461664676666, 0.007802309934049845, -0.029476674273610115, 0.014945917762815952, -0.026688415557146072, 0.027161043137311935, -0.09254807978868484, 0.020675215870141983, 0.0038669314235448837, -0.07228878885507584, 0.008627151139080524, -0.0017033133190125227, 0.010141240432858467, 0.13084776699543, 0.05983049049973488, -0.03904511034488678, 0.015480595640838146, -0.03020133450627327, -0.032672248780727386, -0.01733356900513172, -0.03640105947852135, -0.005191503558307886, -0.04748379811644554, -0.0035624210722744465, -0.013908286578953266, 0.054832495748996735, 0.08961470425128937, 0.0548163466155529, 0.02329184301197529, 0.008825444616377354, 0.02034803293645382, -0.06581845879554749, 0.05992181599140167, -0.007214011624455452, 0.019791267812252045, -0.0696588009595871, -0.03850291669368744]), Row(uuid_idt='6060D404-3251-11E8-ADC5-480FCF5217B3', latitud='28.522866', longitud='-16.384053', direccion='CALLE C VALLE GUERRA 6 SAN CRISTOBAL DE LA LAGUNA', embedding=[-0.019338427111506462, 0.03208125755190849, -0.029519282281398773, 0.03649105876684189, -0.1150856465101242, -0.0015255635371431708, -0.013504011556506157, 0.04427845776081085, 0.03459189087152481, -0.021640000864863396, 0.02358357235789299, -0.1558479368686676, -0.002680701669305563, -0.02158779464662075, -0.0039486694149672985, -0.020199116319417953, -0.05188079550862312, -0.004826761316508055, 0.0481024906039238, 0.011642053723335266, 0.021937109529972076, -0.015479455702006817, -0.05823959782719612, 0.07281515002250671, -0.033646780997514725, -0.05128901079297066, -0.01935231313109398, 0.08251375705003738, -0.027794212102890015, -0.02232898585498333, 0.015477541834115982, 0.19824156165122986, 0.09927064180374146, 0.018241310492157936, 0.05938667058944702, 0.07876096665859222, -0.023556193336844444, -0.07378296554088593, -0.01651223562657833, 0.053179506212472916, -0.1229318156838417, -0.0003153995785396546, 0.014510268345475197, 0.028638159856200218, 0.007826441898941994, -0.03637654706835747, 0.04699813574552536, 0.045352719724178314, 0.04260306432843208, -0.009158657863736153, -0.04207157716155052, 0.0005201357998885214, -0.03736253082752228, 0.05989968404173851, -0.046931006014347076, 0.018554551526904106, 0.05042277276515961, -0.013612965121865273, 0.12791267037391663, 0.007164923939853907, 0.04917101934552193, 0.02638169564306736, -0.08788985759019852, 0.03495801240205765, -0.05943048745393753, 0.021152639761567116, 0.000577020226046443, -0.047251902520656586, -0.04809867590665817, -0.06981240957975388, 0.036642905324697495, -0.017771290615200996, 0.031170209869742393, -0.03703075274825096, 0.02378685586154461, 0.0339176245033741, -0.08030670136213303, -0.051614560186862946, -0.0581621490418911, -0.044667694717645645, 0.014843901619315147, -0.015076239593327045, 0.021334264427423477, -0.033708903938531876, -0.0068362015299499035, 0.054235685616731644, -0.006376538425683975, -0.03819257766008377, 0.11083799600601196, 0.0036521160509437323, -0.054871007800102234, 0.03820247948169708, -0.07270105183124542, -0.07550724595785141, -0.07660258561372757, 0.035464461892843246, 0.002609571674838662, -0.05506722629070282, 0.0348970927298069, 0.08261560648679733, 0.016129175201058388, 0.03158959746360779, -0.07845347374677658, 0.020096220076084137, 0.008234754204750061, 0.007215060759335756, 0.08331627398729324, 0.054058175534009933, -0.08997499197721481, 0.015138437040150166, -0.05666722357273102, -0.011473222635686398, 0.013967708684504032, -0.060693953186273575, 0.033271148800849915, 0.030650554224848747, 0.11616748571395874, -0.03355315700173378, -0.002228732220828533, -0.022379105910658836, 0.02990657091140747, -0.041390981525182724, -0.07949209958314896, -0.05769140645861626, -0.031482502818107605, -0.026802683249115944, 0.05218903720378876, 4.245969716484583e-33, -0.0027412560302764177, -0.04285401478409767, 0.044527146965265274, 0.06807386130094528, 0.09144101291894913, -0.04645618423819542, -0.016843482851982117, -0.08607284724712372, -0.06862463057041168, -0.010387484915554523, -0.016799818724393845, -0.09027253836393356, 0.007624616846442223, -0.03514095023274422, 0.09362360835075378, 0.08616968244314194, 0.02312927320599556, -0.08398497849702835, -0.0503711923956871, -0.04099423810839653, -0.025799458846449852, 0.03783540427684784, 0.026632895693182945, -0.027019891887903214, 0.05467758700251579, 0.09237159788608551, 0.000540969951543957, -0.024533551186323166, 0.0018019189592450857, 0.04078631475567818, -0.030488938093185425, 0.019165070727467537, 0.05928099900484085, 0.007020056713372469, 0.05732281133532524, 0.006156049203127623, -0.03764968365430832, -0.009070303291082382, -0.07307058572769165, 0.04975827783346176, 0.08070389926433563, 0.03774629533290863, -0.04085010290145874, 0.007676007226109505, 0.04872389882802963, -0.0012055009137839079, 0.014869925566017628, 0.051258817315101624, 0.11017470061779022, 0.00644128629937768, -0.03147998824715614, 0.01833932474255562, -0.08188691735267639, 0.0027859434485435486, 0.04191400483250618, 0.027582814916968346, -0.08020758628845215, -0.024555619806051254, -0.05579523369669914, 0.06047435477375984, 0.1121160238981247, 0.06993237137794495, 0.0004550598678179085, 0.044587720185518265, 0.0012362470151856542, -0.06562366336584091, -0.021512558683753014, 0.06692435592412949, 0.0941678136587143, -0.08666904270648956, -0.0889119803905487, -0.027497798204421997, 0.11210153996944427, 0.02667863294482231, -0.029828866943717003, -0.015399530529975891, -0.03624600172042847, -0.06337157636880875, -0.016234172508120537, 0.022514808923006058, -0.05732380598783493, -0.020901856943964958, 0.037644028663635254, 0.07751405239105225, 0.05453323945403099, 0.03994124382734299, 0.04844791442155838, -0.05705481767654419, -0.028251856565475464, 0.0290828850120306, -0.10177332162857056, 0.0004004414950031787, 0.023608142510056496, -0.015512431040406227, -0.01718936115503311, -5.651755165576465e-33, 0.0448903813958168, -0.052388448268175125, 0.019562020897865295, -0.003775265533477068, -0.03720812499523163, 0.017921095713973045, -0.024015411734580994, -0.0004314241814427078, -0.02126110903918743, -0.03974049538373947, -0.09639795869588852, -0.00962316058576107, 0.08630067110061646, -0.08316698670387268, 0.07221898436546326, 0.08741213381290436, 0.11712639778852463, -0.07635396718978882, -0.06800176948308945, 0.057768162339925766, 0.01768462546169758, -0.011708422563970089, -0.07528308033943176, -0.034348540008068085, 0.014125838875770569, -0.0007728715427219868, 0.06186407431960106, 0.06733597069978714, 0.0231629591435194, 0.020941099151968956, -0.05809922143816948, -0.06707783043384552, 0.011866744607686996, 0.05944639816880226, -0.008733868598937988, 0.04138075187802315, 0.07006577402353287, -0.02512332983314991, 0.04627744108438492, 0.03679456189274788, -0.0009438971756026149, -0.03884585201740265, -0.013778225518763065, -0.003996582701802254, -0.026172155514359474, 0.02088719606399536, 0.0051682330667972565, 0.006664784159511328, -0.026189832016825676, -0.09388910979032516, 0.06648373603820801, -0.08484448492527008, -0.11405966430902481, 0.05053213611245155, 0.06226785108447075, -0.0335790179669857, 0.040163688361644745, -0.0457443967461586, -0.004994729999452829, -0.028383759781718254, 0.06761389970779419, 0.076842300593853, -0.07259522378444672, 0.0017999756382778287, 0.04284648597240448, -0.00901188887655735, -0.03845333680510521, -0.04166962578892708, -0.014202109538018703, 0.013007679022848606, 0.026718437671661377, -0.015913011506199837, -0.1198202595114708, -0.0022294246591627598, -0.08018680661916733, 0.006826602853834629, -0.07414079457521439, 0.06049079820513725, 0.01560520101338625, 0.08123212307691574, -0.017068926244974136, -0.017153840512037277, -0.060514193028211594, 0.05675628408789635, 0.058072060346603394, 0.05759567394852638, 0.009979825466871262, 0.0017309163231402636, 0.054464105516672134, -0.03611965477466583, 0.040831681340932846, 0.011903996579349041, 0.01698417216539383, -0.07222159206867218, -0.014603935182094574, -2.3507974233893947e-08, 0.08238107711076736, -0.014748719520866871, -0.04118802398443222, 0.013658236712217331, -0.004523762036114931, -0.07428212463855743, 0.019268350675702095, 0.001656587002798915, -0.021931417286396027, 0.07612696290016174, -0.03236954286694527, -0.017885206267237663, 0.06363319605588913, 0.007029327563941479, -0.06041697412729263, 0.04230325296521187, 0.06790724396705627, 0.01109438855201006, -0.03875204548239708, -0.04571622610092163, -0.019398532807826996, -0.07175353169441223, -0.01598566584289074, -0.0637640431523323, -0.033226098865270615, -0.042730849236249924, -0.029578572139143944, 0.016869841143488884, -0.019728273153305054, -0.08522690832614899, -0.01749143749475479, -0.017582803964614868, -0.043438270688056946, -0.07411641627550125, 0.006171747110784054, 0.05154780298471451, -0.0261736698448658, -0.0501725859940052, -0.006216347683221102, -0.05432740971446037, 0.05725846067070961, 0.019720638170838356, 0.01935252733528614, 0.017319796606898308, 0.0594303272664547, 0.0046702963300049305, -0.029290204867720604, -0.036959826946258545, 0.02551168017089367, -0.00470141414552927, 0.0047145928256213665, -0.02561386115849018, 0.06858445703983307, 0.05619031563401222, 0.0717097744345665, 0.025293780490756035, 0.054533734917640686, -0.01609676517546177, 0.00043134563020430505, 0.09581256657838821, -0.013448904268443584, 0.009605751372873783, -0.08524684607982635, -0.07565455138683319]), Row(uuid_idt='61987CAD-3251-11E8-BDBA-480FCF5217B3', latitud='28.513135', longitud='-16.381092', direccion='URBANIZACION COLLAZOS CALLE C 1 SAN CRISTOBAL DE LA LAGUNA', embedding=[0.07193654030561447, 0.0026673858519643545, -0.003392816986888647, 0.05027293786406517, -0.09051621705293655, -0.02879762090742588, -0.009756172075867653, 0.04277802258729935, -0.05223551765084267, -0.03887831047177315, 0.02693275921046734, -0.16643743216991425, 0.006884588394314051, -0.036198798567056656, 0.008963306434452534, -0.0003661061928141862, -0.0423644594848156, -0.0012826399179175496, 0.05817282572388649, -0.0028489555697888136, 0.01756240241229534, -0.060213152319192886, -0.08458905667066574, 0.06627845764160156, -0.005506259389221668, 0.04272425174713135, -0.0028614236507564783, 0.08959367126226425, -0.030856942757964134, -0.05340368300676346, 0.028187504038214684, 0.1445370316505432, 0.16054168343544006, 0.015517848543822765, 0.06363806873559952, 0.04885295778512955, -0.015298260375857353, -0.07742970436811447, 0.014322449453175068, 0.0506461001932621, -0.051433008164167404, 0.004087560344487429, -0.017732543870806694, 0.004321401007473469, -0.02854885160923004, -0.05596744269132614, 0.036221425980329514, 0.03092917427420616, 0.03821128234267235, -0.07521423697471619, 0.0019488875987008214, 0.01911155693233013, -0.03521363437175751, 0.05535343289375305, -0.05946444347500801, 0.05453815311193466, -0.0010822056792676449, -0.007677134126424789, 0.12847700715065002, -0.0038555848877876997, 0.07276362180709839, 0.023606713861227036, -0.05176739767193794, 0.032768912613391876, 0.007516677025705576, 0.014040823094546795, -0.03155416250228882, -0.060952261090278625, -0.006752184126526117, -0.08025150746107101, 0.040536150336265564, -0.015718849375844002, 0.016251128166913986, -0.0011671826941892505, -0.025444690138101578, -0.009481065906584263, -0.04787660390138626, -0.03721076250076294, -0.0314047709107399, -0.010919690132141113, -0.01947777345776558, 0.01118934340775013, -0.026763051748275757, -0.04897649958729744, -0.06374146789312363, 0.04791361838579178, -0.017011791467666626, -0.06740511953830719, 0.05043436586856842, -0.002936650300398469, 0.00897606648504734, 0.07487959414720535, -0.07564886659383774, -0.050085436552762985, -0.09108579903841019, 0.0273329745978117, -0.0405198410153389, -0.09112054854631424, 0.07494811713695526, 0.019268756732344627, -0.021357350051403046, -0.0046255518682301044, 0.012626037932932377, -0.010344181209802628, -0.02435045689344406, -0.034008488059043884, 0.07298266887664795, -0.022213973104953766, -0.08627846091985703, 0.05441441014409065, -0.06221378594636917, -0.06498023867607117, -0.03702263906598091, -0.031772978603839874, -0.03552611917257309, 0.021959569305181503, 0.07703009247779846, -0.0008799866191111505, 0.009082761593163013, -0.051687538623809814, 0.016436941921710968, -0.09468336403369904, -0.07238630950450897, -0.10488022118806839, -0.004273532889783382, -0.020457375794649124, 0.0191778764128685, 3.694023690895671e-33, -0.06618577986955643, -0.05028625950217247, -0.010892920196056366, 0.08078686892986298, 0.07076801359653473, -0.07257744669914246, -0.003549851942807436, -0.06400827318429947, -0.032636094838380814, -0.06358838081359863, 0.03799981623888016, -0.08138881623744965, 0.0035009959246963263, -0.04664631187915802, 0.14512434601783752, 0.07104886323213577, -0.004352816380560398, -0.07347505539655685, -0.04453748092055321, -0.006906438153237104, -0.017865290865302086, 0.04853691905736923, 0.010095263831317425, -0.04857734590768814, 0.002048943191766739, 0.007750310003757477, 0.03745463863015175, -0.001845566788688302, -0.020858120173215866, 0.039450060576200485, -0.02535845711827278, 0.045992475003004074, 0.009305708110332489, 0.023108670487999916, 0.07725953310728073, 0.05033034831285477, 0.002679765922948718, 0.028570350259542465, -0.05443498119711876, 0.06616455316543579, 0.016967106610536575, -0.001326645608060062, 0.0005837772041559219, 0.004854719620198011, 0.08683058619499207, 0.06725325435400009, 0.029015207663178444, 0.02667193114757538, 0.07469402253627777, -0.02430589497089386, -0.002014296827837825, 0.001173781231045723, -0.11567585170269012, 0.03603282943367958, 0.041522085666656494, 0.0469183549284935, -0.07097680866718292, -0.021002305671572685, -0.023105405271053314, 0.04696774110198021, 0.033208075910806656, 0.03384900465607643, 0.007579340599477291, 0.026002204045653343, 0.02397308498620987, -0.010283988900482655, 0.02087799273431301, 0.13484816253185272, 0.17075397074222565, -0.01724492758512497, -0.03685183450579643, -0.02929682843387127, 0.06777297705411911, 0.08951794356107712, -0.04513457417488098, -0.038888927549123764, -0.04790859296917915, -0.03259596228599548, -0.02597053349018097, 0.07130271941423416, -0.03166435658931732, -0.04231514036655426, -0.01888415403664112, 0.07151269167661667, 0.10970676690340042, 0.020697465166449547, 0.04098380729556084, 0.0016778561985120177, 0.0008877513464540243, 0.024295367300510406, -0.02381199412047863, 0.046632785350084305, 0.008914440870285034, -0.04304474592208862, -0.024477878585457802, -4.67554714749488e-33, 0.039805419743061066, -0.0675651803612709, 0.029077092185616493, -0.0021216492168605328, -0.09532790631055832, 0.020844509825110435, -0.0616864338517189, -0.06017264723777771, -0.002129711676388979, -0.006704529747366905, -0.13331997394561768, -0.022323746234178543, 0.1014549508690834, -0.08915828913450241, 0.04459945484995842, 0.07510057836771011, 0.10355321317911148, -0.07931233197450638, -0.10375125706195831, 0.05558989942073822, -0.033146895468235016, 0.009122876450419426, -0.09465532004833221, -0.050276998430490494, -0.007670117542147636, -0.015046311542391777, -0.05361947417259216, 0.07489809393882751, 0.005601495038717985, 0.0450541116297245, -0.03758832812309265, -0.04566789045929909, -0.016771355643868446, 0.05186552181839943, -0.042788997292518616, 0.02910543791949749, 0.05948546156287193, -0.050200317054986954, 0.06548138707876205, 0.06238021329045296, -0.006470634136348963, -0.0760975331068039, -0.0066282073967158794, -2.7255757231614552e-05, -0.009543495252728462, 0.01688615046441555, 0.0009735755738802254, -0.018594924360513687, -0.04066978767514229, -0.11655224114656448, 0.10048089921474457, -0.007270677015185356, -0.12198425829410553, 0.018335944041609764, 0.059320542961359024, -0.026032205671072006, 0.04595470800995827, 0.04946040362119675, -0.05974094942212105, -0.03002985380589962, 0.09219913929700851, 0.029906051233410835, -0.03204349800944328, 0.0436893068253994, 0.025592783465981483, -0.008018137887120247, 0.009382958523929119, -0.04132741317152977, 0.008075866848230362, 0.0059606465511024, 0.05624954029917717, -0.003303573466837406, -0.06133046746253967, 0.040640078485012054, -0.08637824654579163, 0.018045319244265556, -0.04161868616938591, 0.10377635806798935, 0.018668444827198982, 0.041142962872982025, 0.011956322938203812, -0.007864763028919697, -0.06278374046087265, -0.029303429648280144, 0.05846155807375908, 0.018185382708907127, -0.020935386419296265, -0.021243376657366753, 0.007454695180058479, 0.022263266146183014, 0.0125086335465312, 0.05262211710214615, -0.04663560166954994, -0.018774405121803284, -0.014239289797842503, -2.3623899281233207e-08, 0.053066521883010864, 0.009233083575963974, -0.048943936824798584, 0.06022435799241066, 0.045158304274082184, -0.051607631146907806, 0.023655274882912636, 0.06487870216369629, 0.0029135760851204395, 0.06908480077981949, -0.048682838678359985, 0.02462281845510006, 0.04660451039671898, 0.062334634363651276, -0.08288843184709549, 0.0401291698217392, 0.06771227717399597, 0.01381765864789486, -0.0006497306749224663, -0.016998188570141792, -0.0027297658380120993, -0.05137273296713829, -0.0936020165681839, -0.0142148956656456, -0.026460466906428337, -0.031169945374131203, -0.04970136284828186, 0.049878258258104324, 0.02459215186536312, -0.02540767192840576, 0.021432247012853622, -0.052756208926439285, -0.007802440319210291, -0.03922015056014061, 0.036577749997377396, 0.045058723539114, 0.020313341170549393, -0.008328541181981564, -0.025326071307063103, -0.09664731472730637, 0.08335567265748978, 0.007046065293252468, -0.030893681570887566, 0.00528823072090745, 0.0021114826668053865, -0.020116634666919708, -0.06234114617109299, 0.01346909161657095, 0.04231890290975571, -0.027456985786557198, -0.010670020245015621, -0.0022904661018401384, 0.014717213809490204, 0.07956217974424362, 0.07406971603631973, -0.014392061159014702, 0.009924107231199741, -0.013076993636786938, -0.02944406121969223, 0.08621005713939667, -0.03531401976943016, 0.03171418607234955, -0.06265082210302353, -0.027117745950818062]), Row(uuid_idt='6198F343-3251-11E8-BDD9-480FCF5217B3', latitud='28.475741', longitud='-16.301423', direccion='CALLE BUEN PASTOR 15 SAN CRISTOBAL DE LA LAGUNA', embedding=[-0.03612682223320007, 0.054861392825841904, -0.006979621015489101, -0.012257176451385021, -0.0820607841014862, 0.008937057107686996, 0.033596236258745193, 0.020200569182634354, 0.08475644141435623, -0.055106233805418015, -0.0071327961049973965, -0.13179029524326324, -0.0003180346975568682, -0.049431901425123215, 0.006063662003725767, -0.006182404235005379, -0.05398286134004593, 0.0368802547454834, 0.05286412313580513, -0.015775831416249275, -0.013216131366789341, 0.06123419478535652, -0.08230868726968765, 0.0600559301674366, -0.03431542590260506, -0.05211418494582176, -0.014813930727541447, 0.0030565455090254545, -0.04370417445898056, -0.01137594785541296, 0.09694606065750122, 0.12817944586277008, 0.09155140817165375, -0.022260179743170738, 0.02680845744907856, 0.08706474304199219, -0.00916092749685049, -0.009633757174015045, -0.03088505007326603, 0.11042801290750504, -0.05896637216210365, 0.033022597432136536, -0.07723418623209, -0.054180245846509933, 0.041510678827762604, -0.10676566511392593, -0.0393332913517952, 0.026070550084114075, 0.07268844544887543, -0.032256267964839935, -0.09616445749998093, 0.003643832402303815, 0.046771470457315445, 0.08834100514650345, -0.05802042782306671, 0.09865745902061462, 0.0381757915019989, -0.0056155091151595116, 0.0681031346321106, 0.04945293813943863, 0.03215093910694122, 0.025096196681261063, -0.07994110882282257, 0.009524933062493801, -0.06399393081665039, 0.02222946286201477, -0.017639819532632828, -0.0361129529774189, -0.0698997899889946, -0.06272996962070465, 0.06986670941114426, -0.014285033568739891, -0.015204510651528835, -0.0365753211081028, -0.03690289705991745, 0.001656092470511794, -0.0758548229932785, -0.034562960267066956, -0.037916719913482666, -0.04274939000606537, -0.011851577088236809, -0.05389387160539627, 0.004679729230701923, -0.033197034150362015, -0.05676018074154854, 0.056171827018260956, 0.014760174788534641, -0.0418570451438427, 0.07708151638507843, 0.03525826707482338, -0.045084767043590546, 0.04100227728486061, -0.11625561118125916, -0.0889945924282074, -0.02229340746998787, 0.021295102313160896, -0.004394129384309053, -0.07747499644756317, -0.012903365306556225, 0.11203300207853317, -0.02561013028025627, 0.032160431146621704, -0.028786106035113335, 0.009969908744096756, -0.03375088796019554, -0.00232707429677248, 0.09133603423833847, 0.012209435924887657, -0.01167879905551672, -0.016282016411423683, 0.014590360224246979, -0.014751979149878025, -0.018372559919953346, -0.09691217541694641, 0.075337253510952, 0.024346964433789253, 0.12460446357727051, -0.033483490347862244, -0.0019428908126428723, -0.03206583857536316, 0.019135229289531708, 0.007295133080333471, -0.04997202754020691, -0.030169786885380745, -0.04066067561507225, -0.029381953179836273, 0.05503172054886818, 5.742057008948618e-33, 0.03836458921432495, -0.03189975395798683, 0.05416892468929291, 0.05589545890688896, 0.07574202865362167, 0.04019542783498764, -0.04852874577045441, -0.0326203815639019, -0.012804689817130566, -0.12284937500953674, 0.011984292417764664, -0.05530228838324547, -0.006817872170358896, -0.06255006045103073, 0.026471732184290886, 0.034301090985536575, 0.025017566978931427, -0.046606939285993576, -0.023727763444185257, -0.06455332785844803, -0.0058665829710662365, -0.03164101392030716, -0.010149789042770863, 0.046720873564481735, 0.049452513456344604, 0.020773647353053093, 0.058018118143081665, 0.025863949209451675, 0.047323524951934814, 0.031990114599466324, -0.010587302967905998, 0.003817192977294326, 0.03387363627552986, -0.031777478754520416, 0.050114355981349945, 0.0018898526905104518, 0.014031567610800266, -0.0008485078578814864, -0.0440436452627182, -0.011910559609532356, 0.08090150356292725, 0.039415761828422546, 0.036547426134347916, 0.03817526623606682, 0.04487050697207451, 0.036696240305900574, 0.07086417078971863, 0.04493637755513191, 0.13172972202301025, 0.04705796390771866, -0.057453203946352005, 0.028599487617611885, -0.10476980358362198, -0.022509263828396797, 0.003126738592982292, 0.038604576140642166, -0.03915766626596451, 0.03176829591393471, 0.015284287743270397, 0.043354444205760956, 0.1058974489569664, 0.04302433878183365, 0.015893740579485893, 0.021397145465016365, 0.0052609979175031185, -0.08989057689905167, 0.02233962155878544, 0.03893347457051277, 0.10841991007328033, -0.058245815336704254, -0.0434701144695282, 0.017581751570105553, 0.10806910693645477, 0.03802879899740219, -0.01918044127523899, -0.02669062465429306, -0.04533783346414566, -0.07415825128555298, 0.007840121164917946, 0.07935348153114319, -0.014847456477582455, -0.03907250985503197, -0.00873700063675642, 0.04721319302916527, 0.058295249938964844, 0.023623835295438766, 0.08203639835119247, -0.017169136554002762, -0.014149408787488937, 0.05659519508481026, -0.034061938524246216, 0.06382397562265396, 0.05893014743924141, -0.03255367651581764, -0.01989949494600296, -5.80277055748462e-33, 0.06207325682044029, -0.07946397364139557, 0.01653015986084938, 0.04506608471274376, -0.016773713752627373, 0.009100381284952164, -0.035782378166913986, 0.04873974621295929, 0.005111965816468, -0.03505154699087143, -0.053280025720596313, -0.035370420664548874, 0.09206665307283401, -0.08307164162397385, 0.06703772395849228, 0.10573025792837143, 0.028801657259464264, -0.0015969299711287022, -0.1278999000787735, -0.008364295586943626, 0.020869717001914978, 0.0414380207657814, -0.02295100875198841, 0.058231744915246964, 0.034873440861701965, -0.015140957199037075, 0.02198105864226818, 0.09472763538360596, -0.026702338829636574, -0.03438710421323776, -0.0018756421050056815, -0.06700193136930466, -0.08712209761142731, 0.09753035753965378, -0.05651814863085747, 0.04360207915306091, 0.08397188782691956, 0.013428104110062122, 0.055102888494729996, -0.0016070312121883035, -0.012424156069755554, -0.0527794286608696, -0.01998700574040413, -0.025537017732858658, -0.07075277715921402, 0.011383801698684692, 0.007564442697912455, -0.017923761159181595, 0.007540546823292971, -0.11769070476293564, -0.02131054736673832, -0.10337389260530472, -0.08397863805294037, 0.012660946696996689, 0.0329107940196991, -0.09890451282262802, -0.025506481528282166, -0.025333689525723457, -0.03147817775607109, -0.019880160689353943, 0.10808183252811432, 0.017574166879057884, 0.022841447964310646, 0.06382963061332703, -0.002484759781509638, -0.023356029763817787, -0.012366031296551228, -0.012118993327021599, -0.011994379572570324, 0.07019966095685959, 0.000345986190950498, -0.0739864706993103, -0.04816543683409691, 0.04175104945898056, -0.09068695455789566, 0.05964026227593422, -0.03757653757929802, -0.004250478930771351, -0.01845858432352543, 0.01580721326172352, 0.050171274691820145, -0.0763012021780014, -0.10285018384456635, -0.005796236917376518, 0.021007739007472992, -0.03274853900074959, 0.03973765671253204, -0.015282017178833485, 0.048066750168800354, -0.0023459980729967356, -0.04714218154549599, 0.02138664200901985, 0.01999264396727085, -0.07061227411031723, 0.001703138928860426, -2.4559927425116257e-08, 0.05635201930999756, -0.05024483799934387, -0.019760863855481148, 0.03556765615940094, 0.06800083070993423, -0.10512523353099823, -0.019038548693060875, -0.04055699333548546, 0.035040777176618576, 0.03246431425213814, -0.07701118290424347, -0.05379720404744148, -0.004266972653567791, 0.053588397800922394, -0.01568012312054634, 0.025558000430464745, 0.09363214671611786, -0.018070176243782043, 0.027357447892427444, -0.056936390697956085, 0.009460660628974438, -0.03627936914563179, 0.010727094486355782, -0.042579129338264465, -0.0007890083361417055, -0.011106212623417377, -0.04603934288024902, 0.09427116066217422, 0.0026129870675504208, -0.024725301191210747, 0.029440630227327347, 0.013545767404139042, -0.055839572101831436, -0.039596568793058395, 0.044933535158634186, 0.07096101343631744, -0.11133711040019989, -0.025472309440374374, -0.042436737567186356, 0.00684196874499321, 0.05789762735366821, -0.0032262257300317287, 0.020287275314331055, 0.005363804753869772, -0.04930514842271805, -0.01941901259124279, 0.010685553774237633, 0.0019318845588713884, 0.058508358895778656, -0.031227795407176018, -0.012345358729362488, -0.044597528874874115, 0.12693393230438232, 0.011697810143232346, -0.011068780906498432, 0.01654578000307083, 0.04171719402074814, -0.01881597377359867, 0.011697507463395596, 0.023881886154413223, -0.01861889846622944, 0.022624000906944275, -0.10721314698457718, -0.04209189489483833]), Row(uuid_idt='62271D6E-3251-11E8-BBA0-480FCF5217B3', latitud='28.449095', longitud='-16.310498', direccion='CALLE PEATONAL FRAGUA 6 SAN CRISTOBAL DE LA LAGUNA', embedding=[0.011103315278887749, 0.038990311324596405, 0.013901432044804096, 0.00390743650496006, -0.10609227418899536, -0.0159019622951746, -0.026465987786650658, 0.00575044983997941, 0.03265200927853584, -0.006900313775986433, -0.026174679398536682, -0.12533412873744965, -0.07126719504594803, -0.008006151765584946, 0.01904337666928768, -0.05337602272629738, -0.09546676278114319, 0.0011165192117914557, 0.021614937111735344, 0.015481309033930302, 0.07574453204870224, 0.013301583006978035, -0.06096798554062843, 0.06281903386116028, -0.04645223543047905, -0.07838358730077744, -0.018492301926016808, 0.0950201153755188, -0.0004954744363203645, -0.07610347867012024, -0.00021950635709799826, 0.21586668491363525, 0.08298711478710175, -0.0014613319654017687, 0.03210721164941788, 0.05030488595366478, -0.0037987511605024338, -0.10572691261768341, 0.03329899534583092, 0.06092102825641632, -0.10625617951154709, -0.05146798864006996, -0.024955904111266136, 0.06475596129894257, -0.011458821594715118, -0.02413981407880783, 0.032131046056747437, 0.0182667076587677, 0.04574628174304962, -0.01289487536996603, -0.03550252318382263, -0.02741091698408127, -0.04549483209848404, 0.08100694417953491, -0.0034034152049571276, 0.06798306107521057, 0.07248091697692871, -0.0025147958658635616, 0.10479961335659027, 0.04714806750416756, 0.04234209284186363, 0.030365971848368645, -0.08885529637336731, 0.014245481230318546, -0.05512845143675804, 0.013010000810027122, -0.015326790511608124, -0.05278582498431206, -0.03437710180878639, -0.059221554547548294, 0.04725459963083267, 0.008084182627499104, 0.0542655773460865, -0.045601796358823776, -0.015128402970731258, 0.05315277352929115, -0.12506964802742004, -0.06715484708547592, -0.03864199295639992, -0.02163241058588028, 0.027169447392225266, 0.007130779325962067, 0.03946361690759659, -0.050145458430051804, -0.004301224369555712, 0.01931644417345524, 0.0022258893586695194, -0.023305078968405724, 0.09865903109312057, 0.00464057270437479, -0.023893484845757484, 0.10053812712430954, -0.07082224637269974, -0.06869976967573166, -0.031207531690597534, 0.04470318183302879, 0.035172540694475174, -0.08029191941022873, 0.04249868541955948, 0.02753717079758644, 0.026448607444763184, 0.06196492537856102, -0.09076281636953354, -0.033381152898073196, 0.0259792972356081, -0.017350053414702415, 0.04022448509931564, -0.022837389260530472, -0.06102540343999863, 0.02954745478928089, -0.0628778412938118, -0.05009089410305023, 0.002333276439458132, -0.034137628972530365, -0.05405659228563309, 0.008946293964982033, 0.04905891418457031, -0.037662018090486526, -0.011055377312004566, -0.07595118135213852, 0.019638633355498314, -0.01873120479285717, -0.010306586511433125, -0.07806567847728729, -0.02238120138645172, -0.043446581810712814, 0.008708497509360313, 5.41535663947038e-33, 0.025329070165753365, -0.0038003684021532536, -0.006765735801309347, 0.06011202931404114, 0.09364091604948044, -0.0361999087035656, -0.018647685647010803, -0.051172953099012375, -0.10180793702602386, 0.002336350502446294, -0.03770047426223755, -0.05445396155118942, -0.01619330607354641, -0.04969272390007973, 0.07679762691259384, 0.0991935208439827, -0.03872391954064369, -0.02804979868233204, -0.1114710122346878, -0.01206220407038927, -0.04899328574538231, 0.054172299802303314, 0.024777036160230637, -0.059152670204639435, -0.021092817187309265, 0.09344835579395294, -0.009396271780133247, -0.021101277321577072, -0.030994202941656113, 0.030034754425287247, 0.05747384950518608, -0.04679863527417183, 0.0008854026673361659, 0.010635998100042343, 0.05924225226044655, -0.04843936860561371, 0.0009262602543458343, 0.006780118681490421, -0.12512977421283722, 0.09364742785692215, 0.0975077822804451, 0.018629975616931915, -0.01927492395043373, 0.013434181921184063, 0.048105716705322266, 0.022248277440667152, 0.031961049884557724, 0.020265325903892517, 0.09583277255296707, 0.003354023676365614, -0.012109596282243729, -0.02924298867583275, -0.09286236017942429, -0.042207714170217514, 0.04383889213204384, -0.005932571366429329, -0.04043715447187424, -0.014317518100142479, -0.034346893429756165, 0.0471220463514328, 0.05021696910262108, -0.036004308611154556, -5.04187228216324e-05, 0.02921563945710659, -0.0017575701931491494, -0.025908084586262703, -0.04261285439133644, 0.04500271752476692, 0.14094321429729462, -0.057485904544591904, 0.017807604745030403, -0.0756513923406601, 0.05277026817202568, 0.05514475703239441, 0.001487772911787033, 0.0019945548847317696, -0.015137824229896069, -0.010493125766515732, -0.060960158705711365, 0.054014161229133606, -0.03153395652770996, -0.030536586418747902, -0.022622505202889442, 0.039940740913152695, 0.02388743683695793, 0.06925651431083679, 0.05498586967587471, 0.011459634639322758, -0.0052695926278829575, 0.036488767713308334, -0.05637102946639061, -0.00025389273650944233, 0.021500572562217712, -0.07676870375871658, 0.039180245250463486, -5.350516371079022e-33, 0.05878704786300659, -0.06562894582748413, 0.009905917569994926, 0.021341217681765556, -0.02331128716468811, -0.002937775570899248, 0.036220893263816833, 0.021298501640558243, 0.04708490148186684, 0.0016939248889684677, -0.06525999307632446, -0.004218637011945248, 0.12167907506227493, -0.08663269132375717, 0.012382948771119118, 0.13927775621414185, 0.09875220060348511, -0.07279273122549057, -0.06477589160203934, 0.08213644474744797, -0.025721624493598938, 0.0052179298363626, -0.0753357857465744, 0.018218090757727623, -0.0018531049136072397, 0.002640192396938801, 0.07226932048797607, 0.024381795898079872, -0.04011872783303261, 0.028779800981283188, -0.024597181007266045, -0.07647698372602463, -0.0006722138496115804, 0.07704465091228485, -0.042184025049209595, 0.0037104752846062183, 0.06630871444940567, -0.006791101768612862, 0.008173744194209576, 0.026832157745957375, -0.01946006715297699, -0.03456505760550499, -0.007543526124209166, -0.019441036507487297, -0.002009714487940073, -0.048819251358509064, -0.020894000306725502, -0.013844814151525497, -0.010389300063252449, -0.041096754372119904, 0.10082606226205826, -0.06645223498344421, -0.11409100145101547, 0.004386408720165491, 0.06215038523077965, -0.049868520349264145, -0.010490722954273224, -0.037802476435899734, 0.0006659526261501014, -0.007778987754136324, 0.1129462942481041, 0.052402544766664505, -0.012983527965843678, -0.0016425094800069928, 0.04955381527543068, 0.05567629262804985, -0.04067659378051758, 0.002125723985955119, 0.011316755786538124, 0.028386957943439484, 0.036606673151254654, -0.009202292189002037, -0.052219804376363754, 0.050448670983314514, -0.07387450337409973, 0.054701752960681915, -0.08581174910068512, 0.09275409579277039, 0.055379197001457214, 0.09039930999279022, -0.02532508224248886, -0.048784948885440826, -0.03599393367767334, 0.04510386288166046, 0.05299294367432594, -0.005440305452793837, 0.028629248961806297, -0.02001374587416649, 0.03073657676577568, -0.05792069807648659, 0.03813565894961357, 0.04011725261807442, -0.027851663529872894, -0.011245965957641602, 0.00779320951551199, -2.342053484483131e-08, 0.08943117409944534, -0.034414686262607574, -0.006360799074172974, 0.06970290839672089, 0.05400954559445381, -0.06963193416595459, 0.034218207001686096, 0.0376543328166008, 0.01669849455356598, 0.06475365161895752, -0.05252113193273544, -0.03040580078959465, 0.06579606980085373, 0.045093026012182236, -0.026921620592474937, 0.015258057974278927, 0.0679636150598526, 0.0740085169672966, -0.056478023529052734, -0.05397175997495651, -0.017585311084985733, -0.035617895424366, -0.011615017428994179, -0.06680869311094284, -0.01745917834341526, -0.011454026214778423, -0.014235470443964005, 0.0011794345919042826, 0.029375027865171432, -0.07956886291503906, -0.0071556963957846165, -0.03097551316022873, -0.020680073648691177, -0.060384683310985565, -0.00896519050002098, 0.08718325942754745, -0.005155503749847412, -0.034846872091293335, -0.02802291512489319, -0.07087843865156174, 0.080961212515831, -0.05147561430931091, 0.005836157593876123, -0.019056297838687897, 0.020514804869890213, -0.03955037146806717, -0.05049462243914604, -0.028764640912413597, 0.004641954321414232, 0.037027910351753235, 0.05083727836608887, -0.027549605816602707, 0.0827072262763977, 0.050819672644138336, 0.07361077517271042, 0.004730203188955784, 0.042941074818372726, -0.006942278239876032, -0.04804648086428642, 0.07502325624227524, -0.012175606563687325, 0.04312346875667572, 0.0036424724385142326, -0.06682462245225906]), Row(uuid_idt='62744E79-3251-11E8-A581-480FCF5217B3', latitud='28.441079', longitud='-16.297374', direccion='CALLE MAJADAS SAN MATIAS 11 SAN CRISTOBAL DE LA LAGUNA', embedding=[-0.025205111131072044, 0.04389070346951485, -0.015757175162434578, 0.004499708767980337, -0.10501182824373245, -0.0053939796052873135, 0.015186047181487083, 0.018360760062932968, 0.031280457973480225, -0.05573549121618271, 0.02240770496428013, -0.11292648315429688, -0.03264084458351135, -0.046362314373254776, 0.038080133497714996, -0.05176034942269325, -0.07314261794090271, 0.015449292957782745, 0.03530127555131912, 0.05578567087650299, 0.07030575722455978, -0.021771669387817383, -0.10629177838563919, 0.045999426394701004, -0.04927074909210205, -0.0022044985089451075, 0.027374252676963806, 0.046718403697013855, -0.008473856374621391, -0.028728261590003967, 0.07293659448623657, 0.1742790937423706, 0.12403686344623566, -0.03293522447347641, 0.027510976418852806, 0.05297300964593887, -0.02218327857553959, -0.09827037900686264, 0.009034672752022743, 0.06242542713880539, -0.11233997344970703, 0.0053923181258141994, -0.0315551683306694, -0.0391090027987957, 0.002676981035619974, -0.06620646268129349, 0.014715219847857952, 0.011593212373554707, 0.06603151559829712, -0.025234989821910858, -0.07886368781328201, 0.023592453449964523, -0.012480554170906544, 0.09891362488269806, -0.02687702514231205, 0.026948627084493637, 0.05309593304991722, -0.07233419269323349, 0.07434119284152985, 0.020932741463184357, 0.05616796389222145, 0.031228674575686455, -0.03906502574682236, -0.0027155729476362467, -0.08217588812112808, 0.03964746743440628, -0.07460857927799225, -0.04559968039393425, -0.03866665065288544, -0.07321373373270035, 0.042563680559396744, 0.016734538599848747, 0.02543727308511734, -0.004280996508896351, -0.03440427407622337, 0.01822926290333271, -0.03753383457660675, -0.10000941157341003, -0.05933139845728874, -0.028533587232232094, -0.05979257449507713, -0.06396670639514923, 0.015018239617347717, -0.08395617455244064, -0.0013585229171440005, 0.039524536579847336, -0.009327743202447891, 5.604813122772612e-05, 0.06566371768712997, 0.026647120714187622, -0.019661515951156616, 0.07561467587947845, -0.10662374645471573, -0.02970847301185131, -0.028674418106675148, 0.035283226519823074, 0.019405337050557137, -0.09675994515419006, 0.011295401491224766, 0.06017361208796501, 0.012378264218568802, 0.026091352105140686, -0.07274854928255081, 0.002838286105543375, -0.053232934325933456, 0.005885059479624033, 0.07704006135463715, -0.03063099831342697, -0.09679005295038223, -0.014202754013240337, -0.032740093767642975, -0.05205566808581352, -0.06109076365828514, -0.06310420483350754, -0.018324820324778557, 0.024594178423285484, 0.08461154252290726, -0.014517776668071747, -0.020858891308307648, -0.052976470440626144, 0.02038131281733513, -0.0299198217689991, -0.06473851948976517, -0.015570803545415401, -0.009733118116855621, -0.003968171309679747, -0.006003467366099358, 5.1005798234713105e-33, 0.0070329816080629826, -0.05880683660507202, 0.004617525264620781, 0.055618781596422195, 0.0920918807387352, -0.03389877453446388, -0.05988394469022751, -0.0977848619222641, 0.0010151624446734786, -0.06293770670890808, -0.010064896196126938, -0.051835592836141586, -0.02308860793709755, -0.09513768553733826, 0.08520632982254028, 0.04190932586789131, 0.006756185553967953, -0.08361248672008514, -0.015912963077425957, -0.04578118771314621, -0.017565520480275154, -0.00378603208810091, 0.03279280662536621, -0.010207905434072018, 0.013258449733257294, 0.08196878433227539, 0.04360657557845116, -0.006938718259334564, 0.010239064693450928, 0.05609700083732605, -0.0009673662134446204, -0.02492501586675644, 0.01472251396626234, 0.01030481606721878, 0.047940053045749664, 0.04222140461206436, 0.02765362709760666, 0.004273056518286467, -0.10797303915023804, 0.0032120023388415575, 0.04351498931646347, 0.02317345328629017, 0.01324496790766716, 0.03942973539233208, 0.029434561729431152, 0.0098503353074193, 0.028452351689338684, 0.026987111195921898, 0.12551212310791016, 0.0018942115129902959, -0.06765486299991608, 0.00758513156324625, -0.1173977330327034, 0.007173037156462669, 0.015897227451205254, -0.01509071048349142, -0.05992219224572182, -0.01515431609004736, -0.048923492431640625, 0.05032547190785408, 0.09089624136686325, -0.01124418992549181, -0.0003424540627747774, 0.03520890325307846, -0.0067992983385920525, 0.010165573097765446, 0.05597301945090294, 0.054653190076351166, 0.11777301132678986, -0.030427485704421997, -0.051587097346782684, -0.003498157486319542, 0.10788394510746002, 0.07301546633243561, -0.020198939368128777, -0.010305418632924557, -0.022806745022535324, -0.007296415511518717, -2.339412094443105e-05, 0.07312369346618652, -0.015168874524533749, 0.04716262221336365, 0.014586138539016247, 0.07848332077264786, 0.06368375569581985, 0.04985576868057251, 0.03128119185566902, -0.014746103435754776, -0.0449943020939827, 0.02107764594256878, -0.02608703263103962, 0.07349781692028046, 0.08307655900716782, -0.024776890873908997, -0.05789992958307266, -6.895665124326533e-33, 0.008083016611635685, -0.039699308574199677, -0.004998996388167143, -0.02368072420358658, -0.052725233137607574, 0.009388070553541183, -0.03577149659395218, 0.007418456021696329, 0.012002293951809406, 0.0016072607832029462, -0.15500934422016144, -0.038019463419914246, 0.08007314801216125, -0.11058741807937622, 0.06434322893619537, 0.0772494524717331, 0.13602951169013977, -0.02498401701450348, -0.10072053223848343, 0.009061780758202076, 0.04352160170674324, 0.0521213598549366, -0.025903236120939255, -0.029216710478067398, 0.01386469230055809, -0.019998785108327866, 0.022210877388715744, 0.058502309024333954, -0.05903705954551697, -0.006440082564949989, -0.0028281270060688257, -0.08516281098127365, -0.06129273399710655, 0.07142726331949234, -0.01461981050670147, 0.012474591843783855, 0.05321652069687843, -0.0021037189289927483, 0.05559133365750313, 0.04412941262125969, 0.002619558246806264, -0.05825640261173248, 0.017045224085450172, 0.014445370994508266, -0.06979246437549591, -0.018093358725309372, -0.010768207721412182, 0.016253327950835228, -0.01660045236349106, -0.09807391464710236, 0.04752405360341072, -0.06621504575014114, -0.09315288066864014, 0.013656072318553925, 0.09016398340463638, -0.04404279962182045, 0.0020895753987133503, -0.007917594164609909, -0.004886144772171974, 0.01170869916677475, 0.09173960983753204, 0.022158902138471603, -0.047135818749666214, -0.007738047745078802, 0.0063982619903981686, 0.006839025299996138, -0.010766716673970222, -0.07354272156953812, 0.003247055457904935, 0.05871311575174332, 0.03312189131975174, -0.016204001381993294, -0.14166535437107086, 0.0540618970990181, -0.10670673847198486, 0.018467603251338005, -0.10807014256715775, 0.05890601500868797, 0.017543720081448555, 0.058870114386081696, 0.05158571898937225, -0.038447752594947815, -0.050257232040166855, -0.0066515919752418995, 0.05169009044766426, 0.029998427256941795, 0.006081750616431236, 0.015765855088829994, 0.06509066373109818, -0.0325927659869194, 0.014179764315485954, 0.03411644324660301, 0.034067343920469284, -0.060076236724853516, -0.03385796397924423, -2.5682851401143125e-08, 0.04966273903846741, -0.04579050838947296, -0.04005562886595726, 0.015675226226449013, 0.04176889732480049, -0.06208407133817673, -0.015959540382027626, 0.04237829148769379, 0.03836359828710556, 0.02059275656938553, -0.022203592583537102, -0.041155342012643814, 0.041595615446567535, 0.06485908478498459, -0.06968582421541214, 0.054134149104356766, 0.07225150614976883, 0.02439749240875244, -0.0009443525341339409, -0.031129490584135056, 0.006667579058557749, -0.06004049628973007, -0.040347591042518616, -0.05453242361545563, -0.059576887637376785, 0.003643955336883664, -0.02918720617890358, 0.03128616884350777, 0.04439632222056389, -0.010411773808300495, 0.03923402726650238, -0.02705894038081169, -0.03163810819387436, -0.05070442706346512, -1.4566501249646535e-06, 0.051790229976177216, -0.016141293570399284, -0.01160520501434803, -0.0299012903124094, -0.033572182059288025, 0.08561569452285767, -0.015577438287436962, 0.004235997796058655, 0.030511561781167984, 0.037665195763111115, -0.005167444236576557, -0.07487200200557709, -0.00010843112977454439, 0.026344656944274902, -0.0033780743833631277, 0.024561917409300804, -0.014470208436250687, 0.0888296514749527, 0.09162986278533936, 0.013030854985117912, 0.00016367281205020845, 0.02643466927111149, -0.005170398857444525, -0.013485699892044067, 0.11669659614562988, 0.03611714392900467, 0.05437216907739639, -0.11071022599935532, 0.01394379697740078]), Row(uuid_idt='67B1FDF2-3251-11E8-BD54-480FCF5217B3', latitud='28.453947', longitud='-16.299825', direccion='CALLE SAN CASIANO CAMINO HORNERA 22 SAN CRISTOBAL DE LA LAGUNA', embedding=[-0.012127122841775417, 0.021374868229031563, -0.01649739407002926, -0.005131675861775875, -0.11808286607265472, 0.014281252399086952, 0.05726950615644455, 0.1025121882557869, 0.03916275501251221, -0.02482757344841957, 0.03962885960936546, -0.12710611522197723, -0.03829798102378845, -0.0046134283766150475, 0.0057586850598454475, -0.026836344972252846, -0.0790247917175293, -0.012083493173122406, 0.05593552067875862, 0.03904322534799576, 0.02714768424630165, -0.05670827999711037, -0.08988795429468155, 0.05021270364522934, -0.06870321184396744, 0.004547972697764635, -0.006521929986774921, 0.08586569130420685, -0.05446893721818924, -0.01328717265278101, 0.04976172745227814, 0.15557751059532166, 0.11310261487960815, -0.017536047846078873, 0.020229486748576164, 0.02251378446817398, -0.0322330966591835, -0.06264062225818634, 0.002528949873521924, 0.04486283287405968, -0.09245291352272034, -0.0019378289580345154, -0.05251115560531616, 0.027319904416799545, 0.030379751697182655, -0.020010368898510933, 0.05160856992006302, 0.033805444836616516, 0.06536789238452911, -0.02733440324664116, -0.11190766096115112, 0.00034988741390407085, 0.038814324885606766, 0.06098397821187973, -0.06985791027545929, 0.06207853555679321, 0.06395155191421509, 0.01692516729235649, 0.07474551349878311, 0.0358419306576252, 0.012303384952247143, 0.007238216698169708, -0.057549264281988144, 0.01226874254643917, -0.055193256586790085, 0.03821750730276108, -0.027893872931599617, -0.07459414005279541, -0.04196306690573692, -0.02619408443570137, 0.019140949472784996, -0.012903169728815556, -0.03027982823550701, 0.0018206059467047453, -0.05059683695435524, 0.062427982687950134, -0.03784259408712387, -0.04295436292886734, -0.0008594333776272833, -0.04303337261080742, -0.011841893196105957, -0.07471926510334015, -0.019118499010801315, -0.0118288304656744, 0.004005503375083208, 0.031678322702646255, 0.04188116639852524, -0.032293278723955154, 0.08054498583078384, -0.0018340644892305136, -0.0717850923538208, 0.027771074324846268, -0.1481810361146927, -0.05581418797373772, -0.06956657767295837, 0.005857883486896753, 0.02287917584180832, -0.05750975012779236, 0.0037407586351037025, 0.07459886372089386, 0.0004207631282042712, 0.061106640845537186, -0.05208734795451164, 0.013472878374159336, -0.04677825793623924, 0.03708229213953018, 0.05912395194172859, 0.01821577548980713, -0.04854115471243858, -6.193340959725901e-05, -0.04603072628378868, 0.0050392160192132, -0.011696785688400269, -0.04638759791851044, 0.023547830060124397, 0.01881399191915989, 0.045843493193387985, 0.002787960460409522, -0.0018228532280772924, -0.030465861782431602, 0.01598215475678444, -0.012520420365035534, -0.07628247141838074, -0.06213950738310814, -0.034005600959062576, -0.04867848381400108, 0.016132302582263947, 6.23212942001406e-33, 0.003169225063174963, -0.015001572668552399, 0.04101233929395676, 0.047080520540475845, 0.06131437048316002, 0.014613931067287922, -0.037338655441999435, 0.002673234324902296, -0.023858709260821342, -0.04954575374722481, -0.0026909008156508207, -0.14570434391498566, 0.0017185320612043142, -0.08870594203472137, 0.0752270519733429, 0.12906502187252045, 0.021056873723864555, -0.10325168073177338, -0.08056497573852539, -0.006371977273374796, -0.021503105759620667, -0.01672385074198246, 0.02771567925810814, 0.02884344942867756, 0.029200108721852303, 0.04562773555517197, 0.0301984716206789, -0.005234464071691036, 0.020716601982712746, 0.040700409561395645, -0.002541500376537442, -0.0198587104678154, 0.023675762116909027, -0.006212983280420303, 0.08352400362491608, -0.02863907814025879, -0.038165029138326645, -0.04053790867328644, -0.06013119965791702, 0.04055635258555412, 0.04806048795580864, 0.04739118367433548, 0.04823294281959534, -0.007079793605953455, -0.008725701831281185, 0.021188504993915558, 0.022052990272641182, 0.044338811188936234, 0.07483614981174469, -0.012517987750470638, -0.024355528876185417, 0.022210771217942238, -0.09831302613019943, 0.01266931276768446, -0.00555722089484334, 0.018743591383099556, -0.06540439277887344, -0.025201059877872467, -0.05397888645529747, 0.03668252378702164, 0.11625472456216812, -0.01105530560016632, -0.020364129915833473, 0.020919034257531166, -0.028645576909184456, -0.023050453513860703, 0.0037353765219449997, 0.041774533689022064, 0.08212761580944061, -0.049679409712553024, -0.05572069436311722, 0.0008909216849133372, 0.09224706888198853, 0.013537481427192688, -0.05781066417694092, 0.013590394519269466, -0.041368838399648666, -0.026584886014461517, -0.003505578963086009, 0.0344056636095047, -0.07861973345279694, 0.03679455816745758, -0.0038462462835013866, 0.0428471565246582, 0.1040995717048645, 0.05568431690335274, 0.06629891693592072, -0.0272098109126091, -0.06755891442298889, 0.09491588175296783, -0.03718769922852516, 0.05102149024605751, 0.03692338615655899, -0.059470195323228836, -0.013860417529940605, -6.655569668487111e-33, 0.04057644307613373, -0.06125778704881668, 0.02309197001159191, -0.03675626590847969, -0.013488737866282463, 0.012746324762701988, -0.0037488597445189953, 0.01773909479379654, 0.03631841391324997, -0.009580408222973347, -0.07704437524080276, -0.053650643676519394, 0.08611921966075897, -0.06559881567955017, 0.07771878689527512, 0.10757531970739365, 0.08987639099359512, -0.010797631926834583, -0.1072157546877861, 0.022013502195477486, 0.08728524297475815, 0.10075494647026062, -0.017770016565918922, -0.00507669523358345, 0.0018647167598828673, -0.04838687181472778, 0.04584807530045509, 0.09683595597743988, -0.002779987407848239, 0.003120914101600647, -0.0401340015232563, -0.09192702919244766, -0.03758745640516281, 0.05034661665558815, -0.027158260345458984, 0.0704331323504448, 0.06910563260316849, -0.0685330331325531, 0.07920847833156586, 0.06944495439529419, -0.03692653030157089, -0.04739357903599739, 0.0016384770860895514, 0.0036126745399087667, -0.03837328776717186, -0.015574674122035503, -0.038365982472896576, 0.03236115723848343, -0.026096416637301445, -0.07009049504995346, 0.043962400406599045, -0.06250253319740295, -0.13989050686359406, 0.046204276382923126, 0.043378494679927826, -0.05527384206652641, 0.007760412059724331, -0.05952410399913788, -0.016796229407191277, -0.023340865969657898, 0.09428588300943375, 0.022922243922948837, -0.04767141491174698, -0.03230125829577446, -0.014489639550447464, 0.006764697376638651, -0.03749076649546623, -0.04454943910241127, -0.009268597699701786, 0.009394288994371891, 0.006502131000161171, -0.036443646997213364, -0.09022542834281921, 0.05757732689380646, -0.10520320385694504, 0.03415432199835777, -0.08459313958883286, 0.0704444870352745, 0.039975084364414215, 0.015475574880838394, 0.012280220165848732, -0.07149166613817215, -0.051539380103349686, 0.0748140960931778, 0.06695792824029922, 0.026225997135043144, -0.05120929330587387, -0.049230460077524185, 0.05100608989596367, -0.05229632183909416, 0.0017597541445866227, 0.042371395975351334, 0.02566193975508213, -0.05708427354693413, -0.04274020716547966, -2.5056005270585047e-08, 0.034529685974121094, -0.04520966485142708, -0.04203598201274872, 0.042207784950733185, 0.05449393019080162, -0.06672896444797516, -0.020285852253437042, 0.02036050707101822, 0.04391205683350563, 0.035304345190525055, -0.0034136248286813498, -0.014869480393826962, 0.05932866409420967, 0.0006299374508671463, -0.035741426050662994, 0.0683283880352974, 0.07719500362873077, 0.03321879729628563, -0.011740995571017265, -0.003918358590453863, 0.006242331583052874, -0.0958290621638298, -0.05848558247089386, -0.002600134117528796, -0.009984083473682404, -0.04425431415438652, -0.020452890545129776, -0.0003932967665605247, -0.027346264570951462, -0.05512549355626106, 0.049925241619348526, -0.01012978982180357, 0.03743302822113037, -0.04643261060118675, 0.03547694534063339, 0.0510762520134449, -0.04584231972694397, -0.011292444542050362, -0.020163822919130325, -0.04167014732956886, 0.10802401602268219, 0.0076528494246304035, -0.03875110670924187, 0.06194787099957466, 0.03044912964105606, 0.009551537223160267, -0.008478225208818913, -0.04050123319029808, -0.005782851483672857, -0.024153275415301323, -0.0060752760618925095, 0.00146922143176198, 0.14242145419120789, 0.08023976534605026, 0.018647683784365654, 0.02832331508398056, 0.060964420437812805, 0.011639615520834923, -0.013312776573002338, 0.11401376873254776, 0.037750791758298874, 0.033973947167396545, -0.07869504392147064, -0.07080014050006866])]\n"
     ]
    },
    {
     "name": "stderr",
     "output_type": "stream",
     "text": [
      "                                                                                \r"
     ]
    }
   ],
   "source": [
    "print(minilm_cosine.limit(10).select(\"uuid_idt\", \"latitud\", \"longitud\", \"direccion\", \"embedding\").collect())"
   ]
  }
 ],
 "metadata": {
  "kernelspec": {
   "display_name": "Python 3",
   "language": "python",
   "name": "python3"
  },
  "language_info": {
   "codemirror_mode": {
    "name": "ipython",
    "version": 3
   },
   "file_extension": ".py",
   "mimetype": "text/x-python",
   "name": "python",
   "nbconvert_exporter": "python",
   "pygments_lexer": "ipython3",
   "version": "3.10.12"
  }
 },
 "nbformat": 4,
 "nbformat_minor": 2
}
