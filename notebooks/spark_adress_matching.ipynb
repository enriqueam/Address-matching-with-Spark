{
 "cells": [
  {
   "cell_type": "markdown",
   "metadata": {},
   "source": [
    "# Address Matching with Apache Spark"
   ]
  },
  {
   "cell_type": "markdown",
   "metadata": {},
   "source": [
    "## Iniciar Spark"
   ]
  },
  {
   "cell_type": "code",
   "execution_count": 15,
   "metadata": {},
   "outputs": [],
   "source": [
    "from pyspark.sql.session import SparkSession\n",
    "\n",
    "spark = spark = SparkSession.builder \\\n",
    "    .appName(\"Adress Matching\") \\\n",
    "    .config(\"spark.executor.memory\", \"8g\") \\\n",
    "    .config(\"spark.driver.memory\", \"20g\") \\\n",
    "    .config(\"spark.driver.maxResultSize\", \"2g\") \\\n",
    "    .getOrCreate()"
   ]
  },
  {
   "cell_type": "code",
   "execution_count": 16,
   "metadata": {},
   "outputs": [
    {
     "name": "stdout",
     "output_type": "stream",
     "text": [
      "spark.app.name: Adress Matching\n",
      "spark.app.submitTime: 1710360749774\n",
      "spark.executor.id: driver\n",
      "spark.driver.host: 10.6.130.30\n",
      "spark.driver.extraJavaOptions: -Djava.net.preferIPv6Addresses=false -XX:+IgnoreUnrecognizedVMOptions --add-opens=java.base/java.lang=ALL-UNNAMED --add-opens=java.base/java.lang.invoke=ALL-UNNAMED --add-opens=java.base/java.lang.reflect=ALL-UNNAMED --add-opens=java.base/java.io=ALL-UNNAMED --add-opens=java.base/java.net=ALL-UNNAMED --add-opens=java.base/java.nio=ALL-UNNAMED --add-opens=java.base/java.util=ALL-UNNAMED --add-opens=java.base/java.util.concurrent=ALL-UNNAMED --add-opens=java.base/java.util.concurrent.atomic=ALL-UNNAMED --add-opens=java.base/sun.nio.ch=ALL-UNNAMED --add-opens=java.base/sun.nio.cs=ALL-UNNAMED --add-opens=java.base/sun.security.action=ALL-UNNAMED --add-opens=java.base/sun.util.calendar=ALL-UNNAMED --add-opens=java.security.jgss/sun.security.krb5=ALL-UNNAMED -Djdk.reflect.useDirectMethodHandle=false\n",
      "spark.sql.warehouse.dir: file:/home/usuario/Adress-matching/notebooks/spark-warehouse\n",
      "spark.app.startTime: 1710360750081\n",
      "spark.driver.memory: 20g\n",
      "spark.rdd.compress: True\n",
      "spark.app.id: local-1710360751782\n",
      "spark.serializer.objectStreamReset: 100\n",
      "spark.driver.maxResultSize: 2g\n",
      "spark.master: local[*]\n",
      "spark.executor.memory: 8g\n",
      "spark.submit.pyFiles: \n",
      "spark.submit.deployMode: client\n",
      "spark.driver.port: 35509\n",
      "spark.ui.showConsoleProgress: true\n",
      "spark.executor.extraJavaOptions: -Djava.net.preferIPv6Addresses=false -XX:+IgnoreUnrecognizedVMOptions --add-opens=java.base/java.lang=ALL-UNNAMED --add-opens=java.base/java.lang.invoke=ALL-UNNAMED --add-opens=java.base/java.lang.reflect=ALL-UNNAMED --add-opens=java.base/java.io=ALL-UNNAMED --add-opens=java.base/java.net=ALL-UNNAMED --add-opens=java.base/java.nio=ALL-UNNAMED --add-opens=java.base/java.util=ALL-UNNAMED --add-opens=java.base/java.util.concurrent=ALL-UNNAMED --add-opens=java.base/java.util.concurrent.atomic=ALL-UNNAMED --add-opens=java.base/sun.nio.ch=ALL-UNNAMED --add-opens=java.base/sun.nio.cs=ALL-UNNAMED --add-opens=java.base/sun.security.action=ALL-UNNAMED --add-opens=java.base/sun.util.calendar=ALL-UNNAMED --add-opens=java.security.jgss/sun.security.krb5=ALL-UNNAMED -Djdk.reflect.useDirectMethodHandle=false\n"
     ]
    }
   ],
   "source": [
    "conf = spark.sparkContext.getConf()\n",
    "for (key, value) in conf.getAll():\n",
    "  print(f\"{key}: {value}\")"
   ]
  },
  {
   "cell_type": "markdown",
   "metadata": {},
   "source": [
    "## Leer fichero"
   ]
  },
  {
   "cell_type": "markdown",
   "metadata": {},
   "source": [
    "El dataset continene exactamente 24 columnas las cuales, el ***, almacena información relevante el trabajo que realizan. En cambio, en este proyecto, se utilizarán las siguientes columnas pues contienen la información más relevante:\n",
    "- **uuid_idt**: contiene un identificador alfanumérico único para cada dirección.\n",
    "- **tvia**: contiene el tipo de vía, es decir, si es una calle, avenida, carretera, etc.\n",
    "- **nvia**: contiene el nombre de la vía.\n",
    "- **numer**: contiene el número de la vía.\n",
    "- **codmun**: está compuesto por un código numérico que identifica a un municipio, es decir, el código postal.\n",
    "- **nommun**: contiene el nombre del municipio.\n",
    "- **direccion**: contiene la dirección completa.\""
   ]
  },
  {
   "cell_type": "code",
   "execution_count": 17,
   "metadata": {},
   "outputs": [
    {
     "name": "stderr",
     "output_type": "stream",
     "text": [
      "                                                                                \r"
     ]
    },
    {
     "name": "stdout",
     "output_type": "stream",
     "text": [
      "+--------------------+------------+--------------------+-----+------+------+--------------------+\n",
      "|            uuid_idt|        tvia|                nvia|numer|codmun|nommun|           direccion|\n",
      "+--------------------+------------+--------------------+-----+------+------+--------------------+\n",
      "|027C0FF8-B17B-11E...|       CALLE|        FUENTE SANTA|    5| 35001|Agaete|CALLE FUENTE SANT...|\n",
      "|028F2302-B17B-11E...|       CALLE|       CRUZ CHIQUITA|    2| 35001|Agaete|CALLE CRUZ CHIQUI...|\n",
      "|02918516-B17B-11E...|URBANIZACION|RESIDENCIAL PALMERAL|    9| 35001|Agaete|URBANIZACION RESI...|\n",
      "|03A306C0-7525-11E...|       CALLE|SEÑORITA MARIA MA...|    2| 35001|Agaete|CALLE SEÑORITA MA...|\n",
      "|03A306C0-7525-11E...|       CALLE|SRTA M MANRIQUE LARA|    2| 35001|Agaete|CALLE SRTA M MANR...|\n",
      "|03A306C0-7525-11E...|       CALLE| MARIA MANRIQUE LARA|    0| 35001|Agaete|CALLE MARIA MANRI...|\n",
      "|03A306C0-7525-11E...|       CALLE| MARIA MANRIQUE LARA|    2| 35001|Agaete|CALLE MARIA MANRI...|\n",
      "|03A306C0-7525-11E...|       CALLE|  ST M MANRIQUE LARA|    2| 35001|Agaete|CALLE ST M MANRIQ...|\n",
      "|03A306C0-7525-11E...|       CALLE|       MANRIQUE LARA|    2| 35001|Agaete|CALLE MANRIQUE LA...|\n",
      "|05C1069E-02BB-443...|       CALLE|        RISCO AGAETE|   19| 35001|Agaete|CALLE RISCO AGAET...|\n",
      "|05C1069E-02BB-443...|       CALLE|               RISCO|   19| 35001|Agaete|CALLE RISCO 19 AG...|\n",
      "|0767670E-D385-4FF...|URBANIZACION|            ELTURMAN|   14| 35001|Agaete|URBANIZACION ELTU...|\n",
      "|0767670E-D385-4FF...|       LUGAR|              TURMAN|   78| 35001|Agaete|LUGAR TURMAN 78 A...|\n",
      "|07D6EE06-78EE-4FC...|URBANIZACION|TURMAN C ALFREDO ...|  212| 35001|Agaete|URBANIZACION TURM...|\n",
      "|07E3A094-4FAF-4E9...|       OTROS|   ESTACION MARITIMA|    0| 35001|Agaete|ESTACION MARITIMA...|\n",
      "|09DB1BCD-BADF-4F6...|     AVENIDA|ALCALDE JOSE ARMA...|    7| 35001|Agaete|AVENIDA ALCALDE J...|\n",
      "|0DD7DD10-3553-411...|       PASEO|PALMERAL PINTOR G...|    6| 35001|Agaete|PASEO PALMERAL PI...|\n",
      "|0DD7DD10-3553-411...|       CALLE|PINTOR GARCIA ALV...|    8| 35001|Agaete|CALLE PINTOR GARC...|\n",
      "|0FBDCFF8-1183-4B0...|URBANIZACION|         CANDELARIAS|   17| 35001|Agaete|URBANIZACION CAND...|\n",
      "|0FBDCFF8-1183-4B0...|URBANIZACION|         CANDELARIAS|   18| 35001|Agaete|URBANIZACION CAND...|\n",
      "+--------------------+------------+--------------------+-----+------+------+--------------------+\n",
      "only showing top 20 rows\n",
      "\n"
     ]
    },
    {
     "name": "stderr",
     "output_type": "stream",
     "text": [
      "                                                                                \r"
     ]
    },
    {
     "name": "stdout",
     "output_type": "stream",
     "text": [
      "1784217\n"
     ]
    },
    {
     "name": "stderr",
     "output_type": "stream",
     "text": [
      "                                                                                \r"
     ]
    }
   ],
   "source": [
    "# Leer el archivo CSV y cargarlo en un DataFrame\n",
    "file =  \"../data/raw_data/TFM_Direcciones.tab\"\n",
    "first_df = spark.read.option(\"delimiter\", \"\\t\").option(\"encoding\", \"windows-1252\").csv(file, header=True, inferSchema=True)\n",
    "\n",
    "# Seleccionar solo las columnas deseadas\n",
    "selected_columns = [\n",
    "  \"uuid_idt\",\n",
    "  \"tvia\",\n",
    "  \"nvia\",\n",
    "  \"numer\",\n",
    "  \"codmun\",\n",
    "  \"nommun\",\n",
    "  \"direccion\",\n",
    "]\n",
    "first_df = first_df.select(selected_columns)\n",
    "\n",
    "# Mostrar el DataFrame\n",
    "first_df.show()\n",
    "first_df.schema\n",
    "print(first_df.count())\n",
    "size_df = first_df.count()"
   ]
  },
  {
   "cell_type": "code",
   "execution_count": 18,
   "metadata": {},
   "outputs": [
    {
     "name": "stdout",
     "output_type": "stream",
     "text": [
      "+--------------------+------+--------------------+--------------------+\n",
      "|            uuid_idt|codmun|              nommun|           direccion|\n",
      "+--------------------+------+--------------------+--------------------+\n",
      "|C0CF3B94-0AD1-11E...| 35016|LAS PALMAS DE GRA...|IGUAZU 42 0 LAS P...|\n",
      "|73B57C1B-3251-11E...| 35016|LAS PALMAS DE GRA...|PARQUE CENTRAL BL...|\n",
      "|C70E3EC6-3EDA-11E...| 35016|LAS PALMAS DE GRA...|CONCEJAL GARCIA F...|\n",
      "|687BA81E-3251-11E...| 35006|              ARUCAS|PEDRO MORALES DEN...|\n",
      "|74921989-3251-11E...| 35019|SAN BARTOLOMÉ DE ...|ISLA LOBOS 19 0 S...|\n",
      "|6C0D19FF-3251-11E...| 35016|LAS PALMAS DE GRA...|CALLE LEON Y CAST...|\n",
      "|6360FDCD-3251-11E...| 35016|LAS PALMAS DE GRA...|VIGEN PILAR 45 4 ...|\n",
      "|758B3855-3251-11E...| 35016|LAS PALMAS DE GRA...|CALLE PALMERA CAN...|\n",
      "|5D36841A-7A6B-11E...| 35016|LAS PALMAS DE GRA...|RUPERTO CHAPI 0 L...|\n",
      "|6C00DBF4-3251-11E...| 35021|       SANTA BRÍGIDA|MANUEL HERNANDEZ ...|\n",
      "|733A49C5-3251-11E...| 35027|               TEROR| HERRERIA 36 0 TEROR|\n",
      "|C0A2DCAF-0AD1-11E...| 35021|       SANTA BRÍGIDA|SUBIDA JOSE MEDER...|\n",
      "|785998D5-3251-11E...| 35016|LAS PALMAS DE GRA...|CARMEN QUINTANA 6...|\n",
      "|6D52F776-3251-11E...| 35016|LAS PALMAS DE GRA...|TOMAS MORALES 100...|\n",
      "|710F6DCB-3251-11E...| 38020|              GÜÍMAR|CALLE CHACONA CAL...|\n",
      "|D721C91D-B743-11E...| 38038|SANTA CRUZ DE TEN...|AZAHAR CHORRILLO ...|\n",
      "|6FA00078-3251-11E...| 35016|LAS PALMAS DE GRA...|BANDAMA 76 0 LAS ...|\n",
      "|72AB493C-3251-11E...| 35016|LAS PALMAS DE GRA...|REALIDAD 39 0 LAS...|\n",
      "|6AD2FD7E-3251-11E...| 35004|            ARRECIFE|AGUSTIN ESPINOSA ...|\n",
      "|65BA189F-3251-11E...| 35031|VALSEQUILLO DE GR...|PILON 3 VALSEQUIL...|\n",
      "+--------------------+------+--------------------+--------------------+\n",
      "only showing top 20 rows\n",
      "\n",
      "630297\n"
     ]
    }
   ],
   "source": [
    "from pyspark.sql.functions import upper\n",
    "\n",
    "file =  \"../data/raw_data/data-09022024.csv\"\n",
    "second_df = spark.read.option('header', True).csv(file)\n",
    "\n",
    "selected_columns = [\n",
    "  \"uuid_idt\",\n",
    "  \"codmun\",\n",
    "  \"nommun\",\n",
    "  \"direccion\"\n",
    "]\n",
    "\n",
    "second_df = second_df.select(selected_columns)\n",
    "second_df = second_df.select(upper('uuid_idt').alias('uuid_idt'), 'codmun', upper('nommun').alias('nommun'), 'direccion')\n",
    "second_df.show()\n",
    "first_df.schema\n",
    "print(second_df.count())\n",
    "size_df += second_df.count()"
   ]
  },
  {
   "cell_type": "code",
   "execution_count": 19,
   "metadata": {},
   "outputs": [
    {
     "name": "stdout",
     "output_type": "stream",
     "text": [
      "2414514\n"
     ]
    }
   ],
   "source": [
    "print(size_df)"
   ]
  },
  {
   "cell_type": "code",
   "execution_count": 20,
   "metadata": {},
   "outputs": [
    {
     "name": "stderr",
     "output_type": "stream",
     "text": [
      "                                                                                \r"
     ]
    },
    {
     "name": "stdout",
     "output_type": "stream",
     "text": [
      "+-------------------------------+----------+\n",
      "|Número de direcciones asociadas|Frecuencia|\n",
      "+-------------------------------+----------+\n",
      "|                              1|    267275|\n",
      "|                              2|    115343|\n",
      "|                              3|     60757|\n",
      "|                              4|     35631|\n",
      "|                              5|     22207|\n",
      "|                              6|     14810|\n",
      "|                              7|     10142|\n",
      "|                              8|      7411|\n",
      "|                       10 o más|     25539|\n",
      "+-------------------------------+----------+\n",
      "\n"
     ]
    },
    {
     "name": "stderr",
     "output_type": "stream",
     "text": [
      "                                                                                \r"
     ]
    },
    {
     "name": "stdout",
     "output_type": "stream",
     "text": [
      "+-------------------------------+----------+\n",
      "|Número de direcciones asociadas|Frecuencia|\n",
      "+-------------------------------+----------+\n",
      "|                              1|    250632|\n",
      "|                              2|     51645|\n",
      "|                              3|     19692|\n",
      "|                              4|      9055|\n",
      "|                              5|      4702|\n",
      "|                              6|      2876|\n",
      "|                              7|      1772|\n",
      "|                              8|      1161|\n",
      "|                       10 o más|      4083|\n",
      "+-------------------------------+----------+\n",
      "\n"
     ]
    }
   ],
   "source": [
    "from pyspark.sql.functions import count\n",
    "\n",
    "def uuid_frecuency(dataframe):\n",
    "    values_under_10 = dataframe.groupBy(dataframe.uuid_idt).count() \\\n",
    "        .filter('count < 9') \\\n",
    "        .groupBy('count') \\\n",
    "        .agg(count('*') \\\n",
    "        .alias('Frecuencia')) \\\n",
    "        .orderBy('count')\n",
    "    values_under_10 = values_under_10.withColumnRenamed('count', 'Número de direcciones asociadas')\n",
    "\n",
    "    values_over_10 = dataframe.groupBy(dataframe.uuid_idt).count() \\\n",
    "        .filter('count > 9')\n",
    "    values_over_10 = spark.createDataFrame(\n",
    "        [['10 o más', values_over_10.count()]],\n",
    "        ['Número de direcciones asociadas', 'Frecuencia']\n",
    "        )\n",
    "\n",
    "    values = values_under_10.union(values_over_10)\n",
    "    values.show()\n",
    "\n",
    "uuid_frecuency(first_df)\n",
    "uuid_frecuency(second_df)"
   ]
  },
  {
   "cell_type": "markdown",
   "metadata": {},
   "source": [
    "## Unión de los dataframes"
   ]
  },
  {
   "cell_type": "code",
   "execution_count": 21,
   "metadata": {},
   "outputs": [
    {
     "name": "stderr",
     "output_type": "stream",
     "text": [
      "                                                                                \r"
     ]
    },
    {
     "name": "stdout",
     "output_type": "stream",
     "text": [
      "+--------------------+------------+--------------------+-----+------+------+--------------------+\n",
      "|            uuid_idt|        tvia|                nvia|numer|codmun|nommun|           direccion|\n",
      "+--------------------+------------+--------------------+-----+------+------+--------------------+\n",
      "|027C0FF8-B17B-11E...|       CALLE|        FUENTE SANTA|    5| 35001|Agaete|CALLE FUENTE SANT...|\n",
      "|028F2302-B17B-11E...|       CALLE|       CRUZ CHIQUITA|    2| 35001|Agaete|CALLE CRUZ CHIQUI...|\n",
      "|02918516-B17B-11E...|URBANIZACION|RESIDENCIAL PALMERAL|    9| 35001|Agaete|URBANIZACION RESI...|\n",
      "|03A306C0-7525-11E...|       CALLE|SEÑORITA MARIA MA...|    2| 35001|Agaete|CALLE SEÑORITA MA...|\n",
      "|03A306C0-7525-11E...|       CALLE|SRTA M MANRIQUE LARA|    2| 35001|Agaete|CALLE SRTA M MANR...|\n",
      "|03A306C0-7525-11E...|       CALLE| MARIA MANRIQUE LARA|    0| 35001|Agaete|CALLE MARIA MANRI...|\n",
      "|03A306C0-7525-11E...|       CALLE| MARIA MANRIQUE LARA|    2| 35001|Agaete|CALLE MARIA MANRI...|\n",
      "|03A306C0-7525-11E...|       CALLE|  ST M MANRIQUE LARA|    2| 35001|Agaete|CALLE ST M MANRIQ...|\n",
      "|03A306C0-7525-11E...|       CALLE|       MANRIQUE LARA|    2| 35001|Agaete|CALLE MANRIQUE LA...|\n",
      "|05C1069E-02BB-443...|       CALLE|        RISCO AGAETE|   19| 35001|Agaete|CALLE RISCO AGAET...|\n",
      "|05C1069E-02BB-443...|       CALLE|               RISCO|   19| 35001|Agaete|CALLE RISCO 19 AG...|\n",
      "|0767670E-D385-4FF...|URBANIZACION|            ELTURMAN|   14| 35001|Agaete|URBANIZACION ELTU...|\n",
      "|0767670E-D385-4FF...|       LUGAR|              TURMAN|   78| 35001|Agaete|LUGAR TURMAN 78 A...|\n",
      "|07D6EE06-78EE-4FC...|URBANIZACION|TURMAN C ALFREDO ...|  212| 35001|Agaete|URBANIZACION TURM...|\n",
      "|07E3A094-4FAF-4E9...|       OTROS|   ESTACION MARITIMA|    0| 35001|Agaete|ESTACION MARITIMA...|\n",
      "|09DB1BCD-BADF-4F6...|     AVENIDA|ALCALDE JOSE ARMA...|    7| 35001|Agaete|AVENIDA ALCALDE J...|\n",
      "|0DD7DD10-3553-411...|       PASEO|PALMERAL PINTOR G...|    6| 35001|Agaete|PASEO PALMERAL PI...|\n",
      "|0DD7DD10-3553-411...|       CALLE|PINTOR GARCIA ALV...|    8| 35001|Agaete|CALLE PINTOR GARC...|\n",
      "|0FBDCFF8-1183-4B0...|URBANIZACION|         CANDELARIAS|   17| 35001|Agaete|URBANIZACION CAND...|\n",
      "|0FBDCFF8-1183-4B0...|URBANIZACION|         CANDELARIAS|   18| 35001|Agaete|URBANIZACION CAND...|\n",
      "+--------------------+------------+--------------------+-----+------+------+--------------------+\n",
      "only showing top 20 rows\n",
      "\n"
     ]
    },
    {
     "name": "stderr",
     "output_type": "stream",
     "text": [
      "                                                                                \r"
     ]
    },
    {
     "name": "stdout",
     "output_type": "stream",
     "text": [
      "Tamaño del dataframe ampliado:  2234214\n"
     ]
    },
    {
     "name": "stderr",
     "output_type": "stream",
     "text": [
      "[Stage 322:==>(7 + 1) / 8][Stage 323:==>(6 + 2) / 8][Stage 325:=> (3 + 5) / 8]8]\r"
     ]
    },
    {
     "name": "stdout",
     "output_type": "stream",
     "text": [
      "Número de uuid_idt nuevos del segundo dataframe:  148073\n"
     ]
    },
    {
     "name": "stderr",
     "output_type": "stream",
     "text": [
      "                                                                                \r"
     ]
    }
   ],
   "source": [
    "# Seleccionar los UUID únicos del primer DataFrame\n",
    "unique_uuid_first_df = first_df.select(\"uuid_idt\").distinct()\n",
    "\n",
    "# Seleccionar los UUID únicos del segundo DataFrame\n",
    "unique_uuid_second_df = second_df.select(\"uuid_idt\").distinct()\n",
    "\n",
    "# Encontrar los UUID comunes\n",
    "uuid_comunes = unique_uuid_first_df.join(unique_uuid_second_df, \"uuid_idt\", \"inner\")\n",
    "# Da el mismo resultado: uuid_primero.intersect(uuid_segundo)\n",
    "\n",
    "# Juntar los UUID comunes con el primer DataFrame\n",
    "adresses_df = first_df.unionByName(second_df.join(uuid_comunes, \"uuid_idt\", \"inner\"), allowMissingColumns=True)\n",
    "\n",
    "# Mostrar el resultado\n",
    "adresses_df.show()\n",
    "print(\"Tamaño del dataframe ampliado: \", adresses_df.count())\n",
    "\n",
    "# Si se quiere comprobar que la operación es correcta\n",
    "print(\"Número de uuid_idt nuevos del segundo dataframe: \", unique_uuid_second_df.subtract(uuid_comunes).count())"
   ]
  },
  {
   "cell_type": "code",
   "execution_count": 22,
   "metadata": {},
   "outputs": [
    {
     "name": "stderr",
     "output_type": "stream",
     "text": [
      "                                                                                \r"
     ]
    },
    {
     "name": "stdout",
     "output_type": "stream",
     "text": [
      "+-------------------------------+----------+\n",
      "|Número de direcciones asociadas|Frecuencia|\n",
      "+-------------------------------+----------+\n",
      "|                              1|    211768|\n",
      "|                              2|    119917|\n",
      "|                              3|     70050|\n",
      "|                              4|     44000|\n",
      "|                              5|     28925|\n",
      "|                              6|     19650|\n",
      "|                              7|     14050|\n",
      "|                              8|     10331|\n",
      "|                       10 o más|     38060|\n",
      "+-------------------------------+----------+\n",
      "\n"
     ]
    }
   ],
   "source": [
    "uuid_frecuency(adresses_df)"
   ]
  },
  {
   "cell_type": "markdown",
   "metadata": {},
   "source": [
    "## Partición del dataset"
   ]
  },
  {
   "cell_type": "code",
   "execution_count": 23,
   "metadata": {},
   "outputs": [],
   "source": [
    "adresses_df = adresses_df.repartition(32)"
   ]
  },
  {
   "cell_type": "markdown",
   "metadata": {},
   "source": [
    "## Limpieza del dataset"
   ]
  },
  {
   "cell_type": "markdown",
   "metadata": {},
   "source": [
    "Tras visualizar el dataset, se observa que hay columnas que tienen valores desconocidos, representados con '_U', y camos vacíos."
   ]
  },
  {
   "cell_type": "code",
   "execution_count": 24,
   "metadata": {},
   "outputs": [
    {
     "name": "stderr",
     "output_type": "stream",
     "text": [
      "[Stage 411:================================================>      (14 + 2) / 16]\r"
     ]
    },
    {
     "name": "stdout",
     "output_type": "stream",
     "text": [
      "Initial dataset size: 2234214\n"
     ]
    },
    {
     "name": "stderr",
     "output_type": "stream",
     "text": [
      "                                                                                \r"
     ]
    }
   ],
   "source": [
    "print(f\"Initial dataset size: {adresses_df.count()}\")"
   ]
  },
  {
   "cell_type": "markdown",
   "metadata": {},
   "source": [
    "### Valores nulos"
   ]
  },
  {
   "cell_type": "code",
   "execution_count": 25,
   "metadata": {},
   "outputs": [
    {
     "name": "stderr",
     "output_type": "stream",
     "text": [
      "[Stage 434:=================================================>     (29 + 3) / 32]\r"
     ]
    },
    {
     "name": "stdout",
     "output_type": "stream",
     "text": [
      "+--------+------+------+------+------+------+---------+\n",
      "|uuid_idt|  tvia|  nvia| numer|codmun|nommun|direccion|\n",
      "+--------+------+------+------+------+------+---------+\n",
      "|       0|580357|460216|449997|     0|     0|        0|\n",
      "+--------+------+------+------+------+------+---------+\n",
      "\n"
     ]
    },
    {
     "name": "stderr",
     "output_type": "stream",
     "text": [
      "                                                                                \r"
     ]
    }
   ],
   "source": [
    "from pyspark.sql.functions import isnan, when, count, col\n",
    "\n",
    "adresses_df.select([count(when(isnan(c) | col(c).isNull(), c)).alias(c) for c in adresses_df.columns]).show()"
   ]
  },
  {
   "cell_type": "code",
   "execution_count": 26,
   "metadata": {},
   "outputs": [
    {
     "name": "stderr",
     "output_type": "stream",
     "text": [
      "[Stage 452:===================================================>   (30 + 2) / 32]\r"
     ]
    },
    {
     "name": "stdout",
     "output_type": "stream",
     "text": [
      "+--------+----+----+------+------+------+---------+\n",
      "|uuid_idt|tvia|nvia| numer|codmun|nommun|direccion|\n",
      "+--------+----+----+------+------+------+---------+\n",
      "|       0|   0|   0|449997|     0|     0|        0|\n",
      "+--------+----+----+------+------+------+---------+\n",
      "\n"
     ]
    },
    {
     "name": "stderr",
     "output_type": "stream",
     "text": [
      "                                                                                \r"
     ]
    }
   ],
   "source": [
    "adresses_df = adresses_df.na.fill('_U')\n",
    "\n",
    "adresses_df.select([count(when(isnan(c) | col(c).isNull(), c)).alias(c) for c in adresses_df.columns]).show()"
   ]
  },
  {
   "cell_type": "markdown",
   "metadata": {},
   "source": [
    "### Extracción del prefijo para eleminar valores '_U'"
   ]
  },
  {
   "cell_type": "markdown",
   "metadata": {},
   "source": [
    "Tras analizar el dataset, se observa que para una dirección, el tipo de vía (tvia) puede aparecer vacío, en cambio, en la columna 'direccion' aparece este valor. Por lo que se procederá a extraer el prefijo de la columna 'direccion' para rellenar los valores vacíos de la columna 'tvia' evitando así la perdida de información."
   ]
  },
  {
   "cell_type": "code",
   "execution_count": 27,
   "metadata": {},
   "outputs": [
    {
     "name": "stderr",
     "output_type": "stream",
     "text": [
      "[Stage 465:===================================================>   (15 + 1) / 16]\r"
     ]
    },
    {
     "name": "stdout",
     "output_type": "stream",
     "text": [
      "Unknown tvia before prefix extraction: 580357\n"
     ]
    },
    {
     "name": "stderr",
     "output_type": "stream",
     "text": [
      "                                                                                \r"
     ]
    }
   ],
   "source": [
    "print(f\"Unknown tvia before prefix extraction: {adresses_df.filter(adresses_df.tvia == '_U').count()}\")"
   ]
  },
  {
   "cell_type": "code",
   "execution_count": 28,
   "metadata": {},
   "outputs": [
    {
     "name": "stderr",
     "output_type": "stream",
     "text": [
      "[Stage 483:================================================>      (14 + 2) / 16]\r"
     ]
    },
    {
     "name": "stdout",
     "output_type": "stream",
     "text": [
      "{'CG', 'CUESTA', 'LU', 'VEREDA', 'RAMBL', 'PROL', 'LUGAR', 'MUELLE', 'COSTANILLA', 'CALLEJUELA', 'MONTE', 'AVENIDA', 'ESCALINATA', 'MERCADO', 'CSRIO', 'BLOQUES', 'AVENI', 'BARRA', 'BCO', 'PARTICULAR', 'SECTOR', 'EDIF', 'HOTEL', 'SOLAR', 'PARAJE', 'PUENTE', 'ACEQUIA', 'CAMINO', 'OTROS', 'AGRUP', 'CORRAL', 'CONJUNTO', 'RINCONADA', 'EDIFICIO', 'SENDERO', 'PLAZA', 'MANZANA', 'RU', 'VILLAS', 'PASADIZO', 'RESIDENCIA', 'CMINO', 'PAGO', 'CALLEJON', 'PLACETA', 'COOPERATIVA', 'CRA', 'RESIDENCIAL', 'COMPLEJO', 'CARRERA', 'VIA', 'AUTOVIA', 'POBLADO', 'PARQUE', 'MUNICIPIO', 'RAMAL', 'VIVIENDAS', 'TORRENTE', 'APARTAMENTOS', 'BULEVAR', 'TRANS', 'CALLE', 'PASO', 'PLAZUELA', 'PATIO', 'CENTRO COMERCIAL', 'BARRIO', 'LADERA', 'POLIG', 'PASAJE', 'POLIGONO', 'AUTOPISTA', 'CARRETERA', 'PASEO BAJO', 'ENTRADA', 'RAMBLA', 'PASILLO', 'PASEO', 'AMPLIACION', 'MONTAÑA', 'TRASERA', 'CALE', 'ALAMEDA', 'PASSEIG', 'PARQ', 'TORRE', 'SUBIDA', 'GRUPO', 'TRANSVERSAL', 'SENDA', 'DISEMINADO', 'TVERA', 'ANGOSTA', 'CALLEJA', 'DC', 'CC', 'CAS', 'SERVENTIA', 'CALZADA', 'PROLONGACION', 'CAMNO', 'PLAYA', 'PZTA', 'RONDA', 'CRTA', 'TRAV', 'ROTONDA', 'APARTADO DE CORREOS', 'VALLE', 'ACERA', 'LOMO', 'PORTALES', 'BARRANCO', 'BARRIADA', 'LLANO', 'PLAZOLETA', 'ALDEA', 'PISTA', 'URBANIZACION', 'LOMA', 'RINCON', 'ESCALERA', 'RIBERA', 'EXTRARRADIO', 'PRIVADA', 'CASERIO', 'TRAVESIA', 'CAMIN', 'CHALET', 'ATAJO', 'PASEO ALTO', 'HL', 'BRNCO', 'FINCA', 'PRJE', 'COLONIA', 'UB', 'ACCESO', 'ZONA', 'SB', 'JARDIN', 'BAJADA', 'GLORIETA', 'ESTRADA', 'VIA PEATONAL', 'C', 'RUA', 'ESCALA', 'SIN DATOS DOMICILIAR'}\n"
     ]
    },
    {
     "name": "stderr",
     "output_type": "stream",
     "text": [
      "                                                                                \r"
     ]
    }
   ],
   "source": [
    "tvia_types = adresses_df.select(\"tvia\").distinct().collect()\n",
    "tvia_types = {t.tvia for t in tvia_types if t.tvia != \"_U\" and not t.tvia.isnumeric()}\n",
    "print(tvia_types)"
   ]
  },
  {
   "cell_type": "code",
   "execution_count": 29,
   "metadata": {},
   "outputs": [],
   "source": [
    "from pyspark.sql.functions import regexp_extract, when\n",
    "\n",
    "condition = (adresses_df.tvia == '_U') & (regexp_extract('direccion', r'^(\\\\S+)', 1).isin(tvia_types))\n",
    "adresses_df = adresses_df.withColumn(\"tvia\", when(condition, regexp_extract('direccion', r'^(\\\\S+)', 1)).otherwise(adresses_df.tvia))"
   ]
  },
  {
   "cell_type": "code",
   "execution_count": 30,
   "metadata": {},
   "outputs": [
    {
     "name": "stderr",
     "output_type": "stream",
     "text": [
      "[Stage 501:================================================>      (14 + 2) / 16]\r"
     ]
    },
    {
     "name": "stdout",
     "output_type": "stream",
     "text": [
      "Unknown tvia before prefix extraction: 580357\n"
     ]
    },
    {
     "name": "stderr",
     "output_type": "stream",
     "text": [
      "                                                                                \r"
     ]
    }
   ],
   "source": [
    "print(f\"Unknown tvia before prefix extraction: {adresses_df.filter(adresses_df.tvia == '_U').count()}\")"
   ]
  },
  {
   "cell_type": "markdown",
   "metadata": {},
   "source": [
    "Se puede observar que los tipos de vías que siguen siendo desconocidos es debido a que desde la columna de dirección no se ha podido extraer un prefijo que aparezca en la lista de los tipos de vías que tenemos en el dataset."
   ]
  },
  {
   "cell_type": "markdown",
   "metadata": {},
   "source": [
    "### Limpieza de entradas con valor '_U'"
   ]
  },
  {
   "cell_type": "markdown",
   "metadata": {},
   "source": [
    "Tras realizar la limpieza del dataset y extraer el tipo de via de la columna 'direccion', se procederá a eliminar las entradas restantes que contengan valores '_U' en las columnas 'tvia' pues no aportan información relevante."
   ]
  },
  {
   "cell_type": "code",
   "execution_count": 31,
   "metadata": {},
   "outputs": [
    {
     "name": "stderr",
     "output_type": "stream",
     "text": [
      "[Stage 519:===================================================>   (15 + 1) / 16]\r"
     ]
    },
    {
     "name": "stdout",
     "output_type": "stream",
     "text": [
      "Unknown tvia before duplicated null cleaning: 580357\n"
     ]
    },
    {
     "name": "stderr",
     "output_type": "stream",
     "text": [
      "                                                                                \r"
     ]
    }
   ],
   "source": [
    "print(f\"Unknown tvia before duplicated null cleaning: {adresses_df.filter(adresses_df.tvia == '_U').count()}\")"
   ]
  },
  {
   "cell_type": "code",
   "execution_count": 32,
   "metadata": {},
   "outputs": [
    {
     "data": {
      "text/plain": [
       "\" dataset_spark.filter(dataset_spark.tvia == '_U').groupBy(dataset_spark.direccion).count().sort(desc('count')).show() \""
      ]
     },
     "execution_count": 32,
     "metadata": {},
     "output_type": "execute_result"
    }
   ],
   "source": [
    "\"\"\" # Marca todos los duplicados incluyendo la primera fila encontrada\n",
    "duplicated_rows = dataset.duplicated(subset = [\"direccion\"], keep = False)\n",
    "# Marca como duplicada todas las filas menos la primera encontrada\n",
    "# duplicated_rows = dataset.duplicated(subset = [\"direccion\"], keep = 'first')\n",
    "# print(duplicated_rows)\n",
    "\n",
    "duplicated_rows = [index for index, value in enumerate(duplicated_rows.to_numpy()) if value]\n",
    "print(len(duplicated_rows))\n",
    "print(dataset.iloc[0])\n",
    "\n",
    "to_be_removed = list()\n",
    "\n",
    "for index in reversed(duplicated_rows[:50]): # Tiempo: 9min limpiando 50 filas\n",
    "    if dataset.at[index, 'tvia'] == \"_U\": # Usando at en vez de iloc se reduce el tiempo de ejecución 1/3 a 4min\n",
    "        to_be_removed.append(index)\n",
    "\n",
    "print(len(to_be_removed))\n",
    "print(dataset.iloc[to_be_removed])\n",
    "# dataset.drop(index = to_be_removed, inplace = True) \"\"\"\n",
    "\n",
    "\n",
    "adresses_df = adresses_df.filter(adresses_df.tvia != '_U')\n",
    "\"\"\" print(adresses_df.filter(adresses_df.tvia != '_U').count())\n",
    "print(adresses_df.filter(adresses_df.tvia == '_U').count()) \"\"\"\n",
    "\n",
    "\"\"\" print(f\"Unknown tvia after duplicated null cleaning: {dataset.tvia.value_counts()['_U']}\") \"\"\"\n",
    "\"\"\" adresses_df.filter(adresses_df.tvia == '_U').groupBy(adresses_df.direccion).count().sort(desc('count')).show() \"\"\""
   ]
  },
  {
   "cell_type": "code",
   "execution_count": 33,
   "metadata": {},
   "outputs": [
    {
     "name": "stdout",
     "output_type": "stream",
     "text": [
      "Unknown tvia after duplicated null cleaning: 0\n"
     ]
    }
   ],
   "source": [
    "print(f\"Unknown tvia after duplicated null cleaning: {adresses_df.filter(adresses_df.tvia == '_U').count()}\")"
   ]
  },
  {
   "cell_type": "code",
   "execution_count": 34,
   "metadata": {},
   "outputs": [
    {
     "name": "stderr",
     "output_type": "stream",
     "text": [
      "[Stage 536:=================================================>       (7 + 1) / 8]\r"
     ]
    },
    {
     "name": "stdout",
     "output_type": "stream",
     "text": [
      "Final Dataset size: 1653857\n"
     ]
    },
    {
     "name": "stderr",
     "output_type": "stream",
     "text": [
      "                                                                                \r"
     ]
    }
   ],
   "source": [
    "print(f\"Final Dataset size: {adresses_df.count()}\")"
   ]
  },
  {
   "cell_type": "markdown",
   "metadata": {},
   "source": [
    "## Aumento de datos"
   ]
  },
  {
   "cell_type": "markdown",
   "metadata": {},
   "source": [
    "### Frecuencia de uuid_idt antes"
   ]
  },
  {
   "cell_type": "code",
   "execution_count": 35,
   "metadata": {},
   "outputs": [
    {
     "name": "stderr",
     "output_type": "stream",
     "text": [
      "                                                                                \r"
     ]
    },
    {
     "name": "stdout",
     "output_type": "stream",
     "text": [
      "+-------------------------------+----------+\n",
      "|Número de direcciones asociadas|Frecuencia|\n",
      "+-------------------------------+----------+\n",
      "|                              1|    278002|\n",
      "|                              2|    109890|\n",
      "|                              3|     57031|\n",
      "|                              4|     32912|\n",
      "|                              5|     20151|\n",
      "|                              6|     13280|\n",
      "|                              7|      9074|\n",
      "|                              8|      6577|\n",
      "|                       10 o más|     22563|\n",
      "+-------------------------------+----------+\n",
      "\n"
     ]
    }
   ],
   "source": [
    "uuid_frecuency(adresses_df)"
   ]
  },
  {
   "cell_type": "markdown",
   "metadata": {},
   "source": [
    "### Aumento de datos"
   ]
  },
  {
   "cell_type": "markdown",
   "metadata": {},
   "source": [
    "- Cambiar el orden de las palabras\n",
    "- Añadir errores ortográficos\n",
    "- Añadir sinónimos"
   ]
  },
  {
   "cell_type": "code",
   "execution_count": 36,
   "metadata": {},
   "outputs": [
    {
     "name": "stderr",
     "output_type": "stream",
     "text": [
      "                                                                                \r"
     ]
    },
    {
     "name": "stdout",
     "output_type": "stream",
     "text": [
      "+------------------------------------+------------+----------------------------+-----+------+--------------------------+------------------------------------------------------------------+\n",
      "|uuid_idt                            |tvia        |nvia                        |numer|codmun|nommun                    |direccion                                                         |\n",
      "+------------------------------------+------------+----------------------------+-----+------+--------------------------+------------------------------------------------------------------+\n",
      "|0016535F-03E9-429E-A5F2-3B6B9AA90BC9|ENTRADA     |SIROCO CUEVAS BLANCAS       |21   |38038 |Santa Cruz de Tenerife    |ENTRADA SIROCO UCEVAS BLANCAS 21 SANTA CRUZ DE TENERIFE           |\n",
      "|00760F34-E924-4184-A8B3-29965FC5B864|HOTEL       |BRISAMAR III CL AYOZE ACORAN|8    |38038 |Santa Cruz de Tenerife    |HOTEL BRISAAMR III CL AYOZE ACORAN 8 SANTA CRUZ DE TENERIFE       |\n",
      "|008B0887-AC4D-4713-B9E5-07E6CED0604F|LUGAR       |POLO 106A                   |20   |38026 |La Orotava                |ULGAR POLO 106A 20 LA OROTAVA                                     |\n",
      "|008B0887-AC4D-4713-B9E5-07E6CED0604F|POLIG       |POLO 106 A                  |20   |38026 |La Orotava                |POLIG POLO 106 A 20 LA OROTVAA                                    |\n",
      "|009A70FC-9043-4B78-960E-C1429BD87748|RAMBL       |DECANO CONSULAR RS ARENAS   |0    |38038 |Santa Cruz de Tenerife    |RAMBL DEACNO CONSULAR RS ARENAS 0 SANTA CRUZ DE TENERIFE          |\n",
      "|009A70FC-9043-4B78-960E-C1429BD87748|URBANIZACION|MARRUILLO RESIDENCIA ARENAS |0    |38038 |Santa Cruz de Tenerife    |URBANIZACION MARRUILLO RESIDENCIA RAENAS 0 SANTA CRUZ DE TENERIFE |\n",
      "|009A70FC-9043-4B78-960E-C1429BD87748|VEREDA      |DECANO CONSULAR RL ARENAS   |0    |38038 |Santa Cruz de Tenerife    |VEREDA DECANO CONSULAR RL ARNEAS 0 SANTA CRUZ DE TENERIFE         |\n",
      "|009A70FC-9043-4B78-960E-C1429BD87748|URBANIZACION|MARRUILLO RESIDENCIAL ARENAS|0    |38038 |Santa Cruz de Tenerife    |URBANIZACION MARRUILLO RESIDENCIAL ARENAS 0 SANTA CRUZ ED TENERIFE|\n",
      "|009A70FC-9043-4B78-960E-C1429BD87748|MONTAÑA     |DECANO CONSULAR ARENAS      |0    |38038 |Santa Cruz de Tenerife    |MONTAÑA DECANO OCNSULAR ARENAS 0 SANTA CRUZ DE TENERIFE           |\n",
      "|009A70FC-9043-4B78-960E-C1429BD87748|PASEO       |DECANO CONSULAR RES ARENAS  |0    |38038 |Santa Cruz de Tenerife    |PASEO DEACNO CONSULAR RES ARENAS 0 SANTA CRUZ DE TENERIFE         |\n",
      "|00AB4743-6F76-427F-919F-348FA15BF830|PUENTE      |CAMINO TRES                 |83   |38008 |Breña Alta                |PUENTE CAIMNO TRES 83 BREÑA ALTA                                  |\n",
      "|00EE8A38-3881-4495-B868-F042C6BDF03F|GLORIETA    |MEXICO                      |42   |35034 |Yaiza                     |GLORIETA MEIXCO 42 YAIZA                                          |\n",
      "|00F74AC2-204B-4393-9465-B71C423B7245|POBLADO     |GARROTA                     |22   |38031 |Los Realejos              |POBLADO GARROTA 22 LSO REALEJOS                                   |\n",
      "|00F74AC2-204B-4393-9465-B71C423B7245|PLAYA       |GARROTA MOCAN               |22   |38031 |Los Realejos              |PLAYA GARROTA MOCAN 22 LOS RAELEJOS                               |\n",
      "|0119F3F5-EACA-4AF6-8E7F-EBFFF91162AB|CRTA        |CL PARROCO VILLAR REINA 19  |0    |35016 |Las Palmas de Gran Canaria|CRTA CL PARROCO VILLAR RIENA 19 0 LAS PALMAS DE GRAN CANARIA      |\n",
      "|0119F3F5-EACA-4AF6-8E7F-EBFFF91162AB|RONDA       |CL PARROCO VILLAR REINA 170 |0    |35016 |Las Palmas de Gran Canaria|RONDA CL PARROCO VILLAR REINA 170 0 LAS PALMAS DE GRAN ACNARIA    |\n",
      "|013931A7-C78E-42DB-8479-25A968E4330B|ESCALINATA  |IVAN BETANCUR               |0    |35017 |Puerto del Rosario        |ESCALINATA IVAN BETACNUR 0 PUERTO DEL ROSARIO                     |\n",
      "|01510AE5-81EE-4ABA-B0A4-381EE586BB39|TRANS       |HOYA MELEQUE                |20   |38028 |Puerto de la Cruz         |TRANS HOYA MELEQUE 20 PUERTO ED LA CRUZ                           |\n",
      "|015AF5E4-05FD-4636-B80E-1835A087D3DC|PASSEIG     |TOSCAL                      |108  |38031 |Los Realejos              |PASSEIG TOSCLA 108 LOS REALEJOS                                   |\n",
      "|015AF5E4-05FD-4636-B80E-1835A087D3DC|RIBERA      |TOSCAL                      |34   |38031 |Los Realejos              |RIBERA TOSACL 34 LOS REALEJOS                                     |\n",
      "+------------------------------------+------------+----------------------------+-----+------+--------------------------+------------------------------------------------------------------+\n",
      "only showing top 20 rows\n",
      "\n"
     ]
    },
    {
     "name": "stderr",
     "output_type": "stream",
     "text": [
      "                                                                                \r"
     ]
    },
    {
     "name": "stdout",
     "output_type": "stream",
     "text": [
      "571732 1653857\n"
     ]
    },
    {
     "name": "stderr",
     "output_type": "stream",
     "text": [
      "[Stage 639:=====================================================> (39 + 1) / 40]\r"
     ]
    },
    {
     "name": "stdout",
     "output_type": "stream",
     "text": [
      "2225589\n"
     ]
    },
    {
     "name": "stderr",
     "output_type": "stream",
     "text": [
      "                                                                                \r"
     ]
    }
   ],
   "source": [
    "from pyspark.sql.functions import udf\n",
    "from pyspark.sql.types import StringType\n",
    "import random\n",
    "\n",
    "# Define la función UDF\n",
    "def switch_letters(direcction):\n",
    "    \"\"\"Intercambia letras adyacentes en una palabra\"\"\"\n",
    "    words = direcction.split()\n",
    "    word_candidates = [word for word in words if word.isalpha() and len(word) >= 2]\n",
    "    if not word_candidates:\n",
    "        return direcction\n",
    "    word = random.choice(word_candidates)\n",
    "    pos = random.randint(0, len(word) - 2)\n",
    "    return \" \".join(\n",
    "        w if w != word else w[:pos] + w[pos + 1] + w[pos] + w[pos + 2:]\n",
    "        for w in words\n",
    "    )\n",
    "\n",
    "def update_direction_via(tvia, direction):\n",
    "    \"\"\"Actualiza el tipo de vía de la dirección\"\"\"\n",
    "    old_tvia = direction.split(\" \")[0]\n",
    "    if tvia.upper() in tvia_types:   \n",
    "        direction = direction.replace(old_tvia, tvia)\n",
    "    return direction\n",
    "\n",
    "def select_via_type(tvia):\n",
    "    \"\"\"Selecciona tipos de vía alternativos sin duplicados\"\"\"\n",
    "    return random.choice([t for t in tvia_types if t.title() != tvia and t != tvia.lower()])\n",
    "\n",
    "\n",
    "unique_filtered_uuids = adresses_df.groupBy(\"uuid_idt\").count().filter(\"count < 10\").select(\"uuid_idt\").sample(0.5)\n",
    "\n",
    "to_extend = adresses_df.join(unique_filtered_uuids, \"uuid_idt\")\n",
    "\n",
    "# Registra la función UDF con Spark\n",
    "spark.udf.register(\"switch_letters\", switch_letters, StringType())\n",
    "spark.udf.register(\"select_via_type\", select_via_type, StringType())\n",
    "spark.udf.register(\"update_direction_via\", update_direction_via, StringType())\n",
    "\n",
    "# Aplica la función UDF a la columna \"direccion\" usando withColumn\n",
    "extended_ds = (to_extend\n",
    "    .withColumn(\"tvia\", udf(select_via_type, StringType())(\"tvia\"))\n",
    "    .withColumn(\"direccion\", udf(update_direction_via, StringType())(\"tvia\", \"direccion\"))\n",
    "    .withColumn(\"direccion\", udf(switch_letters, StringType())(\"direccion\"))\n",
    ")\n",
    "\n",
    "extended_ds.show(truncate=False)\n",
    "print(extended_ds.count(), adresses_df.count())\n",
    "adresses_df = adresses_df.union(extended_ds)\n",
    "print(adresses_df.count())"
   ]
  },
  {
   "cell_type": "markdown",
   "metadata": {},
   "source": [
    "### Frecuencia de uuid_idt después"
   ]
  },
  {
   "cell_type": "code",
   "execution_count": 37,
   "metadata": {},
   "outputs": [
    {
     "name": "stderr",
     "output_type": "stream",
     "text": [
      "                                                                                \r"
     ]
    },
    {
     "name": "stdout",
     "output_type": "stream",
     "text": [
      "+-------------------------------+----------+\n",
      "|Número de direcciones asociadas|Frecuencia|\n",
      "+-------------------------------+----------+\n",
      "|                              1|    138541|\n",
      "|                              2|    194307|\n",
      "|                              3|     28533|\n",
      "|                              4|     71500|\n",
      "|                              5|      9978|\n",
      "|                              6|     35079|\n",
      "|                              7|      4531|\n",
      "|                              8|     19792|\n",
      "|                       10 o más|     49672|\n",
      "+-------------------------------+----------+\n",
      "\n"
     ]
    }
   ],
   "source": [
    "uuid_frecuency(adresses_df)"
   ]
  }
 ],
 "metadata": {
  "kernelspec": {
   "display_name": "adress_matching_spark",
   "language": "python",
   "name": "python3"
  },
  "language_info": {
   "codemirror_mode": {
    "name": "ipython",
    "version": 3
   },
   "file_extension": ".py",
   "mimetype": "text/x-python",
   "name": "python",
   "nbconvert_exporter": "python",
   "pygments_lexer": "ipython3",
   "version": "3.10.12"
  }
 },
 "nbformat": 4,
 "nbformat_minor": 2
}
