{
 "cells": [
  {
   "cell_type": "markdown",
   "metadata": {},
   "source": [
    "# Address Matching with Apache Spark"
   ]
  },
  {
   "cell_type": "markdown",
   "metadata": {},
   "source": [
    "## Iniciar Spark"
   ]
  },
  {
   "cell_type": "code",
   "execution_count": 1,
   "metadata": {},
   "outputs": [
    {
     "name": "stderr",
     "output_type": "stream",
     "text": [
      "24/04/16 10:11:39 WARN Utils: Your hostname, ubuntu resolves to a loopback address: 127.0.1.1; using 10.6.130.30 instead (on interface ens3)\n",
      "24/04/16 10:11:39 WARN Utils: Set SPARK_LOCAL_IP if you need to bind to another address\n",
      "Setting default log level to \"WARN\".\n",
      "To adjust logging level use sc.setLogLevel(newLevel). For SparkR, use setLogLevel(newLevel).\n",
      "24/04/16 10:11:40 WARN NativeCodeLoader: Unable to load native-hadoop library for your platform... using builtin-java classes where applicable\n"
     ]
    }
   ],
   "source": [
    "from pyspark.sql.session import SparkSession\n",
    "\n",
    "spark = SparkSession.builder \\\n",
    "    .appName(\"Adress Matching\") \\\n",
    "    .config(\"spark.executor.memory\", \"3g\") \\\n",
    "    .config(\"spark.driver.memory\", \"20g\") \\\n",
    "    .config(\"spark.driver.maxResultSize\", \"4g\") \\\n",
    "    .getOrCreate()\n",
    "    #.config(\"spark.local.dir\", \"/spark-tmp\") \\"
   ]
  },
  {
   "cell_type": "code",
   "execution_count": 22,
   "metadata": {},
   "outputs": [
    {
     "name": "stdout",
     "output_type": "stream",
     "text": [
      "spark.app.name: Adress Matching\n",
      "spark.driver.extraJavaOptions: -Djava.net.preferIPv6Addresses=false -XX:+IgnoreUnrecognizedVMOptions --add-opens=java.base/java.lang=ALL-UNNAMED --add-opens=java.base/java.lang.invoke=ALL-UNNAMED --add-opens=java.base/java.lang.reflect=ALL-UNNAMED --add-opens=java.base/java.io=ALL-UNNAMED --add-opens=java.base/java.net=ALL-UNNAMED --add-opens=java.base/java.nio=ALL-UNNAMED --add-opens=java.base/java.util=ALL-UNNAMED --add-opens=java.base/java.util.concurrent=ALL-UNNAMED --add-opens=java.base/java.util.concurrent.atomic=ALL-UNNAMED --add-opens=java.base/jdk.internal.ref=ALL-UNNAMED --add-opens=java.base/sun.nio.ch=ALL-UNNAMED --add-opens=java.base/sun.nio.cs=ALL-UNNAMED --add-opens=java.base/sun.security.action=ALL-UNNAMED --add-opens=java.base/sun.util.calendar=ALL-UNNAMED --add-opens=java.security.jgss/sun.security.krb5=ALL-UNNAMED -Djdk.reflect.useDirectMethodHandle=false\n",
      "spark.executor.memory: 3g\n",
      "spark.app.startTime: 1713173167645\n",
      "spark.app.id: local-1713173170250\n",
      "spark.app.submitTime: 1713173167237\n",
      "spark.sql.warehouse.dir: file:/home/usuario/Address-matching/notebooks/spark-warehouse\n",
      "spark.executor.id: driver\n",
      "spark.driver.port: 41195\n",
      "spark.driver.host: 10.6.130.30\n",
      "spark.driver.memory: 20g\n",
      "spark.rdd.compress: True\n",
      "spark.executor.extraJavaOptions: -Djava.net.preferIPv6Addresses=false -XX:+IgnoreUnrecognizedVMOptions --add-opens=java.base/java.lang=ALL-UNNAMED --add-opens=java.base/java.lang.invoke=ALL-UNNAMED --add-opens=java.base/java.lang.reflect=ALL-UNNAMED --add-opens=java.base/java.io=ALL-UNNAMED --add-opens=java.base/java.net=ALL-UNNAMED --add-opens=java.base/java.nio=ALL-UNNAMED --add-opens=java.base/java.util=ALL-UNNAMED --add-opens=java.base/java.util.concurrent=ALL-UNNAMED --add-opens=java.base/java.util.concurrent.atomic=ALL-UNNAMED --add-opens=java.base/jdk.internal.ref=ALL-UNNAMED --add-opens=java.base/sun.nio.ch=ALL-UNNAMED --add-opens=java.base/sun.nio.cs=ALL-UNNAMED --add-opens=java.base/sun.security.action=ALL-UNNAMED --add-opens=java.base/sun.util.calendar=ALL-UNNAMED --add-opens=java.security.jgss/sun.security.krb5=ALL-UNNAMED -Djdk.reflect.useDirectMethodHandle=false\n",
      "spark.serializer.objectStreamReset: 100\n",
      "spark.master: local[*]\n",
      "spark.submit.pyFiles: \n",
      "spark.submit.deployMode: client\n",
      "spark.ui.showConsoleProgress: true\n",
      "spark.driver.maxResultSize: 4g\n"
     ]
    }
   ],
   "source": [
    "conf = spark.sparkContext.getConf()\n",
    "for (key, value) in conf.getAll():\n",
    "  print(f\"{key}: {value}\")"
   ]
  },
  {
   "cell_type": "markdown",
   "metadata": {},
   "source": [
    "## Leer fichero"
   ]
  },
  {
   "cell_type": "markdown",
   "metadata": {},
   "source": [
    "El dataset continene exactamente 24 columnas las cuales, el ***, almacena información relevante el trabajo que realizan. En cambio, en este proyecto, se utilizarán las siguientes columnas pues contienen la información más relevante:\n",
    "- **uuid_idt**: contiene un identificador alfanumérico único para cada dirección.\n",
    "- **tvia**: contiene el tipo de vía, es decir, si es una calle, avenida, carretera, etc.\n",
    "- **nvia**: contiene el nombre de la vía.\n",
    "- **numer**: contiene el número de la vía.\n",
    "- **codmun**: está compuesto por un código numérico que identifica a un municipio, es decir, el código postal.\n",
    "- **nommun**: contiene el nombre del municipio.\n",
    "- **direccion**: contiene la dirección completa.\""
   ]
  },
  {
   "cell_type": "code",
   "execution_count": 23,
   "metadata": {},
   "outputs": [
    {
     "name": "stderr",
     "output_type": "stream",
     "text": [
      "                                                                                \r"
     ]
    },
    {
     "name": "stdout",
     "output_type": "stream",
     "text": [
      "+--------------------+------------+--------------------+-----+------+------+--------------------+\n",
      "|            uuid_idt|        tvia|                nvia|numer|codmun|nommun|           direccion|\n",
      "+--------------------+------------+--------------------+-----+------+------+--------------------+\n",
      "|027C0FF8-B17B-11E...|       CALLE|        FUENTE SANTA|    5| 35001|Agaete|CALLE FUENTE SANT...|\n",
      "|028F2302-B17B-11E...|       CALLE|       CRUZ CHIQUITA|    2| 35001|Agaete|CALLE CRUZ CHIQUI...|\n",
      "|02918516-B17B-11E...|URBANIZACION|RESIDENCIAL PALMERAL|    9| 35001|Agaete|URBANIZACION RESI...|\n",
      "|03A306C0-7525-11E...|       CALLE|SEÑORITA MARIA MA...|    2| 35001|Agaete|CALLE SEÑORITA MA...|\n",
      "|03A306C0-7525-11E...|       CALLE|SRTA M MANRIQUE LARA|    2| 35001|Agaete|CALLE SRTA M MANR...|\n",
      "|03A306C0-7525-11E...|       CALLE| MARIA MANRIQUE LARA|    0| 35001|Agaete|CALLE MARIA MANRI...|\n",
      "|03A306C0-7525-11E...|       CALLE| MARIA MANRIQUE LARA|    2| 35001|Agaete|CALLE MARIA MANRI...|\n",
      "|03A306C0-7525-11E...|       CALLE|  ST M MANRIQUE LARA|    2| 35001|Agaete|CALLE ST M MANRIQ...|\n",
      "|03A306C0-7525-11E...|       CALLE|       MANRIQUE LARA|    2| 35001|Agaete|CALLE MANRIQUE LA...|\n",
      "|05C1069E-02BB-443...|       CALLE|        RISCO AGAETE|   19| 35001|Agaete|CALLE RISCO AGAET...|\n",
      "|05C1069E-02BB-443...|       CALLE|               RISCO|   19| 35001|Agaete|CALLE RISCO 19 AG...|\n",
      "|0767670E-D385-4FF...|URBANIZACION|            ELTURMAN|   14| 35001|Agaete|URBANIZACION ELTU...|\n",
      "|0767670E-D385-4FF...|       LUGAR|              TURMAN|   78| 35001|Agaete|LUGAR TURMAN 78 A...|\n",
      "|07D6EE06-78EE-4FC...|URBANIZACION|TURMAN C ALFREDO ...|  212| 35001|Agaete|URBANIZACION TURM...|\n",
      "|07E3A094-4FAF-4E9...|       OTROS|   ESTACION MARITIMA|    0| 35001|Agaete|ESTACION MARITIMA...|\n",
      "|09DB1BCD-BADF-4F6...|     AVENIDA|ALCALDE JOSE ARMA...|    7| 35001|Agaete|AVENIDA ALCALDE J...|\n",
      "|0DD7DD10-3553-411...|       PASEO|PALMERAL PINTOR G...|    6| 35001|Agaete|PASEO PALMERAL PI...|\n",
      "|0DD7DD10-3553-411...|       CALLE|PINTOR GARCIA ALV...|    8| 35001|Agaete|CALLE PINTOR GARC...|\n",
      "|0FBDCFF8-1183-4B0...|URBANIZACION|         CANDELARIAS|   17| 35001|Agaete|URBANIZACION CAND...|\n",
      "|0FBDCFF8-1183-4B0...|URBANIZACION|         CANDELARIAS|   18| 35001|Agaete|URBANIZACION CAND...|\n",
      "+--------------------+------------+--------------------+-----+------+------+--------------------+\n",
      "only showing top 20 rows\n",
      "\n"
     ]
    },
    {
     "name": "stderr",
     "output_type": "stream",
     "text": [
      "                                                                                \r"
     ]
    },
    {
     "name": "stdout",
     "output_type": "stream",
     "text": [
      "1784217\n"
     ]
    },
    {
     "name": "stderr",
     "output_type": "stream",
     "text": [
      "                                                                                \r"
     ]
    }
   ],
   "source": [
    "# Leer el archivo CSV y cargarlo en un DataFrame\n",
    "file =  \"../data/raw_data/TFM_Direcciones.tab\"\n",
    "first_df = spark.read.option(\"delimiter\", \"\\t\").option(\"encoding\", \"windows-1252\").csv(file, header=True, inferSchema=True)\n",
    "\n",
    "# Seleccionar solo las columnas deseadas\n",
    "selected_columns = [\n",
    "  \"uuid_idt\",\n",
    "  \"tvia\",\n",
    "  \"nvia\",\n",
    "  \"numer\",\n",
    "  \"codmun\",\n",
    "  \"nommun\",\n",
    "  \"direccion\",\n",
    "]\n",
    "first_df = first_df.select(selected_columns)\n",
    "\n",
    "# Mostrar el DataFrame\n",
    "first_df.show()\n",
    "first_df.schema\n",
    "print(first_df.count())\n",
    "size_df = first_df.count()"
   ]
  },
  {
   "cell_type": "code",
   "execution_count": 24,
   "metadata": {},
   "outputs": [
    {
     "name": "stdout",
     "output_type": "stream",
     "text": [
      "+--------------------+------+--------------------+--------------------+\n",
      "|            uuid_idt|codmun|              nommun|           direccion|\n",
      "+--------------------+------+--------------------+--------------------+\n",
      "|C0CF3B94-0AD1-11E...| 35016|LAS PALMAS DE GRA...|IGUAZU 42 0 LAS P...|\n",
      "|73B57C1B-3251-11E...| 35016|LAS PALMAS DE GRA...|PARQUE CENTRAL BL...|\n",
      "|C70E3EC6-3EDA-11E...| 35016|LAS PALMAS DE GRA...|CONCEJAL GARCIA F...|\n",
      "|687BA81E-3251-11E...| 35006|              ARUCAS|PEDRO MORALES DEN...|\n",
      "|74921989-3251-11E...| 35019|SAN BARTOLOMÉ DE ...|ISLA LOBOS 19 0 S...|\n",
      "|6C0D19FF-3251-11E...| 35016|LAS PALMAS DE GRA...|CALLE LEON Y CAST...|\n",
      "|6360FDCD-3251-11E...| 35016|LAS PALMAS DE GRA...|VIGEN PILAR 45 4 ...|\n",
      "|758B3855-3251-11E...| 35016|LAS PALMAS DE GRA...|CALLE PALMERA CAN...|\n",
      "|5D36841A-7A6B-11E...| 35016|LAS PALMAS DE GRA...|RUPERTO CHAPI 0 L...|\n",
      "|6C00DBF4-3251-11E...| 35021|       SANTA BRÍGIDA|MANUEL HERNANDEZ ...|\n",
      "|733A49C5-3251-11E...| 35027|               TEROR| HERRERIA 36 0 TEROR|\n",
      "|C0A2DCAF-0AD1-11E...| 35021|       SANTA BRÍGIDA|SUBIDA JOSE MEDER...|\n",
      "|785998D5-3251-11E...| 35016|LAS PALMAS DE GRA...|CARMEN QUINTANA 6...|\n",
      "|6D52F776-3251-11E...| 35016|LAS PALMAS DE GRA...|TOMAS MORALES 100...|\n",
      "|710F6DCB-3251-11E...| 38020|              GÜÍMAR|CALLE CHACONA CAL...|\n",
      "|D721C91D-B743-11E...| 38038|SANTA CRUZ DE TEN...|AZAHAR CHORRILLO ...|\n",
      "|6FA00078-3251-11E...| 35016|LAS PALMAS DE GRA...|BANDAMA 76 0 LAS ...|\n",
      "|72AB493C-3251-11E...| 35016|LAS PALMAS DE GRA...|REALIDAD 39 0 LAS...|\n",
      "|6AD2FD7E-3251-11E...| 35004|            ARRECIFE|AGUSTIN ESPINOSA ...|\n",
      "|65BA189F-3251-11E...| 35031|VALSEQUILLO DE GR...|PILON 3 VALSEQUIL...|\n",
      "+--------------------+------+--------------------+--------------------+\n",
      "only showing top 20 rows\n",
      "\n",
      "630297\n"
     ]
    }
   ],
   "source": [
    "from pyspark.sql.functions import upper\n",
    "\n",
    "file =  \"../data/raw_data/data-09022024.csv\"\n",
    "second_df = spark.read.option('header', True).csv(file)\n",
    "\n",
    "selected_columns = [\n",
    "  \"uuid_idt\",\n",
    "  \"codmun\",\n",
    "  \"nommun\",\n",
    "  \"direccion\"\n",
    "]\n",
    "\n",
    "second_df = second_df.select(selected_columns)\n",
    "second_df = second_df.select(upper('uuid_idt').alias('uuid_idt'), 'codmun', upper('nommun').alias('nommun'), 'direccion')\n",
    "second_df.show()\n",
    "first_df.schema\n",
    "print(second_df.count())\n",
    "size_df += second_df.count()"
   ]
  },
  {
   "cell_type": "code",
   "execution_count": 25,
   "metadata": {},
   "outputs": [
    {
     "name": "stdout",
     "output_type": "stream",
     "text": [
      "2414514\n"
     ]
    }
   ],
   "source": [
    "print(size_df)"
   ]
  },
  {
   "cell_type": "code",
   "execution_count": 26,
   "metadata": {},
   "outputs": [
    {
     "name": "stderr",
     "output_type": "stream",
     "text": [
      "                                                                                \r"
     ]
    },
    {
     "name": "stdout",
     "output_type": "stream",
     "text": [
      "+-------------------------------+----------+\n",
      "|Número de direcciones asociadas|Frecuencia|\n",
      "+-------------------------------+----------+\n",
      "|                              1|    267275|\n",
      "|                              2|    115343|\n",
      "|                              3|     60757|\n",
      "|                              4|     35631|\n",
      "|                              5|     22207|\n",
      "|                              6|     14810|\n",
      "|                              7|     10142|\n",
      "|                              8|      7411|\n",
      "|                       10 o más|     25539|\n",
      "+-------------------------------+----------+\n",
      "\n"
     ]
    },
    {
     "name": "stderr",
     "output_type": "stream",
     "text": [
      "                                                                                \r"
     ]
    },
    {
     "name": "stdout",
     "output_type": "stream",
     "text": [
      "+-------------------------------+----------+\n",
      "|Número de direcciones asociadas|Frecuencia|\n",
      "+-------------------------------+----------+\n",
      "|                              1|    250632|\n",
      "|                              2|     51645|\n",
      "|                              3|     19692|\n",
      "|                              4|      9055|\n",
      "|                              5|      4702|\n",
      "|                              6|      2876|\n",
      "|                              7|      1772|\n",
      "|                              8|      1161|\n",
      "|                       10 o más|      4083|\n",
      "+-------------------------------+----------+\n",
      "\n"
     ]
    }
   ],
   "source": [
    "from pyspark.sql.functions import count\n",
    "\n",
    "def uuid_frecuency(dataframe):\n",
    "    values_under_10 = dataframe.groupBy(dataframe.uuid_idt).count() \\\n",
    "        .filter('count < 9') \\\n",
    "        .groupBy('count') \\\n",
    "        .agg(count('*') \\\n",
    "        .alias('Frecuencia')) \\\n",
    "        .orderBy('count')\n",
    "    values_under_10 = values_under_10.withColumnRenamed('count', 'Número de direcciones asociadas')\n",
    "\n",
    "    values_over_10 = dataframe.groupBy(dataframe.uuid_idt).count() \\\n",
    "        .filter('count > 9')\n",
    "    values_over_10 = spark.createDataFrame(\n",
    "        [['10 o más', values_over_10.count()]],\n",
    "        ['Número de direcciones asociadas', 'Frecuencia']\n",
    "        )\n",
    "\n",
    "    values = values_under_10.union(values_over_10)\n",
    "    values.show()\n",
    "\n",
    "uuid_frecuency(first_df)\n",
    "uuid_frecuency(second_df)"
   ]
  },
  {
   "cell_type": "markdown",
   "metadata": {},
   "source": [
    "## Unión de los dataframes"
   ]
  },
  {
   "cell_type": "code",
   "execution_count": 27,
   "metadata": {},
   "outputs": [
    {
     "name": "stderr",
     "output_type": "stream",
     "text": [
      "                                                                                \r"
     ]
    },
    {
     "name": "stdout",
     "output_type": "stream",
     "text": [
      "+--------------------+------------+--------------------+-----+------+------+--------------------+\n",
      "|            uuid_idt|        tvia|                nvia|numer|codmun|nommun|           direccion|\n",
      "+--------------------+------------+--------------------+-----+------+------+--------------------+\n",
      "|027C0FF8-B17B-11E...|       CALLE|        FUENTE SANTA|    5| 35001|Agaete|CALLE FUENTE SANT...|\n",
      "|028F2302-B17B-11E...|       CALLE|       CRUZ CHIQUITA|    2| 35001|Agaete|CALLE CRUZ CHIQUI...|\n",
      "|02918516-B17B-11E...|URBANIZACION|RESIDENCIAL PALMERAL|    9| 35001|Agaete|URBANIZACION RESI...|\n",
      "|03A306C0-7525-11E...|       CALLE|SEÑORITA MARIA MA...|    2| 35001|Agaete|CALLE SEÑORITA MA...|\n",
      "|03A306C0-7525-11E...|       CALLE|SRTA M MANRIQUE LARA|    2| 35001|Agaete|CALLE SRTA M MANR...|\n",
      "|03A306C0-7525-11E...|       CALLE| MARIA MANRIQUE LARA|    0| 35001|Agaete|CALLE MARIA MANRI...|\n",
      "|03A306C0-7525-11E...|       CALLE| MARIA MANRIQUE LARA|    2| 35001|Agaete|CALLE MARIA MANRI...|\n",
      "|03A306C0-7525-11E...|       CALLE|  ST M MANRIQUE LARA|    2| 35001|Agaete|CALLE ST M MANRIQ...|\n",
      "|03A306C0-7525-11E...|       CALLE|       MANRIQUE LARA|    2| 35001|Agaete|CALLE MANRIQUE LA...|\n",
      "|05C1069E-02BB-443...|       CALLE|        RISCO AGAETE|   19| 35001|Agaete|CALLE RISCO AGAET...|\n",
      "|05C1069E-02BB-443...|       CALLE|               RISCO|   19| 35001|Agaete|CALLE RISCO 19 AG...|\n",
      "|0767670E-D385-4FF...|URBANIZACION|            ELTURMAN|   14| 35001|Agaete|URBANIZACION ELTU...|\n",
      "|0767670E-D385-4FF...|       LUGAR|              TURMAN|   78| 35001|Agaete|LUGAR TURMAN 78 A...|\n",
      "|07D6EE06-78EE-4FC...|URBANIZACION|TURMAN C ALFREDO ...|  212| 35001|Agaete|URBANIZACION TURM...|\n",
      "|07E3A094-4FAF-4E9...|       OTROS|   ESTACION MARITIMA|    0| 35001|Agaete|ESTACION MARITIMA...|\n",
      "|09DB1BCD-BADF-4F6...|     AVENIDA|ALCALDE JOSE ARMA...|    7| 35001|Agaete|AVENIDA ALCALDE J...|\n",
      "|0DD7DD10-3553-411...|       PASEO|PALMERAL PINTOR G...|    6| 35001|Agaete|PASEO PALMERAL PI...|\n",
      "|0DD7DD10-3553-411...|       CALLE|PINTOR GARCIA ALV...|    8| 35001|Agaete|CALLE PINTOR GARC...|\n",
      "|0FBDCFF8-1183-4B0...|URBANIZACION|         CANDELARIAS|   17| 35001|Agaete|URBANIZACION CAND...|\n",
      "|0FBDCFF8-1183-4B0...|URBANIZACION|         CANDELARIAS|   18| 35001|Agaete|URBANIZACION CAND...|\n",
      "+--------------------+------------+--------------------+-----+------+------+--------------------+\n",
      "only showing top 20 rows\n",
      "\n"
     ]
    },
    {
     "name": "stderr",
     "output_type": "stream",
     "text": [
      "                                                                                \r"
     ]
    },
    {
     "name": "stdout",
     "output_type": "stream",
     "text": [
      "Tamaño del dataframe ampliado:  2234214\n"
     ]
    },
    {
     "name": "stderr",
     "output_type": "stream",
     "text": [
      "[Stage 449:============================>                            (4 + 4) / 8]\r"
     ]
    },
    {
     "name": "stdout",
     "output_type": "stream",
     "text": [
      "Número de uuid_idt nuevos del segundo dataframe:  148073\n"
     ]
    },
    {
     "name": "stderr",
     "output_type": "stream",
     "text": [
      "                                                                                \r"
     ]
    }
   ],
   "source": [
    "# Seleccionar los UUID únicos del primer DataFrame\n",
    "unique_uuid_first_df = first_df.select(\"uuid_idt\").distinct()\n",
    "\n",
    "# Seleccionar los UUID únicos del segundo DataFrame\n",
    "unique_uuid_second_df = second_df.select(\"uuid_idt\").distinct()\n",
    "\n",
    "# Encontrar los UUID comunes\n",
    "uuid_comunes = unique_uuid_first_df.join(unique_uuid_second_df, \"uuid_idt\", \"inner\")\n",
    "# Da el mismo resultado: uuid_primero.intersect(uuid_segundo)\n",
    "\n",
    "# Juntar los UUID comunes con el primer DataFrame\n",
    "adresses_df = first_df.unionByName(second_df.join(uuid_comunes, \"uuid_idt\", \"inner\"), allowMissingColumns=True)\n",
    "\n",
    "# Mostrar el resultado\n",
    "adresses_df.show()\n",
    "print(\"Tamaño del dataframe ampliado: \", adresses_df.count())\n",
    "\n",
    "# Si se quiere comprobar que la operación es correcta\n",
    "print(\"Número de uuid_idt nuevos del segundo dataframe: \", unique_uuid_second_df.subtract(uuid_comunes).count())"
   ]
  },
  {
   "cell_type": "code",
   "execution_count": 28,
   "metadata": {},
   "outputs": [
    {
     "name": "stderr",
     "output_type": "stream",
     "text": [
      "                                                                                \r"
     ]
    },
    {
     "name": "stdout",
     "output_type": "stream",
     "text": [
      "+-------------------------------+----------+\n",
      "|Número de direcciones asociadas|Frecuencia|\n",
      "+-------------------------------+----------+\n",
      "|                              1|    211768|\n",
      "|                              2|    119917|\n",
      "|                              3|     70050|\n",
      "|                              4|     44000|\n",
      "|                              5|     28925|\n",
      "|                              6|     19650|\n",
      "|                              7|     14050|\n",
      "|                              8|     10331|\n",
      "|                       10 o más|     38060|\n",
      "+-------------------------------+----------+\n",
      "\n"
     ]
    }
   ],
   "source": [
    "uuid_frecuency(adresses_df)"
   ]
  },
  {
   "cell_type": "markdown",
   "metadata": {},
   "source": [
    "## Partición del dataset"
   ]
  },
  {
   "cell_type": "code",
   "execution_count": 29,
   "metadata": {},
   "outputs": [],
   "source": [
    "adresses_df = adresses_df.repartition(32)"
   ]
  },
  {
   "cell_type": "markdown",
   "metadata": {},
   "source": [
    "## Limpieza del dataset"
   ]
  },
  {
   "cell_type": "markdown",
   "metadata": {},
   "source": [
    "Tras visualizar el dataset, se observa que hay columnas que tienen valores desconocidos, representados con '_U', y camos vacíos."
   ]
  },
  {
   "cell_type": "code",
   "execution_count": 30,
   "metadata": {},
   "outputs": [
    {
     "name": "stderr",
     "output_type": "stream",
     "text": [
      "[Stage 532:================================================>      (14 + 2) / 16]\r"
     ]
    },
    {
     "name": "stdout",
     "output_type": "stream",
     "text": [
      "Initial dataset size: 2234214\n"
     ]
    },
    {
     "name": "stderr",
     "output_type": "stream",
     "text": [
      "                                                                                \r"
     ]
    }
   ],
   "source": [
    "print(f\"Initial dataset size: {adresses_df.count()}\")"
   ]
  },
  {
   "cell_type": "markdown",
   "metadata": {},
   "source": [
    "### Valores nulos"
   ]
  },
  {
   "cell_type": "code",
   "execution_count": 31,
   "metadata": {},
   "outputs": [
    {
     "name": "stderr",
     "output_type": "stream",
     "text": [
      "[Stage 555:=====================================================> (31 + 1) / 32]\r"
     ]
    },
    {
     "name": "stdout",
     "output_type": "stream",
     "text": [
      "+--------+------+------+------+------+------+---------+\n",
      "|uuid_idt|  tvia|  nvia| numer|codmun|nommun|direccion|\n",
      "+--------+------+------+------+------+------+---------+\n",
      "|       0|580357|460216|449997|     0|     0|        0|\n",
      "+--------+------+------+------+------+------+---------+\n",
      "\n"
     ]
    },
    {
     "name": "stderr",
     "output_type": "stream",
     "text": [
      "                                                                                \r"
     ]
    }
   ],
   "source": [
    "from pyspark.sql.functions import isnan, when, count, col\n",
    "\n",
    "adresses_df.select([count(when(isnan(c) | col(c).isNull(), c)).alias(c) for c in adresses_df.columns]).show()"
   ]
  },
  {
   "cell_type": "code",
   "execution_count": 32,
   "metadata": {},
   "outputs": [
    {
     "name": "stderr",
     "output_type": "stream",
     "text": [
      "[Stage 573:=====================================================> (31 + 1) / 32]\r"
     ]
    },
    {
     "name": "stdout",
     "output_type": "stream",
     "text": [
      "+--------+----+----+------+------+------+---------+\n",
      "|uuid_idt|tvia|nvia| numer|codmun|nommun|direccion|\n",
      "+--------+----+----+------+------+------+---------+\n",
      "|       0|   0|   0|449997|     0|     0|        0|\n",
      "+--------+----+----+------+------+------+---------+\n",
      "\n"
     ]
    },
    {
     "name": "stderr",
     "output_type": "stream",
     "text": [
      "                                                                                \r"
     ]
    }
   ],
   "source": [
    "adresses_df = adresses_df.na.fill('_U')\n",
    "\n",
    "adresses_df.select([count(when(isnan(c) | col(c).isNull(), c)).alias(c) for c in adresses_df.columns]).show()"
   ]
  },
  {
   "cell_type": "markdown",
   "metadata": {},
   "source": [
    "### Extracción del prefijo para eleminar valores '_U'"
   ]
  },
  {
   "cell_type": "markdown",
   "metadata": {},
   "source": [
    "Tras analizar el dataset, se observa que para una dirección, el tipo de vía (tvia) puede aparecer vacío, en cambio, en la columna 'direccion' aparece este valor. Por lo que se procederá a extraer el prefijo de la columna 'direccion' para rellenar los valores vacíos de la columna 'tvia' evitando así la perdida de información."
   ]
  },
  {
   "cell_type": "code",
   "execution_count": 33,
   "metadata": {},
   "outputs": [
    {
     "name": "stderr",
     "output_type": "stream",
     "text": [
      "[Stage 586:============================================>          (13 + 3) / 16]\r"
     ]
    },
    {
     "name": "stdout",
     "output_type": "stream",
     "text": [
      "Unknown tvia before prefix extraction: 580357\n"
     ]
    },
    {
     "name": "stderr",
     "output_type": "stream",
     "text": [
      "                                                                                \r"
     ]
    }
   ],
   "source": [
    "print(f\"Unknown tvia before prefix extraction: {adresses_df.filter(adresses_df.tvia == '_U').count()}\")"
   ]
  },
  {
   "cell_type": "code",
   "execution_count": 34,
   "metadata": {},
   "outputs": [
    {
     "name": "stderr",
     "output_type": "stream",
     "text": [
      "[Stage 604:===================================================>   (15 + 1) / 16]\r"
     ]
    },
    {
     "name": "stdout",
     "output_type": "stream",
     "text": [
      "{'CRTA', 'RAMBL', 'EDIFICIO', 'PLACETA', 'CAMNO', 'ESCALERA', 'ROTONDA', 'CALLEJUELA', 'PRJE', 'PATIO', 'C', 'PUENTE', 'CALE', 'CONJUNTO', 'MUNICIPIO', 'LADERA', 'CRA', 'VALLE', 'VIA PEATONAL', 'TORRENTE', 'SOLAR', 'PLAZUELA', 'BARRIADA', 'AGRUP', 'ACCESO', 'BAJADA', 'BLOQUES', 'RINCONADA', 'RIBERA', 'DC', 'ESCALA', 'POBLADO', 'PARQ', 'CHALET', 'CARRERA', 'VIA', 'COMPLEJO', 'CALLE', 'PLAZOLETA', 'PAGO', 'OTROS', 'TORRE', 'LUGAR', 'RONDA', 'RAMAL', 'SB', 'ESCALINATA', 'URBANIZACION', 'RAMBLA', 'TRAV', 'BCO', 'ACERA', 'PASEO ALTO', 'RINCON', 'MONTAÑA', 'FINCA', 'GRUPO', 'BRNCO', 'VILLAS', 'PROLONGACION', 'ENTRADA', 'ALAMEDA', 'PISTA', 'APARTAMENTOS', 'CASERIO', 'MERCADO', 'AMPLIACION', 'CG', 'AVENI', 'CSRIO', 'CC', 'CENTRO COMERCIAL', 'LU', 'SIN DATOS DOMICILIAR', 'SUBIDA', 'SENDERO', 'CORRAL', 'ALDEA', 'ZONA', 'PASO', 'CUESTA', 'POLIGONO', 'EXTRARRADIO', 'ESTRADA', 'POLIG', 'ANGOSTA', 'PASEO BAJO', 'PARTICULAR', 'PASILLO', 'LOMA', 'AVENIDA', 'BARRANCO', 'TRANSVERSAL', 'MONTE', 'PLAZA', 'UB', 'PASAJE', 'AUTOPISTA', 'TRAVESIA', 'CALLEJA', 'EDIF', 'TRANS', 'CAMIN', 'ACEQUIA', 'PLAYA', 'SENDA', 'BARRIO', 'CMINO', 'SECTOR', 'APARTADO DE CORREOS', 'PARAJE', 'MUELLE', 'CALLEJON', 'COOPERATIVA', 'SERVENTIA', 'LOMO', 'PASEO', 'AUTOVIA', 'LLANO', 'PASSEIG', 'RESIDENCIAL', 'PARQUE', 'COSTANILLA', 'ATAJO', 'HOTEL', 'GLORIETA', 'CALZADA', 'PZTA', 'TRASERA', 'JARDIN', 'RUA', 'VIVIENDAS', 'CARRETERA', 'HL', 'PORTALES', 'PASADIZO', 'BULEVAR', 'PROL', 'TVERA', 'BARRA', 'VEREDA', 'RU', 'RESIDENCIA', 'DISEMINADO', 'COLONIA', 'CAMINO', 'PRIVADA', 'MANZANA', 'CAS'}\n"
     ]
    },
    {
     "name": "stderr",
     "output_type": "stream",
     "text": [
      "                                                                                \r"
     ]
    }
   ],
   "source": [
    "tvia_types = adresses_df.select(\"tvia\").distinct().collect()\n",
    "tvia_types = {t.tvia for t in tvia_types if t.tvia != \"_U\" and not t.tvia.isnumeric()}\n",
    "print(tvia_types)"
   ]
  },
  {
   "cell_type": "code",
   "execution_count": 35,
   "metadata": {},
   "outputs": [],
   "source": [
    "from pyspark.sql.functions import regexp_extract, when\n",
    "\n",
    "condition = (adresses_df.tvia == '_U') & (regexp_extract('direccion', r'^(\\\\S+)', 1).isin(tvia_types))\n",
    "adresses_df = adresses_df.withColumn(\"tvia\", when(condition, regexp_extract('direccion', r'^(\\\\S+)', 1)).otherwise(adresses_df.tvia))"
   ]
  },
  {
   "cell_type": "code",
   "execution_count": 36,
   "metadata": {},
   "outputs": [
    {
     "name": "stderr",
     "output_type": "stream",
     "text": [
      "[Stage 622:===================================================>   (15 + 1) / 16]\r"
     ]
    },
    {
     "name": "stdout",
     "output_type": "stream",
     "text": [
      "Unknown tvia before prefix extraction: 580357\n"
     ]
    },
    {
     "name": "stderr",
     "output_type": "stream",
     "text": [
      "                                                                                \r"
     ]
    }
   ],
   "source": [
    "print(f\"Unknown tvia before prefix extraction: {adresses_df.filter(adresses_df.tvia == '_U').count()}\")"
   ]
  },
  {
   "cell_type": "markdown",
   "metadata": {},
   "source": [
    "Se puede observar que los tipos de vías que siguen siendo desconocidos es debido a que desde la columna de dirección no se ha podido extraer un prefijo que aparezca en la lista de los tipos de vías que tenemos en el dataset."
   ]
  },
  {
   "cell_type": "markdown",
   "metadata": {},
   "source": [
    "### Limpieza de entradas con valor '_U'"
   ]
  },
  {
   "cell_type": "markdown",
   "metadata": {},
   "source": [
    "Tras realizar la limpieza del dataset y extraer el tipo de via de la columna 'direccion', se procederá a eliminar las entradas restantes que contengan valores '_U' en las columnas 'tvia' pues no aportan información relevante."
   ]
  },
  {
   "cell_type": "code",
   "execution_count": 37,
   "metadata": {},
   "outputs": [
    {
     "name": "stderr",
     "output_type": "stream",
     "text": [
      "[Stage 640:===================================================>   (15 + 1) / 16]\r"
     ]
    },
    {
     "name": "stdout",
     "output_type": "stream",
     "text": [
      "Unknown tvia before duplicated null cleaning: 580357\n"
     ]
    },
    {
     "name": "stderr",
     "output_type": "stream",
     "text": [
      "                                                                                \r"
     ]
    }
   ],
   "source": [
    "print(f\"Unknown tvia before duplicated null cleaning: {adresses_df.filter(adresses_df.tvia == '_U').count()}\")"
   ]
  },
  {
   "cell_type": "code",
   "execution_count": 38,
   "metadata": {},
   "outputs": [],
   "source": [
    "adresses_df = adresses_df.filter(adresses_df.tvia != '_U')"
   ]
  },
  {
   "cell_type": "code",
   "execution_count": 39,
   "metadata": {},
   "outputs": [
    {
     "name": "stdout",
     "output_type": "stream",
     "text": [
      "Unknown tvia after duplicated null cleaning: 0\n"
     ]
    }
   ],
   "source": [
    "print(f\"Unknown tvia after duplicated null cleaning: {adresses_df.filter(adresses_df.tvia == '_U').count()}\")"
   ]
  },
  {
   "cell_type": "code",
   "execution_count": 40,
   "metadata": {},
   "outputs": [
    {
     "name": "stderr",
     "output_type": "stream",
     "text": [
      "[Stage 657:==========================================>              (6 + 2) / 8]\r"
     ]
    },
    {
     "name": "stdout",
     "output_type": "stream",
     "text": [
      "Tamaño final del dataframe: 1653857\n"
     ]
    },
    {
     "name": "stderr",
     "output_type": "stream",
     "text": [
      "                                                                                \r"
     ]
    }
   ],
   "source": [
    "print(f\"Tamaño final del dataframe: {adresses_df.count()}\")"
   ]
  },
  {
   "cell_type": "markdown",
   "metadata": {},
   "source": [
    "## Aumento de datos"
   ]
  },
  {
   "cell_type": "markdown",
   "metadata": {},
   "source": [
    "### Frecuencia de uuid_idt antes"
   ]
  },
  {
   "cell_type": "code",
   "execution_count": 19,
   "metadata": {},
   "outputs": [
    {
     "name": "stderr",
     "output_type": "stream",
     "text": [
      "                                                                                \r"
     ]
    },
    {
     "name": "stdout",
     "output_type": "stream",
     "text": [
      "+-------------------------------+----------+\n",
      "|Número de direcciones asociadas|Frecuencia|\n",
      "+-------------------------------+----------+\n",
      "|                              1|    278002|\n",
      "|                              2|    109890|\n",
      "|                              3|     57031|\n",
      "|                              4|     32912|\n",
      "|                              5|     20151|\n",
      "|                              6|     13280|\n",
      "|                              7|      9074|\n",
      "|                              8|      6577|\n",
      "|                       10 o más|     22563|\n",
      "+-------------------------------+----------+\n",
      "\n"
     ]
    }
   ],
   "source": [
    "uuid_frecuency(adresses_df)"
   ]
  },
  {
   "cell_type": "markdown",
   "metadata": {},
   "source": [
    "### Aumento de datos"
   ]
  },
  {
   "cell_type": "markdown",
   "metadata": {},
   "source": [
    "- Cambiar el orden de las palabras\n",
    "- Añadir errores ortográficos\n",
    "- Añadir sinónimos"
   ]
  },
  {
   "cell_type": "code",
   "execution_count": 44,
   "metadata": {},
   "outputs": [
    {
     "name": "stderr",
     "output_type": "stream",
     "text": [
      "24/04/15 10:30:26 WARN SimpleFunctionRegistry: The function switch_letters replaced a previously registered function.\n",
      "24/04/15 10:30:26 WARN SimpleFunctionRegistry: The function select_via_type replaced a previously registered function.\n",
      "24/04/15 10:30:26 WARN SimpleFunctionRegistry: The function update_direction_via replaced a previously registered function.\n",
      "                                                                                \r"
     ]
    },
    {
     "name": "stdout",
     "output_type": "stream",
     "text": [
      "+------------------------------------+-------------------+-------------------------------+-----+------+--------------------------+---------------------------------------------------------------------+\n",
      "|uuid_idt                            |tvia               |nvia                           |numer|codmun|nommun                    |direccion                                                            |\n",
      "+------------------------------------+-------------------+-------------------------------+-----+------+--------------------------+---------------------------------------------------------------------+\n",
      "|00AB4743-6F76-427F-919F-348FA15BF830|CARRETERA          |CAMINO TRES                    |83   |38008 |Breña Alta                |CARRETERA CAMINO TRES 83 BREAÑ ALTA                                  |\n",
      "|0103D93A-4455-4962-A565-8ACCE76883B6|CALLEJON           |SAN ISIDRO MAJADILLA           |12   |35027 |Teror                     |CALLEJON SNA ISIDRO MAJADILLA 12 TEROR                               |\n",
      "|0109077A-6093-48FE-9965-0552BC2AC307|AUTOVIA            |PUERTO RICO                    |23   |38019 |Guía de Isora             |AUTOVIA PUERTO RICO 23 GUIA DE IOSRA                                 |\n",
      "|0109077A-6093-48FE-9965-0552BC2AC307|PASADIZO           |PUERTO RICO VERA ERQUE         |51   |38019 |Guía de Isora             |PSAADIZO PUERTO RICO VERA ERQUE 51 GUIA DE ISORA                     |\n",
      "|0109077A-6093-48FE-9965-0552BC2AC307|AGRUP              |PUERTO RICO VERA ERQUES        |31   |38019 |Guía de Isora             |AGRUP PUERTO RCIO VERA ERQUES 31 GUIA DE ISORA                       |\n",
      "|0109077A-6093-48FE-9965-0552BC2AC307|PROLONGACION       |PUERTO RICO VERA ERQUES        |51   |38019 |Guía de Isora             |PROLONGACION PUERTO RICO VERA ERQUES 51 GUIA DE ISROA                |\n",
      "|0119F3F5-EACA-4AF6-8E7F-EBFFF91162AB|BCO                |CL PARROCO VILLAR REINA 19     |0    |35016 |Las Palmas de Gran Canaria|BCO CL PARROCO VILLAR REINA 19 0 LAS PALMAS ED GRAN CANARIA          |\n",
      "|0119F3F5-EACA-4AF6-8E7F-EBFFF91162AB|AUTOPISTA          |CL PARROCO VILLAR REINA 170    |0    |35016 |Las Palmas de Gran Canaria|AUTOPISTA CL PARROCO VILLAR REINA 170 0 LAS PLAMAS DE GRAN CANARIA   |\n",
      "|01510AE5-81EE-4ABA-B0A4-381EE586BB39|CALLEJA            |HOYA MELEQUE                   |20   |38028 |Puerto de la Cruz         |CALLEJA HOYA MLEEQUE 20 PUERTO DE LA CRUZ                            |\n",
      "|015AF5E4-05FD-4636-B80E-1835A087D3DC|CC                 |TOSCAL                         |108  |38031 |Los Realejos              |CC TOSCAL 108 LOS REALEJOS                                           |\n",
      "|015AF5E4-05FD-4636-B80E-1835A087D3DC|OTROS              |TOSCAL                         |34   |38031 |Los Realejos              |OTROS TOSCAL 34 LOS RAELEJOS                                         |\n",
      "|015E276E-9B24-42DD-A57F-64CED6DA0E48|PASAJE             |URBANIZACION MOLINO            |2    |38036 |San Sebastián de la Gomera|PASAJE URBANIZACION MOLINO 2 SAN SEBASTIAN DE AL GOMERA              |\n",
      "|017726C8-3331-4959-B1D0-4C547F568ED6|RINCONADA          |PRIMAVERA                      |10   |35026 |Telde                     |RINCONADA PRIMAVEAR 10 TELDE                                         |\n",
      "|0183FFE0-2A0C-4127-845A-AB009A472A46|CALLEJON           |BOCATUERTA 3 TRANSVERS CHASCONA|1    |38023 |San Cristóbal de La Laguna|CALLEJON BOCATUERTA 3 TRANSVERS CHASCONA 1 SAN CRISTOBAL DE AL LAGUNA|\n",
      "|0183FFE0-2A0C-4127-845A-AB009A472A46|EDIFICIO           |BOCATUERTA                     |3    |38023 |San Cristóbal de La Laguna|EDIFICIO BOCATUERTA 3 SAN CRISTOBAL ED LA LAGUNA                     |\n",
      "|0183FFE0-2A0C-4127-845A-AB009A472A46|APARTADO DE CORREOS|BOCATUERTA GENETO              |5    |38023 |San Cristóbal de La Laguna|APARTDAO DE CORREOS BOCATUERTA GENETO 5 SAN CRISTOBAL DE LA LAGUNA   |\n",
      "|019932D0-25EC-4275-B571-42DC641AA2F5|RESIDENCIA         |CENICERA                       |0    |38034 |San Juan de la Rambla     |RESIDENCIA CENICERA 0 SAN JUAN DE AL RAMBLA                          |\n",
      "|01D34B36-4788-478D-9C08-8AE871890859|VIA                |VOLCAN                         |7    |35029 |Tinajo                    |VIA VOLCAN 7 ITNAJO                                                  |\n",
      "|01F1D9C0-45FB-4F5B-9532-E33AF2709940|CC                 |BARBUSANO GUATIZA              |20   |35024 |Teguise                   |CC BARBUSANO GUATIZA 20 TEGUISE                                      |\n",
      "|0220245D-2E1E-43A8-9757-A8B9590BE771|PZTA               |CANTERAS A PEDRO ALVAREZ       |59   |38046 |Tegueste                  |PZTA CANTERAS A PDERO ALVAREZ 59 TEGUESTE                            |\n",
      "+------------------------------------+-------------------+-------------------------------+-----+------+--------------------------+---------------------------------------------------------------------+\n",
      "only showing top 20 rows\n",
      "\n"
     ]
    },
    {
     "name": "stderr",
     "output_type": "stream",
     "text": [
      "                                                                                \r"
     ]
    },
    {
     "name": "stdout",
     "output_type": "stream",
     "text": [
      "569504 1653857\n"
     ]
    },
    {
     "name": "stderr",
     "output_type": "stream",
     "text": [
      "                                                                                \r"
     ]
    },
    {
     "name": "stdout",
     "output_type": "stream",
     "text": [
      "2223361\n"
     ]
    },
    {
     "name": "stderr",
     "output_type": "stream",
     "text": [
      "                                                                                \r"
     ]
    },
    {
     "name": "stdout",
     "output_type": "stream",
     "text": [
      "+-------------------------------+----------+\n",
      "|Número de direcciones asociadas|Frecuencia|\n",
      "+-------------------------------+----------+\n",
      "|                              1|    139046|\n",
      "|                              2|    193867|\n",
      "|                              3|     28602|\n",
      "|                              4|     71501|\n",
      "|                              5|     10034|\n",
      "|                              6|     35103|\n",
      "|                              7|      4576|\n",
      "|                              8|     19667|\n",
      "|                       10 o más|     49488|\n",
      "+-------------------------------+----------+\n",
      "\n"
     ]
    }
   ],
   "source": [
    "from pyspark.sql.functions import udf\n",
    "from pyspark.sql.types import StringType\n",
    "import random\n",
    "\n",
    "# Define la función UDF\n",
    "def switch_letters(direcction):\n",
    "    \"\"\"Intercambia letras adyacentes en una palabra\"\"\"\n",
    "    words = direcction.split()\n",
    "    word_candidates = [word for word in words if word.isalpha() and len(word) >= 2]\n",
    "    if not word_candidates:\n",
    "        return direcction\n",
    "    word = random.choice(word_candidates)\n",
    "    pos = random.randint(0, len(word) - 2)\n",
    "    return \" \".join(\n",
    "        w if w != word else w[:pos] + w[pos + 1] + w[pos] + w[pos + 2:]\n",
    "        for w in words\n",
    "    )\n",
    "\n",
    "def update_direction_via(tvia, direction):\n",
    "    \"\"\"Actualiza el tipo de vía de la dirección\"\"\"\n",
    "    old_tvia = direction.split(\" \")[0]\n",
    "    if tvia.upper() in tvia_types:   \n",
    "        direction = direction.replace(old_tvia, tvia)\n",
    "    return direction\n",
    "\n",
    "def select_via_type(tvia):\n",
    "    \"\"\"Selecciona tipos de vía alternativos sin duplicados\"\"\"\n",
    "    return random.choice([t for t in tvia_types if t.title() != tvia and t != tvia.lower()])\n",
    "\n",
    "\n",
    "unique_filtered_uuids = adresses_df.groupBy(\"uuid_idt\").count().filter(\"count < 10\").select(\"uuid_idt\").sample(0.5)\n",
    "\n",
    "to_extend = adresses_df.join(unique_filtered_uuids, \"uuid_idt\")\n",
    "\n",
    "# Registra la función UDF con Spark\n",
    "spark.udf.register(\"switch_letters\", switch_letters, StringType())\n",
    "spark.udf.register(\"select_via_type\", select_via_type, StringType())\n",
    "spark.udf.register(\"update_direction_via\", update_direction_via, StringType())\n",
    "\n",
    "# Aplica la función UDF a la columna \"direccion\" usando withColumn\n",
    "extended_ds = (to_extend\n",
    "    .withColumn(\"tvia\", udf(select_via_type, StringType())(\"tvia\"))\n",
    "    .withColumn(\"direccion\", udf(update_direction_via, StringType())(\"tvia\", \"direccion\"))\n",
    "    .withColumn(\"direccion\", udf(switch_letters, StringType())(\"direccion\"))\n",
    ")\n",
    "\n",
    "extended_ds.show(truncate=False)\n",
    "print(extended_ds.count(), adresses_df.count())\n",
    "adresses_df = adresses_df.union(extended_ds)\n",
    "print(adresses_df.count())\n",
    "uuid_frecuency(adresses_df)"
   ]
  },
  {
   "cell_type": "markdown",
   "metadata": {},
   "source": [
    "### Frecuencia de uuid_idt después"
   ]
  },
  {
   "cell_type": "code",
   "execution_count": 45,
   "metadata": {},
   "outputs": [
    {
     "name": "stderr",
     "output_type": "stream",
     "text": [
      "                                                                                \r"
     ]
    },
    {
     "name": "stdout",
     "output_type": "stream",
     "text": [
      "+-------------------------------+----------+\n",
      "|Número de direcciones asociadas|Frecuencia|\n",
      "+-------------------------------+----------+\n",
      "|                              1|    139046|\n",
      "|                              2|    193867|\n",
      "|                              3|     28602|\n",
      "|                              4|     71501|\n",
      "|                              5|     10034|\n",
      "|                              6|     35103|\n",
      "|                              7|      4576|\n",
      "|                              8|     19667|\n",
      "|                       10 o más|     49488|\n",
      "+-------------------------------+----------+\n",
      "\n"
     ]
    }
   ],
   "source": [
    "uuid_frecuency(adresses_df)"
   ]
  },
  {
   "cell_type": "markdown",
   "metadata": {},
   "source": [
    "## División de dataset"
   ]
  },
  {
   "cell_type": "code",
   "execution_count": 46,
   "metadata": {},
   "outputs": [
    {
     "name": "stderr",
     "output_type": "stream",
     "text": [
      "                                                                                \r"
     ]
    }
   ],
   "source": [
    "# Obtener los uuids únicos y convertirlos a una lista de Python\n",
    "unique_uuids = [row[0] for row in adresses_df.select(\"uuid_idt\").distinct().collect()]"
   ]
  },
  {
   "cell_type": "code",
   "execution_count": 47,
   "metadata": {},
   "outputs": [],
   "source": [
    "# Crear DataFrame del 80%\n",
    "train_df = adresses_df.sampleBy(\"uuid_idt\", fractions={uuid: 0.8 for uuid in unique_uuids}, seed=42)\n",
    "\n",
    "# Crear DataFrame del 20% restando el DataFrame del 80% al original\n",
    "test_df = adresses_df.subtract(train_df)"
   ]
  },
  {
   "cell_type": "code",
   "execution_count": 48,
   "metadata": {},
   "outputs": [
    {
     "name": "stderr",
     "output_type": "stream",
     "text": [
      "                                                                                \r"
     ]
    },
    {
     "name": "stdout",
     "output_type": "stream",
     "text": [
      "2223361\n"
     ]
    },
    {
     "name": "stderr",
     "output_type": "stream",
     "text": [
      "24/04/15 10:38:08 WARN DAGScheduler: Broadcasting large task binary with size 28.1 MiB\n",
      "                                                                                \r"
     ]
    },
    {
     "name": "stdout",
     "output_type": "stream",
     "text": [
      "1777280\n"
     ]
    },
    {
     "name": "stderr",
     "output_type": "stream",
     "text": [
      "24/04/15 10:38:44 WARN DAGScheduler: Broadcasting large task binary with size 28.1 MiB\n",
      "24/04/15 10:39:25 WARN DAGScheduler: Broadcasting large task binary with size 28.2 MiB\n",
      "24/04/15 10:39:36 WARN DAGScheduler: Broadcasting large task binary with size 28.2 MiB\n",
      "[Stage 1083:=================================================>      (8 + 1) / 9]\r"
     ]
    },
    {
     "name": "stdout",
     "output_type": "stream",
     "text": [
      "900050\n"
     ]
    },
    {
     "name": "stderr",
     "output_type": "stream",
     "text": [
      "                                                                                \r"
     ]
    }
   ],
   "source": [
    "print(adresses_df.count())\n",
    "print(train_df.count())\n",
    "print(test_df.count())"
   ]
  },
  {
   "cell_type": "code",
   "execution_count": 49,
   "metadata": {},
   "outputs": [
    {
     "name": "stderr",
     "output_type": "stream",
     "text": [
      "                                                                                \r"
     ]
    },
    {
     "name": "stdout",
     "output_type": "stream",
     "text": [
      "554325\n"
     ]
    },
    {
     "name": "stderr",
     "output_type": "stream",
     "text": [
      "24/04/15 10:40:02 WARN DAGScheduler: Broadcasting large task binary with size 28.1 MiB\n",
      "24/04/15 10:40:17 WARN DAGScheduler: Broadcasting large task binary with size 28.1 MiB\n",
      "                                                                                \r"
     ]
    },
    {
     "name": "stdout",
     "output_type": "stream",
     "text": [
      "518334\n"
     ]
    },
    {
     "name": "stderr",
     "output_type": "stream",
     "text": [
      "24/04/15 10:40:36 WARN DAGScheduler: Broadcasting large task binary with size 28.1 MiB\n",
      "24/04/15 10:41:16 WARN DAGScheduler: Broadcasting large task binary with size 28.2 MiB\n",
      "24/04/15 10:41:26 WARN DAGScheduler: Broadcasting large task binary with size 28.2 MiB\n",
      "[Stage 1171:=================================================>      (7 + 1) / 8]\r"
     ]
    },
    {
     "name": "stdout",
     "output_type": "stream",
     "text": [
      "378159\n"
     ]
    },
    {
     "name": "stderr",
     "output_type": "stream",
     "text": [
      "                                                                                \r"
     ]
    }
   ],
   "source": [
    "print(adresses_df.select(\"uuid_idt\").distinct().count())\n",
    "print(train_df.select(\"uuid_idt\").distinct().count())\n",
    "print(test_df.select(\"uuid_idt\").distinct().count())"
   ]
  },
  {
   "cell_type": "code",
   "execution_count": 50,
   "metadata": {},
   "outputs": [
    {
     "name": "stderr",
     "output_type": "stream",
     "text": [
      "24/04/15 10:41:40 WARN DAGScheduler: Broadcasting large task binary with size 28.1 MiB\n",
      "24/04/15 10:41:57 WARN DAGScheduler: Broadcasting large task binary with size 28.1 MiB\n",
      "24/04/15 10:42:10 WARN DAGScheduler: Broadcasting large task binary with size 28.1 MiB\n",
      "24/04/15 10:42:25 WARN DAGScheduler: Broadcasting large task binary with size 28.1 MiB\n",
      "24/04/15 10:42:34 WARN DAGScheduler: Broadcasting large task binary with size 28.1 MiB\n",
      "24/04/15 10:42:36 WARN DAGScheduler: Broadcasting large task binary with size 28.1 MiB\n",
      "24/04/15 10:42:41 WARN DAGScheduler: Broadcasting large task binary with size 28.1 MiB\n",
      "24/04/15 10:42:44 WARN DAGScheduler: Broadcasting large task binary with size 28.1 MiB\n",
      "24/04/15 10:42:47 WARN DAGScheduler: Broadcasting large task binary with size 28.1 MiB\n",
      "                                                                                \r"
     ]
    },
    {
     "name": "stdout",
     "output_type": "stream",
     "text": [
      "+-------------------------------+----------+\n",
      "|Número de direcciones asociadas|Frecuencia|\n",
      "+-------------------------------+----------+\n",
      "|                              1|    178113|\n",
      "|                              2|    147224|\n",
      "|                              3|     49279|\n",
      "|                              4|     43088|\n",
      "|                              5|     21783|\n",
      "|                              6|     18646|\n",
      "|                              7|     11979|\n",
      "|                              8|     10441|\n",
      "|                       10 o más|     29970|\n",
      "+-------------------------------+----------+\n",
      "\n"
     ]
    },
    {
     "name": "stderr",
     "output_type": "stream",
     "text": [
      "24/04/15 10:43:07 WARN DAGScheduler: Broadcasting large task binary with size 28.1 MiB\n",
      "24/04/15 10:43:46 WARN DAGScheduler: Broadcasting large task binary with size 28.2 MiB\n",
      "24/04/15 10:43:58 WARN DAGScheduler: Broadcasting large task binary with size 28.2 MiB\n",
      "24/04/15 10:44:05 WARN DAGScheduler: Broadcasting large task binary with size 28.2 MiB\n",
      "24/04/15 10:44:24 WARN DAGScheduler: Broadcasting large task binary with size 28.1 MiB\n",
      "24/04/15 10:45:02 WARN DAGScheduler: Broadcasting large task binary with size 28.2 MiB\n",
      "24/04/15 10:45:14 WARN DAGScheduler: Broadcasting large task binary with size 28.2 MiB\n",
      "24/04/15 10:45:22 WARN DAGScheduler: Broadcasting large task binary with size 28.2 MiB\n",
      "24/04/15 10:45:29 WARN DAGScheduler: Broadcasting large task binary with size 28.2 MiB\n",
      "24/04/15 10:45:33 WARN DAGScheduler: Broadcasting large task binary with size 28.2 MiB\n",
      "24/04/15 10:45:37 WARN DAGScheduler: Broadcasting large task binary with size 28.2 MiB\n",
      "24/04/15 10:45:39 WARN DAGScheduler: Broadcasting large task binary with size 28.2 MiB\n",
      "24/04/15 10:45:43 WARN DAGScheduler: Broadcasting large task binary with size 28.2 MiB\n",
      "[Stage 1409:============================================>           (4 + 1) / 5]\r"
     ]
    },
    {
     "name": "stdout",
     "output_type": "stream",
     "text": [
      "+-------------------------------+----------+\n",
      "|Número de direcciones asociadas|Frecuencia|\n",
      "+-------------------------------+----------+\n",
      "|                              1|    187279|\n",
      "|                              2|     81428|\n",
      "|                              3|     39483|\n",
      "|                              4|     23564|\n",
      "|                              5|     14993|\n",
      "|                              6|      9876|\n",
      "|                              7|      6953|\n",
      "|                              8|      4808|\n",
      "|                       10 o más|      6108|\n",
      "+-------------------------------+----------+\n",
      "\n"
     ]
    },
    {
     "name": "stderr",
     "output_type": "stream",
     "text": [
      "                                                                                \r"
     ]
    }
   ],
   "source": [
    "uuid_frecuency(train_df)\n",
    "uuid_frecuency(test_df)"
   ]
  },
  {
   "cell_type": "code",
   "execution_count": null,
   "metadata": {},
   "outputs": [
    {
     "name": "stderr",
     "output_type": "stream",
     "text": [
      "24/03/14 17:00:55 WARN DAGScheduler: Broadcasting large task binary with size 28.3 MiB\n",
      "                                                                                \r"
     ]
    }
   ],
   "source": [
    "# Escribir el resultado en un archivo parquet\n",
    "try:\n",
    "  train_df.write.format('parquet').save(\"../data/proccesed_data/train_dataframe2.parquet\")\n",
    "except:\n",
    "  print('No se pudo guardar el dataset de entrenamiento.')"
   ]
  },
  {
   "cell_type": "code",
   "execution_count": null,
   "metadata": {},
   "outputs": [
    {
     "name": "stdout",
     "output_type": "stream",
     "text": [
      "No se ha podido guardar el dataset de testeo.\n"
     ]
    }
   ],
   "source": [
    "# Escribir el resultado en un archivo parquet\n",
    "try:\n",
    "  test_df.write.format('parquet').save(\"../data/proccesed_data/test_dataframe2.parquet\")\n",
    "except:\n",
    "  print('No se ha podido guardar el dataset de testeo.')"
   ]
  },
  {
   "cell_type": "markdown",
   "metadata": {},
   "source": [
    "## Representación con embeddings"
   ]
  },
  {
   "cell_type": "markdown",
   "metadata": {},
   "source": [
    "#### Lectura del dataframe de entrenamiento"
   ]
  },
  {
   "cell_type": "code",
   "execution_count": 2,
   "metadata": {},
   "outputs": [
    {
     "name": "stderr",
     "output_type": "stream",
     "text": [
      "                                                                                \r"
     ]
    }
   ],
   "source": [
    "try:\n",
    "  train_df = spark.read.format('parquet').load('../data/proccesed_data/train_dataframe2.parquet').repartition(32)\n",
    "except:\n",
    "  print('No se ha podido leer el dataset de entrenamiento.')"
   ]
  },
  {
   "cell_type": "markdown",
   "metadata": {},
   "source": [
    "### Representación mediante _Word2Vec_"
   ]
  },
  {
   "cell_type": "code",
   "execution_count": 52,
   "metadata": {},
   "outputs": [
    {
     "name": "stderr",
     "output_type": "stream",
     "text": [
      "                                                                                \r"
     ]
    }
   ],
   "source": [
    "from pyspark.ml.feature import Word2Vec, Tokenizer\n",
    "\n",
    "# Tokenizar el texto\n",
    "tokenizer = Tokenizer(inputCol=\"direccion\", outputCol=\"words\")\n",
    "data_tokenized = tokenizer.transform(train_df)\n",
    "\n",
    "# Entrenar el modelo Word2Vec\n",
    "word2Vec = Word2Vec(vectorSize=300, minCount=0, inputCol=\"words\", outputCol=\"embedding\")\n",
    "model_word2vec = word2Vec.fit(data_tokenized)\n",
    "\n",
    "# Transformar los datos\n",
    "word2vec_result = model_word2vec.transform(data_tokenized)\n",
    "# ~9min"
   ]
  },
  {
   "cell_type": "code",
   "execution_count": null,
   "metadata": {},
   "outputs": [
    {
     "name": "stderr",
     "output_type": "stream",
     "text": [
      "24/03/14 12:32:13 WARN DAGScheduler: Broadcasting large task binary with size 28.2 MiB\n",
      "[Stage 937:>                                                        (0 + 1) / 1]\r"
     ]
    },
    {
     "name": "stdout",
     "output_type": "stream",
     "text": [
      "+------------------------------------+--------+----------------------------+-----+------+----------+-------------------------------------------+----------------------------------------------------+-----------------------------------------------------------------------------------------------------------------------------------------------------------------------------------------------------------------------------------------------------------------------------------------------------------------------------------------------------------------------------------------------------------------------------------------------------------------------------------------------------------------------------------------------------------------------------------------------------------------------------------------------------------------------------------------------------------------------------------------------------------------------------------------------------------------------------------------------------------------------------------------------------------------------------------------------------------------------------------------------------------------------------------------------------------------------------------------------------------------------------------------------------------------------------------------------------------------------------------------------------------------------------------------------------------------------------------------------------------------------------------------------------------------------------------------------------------------------------------------------------------------------------------------------------------------------------------------------------------------------------------------------------------------------------------------------------------------------------------------------------------------------------------------------------------------------------------------------------------------------------------------------------------------------------------------------------------------------------------------------------------------------------------------------------------------------------------------------------------------------------------------------------------------------------------------------------------------------------------------------------------------------------------------------------------------------------------------------------------------------------------------------------------------------------------------------------------------------------------------------------------------------------------------------------------------------------------------------------------------------------------------------------------------------------------------------------------------------------------------------------------------------------------------------------------------------------------------------------------------------------------------------------------------------------------------------------------------------------------------------------------------------------------------------------------------------------------------------------------------------------------------------------------------------------------------------------------------------------------------------------------------------------------------------------------------------------------------------------------------------------------------------------------------------------------------------------------------------------------------------------------------------------------------------------------------------------------------------------------------------------------------------------------------------------------------------------------------------------------------------------------------------------------------------------------------------------------------------------------------------------------------------------------------------------------------------------------------------------------------------------------------------------------------------------------------------------------------------------------------------------------------------------------------------------------------------------------------------------------------------------------------------------------------------------------------------------------------------------------------------------------------------------------------------------------------------------------------------------------------------------------------------------------------------------------------------------------------------------------------------------------------------------------------------------------------------------------------------------------------------------------------------------------------------------------------------------------------------------------------------------------------------------------------------------------------------------------------------------------------------------------------------------------------------------------------------------------------------------------------------------------------------------------------------------------------------------------------------------------------------------------------------------------------------------------------------------------------------------------------------------------------------------------------------------------------------------------------------------------------------------------------------------------------------------------------------------------------------------------------------------------------------------------------------------------------------------------------------------------------------------------------------------------------------------------------------------------------------------------------------------------------------------------------------------------------------------------------------------------------------------------------------------------------------------------------------------------------------------------------------------------------------------------------------------------------------------------------------------------------------------------------------------------------------------------------------------------------------------------------------------------------------------------------------------------------------------------------------------------------+\n",
      "|uuid_idt                            |tvia    |nvia                        |numer|codmun|nommun    |direccion                                  |words                                               |embedding                                                                                                                                                                                                                                                                                                                                                                                                                                                                                                                                                                                                                                                                                                                                                                                                                                                                                                                                                                                                                                                                                                                                                                                                                                                                                                                                                                                                                                                                                                                                                                                                                                                                                                                                                                                                                                                                                                                                                                                                                                                                                                                                                                                                                                                                                                                                                                                                                                                                                                                                                                                                                                                                                                                                                                                                                                                                                                                                                                                                                                                                                                                                                                                                                                                                                                                                                                                                                                                                                                                                                                                                                                                                                                                                                                                                                                                                                                                                                                                                                                                                                                                                                                                                                                                                                                                                                                                                                                                                                                                                                                                                                                                                                                                                                                                                                                                                                                                                                                                                                                                                                                                                                                                                                                                                                                                                                                                                                                                                                                                                                                                                                                                                                                                                                                                                                                                                                                                                                                                                                                                                                                                                                                                                                                                                                                                                                                                                                                                                                |\n",
      "+------------------------------------+--------+----------------------------+-----+------+----------+-------------------------------------------+----------------------------------------------------+-----------------------------------------------------------------------------------------------------------------------------------------------------------------------------------------------------------------------------------------------------------------------------------------------------------------------------------------------------------------------------------------------------------------------------------------------------------------------------------------------------------------------------------------------------------------------------------------------------------------------------------------------------------------------------------------------------------------------------------------------------------------------------------------------------------------------------------------------------------------------------------------------------------------------------------------------------------------------------------------------------------------------------------------------------------------------------------------------------------------------------------------------------------------------------------------------------------------------------------------------------------------------------------------------------------------------------------------------------------------------------------------------------------------------------------------------------------------------------------------------------------------------------------------------------------------------------------------------------------------------------------------------------------------------------------------------------------------------------------------------------------------------------------------------------------------------------------------------------------------------------------------------------------------------------------------------------------------------------------------------------------------------------------------------------------------------------------------------------------------------------------------------------------------------------------------------------------------------------------------------------------------------------------------------------------------------------------------------------------------------------------------------------------------------------------------------------------------------------------------------------------------------------------------------------------------------------------------------------------------------------------------------------------------------------------------------------------------------------------------------------------------------------------------------------------------------------------------------------------------------------------------------------------------------------------------------------------------------------------------------------------------------------------------------------------------------------------------------------------------------------------------------------------------------------------------------------------------------------------------------------------------------------------------------------------------------------------------------------------------------------------------------------------------------------------------------------------------------------------------------------------------------------------------------------------------------------------------------------------------------------------------------------------------------------------------------------------------------------------------------------------------------------------------------------------------------------------------------------------------------------------------------------------------------------------------------------------------------------------------------------------------------------------------------------------------------------------------------------------------------------------------------------------------------------------------------------------------------------------------------------------------------------------------------------------------------------------------------------------------------------------------------------------------------------------------------------------------------------------------------------------------------------------------------------------------------------------------------------------------------------------------------------------------------------------------------------------------------------------------------------------------------------------------------------------------------------------------------------------------------------------------------------------------------------------------------------------------------------------------------------------------------------------------------------------------------------------------------------------------------------------------------------------------------------------------------------------------------------------------------------------------------------------------------------------------------------------------------------------------------------------------------------------------------------------------------------------------------------------------------------------------------------------------------------------------------------------------------------------------------------------------------------------------------------------------------------------------------------------------------------------------------------------------------------------------------------------------------------------------------------------------------------------------------------------------------------------------------------------------------------------------------------------------------------------------------------------------------------------------------------------------------------------------------------------------------------------------------------------------------------------------------------------------------------------------------------------------------------------------------------------------------------------------------------------------------------------------------------------------+\n",
      "|66E391C3-3251-11E8-BBA8-480FCF5217B3|CALLE   |ALFONSO XIII                |34   |35004 |Arrecife  |CALLE ALFONSO XIII 34 ARRECIFE             |[calle, alfonso, xiii, 34, arrecife]                |[0.2360524669289589,-0.051630489714443686,-2.9340125620365144E-4,0.04528434239327908,0.03557058833539486,-0.06891856491565705,-0.17357050608843566,-0.17918951734900476,-0.03586892571183853,-0.026426684111356735,0.0873556099832058,-0.2043212146498263,-0.0025828960846411065,0.1022924343124032,-0.009403010085225106,-0.14702649526298048,-0.016680517792701723,0.09605843126773835,-0.028791346005164087,-0.03022202920401469,-0.11119863241910935,-0.09181823283433915,-0.03880671598017216,-0.09989479407668114,0.09444091022014618,0.02917938306927681,0.06001053582876921,0.044434063136577606,-0.04503148645162583,0.105869534984231,-0.01765445154160261,-0.18885108083486557,-0.03220745623111725,0.13325035644375022,-0.03843854330480099,-0.0029336046427488327,0.16465842798352243,0.022515196353197098,-0.0739811709150672,-0.038524438813328746,0.025498209893703463,0.004271795228123665,-0.0056687362492084505,-0.07251521721482278,-0.013169874250888825,0.0857672940939665,-0.06693724116776138,-0.0948067419230938,0.008407880365848542,0.12333790138363838,-0.07523614093661309,0.0492462769150734,0.007384581863880158,-0.0017101976089179518,0.06863331161439419,-0.06657091528177261,-0.15264719254337253,0.12092349249869586,0.19769524037837982,-0.10094124402239686,-0.1037724825553596,-0.038550734519958496,-0.09066186398267746,-0.054648653604090214,0.09382124990224838,0.028354007750749588,-0.09677375853061676,-0.025189881771802904,0.03961751516908407,-0.11811566203832627,-0.13123351149260998,-0.1330538384616375,-0.035040638595819476,0.09264022600837052,-0.053925698995590216,0.10005162879824639,0.034269390255212785,-0.05018167868256569,0.08298846036195756,0.05693347817286849,0.01707748807966709,-0.1078388435766101,0.08502748720347882,-0.04881216902285815,0.04487731456756592,-0.12771049728617073,0.15432268590666354,-0.03598644807934761,0.04282584972679615,0.011631165957078339,-0.02619667872786522,-0.13008028566837312,0.1170208439230919,0.07350635603070259,-0.18348535895347595,0.052860374003648763,-0.11331252697855235,-0.008168070192914456,-0.17861860413104297,0.11324084475636483,-0.005988592468202114,-0.19462925605475903,0.044119741022586825,0.07136732582002879,0.3373301357030869,-0.1930715061724186,-0.20222249291837216,0.1233264595270157,-0.1167374562472105,-0.050388451851904395,0.08117857845500112,-0.21418312191963196,0.0806033380329609,-0.06823704391717911,-0.06278267279267312,0.013463643379509449,-0.13294799700379373,-0.1575579006224871,0.025425398722290993,-0.01553772115148604,-0.033419568464159964,0.08103688899427652,-0.009247631952166558,0.16333986818790436,-0.11260577812790871,0.0822618916630745,0.1506396882236004,0.07115129269659519,0.05237183757126332,-0.010858638770878316,0.04573202906176448,-0.06952711706981063,0.07768127620220185,-0.022194218635559083,0.09022585004568101,0.1439691435545683,-0.156401277333498,0.058768565161153676,0.016807962954044343,-0.020588967204093936,0.09749930128455163,0.0725754700601101,0.001353698072489351,-8.222058531828225E-4,0.009717862680554391,-0.11263493755832316,0.12295745195879136,-0.019501927075907588,0.09998316317796707,-0.052520840615034106,0.020714669674634936,0.06805455386638641,-0.11072906330227852,-0.020719824358820915,0.08506356570869684,0.11189677817746997,0.0671740084886551,0.027518200874328616,0.059342242777347565,0.10377064878121019,-0.0044523805379867555,-0.054502234607934956,0.02706192145124078,-0.1042878832668066,-0.01046765223145485,0.013882121443748474,0.005102753639221191,-0.08502240106463432,0.0027435373514890673,0.013469414226710797,-1.0922286892309785E-4,0.14222918301820756,-0.09856306239962578,-0.021702651865780354,0.17053065161453562,0.11395284999161959,-0.04634861703962088,-0.020392461493611336,-0.10672030746936799,0.011174069438129665,-0.03234587591141463,0.06823701644316316,0.01791224963963032,0.005248800665140153,-0.11271344525739552,-0.013535407930612565,-0.0958523266017437,-0.036112454161047934,0.05183024108409882,-0.019176237285137177,0.03154112547636032,0.23656047135591507,0.014554888010025024,-0.0658434521406889,0.0601043775677681,0.15713985338807107,-0.049149499461054805,0.09307557735592127,0.14958925619721414,0.11706254556775093,0.0036955373361706734,0.10290253944694996,-0.10781111046671868,0.08527653869241476,-0.04749068655073643,0.16006025075912478,-0.08068665694445372,0.052503698319196705,0.04605085570365191,-0.1175743043422699,0.18260040292516352,0.00935165286064148,-0.0291423499584198,-0.20866506546735764,-0.05062831044197083,-0.008451563119888306,0.2483095481991768,0.05677046999335289,-0.1509426083415747,-0.04076012521982193,0.11478423178195954,0.19416479584760965,-0.05726292338222266,0.1198250561952591,0.1406458392739296,0.03490098733454943,-0.14532859474420548,0.06254089660942555,-0.009300920926034451,0.1641067624092102,-0.022510262299329044,-0.21011607237160207,-0.04519130438566208,-0.24651298373937608,0.10347802378237247,-0.02640155404806137,-0.22105020880699158,-0.21777644706889987,-0.02785125179216266,0.1604138370603323,0.11038204319775105,-0.11066049933433533,-0.09727994427084924,-0.0012583665549755097,-0.06654060930013657,-0.08787449803203345,0.09499831292778255,0.12224461287260056,-0.006911882013082505,-0.03335733376443386,0.011494237184524537,-0.00545826405286789,-0.16140395421534778,0.06065889932215214,0.09512168765068055,-0.14171288860961795,-0.012839113175868989,-0.11980930119752885,-0.02985338382422924,-0.09181821821257473,0.20949989072978498,-0.11394207775592805,-0.03860713141039014,0.06662790924310684,0.002103965450078249,0.0834272563457489,-0.07710768808610738,-0.12935812138020994,-0.13056251853704454,-0.1003038690891117,-0.07663984149694443,-0.05306435525417328,-0.1613766507478431,0.10454838387668133,0.07620139047503471,-0.23202317357063296,0.17013097107410433,0.02730352133512497,0.13384649381041527,-0.11910420730710031,-0.06150082163512707,-0.08387141525745392,-0.1327264115214348,0.02348640263080597,0.2455249482765794,-0.13446282707154752,0.24626030158251525,-0.009913582354784012,0.026242610812187196,-0.07908244747668505,0.13643428683280945,-0.24382905140519143,-0.041497336328029634,-0.13565893825143577,0.10209977328777314,0.1184369906783104,-0.010311570018529892,-0.03278210647404194,0.13341394029557704,0.09507684633135796]                            |\n",
      "|78158D96-3251-11E8-B9B6-480FCF5217B3|CALLE   |ESCULTOR MANOLO RAMOS       |39   |35011 |Ingenio   |CALLE ESCULTOR MANOLO RAMOS 39 INGENIO     |[calle, escultor, manolo, ramos, 39, ingenio]       |[0.013146646320819855,-0.03127366816624999,0.04936338899036248,-0.1293143167470892,-0.019792902593811352,0.006279000702003637,-0.17140096674362817,-0.06953784388800462,-0.07009853764126697,-0.15918439626693726,-0.0478889945273598,0.00551569244513909,-0.06798308587409943,0.11642708101620276,-0.11149665464957555,0.0633861261109511,0.028678831954797108,0.08562309124196568,-0.05429904704215005,0.051878150581615046,-0.07630598382093012,0.004413082419584194,0.1549164665242036,-0.158519445588657,0.04538353303602586,0.05564697707692782,-0.11939196707680821,-0.006390830501914024,-0.07610516624602799,-0.13003865722566843,0.1270245760679245,-0.01100306895871957,-0.04831222646559278,-0.012363554599384466,0.013941054077198107,-0.07074329971025387,0.11878402903676033,0.36228184401988983,-0.08514894746864834,0.010858484854300816,0.06640983745455742,-0.02313533533985416,-0.07078207191079855,-0.13533556647598743,4.2065752980609733E-4,0.16421621789534885,-0.06492479349253699,0.1403982442182799,-0.12792106096943218,0.044091257111479834,0.04619581003983815,0.03177433957656224,0.032904705653587975,0.0199794794122378,0.015002927238432068,0.03627551719546318,-0.09504041944940884,0.2129326242332657,-0.012963257730007172,-0.1728980184222261,-0.03527223877608776,-0.11948824115097523,-0.06786567779878774,-0.15194460346053043,-0.02258841203971921,-0.1059669746706883,-0.014647502607355515,0.043690890073776245,-0.04539809344957272,0.038615012308582664,0.041062042252936706,-0.10446002675841251,0.058524868140618004,0.03390344108144442,-0.020321430017550785,-0.005961553814510504,0.037142983792970576,-0.052554308747251824,-0.04593084783603747,0.11639516482440133,0.0031306051338712373,-0.047836637745300926,0.09100138015734652,0.026045299600809813,-0.06734053542216618,-0.08163814269937575,0.1688737745086352,-0.0017399145290255547,0.08818330200544247,0.13177449236779162,-0.1431261481096347,-0.19355604300896326,0.03482288386051853,-0.015320503463347752,-0.218690933038791,-0.10135573955873647,-0.12428037356585264,-0.11852208198009369,0.003291922310988108,-0.03227334686865409,0.02286349314575394,-0.00932778138667345,0.21143436928590137,0.10881957535942395,0.3462214171886444,-0.21135017151633897,-0.0969771770760417,0.05238944788773854,-0.023087408898087837,-0.04209295970698197,0.20377185513886312,-0.22268004715442657,-0.019210156053304672,-0.06846178943912187,-0.02748876065015793,0.014193518397708733,-0.0437793197731177,-0.06465704645961523,-0.14546646177768707,-0.08438838024934132,-0.14605978705609837,-0.11802174577799936,-0.020484685587386288,0.14286876656115055,-0.21495259863634902,-0.07906130623693267,0.18371054405967394,0.02427707426249981,0.09612837146657208,-0.04435780388303101,-0.00947881272683541,-0.06280399672687054,-0.14159318121771017,-0.07300735785004993,0.20335513725876808,0.017015473296244938,0.0073826952526966725,-0.024509749375283718,0.08380034317572911,-0.022241220964739718,-0.1189186784128348,0.08261356564859548,-0.09944885410368443,0.050246657483512536,0.05457783738772074,-0.13418267170588175,-0.01725551707932027,0.03361953360339005,0.10062248880664507,-0.040334023380031184,0.08689126123984654,-0.05988687307884295,-0.05020890602221091,-0.12533645373090013,0.11272749925653139,0.1899106151734789,0.2212431125032405,0.057757106299201645,-0.04881363811243015,-0.04426714149303734,0.041354007087647915,-0.16187745612114668,-0.004167712293565273,-0.019631975640853245,0.08677917843063672,-0.0017723219158748784,-0.13907336629927158,0.155038831794324,0.1726711249599854,-0.006714262766763568,0.026384728650252022,-0.06008159896979729,-0.1882045647750298,0.048659981694072485,0.12965575190416226,0.07086408898855248,-0.17175009831165272,-0.003823300280297796,0.01719040796160698,-0.0012966980381558337,-0.024217722782244284,-0.0668331942676256,0.08904437720775604,-0.03506031011541684,-0.23460363247431815,-0.1330853911737601,0.10239775975545247,0.00217340017358462,-0.027022063732147217,0.05547938061257203,-0.04070877252767483,0.09348695042232671,0.16581349199016887,0.07888682985988756,-0.10796052093307176,0.03739742500086625,0.024665328053136665,0.10282144061056897,0.11120456534748276,0.11114836701502402,-0.1502196385214726,-0.028364846482872963,-0.03710541276571651,0.1349170374063154,-0.13953338346133629,0.20344507787376642,-0.0852369905139009,-0.02518756738087783,0.07158358528007132,-0.11126428470015526,0.31837663900417584,0.06769234019642074,0.029272091885407765,-0.0028857445965210595,-0.14319727321465808,-0.04503440670669079,0.16782058961689472,0.23330340286095935,-0.16734665477027494,-0.08328169258311391,0.15009500024219352,0.16812437745587278,-0.02259475737810135,0.09094700900216897,-0.16021056512060264,-0.031987589318305254,0.03702245280146599,-0.04720980301499367,0.033377119805663824,0.08192354114726186,0.029237883165478706,-0.3713983204215765,-0.12066672726844747,-0.13653501433630783,0.10848277993500233,-0.19823217888673145,0.008498791605234146,0.014538573722044626,0.012906903789068261,-0.004431633589168389,0.21781400498002768,0.06768300446371237,-0.1263750569584469,-0.19136893807444721,0.15215564022461572,-0.08584075343484679,-0.06308637567174931,0.12546666789179045,0.1186735462397337,-0.10643326118588448,-0.04294112759331862,-0.08128185166666904,-0.15130833831305304,-0.06616534230609734,0.12441718578338623,-0.05796143629898627,0.09004687890410423,-0.2603125125169754,0.0581830417116483,0.19126185472123325,0.2911565837760766,0.18945172304908434,-0.07860241558713217,0.0966587464014689,0.1412523764496048,-0.00872239035864671,-0.04645580103776107,-0.04665084889469047,-0.1718983861307303,-0.07210399086276689,0.012481717392802238,-0.08010217299064,-0.12883125369747478,0.03322928662722309,0.053593319530288376,-0.08438566389183202,0.027983019749323525,-0.13611813448369503,0.13137054722756147,-0.03733561102611323,0.08527648479988177,-0.010221629093090693,-0.16432282576958337,-0.01196809858083725,0.0600977042534699,-0.14718253134439388,0.43804771561796463,-0.05506184479842583,0.17376163679485518,0.08239936564738551,0.17339209482694665,-0.09601421467959881,-0.16983800849023584,0.0924465258916219,0.09625946544110775,0.06066142736623684,0.10995209341247876,-0.027258460720380146,-0.004052031474808851,0.04604815784841776]                                        |\n",
      "|620B43A0-3251-11E8-B3C4-480FCF5217B3|AVENIDA |CONSTITUCION                |47   |35012 |Mogán     |AVENIDA CONSTITUCION 47 MOGAN              |[avenida, constitucion, 47, mogan]                  |[0.010116330347955227,-0.050749088637530804,-0.15766774397343397,-0.07949596270918846,0.04649273119866848,-0.08696212258655578,-0.09215350006707013,-0.1036918256431818,-0.06711211614310741,0.008397814468480647,-0.04419883666560054,0.07181980460882187,-0.0037677804939448833,0.17605555057525635,-0.04949020128697157,0.07408039085566998,-0.03188305860385299,0.09830792155116796,-0.09191079623997211,-0.08344366797246039,-0.031689200550317764,0.08381921797990799,0.02003098832210526,-0.005044663790613413,-0.030918018892407417,-0.08744121331255883,0.009800879284739494,0.06445838371291757,0.08193022385239601,0.004730854881927371,-0.008639502804726362,-0.21314420644193888,0.005498380400240421,-0.006129748187959194,0.11583103612065315,0.09635807946324348,-0.06960979558061808,0.010787805542349815,-0.015865063993260264,-0.09441788832191378,-0.0020957347005605698,0.06410814658738673,-0.0048946954775601625,-0.1645719576627016,-0.05476528964936733,0.12804393004626036,-0.089325200766325,0.06351301819086075,0.01379720401018858,0.17478441447019577,-0.08876092908030841,0.08343957085162401,0.22371037676930428,0.0533563569188118,0.049453680869191885,0.029465387226082385,-0.10021063958993182,0.12437644694000483,-0.06597887864336371,-0.055938053876161575,0.0018188427202403545,-0.014949936419725418,-0.0691340072080493,-0.0038306042551994324,-0.02445201948285103,0.049692685541231185,0.09354964550584555,-0.007731029763817787,0.14694620273075998,-0.08791454136371613,0.06832009516074322,-0.23645120114088058,-0.002044246553850826,0.06766438367776573,0.020237581804394722,-0.030945246340706944,-0.05195778142660856,-0.07692857150686905,-0.05198601633310318,-0.013779788976535201,0.097634467179887,0.12731467373669147,-0.055468146689236164,-0.030755592975765467,0.009168013231828809,0.04469609772786498,0.043085929937660694,0.12317161075770855,-0.01946352666709572,0.017306228663073853,0.1327545172534883,-0.12631333200260997,0.027482651872560382,-0.11736651510000229,-0.06927866535261273,-0.057738810777664185,-0.12010301649570465,0.010498877381905913,-0.06383850052952766,-0.1331845000386238,-0.09844848641660064,-0.04726920276880264,0.14038812648504972,-0.1113893985748291,0.18578861840069294,-0.19329651445150375,-0.052293889224529266,0.11444188235327601,-0.08126743324100971,-0.05935630574822426,0.2105325823649764,-0.12400243990123272,0.18250735476613045,-0.05862628994509578,-0.16144739277660847,-0.030863802880048752,-0.08797003515064716,-0.14335998939350247,0.18355059903115034,0.06844701571390033,-0.21007543662562966,0.024560801684856415,0.08554720785468817,0.21787167061120272,-0.1641931738704443,0.04850809462368488,0.07331601716578007,0.12011627294123173,0.023682284052483737,-0.10966170951724052,-0.020085950382053852,-0.05681781284511089,-0.1923323031514883,0.002151384949684143,-0.113405573181808,-0.010709946043789387,-0.056992615573108196,0.06877049850299954,-0.008466454455628991,-0.014091122429817915,0.014781820122152567,-0.12522292509675026,0.051347059197723866,-0.08527635876089334,-0.10288088209927082,-0.1609934219159186,0.1964712105691433,0.03103358428052161,0.07644431199878454,-0.09497816674411297,0.03943879227153957,0.037614616099745035,-0.07460829708725214,0.00372113473713398,0.04761694744229317,0.037513972260057926,0.15308794099837542,0.058210066228639334,-0.07094071805477142,-0.023670731112360954,-0.024328308645635843,-0.09510949905961752,0.020329470746219158,-0.04336587688885629,0.04184363782405853,-0.01571173034608364,0.11006709281355143,-0.015636355965398252,0.15105894720181823,0.14798206789419055,-0.07135559618473053,0.03279052139259875,-0.08979207859374583,-0.010402623564004898,0.15917971869930625,0.07482532039284706,-0.08715685456991196,0.08203468844294548,-0.10227212589234114,0.10860668495297432,-0.06602074392139912,0.01411794095474761,0.06426393613219261,-0.05946214636787772,-0.10356066562235355,-0.17372649163007736,-0.11319113150238991,0.05689881555736065,0.11484227632172406,0.008742236997932196,-0.08833572454750538,-0.020000201649963856,-0.008471354376524687,0.03274209704250097,-0.04778900044038892,0.004010076634585857,-0.014149250462651253,0.043040833552367985,-0.048678233462851495,0.081385119818151,0.078938745893538,0.04650722164660692,0.012025180272758007,0.053129241801798344,-0.13561292458325624,0.18792324513196945,-0.10022786620538682,-0.07887989678420126,-0.025850949808955193,0.0664455690421164,0.1454415237531066,0.16138092055916786,-0.1527014821767807,-0.18014496006071568,-0.09352284017950296,0.03591748792678118,0.11206710897386074,0.009056316688656807,0.0051542832516133785,-0.09360920591279864,0.1254554372280836,0.08299167267978191,0.22259757295250893,0.2182836327701807,-0.008551643230021,0.05000827205367386,-0.04183210036717355,0.005962284281849861,-0.04993625404313207,-0.006639737635850906,0.17016595229506493,-0.038939470425248146,-0.043117523193359375,-0.06439940258860588,0.08167814777698368,0.04858354525640607,0.0023135067895054817,-0.05978881474584341,-0.09945280360989273,0.06760495016351342,-0.0363457587081939,0.04778794664889574,0.02443199511617422,0.030658181756734848,0.0732375979423523,-0.21712517831474543,-0.016505951061844826,0.16130301234079525,-0.11162774570402689,-0.1402414795011282,0.07158410805277526,-0.02649585297331214,0.006776225520297885,0.11981738731265068,0.1361821722239256,-0.1156489651184529,0.10144474357366562,-0.07490552589297295,-0.07830466539599001,0.11127688363194466,0.09988215588964522,-0.07570173311978579,-0.01869580475613475,-0.1411242219619453,-8.840775117278099E-4,0.05959535762667656,-0.07097707502543926,-0.0718544963747263,-0.11407905258238316,-0.038724558195099235,-0.15351821668446064,0.014213978312909603,0.03869961714372039,-0.030902912840247154,0.05957778915762901,-0.09463283349759877,-0.007985870353877544,-0.06356960162520409,0.18208686215803027,-0.0910314463544637,0.09223771188408136,-0.09122840082272887,-0.09631849359720945,0.16313877701759338,0.0023439349606633186,-0.07257941598072648,0.20313452649861574,0.08573327376507223,-0.0018252702138852328,0.0058115809224545956,0.009732555598020554,-0.19263849966228008,-0.16566793993115425,-0.029157969169318676,-0.013997316360473633,0.0027381450054235756,0.029843593132682145,-0.0696602314710617,0.04439765238203108,-0.008395189419388771]           |\n",
      "|6E311BDF-3251-11E8-B819-480FCF5217B3|CALLE   |RISCO                       |1    |35001 |Agaete    |CALLE RISCO 1 AGAETE                       |[calle, risco, 1, agaete]                           |[0.041046155616641045,-0.09400195116177201,-4.5942049473524094E-4,0.015056999865919352,-0.03233711328357458,0.028660831041634083,0.04401060380041599,-0.1577475480735302,-0.046639898559078574,0.015661417972296476,0.10858673229813576,-0.034259927342645824,0.06334354827049538,0.05996189499273896,-0.006627943366765976,-0.02560680452734232,-0.13897766738227801,0.0011740755289793015,-0.01928384928032756,-0.04326806818426121,-0.07481897016987205,0.013614167924970388,-0.0971111515755183,0.032597363693639636,0.032306065782904625,0.03655141650233418,0.08303793263621628,-0.023040901869535446,-0.11546626966446638,-0.1394598325714469,-0.02510716742835939,-0.2310727071017027,0.07199940690770745,0.07380884554004297,0.1287380699068308,0.17507427232339978,0.009429489262402058,0.10521128540858626,-0.08827762608416378,-0.20153742469847202,0.028891632333397865,0.002366973552852869,0.08524526609107852,-0.04538004763890058,-0.09835286298766732,0.15769194159656763,0.16591128494474106,0.002191059524193406,0.0769361318089068,0.15697687305510044,-0.11796953808516264,-0.06477384408935905,-0.06557069532573223,0.053483929485082626,0.08612420223653316,-0.08270945586264133,-0.01662363111972809,0.29860468534752727,0.005365142831578851,-0.1347961202263832,0.1420322898775339,0.1888823821209371,-0.09783772192895412,0.09005319187417626,-0.005368432961404324,0.02040374930948019,0.20197885856032372,0.07821040949784219,0.19321105862036347,-0.11005564173683524,0.039260114543139935,-0.25589626329019666,0.023979369550943375,0.2052225625666324,-0.12534530460834503,-0.14408167358487844,0.05875719012692571,0.037422046065330505,0.018769613932818174,0.03905494965147227,-0.016916097607463598,-0.19031216204166412,-0.008999970741569996,-0.03981022711377591,0.01860193640459329,0.00661865621805191,0.021536760963499546,-0.006269116682233289,-0.011397191439755261,-0.030884812877047807,-0.08833330124616623,-0.0571146234869957,0.05387361999601126,-0.053717732429504395,-0.08533836714923382,0.07604268100112677,-0.11789829144254327,-0.13142868944851216,-0.04127728659659624,0.08500647451728582,0.043312311405315995,0.08976172702386975,0.026259060949087143,0.15188327617943287,0.27893514186143875,-0.09625117108225822,0.018741756211966276,-0.12282871827483177,-0.0661022700369358,-0.032927355729043484,0.05570847983472049,-0.009944332763552666,-0.11186707206070423,-0.06916835065931082,0.007053937762975693,-0.00902083469554782,-0.13878438528627157,0.015751804690808058,-0.12960908748209476,-0.12670814129523933,-0.18228754960000515,-0.10329090431332588,0.13323455909267068,0.14829017966985703,-0.16412159940227866,-0.027657466009259224,0.11338080279529095,0.18946890393272042,-0.10896733589470387,-0.20773925562389195,0.021066132932901382,-0.13099957443773746,0.036783333867788315,0.055621434235945344,-0.01192703377455473,-0.09422924369573593,0.030073879985138774,-0.06755740754306316,0.09804599173367023,0.038697803393006325,-0.06814487278461456,0.14275838807225227,-0.008711735717952251,0.11015887603571173,-0.05813280213624239,-0.23433946073055267,0.15495995471792412,-0.026753532700240612,0.04463621787726879,-0.0795058305375278,-0.037297774106264114,0.08869215613231063,0.11593896150588989,-0.049112049862742424,-0.053809629753232,0.2214905507862568,0.06687058042734861,-0.03131849621422589,0.043977745808660984,0.07387280568946153,0.006458692252635956,-0.0071333590894937515,0.01165004656650126,-0.04039829969406128,0.09605182334780693,-0.07802689354866743,0.062220895662903786,0.09806266147643328,0.05846753250807524,0.05961324740201235,0.025803379714488983,-0.11853231393615715,0.11070081312209368,-0.137156622717157,-0.03832335094921291,0.1156056101899594,-0.06403148197568953,-0.010328574571758509,-0.1430422831326723,-0.014806602499447763,0.023203441174700856,-0.03599709423724562,0.11381576536223292,0.04908583406358957,-0.012427256791852415,-0.006624973379075527,0.015042589511722326,0.09689714922569692,-0.006468048319220543,-0.03152243886142969,0.07330837775953114,-0.13410106394439936,0.07132689282298088,0.1476391712203622,-0.16520166164264083,0.07360488828271627,0.11978407623246312,-0.010546551318839192,-0.07077544275671244,0.014026544522494078,0.04663621122017503,0.15787106566131115,-0.01882698992267251,0.008888157783076167,-0.011808339972048998,0.004980500554665923,-0.17280295211821795,0.0043346774764359,0.12470404803752899,-0.15959393605589867,0.03293791750911623,0.04889823071425781,-0.12424397747963667,-0.08115089312195778,-0.1751862745732069,-0.1825022641569376,0.15342525392770767,0.07564796507358551,-0.11991820926778018,-0.14703885652124882,0.22862591408193111,0.11195394821697846,-0.03939080983400345,0.10884531773626804,0.06103412667289376,0.035560941556468606,0.007809099741280079,0.041595994494855404,-0.016407456016168,0.03918382455594838,-0.04063846915960312,0.07736826164182276,-0.029364371672272682,0.04210396111011505,0.011879852507263422,-0.13840573179186322,-0.00854568462818861,-0.20128275826573372,-0.17224708700086921,0.010858805384486914,0.133029839489609,0.015877051278948784,-0.10939935687929392,-0.06615614495240152,0.13924854947254062,0.06236441223882139,0.05157181527465582,0.1242390712723136,-0.06788230687379837,-0.19918703101575375,-0.08198911277577281,-0.13311218935996294,0.04299800284206867,0.037608787417411804,0.07100140117108822,0.004846361465752125,-0.0267226486466825,-0.02667982690036297,0.07936645857989788,-0.011352987377904356,-0.05543728917837143,-0.057927447371184826,6.016263505443931E-4,-0.05187754239886999,-0.07663208711892366,-0.002942916937172413,0.007488790426577907,0.025787361431866884,-0.03742535691708326,-0.01406725775450468,-0.16185701824724674,0.06953914021141827,-0.12174831936135888,-0.01125357230193913,0.07188161555677652,-0.1644418817013502,0.004155640956014395,-0.008710181340575218,-0.11740002920851111,-0.13564519118517637,0.04588599829003215,-0.09618656849488616,0.051800062879920006,0.0018058456480503082,-0.028246749890968204,-0.16581359086558223,0.10981511021964252,-0.09486451698467135,0.1209554667584598,0.0766125803347677,0.07880421122536063,-0.14092751126736403,-0.13200438767671585,-0.021920357830822468,0.08370471629314125,-0.04506605118513107,0.08904941752552986,-0.17106066457927227,0.0815436807461083,0.13118335511535406]                            |\n",
      "|6F856150-3251-11E8-ADD4-480FCF5217B3|CALLE   |SAN JUAN                    |21   |35010 |Haría     |CALLE SAN JUAN 21 HARIA                    |[calle, san, juan, 21, haria]                       |[0.12776792626827957,0.014693582057952882,0.03876844868063927,-0.03244711272418499,-0.03410119153559208,-0.07019866984337568,-0.05486955344676972,-0.1691601760685444,-0.02093477323651314,0.07805658876895905,0.1592077315784991,-0.13774140998721124,0.09894698490097653,0.03360746689140797,0.112741931155324,-0.08269067406654358,0.005664353072643281,0.13199500516057014,-0.07261629924178124,-0.0895588542916812,-0.05207327250391245,0.09986251294612886,0.026283366419374943,-0.07440213263034821,0.09086548686027528,0.009506935067474843,0.0066169375553727155,-0.060518867895007135,0.01690085120499134,0.029430597275495532,0.11748370435088873,-0.14483907325193288,-0.06799390390515328,-0.05992246153764427,0.029880157375009733,0.07364535443484783,-0.003428754583001137,0.05356615372002125,-0.02862528618425131,-0.1424645245075226,-0.04503562897443772,0.12769433110952377,-0.009976518154144288,-0.01091997791081667,-0.08872184306383134,-0.009436045959591867,-0.006200164020992816,0.11731226406991482,0.1288780987262726,0.24960689544677736,-0.12767665609717369,0.06238789409399033,0.2113652065396309,0.05530886016786099,0.058719155658036475,-0.03401531158015132,-0.10175006333738566,0.25283522568643096,-0.021709392964839938,-0.10335827507078649,0.08225023970007897,0.034278076607733965,-0.13128914535045624,-0.08101098462939263,-0.05503101795911789,0.02082645148038864,0.12132070660591127,0.11001849621534349,0.01660554148256779,0.04389065653085709,0.05755876377224922,-0.04706421568989754,0.031023094058036806,-0.039080195128917694,0.03232841491699219,-0.06220192946493626,0.07428740561008454,0.018782568350434306,0.039002504944801335,-0.07955748112872243,0.05634529106318951,-0.01747807376086712,-0.002352423593401909,0.00918665286153555,-0.08793479353189469,0.011664175987243654,0.06981859803199768,0.050748792663216594,-0.022673631459474566,-0.08278939151205122,0.07089918218553067,-0.10523866415023804,0.18113175928592684,-0.15076782889664175,-0.16073048636317255,-0.04821538105607033,-0.014585169963538647,0.04860795644344762,-0.10984488688409329,-0.032963976579412704,0.02333447877317667,-0.12024937979876996,0.020869343727827075,0.08641681596636773,0.21196726709604263,-0.1359991744160652,0.055896504223346716,0.05190387964248658,-0.05855366718024016,0.0435799390077591,0.07195394332520665,-0.03961556849535555,0.1270653858780861,0.02341299243271351,-0.016394807770848275,0.0398005485534668,-0.14258559346199037,0.04150677435100079,-0.05091630481183529,-0.042275080987019466,-0.12156376913189888,0.050506559759378435,0.040947798267006875,0.13128681499511005,-0.1888371776789427,-0.05145034492015839,0.21306408867239954,-0.032996932789683346,-0.0777650360018015,-0.03499617781490088,-0.05077457502484322,-0.13688506036996842,0.1537328537553549,-0.06443361341953278,0.03369514793157578,0.004381779581308365,0.030743829905986786,0.07754751145839692,0.13515199422836305,-0.004423132166266441,0.04164916900917888,-0.01759650856256485,-0.03572521135210991,0.12254139519063756,-0.06896462589502335,-0.25344722121953966,0.17653796108497774,0.023987295478582384,0.07646292299032212,-0.11771624684333802,-0.006045182794332505,-0.06131021566689015,-0.11354783177375793,-0.12995418906211853,0.03317294791340828,0.13026093244552614,0.14482276663184165,-0.004535860568284989,-0.008730680495500565,-0.12122952630743385,-0.0769864559173584,-0.02956761717796326,0.05749081540852785,-0.05084276227280498,-0.0034588389098644257,-0.008372784592211246,0.10649014860391617,-4.479911178350449E-4,-0.031765283271670344,0.09314933642745019,-0.05064652599394322,-0.019036455266177657,-0.023600011318922046,0.01743719819933176,0.2092619113624096,-0.04452664721757174,0.001466348208487034,-0.022909652814269068,-0.21488730609416962,0.08959232913330198,-0.08162390943616629,-0.02076939782127738,0.07203822657465934,0.05369133912026883,-0.050060183834284545,-0.010083703882992269,0.11444260515272618,0.003246233239769936,0.1345994971692562,0.02008028291165829,0.020062343776226045,0.07951055020093918,0.0712548740208149,0.10035047763958574,0.1709233582019806,0.05045170523226261,0.16859759576618671,-0.06633225921541452,0.024485185369849206,0.06996869184076786,-0.12047749608755112,-0.08200946226716042,-0.09383778721094133,-0.05844891555607319,0.0038569729775190355,0.04863701164722443,-0.10358899384737015,-0.008018359541893005,0.1464382840320468,-0.04334285482764244,0.12645396115258337,-0.0019493041560053827,0.06909930035471916,-0.11272962093353273,-0.0332928977906704,-0.03315030373632908,0.13909849226474763,0.13346254602074623,-0.11041595079004765,-0.2808201238512993,0.0670371800661087,0.11027705003507436,0.06605927958153189,0.12731544822454452,0.08755859676748515,-0.0418425289914012,-0.09334847629070282,-0.037842956185340886,0.007716860063374043,0.03125632130540908,0.06257623098790646,-0.027209036424756052,-0.09338937513530254,-0.20274897292256355,0.23599274288862945,0.003915518522262573,0.04466229272074998,-0.06637251675128937,-0.0654081235639751,-0.027886854112148286,0.03550224862992764,0.04394947588443757,-0.15537117756903174,-0.029653584212064744,0.11545616388320923,-0.23339031245559455,-0.03438539952039719,0.11017446890473366,-0.09920992329716682,-0.020286541990935804,0.07205926273018122,0.007109306566417218,-0.08188136722892524,0.11862029395997525,0.15205056834965947,-0.046391591802239424,0.053251988254487514,-0.041697151213884356,0.014432907104492188,-0.07715316889807583,0.11897329539060593,-0.10953886508941652,-0.06910850899294019,0.0205888818949461,0.010665066447108984,0.1727960780262947,-0.007810957496985793,-0.06297170259058475,0.030361870164051653,-0.048444540798664094,-0.22412498444318774,0.07151287868618965,0.04734805561602116,-0.05388396084308625,0.014368177484720947,-0.13821126595139505,0.06783024519681931,-0.0169266976416111,8.037043502554298E-4,-0.11996203812304884,0.1187552485615015,0.07973958104848862,-0.07718000188469887,0.041786652803421025,0.02108773961663246,-0.0633902009576559,0.3193221343681216,-0.10981637462973595,0.16233513206243516,-0.09594690632075072,-0.013001663237810136,-0.042645089827783526,-0.09525435380637647,0.03703901022672653,0.07797749862074853,0.06528598666191102,0.10472247488796711,-0.06360771656036378,0.005306139215826989,0.10843530092388393]                                    |\n",
      "|4820E9E1-8321-11EA-8991-9109B330B472|LUGAR   |ASOMADITA                   |20   |35001 |Agaete    |LUGAR ASOMADITA 20 AGAETE                  |[lugar, asomadita, 20, agaete]                      |[0.1395106054842472,-0.08073381334543228,-0.06414430029690266,-0.00680018903221935,0.11590452096424997,0.0018417963283354766,0.08141930680721998,-0.04690229520201683,-6.031924858689308E-4,-0.04060969571582973,0.06286790835292777,-0.08646452100947499,0.06766563281416893,-0.05573214776813984,0.018800769466906786,0.07412176858633757,-0.0875157667323947,0.1264670304954052,-0.00379145797342062,-0.09831696189939976,0.02838206780143082,0.10586343193426728,-0.10123877227306366,0.03321328177116811,0.06498002144508064,0.03784926619846374,0.06191188283264637,0.06895668432116508,-0.11005803849548101,0.025556237902492285,-0.15982864727266133,-0.146151227876544,0.039470782154239714,0.17546452209353447,0.029841119423508644,0.10295329242944717,-0.026664542936487123,-0.018207418266683817,0.07851447630673647,-0.22599464841187,0.09257188718765974,-0.0180137250572443,0.07563491037581116,-0.06884099554736167,-0.13366003148257732,0.16282966081053019,0.08974763564765453,-0.09715449553914368,0.054281004006043077,0.15098250843584538,-0.1224469831213355,-0.0725187212228775,0.05362322460860014,-0.02194825792685151,0.09606265090405941,-0.052328445948660374,3.9619876770302653E-4,0.1333309579640627,-0.08538534864783287,-0.059925650246441364,0.06778857670724392,0.019577082712203264,-0.05575776658952236,0.04995743092149496,0.03256999162840657,-0.013166694436222315,0.13977932929992676,0.11625694297254086,0.05322507442906499,-0.12424629554152489,-0.056025518220849335,-0.14062310848385096,0.10778791271150112,0.2089840597473085,0.019178681541234255,-0.07607835158705711,-0.02108318777754903,0.06302625965327024,-0.024715129286050797,-2.8586946427822113E-4,-0.09004360483959317,-0.10208565462380648,0.04508237633854151,-0.013494569342583418,-0.02705624932423234,3.731492906808853E-4,-0.002320094034075737,0.012876357417553663,-0.044748021638952196,-0.051367339212447405,-0.059950018767267466,-0.07700239727273583,0.11617291322909296,-0.11233916878700256,-0.12142482143826783,-0.008575864136219025,-0.12494524079374969,-0.09176073782145977,-0.10650855163112283,-0.041909081395715475,0.07628358621150255,0.14468569052405655,0.11799722909927368,0.09369391016662121,0.20105383545160294,-0.11972368881106377,-0.0475028429646045,-0.024021712131798267,-0.08372792054433376,-0.11421211063861847,0.03643410354561638,-0.03961387765593827,-0.01780660985969007,-0.03866938501596451,-0.09142378345131874,-0.014769952869755798,-0.1422431929386221,0.054453824646770954,-0.10222099162638187,-0.1626906469464302,-0.14000421174569055,-0.006987274158746004,0.2033623494207859,0.18153898417949677,-0.06879657634999603,-0.09827633388340473,0.10774015402421355,0.1209567787591368,-0.038314351288136095,-0.10046556917950511,0.005303017795085907,-0.06916499324142933,0.010669234674423933,0.10256868315627798,-0.04186209919862449,-0.06426665931940079,-0.005571223795413971,-0.007291111629456282,0.08424004539847374,-0.047599753364920616,-0.0174893606454134,0.07024439156521112,-1.9527599215507507E-4,0.07929080072790384,-0.02603267040103674,-0.12131553479412105,0.08560314774513245,-0.020567319355905056,0.04989529028534889,0.015033597592264414,-0.012794461566954851,0.14672858314588666,0.10910798888653517,-0.08723070379346609,0.11539904586970806,0.12187233194708824,0.12433740543201566,-0.006954646203666925,0.034384969621896744,0.10391500778496265,-0.032403649762272835,-0.050639122258871794,0.048095136880874634,-0.17051718197762966,0.1707986369729042,-0.0573816392570734,0.04984410759061575,0.04533740598708391,0.09758305922150612,0.036221791175194085,-0.00235942768631503,-0.08719497499987483,-0.03929333796259016,-0.05801568378228694,0.03780640917830169,0.07341250497847795,-0.08073437819257379,0.005290946923196316,-0.11777485255151987,-0.03822283260524273,-0.027770981192588806,-0.06523625738918781,0.042872269405052066,-0.00433732767123729,-0.053559073712676764,-0.04221476335078478,0.08894957741722465,0.08251875918358564,-0.00907488283701241,0.07762868143618107,0.062110465893056244,-0.11697618826292455,-0.10695857834070921,0.1609947383403778,-0.12989129056222737,0.012466501793824136,0.07629330269992352,0.014046834083274007,-0.048232138447929174,-0.010626955889165401,0.01169932447373867,0.049331678077578545,0.07170071650762111,0.1277252547442913,-0.01571526564657688,0.07669743034057319,-0.15829394292086363,-0.051746759563684464,0.18706662207841873,-0.09661069512367249,0.07706918427720666,-0.009081637428607792,-0.08150194026529789,-0.12213438656181097,-0.14970990642905235,-0.07686043810099363,0.10100132878869772,0.03921262361109257,0.05078795365989208,-0.17850448144599795,0.20799060352146626,0.09188744612038136,-0.02018783800303936,0.10797954723238945,0.03321826699539088,-0.05894179828464985,0.12470273580402136,-0.0080179653596133,0.016839826945215464,0.031159603968262672,0.001181289553642273,0.07956648524850607,-0.10512152500450611,-0.005650052800774574,0.053927518194541335,-0.06494975090026855,0.05744389910250902,-0.130568980704993,-0.09543878771364689,-0.10837347246706486,0.08398129534907639,-0.09943849733099341,-0.12103548645973206,-0.03831050358712673,0.15869880933314562,-0.032670311629772186,0.04430817719548941,0.11875634454190731,-0.08970358222723007,-0.1433027656748891,-0.10510378703474998,-0.04701417312026024,0.05233369045890868,0.02296447823755443,0.09212701488286257,0.11988981114700437,-0.006459434516727924,0.003900468349456787,-0.034816221334040165,0.044705008156597614,-0.010817889124155045,-0.05986437969841063,0.00262468121945858,-0.15104377456009388,-0.06473219289910048,0.05476475693285465,0.0670687654055655,-0.07111204229295254,-0.06261283811181784,-0.08898031990975142,-0.16631248220801353,0.024159781634807587,-0.08153111825231463,-0.01715434854850173,0.052016718313097954,-0.09822323732078075,-0.03690331242978573,0.02975386008620262,-0.07192521542310715,-0.07993665081448853,0.030008630827069283,-0.0841653672978282,0.004086283501237631,0.09991302154958248,-0.022227030247449875,-0.08458467083983123,0.05195367801934481,-0.034482830204069614,0.00605264981277287,-0.046212326269596815,-6.719141383655369E-4,-0.11739547923207283,-0.13514569029211998,-0.0554810359608382,-0.03796195820905268,-0.10020326543599367,0.019825618714094162,-0.15561188757419586,0.12772567372303456,0.08069041837006807]                |\n",
      "|6252A588-3251-11E8-9C18-480FCF5217B3|CALLE   |GRAL FCO GARCIA ESCAMEZ     |87   |35011 |Ingenio   |CALLE GRAL FCO GARCIA ESCAMEZ 87 INGENIO   |[calle, gral, fco, garcia, escamez, 87, ingenio]    |[0.13948174166892255,0.11227741411754062,-0.05220172680648309,0.07939959769802434,0.03001359530857631,-0.04726373563919748,-0.10390620385961873,-0.07226164612386908,-0.01990898572174566,0.03241194624985967,0.0012237989077610628,-0.14843109675816127,-0.11150078312701744,0.06824850832344964,0.007303639747468488,0.10186478814908435,0.04417811520397663,0.03943900963557618,-0.09972442166014973,0.06821465601180014,0.08665146359375545,-0.018739326590938226,0.02998057406927858,-0.04541534717593874,0.09886211715638638,0.008013176598719187,-0.09786261867598763,0.08787399769893714,-0.023351481450455527,0.06491439869361264,-0.0726874071572508,-0.19237787170069556,0.1603531464934349,-0.009780453784125192,0.03822231784995113,0.10551696137658187,0.009604803419538906,0.10490975435823202,0.039402461876826625,-0.04229442994775517,0.022405908443033695,-0.023356193210929632,-0.03838152651275907,-0.04043065716645547,-0.14939585913504871,0.060423518131886206,-0.0821703380539215,0.05819234145539147,0.08419546232159648,0.16547971538134984,-0.06783891788550785,0.036235176026821136,0.050606973602303436,0.03263904792921884,-0.006598224464271749,0.029109408280679157,-0.09023113176226616,0.14684234453099113,-0.022227877884038856,-0.09763451665639877,0.03329404124191829,0.036044619711382044,-0.12771351156490188,-0.09119724562125546,0.03061213286127895,-0.02849602624441364,-0.07766025406973702,0.012545483719025339,0.05505136054541383,-0.03234187460371426,0.0068156156422836435,0.0755600204824337,0.05309984354036194,0.0034708556319986068,-0.023109088518789834,-0.05777440592646599,0.06953600288501807,0.07634542669568743,-0.02170788257249764,0.02310323735166873,0.10442616338176386,1.2872155223573958E-4,0.07990428831960474,-0.02008853693093572,-0.08128085838896887,-0.06847060870911394,0.08549555470900876,0.13072640315762588,0.09292713659150259,0.13863602130939917,0.07128389791718551,-0.16132441269499914,0.11562193078654152,-0.0755353978435908,-0.11506834147231919,0.03562411506261144,0.020619550187672888,0.021915095400929983,-0.011722134160143987,0.021428368586514677,-0.007569569961300917,-0.07620144529002053,0.10624335493360246,0.08477826522929327,0.059580117996249876,-0.14289610939366476,-0.13002943327384334,0.026355119588385732,0.07735781730817896,0.11085832331861768,0.15229976130649447,-0.17689723734344753,0.10218684268849236,-0.23606546755347932,-0.019335402375353233,0.14691833034157753,-0.11850346039448464,-0.1454125964748008,-0.0028016524655478338,0.050630959682166576,-0.14377578173090502,0.06936260552278586,-0.07619813776441982,0.03643623792699405,-0.38894321609820637,-0.017799379037959234,0.17864345652716498,0.1023001843797309,0.07346432602831295,-0.11862902010657957,-0.009918135989989552,-0.00888512478143509,0.009270469258938516,0.014542407755340847,0.1859823146036693,0.11990827960627419,-0.10140181386045047,-0.03398161966885839,0.08510709607175418,-0.09125183017126151,0.08286826239366617,-0.05207630127136196,0.03739592699067933,0.041008863323700746,0.028429377291883738,0.010963974254471915,0.04074462103432909,0.06272264431962477,0.11243576928973198,-0.06972838139959743,0.15705847899828637,-0.03047246961588306,0.13525537640920707,0.001471689237015588,0.013130527388836655,0.053449716951165877,-0.009285229657377514,0.14134464279881545,0.062407811180621914,-0.1463686519834612,0.012770668744841323,-0.1884468240397317,0.16119665120329174,-0.3377735087914126,-0.038466568504061015,0.11578038574329444,0.027532430099589483,0.16502269254332141,0.127665546523141,0.09920008686770285,0.09276284493639,-0.05879662062839738,-0.12999441288411617,-0.030311368272772855,0.26377616450190544,0.1031807231483981,-0.1338197933509946,0.0342395401426724,-0.07971029090029852,0.061241781405572376,0.08911990573895828,0.07217589825657861,0.005371183689151491,-0.0046686287969350815,0.012712175093059028,-0.1414066090115479,-0.05896414696638073,-0.020843251475266045,0.12694175355136395,-0.09227675199508667,0.005283167053546224,0.09182850377900259,-0.012226306567234651,0.07809105111352567,0.07432962421860013,0.14890834369829722,0.02519530936011246,-0.05513087884589497,-0.006478501217705862,0.06689763907343149,0.0073870377881186345,-0.016457181091287305,-0.022609136333423,0.13964165308113607,-0.06895815448037215,0.03700467864317553,-0.04898516541080815,-0.06675960256585052,0.052747265568801334,0.025864301515477042,0.24930958589538932,0.12967318296432495,-0.08088123106530734,-0.08206318318843842,-0.0515871239559991,0.08476657593356711,0.09478877125574009,0.0787329732307366,0.042632145807147026,-0.10463956796697207,0.20298024799142564,0.11585101249095583,0.003577048225062234,0.11129764653742313,-0.033688586205244064,-0.030325392926377908,-0.0489506172016263,0.16761733378682817,0.003400670763637338,-0.014681196638516017,-0.0028939597707773957,-0.26799830900771276,-0.17939800875527517,-0.13618854247033596,0.06861892023256846,-0.209473866969347,0.13589172012039594,-0.0816141130136592,0.07057565909677317,0.1315486981932606,0.10492042744798319,-0.07649932821680393,0.004656462264912469,-0.014557112540517534,0.11433995781200272,-0.018937916228813783,0.027020834918533052,0.1190114463014262,-0.05899405958397048,-0.12143927333610398,-0.05873768952941256,-0.17201121297797986,-0.10940557066351175,0.029159288321222575,0.15585209269608769,0.06237676101071494,0.17167957858847718,-0.08656828917030777,0.040484502113291194,0.08648492683589991,0.24812265219432966,-0.10095118438558918,-0.06462776867140617,-0.03376627740051065,0.02411772896136556,0.052966121051992686,-0.06441649784600095,-0.05762370709063751,-0.15472681926829474,0.1255797389894724,0.02944159547665289,-0.04242909194103309,-0.1670394553137677,0.038651770646018636,-0.016302742063999176,-0.054711188322731426,0.0665418272172766,-0.05616037254886967,0.1689698515193803,0.0436748509694423,0.07641136566443102,-0.013122332947594777,-0.030901358595916202,0.10074689951060073,0.061202529418681345,0.07086130577538695,0.2701980981177517,0.06467940099537373,0.13461737973349433,0.045868598856031895,0.18543544691056013,-0.07413858882085021,-0.10713602682309491,-0.04562354673232351,-3.9067864418029785E-4,0.11079614459803061,-0.016301164137465612,-0.05093811292733465,-0.009025546855160167,0.0076548590191773]                                              |\n",
      "|755456EE-3251-11E8-BF8F-480FCF5217B3|CALLEJON|NASAS                       |13   |35012 |Mogán     |CALLEJON NASAS 13 MOGAN                    |[callejon, nasas, 13, mogan]                        |[-0.058952984400093555,-0.1188181359320879,-0.052255396731197834,-0.07705748174339533,0.10275682201609015,-0.08647248521447182,-0.13702686422038823,-0.10167925618588924,-0.06369159370660782,-0.016580349765717983,-0.04724230896681547,0.08241064386675134,-0.020865135360509157,0.04961833916604519,-0.015094487927854061,0.025473004207015038,0.0022906791418790817,0.09040711401030421,-0.056273278780281544,-0.0293790262658149,0.011921692173928022,0.06508687359746546,0.0700442492379807,-0.1093899286352098,-0.022652060724794865,-0.16069448366761208,0.0029096323996782303,0.07297090068459511,0.05108041130006313,0.01953408820554614,-0.02706432342529297,-0.20250620879232883,-0.006713792681694031,-0.057090878020972013,0.07378234108909965,0.017978969030082226,-0.0052473642863333225,-0.039665256859734654,-0.022696646803524345,-0.08998281857930124,-0.05934170540422201,0.009573808871209621,0.08278699847869575,-0.13044066727161407,0.05626930820289999,0.0611168104223907,-0.04753059078939259,-0.06845411192625761,0.04106835660059005,0.08844438567757607,-0.00596232246607542,-0.010590946301817894,0.0576278492808342,0.07512637041509151,0.13859593961387873,-0.011649093590676785,-0.12909272033721209,0.173744794446975,-0.09766848385334015,-0.07915856689214706,0.03687443304806948,-0.039215378055814654,0.017457864247262478,0.024981686496175826,-0.027699696831405163,-0.04494241304928437,0.1531788818538189,-0.014520864933729172,0.05933720292523503,-0.03595741372555494,0.01293949838145636,-0.2773286420851946,0.014322665520012379,0.01385036323335953,-0.018021598923951387,0.004162332974374294,-0.023621338419616222,-0.010452724440256134,0.025784984230995178,-0.044679547660052776,-0.007903300342150033,0.06724814046174288,-0.05752795608714223,-0.03991204802878201,-0.05409583169966936,0.0033134943805634975,-0.005316645139828324,0.02253017807379365,-0.01207865180913359,0.02865547128021717,0.04825491273368243,-0.08901995234191418,0.04176375374663621,-0.06300592888146639,-0.061357368249446154,-0.0804750679526478,-0.2226579561829567,-0.018379605375230312,-0.21449536457657814,-0.16177928500110283,0.012855266220867634,-0.10987948905676603,0.07397563755512238,0.11753655783832073,0.10444321855902672,-0.08000063896179199,5.31535129994154E-4,0.1335892933420837,-0.03803583374246955,-0.04389401711523533,0.08032063208520412,-0.07729776203632355,0.07784077152609825,-0.031115860678255558,-0.10247242636978626,-0.06367511954158545,-0.12760294834151864,-0.016952537931501865,0.03158623166382313,0.0015370426699519157,-0.13431420270353556,-0.03884939267300069,0.044525540666654706,0.12908169999718666,-0.03782847709953785,0.06415316928178072,0.10030573513358831,0.08909349143505096,0.0037755091907456517,-0.08309865510091186,-0.03560889163054526,-0.10803205519914627,-0.10460795974358916,0.007287901942618191,-0.1380705162882805,0.06361712701618671,-0.0628135995939374,0.031795207876712084,0.06371958181262016,-0.022961045615375042,0.030792266596108675,-0.09050799952819943,0.09165533073246479,0.06634434778243303,-0.07434281939640641,-0.18733485549455509,0.1886107726022601,-0.012861717958003283,0.006366916000843048,-0.09571444476023316,0.07031819224357605,0.0359033583663404,-0.008267220109701157,-0.024280076031573117,-0.005332794971764088,0.11820066533982754,0.14152952749282122,0.02695375558687374,0.0180750023573637,-0.029764084320049733,0.04348859889432788,0.04543328261934221,0.08931882167235017,-0.10338150546886027,-0.014203839004039764,-0.04476064117625356,0.09480853844434023,0.018294764508027583,0.06456691399216652,0.16705403476953506,-0.02333339862525463,0.01217455678852275,-0.08764039352536201,-0.04303143685683608,0.10012188774999231,0.06350566819310188,-0.07695845142006874,0.058390230871737,-0.08895132225006819,0.08693953976035118,0.08554843906313181,0.09722527209669352,0.08081169915385544,0.0103282006457448,-0.07514848094433546,-0.22966686636209488,0.021373504772782326,0.11866814270615578,0.059223213233053684,-0.03967693354934454,-0.09575699642300606,-0.04721150081604719,-0.04096689051948488,0.12780660821590573,-0.09424321260303259,0.05210608663037419,0.04901075270026922,-0.08359084080439061,-0.07479077391326427,0.022533301264047623,0.0863522281870246,0.0863476237282157,0.15366204641759396,0.03303991979919374,-0.020790357142686844,0.17240190668962896,0.008575734682381153,-0.04802981577813625,0.021522990631638095,0.08517011953517795,0.15413286536931992,0.08166798087768257,-0.11848363443277776,-0.1500345692038536,-0.05169206392019987,0.0251969862729311,0.15079755242913961,0.023040660191327333,-0.043841680977493525,-0.1120842881500721,0.05413563922047615,-0.007225292501971126,0.12783883255906403,0.12749693728983402,0.008364860899746418,0.004281847737729549,-0.009661115473136306,-0.049292711075395346,-0.010639435986377066,-0.051875670440495014,0.028079919517040253,-0.01735816802829504,-0.05039963126182556,-0.008232608437538147,0.12806518701836467,-0.03619144158437848,-0.01588350022211671,-0.0041995421051979065,-0.1087482962757349,-0.009573106071911752,-0.04793236218392849,0.026480847969651222,-0.037991538643836975,-0.022755868169042515,0.010516464710235596,-0.12800586177036166,-0.08481032587587833,0.16946761310100555,-0.010426457534777,-0.11401098780333996,0.019384517101570964,-0.03352146013639867,-0.0491377180442214,0.09084211173467338,0.15006370563060045,-0.04704075349945924,0.08837015647441149,-0.026661335490643978,-0.07213603146374226,0.07809747150167823,-0.003929475322365761,-0.16241717617958784,-0.04883981542661786,-0.11835691798478365,0.07966562430374324,0.005924466997385025,-0.056586378486827016,-0.1033472316339612,0.010288866236805916,-0.07144366228021681,-0.10576628893613815,-0.009236566722393036,0.18044015625491738,-0.017048517242074013,6.246864795684814E-4,-0.073850286193192,0.03785189054906368,-0.01741351035889238,0.04199120122939348,-0.050267649814486504,0.11539351334795356,-0.10033953282982111,-0.07241330854594707,0.03368755057454109,-0.06249646982178092,-0.045489280950278044,0.12832161039113998,-0.07284516654908657,-0.005164379828784149,-0.03571568615734577,0.049942392855882645,-0.011843455955386162,-0.14716809549281606,-0.15331714134663343,0.07847322709858418,-7.714699022471905E-4,0.025307724718004465,-0.1519261011853814,-0.017861642700154334,0.033862868789583445]|\n",
      "|5FA8659A-3251-11E8-95F7-480FCF5217B3|CALLE   |MARINA                      |19   |35010 |Haría     |CALLE MARINA 19 HARIA                      |[calle, marina, 19, haria]                          |[0.1635866705328226,0.1313976738601923,-0.11092816200107336,-0.08525600144639611,0.04239027574658394,-0.1357157181482762,-0.12291310913860798,-0.1251013344153762,-0.0508304201066494,-0.035385143011808395,0.1288479951908812,-0.07602674560621381,0.09301142399999662,-0.025268832687288523,0.11062007769942284,-0.08788595162332058,-0.0388356689363718,-0.027054940350353718,-0.09314671624451876,-0.09419696959957946,-0.0353238012176007,0.04608678072690964,-0.017131958389654756,-0.08296002075076103,0.08428200427442789,0.04531973414123058,0.11717590061016381,0.07121966918930411,-0.015197335742413998,0.07157822186127305,0.025527017191052437,-0.1564168743789196,0.055006368085742,-0.08199458522722125,0.07984273508191109,0.05048350477591157,-0.01895966473966837,-0.03570360969752073,-0.06546648615039885,-0.10930552694480866,-0.08252402395009995,-0.09383224882185459,-0.052583811804652214,-0.11017043516039848,-0.0852648401632905,0.1420207042247057,-1.2503404286690056E-4,0.020601862110197544,0.09956212918041274,0.2513502463698387,0.014981904067099094,0.04213458625599742,0.16291694529354572,-0.02052984945476055,0.1728499906603247,0.04654861625749618,-0.10431774146854877,0.15063712326809764,-0.057577905245125294,-0.03929590526968241,-0.04833084112033248,-0.06538581568747759,-0.03560999222099781,0.07185390806989744,-0.08282388560473919,-0.09946030122227967,0.13345268182456493,0.08234484773129225,-0.02760678855702281,-0.25450727716088295,0.02487229893449694,-0.14608830586075783,-0.06039683986455202,0.013153191888704896,0.048661292530596256,-0.05076872743666172,-0.03576953077572398,0.027710435446351767,0.04857396520674229,-0.050357448984868824,0.05183929996564984,0.065432945266366,-0.054231102352787275,-0.022435047896578908,-0.11383369006216526,0.057140810415148735,0.09954614378511906,0.1523738568648696,-0.06789433024823666,-0.0356270843767561,0.10206818114966154,-0.08287965785712004,0.09802731312811375,-0.053404222868266515,-0.04109290521591902,-0.11379625555127859,-0.05261005787178874,0.032270638053887524,-0.08421002747491002,-0.18581107584759593,0.06412754324264824,-0.03568736230954528,-0.07250083796679974,0.09323569713160396,0.09021873865276575,-0.07997385133057833,0.08701119432225823,-0.0599247720092535,0.03458781260997057,0.09612517344066873,0.02606537810061127,-0.05309127547661774,0.1164722815155983,-0.002000045031309128,0.0068283528089523315,0.12445873115211725,-0.1160706877708435,0.04422716377303004,-0.1331152142956853,0.033125204616226256,-0.13854762073606253,-0.061877657688455656,0.08894541906192899,0.16355964122340083,-0.06384095083922148,0.10968495905399323,0.09488312248140574,0.03495671646669507,-0.12764981854707003,-0.0730911478458438,0.01156384451314807,-0.06470183096826077,-0.05464997608214617,-0.1608759246300906,-0.030149209313094616,-0.06350673409178853,-0.13546327780932188,0.045885337865911424,0.13379433751106262,0.030353141948580742,0.051337990909814835,-0.024116351269185543,-0.028384900651872158,0.09979688200110104,0.027694357559084892,-0.30985070671886206,0.18357844876663876,-0.05946489004418254,0.15887261740863323,-0.15425842721015215,1.7317011952400208E-5,0.011126213008537889,-0.07534205471165478,-0.10877477237954736,-0.014115281170234084,0.11815422074869275,0.16612176690250635,-0.11631962936371565,-0.05719360243529081,-0.10493910207878798,-0.033174834214150906,0.017124363221228123,8.791259024292231E-4,-0.04332558251917362,0.07110923528671265,0.010853886604309082,0.11239705327898264,-0.02907893806695938,-0.10053735878318548,0.019115622737444937,-0.026658221147954464,-0.04926499351859093,0.0074722785502672195,-0.0018340975511819124,0.16299860086292028,-0.030072772642597556,0.07188336015678942,0.008978407247923315,-0.19615042954683304,0.05216748418752104,-0.07434750231914222,0.013409095001406968,0.03313761483877897,0.11706731654703617,0.10194881330244243,-0.031185569241642952,0.13852566108107567,-0.02491906937211752,0.1793423369526863,0.012864631600677967,0.017456794157624245,0.03161717229522765,0.1298522613942623,0.07588668318931013,0.11477192118763924,0.05016517732292414,0.08384028356522322,-0.06395940738730133,0.010873666033148766,-0.010923536028712988,-0.06970292190089822,0.008699777114998142,0.10221731383353472,-0.015908480854704976,0.03871257184073329,-0.005503988824784756,-0.1134707136079669,-0.11053057853132486,0.19724306091666222,-0.05906331539154053,-0.020962369977496564,0.07224006456090137,0.05224342551082373,-0.07520000729709864,-0.04388250131160021,-0.03834322839975357,0.09242666698992252,0.09093219507485628,0.00675926124677062,-0.09843399049714208,0.07803340628743172,0.1363708233111538,0.10701769962906837,0.025938651524484158,0.07863578340038657,-0.1105876190122217,-0.07260183803737164,-0.04991497844457626,-0.01209715916775167,0.1255392602761276,0.03215978108346462,-0.059548994060605764,-0.16382061131298542,-0.24797744862735271,0.3265876714140177,-0.0405676937662065,0.09196896478533745,-0.12643888965249062,-0.07071899843867868,-0.03979408787563443,-0.10081177717074752,0.0617215521633625,-0.16291653469670564,-2.8760265558958054E-4,0.05701814405620098,-0.07147716800682247,0.03173576481640339,0.3062191503122449,-0.13008155580610037,-0.13944285083562136,0.05727529898285866,0.05035240761935711,-0.06284623616375029,0.0946147982031107,0.08281122148036957,-0.06257936172187328,0.13932188274338841,-0.10612650867551565,0.006692877039313316,-0.06753173528704792,0.02368645602837205,-0.12070590071380138,-0.06145079305861145,-0.08400511927902699,0.042214190601953305,0.17276044376194477,0.09487768559483811,-0.12249917117878795,0.001821909099817276,-0.0902151083573699,-0.29121669568121433,0.03096891939640045,0.006224612705409527,-0.061982555547729135,0.026979293674230576,-0.120825856924057,0.15910729579627514,0.08612523134797812,-0.12473281566053629,-0.07176205236464739,0.0668479916639626,-0.0642879381775856,-0.02682271972298622,0.09972699545323849,-0.05001439223997295,0.10588818462565541,0.23857401660643518,-0.0789541369304061,0.11083363322541118,-0.228944435948506,-0.016880817711353302,-0.02252890821546316,-0.08518792828544974,0.06716385297477245,0.09056797879748046,0.04125348245725036,0.11523434286937118,-0.027481095865368843,-0.0058936376590281725,0.10300282808020711]                                                 |\n",
      "|3544B0F4-7449-11EB-8771-6F70BC935088|CALLE   |JORDAN                      |0    |35009 |Gáldar    |CALLE JORDAN 0 GALDAR                      |[calle, jordan, 0, galdar]                          |[-0.04141723667271435,-0.026494973339140415,-0.22006878070533276,0.14297898532822728,0.002869095653295517,0.004524776712059975,-0.1142181633040309,-0.029789509251713753,-0.03647370915859938,0.036081272177398205,0.017090712673962116,-0.20010815933346748,-0.044344532248942414,-0.17387997964397073,-0.0345101673156023,0.09703215188346803,-0.029715033248066902,-0.06007759086787701,-0.03853505291044712,-0.05210875994816888,-0.12082476634532213,-0.0824240380898118,-0.10819046385586262,0.048960055224597454,0.05201757652685046,0.07419361732900143,0.0018795498181134462,0.013382554054260254,-0.022261389531195164,0.06454900372773409,0.0050196414813399315,-0.17053181678056717,-0.05115325003862381,-0.2263838411308825,0.06321053020656109,-0.060033219400793314,0.0072479089722037315,-0.009185956558212638,-0.030929642030969262,-0.1722976304590702,0.03522565774619579,0.0014348786789923906,0.17237997241318226,0.05824366491287947,-0.07155231910292059,0.08478182554244995,-0.011007031687768176,0.0833477508276701,-0.021958820521831512,0.17309517413377762,-0.12113240268081427,-0.017321021761745214,0.1370387002825737,0.061538293957710266,0.10269301850348711,-0.09278842760249972,0.06781521067023277,0.058108658995479345,0.03835928812623024,0.05418664589524269,0.07935833930969238,0.22387068159878254,-0.07114587957039475,-0.015311779687181115,-0.13297468377277255,-0.053571999073028564,0.0686287241987884,-0.012971953488886356,0.058228996116667986,0.09631264302879572,-0.07502862997353077,0.006064562126994133,0.09708710014820099,-0.05794815346598625,-0.1499480775091797,-0.052161095198243856,0.047976600006222725,0.1178456824272871,-0.06530741089954972,0.03218052431475371,-0.023579292465001345,-0.05697917565703392,-7.28321261703968E-4,-0.257080185925588,-0.11227381601929665,-0.05643991380929947,-0.09605749696493149,-0.038407433312386274,0.09252470079809427,-0.05299350927816704,-0.031871577724814415,-0.06473155412822962,0.09594752872362733,0.009724544361233711,-0.22381755895912647,0.07832635333761573,-0.005432936828583479,-0.07210371059773024,-0.1689386460930109,-0.17830876307561994,0.005509054521098733,-0.0901925372891128,0.14215184329077601,0.06862328946590424,0.2120751067996025,-0.23709129844792187,-0.07670604484155774,-0.034588947892189026,0.013817724422551692,-0.014637679734732956,0.07316133577842265,-0.20210995664820075,0.05086023546755314,-0.08110951958224177,-0.16249217558652163,0.15741259139031172,-0.15352765284478664,0.008993575815111399,0.0056176078505814075,-0.07511072512716055,0.03764235693961382,-0.09964188002049923,0.14001502515748143,0.20111115649342537,-0.35405677277594805,0.02367299166508019,-0.034974753856658936,0.012705293018370867,-0.05146399978548288,-0.016695795813575387,-0.007677930290810764,0.04501239024102688,-0.17484353901818395,0.013448972487822175,-0.12492264341562986,-0.07939279908896424,-0.0303552383556962,0.06116896669846028,0.07197784446179867,-0.09018776938319206,0.01071983389556408,-0.01164185255765915,-0.04830561997368932,0.03165637001802679,0.030844073742628098,-0.19301311671733856,0.06290366912799072,0.13662434834986925,-0.045172978192567825,0.009128108154982328,0.008745407685637474,-0.02157263713888824,0.1845509670674801,-0.006116487551480532,0.031244583427906036,0.0491969408467412,0.07247218489646912,0.03339314367622137,-0.03263943735510111,-0.0019386968342587352,-0.05200552102178335,0.001776337157934904,0.09574292809702456,-0.054999012500047684,0.1546596772968769,-0.04418706335127354,0.04852681700140238,-0.002354077063500881,-0.014264022000133991,-0.08246307913213968,-0.05138401594012976,-0.10558583470992744,-0.05224365368485451,0.05259564961306751,0.23213940486311913,0.12671489105559886,0.07880741194821894,0.041577152675017715,-0.09249215014278889,-0.06838630101992749,-0.07438366278074682,0.0750496267573908,0.1424261098727584,0.05973477382212877,-0.07870175980497152,-0.011481926776468754,0.061110228300094604,0.04554992518387735,4.668768960982561E-4,-0.16363426204770803,0.04787918731744867,0.03427990456111729,0.15348667837679386,0.12366536073386669,0.030150300823152065,-0.08835400454699993,-0.005497386446222663,-0.07996367721352726,0.09594049397855997,-0.08319523697718978,8.422941900789738E-4,0.0338569562882185,-0.1848431695252657,0.02311965893022716,-0.11091426340863109,0.04195890482515097,-0.12056853889953345,-0.08108965493738651,0.08502273913472891,-0.08745229989290237,0.24488374183420092,0.10570045188069344,-0.03931678307708353,0.04807380028069019,-0.0747652892023325,0.006829006597399712,0.009649231564253569,0.13049689959734678,-0.11530211800709367,0.0916013065725565,0.2848821487277746,0.015146213176194578,0.06654427014291286,-0.003414856269955635,0.014663469977676868,0.09150930040050298,0.004579056054353714,0.11050822446122766,-0.015428216895088553,0.08632390201091766,-0.08811204275116324,-0.12073342176154256,-0.09090668149292469,-0.04074539616703987,0.0296701667830348,-0.08821810455992818,-0.15377660561352968,4.3064728379249573E-4,-0.05317160615231842,0.05376922944560647,-0.00754766610043589,0.034278709441423416,-0.04395335400477052,-0.19432182144373655,0.24843774363398552,-0.02751141635235399,-0.21173887886106968,-0.08229960221797228,-0.07376515585929155,-0.18602882511913776,-0.04001113958656788,0.13567481137579307,0.04613327165134251,0.15916403103619814,0.12063419912010431,-0.07948924787342548,0.14428026601672173,-0.04927134094759822,0.04108450748026371,-0.017357759992592037,0.03345342492684722,-0.05836106278002262,-0.02525512466672808,0.004858977161347866,-0.14368620933964849,0.05123182386159897,-0.09829797392012551,-0.0018698940984904766,-0.11686104885302484,-0.05777895683422685,-0.029904110822826624,0.025595190934836864,-0.06632891483604908,-0.0011265904176980257,0.1416133577004075,-0.20543840900063515,-0.08642907720059156,5.695568397641182E-4,0.05949660204350948,-0.0016841515898704529,0.20792298996821046,0.03402420738711953,-0.06140892021358013,0.04997054906561971,0.007327487226575613,-0.009859312922344543,0.13944891886785626,0.006778057664632797,-0.0638182032853365,-0.11624796618707478,0.02386753004975617,-0.12206452246755362,-0.29414629377424717,-0.005955075612291694,-0.02661739755421877,-0.0011898123193532228,0.1480296952649951,-0.09594923246186227,0.013537466060370207,-0.07759392488515005]      |\n",
      "|6C0AF655-3251-11E8-A983-480FCF5217B3|CALLE   |ROGER LAURIA                |105  |35002 |Agüimes   |CALLE ROGER LAURIA 105 AGÜIMES             |[calle, roger, lauria, 105, agüimes]                |[0.03257929049432278,0.12293826788663864,-0.18770822882652283,-0.0052769511938095095,-0.022677696496248248,-0.04447908252477646,-0.200056416541338,-0.05884097144007683,-0.14412632063031197,0.024788258224725725,2.2390931844711305E-4,-0.01363926287740469,-0.07918851147696843,0.009738164022564888,-0.048261909373104574,0.04769851639866829,0.03589320834726095,0.08478962481021882,-0.140245009213686,-0.045698908308986576,-0.022390173748135567,0.10888403654098511,0.1629677563905716,-0.16646670997142793,0.14972580652683973,-0.07900811731815338,-0.1866060545668006,-0.0725906491279602,-0.06928215846419335,-0.10289752334356309,-0.08594324588775636,-0.057740880548954016,-0.005673733539879322,0.0028591886162757877,0.049086529016494754,-0.0702423457056284,0.0927827499806881,0.0738127887248993,0.08134611193090678,0.0031050413846969607,0.06172582805156708,0.10589732229709625,0.07113521862775088,-0.05074299201369286,0.08466387800872327,0.17182341665029527,0.06486241274978966,-0.12411018507555127,-0.06986770909279585,0.002622327953577042,0.03494415357708931,0.06263406127691269,-0.036677812039852146,0.02656850563362241,0.06892559081315995,-0.04746953248977662,-0.11622777655720712,0.22773063965141774,0.012185375764966012,-0.131051804125309,0.02645518518984318,-0.034568071365356445,0.0729532152414322,0.09069628231227399,0.0532063702121377,-0.16735841110348704,0.02925473675131798,0.017443354427814483,-0.03083986081182957,0.02836374845355749,0.04875580593943596,-0.19992246385663748,-0.0075645787641406064,-0.023807725193910303,-0.092819444835186,-0.023206205666065217,-0.075033625587821,-0.012383298575878145,-0.07458788752555848,-0.10440676724538207,0.11096104327589273,0.07808802407234908,-0.08290223628282548,-0.0786259887740016,0.175595660507679,0.026277877483516933,-0.013999062404036523,0.06278824489563704,0.028141656517982484,-0.016472680354490878,-0.05659671314060688,0.01188174467533827,0.056960575841367246,-0.1465717427432537,-0.04777980297803879,0.07910458743572235,-0.07821511700749398,-0.0906946690636687,-0.32970894277095797,-0.09423035420477391,0.04259343091398478,-0.12345966584980489,0.08935297578573227,0.06473166197538376,-0.0546934723854065,0.1009097546339035,0.02457864619791508,0.039177133422344926,0.07684491742402316,-0.015097550302743913,0.14849498504772782,-0.16928785257041457,0.16171548664569857,-0.04549404829740525,-0.006624920479953289,-0.04027571827173233,-0.2601351886987686,0.1082040458539268,-0.16589772179722787,-0.01810597740113735,-0.09051714763045311,0.048190146684646606,-0.021289595589041713,0.1948592394590378,-0.16028795540332796,0.030027920939028264,0.1189680602401495,-0.02284481041133404,0.07047274559736252,0.15367384850978852,0.06653161719441414,-0.05906990207731724,-0.07744888197630645,0.0882855910807848,-0.06727113872766495,-0.12815707176923752,0.09070161357522011,0.044341206550598145,0.15144307017326356,0.05886063501238823,-0.06706606671214103,0.09287168732844293,-0.06646244516596199,0.0018074460211209955,0.30641440451145174,-0.11398607566952706,-0.006796874440624379,0.039102648943662645,0.1648454934358597,0.0678204357624054,-0.11745733469724656,0.08128724545240402,0.011637654900550843,0.01995365917682648,0.16626146882772447,0.026269895490258932,-0.053209842089563614,-0.05908696823753417,0.044590043090283873,0.09608670854941011,0.10544126518070698,-0.23823166191577913,0.05512583944946528,-0.07002775482833386,0.09399457722902299,0.275236476957798,0.04399674162268639,0.03759235888719559,0.08344497382640839,-0.08855640813708306,-0.10425469353795053,0.06935741305351258,0.05335109625011683,0.096373363211751,0.038323397003114226,0.18078495580703022,-0.08933416288346052,-0.0915992084890604,0.0589247246272862,0.05314647415652871,0.02557871751487255,0.05366155663505197,0.08668494671583177,-0.013819262385368347,0.018949320260435346,-0.15312225818634034,0.07515298984944821,-0.10971663724631071,0.0475530419498682,-0.016382102295756342,0.006700840406119824,0.009528344869613648,-0.0037024847231805326,0.07545435652136803,0.07251567104831338,0.14943718314170837,0.052848662622272974,-0.03073042463511229,0.1457517199218273,-0.011615368351340295,0.0012796005234122277,-0.010049596428871155,0.10964224971830845,-0.03171005323529243,-0.16890376545488836,-0.06624670773744583,-0.13236953662708403,-0.10167230293154716,0.04971146360039711,0.035118309408426286,0.1328177151270211,0.17912178784608843,-0.15388760352507236,-0.11591264456510544,-0.20965513288974763,0.011710937693715097,0.1537789035588503,-0.025493218377232552,-0.13167484290897846,-0.05856202524155379,0.22562600225210191,0.09297672403044999,-0.026287472248077395,-0.0791351423598826,0.04292101170867682,-0.19016810562461617,0.17928223684430122,-0.1664748378098011,0.049968926794826986,0.09893255457282067,0.10804020762443543,-0.17744884230196478,-0.03923179339617491,-0.22698194682598116,0.056603547744452955,-0.07737645097076894,-0.18130157813429834,-0.06893115863204002,-0.11914836270734669,0.11890304405242205,0.06631064079701901,-0.031461682915687565,-0.027775418711826205,-0.21305041797459126,0.08523903973400593,-0.09998649265617132,0.06406503319740296,0.05440468648448587,-0.06348397359251977,0.08835263401269913,-0.06668121367692947,0.06041066646575928,-0.003370742686092854,0.04753646850585938,0.17946626991033554,-0.05768736563622952,0.004631675034761429,-0.035202860832214355,0.09423930570483208,0.08886442281072959,0.12265013754367829,0.12611551769077778,-0.1729550880379975,0.08153535872697831,0.09100427515804768,0.08281988333910704,0.028865145286545157,-0.04983373256400228,-0.14917995929718017,-0.13357651829719544,0.07442837096750736,0.14041438028216363,-0.031592460721731185,-0.07591933701187373,-0.005022387392818928,-0.02419314980506897,-0.08655762672424316,0.011245943047106266,-0.007488955557346345,-0.1080869659781456,0.10534184835851193,-0.04233545288443566,-0.20850701034069063,-0.039509530365467074,0.03566381186246872,0.09918467290699483,0.2303018731996417,-0.07410186603665352,0.13347436618059874,-0.27140647638589144,0.07721896171569825,-0.021931621804833414,-0.2244747281074524,-0.008717448636889459,0.11768774464726449,0.03524381555616856,0.002635575830936432,-0.004269633581861854,-0.12099030129611493,-0.016116082714870573]                                                     |\n",
      "|74749392-3251-11E8-AFE7-480FCF5217B3|CALLE   |ROSALES ALTOS               |26   |35008 |Firgas    |CALLE ROSALES ALTOS 26 FIRGAS              |[calle, rosales, altos, 26, firgas]                 |[0.1724238395690918,0.03159899711608887,0.016468951851129534,-0.11555974632501603,0.015677607059478762,-0.02758207693696022,0.0923320021480322,-0.0939860787242651,-0.03840196877717972,0.023949781060218812,-0.05291327871382237,0.02966878116130829,0.03342613023414742,0.15838353373110295,-0.02967641241848469,0.055507235601544386,0.14924274384975433,0.11260643303394319,-0.20726095736026764,0.022956401889678093,0.022838447988033295,0.053112827241420746,-0.054331795126199726,-0.010181714594364167,-0.009689311683177949,0.005321161774918437,0.027016733773052692,-0.05004090294241906,0.0996477283537388,-0.011253239586949348,0.1909280081279576,-0.03644924312829972,-0.020418649166822435,0.032147682935465126,0.17131459526717663,-0.05421750582754612,0.04028163626790047,-0.06850962638854981,0.05285833235830069,0.007078267075121403,0.10096126496791841,-0.03651754558086395,0.09666694030165673,-0.08862820379436016,0.042695976048707965,0.1610870212316513,-0.04829785323236138,-0.036610723286867146,0.11081829592585564,0.04466969668865204,-0.04125495590269566,-0.11647504419088364,-0.015861286222934725,-0.03654876910150051,-0.013503120467066766,-0.0875232756137848,-0.020828884653747083,0.05465114675462246,0.05273118354380131,-0.13607549890875817,-0.013922862708568573,0.026004403829574585,-0.15060140118002893,0.04936570008285344,0.040518668293952946,-0.12543956600129605,0.1522148445248604,-0.003916475921869278,0.008642007783055307,-0.030700600147247317,0.07463680431246758,-0.2562078688293696,-0.039813408534973865,0.043943038582801824,-0.04998823553323746,0.038609794736839835,0.05770153775811196,-0.07588352411985398,0.1772359985858202,-0.0021329491399228575,-0.05717652477324009,-0.051990328729152685,0.0348115436732769,0.03920769859105349,-0.10879897922277451,-0.05210173651576042,-2.472587861120701E-4,-0.01785763241350651,0.0017960054799914362,0.2225126703735441,0.057513925805687906,-0.18785287141799928,0.09345322959125042,0.020029096305370333,-0.04330716580152512,-0.08340877071022988,-0.10671190209686757,0.03549592253984884,-0.011235381662845613,-0.03287564367055893,-0.023795863054692747,0.050950883701443676,0.0802313519641757,0.06496059745550156,-0.01070653796195984,-0.16740293204784396,0.12813249714672567,0.030535472929477694,-0.05785770602524281,-0.1559589557349682,0.06432955386117101,-0.24322227835655214,0.10224708244204522,0.001130390167236328,0.0220728462561965,0.17593462616205216,-0.10071640387177468,0.0022673007100820542,-0.022718032728880646,0.05433582700788975,-0.026605192571878433,0.04336885809898377,0.06508605517446996,-0.07828788533806802,-0.1697994686663151,0.11917684078216553,-0.030808898806571963,-0.04538136087357998,-0.10340279191732407,0.003251934051513672,0.1164745680987835,-0.10424933698959649,0.026775072515010837,-0.03481533620506525,-0.1854892559349537,-0.09057197123765946,0.07971286177635194,-0.09054363202303649,-0.053370860219001774,-0.06005349606275559,-0.15536870732903482,-0.00612514466047287,0.05912447348237038,0.0163361523183994,0.08064121156930924,-0.1478543808683753,0.17828854056133425,-0.005623745918273926,0.06101422756910324,-0.13758576344698667,-0.030791890621185303,0.03855803664773703,-0.032189341634511946,-0.11882521730149165,-0.15671284273266795,0.14476847797632217,0.05721336752176285,0.055996442586183554,-0.06430766806006431,-0.12978182649239897,-0.11393240205943585,-0.0378052182495594,-0.06919709797948599,-0.05723397061228752,0.19983621425926687,0.008202151162549853,-0.08023920580744744,0.039329351484775545,0.02139468565583229,0.11907113008201123,-0.022383360564708712,-0.12536635026335716,0.03221267014741898,-0.053347617201507096,-0.011902768164873123,0.07444606218487025,-0.1271676963195205,-0.05674191974103451,-0.03510226607322693,-0.03813891736790538,-0.06741035487502814,-0.03713558418676257,-0.03527585752308369,-0.005904200457734987,-0.07111109597608448,-0.07465299190953374,-0.09769844673573971,0.07921912744641305,0.07988277897238732,0.0549711786210537,0.030638952553272248,0.03890001215040684,0.020780000276863577,0.14216004088521003,0.033627417683601384,0.10983587596565486,0.08399465000256896,-0.023080090247094634,-0.07817558571696281,-0.1210286557674408,-0.03665465712547302,0.09026596546173096,-0.020497312210500242,0.006879193149507046,-0.11030805595219136,0.024378228932619095,0.023873536288738253,-0.043585444986820224,0.14234095066785812,0.0485710620880127,0.16907449774444105,0.06772846020758153,-0.07295155599713325,8.939802646636964E-5,0.012131096422672273,0.13340061083436014,0.07963942561182194,0.09420908675529063,0.04430862981826067,-0.12818874642252923,0.27020626068115233,0.06509438217617572,0.026931841671466828,0.19718865156173707,0.11358408443629742,-0.06440183315426111,0.07176515907049179,0.10529000014066697,-0.01145325880497694,0.07102865725755692,-0.09483317285776138,0.15036823712289335,-0.07099779397249222,-0.05146113038063049,-0.04666201248764992,-0.02675340473651886,0.057170089334249496,-0.1918705739080906,0.08270595795474947,0.03236784003674984,0.02860127426683903,7.496267557144166E-4,-0.1296475350856781,0.07855758238583804,0.11533716693520546,-0.16169755067676306,-0.11861329898238182,0.08181838691234589,-0.0859385371208191,-0.10654026344418527,-0.027721966430544854,0.0046481467783451086,0.02858527135103941,0.17590581197291613,0.14401154220104218,-0.0969772331416607,0.07707981206476688,-0.027680167555809022,-0.09905283711850643,0.11733518848195673,0.04664841666817665,-0.03754451870918274,-0.013365819025784731,0.11992185264825822,-0.032820569537580016,0.02500871755182743,0.06106812222860754,-0.023167897388339045,-0.009192056953907013,-0.1576060686260462,-0.1945581540465355,-0.038699029386043554,0.06076037846505642,0.04068331699818373,0.028406924009323122,-0.009789635986089708,-0.052580817416310315,0.09591204486787319,0.16183655336499214,-0.14083752781152725,-0.09561864323914052,-0.052892465516924864,-0.14171559885144233,0.14420549422502518,-0.0437742518261075,0.0546325009316206,0.27715543638914825,-0.019590362906455994,-0.0023709416389465334,-0.05500292498618364,-0.06082352548837662,-0.15473070889711382,-0.10563808977603913,-0.08832204900681973,0.21086995899677277,-0.058978259563446045,0.07451087236404419,-0.03224620707333088,0.0808719962835312,0.16309825330972672]                      |\n",
      "|8D636897-79D7-11EB-A554-CB98385CFF1E|CALLE   |LLANOS CONCEPCION           |15   |35007 |Betancuria|CALLE LLANOS CONCEPCION 15 BETANCURIA      |[calle, llanos, concepcion, 15, betancuria]         |[0.031023500114679338,-0.1286557048559189,-0.02565833404660225,-0.009862281009554864,-0.034629038721323016,-0.015231795608997345,-0.0881061180960387,-0.09255163222551346,-0.17029832154512406,-0.061093116551637655,0.055096887052059174,-0.2224076643586159,0.08645782251551282,0.03451894540339708,0.054010736197233206,-0.08069774135947227,0.018122403323650362,0.055215065879747276,-0.07228388115763665,0.034779990499373525,-2.7522593736648563E-4,-0.019821872189641,-0.046991560235619546,-0.060298175364732746,0.007291849330067635,0.09117348790168762,0.13981453124433757,-0.12525635138154032,-0.050724823633208876,0.10055752880871296,0.14442280419170858,-0.12714140973985197,0.07838730625808239,-0.0708327542990446,0.08969470411539078,0.040613692626357084,0.09213859774172306,-0.13430502768605948,-0.007642038352787495,-0.1898124635219574,-0.036153855919837954,-0.04247688883915544,0.12211908884346485,-0.1217351071536541,-0.07549261599779129,0.08111205697059631,0.11389707380440087,-0.01722544609801844,0.0037157028913497926,0.249950510263443,-0.22517071291804314,0.0019021213054656984,9.562551975250245E-4,0.009977669268846513,0.09438598565757275,0.010901404917240143,0.07038078159093857,0.10018695145845413,0.08716816939413548,-0.0594728022813797,-0.007776639785151929,0.03626261278986931,-0.02045743837952614,0.03496427983045578,-0.08628699481487274,-0.03530995212495327,0.09279081523418427,0.13998883739113807,0.0760421309620142,-0.12337097898125648,-0.0771836206316948,-0.03575263561215252,-0.030021265149116516,0.021687071025371554,-0.04952822169288993,-0.0269228033721447,-0.18701421581208708,0.0352704793214798,0.08118166327476502,-0.1720149808563292,0.18284884728491307,-0.1196140930056572,0.06643607914447784,0.13935106042772533,-0.006574153434485197,-0.16384256780147555,0.001137922704219818,-2.981670200824738E-4,-0.08602146357297898,-0.021481413254514338,-0.01838212162256241,-0.1623732551932335,0.17072069719433786,-0.03774101957678795,-0.1169869713485241,0.1209839876741171,0.027579044178128245,-0.045750332053285096,-0.04695639163255692,-0.025683438032865526,0.011383541859686375,0.0408645847812295,0.03170245885848999,0.12442287057638168,0.20036318004131318,-0.08449869751930238,0.01602529245428741,0.1625759616494179,0.13400403186678886,0.03134499341249466,-0.08766613742336632,-0.2136323854327202,0.13094335906207563,-0.08065919429063798,-0.15304257133975627,0.05147489355877042,-0.1020545929670334,-0.025123872235417368,0.013560181856155396,-0.025766667909920216,-0.19155320674180987,-0.05045425072312355,0.13407207168638707,0.06310578510165214,-0.04714493751525879,-0.05136498808860779,0.029128384590148926,0.1003295261412859,-0.044404227286577225,-0.0488265821710229,-0.024890641868114474,-0.01279643513262272,0.08570232167840004,0.11103036999702454,-0.05484119951725006,-0.04318265803158283,-0.24867239221930504,-0.001844308525323868,-0.05279688909649849,-0.03710852237418294,0.11474910527467728,-0.08930359035730362,0.11483371779322625,0.08178896120516584,-0.09553221315145494,-0.05636154934763909,0.182088144440786,6.040416657924653E-4,-0.0015807814896106722,-0.11705663241446018,0.12097794548608364,-0.0062539406120777135,-0.02367801032960415,0.014246857818216087,0.1619956523180008,0.1304394976235926,0.045388429239392285,0.018111444264650344,-0.10362216979265214,-0.07630150830373168,0.11992075070738793,-0.08735154196619987,0.07974250037223102,-0.2259394705295563,0.10618039369583131,0.117476199939847,0.10474683679640294,-0.03266689479351044,0.07840689420700074,0.1682096637785435,-0.007905182242393494,-0.10453542619943619,0.039368752390146255,-0.03782231546938419,0.018936971575021746,0.018556880950927734,-0.044892265833914285,-0.08649513125419617,-0.2296582743525505,0.010585880372673273,0.05217675101011992,0.02092999750748277,0.09151655510067941,0.0048282725736498834,-0.15504869101569058,-0.11948767602443695,-0.04886288717389107,0.1438153475522995,0.1670691778883338,-0.08397360667586327,0.07790478616952896,0.03266590777784586,0.050211355090141296,0.0458163071423769,0.11429758500307799,-0.07453669141978025,-0.04749138094484806,0.040241061337292196,-0.11753257289528847,-0.013202103227376938,-0.0418660257011652,0.04318542452529073,-0.02169806957244873,-0.013444419391453266,-0.08437280468642712,0.09406599998474122,-0.11252200342714787,-0.06691128760576248,0.14912523925304413,0.018365575373172762,-0.0218447613529861,0.05576307885348797,-0.08216085862368346,-0.1671663410961628,-0.10823587086051703,-0.005850013345479965,0.005218658968806267,0.21658099964261057,0.013876033946871758,-0.3192948535084725,0.24256196022033694,0.1333302971441299,0.13551951795816422,0.03014453314244747,0.14425412975251675,0.035928984917700295,-0.10375663340091706,0.039733659476041794,0.053138666041195395,-0.04002791345119477,-0.09462902247905731,-0.05667113400995732,-0.10778035372495652,0.005074926465749741,0.006483139283955098,0.09245000109076501,-0.024138546735048297,0.04924772530794144,-0.03715668013319373,0.031120361154899003,-0.14543855153024196,0.048134133964777,0.05769101269543171,-0.10113940238952637,-0.04964037537574768,0.029763776995241645,1.6520321369171143E-4,0.031024580448865892,-0.1402997188270092,-0.0207332119345665,-0.03459547683596611,-0.12136743273586036,-0.1344062814489007,-0.10442914739251137,0.11697534173727037,0.03531087464652956,0.0830318070948124,-0.09078021720051765,-0.012805931270122528,-0.08843690035864711,-0.04676126688718796,-0.06636042445898056,0.07018241984769702,-0.11241430714726448,-0.08631481844931842,0.08407140076160431,-0.043112679338082674,-0.009147752821445466,-0.07273976281285287,-0.007478686328977347,-0.23426385931670668,0.05425797700881958,-0.16258139610290528,0.11470543276518584,0.10111089944839478,-0.0809738650918007,0.08969814758747817,-0.036616360396146776,0.03524929424747825,-0.1731453649699688,0.044624486565589906,-0.086296477005817,0.11305705308914185,0.1369306117296219,-0.03812035508453846,-0.17600364051759243,0.1024034536909312,-0.049494016123935586,0.05615244060754776,-0.08439013231545688,-0.03179569561034441,-0.1222603052854538,-0.012908364087343216,0.04295444060117007,0.04827904030680657,0.022304666787385942,0.03451364561915398,-0.05336856336798519,0.09586721900850535,0.08509080633521081]                                            |\n",
      "|62F08984-3251-11E8-AA10-480FCF5217B3|CALLE   |RESBALADERO                 |48   |35015 |Pájara    |CALLE RESBALADERO 48 PAJARA                |[calle, resbaladero, 48, pajara]                    |[0.0961654968559742,-0.0063523463904857635,-0.02369450218975544,-0.009085212834179401,0.008968756534159184,-0.06978587992489338,0.012293005362153053,-0.2493032393977046,-0.0900811543688178,-0.03318139165639877,0.1630045874044299,-7.759416475892067E-4,-0.01580187160652713,0.13844521529972553,-0.05431107059121132,0.025407184846699238,0.0674300865503028,-0.06443568877875805,-0.007221836596727371,0.033810293578426354,-0.11124016344547272,0.07650948781520128,0.12819954007863998,-0.057293911930173635,0.08697676099836826,-0.05147395748645067,9.869977366179228E-4,0.037577051436528563,-0.030237420462071896,-0.07098122080788016,0.14594913180917501,-0.198716145940125,-0.04977209120988846,-0.007678594905883074,0.18578286934643984,0.07625875738449395,-0.0849231886677444,0.16356574930250645,-0.08225002069957554,-0.012481645680963993,-0.08118209918029606,0.05369987711310387,0.17979469522833824,-0.08100600913167,-0.0111595643684268,0.03865890484303236,0.004087311186594889,-0.006810953840613365,-0.1343555715866387,0.06163237086730078,-0.018966484116390347,-0.11096871271729469,0.10187790542840958,0.03515930287539959,-0.0171270789578557,0.08716001268476248,0.07484034786466509,0.09856424061581492,-0.061696065589785576,-0.10804049484431744,0.126243632636033,0.06778053659945726,-0.006662718951702118,0.05401035398244858,-0.04637748980894685,-0.03358196746557951,0.03963178303092718,0.053095136769115925,0.03786681825295091,-0.05000308575108647,0.04813050106167793,-0.14976534713059664,-0.013849289622157812,0.029690808325540274,-0.07160887308418751,-0.07524977228604257,0.01766824023798108,-0.04851668793708086,-0.010614086408168077,-0.15967806347180158,0.10330080380663276,-0.013241274515166879,-0.021124811377376318,-0.01883254968561232,-0.12539973203092813,-0.10826234519481659,0.11489498987793922,0.008550332859158516,-0.09231586009263992,-0.01028579130070284,0.11781942052766681,-0.020326573867350817,0.0929985218681395,0.04115155339241028,-0.10302519612014294,-0.1343314633704722,-0.04982346436008811,0.055384923485689797,-0.014634914696216583,-0.076178272604011,-0.08243751781992614,0.05453737126663327,0.18813205230981112,0.009800068102777004,0.09787677321583033,-0.11967030167579651,0.08179919375106692,-0.01874340884387493,0.06764492578804493,0.018312382511794567,0.10662739269901067,-0.16648607864044607,0.0916223656386137,0.06884354539215565,-0.10235606180503964,0.06157522229477763,-0.005548145622014999,0.010473905364051461,-0.04673856915906072,1.6062194481492043E-4,-0.06346913415472955,0.014415353536605835,0.08068752521649003,0.08779316022992134,-0.010870741680264473,0.06123180501163006,0.07031569816172123,0.16166895208880305,-0.12414532504044473,-0.052289609564468265,-0.06671290192753077,-0.07542669400572777,0.030026040971279144,-0.01919214567169547,-0.002720491960644722,0.014623148832470179,-0.013009299524128437,0.009748518496053293,0.06860828772187233,-0.04929235705640167,0.022326570469886065,-0.1290141474455595,0.04322419036179781,-0.00504278858716134,0.00624773558229208,0.011461075395345688,0.05884181561486912,-0.1519260359928012,0.06727287406101823,-0.09161074040457606,0.038793471874669194,-0.05420960020273924,-0.08139799907803535,-0.008146768435835838,0.10776244476437569,-0.0465500857681036,-0.0546389264636673,0.08927502576261759,-0.012156585231423378,0.09858235262800008,0.023720456287264824,0.03282915661111474,0.07844257331453264,-0.015515891835093498,0.02079186961054802,-0.01481854822486639,0.17158288788050413,0.06545879389159381,-0.007992814294993877,0.1772831128910184,-0.036585090832886635,-0.11748682614415884,-0.012964292080141604,0.06633050795062445,0.21597817772999406,-0.022630135994404554,-0.04690860235132277,-0.11891967337578535,-0.10208404110744596,0.05830383824650198,0.06405889731831849,0.05103992123622447,0.06474152696318924,0.020296906121075153,0.016291809384711087,-0.09899528743699193,-0.09239825792610645,-0.028312435373663902,0.03525113686919212,-0.08336277399212122,-0.010781798046082258,0.05782094318419695,0.20483645610511303,0.07587707624770701,0.10751134250313044,0.08964799717068672,-0.0010315529070794582,-0.08381212106905878,-0.010300424881279469,0.07312709046527743,0.00619650399312377,-0.05011424235999584,0.03191764373332262,0.10546134342439473,0.014563055243343115,-0.04756803531199694,-0.06518208235502243,0.025652726646512747,0.014075494138523936,0.047892977483570576,0.10351284372154623,0.08545540599152446,-0.14935445599257946,-0.01782950945198536,-0.06305164494551718,-0.05066151823848486,0.1187775144353509,0.01440532598644495,-0.04842248046770692,-0.13536321558058262,0.10921182297170162,0.09793133527273312,0.01279605575837195,0.1389602404087782,-0.06685433443635702,-0.0379202791955322,-0.05003450904041529,-0.007036912371404469,-0.02531982003711164,0.12583664432168007,0.013195681385695934,-0.03226932184770703,-7.591657340526581E-4,-0.09284860035404563,0.0530748562887311,-0.07754155294969678,-0.032845760229974985,-0.13150568678975105,-7.257679244503379E-4,0.02008591080084443,-0.045766687486320734,-0.04455469688400626,-0.02126165572553873,0.016219505574554205,0.1184845706447959,-0.06704043387435377,0.02609714586287737,0.08527399739250541,-0.01927370298653841,-0.055984091479331255,-0.06458577327430248,-0.07636406738311052,0.012908709468320012,0.06284325942397118,0.09290192648768425,-0.021481025964021683,0.035581575240939856,-0.08845596702303737,-0.027263788506388664,-0.11181681475136429,0.12624960322864354,-0.00926782563328743,-0.05063252442050725,0.0635017529129982,0.022465950809419155,-0.017139713279902935,-0.03698167373659089,-0.03480107197538018,-0.019407693296670914,-8.902002591639757E-4,-0.1456346996128559,-0.04130321228149114,-0.03237284254282713,-0.05543128517456353,-0.005806824192404747,-0.18486989475786686,-0.004398426812258549,0.11567956302314997,0.026953911408782005,-0.1345672938041389,-0.03917244030162692,-0.08986210729926825,-0.019365868996828794,0.11127459164708853,-0.09318823658395559,-0.09768023109063506,0.07576082344166934,0.0014924402348697186,0.046798736322671175,-0.05628361855633557,0.13598547037690878,-0.08681877981871367,-0.04723174870014191,-0.05414681462571025,0.02988716121762991,-0.1563838655129075,0.13592921569943428,0.012089032214134932,0.023831906728446484,-0.04699401557445526]               |\n",
      "|687F05C8-3251-11E8-AFDC-480FCF5217B3|CALLE   |JOSE ANTONIO PRIMO RIVERA   |11   |35011 |Ingenio   |CALLE JOSE ANTONIO PRIMO RIVERA 11 INGENIO |[calle, jose, antonio, primo, rivera, 11, ingenio]  |[0.07849068833248955,-0.09580936761839048,0.07170257344841957,0.00991996085005147,0.11751475451248032,-0.06891084675277982,-0.05679666277553354,0.009846734922445777,0.03285642833049808,-0.08821132725902965,0.07201162938560758,-0.18848514769758495,-0.14976889370882418,0.15435620423938545,-0.08236272313765117,0.041655681761247766,0.05757142257477556,0.10927043043609176,-0.02723701762235058,-0.03540151457335534,0.003922857344150543,0.031618809194437096,-0.01729298782135759,-0.0524488258025875,0.11230366038424627,0.11185371662889207,0.04865668248385191,0.0052657755357878545,0.12332211381622722,-0.033910492035959444,0.12562261900997587,-0.13377823175064155,-0.014425331892977867,0.014076781326106616,0.04557653529835599,-0.015336427571518079,0.1205237614256995,0.13271813467144966,-0.003951999026217631,-0.006240628659725189,-0.06648576951452663,-0.017047543610845293,0.013469151412469467,-0.03377487962799413,0.036115454975515604,0.016930413033281053,-0.11752184841316193,0.08418803289532661,0.07274704998625176,0.08569183140727026,-0.10649342435811246,0.10217738736953054,0.13918992451259068,-0.055713607264416556,0.046369049831160476,0.05553528427013329,0.025657227795038904,0.1976041876311813,-0.036954928056469986,0.015468293002673557,-0.01178605601723705,-0.0485990893627916,-0.13250090501138143,-0.1397323945005025,-0.04396059297557388,-0.1122690536347883,-0.13472768877233776,0.01545706856995821,0.15621309055547627,-0.24721463716455866,0.06762233496244464,-0.09229335880705287,0.0332992235198617,-0.01686810409384114,-0.05093657597899437,-0.09108063791479383,0.007046681429658617,-0.05546510725149086,-0.018788277371121303,0.07243206611435328,0.058135995109166415,0.059602558812392605,0.13103518741471426,-0.0892076435099755,-0.10229528163160596,-0.10374278096216065,-0.008312814735940524,0.01486504284132804,0.005955525806971959,0.1911725472060165,0.03532153155122484,-0.22142109008772032,0.18905047859464372,0.010215121587472302,-0.05121576100853937,-0.09565944843260304,0.10067836754024029,-0.008073278162295796,-0.015257632093770162,0.011553664292607988,-0.12418999349964516,-0.03579521259026868,0.2644420266151428,-0.039099555994783125,0.03211803627865655,-0.22139400775943482,0.043610919000846994,0.11945073439606597,0.013581969376121248,-0.13593080852712902,-0.0012268108049673693,-0.214926542448146,0.10587343041385923,0.004518432276589529,0.1084750262754304,0.0014456382819584437,-0.07831343050513949,-0.06422129566115992,-0.012954214188669409,-0.09244444434131895,-0.09170587853129421,0.01476061445594366,0.015935187361070087,0.14436495729855128,-0.23768761168633187,0.006765474166188921,0.15712543576955795,0.02307408595723765,0.11196193524769374,0.055955038904877644,-0.07838682856942926,-0.13413486150758605,-0.11267840503049747,-0.0170653173699975,0.13836450635322503,-0.018465128860303333,-0.014640951263053075,-0.060043978854082525,-0.05804315209388733,0.09718966377632958,0.023763750280652727,0.044462923359658034,0.025940257124602795,0.02557764105066391,-0.03871768819434302,-0.2009270457284791,0.17400472208100837,0.10663412697613239,0.14211805590561458,0.03971755391518984,0.05395897597606693,-0.08820600262177841,0.01005385975752558,-0.029536511216844828,0.18393257557181641,-0.07366466628653662,0.0844337482537542,0.028170808617557795,0.09211540502396279,-0.030037949593471627,-0.08996649831533432,-0.23275518630232128,-0.023019553162157536,-0.2547981488917555,0.11043316152478967,0.07987903926654585,0.043203050004584444,0.04701500894900943,0.3115238882601261,0.07954779957487647,-0.016687729795064245,0.13726765289902687,-0.1138729979949338,-0.10697354043700864,0.12464313954114914,0.08946741917835814,-0.14736576844006777,-0.03995409794151783,-0.1116445961275271,-0.008749773127159901,0.0017774763317512613,0.06738674115123493,-0.10234736917274338,0.0018806460180452891,-0.11548156337812543,-0.11951568775943347,-0.12647320409970622,0.1152872805084501,0.2024762864623751,-0.04521244391798973,0.03078034706413746,-0.015449617606853799,0.05136466292398316,0.10437336550759417,-0.16435403855783598,0.05854403041303158,0.006280997501952307,-0.14766501221207104,0.14221653315637792,0.1289002067808594,-0.18446770523275646,-0.06626132263668945,-0.07897593666400228,0.08945192197071654,0.05855666007846594,0.034771823191217015,0.013378633186221123,0.0859348393444504,0.15093007018523555,-0.08112479985824653,0.2235500544442662,-0.050258502896342955,-0.035610152408480644,-0.20597632761512483,-0.13223528010504584,-0.035775565143142424,0.07397226669958659,0.12732581328600645,0.03417917287775448,-0.16353675190891537,0.1801643648317882,0.2285272056303386,-0.06030901240384472,0.22144134821636335,-0.025848847946950367,0.018981051897364,-0.07298653439751693,0.11727407654481274,0.0670820494581546,-0.02077664594565119,0.09726430435797997,-0.14186197625739233,-0.21615135722926684,-0.2196505974446024,-0.01198474151481475,-0.03145577173147882,0.06013073452881404,-0.05752473058445113,-0.04058149849463786,-0.07960710734395043,0.085679159765797,2.604580617376736E-4,0.08723314532211848,-0.08102438685351183,0.13024820759892464,-0.06695117867950882,-0.06236981547304562,0.08283951825329235,-0.29710554597633226,-0.19185596172298702,-0.11133029385070715,-0.1524642634072474,-0.05479289099041904,0.10607012600771018,0.11954544697489057,0.030547388280475776,-0.06010078000170844,-0.06275255020175662,-0.005762984044849873,0.24892110038282614,0.18832603522709437,-0.024668086054069654,0.06978281873411366,0.0510955314551081,-0.1568504472130111,0.137811115277665,-0.015806892786973288,-0.18899583683482238,-0.026222962087818553,0.10628091863223484,-0.23276379065854208,-0.006332801654934883,-0.2319198953253882,0.021034743503800458,0.0892724437373025,0.02575075519936425,0.014150785282254219,-0.1804801348064627,0.19801917885031017,-0.015203958244196005,0.07148949003645351,0.09894282252727342,-0.14387008388127598,0.20176636108330318,-0.05387431808880397,-0.043466404878667424,0.3208153395514403,0.03462191777569907,0.1492775987301554,0.13629659092319862,-0.04321183357387781,-0.1464509775063821,-0.03749711013266018,-0.05147507893187659,0.11013531245823417,-2.714379557541438E-4,-0.0021079140050070627,-0.07545399985143116,0.2147413207484143,0.059881032045398436]                                                |\n",
      "|78476475-3251-11E8-8EB9-480FCF5217B3|CALLE   |AZUCENA                     |17   |35002 |Agüimes   |CALLE AZUCENA 17 AGÜIMES                   |[calle, azucena, 17, agüimes]                       |[0.1056120756547898,0.003402118105441332,-0.04552072752267122,-0.020070713479071856,-0.002727637067437172,0.06029076036065817,-0.0731741189956665,-0.024367310106754303,-0.1841159723699093,0.01274079643189907,-0.013094549998641014,-0.028728794306516647,-0.006714922321407357,0.007514383178204298,-0.014081265078857541,0.039326826110482216,8.415058255195618E-5,-0.013989054365083575,-0.11100208573043346,-0.042175358583335765,0.015911638707621023,0.033570494764717296,0.012758398428559303,-0.09493181388825178,0.09667253959923983,-0.0806096950545907,-0.06131889368407428,-0.03010800527408719,-0.009328658226877451,-0.05564656388014555,0.03717751055955887,-0.1333752330392599,0.04821307398378849,0.041000917088240385,0.10668344423174858,0.04505327669903636,-0.021436322946101427,-0.05874038301408291,0.10155288456007838,-0.025739765726029873,0.02147466130554676,0.12087376695126295,0.2192253628745675,-0.08404819713905454,-0.002409782260656357,0.12660498544573784,-0.01165838007000275,-0.07218556385487318,-0.05093928088899702,0.10212623421102762,0.027055726386606693,0.030306166037917137,-0.05952316150069237,0.07124471943825483,0.036255117040127516,-0.03426824932103045,-0.15251917950809002,0.10472427634522319,-0.05509324977174401,-0.054030779749155045,-0.04286952689290047,-0.05213596997782588,0.008887520991265774,0.056813403964042664,-0.08426958881318569,-0.09154930524528027,0.18627219647169113,0.08107990026473999,-0.05156994750723243,-0.04833500599488616,0.05415542836271925,-0.08546023489907384,0.011991089209914207,-0.03298980463296175,-0.11229287460446358,-0.03514105500653386,-0.05959915416315198,-0.01873230468481779,-0.045170703902840614,0.05288077599834651,0.04895313875749707,-0.03971628379076719,-0.07193445600569248,-0.023264319403097034,0.038069942966103554,-0.04057241545524448,-0.010156761825783178,0.07740043278317899,0.03657954349182546,-0.06725947349332273,9.930687956511974E-4,-0.1442141905426979,0.12025934376288205,-0.05700130760669708,-0.07753374613821507,0.009504124522209167,-0.11732943682000041,-0.06594628676248249,-0.281613077968359,-0.061775469686836004,-0.07327741454355419,-0.027783032041043043,0.05696889944374561,0.02154838154092431,0.14721442572772503,-0.11499087885022163,0.02487315284088254,0.0221224952256307,0.06304274778813124,0.005806630477309227,0.09162415855098516,-0.15447893971577287,0.11156771145761013,0.06458144169300795,-0.047887583772535436,-0.049257714534178376,-0.23156158532947302,0.0030947727609600406,-0.07514478825032711,-0.032963027246296406,-0.06971026957035065,-0.018532695481553674,0.06216765055432916,0.11657010018825531,-0.12873308267444372,0.044064025627449155,0.1374326185323298,-0.013879505451768637,-0.0786995473317802,0.0050247833132743835,-0.04002181999385357,-0.1136211957782507,-0.005643205484375358,-0.03259799163788557,-0.1391307208687067,-0.10275719733908772,0.07713008020073175,-0.016103925183415413,0.09975715912878513,-0.0059957243502140045,0.028263552114367485,-0.12573067541234195,-0.011678721173666418,0.05817063989525195,0.12670366279780865,-0.17047460563480854,0.14027440121935797,0.02680208906531334,-0.021391721442341805,0.08905608346685767,-0.06267526373267174,-0.021728145075030625,0.045685626566410065,-9.43097285926342E-4,0.05628411192446947,0.0669953040778637,0.061798870912753046,0.014377343468368053,-0.12413576641120017,0.0029144223080947995,0.018065936863422394,-0.11605269578285515,0.06025603483431041,-0.19812423549592495,0.21208088472485542,0.14942419156432152,0.008039546199142933,0.049306368455290794,0.005025967489928007,-0.018259920179843903,-0.10332161257974803,0.005796326557174325,0.05017019063234329,-0.020442301174625754,-0.052714808989549056,0.10411822353489697,-0.14526407117955387,-0.03745895903557539,0.020361431408673525,0.09126796538475901,-0.047194775426760316,0.03370052145328373,0.019497113302350044,-0.005370275117456913,0.021661763661541045,-0.10488657373934984,0.0375409796833992,0.056934939697384834,0.05453514587134123,0.013677582610398531,0.03684774413704872,0.048776281997561455,0.07064564153552055,0.026126833632588387,0.10192565433681011,0.025468613021075726,0.06852773251011968,-0.005066599464043975,0.02788997534662485,0.008607458439655602,-0.030814412981271744,-0.0020970709156244993,0.1697336519137025,0.05756426556035876,-0.11490902910009027,0.009742667898535728,-0.09474273188970983,0.07031115796416998,0.061491197906434536,0.08231187798082829,0.1312848242232576,0.08282705117017031,-0.12221146794036031,-0.06976568605750799,-0.12672750744968653,-0.023306486196815968,0.1936849867925048,0.017402836121618748,-0.0841676652780734,-0.08568292739801109,0.2539402097463608,0.06359758792677894,-0.029378456063568592,0.07519887946546078,-0.03600845648907125,-0.05937385908327997,0.04684090614318848,-0.07705078646540642,-0.02091789315454662,0.0464630126953125,-0.03084876388311386,-0.10332056821789593,-0.06540252454578876,-0.18491708487272263,0.1377985724247992,0.042739114724099636,-0.08296602964401245,0.004987762309610844,-0.016902826144360006,0.1231266790709924,0.08618726441636682,0.008619360625743866,-0.061128931993152946,-0.12063699634745717,0.19944696128368378,-0.10535589861683547,-0.06843499513342977,0.057990734465420246,-0.07169116754084826,0.026272728806361556,0.0576794242952019,-0.04852454923093319,0.017870317911729217,0.126814128132537,0.16266270983032882,0.006751791574060917,7.926048710942268E-4,-0.0987653424963355,0.02399271773174405,0.038364639156498015,0.0016869399696588516,0.043575967429205775,-0.08601784997154027,0.03659564914414659,-0.009464867878705263,0.07249612174928188,-0.0526209267845843,-0.11582308681681752,-0.0813942588865757,-0.06165528774727136,0.007421547546982765,0.09883217234164476,0.04938882030546665,0.025308703654445708,0.052859241142868996,0.075452771037817,-0.019413704052567482,-0.012329347431659698,0.07163367001339793,-0.16729025053791702,0.00274793547578156,-0.032334825955331326,-0.1289842256810516,-0.0381926354020834,-0.038134755566716194,0.015309649053961039,0.1632654012646526,-0.09864421840757132,0.07982733403332531,-0.1486509821843356,0.0541480949614197,0.012603938579559326,-0.22725574485957623,0.020910791354253888,0.03219428472220898,4.836255684494972E-4,0.10347731970250607,-0.0946949424687773,-0.009598157368600368,-0.0018941073794849217]     |\n",
      "|70F51364-3251-11E8-A22D-480FCF5217B3|CALLE   |CALLEJON JUAN DENIZ PLANTA 3|10   |35012 |Mogán     |CALLE CALLEJON JUAN DENIZ PLANTA 3 10 MOGAN|[calle, callejon, juan, deniz, planta, 3, 10, mogan]|[-0.013257046812213957,-0.1623806597199291,0.03485314780846238,-0.05003099632449448,0.06291372166015208,-0.04587825573980808,-0.12658635240222793,-0.05371071444824338,-0.01130752608878538,0.044967205729335546,-0.06939003965817392,-0.017662527738139033,-0.011689598877637764,0.09234774205833673,0.010875075124204159,-0.0041177598759531975,-0.009641935117542744,0.07133451569825411,-0.07315850700251758,-0.042984998879546765,0.007776243262924254,0.08356745005585253,-0.03983564468217082,-0.023270852980203927,-0.00813761365134269,-0.11049953522160649,0.026672082138247788,0.028874510433524847,-0.016768205212429166,-0.06307276943698525,0.06481108807201963,-0.16962841962231323,0.0472570612328127,6.439368007704616E-5,0.10443861200474203,0.036159960785880685,-0.0337994669098407,0.033977878163568676,0.085592555871699,-0.09324513608589768,-0.06228617049055174,0.08151391451247036,0.0547698246082291,-0.10639301245100796,0.011010110145434737,0.056376955937594175,-0.015258446466759779,0.02364398364443332,0.03178379771998152,0.13494880916550756,-0.05312021996360272,0.04657445568591356,0.056201140861958265,-0.02823896985501051,0.055746449739672244,-0.06184176588431001,-0.06480189994908869,0.13360282639041543,-0.0178445796482265,-0.0700267783831805,0.043577183154411614,-0.03158881003037095,-0.027937634848058224,-0.07832287705969065,-0.07018924097064883,0.016731214622268453,0.14920838549733162,-0.01517733745276928,0.008817936759442091,0.049988278187811375,-0.012171457477961667,-0.1289762039668858,0.07727756910026073,-0.025543932046275586,-0.020851017616223544,-0.036593634402379394,0.03438704967265949,0.08699477945629042,-0.012766462517902255,0.0623766488279216,0.01348832919029519,0.06693707802332938,-0.003386564552783966,-0.08147992810700089,-0.058172624092549086,-0.008895732695236802,-0.012594026629813015,-0.011401531286537647,-0.0744727915734984,0.001647928002057597,-0.015108372310351115,-0.0826299749314785,0.020150864263996482,-0.06945414422079921,-0.09940931317396462,-0.027670682058669627,-0.12207338819280267,-0.007749299162242096,-0.12833892740309238,-0.10839661164209247,-8.913400815799832E-4,-0.10855940531473607,0.14743634848855436,0.11971110105514526,0.17103413585573435,-0.20346872368827462,0.02865343587473035,0.10136886534746736,-0.04317389568313956,0.006263843737542629,0.13432094367453828,-0.04230132341035642,0.09833065373823047,-0.007648904458619654,-0.08079486759379506,0.03799712425097823,-0.10207041978719644,-0.06938755349256098,0.04782663029618561,-0.04085444426164031,-0.08304417942417786,-0.013579080463387072,0.04691066197119653,0.037575389025732875,-0.13632918940857053,0.0035995931830257177,0.12399772694334388,0.035950757563114166,-0.026957145368214697,-0.029007506207562983,-0.09431841806508601,-0.09268316999077797,-0.04947048146277666,-0.0936075808131136,-0.05740540660917759,-0.010434844414703548,0.037725864443928,0.030328549502883106,0.0984083591029048,-0.12577610090374947,0.01876117312349379,-0.012233731802552938,0.032325190026313066,0.11155770834739087,-0.14979342394508421,-0.13225818329374306,0.17482454070159292,0.06544284033589065,0.07010127999819815,-0.00661742826923728,0.06038684258237481,0.013024206040427089,-0.016216022428125143,-0.10112228617072105,0.005191746633499861,0.19655688852071762,0.14219709299504757,0.033145598921692,0.04018232272937894,-0.07127874850993976,-0.03494913049507886,-0.016271020518615842,0.14082427264656872,-0.0874240054981783,-0.04258022643625736,-0.062269491638289765,0.0568736931309104,0.04600902894162573,0.02981849736534059,0.15038212900981307,-0.010163113474845886,-0.02370391899603419,-0.03679641417693347,0.04106812353711575,0.13904266461031511,0.07324915321078151,-0.1580250853439793,-0.030775443417951465,-0.08302722428925335,0.061048181683872826,-0.045520358136855066,0.06352882186183706,0.011327942949719727,-0.014473339542746544,-0.14696089940844104,-0.13071455981116742,-0.03985528816701844,0.06575109087862074,0.07550690602511168,-0.05356103298254311,-0.045713874977082014,0.02868291299091652,-0.060270750895142555,0.11488324211677536,-0.031228833366185427,-0.02414231572765857,0.03932944277767092,-0.028963951277546585,-0.012419137172400951,0.020184104098007083,0.02959494806418661,-0.05969072016887367,0.08034821785986423,0.01688542019110173,-0.10517380456440151,0.14381123799830675,-0.051822357811033726,0.010794567875564098,0.06196998688392341,0.06298340135253966,0.20983841345878318,0.02289893475244753,-0.04203928785864264,-0.13139211549423635,-0.03614937886595726,4.925760440528393E-4,0.08066366147249937,0.07377276732586324,-0.08746980992145836,-0.1550123430788517,0.10920668113976717,0.09675579742179252,0.17508248751983047,0.1542349811643362,0.017603287240490317,-0.010043614660389721,-0.030027997330762446,-0.07915516931097955,0.12491860466434446,0.04530036961659789,0.03690229612402618,0.0018820802215486765,0.002037474885582924,0.0018141288310289383,0.08702604495920241,-0.0712413964793086,0.013707526348298416,0.004658644087612629,-0.047737618384417146,0.023853981168940663,0.01728564966470003,0.043502748711034656,-0.027641776367090642,-0.03274569648783654,0.0733150988817215,-0.12487115699332207,-0.05332730012014508,0.15335258468985558,-0.020790319787920453,-0.09649362228810787,0.05305950006004423,-0.014558785478584468,-0.04316177137661725,0.10770974529441446,0.15934011666104198,-0.04254750697873533,0.0771262978669256,-0.016944593866355717,0.007210043258965015,0.06611213798169047,0.07989785773679614,-0.135767069645226,0.002140000753570348,-0.04514208622276783,-0.01041445619193837,0.11257343646138906,-0.022459477215306833,-0.015209181467071176,-0.03316337079741061,-0.01203090080525726,-0.11812881287187338,0.06561025325208902,0.05244959285482764,-0.019406824023462832,0.05521581100765616,-0.09331939602270722,0.0717606139369309,-0.03273688181070611,0.13100928394123912,-0.07598205446265638,0.08030686783604324,-0.013402798678725958,-0.04782614950090647,0.09988319082185626,0.029315199237316847,-0.12019845051690936,0.17100496040438884,-0.10116382874548435,0.05475590692367405,0.05613719346001744,0.033587530720978975,-0.002937899923608711,-0.18613395387728815,-0.023806976721971296,0.05337789375334978,0.027015176601707935,0.06684909039177,-0.12505878694355488,0.02738224097993225,0.03799652121961117]      |\n",
      "|749DE178-3251-11E8-BB61-480FCF5217B3|CALLE   |PITERAS                     |12   |35014 |La Oliva  |CALLE PITERAS 12 LA OLIVA                  |[calle, piteras, 12, la, oliva]                     |[0.11743622422218324,-0.0027130544185638428,0.10089851841330529,0.014782509952783586,0.13370101898908615,0.0016591284424066544,0.07417332818731666,-0.12802453399635852,-0.13922899812459946,-0.01891802176833153,0.0011051815003156663,-0.11837080791592598,0.1289635301072849,0.04916311986744404,-0.07861210629343987,-0.07128062248229981,-0.1245453178882599,-0.053016914054751396,-0.027839161083102228,-0.11096363734686748,-0.06877260480541736,-0.08724308013916016,-0.02923085652291775,0.017616095021367073,-0.06911841928958894,-0.11188510917127133,0.08460190445184708,-0.12602352127432823,-0.08193978443741799,0.13377430178225042,0.14019554788246752,-0.11005087830126287,-0.13944261306896807,-0.10997988767921925,0.12840957790613175,0.05809468142688275,-0.12383814752101899,0.03688555173575878,0.0036876348778605464,-0.019547325372695924,-0.09184530079364778,-0.006946669891476631,0.0517526020295918,-0.08375607877969743,-0.19224091172218324,0.07882344480603934,0.01552143970038742,0.11664575748145581,0.014177408814430238,0.03762103170156479,-0.15859169438481333,0.05982548296451569,0.11222256347537041,0.06613294333219528,0.10662214942276478,0.027909024292603137,-0.050618393719196325,0.16398392729461195,0.023529112525284293,-0.11928157731890679,0.0417495958507061,0.19488385932054372,-0.04962714985013009,-0.03184725306928158,-0.054250221326947214,-0.13143495842814445,0.09255649968981744,0.09705305397510529,0.049969643354415894,-0.043205215036869055,-0.012701856717467309,-0.13970170095562937,0.046591275930404664,-0.0466757245361805,-0.06868261098861694,-0.11943962052464485,0.005139437876641751,-0.1047464743256569,-0.01723911464214325,0.01822520224377513,0.062494132295250894,-0.01781555190682411,0.15095284134149553,0.0927805157378316,0.006350161880254746,-0.09176208376884461,0.08080903738737107,-0.03277737507596612,0.02909199744462967,-0.11975189750082792,-0.03050740323960781,-0.011136954277753831,-0.031231103092432023,-0.027194473613053563,-0.1783428579568863,-0.13938938155770303,-0.09852988049387933,0.14714706811355427,-0.021928449720144273,0.014585319533944131,-0.009027050249278546,-0.07102951295673847,0.15909057557582856,0.03476001620292664,0.18126117400825026,-0.11491911187767984,0.04575454266741872,0.04809513241052628,-0.053010175377130514,0.0617705887183547,0.16480857143178584,-0.07372605949640275,0.20974128097295763,-0.06547764241695404,0.02399817928671837,0.14076832421123983,-0.18242397755384446,-0.11816554702818394,-0.10069263577461243,0.09255509451031685,-0.06212502419948578,0.009297684766352177,-0.017721786722540857,0.014707776345312597,-0.13631086386740207,0.06648358218371868,0.07841526567935944,0.18367950059473515,0.024110784381628038,-0.0465694921091199,-0.019769182056188585,-0.1476340875029564,0.10151094347238541,0.07078255042433738,-0.04183445535600186,-0.11007135622203351,0.0358163021504879,0.06030150577425957,-0.011124201118946075,-0.07654186971485616,0.0709745317697525,0.2462905250489712,-0.08251470550894738,-0.08555286565097049,0.04774274826049805,-0.26677246689796447,0.1875596168829361,-0.054117050021886826,-0.047907959669828415,-0.011010952387005092,0.02506789788603783,0.03453520089387894,0.08801153004169465,-0.14321258664131165,0.12196179144084454,0.09295499324798584,-0.0308205945417285,0.02846229672431946,-0.017720233649015427,-0.14104005312547088,-0.11844907179474831,-0.007646206021308899,-0.04110637437552214,-0.14270582646131516,0.041306829452514654,-0.15854455530643463,0.06742741032503545,0.006559108197689057,-0.0041131891310215,0.09900425300002098,0.025026290118694308,0.063970823190175,0.00404498428106308,-0.10934487190097571,0.04623803645372391,0.07258831355720759,-0.2295666327700019,0.12004689574241639,-0.09412126652896405,0.12528408588841558,0.05885137263685465,-0.11090970551595092,0.020922246575355533,-0.005106616765260696,-0.009564350824803114,-0.10557740298099816,0.07036199094727635,0.05239526331424713,0.029450003802776337,0.022709751129150392,0.05867344569414854,0.016984294354915618,0.09205410927534104,0.13311689272522928,0.07871222198009492,0.011187170259654523,0.036795384064316754,-0.04272721912711859,-0.10692263916134835,0.11372130997478963,0.01408277601003647,0.039771448355168104,0.15247846320271494,0.1259727230295539,0.044223644956946376,0.12775433883070947,-0.03769591301679612,0.009378363192081452,0.03444401472806931,0.11758603006601334,0.1649872031994164,-0.0352425460703671,-0.03280350789427757,-0.18009247705340387,0.13093954920768738,-0.013139446079730988,0.03948475420475006,-0.011044054478406907,-0.0985330542549491,-0.22493470013141634,0.09088805653154851,0.11111870226450266,0.10661859586834908,0.2053808182477951,-0.03360908590257168,-0.011339895240962506,-0.24598208698444068,0.18548249639570713,-0.08046741019934417,0.14091667830944063,-0.05918712931452319,-0.046542280539870265,-0.19670196920633318,-0.12139049470424652,0.06402452029287815,-0.07204428128898144,0.059115019440650944,-0.12833537757396699,-0.09933420037850738,0.021106706559658052,0.04034304507076741,-0.08675072640180588,-0.07073694095015526,0.041438419930636884,0.13887075781822206,0.0431701684370637,0.0378445141017437,0.02178408280014992,-0.009801363199949266,-0.16488214954733849,-0.07139586061239243,-0.13077114447951318,-0.009402652271091938,0.1495205268263817,0.21328426301479342,-0.15414299219846728,0.12453262992203236,-0.029724767850711944,0.04727929756045342,0.056400073086842896,0.07749033644795418,0.1456425353884697,0.022849185299128296,-0.05521533600986004,-0.08779580877162517,0.12067549154162407,-0.10482454509474337,-0.060681053623557094,-0.06139091886579991,0.016113893780857324,-0.1511331930756569,0.07076725214719773,-0.06151001378893853,0.06842533256858588,-0.01719445288181305,-0.09821918010711671,0.025571616739034655,-0.06784388385713101,0.07701946273446084,0.062154304608702665,0.001582058146595955,-0.025671190023422243,0.09091171622276306,-0.06884611248970032,-0.07216671109199524,-0.05976121164858342,0.15246085058897735,-0.14164769127964974,0.095403709448874,-0.03967730279546231,-0.05849845632910729,0.04813888175413013,-0.18152429908514023,0.07190735377371311,-0.02762906700372696,-0.08929399251937867,0.009203637391328812,-0.0714479222893715,0.022371217142790556,0.05611580014228821]                                        |\n",
      "|66F01D72-3251-11E8-BF2F-480FCF5217B3|CALLE   |GOFIO                       |14   |35011 |Ingenio   |CALLE GOFIO 14 INGENIO                     |[calle, gofio, 14, ingenio]                         |[0.048532713670283556,-0.010643322952091694,0.00694196205586195,0.027352039236575365,0.17137668002396822,-0.08504584338515997,-0.09105408750474453,0.023221964947879314,-0.21618707478046417,0.071453966666013,-0.035458994563668966,0.04425838962197304,0.03927945816758438,0.08733360562473536,-0.08318075723946095,0.056075187399983406,0.09094470925629139,0.029235434718430042,-0.12164576604845934,0.014351434117997997,0.018988529685884714,-0.028087198501452804,-0.0531479325145483,-0.13180263992398977,0.14714262634515762,0.008935387246310711,-0.023240662878379226,0.03231328632682562,0.1417646547779441,-0.011987271602265537,0.10849608527496457,-0.06935408152639866,-0.04309054836630821,-0.008467801613733172,0.06270693591795862,0.09284423058852553,0.0760358851402998,0.021184688434004784,-0.0055682845413684845,0.012008534744381905,-0.03375644609332085,0.013542586006224155,0.04985071253031492,-0.08483094163239002,-0.012451632879674435,0.1709252605214715,-0.023862595931859687,0.06705794390290976,-0.03807453066110611,0.11514824628829956,-0.11142854113131762,-0.00786463962867856,0.11885567381978035,0.05025024525821209,0.09225848037749529,0.16423138417303562,-0.07330543734133244,0.17748471489176154,-0.0796718120254809,-0.12353400699794292,0.030406181700527668,0.023936888203024864,0.020746419206261635,-0.05043079610913992,-0.037338909576646984,-0.028785700676962733,0.06213701330125332,0.09947741217911243,0.012607787706656381,-0.15812624711543322,-0.019431746564805508,-0.1509845145046711,-0.04650913632940501,-0.02377402549609542,-0.013762082904577255,-0.1116438820026815,0.13766764174215496,-0.035719999112188816,-0.07393794925883412,0.10753919638227671,0.10997963137924671,0.005060989409685135,0.004705947358161211,0.05448934645392001,-0.040204230695962906,-0.028849453665316105,0.03757485840469599,0.09569967677816749,-0.02297137677669525,-0.008520771109033376,0.10036517307162285,-0.17636796575970948,0.13993954146280885,-0.12935896031558514,-0.0045260656625032425,-0.1188795012421906,-0.04712034156545997,0.011986737386905588,-0.19316667690873146,-0.07395303109660745,-0.03931697621010244,-0.06068282015621662,0.27616715990006924,-0.005141161847859621,0.16614521958399564,-0.1205549631267786,-0.004093210678547621,0.15619889087975025,0.027659245301038027,0.04216872155666351,0.030207115807570517,-0.2102870475500822,-0.021960461512207985,-0.060607864521443844,-0.20265936478972435,-0.032924946397542953,-0.12739465665072203,0.001797135453671217,-0.12243151385337114,-0.12134956219233572,-0.11674717557616532,0.02471231040544808,0.18860103795304894,0.1493033431470394,-0.1915586283430457,0.03830181621015072,0.07786455564200878,-0.1365706860087812,0.12080089002847672,-0.04363618069328368,-0.07361314119771123,-0.0323864808306098,-0.10044964158441871,0.015182776842266321,0.02154778130352497,-0.07655753055587411,0.02339658886194229,-0.022553990362212062,0.1182020753622055,-0.03622208908200264,-0.04869288229383528,-0.051686269231140614,0.018106495961546898,0.10862596285005566,-0.10842169634997845,-0.11829873640090227,0.12424751783328247,-0.02861519157886505,0.05287451730691828,-0.060709129087626934,0.07696686685085297,-0.00420322990976274,-0.0459127277135849,-0.011668515391647816,0.07066862564533949,0.058154473546892405,0.03338412754237652,0.004717596806585789,0.009294246105127968,-0.13251515373121947,-0.03874649666249752,-0.06205239985138178,0.006167814368382096,-0.07378074247390032,0.14914901740849018,0.002978319302201271,-0.014428877271711826,0.10970656300196424,0.0696610826998949,0.012784919585101306,0.03320518584223464,-0.010214122012257576,0.05444294959306717,-0.10464354115538299,0.14322512270882726,0.07731254841201007,-0.040851038647815585,-0.033295076340436935,-0.10443422570824623,0.0837414994603023,-0.027700539445504546,0.07115875475574285,0.102126844227314,0.05161530710756779,-0.05227450409438461,-0.05262243561446667,0.037497338838875294,-0.03736817091703415,0.19395184889435768,0.01660934742540121,0.039969449397176504,-0.023198889568448067,0.09405744215473533,0.05573724675923586,-0.006599203683435917,0.11544803762808442,-5.222302861511707E-4,-0.013653971458552405,0.08354340400546789,0.03859985386952758,-0.0472433902323246,0.03743842802941799,0.025318795815110207,0.02422284591011703,0.06763226492330432,0.10064273187890649,-0.02805699035525322,0.10254943557083607,0.08547161519527435,-0.04967901110649109,0.09085283859167248,0.015128183644264936,0.0656167445704341,-0.058895666152238846,-0.18167126434855163,0.03891562111675739,0.17355876229703426,0.06402684096246958,-0.023903191089630127,-0.049190280959010124,0.18026769161224365,0.08934533648425713,0.04251249320805073,0.2338192742317915,-0.08831976540386677,-0.01772873243317008,-0.06680362019687891,-0.006182419136166573,-0.08328605233691633,-0.005837135016918182,-0.028571792878210545,-0.0774774863384664,-0.10510761104524136,-0.1368218194693327,0.09379187226295471,-0.14010917209088802,0.10326085612177849,-0.11969435773789883,-0.08712790568824857,0.03975731635000557,0.1537462337873876,-0.06920599285513163,-0.045219515450298786,-0.11850121268071234,0.13823594897985458,-0.14565191394649446,0.11883788136765361,0.08193364914041013,0.03514250088483095,-0.07430299930274487,0.026549654081463814,-0.004058859427459538,-0.003990480909124017,0.06868138443678617,0.1491263434290886,-0.02239083033055067,-0.03638426540419459,-0.15265810769051313,-0.10199092887341976,0.11124433169607073,0.114919513463974,0.07248000614345074,0.004411857924424112,0.011665629222989082,0.028097044676542282,-0.01895635575056076,-0.009893266775179654,-0.08011938398703933,-0.228093845769763,0.005368509795516729,-0.06036354415118694,-0.05743623059242964,-0.1455287579447031,-0.037231891648843884,-0.06502500362694263,-0.08512173406779766,0.0218370973598212,-0.08099021296948195,0.06448738323524594,-0.021041600964963436,0.0672570732422173,0.019636521115899086,-0.1004674129653722,0.11666890745982528,-0.01370228547602892,-0.047610591631382704,0.1763671392109245,-0.034123897552490234,0.1549171257065609,0.0986799483653158,0.06927179149352014,-0.0391482412815094,-0.1953122140839696,0.06946625746786594,0.06225476320832968,-0.012708705849945545,0.020586066879332066,-0.07344649359583855,-0.0033001755364239216,-0.008623756468296051]                          |\n",
      "|7143F941-3251-11E8-B84B-480FCF5217B3|CALLE   |FUERTEVENTURA MARGARITAS I  |0    |35014 |La Oliva  |CALLE FUERTEVENTURA MARGARITAS I 0 LA OLIVA|[calle, fuerteventura, margaritas, i, 0, la, oliva] |[0.08371104991861751,0.008347623981535435,0.06954037717410495,0.06922624499670096,0.049261873321873796,-0.09362067189067602,-0.015807531774044037,-0.14037000870199076,-0.0921751164964267,-0.022490081244281358,0.04779374665979828,-0.11177265324762889,0.02801802118899234,0.050557469949126244,-0.11524939270956175,0.01650248827146632,-0.07303736159311873,-0.08073832467198372,0.0055218227207660675,-0.09008718864892476,-0.03472297904746873,-0.02538525587962275,-0.06749771924556365,-0.0712617819330522,-0.06894775931557108,-0.013875531298773629,0.08968223737818853,-0.02546548603900841,-0.0011037950004850114,0.07164650330586092,0.1520726696721145,-0.12613063624926976,-0.134345430880785,-0.1475566504523158,0.09960302710533142,0.055283939465880394,-0.1396534905901977,-0.04557429387101105,-0.012041623970227582,-0.034488986645426066,-0.08076034991868904,0.021868987141975334,-0.010252977987485272,-0.04828006667750222,-0.1564204222522676,0.0624420057450022,-0.008951391974863197,0.11693457859967435,0.03442349072013582,0.2058797233871051,-0.10308489575982094,0.05267103788043771,0.06691891114626612,0.08008336062942233,0.10098023898899555,0.04617508075066975,-0.06787318949188505,0.10282943663852555,0.05289694241115025,-0.0723314130944865,0.09865456074476242,0.11523137880223137,0.03278084232338837,0.015528599864670208,-0.05443613976240158,-0.23130960709282328,0.13393444940447807,0.01686003804206848,0.018622385071856633,0.03458442858287266,-0.0478212335812194,-0.14140218323362724,-0.05022104580088385,-0.0685564966074058,-0.0919710344501904,-0.039442321817789755,0.03400003617363317,-0.150097040991698,-0.027200051982487948,0.005396800049181495,0.04029109036283834,-0.08185437374881335,0.08509465785963194,0.011037997236209256,-0.0669743487877505,-0.07500961050391197,0.008960847609809466,0.029912048285560947,0.1171835001025881,-0.05682549402782959,0.07519791195435183,-0.005215192479746682,0.07267218189580099,1.43056469304221E-5,-0.18136313344751084,-0.06748977303504944,-0.054101970312850814,0.056236878178814155,-0.031772475223988295,-0.037876449259264124,-0.003803766598658902,0.029096127886857302,0.10941161534615924,-0.01217822783759662,0.19396171399525233,-0.03650066276480044,0.12378088145383766,-0.10278222497020448,-0.0851004533469677,-0.02580061408558062,0.10668760970500962,-0.07444988058081695,0.13331676008445875,-0.030530066096356934,-0.05353152485830443,0.10048075419451509,-0.13306802391473735,-0.014700254957590784,-0.05994970404676028,0.06017852228667055,-0.04715634988886969,-0.058132280063416274,-0.023882467565791946,0.10057232275305847,-0.14111379786793674,-0.008888644033244677,0.054905522614717484,0.0781626459211111,-0.041317670639338236,-0.03499835742903607,-0.03629982804081269,-0.05473580211400986,0.07108026387868449,0.008241477821554455,-0.045641207801444185,-0.14274059284278856,-0.050257470458745956,0.01510204780580742,0.02125994169286319,0.007570797577500343,0.05649721516030175,0.16502034344843455,0.039777244574257305,-0.16253113082244194,-0.01067770432148661,-0.17578855901956558,0.23085750236350577,0.06713873147964478,-0.07585985200213534,-0.05229079483875206,0.06109583830194813,0.13133625746039407,0.04089433459531782,-0.11472950263747146,0.03970088064670563,0.10349257120729556,-0.0203821330464312,0.07822595882628645,-0.08344274466591221,-0.06337321010817375,-0.08505984608616148,-0.06493143551051617,-0.06829100514629056,-0.12845700314002376,0.08443024435213634,-0.08050525713978068,0.13782672823539802,-0.01551378532894887,0.05201375324811254,0.03038395142980984,-0.005132963082620076,0.06981012584375483,0.04957706055470875,-0.008996484668127127,0.08923803935093538,0.16998114263904945,-0.13961176507707151,0.08559441566467285,-0.1844572028411286,0.09747293811025363,0.02972715387919119,-0.14118591862331542,-0.020657502646957124,0.06390987283417156,-0.0417879980190524,-0.06626326510948793,-0.02086737139948777,0.12101732939481735,0.02899277675896883,-0.056833824408905845,0.03201372930613745,0.034324309788644314,0.18012009454624991,0.04312131979635783,0.11602764736328805,0.030591278469988277,0.11860583110579422,-0.03155857464298606,-0.004349592507683805,0.11253731617970125,-0.043935147513236315,-0.006549322179385594,0.09781809151172638,0.09057013996477638,0.026748622102396827,0.1183852670448167,-0.11262364519227827,0.002830431397472109,0.04413591112409319,0.04209152289799281,0.19316030007654,0.12202603369951248,-0.08677171403542161,-0.12484557607344218,0.05803706177643367,-0.05447642891002553,0.05028233065136841,-0.006726818957499095,-0.033380742583956034,-0.1678379646369389,0.04962527352784361,0.08407785134789135,0.11718402270759855,0.20733764448336192,-0.029294796021921293,-0.03215163613536528,-0.30534169929368155,0.06001835223287344,-0.14098850464714424,0.03312930544572217,-0.04971983576459544,-0.07106051141662256,-0.17020356468856335,-0.16921371061887058,0.029515612604362623,0.02666183082120759,0.10308217363698141,-0.11554556206933089,-0.21845032347898397,-0.0314218843621867,0.013086738863161631,-0.011597444968564168,-0.028653790675369755,0.049389074822621684,0.1979497532759394,-0.019718945225966827,-0.0463828481733799,0.07113189942070415,0.0018899179995059967,-0.18020671659282275,-0.03828792706398027,-0.07326479019996311,-6.843040298138346E-4,0.009874628191547734,0.19198402549539292,-0.1465491306568895,0.046023349144629064,-0.007539530683841024,0.011546553511704716,0.007627524768135377,0.10221655453954423,0.05253741544272218,-0.0028493257372507025,0.01634642295539379,-0.05712197298583175,0.08672413123505456,-0.10971600851709289,-0.07258392950253827,-0.017926949142877544,0.045959850773215294,-0.09652116495583737,0.033380587718316486,0.056675513940198076,0.05293502166335071,0.04272968109164919,-0.13007582617657523,0.04228071442672184,0.05139464805168765,0.0690507415149893,-0.04111407910074506,-0.0438808887930853,-0.06003577448427677,0.007916051362242016,-0.07184913601460201,-0.05956581195018121,0.009755300091845649,0.08992014066981417,-0.05971666372248104,0.12868766313684837,-0.04043905954209289,-0.05203339603862592,-0.030329084123617834,-0.07517217977770736,0.0961181323177048,-0.015449150864567074,-0.10979831351765564,0.07935363160712378,-0.0020044403416769846,-0.026476796982543807,0.01779264348026897]                            |\n",
      "+------------------------------------+--------+----------------------------+-----+------+----------+-------------------------------------------+----------------------------------------------------+-----------------------------------------------------------------------------------------------------------------------------------------------------------------------------------------------------------------------------------------------------------------------------------------------------------------------------------------------------------------------------------------------------------------------------------------------------------------------------------------------------------------------------------------------------------------------------------------------------------------------------------------------------------------------------------------------------------------------------------------------------------------------------------------------------------------------------------------------------------------------------------------------------------------------------------------------------------------------------------------------------------------------------------------------------------------------------------------------------------------------------------------------------------------------------------------------------------------------------------------------------------------------------------------------------------------------------------------------------------------------------------------------------------------------------------------------------------------------------------------------------------------------------------------------------------------------------------------------------------------------------------------------------------------------------------------------------------------------------------------------------------------------------------------------------------------------------------------------------------------------------------------------------------------------------------------------------------------------------------------------------------------------------------------------------------------------------------------------------------------------------------------------------------------------------------------------------------------------------------------------------------------------------------------------------------------------------------------------------------------------------------------------------------------------------------------------------------------------------------------------------------------------------------------------------------------------------------------------------------------------------------------------------------------------------------------------------------------------------------------------------------------------------------------------------------------------------------------------------------------------------------------------------------------------------------------------------------------------------------------------------------------------------------------------------------------------------------------------------------------------------------------------------------------------------------------------------------------------------------------------------------------------------------------------------------------------------------------------------------------------------------------------------------------------------------------------------------------------------------------------------------------------------------------------------------------------------------------------------------------------------------------------------------------------------------------------------------------------------------------------------------------------------------------------------------------------------------------------------------------------------------------------------------------------------------------------------------------------------------------------------------------------------------------------------------------------------------------------------------------------------------------------------------------------------------------------------------------------------------------------------------------------------------------------------------------------------------------------------------------------------------------------------------------------------------------------------------------------------------------------------------------------------------------------------------------------------------------------------------------------------------------------------------------------------------------------------------------------------------------------------------------------------------------------------------------------------------------------------------------------------------------------------------------------------------------------------------------------------------------------------------------------------------------------------------------------------------------------------------------------------------------------------------------------------------------------------------------------------------------------------------------------------------------------------------------------------------------------------------------------------------------------------------------------------------------------------------------------------------------------------------------------------------------------------------------------------------------------------------------------------------------------------------------------------------------------------------------------------------------------------------------------------------------------------------------------------------------------------------------------------------------------------------------------------------------------------------------------------------------------------------------------------------------------------------------------------------------------------------------------------------------------------------------------------------------------------------------------------------------------------------------------------------------------------------------------------------------------------------------------------------------------------------------------------------------------------------------------------------------+\n",
      "only showing top 20 rows\n",
      "\n"
     ]
    },
    {
     "name": "stderr",
     "output_type": "stream",
     "text": [
      "                                                                                \r"
     ]
    }
   ],
   "source": [
    "word2vec_result.show(truncate=False)"
   ]
  },
  {
   "cell_type": "markdown",
   "metadata": {},
   "source": [
    "#### Escritura del modelo y del dataset con el embedding"
   ]
  },
  {
   "cell_type": "code",
   "execution_count": null,
   "metadata": {},
   "outputs": [
    {
     "name": "stderr",
     "output_type": "stream",
     "text": [
      "24/03/19 16:08:22 WARN TaskSetManager: Stage 181 contains a task of very large size (18046 KiB). The maximum recommended task size is 1000 KiB.\n",
      "                                                                                \r"
     ]
    }
   ],
   "source": [
    "try:\n",
    "  model_word2vec.write().overwrite().save(\"../models/word2vec_model\")\n",
    "except:\n",
    "  print('No se ha podido guardar el modelo word2vec.')"
   ]
  },
  {
   "cell_type": "code",
   "execution_count": null,
   "metadata": {},
   "outputs": [
    {
     "name": "stderr",
     "output_type": "stream",
     "text": [
      "                                                                                \r"
     ]
    }
   ],
   "source": [
    "try:\n",
    "  word2vec_result.write.format('parquet').save(\"../data/proccesed_data/word2vec_result.parquet\")\n",
    "except:\n",
    "  print('No se ha podido guardar el dataset con embedding word2vec.')"
   ]
  },
  {
   "cell_type": "markdown",
   "metadata": {},
   "source": [
    "### Representación con GPT"
   ]
  },
  {
   "cell_type": "code",
   "execution_count": 41,
   "metadata": {},
   "outputs": [],
   "source": [
    "from pyspark.sql.types import ArrayType, FloatType\n",
    "from pyspark.sql.functions import udf\n",
    "from openai import OpenAI\n",
    "\n",
    "def get_embedding(text, model=\"text-embedding-3-small\"):\n",
    "    client = OpenAI(api_key=\"***REMOVED***\")\n",
    "    text = text.replace(\"\\n\", \" \")\n",
    "    return client.embeddings.create(input=[text], model=model).data[0].embedding\n",
    "\n",
    "# Definir la función UDF y especificar el tipo de dato de retorno como ArrayType(FloatType())\n",
    "embedding_udf = udf(lambda text: get_embedding(text), ArrayType(FloatType()))\n",
    "\n",
    "# Aplicar la función UDF al DataFrame y crear una nueva columna llamada embeddings\"\n",
    "gpt3_result = train_df.withColumn(\"embedding\", embedding_udf(\"direccion\"))"
   ]
  },
  {
   "cell_type": "code",
   "execution_count": 43,
   "metadata": {},
   "outputs": [
    {
     "name": "stderr",
     "output_type": "stream",
     "text": [
      "24/04/16 12:11:08 ERROR Executor: Exception in task 0.0 in stage 179.0 (TID 987)\n",
      "org.apache.spark.api.python.PythonException: Traceback (most recent call last):\n",
      "  File \"/tmp/ipykernel_44518/3890246167.py\", line 11, in <lambda>\n",
      "  File \"/tmp/ipykernel_44518/3890246167.py\", line 8, in get_embedding\n",
      "  File \"/home/usuario/Address-matching/env_address_matching/lib/python3.10/site-packages/openai/resources/embeddings.py\", line 113, in create\n",
      "    return self._post(\n",
      "  File \"/home/usuario/Address-matching/env_address_matching/lib/python3.10/site-packages/openai/_base_client.py\", line 1208, in post\n",
      "    return cast(ResponseT, self.request(cast_to, opts, stream=stream, stream_cls=stream_cls))\n",
      "  File \"/home/usuario/Address-matching/env_address_matching/lib/python3.10/site-packages/openai/_base_client.py\", line 897, in request\n",
      "    return self._request(\n",
      "  File \"/home/usuario/Address-matching/env_address_matching/lib/python3.10/site-packages/openai/_base_client.py\", line 973, in _request\n",
      "    return self._retry_request(\n",
      "  File \"/home/usuario/Address-matching/env_address_matching/lib/python3.10/site-packages/openai/_base_client.py\", line 1021, in _retry_request\n",
      "    return self._request(\n",
      "  File \"/home/usuario/Address-matching/env_address_matching/lib/python3.10/site-packages/openai/_base_client.py\", line 973, in _request\n",
      "    return self._retry_request(\n",
      "  File \"/home/usuario/Address-matching/env_address_matching/lib/python3.10/site-packages/openai/_base_client.py\", line 1021, in _retry_request\n",
      "    return self._request(\n",
      "  File \"/home/usuario/Address-matching/env_address_matching/lib/python3.10/site-packages/openai/_base_client.py\", line 988, in _request\n",
      "    raise self._make_status_error_from_response(err.response) from None\n",
      "openai.RateLimitError: Error code: 429 - {'error': {'message': 'Your account is not active, please check your billing details on our website.', 'type': 'billing_not_active', 'param': None, 'code': 'billing_not_active'}}\n",
      "\n",
      "\tat org.apache.spark.api.python.BasePythonRunner$ReaderIterator.handlePythonException(PythonRunner.scala:572)\n",
      "\tat org.apache.spark.sql.execution.python.BasePythonUDFRunner$$anon$1.read(PythonUDFRunner.scala:94)\n",
      "\tat org.apache.spark.sql.execution.python.BasePythonUDFRunner$$anon$1.read(PythonUDFRunner.scala:75)\n",
      "\tat org.apache.spark.api.python.BasePythonRunner$ReaderIterator.hasNext(PythonRunner.scala:525)\n",
      "\tat org.apache.spark.InterruptibleIterator.hasNext(InterruptibleIterator.scala:37)\n",
      "\tat scala.collection.Iterator$$anon$11.hasNext(Iterator.scala:491)\n",
      "\tat scala.collection.Iterator$$anon$10.hasNext(Iterator.scala:460)\n",
      "\tat scala.collection.Iterator$$anon$10.hasNext(Iterator.scala:460)\n",
      "\tat org.apache.spark.sql.catalyst.expressions.GeneratedClass$GeneratedIteratorForCodegenStage3.processNext(Unknown Source)\n",
      "\tat org.apache.spark.sql.execution.BufferedRowIterator.hasNext(BufferedRowIterator.java:43)\n",
      "\tat org.apache.spark.sql.execution.WholeStageCodegenEvaluatorFactory$WholeStageCodegenPartitionEvaluator$$anon$1.hasNext(WholeStageCodegenEvaluatorFactory.scala:43)\n",
      "\tat org.apache.spark.sql.execution.SparkPlan.$anonfun$getByteArrayRdd$1(SparkPlan.scala:388)\n",
      "\tat org.apache.spark.rdd.RDD.$anonfun$mapPartitionsInternal$2(RDD.scala:893)\n",
      "\tat org.apache.spark.rdd.RDD.$anonfun$mapPartitionsInternal$2$adapted(RDD.scala:893)\n",
      "\tat org.apache.spark.rdd.MapPartitionsRDD.compute(MapPartitionsRDD.scala:52)\n",
      "\tat org.apache.spark.rdd.RDD.computeOrReadCheckpoint(RDD.scala:367)\n",
      "\tat org.apache.spark.rdd.RDD.iterator(RDD.scala:331)\n",
      "\tat org.apache.spark.scheduler.ResultTask.runTask(ResultTask.scala:93)\n",
      "\tat org.apache.spark.TaskContext.runTaskWithListeners(TaskContext.scala:166)\n",
      "\tat org.apache.spark.scheduler.Task.run(Task.scala:141)\n",
      "\tat org.apache.spark.executor.Executor$TaskRunner.$anonfun$run$4(Executor.scala:620)\n",
      "\tat org.apache.spark.util.SparkErrorUtils.tryWithSafeFinally(SparkErrorUtils.scala:64)\n",
      "\tat org.apache.spark.util.SparkErrorUtils.tryWithSafeFinally$(SparkErrorUtils.scala:61)\n",
      "\tat org.apache.spark.util.Utils$.tryWithSafeFinally(Utils.scala:94)\n",
      "\tat org.apache.spark.executor.Executor$TaskRunner.run(Executor.scala:623)\n",
      "\tat java.base/java.util.concurrent.ThreadPoolExecutor.runWorker(ThreadPoolExecutor.java:1128)\n",
      "\tat java.base/java.util.concurrent.ThreadPoolExecutor$Worker.run(ThreadPoolExecutor.java:628)\n",
      "\tat java.base/java.lang.Thread.run(Thread.java:829)\n",
      "24/04/16 12:11:08 WARN TaskSetManager: Lost task 0.0 in stage 179.0 (TID 987) (10.6.130.30 executor driver): org.apache.spark.api.python.PythonException: Traceback (most recent call last):\n",
      "  File \"/tmp/ipykernel_44518/3890246167.py\", line 11, in <lambda>\n",
      "  File \"/tmp/ipykernel_44518/3890246167.py\", line 8, in get_embedding\n",
      "  File \"/home/usuario/Address-matching/env_address_matching/lib/python3.10/site-packages/openai/resources/embeddings.py\", line 113, in create\n",
      "    return self._post(\n",
      "  File \"/home/usuario/Address-matching/env_address_matching/lib/python3.10/site-packages/openai/_base_client.py\", line 1208, in post\n",
      "    return cast(ResponseT, self.request(cast_to, opts, stream=stream, stream_cls=stream_cls))\n",
      "  File \"/home/usuario/Address-matching/env_address_matching/lib/python3.10/site-packages/openai/_base_client.py\", line 897, in request\n",
      "    return self._request(\n",
      "  File \"/home/usuario/Address-matching/env_address_matching/lib/python3.10/site-packages/openai/_base_client.py\", line 973, in _request\n",
      "    return self._retry_request(\n",
      "  File \"/home/usuario/Address-matching/env_address_matching/lib/python3.10/site-packages/openai/_base_client.py\", line 1021, in _retry_request\n",
      "    return self._request(\n",
      "  File \"/home/usuario/Address-matching/env_address_matching/lib/python3.10/site-packages/openai/_base_client.py\", line 973, in _request\n",
      "    return self._retry_request(\n",
      "  File \"/home/usuario/Address-matching/env_address_matching/lib/python3.10/site-packages/openai/_base_client.py\", line 1021, in _retry_request\n",
      "    return self._request(\n",
      "  File \"/home/usuario/Address-matching/env_address_matching/lib/python3.10/site-packages/openai/_base_client.py\", line 988, in _request\n",
      "    raise self._make_status_error_from_response(err.response) from None\n",
      "openai.RateLimitError: Error code: 429 - {'error': {'message': 'Your account is not active, please check your billing details on our website.', 'type': 'billing_not_active', 'param': None, 'code': 'billing_not_active'}}\n",
      "\n",
      "\tat org.apache.spark.api.python.BasePythonRunner$ReaderIterator.handlePythonException(PythonRunner.scala:572)\n",
      "\tat org.apache.spark.sql.execution.python.BasePythonUDFRunner$$anon$1.read(PythonUDFRunner.scala:94)\n",
      "\tat org.apache.spark.sql.execution.python.BasePythonUDFRunner$$anon$1.read(PythonUDFRunner.scala:75)\n",
      "\tat org.apache.spark.api.python.BasePythonRunner$ReaderIterator.hasNext(PythonRunner.scala:525)\n",
      "\tat org.apache.spark.InterruptibleIterator.hasNext(InterruptibleIterator.scala:37)\n",
      "\tat scala.collection.Iterator$$anon$11.hasNext(Iterator.scala:491)\n",
      "\tat scala.collection.Iterator$$anon$10.hasNext(Iterator.scala:460)\n",
      "\tat scala.collection.Iterator$$anon$10.hasNext(Iterator.scala:460)\n",
      "\tat org.apache.spark.sql.catalyst.expressions.GeneratedClass$GeneratedIteratorForCodegenStage3.processNext(Unknown Source)\n",
      "\tat org.apache.spark.sql.execution.BufferedRowIterator.hasNext(BufferedRowIterator.java:43)\n",
      "\tat org.apache.spark.sql.execution.WholeStageCodegenEvaluatorFactory$WholeStageCodegenPartitionEvaluator$$anon$1.hasNext(WholeStageCodegenEvaluatorFactory.scala:43)\n",
      "\tat org.apache.spark.sql.execution.SparkPlan.$anonfun$getByteArrayRdd$1(SparkPlan.scala:388)\n",
      "\tat org.apache.spark.rdd.RDD.$anonfun$mapPartitionsInternal$2(RDD.scala:893)\n",
      "\tat org.apache.spark.rdd.RDD.$anonfun$mapPartitionsInternal$2$adapted(RDD.scala:893)\n",
      "\tat org.apache.spark.rdd.MapPartitionsRDD.compute(MapPartitionsRDD.scala:52)\n",
      "\tat org.apache.spark.rdd.RDD.computeOrReadCheckpoint(RDD.scala:367)\n",
      "\tat org.apache.spark.rdd.RDD.iterator(RDD.scala:331)\n",
      "\tat org.apache.spark.scheduler.ResultTask.runTask(ResultTask.scala:93)\n",
      "\tat org.apache.spark.TaskContext.runTaskWithListeners(TaskContext.scala:166)\n",
      "\tat org.apache.spark.scheduler.Task.run(Task.scala:141)\n",
      "\tat org.apache.spark.executor.Executor$TaskRunner.$anonfun$run$4(Executor.scala:620)\n",
      "\tat org.apache.spark.util.SparkErrorUtils.tryWithSafeFinally(SparkErrorUtils.scala:64)\n",
      "\tat org.apache.spark.util.SparkErrorUtils.tryWithSafeFinally$(SparkErrorUtils.scala:61)\n",
      "\tat org.apache.spark.util.Utils$.tryWithSafeFinally(Utils.scala:94)\n",
      "\tat org.apache.spark.executor.Executor$TaskRunner.run(Executor.scala:623)\n",
      "\tat java.base/java.util.concurrent.ThreadPoolExecutor.runWorker(ThreadPoolExecutor.java:1128)\n",
      "\tat java.base/java.util.concurrent.ThreadPoolExecutor$Worker.run(ThreadPoolExecutor.java:628)\n",
      "\tat java.base/java.lang.Thread.run(Thread.java:829)\n",
      "\n",
      "24/04/16 12:11:08 ERROR TaskSetManager: Task 0 in stage 179.0 failed 1 times; aborting job\n"
     ]
    },
    {
     "ename": "PythonException",
     "evalue": "\n  An exception was thrown from the Python worker. Please see the stack trace below.\nTraceback (most recent call last):\n  File \"/tmp/ipykernel_44518/3890246167.py\", line 11, in <lambda>\n  File \"/tmp/ipykernel_44518/3890246167.py\", line 8, in get_embedding\n  File \"/home/usuario/Address-matching/env_address_matching/lib/python3.10/site-packages/openai/resources/embeddings.py\", line 113, in create\n    return self._post(\n  File \"/home/usuario/Address-matching/env_address_matching/lib/python3.10/site-packages/openai/_base_client.py\", line 1208, in post\n    return cast(ResponseT, self.request(cast_to, opts, stream=stream, stream_cls=stream_cls))\n  File \"/home/usuario/Address-matching/env_address_matching/lib/python3.10/site-packages/openai/_base_client.py\", line 897, in request\n    return self._request(\n  File \"/home/usuario/Address-matching/env_address_matching/lib/python3.10/site-packages/openai/_base_client.py\", line 973, in _request\n    return self._retry_request(\n  File \"/home/usuario/Address-matching/env_address_matching/lib/python3.10/site-packages/openai/_base_client.py\", line 1021, in _retry_request\n    return self._request(\n  File \"/home/usuario/Address-matching/env_address_matching/lib/python3.10/site-packages/openai/_base_client.py\", line 973, in _request\n    return self._retry_request(\n  File \"/home/usuario/Address-matching/env_address_matching/lib/python3.10/site-packages/openai/_base_client.py\", line 1021, in _retry_request\n    return self._request(\n  File \"/home/usuario/Address-matching/env_address_matching/lib/python3.10/site-packages/openai/_base_client.py\", line 988, in _request\n    raise self._make_status_error_from_response(err.response) from None\nopenai.RateLimitError: Error code: 429 - {'error': {'message': 'Your account is not active, please check your billing details on our website.', 'type': 'billing_not_active', 'param': None, 'code': 'billing_not_active'}}\n",
     "output_type": "error",
     "traceback": [
      "\u001b[0;31m---------------------------------------------------------------------------\u001b[0m",
      "\u001b[0;31mPythonException\u001b[0m                           Traceback (most recent call last)",
      "Cell \u001b[0;32mIn[43], line 1\u001b[0m\n\u001b[0;32m----> 1\u001b[0m \u001b[43mgpt3_result\u001b[49m\u001b[38;5;241;43m.\u001b[39;49m\u001b[43mshow\u001b[49m\u001b[43m(\u001b[49m\u001b[43mtruncate\u001b[49m\u001b[38;5;241;43m=\u001b[39;49m\u001b[38;5;28;43;01mFalse\u001b[39;49;00m\u001b[43m)\u001b[49m\n",
      "File \u001b[0;32m~/Address-matching/env_address_matching/lib/python3.10/site-packages/pyspark/sql/dataframe.py:945\u001b[0m, in \u001b[0;36mDataFrame.show\u001b[0;34m(self, n, truncate, vertical)\u001b[0m\n\u001b[1;32m    885\u001b[0m \u001b[38;5;28;01mdef\u001b[39;00m \u001b[38;5;21mshow\u001b[39m(\u001b[38;5;28mself\u001b[39m, n: \u001b[38;5;28mint\u001b[39m \u001b[38;5;241m=\u001b[39m \u001b[38;5;241m20\u001b[39m, truncate: Union[\u001b[38;5;28mbool\u001b[39m, \u001b[38;5;28mint\u001b[39m] \u001b[38;5;241m=\u001b[39m \u001b[38;5;28;01mTrue\u001b[39;00m, vertical: \u001b[38;5;28mbool\u001b[39m \u001b[38;5;241m=\u001b[39m \u001b[38;5;28;01mFalse\u001b[39;00m) \u001b[38;5;241m-\u001b[39m\u001b[38;5;241m>\u001b[39m \u001b[38;5;28;01mNone\u001b[39;00m:\n\u001b[1;32m    886\u001b[0m \u001b[38;5;250m    \u001b[39m\u001b[38;5;124;03m\"\"\"Prints the first ``n`` rows to the console.\u001b[39;00m\n\u001b[1;32m    887\u001b[0m \n\u001b[1;32m    888\u001b[0m \u001b[38;5;124;03m    .. versionadded:: 1.3.0\u001b[39;00m\n\u001b[0;32m   (...)\u001b[0m\n\u001b[1;32m    943\u001b[0m \u001b[38;5;124;03m    name | Bob\u001b[39;00m\n\u001b[1;32m    944\u001b[0m \u001b[38;5;124;03m    \"\"\"\u001b[39;00m\n\u001b[0;32m--> 945\u001b[0m     \u001b[38;5;28mprint\u001b[39m(\u001b[38;5;28;43mself\u001b[39;49m\u001b[38;5;241;43m.\u001b[39;49m\u001b[43m_show_string\u001b[49m\u001b[43m(\u001b[49m\u001b[43mn\u001b[49m\u001b[43m,\u001b[49m\u001b[43m \u001b[49m\u001b[43mtruncate\u001b[49m\u001b[43m,\u001b[49m\u001b[43m \u001b[49m\u001b[43mvertical\u001b[49m\u001b[43m)\u001b[49m)\n",
      "File \u001b[0;32m~/Address-matching/env_address_matching/lib/python3.10/site-packages/pyspark/sql/dataframe.py:976\u001b[0m, in \u001b[0;36mDataFrame._show_string\u001b[0;34m(self, n, truncate, vertical)\u001b[0m\n\u001b[1;32m    967\u001b[0m \u001b[38;5;28;01mexcept\u001b[39;00m \u001b[38;5;167;01mValueError\u001b[39;00m:\n\u001b[1;32m    968\u001b[0m     \u001b[38;5;28;01mraise\u001b[39;00m PySparkTypeError(\n\u001b[1;32m    969\u001b[0m         error_class\u001b[38;5;241m=\u001b[39m\u001b[38;5;124m\"\u001b[39m\u001b[38;5;124mNOT_BOOL\u001b[39m\u001b[38;5;124m\"\u001b[39m,\n\u001b[1;32m    970\u001b[0m         message_parameters\u001b[38;5;241m=\u001b[39m{\n\u001b[0;32m   (...)\u001b[0m\n\u001b[1;32m    973\u001b[0m         },\n\u001b[1;32m    974\u001b[0m     )\n\u001b[0;32m--> 976\u001b[0m \u001b[38;5;28;01mreturn\u001b[39;00m \u001b[38;5;28;43mself\u001b[39;49m\u001b[38;5;241;43m.\u001b[39;49m\u001b[43m_jdf\u001b[49m\u001b[38;5;241;43m.\u001b[39;49m\u001b[43mshowString\u001b[49m\u001b[43m(\u001b[49m\u001b[43mn\u001b[49m\u001b[43m,\u001b[49m\u001b[43m \u001b[49m\u001b[43mint_truncate\u001b[49m\u001b[43m,\u001b[49m\u001b[43m \u001b[49m\u001b[43mvertical\u001b[49m\u001b[43m)\u001b[49m\n",
      "File \u001b[0;32m~/Address-matching/env_address_matching/lib/python3.10/site-packages/py4j/java_gateway.py:1322\u001b[0m, in \u001b[0;36mJavaMember.__call__\u001b[0;34m(self, *args)\u001b[0m\n\u001b[1;32m   1316\u001b[0m command \u001b[38;5;241m=\u001b[39m proto\u001b[38;5;241m.\u001b[39mCALL_COMMAND_NAME \u001b[38;5;241m+\u001b[39m\\\n\u001b[1;32m   1317\u001b[0m     \u001b[38;5;28mself\u001b[39m\u001b[38;5;241m.\u001b[39mcommand_header \u001b[38;5;241m+\u001b[39m\\\n\u001b[1;32m   1318\u001b[0m     args_command \u001b[38;5;241m+\u001b[39m\\\n\u001b[1;32m   1319\u001b[0m     proto\u001b[38;5;241m.\u001b[39mEND_COMMAND_PART\n\u001b[1;32m   1321\u001b[0m answer \u001b[38;5;241m=\u001b[39m \u001b[38;5;28mself\u001b[39m\u001b[38;5;241m.\u001b[39mgateway_client\u001b[38;5;241m.\u001b[39msend_command(command)\n\u001b[0;32m-> 1322\u001b[0m return_value \u001b[38;5;241m=\u001b[39m \u001b[43mget_return_value\u001b[49m\u001b[43m(\u001b[49m\n\u001b[1;32m   1323\u001b[0m \u001b[43m    \u001b[49m\u001b[43manswer\u001b[49m\u001b[43m,\u001b[49m\u001b[43m \u001b[49m\u001b[38;5;28;43mself\u001b[39;49m\u001b[38;5;241;43m.\u001b[39;49m\u001b[43mgateway_client\u001b[49m\u001b[43m,\u001b[49m\u001b[43m \u001b[49m\u001b[38;5;28;43mself\u001b[39;49m\u001b[38;5;241;43m.\u001b[39;49m\u001b[43mtarget_id\u001b[49m\u001b[43m,\u001b[49m\u001b[43m \u001b[49m\u001b[38;5;28;43mself\u001b[39;49m\u001b[38;5;241;43m.\u001b[39;49m\u001b[43mname\u001b[49m\u001b[43m)\u001b[49m\n\u001b[1;32m   1325\u001b[0m \u001b[38;5;28;01mfor\u001b[39;00m temp_arg \u001b[38;5;129;01min\u001b[39;00m temp_args:\n\u001b[1;32m   1326\u001b[0m     \u001b[38;5;28;01mif\u001b[39;00m \u001b[38;5;28mhasattr\u001b[39m(temp_arg, \u001b[38;5;124m\"\u001b[39m\u001b[38;5;124m_detach\u001b[39m\u001b[38;5;124m\"\u001b[39m):\n",
      "File \u001b[0;32m~/Address-matching/env_address_matching/lib/python3.10/site-packages/pyspark/errors/exceptions/captured.py:185\u001b[0m, in \u001b[0;36mcapture_sql_exception.<locals>.deco\u001b[0;34m(*a, **kw)\u001b[0m\n\u001b[1;32m    181\u001b[0m converted \u001b[38;5;241m=\u001b[39m convert_exception(e\u001b[38;5;241m.\u001b[39mjava_exception)\n\u001b[1;32m    182\u001b[0m \u001b[38;5;28;01mif\u001b[39;00m \u001b[38;5;129;01mnot\u001b[39;00m \u001b[38;5;28misinstance\u001b[39m(converted, UnknownException):\n\u001b[1;32m    183\u001b[0m     \u001b[38;5;66;03m# Hide where the exception came from that shows a non-Pythonic\u001b[39;00m\n\u001b[1;32m    184\u001b[0m     \u001b[38;5;66;03m# JVM exception message.\u001b[39;00m\n\u001b[0;32m--> 185\u001b[0m     \u001b[38;5;28;01mraise\u001b[39;00m converted \u001b[38;5;28;01mfrom\u001b[39;00m \u001b[38;5;28;01mNone\u001b[39;00m\n\u001b[1;32m    186\u001b[0m \u001b[38;5;28;01melse\u001b[39;00m:\n\u001b[1;32m    187\u001b[0m     \u001b[38;5;28;01mraise\u001b[39;00m\n",
      "\u001b[0;31mPythonException\u001b[0m: \n  An exception was thrown from the Python worker. Please see the stack trace below.\nTraceback (most recent call last):\n  File \"/tmp/ipykernel_44518/3890246167.py\", line 11, in <lambda>\n  File \"/tmp/ipykernel_44518/3890246167.py\", line 8, in get_embedding\n  File \"/home/usuario/Address-matching/env_address_matching/lib/python3.10/site-packages/openai/resources/embeddings.py\", line 113, in create\n    return self._post(\n  File \"/home/usuario/Address-matching/env_address_matching/lib/python3.10/site-packages/openai/_base_client.py\", line 1208, in post\n    return cast(ResponseT, self.request(cast_to, opts, stream=stream, stream_cls=stream_cls))\n  File \"/home/usuario/Address-matching/env_address_matching/lib/python3.10/site-packages/openai/_base_client.py\", line 897, in request\n    return self._request(\n  File \"/home/usuario/Address-matching/env_address_matching/lib/python3.10/site-packages/openai/_base_client.py\", line 973, in _request\n    return self._retry_request(\n  File \"/home/usuario/Address-matching/env_address_matching/lib/python3.10/site-packages/openai/_base_client.py\", line 1021, in _retry_request\n    return self._request(\n  File \"/home/usuario/Address-matching/env_address_matching/lib/python3.10/site-packages/openai/_base_client.py\", line 973, in _request\n    return self._retry_request(\n  File \"/home/usuario/Address-matching/env_address_matching/lib/python3.10/site-packages/openai/_base_client.py\", line 1021, in _retry_request\n    return self._request(\n  File \"/home/usuario/Address-matching/env_address_matching/lib/python3.10/site-packages/openai/_base_client.py\", line 988, in _request\n    raise self._make_status_error_from_response(err.response) from None\nopenai.RateLimitError: Error code: 429 - {'error': {'message': 'Your account is not active, please check your billing details on our website.', 'type': 'billing_not_active', 'param': None, 'code': 'billing_not_active'}}\n"
     ]
    }
   ],
   "source": [
    "gpt3_result.show(truncate=False)"
   ]
  },
  {
   "cell_type": "markdown",
   "metadata": {},
   "source": [
    "#### Escritura del dataset con el embedding"
   ]
  },
  {
   "cell_type": "code",
   "execution_count": null,
   "metadata": {},
   "outputs": [
    {
     "name": "stderr",
     "output_type": "stream",
     "text": [
      "[Stage 1051:=====================================>                (22 + 8) / 32]\r"
     ]
    },
    {
     "name": "stdout",
     "output_type": "stream",
     "text": [
      "No se ha podido guardar el dataset con embedding de gpt3.\n"
     ]
    },
    {
     "name": "stderr",
     "output_type": "stream",
     "text": [
      "[Stage 1051:====================================================> (31 + 1) / 32]\r"
     ]
    }
   ],
   "source": [
    "try:\n",
    "  gpt3_result.write.format('parquet').save(\"../data/proccesed_data/gpt3_result.parquet\")\n",
    "except:\n",
    "  print('No se ha podido guardar el dataset con embedding de gpt3.')"
   ]
  },
  {
   "cell_type": "markdown",
   "metadata": {},
   "source": [
    "### Representación con MiniLM"
   ]
  },
  {
   "cell_type": "code",
   "execution_count": 3,
   "metadata": {},
   "outputs": [
    {
     "name": "stderr",
     "output_type": "stream",
     "text": [
      "/home/usuario/Address-matching/env_address_matching/lib/python3.10/site-packages/tqdm/auto.py:21: TqdmWarning: IProgress not found. Please update jupyter and ipywidgets. See https://ipywidgets.readthedocs.io/en/stable/user_install.html\n",
      "  from .autonotebook import tqdm as notebook_tqdm\n"
     ]
    }
   ],
   "source": [
    "from sentence_transformers import SentenceTransformer\n",
    "from pyspark.sql.types import ArrayType, FloatType\n",
    "from pyspark.sql.functions import udf\n",
    "\n",
    "model = SentenceTransformer(\"all-MiniLM-L6-v2\")\n",
    "\n",
    "def minilm_embedding(direccion):\n",
    "    \"\"\" Calcula el embedding de la direccion dada y lo convierte a una lista para evitar la serelización de Spark \"\"\"\n",
    "    # Sentences are encoded by calling model.encode()\n",
    "    embedding = model.encode(direccion)\n",
    "    return embedding.tolist()  # Convertir el embedding a una lista de Python para evitar la serelización\n",
    "\n",
    "@udf(returnType=ArrayType(FloatType()))\n",
    "def minilm_embedding_udf(direccion):\n",
    "    return minilm_embedding(direccion)\n",
    "\n",
    "minilm_result = train_df.withColumn(\"embedding\", minilm_embedding_udf(\"direccion\"))"
   ]
  },
  {
   "cell_type": "code",
   "execution_count": null,
   "metadata": {},
   "outputs": [],
   "source": [
    "minilm_result.show(truncate=False)"
   ]
  },
  {
   "cell_type": "markdown",
   "metadata": {},
   "source": [
    "#### Escritura del modelo y del dataset con el embedding"
   ]
  },
  {
   "cell_type": "code",
   "execution_count": null,
   "metadata": {},
   "outputs": [
    {
     "name": "stderr",
     "output_type": "stream",
     "text": [
      "                                                                                \r"
     ]
    }
   ],
   "source": [
    "# ~200min\n",
    "try:\n",
    "  minilm_result.write.format('parquet').save(\"../data/proccesed_data/minilm_result.parquet\")\n",
    "except:\n",
    "  print('No se ha podido guardar el dataset con embedding de minilm.')"
   ]
  },
  {
   "cell_type": "markdown",
   "metadata": {},
   "source": [
    "### Representación gráfica"
   ]
  },
  {
   "cell_type": "code",
   "execution_count": 62,
   "metadata": {},
   "outputs": [
    {
     "name": "stderr",
     "output_type": "stream",
     "text": [
      "                                                                                \r"
     ]
    },
    {
     "name": "stdout",
     "output_type": "stream",
     "text": [
      "[['calle', 'sotavento', '118', 'antigua'], ['calle', 'fermina', '55', 'arrecife'], ['calle', 'b', 'villa', 'pirula', '26', 'la', 'oliva'], ['calle', 'bilbao', '55', 'arrecife'], ['calle', 'guanarteme', 'cruce', 'arinaga', '133', 'agüimes'], ['calle', 'dr', 'barnard', '3', 'ingenio'], ['calle', 'palmeral', '1', 'haria'], ['calle', 'verol', 'caleta', 'fuste', '25', 'antigua'], ['calle', 'diama', 'argana', 'alta', '41', 'arrecife'], ['calle', 'camino', 'volcan', 'macher', '7', 'arrecife']]\n"
     ]
    }
   ],
   "source": [
    "from pyspark.ml.feature import Tokenizer\n",
    "\n",
    "tokenizer = Tokenizer(inputCol=\"direccion\", outputCol=\"words\")\n",
    "tokenized_sentences = tokenizer.transform(adresses_df).select(\"words\").collect()\n",
    "tokenized_sentences = [sentence.words for sentence in tokenized_sentences]\n",
    "print(tokenized_sentences[:10])"
   ]
  },
  {
   "cell_type": "code",
   "execution_count": 63,
   "metadata": {},
   "outputs": [
    {
     "name": "stdout",
     "output_type": "stream",
     "text": [
      "+---------+-------+------------------+\n",
      "|     word|  count|         frequency|\n",
      "+---------+-------+------------------+\n",
      "|    calle|1163401| 9.279369890329013|\n",
      "|       de| 987371| 7.875341974077767|\n",
      "|      san| 472800| 3.771086739780658|\n",
      "|       la| 398688| 3.179964107676969|\n",
      "|    santa| 284912| 2.272478564307079|\n",
      "|     gran| 238890|1.9054037886340978|\n",
      "|  canaria| 227676|1.8159601196410768|\n",
      "|     cruz| 223350|1.7814556331006979|\n",
      "|   laguna| 211761|1.6890209371884346|\n",
      "|cristobal| 210151|1.6761794616151546|\n",
      "|   palmas| 197517|1.5754097706879362|\n",
      "|      las| 195800|1.5617148554336988|\n",
      "| tenerife| 159233|1.2700538384845463|\n",
      "|        0| 145890| 1.163629112662014|\n",
      "|  avenida| 124823|0.9955972083748754|\n",
      "|   camino| 109253|0.8714097706879362|\n",
      "|        1| 107738|0.8593260219341974|\n",
      "| tirajana| 105530| 0.841714855433699|\n",
      "|      los| 102542|0.8178823529411765|\n",
      "|carretera| 101610|0.8104486540378864|\n",
      "+---------+-------+------------------+\n",
      "only showing top 20 rows\n",
      "\n"
     ]
    }
   ],
   "source": [
    "word_counter = dict()\n",
    "for sentence in tokenized_sentences:\n",
    "    for word in sentence:\n",
    "        if word not in word_counter:\n",
    "            word_counter[word] = 1\n",
    "        else:\n",
    "            word_counter[word] += 1\n",
    "\n",
    "word_counter = spark.createDataFrame(\n",
    "    word_counter.items(),\n",
    "    [\"word\", \"count\"]\n",
    ").orderBy(\"count\", ascending = False)\n",
    "\n",
    "# Creo la columa frecuencia\n",
    "word_counter = word_counter.withColumn(\n",
    "    \"frequency\",\n",
    "    word_counter[\"count\"] / word_counter.count()\n",
    ")\n",
    "word_counter.show()"
   ]
  },
  {
   "cell_type": "code",
   "execution_count": 67,
   "metadata": {},
   "outputs": [
    {
     "data": {
      "text/plain": [
       "<Axes: xlabel='word'>"
      ]
     },
     "execution_count": 67,
     "metadata": {},
     "output_type": "execute_result"
    },
    {
     "data": {
      "image/png": "[encoded data removed]",
      "text/plain": [
       "<Figure size 640x480 with 1 Axes>"
      ]
     },
     "metadata": {},
     "output_type": "display_data"
    }
   ],
   "source": [
    "import matplotlib.pyplot\n",
    "# Imprimir las 20 palabras más frecuentes\n",
    "word_counter.toPandas().head(15).plot.bar(x = \"word\", y = \"frequency\")"
   ]
  },
  {
   "cell_type": "markdown",
   "metadata": {},
   "source": [
    "## Distancia entre direcciones"
   ]
  },
  {
   "cell_type": "code",
   "execution_count": 4,
   "metadata": {},
   "outputs": [],
   "source": [
    "try:\n",
    "  test_dataframe = spark.read.format('parquet').load('../data/proccesed_data/test_dataframe2.parquet').repartition(32)\n",
    "except:\n",
    "  print('No se ha podido leer el dataset de testeo.')"
   ]
  },
  {
   "cell_type": "markdown",
   "metadata": {},
   "source": [
    "# *TODO*:\n",
    "- Hacer todo por lotes. Aplicar el crossjoin por lotes y realizar las evaluaciones\n",
    "- Extraer muestras para realizar las evaluaciones\n",
    "- Buscar la manera de extraer la informacion para usar Chromadb, es posible aplicar la realizacion por lotes\n",
    "- Dos opciones: tener dos dataframes en chroma o tener uno pero añadir metadato para diferenciarlos."
   ]
  },
  {
   "cell_type": "markdown",
   "metadata": {},
   "source": [
    "## 10/04\n",
    "- Limitar los datos a un municipio o isla para verlos resultados y comprobar que todo funciona (añadir como metadato el munipio y codigo postal)\n",
    "- Comprobar cuanto destacan las distancias"
   ]
  },
  {
   "cell_type": "markdown",
   "metadata": {},
   "source": [
    "### Distancia del coseno"
   ]
  },
  {
   "cell_type": "code",
   "execution_count": 3,
   "metadata": {},
   "outputs": [
    {
     "data": {
      "text/plain": [
       "' from pyspark.sql.window import Window\\nfrom pyspark.sql.functions import row_number, col\\nfrom pyspark.sql.types import FloatType\\nfrom pyspark.sql.functions import udf\\nfrom functools import reduce\\n\\n# Función para calcular la similitud del coseno\\n@udf(returnType=FloatType())\\ndef cosine_similarity(embedding_dir1, dirembedding_dir2):\\n    return float(embedding_dir1.dot(dirembedding_dir2) / (embedding_dir1.norm(2) * dirembedding_dir2.norm(2)))\\n\\n# Registrar la función UDF en Spark\\nspark.udf.register(\"cosine_similarity\", cosine_similarity)\\n\\n# Función para calcular la similitud del coseno en lotes\\ndef calculate_cosine_similarity_in_batches(df1, df2, batch_size=1000):\\n    \\n    df2 = df2.select(\"uuid_idt\", \"direccion\", \"embedding\")       .withColumnRenamed(\"uuid_idt\", \"uuid_idt2\")       .withColumnRenamed(\"direccion\", \"direccion2\")       .withColumnRenamed(\"embedding\", \"embedding2\")     # Obtener el número total de filas en df2\\n    total_rows = df2.count()\\n    # Calcular el número total de lotes\\n    num_batches = total_rows // batch_size + (1 if total_rows % batch_size > 0 else 0)\\n    \\n    # Lista para almacenar los resultados\\n    results = []\\n    \\n    # Procesar en lotes\\n    for i in range(num_batches):\\n        # Obtener el rango de filas para el lote actual\\n        start_row = i * batch_size\\n        end_row = min((i + 1) * batch_size, total_rows)\\n        \\n        # Obtener el lote del DataFrame df2\\n        batch_df2 = df2.limit(end_row).subtract(df2.limit(start_row))\\n        \\n        # Realizar el join entre los lotes\\n        joined_df = batch_df2.crossJoin(df1)\\n        \\n        # Calcular la similitud del coseno en el lote actual\\n        batch_results = joined_df.withColumn(\"cosine_similarity\", cosine_similarity(\"embedding2\", \"embedding\"))\\n        \\n        # Agregar los resultados del lote a la lista\\n        results.append(batch_results)\\n    \\n    # Combinar los resultados de los lotes en un solo DataFrame\\n    return reduce(lambda df1, df2: df1.union(df2), results)\\n\\n# Función para filtrar los 3 mejores resultados\\ndef filter_3_best(dataset):\\n    # Definir la ventana de partición por uuid_idt y ordenar por la columna cosine_similarity en orden descendente\\n    windowSpec = Window.partitionBy(\"uuid_idt\").orderBy(col(\"cosine_similarity\").desc())\\n\\n    # Agregar una columna \"rank\" que contiene el número de fila para cada partición\\n    cosine_similarity_df = dataset.withColumn(\"rank\", row_number().over(windowSpec))\\n\\n    # Filtrar para mantener solo los 3 mejores resultados para cada uuid_idt\\n    top3_cosine_similarity_df = cosine_similarity_df.filter(col(\"rank\") <= 3)\\n\\n    # Eliminar la columna \"rank\" ya que ya no la necesitamos\\n    return top3_cosine_similarity_df.drop(\"rank\")\\n\\n# Función para calcular la proporción de aceptación\\ndef accertion_ratio(dataframe):\\n    return dataframe.filter(\"evaluation == true\").count() / dataframe.count() \\n    \\nfrom pyspark.ml.feature import Tokenizer\\n\\ntokenizer = Tokenizer(inputCol=\"direccion\", outputCol=\"words\")\\nw2v_cosine = tokenizer.transform(test_dataframe)\\nw2v_cosine = w2v_model.transform(w2v_cosine).select(\"uuid_idt\", \"direccion\", \"embedding\")\\n\\n# Realizar el cálculo de la similitud del coseno en lotes\\ncosine_similarity_df = calculate_cosine_similarity_in_batches(w2v_cosine, word2vec_result)\\n\\n# Filtrar los 3 mejores resultados\\ntop3_cosine_similarity_df = filter_3_best(cosine_similarity_df)\\n\\n# Calcular la proporción de aceptación\\nacceptance_ratio = accertion_ratio(top3_cosine_similarity_df)\\n\\n# Mostrar resultados o hacer lo que necesites con ellos\\ntop3_cosine_similarity_df.show()    \\n'"
      ]
     },
     "execution_count": 3,
     "metadata": {},
     "output_type": "execute_result"
    }
   ],
   "source": [
    "from pyspark.sql.window import Window\n",
    "from pyspark.sql.functions import row_number, col\n",
    "from pyspark.sql.types import FloatType\n",
    "from pyspark.sql.functions import udf\n",
    "\n",
    "def accertion_ratio(dataframe):\n",
    "  return dataframe.filter(\"evaluation == true\").count() / dataframe.count()\n",
    "\n",
    "def calculate_cosine_similarity(df1, df2):\n",
    "  \"\"\" Realiza el cross join de dos dataframes \"\"\"\n",
    "  \n",
    "  return df2.select(\"uuid_idt\", \"direccion\", \"embedding\") \\\n",
    "    .withColumnRenamed(\"uuid_idt\", \"uuid_idt2\") \\\n",
    "    .withColumnRenamed(\"direccion\", \"direccion2\") \\\n",
    "    .withColumnRenamed(\"embedding\", \"embedding2\") \\\n",
    "    .crossJoin(df1) \\\n",
    "    .repartition(32) \\\n",
    "    .withColumn(\"cosine_similarity\", cosine_similarity(\"embedding\", \"embedding2\"))\n",
    "  \n",
    "def filter_3_best(dataset):\n",
    "  # Definimos la ventana de partición por uuid_idt y ordenamos por la columna cosine_similarity en orden descendente\n",
    "  windowSpec = Window.partitionBy(\"uuid_idt\").orderBy(col(\"cosine_similarity\").desc())\n",
    "\n",
    "  cosine_similarity_df = dataset.withColumn(\"rank\", row_number().over(windowSpec))\n",
    "\n",
    "  top3_cosine_similarity_df = cosine_similarity_df.filter(col(\"rank\") == 1)\n",
    "  # top3_cosine_similarity_df.select(\"uuid_idt2\", \"direccion2\", \"uuid_idt\", \"direccion\", \"rank\").show()\n",
    "  return top3_cosine_similarity_df.drop(\"rank\")\n",
    "\n",
    "@udf(returnType=FloatType())\n",
    "def cosine_similarity(embedding_dir1, dirembedding_dir2):\n",
    "    return float(embedding_dir1.dot(dirembedding_dir2) / (embedding_dir1.norm(2) * dirembedding_dir2.norm(2)))\n",
    "\n",
    "# Registrar la función UDF en Spark\n",
    "spark.udf.register(\"cosine_similarity\", cosine_similarity)\n",
    "\n",
    "\"\"\" from pyspark.sql.window import Window\n",
    "from pyspark.sql.functions import row_number, col\n",
    "from pyspark.sql.types import FloatType\n",
    "from pyspark.sql.functions import udf\n",
    "from functools import reduce\n",
    "\n",
    "# Función para calcular la similitud del coseno\n",
    "@udf(returnType=FloatType())\n",
    "def cosine_similarity(embedding_dir1, dirembedding_dir2):\n",
    "    return float(embedding_dir1.dot(dirembedding_dir2) / (embedding_dir1.norm(2) * dirembedding_dir2.norm(2)))\n",
    "\n",
    "# Registrar la función UDF en Spark\n",
    "spark.udf.register(\"cosine_similarity\", cosine_similarity)\n",
    "\n",
    "# Función para calcular la similitud del coseno en lotes\n",
    "def calculate_cosine_similarity_in_batches(df1, df2, batch_size=1000):\n",
    "    \n",
    "    df2 = df2.select(\"uuid_idt\", \"direccion\", \"embedding\") \\\n",
    "      .withColumnRenamed(\"uuid_idt\", \"uuid_idt2\") \\\n",
    "      .withColumnRenamed(\"direccion\", \"direccion2\") \\\n",
    "      .withColumnRenamed(\"embedding\", \"embedding2\") \\\n",
    "    # Obtener el número total de filas en df2\n",
    "    total_rows = df2.count()\n",
    "    # Calcular el número total de lotes\n",
    "    num_batches = total_rows // batch_size + (1 if total_rows % batch_size > 0 else 0)\n",
    "    \n",
    "    # Lista para almacenar los resultados\n",
    "    results = []\n",
    "    \n",
    "    # Procesar en lotes\n",
    "    for i in range(num_batches):\n",
    "        # Obtener el rango de filas para el lote actual\n",
    "        start_row = i * batch_size\n",
    "        end_row = min((i + 1) * batch_size, total_rows)\n",
    "        \n",
    "        # Obtener el lote del DataFrame df2\n",
    "        batch_df2 = df2.limit(end_row).subtract(df2.limit(start_row))\n",
    "        \n",
    "        # Realizar el join entre los lotes\n",
    "        joined_df = batch_df2.crossJoin(df1)\n",
    "        \n",
    "        # Calcular la similitud del coseno en el lote actual\n",
    "        batch_results = joined_df.withColumn(\"cosine_similarity\", cosine_similarity(\"embedding2\", \"embedding\"))\n",
    "        \n",
    "        # Agregar los resultados del lote a la lista\n",
    "        results.append(batch_results)\n",
    "    \n",
    "    # Combinar los resultados de los lotes en un solo DataFrame\n",
    "    return reduce(lambda df1, df2: df1.union(df2), results)\n",
    "\n",
    "# Función para filtrar los 3 mejores resultados\n",
    "def filter_3_best(dataset):\n",
    "    # Definir la ventana de partición por uuid_idt y ordenar por la columna cosine_similarity en orden descendente\n",
    "    windowSpec = Window.partitionBy(\"uuid_idt\").orderBy(col(\"cosine_similarity\").desc())\n",
    "\n",
    "    # Agregar una columna \"rank\" que contiene el número de fila para cada partición\n",
    "    cosine_similarity_df = dataset.withColumn(\"rank\", row_number().over(windowSpec))\n",
    "\n",
    "    # Filtrar para mantener solo los 3 mejores resultados para cada uuid_idt\n",
    "    top3_cosine_similarity_df = cosine_similarity_df.filter(col(\"rank\") <= 3)\n",
    "\n",
    "    # Eliminar la columna \"rank\" ya que ya no la necesitamos\n",
    "    return top3_cosine_similarity_df.drop(\"rank\")\n",
    "\n",
    "# Función para calcular la proporción de aceptación\n",
    "def accertion_ratio(dataframe):\n",
    "    return dataframe.filter(\"evaluation == true\").count() / dataframe.count() \n",
    "    \n",
    "from pyspark.ml.feature import Tokenizer\n",
    "\n",
    "tokenizer = Tokenizer(inputCol=\"direccion\", outputCol=\"words\")\n",
    "w2v_cosine = tokenizer.transform(test_dataframe)\n",
    "w2v_cosine = w2v_model.transform(w2v_cosine).select(\"uuid_idt\", \"direccion\", \"embedding\")\n",
    "\n",
    "# Realizar el cálculo de la similitud del coseno en lotes\n",
    "cosine_similarity_df = calculate_cosine_similarity_in_batches(w2v_cosine, word2vec_result)\n",
    "\n",
    "# Filtrar los 3 mejores resultados\n",
    "top3_cosine_similarity_df = filter_3_best(cosine_similarity_df)\n",
    "\n",
    "# Calcular la proporción de aceptación\n",
    "acceptance_ratio = accertion_ratio(top3_cosine_similarity_df)\n",
    "\n",
    "# Mostrar resultados o hacer lo que necesites con ellos\n",
    "top3_cosine_similarity_df.show()    \n",
    "\"\"\"\n"
   ]
  },
  {
   "cell_type": "markdown",
   "metadata": {},
   "source": [
    "### Word2Vec"
   ]
  },
  {
   "cell_type": "code",
   "execution_count": 14,
   "metadata": {},
   "outputs": [],
   "source": [
    "try:\n",
    "  word2vec_result = spark.read.format('parquet').load('../data/proccesed_data/word2vec_result.parquet')\n",
    "except:\n",
    "  print('No se ha podido leer el dataset de testeo.')"
   ]
  },
  {
   "cell_type": "code",
   "execution_count": 59,
   "metadata": {},
   "outputs": [
    {
     "name": "stderr",
     "output_type": "stream",
     "text": [
      "[Stage 1422:============================================>         (24 + 5) / 29]\r"
     ]
    },
    {
     "name": "stdout",
     "output_type": "stream",
     "text": [
      "+--------------------------+------+\n",
      "|nommun                    |count |\n",
      "+--------------------------+------+\n",
      "|San Cristóbal de La Laguna|170143|\n",
      "|Las Palmas de Gran Canaria|162054|\n",
      "|Santa Cruz de Tenerife    |127843|\n",
      "|Arona                     |81241 |\n",
      "|Telde                     |67405 |\n",
      "|San Bartolomé de Tirajana |50449 |\n",
      "|La Orotava                |50130 |\n",
      "|Adeje                     |44410 |\n",
      "|Arrecife                  |39804 |\n",
      "|Granadilla de Abona       |39114 |\n",
      "|Santa Lucía de Tirajana   |36012 |\n",
      "|Puerto del Rosario        |34049 |\n",
      "|Los Realejos              |30634 |\n",
      "|Arucas                    |29697 |\n",
      "|Icod de los Vinos         |28737 |\n",
      "|La Oliva                  |27551 |\n",
      "|Ingenio                   |25280 |\n",
      "|Puerto de la Cruz         |25010 |\n",
      "|Candelaria                |24114 |\n",
      "|Güímar                    |23466 |\n",
      "+--------------------------+------+\n",
      "only showing top 20 rows\n",
      "\n"
     ]
    },
    {
     "name": "stderr",
     "output_type": "stream",
     "text": [
      "                                                                                \r"
     ]
    }
   ],
   "source": [
    "word2vec_result.groupBy(\"nommun\").count().orderBy('count', ascending=False).show(truncate=False)"
   ]
  },
  {
   "cell_type": "code",
   "execution_count": 15,
   "metadata": {},
   "outputs": [
    {
     "name": "stderr",
     "output_type": "stream",
     "text": [
      "                                                                                \r"
     ]
    }
   ],
   "source": [
    "from pyspark.ml.feature import Word2VecModel\n",
    "\n",
    "w2v_model = Word2VecModel.load(\"../models/word2vec_model\")"
   ]
  },
  {
   "cell_type": "code",
   "execution_count": 16,
   "metadata": {},
   "outputs": [],
   "source": [
    "# Filter\n",
    "word2vec_result = word2vec_result.filter(\"nommun == 'San Cristóbal de La Laguna'\")"
   ]
  },
  {
   "cell_type": "code",
   "execution_count": 17,
   "metadata": {},
   "outputs": [],
   "source": [
    "from pyspark.ml.feature import Tokenizer\n",
    "\n",
    "tokenizer = Tokenizer(inputCol=\"direccion\", outputCol=\"words\")\n",
    "w2v_cosine = tokenizer.transform(test_dataframe)\n",
    "\n",
    "# Filter\n",
    "w2v_cosine = w2v_cosine.filter(\"nommun == 'San Cristóbal de La Laguna'\") \n",
    "\n",
    "w2v_cosine = w2v_model.transform(w2v_cosine).select(\"uuid_idt\", \"direccion\", \"embedding\")"
   ]
  },
  {
   "cell_type": "code",
   "execution_count": 40,
   "metadata": {},
   "outputs": [
    {
     "name": "stdout",
     "output_type": "stream",
     "text": [
      "170143\n",
      "83001\n"
     ]
    }
   ],
   "source": [
    "print(word2vec_result.count())\n",
    "print(w2v_cosine.count())"
   ]
  },
  {
   "cell_type": "code",
   "execution_count": 9,
   "metadata": {},
   "outputs": [],
   "source": [
    "\"\"\" \n",
    "word2vec_result: 1.779.568\n",
    "w2v_cosine: 451.876\n",
    "crossjoin result: 804.144.069.568 (df1 x df2) \n",
    "\"\"\"\n",
    "\n",
    "evaluated_word2vec_cosine = calculate_cosine_similarity(word2vec_result, w2v_cosine)\n",
    "# evaluated_word2vec_cosine.sort(asc(\"uuid_idt2\")).show()\n",
    "evaluated_word2vec_cosine = filter_3_best(evaluated_word2vec_cosine)\n",
    "# evaluated_word2vec_cosine.sort(asc(\"uuid_idt2\")).show()\n",
    "# evaluated_word2vec_cosine.groupBy(\"uuid_idt\").count().show()\n",
    "evaluated_word2vec_cosine = evaluated_word2vec_cosine.repartition(32)\n",
    "evaluated_word2vec_cosine = evaluated_word2vec_cosine.withColumn(\"evaluation\", evaluated_word2vec_cosine.uuid_idt == evaluated_word2vec_cosine.uuid_idt2)\n",
    "\n",
    "# from pyspark.sql.functions import desc, asc\n",
    "# evaluated_word2vec_cosine.sort(asc(\"uuid_idt2\")).show()"
   ]
  },
  {
   "cell_type": "markdown",
   "metadata": {},
   "source": [
    "#### Evaluación"
   ]
  },
  {
   "cell_type": "code",
   "execution_count": 11,
   "metadata": {},
   "outputs": [
    {
     "name": "stderr",
     "output_type": "stream",
     "text": [
      "24/04/11 16:33:50 ERROR TaskMemoryManager: error while calling spill() on org.apache.spark.util.collection.unsafe.sort.UnsafeExternalSorter@69c85b9b\n",
      "java.io.IOException: No space left on device\n",
      "\tat java.base/java.io.FileOutputStream.writeBytes(Native Method)\n",
      "\tat java.base/java.io.FileOutputStream.write(FileOutputStream.java:354)\n",
      "\tat org.apache.spark.storage.TimeTrackingOutputStream.write(TimeTrackingOutputStream.java:59)\n",
      "\tat java.base/java.io.BufferedOutputStream.flushBuffer(BufferedOutputStream.java:81)\n",
      "\tat java.base/java.io.BufferedOutputStream.write(BufferedOutputStream.java:127)\n",
      "\tat net.jpountz.lz4.LZ4BlockOutputStream.flushBufferedData(LZ4BlockOutputStream.java:225)\n",
      "\tat net.jpountz.lz4.LZ4BlockOutputStream.write(LZ4BlockOutputStream.java:178)\n",
      "\tat org.apache.spark.storage.DiskBlockObjectWriter.write(DiskBlockObjectWriter.scala:323)\n",
      "\tat org.apache.spark.util.collection.unsafe.sort.UnsafeSorterSpillWriter.write(UnsafeSorterSpillWriter.java:136)\n",
      "\tat org.apache.spark.util.collection.unsafe.sort.UnsafeExternalSorter.spillIterator(UnsafeExternalSorter.java:576)\n",
      "\tat org.apache.spark.util.collection.unsafe.sort.UnsafeExternalSorter.spill(UnsafeExternalSorter.java:231)\n",
      "\tat org.apache.spark.memory.TaskMemoryManager.trySpillAndAcquire(TaskMemoryManager.java:227)\n",
      "\tat org.apache.spark.memory.TaskMemoryManager.acquireExecutionMemory(TaskMemoryManager.java:190)\n",
      "\tat org.apache.spark.memory.TaskMemoryManager.allocatePage(TaskMemoryManager.java:317)\n",
      "\tat org.apache.spark.memory.MemoryConsumer.allocatePage(MemoryConsumer.java:117)\n",
      "\tat org.apache.spark.util.collection.unsafe.sort.UnsafeExternalSorter.acquireNewPageIfNecessary(UnsafeExternalSorter.java:433)\n",
      "\tat org.apache.spark.util.collection.unsafe.sort.UnsafeExternalSorter.allocateMemoryForRecordIfNecessary(UnsafeExternalSorter.java:452)\n",
      "\tat org.apache.spark.util.collection.unsafe.sort.UnsafeExternalSorter.insertRecord(UnsafeExternalSorter.java:487)\n",
      "\tat org.apache.spark.sql.execution.UnsafeExternalRowSorter.insertRow(UnsafeExternalRowSorter.java:138)\n",
      "\tat org.apache.spark.sql.execution.UnsafeExternalRowSorter.sort(UnsafeExternalRowSorter.java:226)\n",
      "\tat org.apache.spark.sql.execution.exchange.ShuffleExchangeExec$.$anonfun$prepareShuffleDependency$10(ShuffleExchangeExec.scala:375)\n",
      "\tat org.apache.spark.rdd.RDD.$anonfun$mapPartitionsInternal$2(RDD.scala:893)\n",
      "\tat org.apache.spark.rdd.RDD.$anonfun$mapPartitionsInternal$2$adapted(RDD.scala:893)\n",
      "\tat org.apache.spark.rdd.MapPartitionsRDD.compute(MapPartitionsRDD.scala:52)\n",
      "\tat org.apache.spark.rdd.RDD.computeOrReadCheckpoint(RDD.scala:367)\n",
      "\tat org.apache.spark.rdd.RDD.iterator(RDD.scala:331)\n",
      "\tat org.apache.spark.rdd.MapPartitionsRDD.compute(MapPartitionsRDD.scala:52)\n",
      "\tat org.apache.spark.rdd.RDD.computeOrReadCheckpoint(RDD.scala:367)\n",
      "\tat org.apache.spark.rdd.RDD.iterator(RDD.scala:331)\n",
      "\tat org.apache.spark.shuffle.ShuffleWriteProcessor.write(ShuffleWriteProcessor.scala:59)\n",
      "\tat org.apache.spark.scheduler.ShuffleMapTask.runTask(ShuffleMapTask.scala:104)\n",
      "\tat org.apache.spark.scheduler.ShuffleMapTask.runTask(ShuffleMapTask.scala:54)\n",
      "\tat org.apache.spark.TaskContext.runTaskWithListeners(TaskContext.scala:166)\n",
      "\tat org.apache.spark.scheduler.Task.run(Task.scala:141)\n",
      "\tat org.apache.spark.executor.Executor$TaskRunner.$anonfun$run$4(Executor.scala:620)\n",
      "\tat org.apache.spark.util.SparkErrorUtils.tryWithSafeFinally(SparkErrorUtils.scala:64)\n",
      "\tat org.apache.spark.util.SparkErrorUtils.tryWithSafeFinally$(SparkErrorUtils.scala:61)\n",
      "\tat org.apache.spark.util.Utils$.tryWithSafeFinally(Utils.scala:94)\n",
      "\tat org.apache.spark.executor.Executor$TaskRunner.run(Executor.scala:623)\n",
      "\tat java.base/java.util.concurrent.ThreadPoolExecutor.runWorker(ThreadPoolExecutor.java:1128)\n",
      "\tat java.base/java.util.concurrent.ThreadPoolExecutor$Worker.run(ThreadPoolExecutor.java:628)\n",
      "\tat java.base/java.lang.Thread.run(Thread.java:829)\n",
      "24/04/11 16:33:50 ERROR TaskMemoryManager: error while calling spill() on org.apache.spark.util.collection.unsafe.sort.UnsafeExternalSorter@29b2494b\n",
      "java.io.IOException: No space left on device\n",
      "\tat java.base/java.io.FileOutputStream.writeBytes(Native Method)\n",
      "\tat java.base/java.io.FileOutputStream.write(FileOutputStream.java:354)\n",
      "\tat org.apache.spark.storage.TimeTrackingOutputStream.write(TimeTrackingOutputStream.java:59)\n",
      "\tat java.base/java.io.BufferedOutputStream.flushBuffer(BufferedOutputStream.java:81)\n",
      "\tat java.base/java.io.BufferedOutputStream.write(BufferedOutputStream.java:127)\n",
      "\tat net.jpountz.lz4.LZ4BlockOutputStream.flushBufferedData(LZ4BlockOutputStream.java:225)\n",
      "\tat net.jpountz.lz4.LZ4BlockOutputStream.write(LZ4BlockOutputStream.java:178)\n",
      "\tat org.apache.spark.storage.DiskBlockObjectWriter.write(DiskBlockObjectWriter.scala:323)\n",
      "\tat org.apache.spark.util.collection.unsafe.sort.UnsafeSorterSpillWriter.write(UnsafeSorterSpillWriter.java:136)\n",
      "\tat org.apache.spark.util.collection.unsafe.sort.UnsafeExternalSorter.spillIterator(UnsafeExternalSorter.java:576)\n",
      "\tat org.apache.spark.util.collection.unsafe.sort.UnsafeExternalSorter.spill(UnsafeExternalSorter.java:231)\n",
      "\tat org.apache.spark.memory.TaskMemoryManager.trySpillAndAcquire(TaskMemoryManager.java:227)\n",
      "\tat org.apache.spark.memory.TaskMemoryManager.acquireExecutionMemory(TaskMemoryManager.java:190)\n",
      "\tat org.apache.spark.memory.TaskMemoryManager.allocatePage(TaskMemoryManager.java:317)\n",
      "\tat org.apache.spark.memory.MemoryConsumer.allocatePage(MemoryConsumer.java:117)\n",
      "\tat org.apache.spark.util.collection.unsafe.sort.UnsafeExternalSorter.acquireNewPageIfNecessary(UnsafeExternalSorter.java:433)\n",
      "\tat org.apache.spark.util.collection.unsafe.sort.UnsafeExternalSorter.allocateMemoryForRecordIfNecessary(UnsafeExternalSorter.java:452)\n",
      "\tat org.apache.spark.util.collection.unsafe.sort.UnsafeExternalSorter.insertRecord(UnsafeExternalSorter.java:487)\n",
      "\tat org.apache.spark.sql.execution.UnsafeExternalRowSorter.insertRow(UnsafeExternalRowSorter.java:138)\n",
      "\tat org.apache.spark.sql.execution.UnsafeExternalRowSorter.sort(UnsafeExternalRowSorter.java:226)\n",
      "\tat org.apache.spark.sql.execution.exchange.ShuffleExchangeExec$.$anonfun$prepareShuffleDependency$10(ShuffleExchangeExec.scala:375)\n",
      "\tat org.apache.spark.rdd.RDD.$anonfun$mapPartitionsInternal$2(RDD.scala:893)\n",
      "\tat org.apache.spark.rdd.RDD.$anonfun$mapPartitionsInternal$2$adapted(RDD.scala:893)\n",
      "\tat org.apache.spark.rdd.MapPartitionsRDD.compute(MapPartitionsRDD.scala:52)\n",
      "\tat org.apache.spark.rdd.RDD.computeOrReadCheckpoint(RDD.scala:367)\n",
      "\tat org.apache.spark.rdd.RDD.iterator(RDD.scala:331)\n",
      "\tat org.apache.spark.rdd.MapPartitionsRDD.compute(MapPartitionsRDD.scala:52)\n",
      "\tat org.apache.spark.rdd.RDD.computeOrReadCheckpoint(RDD.scala:367)\n",
      "\tat org.apache.spark.rdd.RDD.iterator(RDD.scala:331)\n",
      "\tat org.apache.spark.shuffle.ShuffleWriteProcessor.write(ShuffleWriteProcessor.scala:59)\n",
      "\tat org.apache.spark.scheduler.ShuffleMapTask.runTask(ShuffleMapTask.scala:104)\n",
      "\tat org.apache.spark.scheduler.ShuffleMapTask.runTask(ShuffleMapTask.scala:54)\n",
      "\tat org.apache.spark.TaskContext.runTaskWithListeners(TaskContext.scala:166)\n",
      "\tat org.apache.spark.scheduler.Task.run(Task.scala:141)\n",
      "\tat org.apache.spark.executor.Executor$TaskRunner.$anonfun$run$4(Executor.scala:620)\n",
      "\tat org.apache.spark.util.SparkErrorUtils.tryWithSafeFinally(SparkErrorUtils.scala:64)\n",
      "\tat org.apache.spark.util.SparkErrorUtils.tryWithSafeFinally$(SparkErrorUtils.scala:61)\n",
      "\tat org.apache.spark.util.Utils$.tryWithSafeFinally(Utils.scala:94)\n",
      "\tat org.apache.spark.executor.Executor$TaskRunner.run(Executor.scala:623)\n",
      "\tat java.base/java.util.concurrent.ThreadPoolExecutor.runWorker(ThreadPoolExecutor.java:1128)\n",
      "\tat java.base/java.util.concurrent.ThreadPoolExecutor$Worker.run(ThreadPoolExecutor.java:628)\n",
      "\tat java.base/java.lang.Thread.run(Thread.java:829)\n",
      "24/04/11 16:33:50 ERROR TaskMemoryManager: error while calling spill() on org.apache.spark.util.collection.unsafe.sort.UnsafeExternalSorter@66162334\n",
      "java.io.IOException: No space left on device\n",
      "\tat java.base/java.io.FileOutputStream.writeBytes(Native Method)\n",
      "\tat java.base/java.io.FileOutputStream.write(FileOutputStream.java:354)\n",
      "\tat org.apache.spark.storage.TimeTrackingOutputStream.write(TimeTrackingOutputStream.java:59)\n",
      "\tat java.base/java.io.BufferedOutputStream.flushBuffer(BufferedOutputStream.java:81)\n",
      "\tat java.base/java.io.BufferedOutputStream.write(BufferedOutputStream.java:127)\n",
      "\tat net.jpountz.lz4.LZ4BlockOutputStream.flushBufferedData(LZ4BlockOutputStream.java:225)\n",
      "\tat net.jpountz.lz4.LZ4BlockOutputStream.write(LZ4BlockOutputStream.java:178)\n",
      "\tat org.apache.spark.storage.DiskBlockObjectWriter.write(DiskBlockObjectWriter.scala:323)\n",
      "\tat org.apache.spark.util.collection.unsafe.sort.UnsafeSorterSpillWriter.write(UnsafeSorterSpillWriter.java:136)\n",
      "\tat org.apache.spark.util.collection.unsafe.sort.UnsafeExternalSorter.spillIterator(UnsafeExternalSorter.java:576)\n",
      "\tat org.apache.spark.util.collection.unsafe.sort.UnsafeExternalSorter.spill(UnsafeExternalSorter.java:231)\n",
      "\tat org.apache.spark.memory.TaskMemoryManager.trySpillAndAcquire(TaskMemoryManager.java:227)\n",
      "\tat org.apache.spark.memory.TaskMemoryManager.acquireExecutionMemory(TaskMemoryManager.java:190)\n",
      "\tat org.apache.spark.memory.TaskMemoryManager.allocatePage(TaskMemoryManager.java:317)\n",
      "\tat org.apache.spark.memory.MemoryConsumer.allocatePage(MemoryConsumer.java:117)\n",
      "\tat org.apache.spark.util.collection.unsafe.sort.UnsafeExternalSorter.acquireNewPageIfNecessary(UnsafeExternalSorter.java:433)\n",
      "\tat org.apache.spark.util.collection.unsafe.sort.UnsafeExternalSorter.allocateMemoryForRecordIfNecessary(UnsafeExternalSorter.java:452)\n",
      "\tat org.apache.spark.util.collection.unsafe.sort.UnsafeExternalSorter.insertRecord(UnsafeExternalSorter.java:487)\n",
      "\tat org.apache.spark.sql.execution.UnsafeExternalRowSorter.insertRow(UnsafeExternalRowSorter.java:138)\n",
      "\tat org.apache.spark.sql.execution.UnsafeExternalRowSorter.sort(UnsafeExternalRowSorter.java:226)\n",
      "\tat org.apache.spark.sql.execution.exchange.ShuffleExchangeExec$.$anonfun$prepareShuffleDependency$10(ShuffleExchangeExec.scala:375)\n",
      "\tat org.apache.spark.rdd.RDD.$anonfun$mapPartitionsInternal$2(RDD.scala:893)\n",
      "\tat org.apache.spark.rdd.RDD.$anonfun$mapPartitionsInternal$2$adapted(RDD.scala:893)\n",
      "\tat org.apache.spark.rdd.MapPartitionsRDD.compute(MapPartitionsRDD.scala:52)\n",
      "\tat org.apache.spark.rdd.RDD.computeOrReadCheckpoint(RDD.scala:367)\n",
      "\tat org.apache.spark.rdd.RDD.iterator(RDD.scala:331)\n",
      "\tat org.apache.spark.rdd.MapPartitionsRDD.compute(MapPartitionsRDD.scala:52)\n",
      "\tat org.apache.spark.rdd.RDD.computeOrReadCheckpoint(RDD.scala:367)\n",
      "\tat org.apache.spark.rdd.RDD.iterator(RDD.scala:331)\n",
      "\tat org.apache.spark.shuffle.ShuffleWriteProcessor.write(ShuffleWriteProcessor.scala:59)\n",
      "\tat org.apache.spark.scheduler.ShuffleMapTask.runTask(ShuffleMapTask.scala:104)\n",
      "\tat org.apache.spark.scheduler.ShuffleMapTask.runTask(ShuffleMapTask.scala:54)\n",
      "\tat org.apache.spark.TaskContext.runTaskWithListeners(TaskContext.scala:166)\n",
      "\tat org.apache.spark.scheduler.Task.run(Task.scala:141)\n",
      "\tat org.apache.spark.executor.Executor$TaskRunner.$anonfun$run$4(Executor.scala:620)\n",
      "\tat org.apache.spark.util.SparkErrorUtils.tryWithSafeFinally(SparkErrorUtils.scala:64)\n",
      "\tat org.apache.spark.util.SparkErrorUtils.tryWithSafeFinally$(SparkErrorUtils.scala:61)\n",
      "\tat org.apache.spark.util.Utils$.tryWithSafeFinally(Utils.scala:94)\n",
      "\tat org.apache.spark.executor.Executor$TaskRunner.run(Executor.scala:623)\n",
      "\tat java.base/java.util.concurrent.ThreadPoolExecutor.runWorker(ThreadPoolExecutor.java:1128)\n",
      "\tat java.base/java.util.concurrent.ThreadPoolExecutor$Worker.run(ThreadPoolExecutor.java:628)\n",
      "\tat java.base/java.lang.Thread.run(Thread.java:829)\n",
      "24/04/11 16:33:50 ERROR TaskMemoryManager: error while calling spill() on org.apache.spark.util.collection.unsafe.sort.UnsafeExternalSorter@6fa1fc4b\n",
      "java.io.IOException: No space left on device\n",
      "\tat java.base/java.io.FileOutputStream.writeBytes(Native Method)\n",
      "\tat java.base/java.io.FileOutputStream.write(FileOutputStream.java:354)\n",
      "\tat org.apache.spark.storage.TimeTrackingOutputStream.write(TimeTrackingOutputStream.java:59)\n",
      "\tat java.base/java.io.BufferedOutputStream.flushBuffer(BufferedOutputStream.java:81)\n",
      "\tat java.base/java.io.BufferedOutputStream.write(BufferedOutputStream.java:127)\n",
      "\tat net.jpountz.lz4.LZ4BlockOutputStream.flushBufferedData(LZ4BlockOutputStream.java:225)\n",
      "\tat net.jpountz.lz4.LZ4BlockOutputStream.write(LZ4BlockOutputStream.java:178)\n",
      "\tat org.apache.spark.storage.DiskBlockObjectWriter.write(DiskBlockObjectWriter.scala:323)\n",
      "\tat org.apache.spark.util.collection.unsafe.sort.UnsafeSorterSpillWriter.write(UnsafeSorterSpillWriter.java:136)\n",
      "\tat org.apache.spark.util.collection.unsafe.sort.UnsafeExternalSorter.spillIterator(UnsafeExternalSorter.java:576)\n",
      "\tat org.apache.spark.util.collection.unsafe.sort.UnsafeExternalSorter.spill(UnsafeExternalSorter.java:231)\n",
      "\tat org.apache.spark.memory.TaskMemoryManager.trySpillAndAcquire(TaskMemoryManager.java:227)\n",
      "\tat org.apache.spark.memory.TaskMemoryManager.acquireExecutionMemory(TaskMemoryManager.java:190)\n",
      "\tat org.apache.spark.memory.TaskMemoryManager.allocatePage(TaskMemoryManager.java:317)\n",
      "\tat org.apache.spark.memory.MemoryConsumer.allocatePage(MemoryConsumer.java:117)\n",
      "\tat org.apache.spark.util.collection.unsafe.sort.UnsafeExternalSorter.acquireNewPageIfNecessary(UnsafeExternalSorter.java:433)\n",
      "\tat org.apache.spark.util.collection.unsafe.sort.UnsafeExternalSorter.allocateMemoryForRecordIfNecessary(UnsafeExternalSorter.java:452)\n",
      "\tat org.apache.spark.util.collection.unsafe.sort.UnsafeExternalSorter.insertRecord(UnsafeExternalSorter.java:487)\n",
      "\tat org.apache.spark.sql.execution.UnsafeExternalRowSorter.insertRow(UnsafeExternalRowSorter.java:138)\n",
      "\tat org.apache.spark.sql.execution.UnsafeExternalRowSorter.sort(UnsafeExternalRowSorter.java:226)\n",
      "\tat org.apache.spark.sql.execution.exchange.ShuffleExchangeExec$.$anonfun$prepareShuffleDependency$10(ShuffleExchangeExec.scala:375)\n",
      "\tat org.apache.spark.rdd.RDD.$anonfun$mapPartitionsInternal$2(RDD.scala:893)\n",
      "\tat org.apache.spark.rdd.RDD.$anonfun$mapPartitionsInternal$2$adapted(RDD.scala:893)\n",
      "\tat org.apache.spark.rdd.MapPartitionsRDD.compute(MapPartitionsRDD.scala:52)\n",
      "\tat org.apache.spark.rdd.RDD.computeOrReadCheckpoint(RDD.scala:367)\n",
      "\tat org.apache.spark.rdd.RDD.iterator(RDD.scala:331)\n",
      "\tat org.apache.spark.rdd.MapPartitionsRDD.compute(MapPartitionsRDD.scala:52)\n",
      "\tat org.apache.spark.rdd.RDD.computeOrReadCheckpoint(RDD.scala:367)\n",
      "\tat org.apache.spark.rdd.RDD.iterator(RDD.scala:331)\n",
      "\tat org.apache.spark.shuffle.ShuffleWriteProcessor.write(ShuffleWriteProcessor.scala:59)\n",
      "\tat org.apache.spark.scheduler.ShuffleMapTask.runTask(ShuffleMapTask.scala:104)\n",
      "\tat org.apache.spark.scheduler.ShuffleMapTask.runTask(ShuffleMapTask.scala:54)\n",
      "\tat org.apache.spark.TaskContext.runTaskWithListeners(TaskContext.scala:166)\n",
      "\tat org.apache.spark.scheduler.Task.run(Task.scala:141)\n",
      "\tat org.apache.spark.executor.Executor$TaskRunner.$anonfun$run$4(Executor.scala:620)\n",
      "\tat org.apache.spark.util.SparkErrorUtils.tryWithSafeFinally(SparkErrorUtils.scala:64)\n",
      "\tat org.apache.spark.util.SparkErrorUtils.tryWithSafeFinally$(SparkErrorUtils.scala:61)\n",
      "\tat org.apache.spark.util.Utils$.tryWithSafeFinally(Utils.scala:94)\n",
      "\tat org.apache.spark.executor.Executor$TaskRunner.run(Executor.scala:623)\n",
      "\tat java.base/java.util.concurrent.ThreadPoolExecutor.runWorker(ThreadPoolExecutor.java:1128)\n",
      "\tat java.base/java.util.concurrent.ThreadPoolExecutor$Worker.run(ThreadPoolExecutor.java:628)\n",
      "\tat java.base/java.lang.Thread.run(Thread.java:829)\n",
      "24/04/11 16:33:50 ERROR TaskMemoryManager: error while calling spill() on org.apache.spark.util.collection.unsafe.sort.UnsafeExternalSorter@179d4539\n",
      "java.io.IOException: No space left on device\n",
      "\tat java.base/java.io.FileOutputStream.writeBytes(Native Method)\n",
      "\tat java.base/java.io.FileOutputStream.write(FileOutputStream.java:354)\n",
      "\tat org.apache.spark.storage.TimeTrackingOutputStream.write(TimeTrackingOutputStream.java:59)\n",
      "\tat java.base/java.io.BufferedOutputStream.flushBuffer(BufferedOutputStream.java:81)\n",
      "\tat java.base/java.io.BufferedOutputStream.write(BufferedOutputStream.java:127)\n",
      "\tat net.jpountz.lz4.LZ4BlockOutputStream.flushBufferedData(LZ4BlockOutputStream.java:225)\n",
      "\tat net.jpountz.lz4.LZ4BlockOutputStream.write(LZ4BlockOutputStream.java:178)\n",
      "\tat org.apache.spark.storage.DiskBlockObjectWriter.write(DiskBlockObjectWriter.scala:323)\n",
      "\tat org.apache.spark.util.collection.unsafe.sort.UnsafeSorterSpillWriter.write(UnsafeSorterSpillWriter.java:136)\n",
      "\tat org.apache.spark.util.collection.unsafe.sort.UnsafeExternalSorter.spillIterator(UnsafeExternalSorter.java:576)\n",
      "\tat org.apache.spark.util.collection.unsafe.sort.UnsafeExternalSorter.spill(UnsafeExternalSorter.java:231)\n",
      "\tat org.apache.spark.memory.TaskMemoryManager.trySpillAndAcquire(TaskMemoryManager.java:227)\n",
      "\tat org.apache.spark.memory.TaskMemoryManager.acquireExecutionMemory(TaskMemoryManager.java:190)\n",
      "\tat org.apache.spark.memory.TaskMemoryManager.allocatePage(TaskMemoryManager.java:317)\n",
      "\tat org.apache.spark.memory.MemoryConsumer.allocatePage(MemoryConsumer.java:117)\n",
      "\tat org.apache.spark.util.collection.unsafe.sort.UnsafeExternalSorter.acquireNewPageIfNecessary(UnsafeExternalSorter.java:433)\n",
      "\tat org.apache.spark.util.collection.unsafe.sort.UnsafeExternalSorter.allocateMemoryForRecordIfNecessary(UnsafeExternalSorter.java:452)\n",
      "\tat org.apache.spark.util.collection.unsafe.sort.UnsafeExternalSorter.insertRecord(UnsafeExternalSorter.java:487)\n",
      "\tat org.apache.spark.sql.execution.UnsafeExternalRowSorter.insertRow(UnsafeExternalRowSorter.java:138)\n",
      "\tat org.apache.spark.sql.execution.UnsafeExternalRowSorter.sort(UnsafeExternalRowSorter.java:226)\n",
      "\tat org.apache.spark.sql.execution.exchange.ShuffleExchangeExec$.$anonfun$prepareShuffleDependency$10(ShuffleExchangeExec.scala:375)\n",
      "\tat org.apache.spark.rdd.RDD.$anonfun$mapPartitionsInternal$2(RDD.scala:893)\n",
      "\tat org.apache.spark.rdd.RDD.$anonfun$mapPartitionsInternal$2$adapted(RDD.scala:893)\n",
      "\tat org.apache.spark.rdd.MapPartitionsRDD.compute(MapPartitionsRDD.scala:52)\n",
      "\tat org.apache.spark.rdd.RDD.computeOrReadCheckpoint(RDD.scala:367)\n",
      "\tat org.apache.spark.rdd.RDD.iterator(RDD.scala:331)\n",
      "\tat org.apache.spark.rdd.MapPartitionsRDD.compute(MapPartitionsRDD.scala:52)\n",
      "\tat org.apache.spark.rdd.RDD.computeOrReadCheckpoint(RDD.scala:367)\n",
      "\tat org.apache.spark.rdd.RDD.iterator(RDD.scala:331)\n",
      "\tat org.apache.spark.shuffle.ShuffleWriteProcessor.write(ShuffleWriteProcessor.scala:59)\n",
      "\tat org.apache.spark.scheduler.ShuffleMapTask.runTask(ShuffleMapTask.scala:104)\n",
      "\tat org.apache.spark.scheduler.ShuffleMapTask.runTask(ShuffleMapTask.scala:54)\n",
      "\tat org.apache.spark.TaskContext.runTaskWithListeners(TaskContext.scala:166)\n",
      "\tat org.apache.spark.scheduler.Task.run(Task.scala:141)\n",
      "\tat org.apache.spark.executor.Executor$TaskRunner.$anonfun$run$4(Executor.scala:620)\n",
      "\tat org.apache.spark.util.SparkErrorUtils.tryWithSafeFinally(SparkErrorUtils.scala:64)\n",
      "\tat org.apache.spark.util.SparkErrorUtils.tryWithSafeFinally$(SparkErrorUtils.scala:61)\n",
      "\tat org.apache.spark.util.Utils$.tryWithSafeFinally(Utils.scala:94)\n",
      "\tat org.apache.spark.executor.Executor$TaskRunner.run(Executor.scala:623)\n",
      "\tat java.base/java.util.concurrent.ThreadPoolExecutor.runWorker(ThreadPoolExecutor.java:1128)\n",
      "\tat java.base/java.util.concurrent.ThreadPoolExecutor$Worker.run(ThreadPoolExecutor.java:628)\n",
      "\tat java.base/java.lang.Thread.run(Thread.java:829)\n",
      "24/04/11 16:33:50 ERROR TaskMemoryManager: error while calling spill() on org.apache.spark.util.collection.unsafe.sort.UnsafeExternalSorter@46abb116\n",
      "java.io.IOException: No space left on device\n",
      "\tat java.base/java.io.FileOutputStream.writeBytes(Native Method)\n",
      "\tat java.base/java.io.FileOutputStream.write(FileOutputStream.java:354)\n",
      "\tat org.apache.spark.storage.TimeTrackingOutputStream.write(TimeTrackingOutputStream.java:59)\n",
      "\tat java.base/java.io.BufferedOutputStream.flushBuffer(BufferedOutputStream.java:81)\n",
      "\tat java.base/java.io.BufferedOutputStream.write(BufferedOutputStream.java:127)\n",
      "\tat net.jpountz.lz4.LZ4BlockOutputStream.flushBufferedData(LZ4BlockOutputStream.java:225)\n",
      "\tat net.jpountz.lz4.LZ4BlockOutputStream.write(LZ4BlockOutputStream.java:178)\n",
      "\tat org.apache.spark.storage.DiskBlockObjectWriter.write(DiskBlockObjectWriter.scala:323)\n",
      "\tat org.apache.spark.util.collection.unsafe.sort.UnsafeSorterSpillWriter.write(UnsafeSorterSpillWriter.java:136)\n",
      "\tat org.apache.spark.util.collection.unsafe.sort.UnsafeExternalSorter.spillIterator(UnsafeExternalSorter.java:576)\n",
      "\tat org.apache.spark.util.collection.unsafe.sort.UnsafeExternalSorter.spill(UnsafeExternalSorter.java:231)\n",
      "\tat org.apache.spark.memory.TaskMemoryManager.trySpillAndAcquire(TaskMemoryManager.java:227)\n",
      "\tat org.apache.spark.memory.TaskMemoryManager.acquireExecutionMemory(TaskMemoryManager.java:190)\n",
      "\tat org.apache.spark.memory.TaskMemoryManager.allocatePage(TaskMemoryManager.java:317)\n",
      "\tat org.apache.spark.memory.MemoryConsumer.allocatePage(MemoryConsumer.java:117)\n",
      "\tat org.apache.spark.util.collection.unsafe.sort.UnsafeExternalSorter.acquireNewPageIfNecessary(UnsafeExternalSorter.java:433)\n",
      "\tat org.apache.spark.util.collection.unsafe.sort.UnsafeExternalSorter.allocateMemoryForRecordIfNecessary(UnsafeExternalSorter.java:452)\n",
      "\tat org.apache.spark.util.collection.unsafe.sort.UnsafeExternalSorter.insertRecord(UnsafeExternalSorter.java:487)\n",
      "\tat org.apache.spark.sql.execution.UnsafeExternalRowSorter.insertRow(UnsafeExternalRowSorter.java:138)\n",
      "\tat org.apache.spark.sql.execution.UnsafeExternalRowSorter.sort(UnsafeExternalRowSorter.java:226)\n",
      "\tat org.apache.spark.sql.execution.exchange.ShuffleExchangeExec$.$anonfun$prepareShuffleDependency$10(ShuffleExchangeExec.scala:375)\n",
      "\tat org.apache.spark.rdd.RDD.$anonfun$mapPartitionsInternal$2(RDD.scala:893)\n",
      "\tat org.apache.spark.rdd.RDD.$anonfun$mapPartitionsInternal$2$adapted(RDD.scala:893)\n",
      "\tat org.apache.spark.rdd.MapPartitionsRDD.compute(MapPartitionsRDD.scala:52)\n",
      "\tat org.apache.spark.rdd.RDD.computeOrReadCheckpoint(RDD.scala:367)\n",
      "\tat org.apache.spark.rdd.RDD.iterator(RDD.scala:331)\n",
      "\tat org.apache.spark.rdd.MapPartitionsRDD.compute(MapPartitionsRDD.scala:52)\n",
      "\tat org.apache.spark.rdd.RDD.computeOrReadCheckpoint(RDD.scala:367)\n",
      "\tat org.apache.spark.rdd.RDD.iterator(RDD.scala:331)\n",
      "\tat org.apache.spark.shuffle.ShuffleWriteProcessor.write(ShuffleWriteProcessor.scala:59)\n",
      "\tat org.apache.spark.scheduler.ShuffleMapTask.runTask(ShuffleMapTask.scala:104)\n",
      "\tat org.apache.spark.scheduler.ShuffleMapTask.runTask(ShuffleMapTask.scala:54)\n",
      "\tat org.apache.spark.TaskContext.runTaskWithListeners(TaskContext.scala:166)\n",
      "\tat org.apache.spark.scheduler.Task.run(Task.scala:141)\n",
      "\tat org.apache.spark.executor.Executor$TaskRunner.$anonfun$run$4(Executor.scala:620)\n",
      "\tat org.apache.spark.util.SparkErrorUtils.tryWithSafeFinally(SparkErrorUtils.scala:64)\n",
      "\tat org.apache.spark.util.SparkErrorUtils.tryWithSafeFinally$(SparkErrorUtils.scala:61)\n",
      "\tat org.apache.spark.util.Utils$.tryWithSafeFinally(Utils.scala:94)\n",
      "\tat org.apache.spark.executor.Executor$TaskRunner.run(Executor.scala:623)\n",
      "\tat java.base/java.util.concurrent.ThreadPoolExecutor.runWorker(ThreadPoolExecutor.java:1128)\n",
      "\tat java.base/java.util.concurrent.ThreadPoolExecutor$Worker.run(ThreadPoolExecutor.java:628)\n",
      "\tat java.base/java.lang.Thread.run(Thread.java:829)\n",
      "24/04/11 16:33:50 ERROR TaskMemoryManager: error while calling spill() on org.apache.spark.util.collection.unsafe.sort.UnsafeExternalSorter@ea51e4d\n",
      "java.io.IOException: No space left on device\n",
      "\tat java.base/java.io.FileOutputStream.writeBytes(Native Method)\n",
      "\tat java.base/java.io.FileOutputStream.write(FileOutputStream.java:354)\n",
      "\tat org.apache.spark.storage.TimeTrackingOutputStream.write(TimeTrackingOutputStream.java:59)\n",
      "\tat java.base/java.io.BufferedOutputStream.flushBuffer(BufferedOutputStream.java:81)\n",
      "\tat java.base/java.io.BufferedOutputStream.write(BufferedOutputStream.java:127)\n",
      "\tat net.jpountz.lz4.LZ4BlockOutputStream.flushBufferedData(LZ4BlockOutputStream.java:225)\n",
      "\tat net.jpountz.lz4.LZ4BlockOutputStream.write(LZ4BlockOutputStream.java:178)\n",
      "\tat org.apache.spark.storage.DiskBlockObjectWriter.write(DiskBlockObjectWriter.scala:323)\n",
      "\tat org.apache.spark.util.collection.unsafe.sort.UnsafeSorterSpillWriter.write(UnsafeSorterSpillWriter.java:136)\n",
      "\tat org.apache.spark.util.collection.unsafe.sort.UnsafeExternalSorter.spillIterator(UnsafeExternalSorter.java:576)\n",
      "\tat org.apache.spark.util.collection.unsafe.sort.UnsafeExternalSorter.spill(UnsafeExternalSorter.java:231)\n",
      "\tat org.apache.spark.memory.TaskMemoryManager.trySpillAndAcquire(TaskMemoryManager.java:227)\n",
      "\tat org.apache.spark.memory.TaskMemoryManager.acquireExecutionMemory(TaskMemoryManager.java:190)\n",
      "\tat org.apache.spark.memory.TaskMemoryManager.allocatePage(TaskMemoryManager.java:317)\n",
      "\tat org.apache.spark.memory.MemoryConsumer.allocatePage(MemoryConsumer.java:117)\n",
      "\tat org.apache.spark.util.collection.unsafe.sort.UnsafeExternalSorter.acquireNewPageIfNecessary(UnsafeExternalSorter.java:433)\n",
      "\tat org.apache.spark.util.collection.unsafe.sort.UnsafeExternalSorter.allocateMemoryForRecordIfNecessary(UnsafeExternalSorter.java:452)\n",
      "\tat org.apache.spark.util.collection.unsafe.sort.UnsafeExternalSorter.insertRecord(UnsafeExternalSorter.java:487)\n",
      "\tat org.apache.spark.sql.execution.UnsafeExternalRowSorter.insertRow(UnsafeExternalRowSorter.java:138)\n",
      "\tat org.apache.spark.sql.execution.UnsafeExternalRowSorter.sort(UnsafeExternalRowSorter.java:226)\n",
      "\tat org.apache.spark.sql.execution.exchange.ShuffleExchangeExec$.$anonfun$prepareShuffleDependency$10(ShuffleExchangeExec.scala:375)\n",
      "\tat org.apache.spark.rdd.RDD.$anonfun$mapPartitionsInternal$2(RDD.scala:893)\n",
      "\tat org.apache.spark.rdd.RDD.$anonfun$mapPartitionsInternal$2$adapted(RDD.scala:893)\n",
      "\tat org.apache.spark.rdd.MapPartitionsRDD.compute(MapPartitionsRDD.scala:52)\n",
      "\tat org.apache.spark.rdd.RDD.computeOrReadCheckpoint(RDD.scala:367)\n",
      "\tat org.apache.spark.rdd.RDD.iterator(RDD.scala:331)\n",
      "\tat org.apache.spark.rdd.MapPartitionsRDD.compute(MapPartitionsRDD.scala:52)\n",
      "\tat org.apache.spark.rdd.RDD.computeOrReadCheckpoint(RDD.scala:367)\n",
      "\tat org.apache.spark.rdd.RDD.iterator(RDD.scala:331)\n",
      "\tat org.apache.spark.shuffle.ShuffleWriteProcessor.write(ShuffleWriteProcessor.scala:59)\n",
      "\tat org.apache.spark.scheduler.ShuffleMapTask.runTask(ShuffleMapTask.scala:104)\n",
      "\tat org.apache.spark.scheduler.ShuffleMapTask.runTask(ShuffleMapTask.scala:54)\n",
      "\tat org.apache.spark.TaskContext.runTaskWithListeners(TaskContext.scala:166)\n",
      "\tat org.apache.spark.scheduler.Task.run(Task.scala:141)\n",
      "\tat org.apache.spark.executor.Executor$TaskRunner.$anonfun$run$4(Executor.scala:620)\n",
      "\tat org.apache.spark.util.SparkErrorUtils.tryWithSafeFinally(SparkErrorUtils.scala:64)\n",
      "\tat org.apache.spark.util.SparkErrorUtils.tryWithSafeFinally$(SparkErrorUtils.scala:61)\n",
      "\tat org.apache.spark.util.Utils$.tryWithSafeFinally(Utils.scala:94)\n",
      "\tat org.apache.spark.executor.Executor$TaskRunner.run(Executor.scala:623)\n",
      "\tat java.base/java.util.concurrent.ThreadPoolExecutor.runWorker(ThreadPoolExecutor.java:1128)\n",
      "\tat java.base/java.util.concurrent.ThreadPoolExecutor$Worker.run(ThreadPoolExecutor.java:628)\n",
      "\tat java.base/java.lang.Thread.run(Thread.java:829)\n",
      "24/04/11 16:33:50 ERROR Executor: Exception in task 6.0 in stage 15.0 (TID 140)\n",
      "org.apache.spark.memory.SparkOutOfMemoryError: error while calling spill() on org.apache.spark.util.collection.unsafe.sort.UnsafeExternalSorter@6fa1fc4b : No space left on device\n",
      "\tat org.apache.spark.memory.TaskMemoryManager.trySpillAndAcquire(TaskMemoryManager.java:253)\n",
      "\tat org.apache.spark.memory.TaskMemoryManager.acquireExecutionMemory(TaskMemoryManager.java:190)\n",
      "\tat org.apache.spark.memory.TaskMemoryManager.allocatePage(TaskMemoryManager.java:317)\n",
      "\tat org.apache.spark.memory.MemoryConsumer.allocatePage(MemoryConsumer.java:117)\n",
      "\tat org.apache.spark.util.collection.unsafe.sort.UnsafeExternalSorter.acquireNewPageIfNecessary(UnsafeExternalSorter.java:433)\n",
      "\tat org.apache.spark.util.collection.unsafe.sort.UnsafeExternalSorter.allocateMemoryForRecordIfNecessary(UnsafeExternalSorter.java:452)\n",
      "\tat org.apache.spark.util.collection.unsafe.sort.UnsafeExternalSorter.insertRecord(UnsafeExternalSorter.java:487)\n",
      "\tat org.apache.spark.sql.execution.UnsafeExternalRowSorter.insertRow(UnsafeExternalRowSorter.java:138)\n",
      "\tat org.apache.spark.sql.execution.UnsafeExternalRowSorter.sort(UnsafeExternalRowSorter.java:226)\n",
      "\tat org.apache.spark.sql.execution.exchange.ShuffleExchangeExec$.$anonfun$prepareShuffleDependency$10(ShuffleExchangeExec.scala:375)\n",
      "\tat org.apache.spark.rdd.RDD.$anonfun$mapPartitionsInternal$2(RDD.scala:893)\n",
      "\tat org.apache.spark.rdd.RDD.$anonfun$mapPartitionsInternal$2$adapted(RDD.scala:893)\n",
      "\tat org.apache.spark.rdd.MapPartitionsRDD.compute(MapPartitionsRDD.scala:52)\n",
      "\tat org.apache.spark.rdd.RDD.computeOrReadCheckpoint(RDD.scala:367)\n",
      "\tat org.apache.spark.rdd.RDD.iterator(RDD.scala:331)\n",
      "\tat org.apache.spark.rdd.MapPartitionsRDD.compute(MapPartitionsRDD.scala:52)\n",
      "\tat org.apache.spark.rdd.RDD.computeOrReadCheckpoint(RDD.scala:367)\n",
      "\tat org.apache.spark.rdd.RDD.iterator(RDD.scala:331)\n",
      "\tat org.apache.spark.shuffle.ShuffleWriteProcessor.write(ShuffleWriteProcessor.scala:59)\n",
      "\tat org.apache.spark.scheduler.ShuffleMapTask.runTask(ShuffleMapTask.scala:104)\n",
      "\tat org.apache.spark.scheduler.ShuffleMapTask.runTask(ShuffleMapTask.scala:54)\n",
      "\tat org.apache.spark.TaskContext.runTaskWithListeners(TaskContext.scala:166)\n",
      "\tat org.apache.spark.scheduler.Task.run(Task.scala:141)\n",
      "\tat org.apache.spark.executor.Executor$TaskRunner.$anonfun$run$4(Executor.scala:620)\n",
      "\tat org.apache.spark.util.SparkErrorUtils.tryWithSafeFinally(SparkErrorUtils.scala:64)\n",
      "\tat org.apache.spark.util.SparkErrorUtils.tryWithSafeFinally$(SparkErrorUtils.scala:61)\n",
      "\tat org.apache.spark.util.Utils$.tryWithSafeFinally(Utils.scala:94)\n",
      "\tat org.apache.spark.executor.Executor$TaskRunner.run(Executor.scala:623)\n",
      "\tat java.base/java.util.concurrent.ThreadPoolExecutor.runWorker(ThreadPoolExecutor.java:1128)\n",
      "\tat java.base/java.util.concurrent.ThreadPoolExecutor$Worker.run(ThreadPoolExecutor.java:628)\n",
      "\tat java.base/java.lang.Thread.run(Thread.java:829)\n",
      "24/04/11 16:33:50 ERROR Executor: Exception in task 1.0 in stage 15.0 (TID 135)\n",
      "org.apache.spark.memory.SparkOutOfMemoryError: error while calling spill() on org.apache.spark.util.collection.unsafe.sort.UnsafeExternalSorter@46abb116 : No space left on device\n",
      "\tat org.apache.spark.memory.TaskMemoryManager.trySpillAndAcquire(TaskMemoryManager.java:253)\n",
      "\tat org.apache.spark.memory.TaskMemoryManager.acquireExecutionMemory(TaskMemoryManager.java:190)\n",
      "\tat org.apache.spark.memory.TaskMemoryManager.allocatePage(TaskMemoryManager.java:317)\n",
      "\tat org.apache.spark.memory.MemoryConsumer.allocatePage(MemoryConsumer.java:117)\n",
      "\tat org.apache.spark.util.collection.unsafe.sort.UnsafeExternalSorter.acquireNewPageIfNecessary(UnsafeExternalSorter.java:433)\n",
      "\tat org.apache.spark.util.collection.unsafe.sort.UnsafeExternalSorter.allocateMemoryForRecordIfNecessary(UnsafeExternalSorter.java:452)\n",
      "\tat org.apache.spark.util.collection.unsafe.sort.UnsafeExternalSorter.insertRecord(UnsafeExternalSorter.java:487)\n",
      "\tat org.apache.spark.sql.execution.UnsafeExternalRowSorter.insertRow(UnsafeExternalRowSorter.java:138)\n",
      "\tat org.apache.spark.sql.execution.UnsafeExternalRowSorter.sort(UnsafeExternalRowSorter.java:226)\n",
      "\tat org.apache.spark.sql.execution.exchange.ShuffleExchangeExec$.$anonfun$prepareShuffleDependency$10(ShuffleExchangeExec.scala:375)\n",
      "\tat org.apache.spark.rdd.RDD.$anonfun$mapPartitionsInternal$2(RDD.scala:893)\n",
      "\tat org.apache.spark.rdd.RDD.$anonfun$mapPartitionsInternal$2$adapted(RDD.scala:893)\n",
      "\tat org.apache.spark.rdd.MapPartitionsRDD.compute(MapPartitionsRDD.scala:52)\n",
      "\tat org.apache.spark.rdd.RDD.computeOrReadCheckpoint(RDD.scala:367)\n",
      "\tat org.apache.spark.rdd.RDD.iterator(RDD.scala:331)\n",
      "\tat org.apache.spark.rdd.MapPartitionsRDD.compute(MapPartitionsRDD.scala:52)\n",
      "\tat org.apache.spark.rdd.RDD.computeOrReadCheckpoint(RDD.scala:367)\n",
      "\tat org.apache.spark.rdd.RDD.iterator(RDD.scala:331)\n",
      "\tat org.apache.spark.shuffle.ShuffleWriteProcessor.write(ShuffleWriteProcessor.scala:59)\n",
      "\tat org.apache.spark.scheduler.ShuffleMapTask.runTask(ShuffleMapTask.scala:104)\n",
      "\tat org.apache.spark.scheduler.ShuffleMapTask.runTask(ShuffleMapTask.scala:54)\n",
      "\tat org.apache.spark.TaskContext.runTaskWithListeners(TaskContext.scala:166)\n",
      "\tat org.apache.spark.scheduler.Task.run(Task.scala:141)\n",
      "\tat org.apache.spark.executor.Executor$TaskRunner.$anonfun$run$4(Executor.scala:620)\n",
      "\tat org.apache.spark.util.SparkErrorUtils.tryWithSafeFinally(SparkErrorUtils.scala:64)\n",
      "\tat org.apache.spark.util.SparkErrorUtils.tryWithSafeFinally$(SparkErrorUtils.scala:61)\n",
      "\tat org.apache.spark.util.Utils$.tryWithSafeFinally(Utils.scala:94)\n",
      "\tat org.apache.spark.executor.Executor$TaskRunner.run(Executor.scala:623)\n",
      "\tat java.base/java.util.concurrent.ThreadPoolExecutor.runWorker(ThreadPoolExecutor.java:1128)\n",
      "\tat java.base/java.util.concurrent.ThreadPoolExecutor$Worker.run(ThreadPoolExecutor.java:628)\n",
      "\tat java.base/java.lang.Thread.run(Thread.java:829)\n",
      "24/04/11 16:33:50 ERROR Executor: Exception in task 3.0 in stage 15.0 (TID 137)\n",
      "org.apache.spark.memory.SparkOutOfMemoryError: error while calling spill() on org.apache.spark.util.collection.unsafe.sort.UnsafeExternalSorter@179d4539 : No space left on device\n",
      "\tat org.apache.spark.memory.TaskMemoryManager.trySpillAndAcquire(TaskMemoryManager.java:253)\n",
      "\tat org.apache.spark.memory.TaskMemoryManager.acquireExecutionMemory(TaskMemoryManager.java:190)\n",
      "\tat org.apache.spark.memory.TaskMemoryManager.allocatePage(TaskMemoryManager.java:317)\n",
      "\tat org.apache.spark.memory.MemoryConsumer.allocatePage(MemoryConsumer.java:117)\n",
      "\tat org.apache.spark.util.collection.unsafe.sort.UnsafeExternalSorter.acquireNewPageIfNecessary(UnsafeExternalSorter.java:433)\n",
      "\tat org.apache.spark.util.collection.unsafe.sort.UnsafeExternalSorter.allocateMemoryForRecordIfNecessary(UnsafeExternalSorter.java:452)\n",
      "\tat org.apache.spark.util.collection.unsafe.sort.UnsafeExternalSorter.insertRecord(UnsafeExternalSorter.java:487)\n",
      "\tat org.apache.spark.sql.execution.UnsafeExternalRowSorter.insertRow(UnsafeExternalRowSorter.java:138)\n",
      "\tat org.apache.spark.sql.execution.UnsafeExternalRowSorter.sort(UnsafeExternalRowSorter.java:226)\n",
      "\tat org.apache.spark.sql.execution.exchange.ShuffleExchangeExec$.$anonfun$prepareShuffleDependency$10(ShuffleExchangeExec.scala:375)\n",
      "\tat org.apache.spark.rdd.RDD.$anonfun$mapPartitionsInternal$2(RDD.scala:893)\n",
      "\tat org.apache.spark.rdd.RDD.$anonfun$mapPartitionsInternal$2$adapted(RDD.scala:893)\n",
      "\tat org.apache.spark.rdd.MapPartitionsRDD.compute(MapPartitionsRDD.scala:52)\n",
      "\tat org.apache.spark.rdd.RDD.computeOrReadCheckpoint(RDD.scala:367)\n",
      "\tat org.apache.spark.rdd.RDD.iterator(RDD.scala:331)\n",
      "\tat org.apache.spark.rdd.MapPartitionsRDD.compute(MapPartitionsRDD.scala:52)\n",
      "\tat org.apache.spark.rdd.RDD.computeOrReadCheckpoint(RDD.scala:367)\n",
      "\tat org.apache.spark.rdd.RDD.iterator(RDD.scala:331)\n",
      "\tat org.apache.spark.shuffle.ShuffleWriteProcessor.write(ShuffleWriteProcessor.scala:59)\n",
      "\tat org.apache.spark.scheduler.ShuffleMapTask.runTask(ShuffleMapTask.scala:104)\n",
      "\tat org.apache.spark.scheduler.ShuffleMapTask.runTask(ShuffleMapTask.scala:54)\n",
      "\tat org.apache.spark.TaskContext.runTaskWithListeners(TaskContext.scala:166)\n",
      "\tat org.apache.spark.scheduler.Task.run(Task.scala:141)\n",
      "\tat org.apache.spark.executor.Executor$TaskRunner.$anonfun$run$4(Executor.scala:620)\n",
      "\tat org.apache.spark.util.SparkErrorUtils.tryWithSafeFinally(SparkErrorUtils.scala:64)\n",
      "\tat org.apache.spark.util.SparkErrorUtils.tryWithSafeFinally$(SparkErrorUtils.scala:61)\n",
      "\tat org.apache.spark.util.Utils$.tryWithSafeFinally(Utils.scala:94)\n",
      "\tat org.apache.spark.executor.Executor$TaskRunner.run(Executor.scala:623)\n",
      "\tat java.base/java.util.concurrent.ThreadPoolExecutor.runWorker(ThreadPoolExecutor.java:1128)\n",
      "\tat java.base/java.util.concurrent.ThreadPoolExecutor$Worker.run(ThreadPoolExecutor.java:628)\n",
      "\tat java.base/java.lang.Thread.run(Thread.java:829)\n",
      "24/04/11 16:33:50 WARN TaskSetManager: Lost task 6.0 in stage 15.0 (TID 140) (10.6.130.30 executor driver): org.apache.spark.memory.SparkOutOfMemoryError: error while calling spill() on org.apache.spark.util.collection.unsafe.sort.UnsafeExternalSorter@6fa1fc4b : No space left on device\n",
      "\tat org.apache.spark.memory.TaskMemoryManager.trySpillAndAcquire(TaskMemoryManager.java:253)\n",
      "\tat org.apache.spark.memory.TaskMemoryManager.acquireExecutionMemory(TaskMemoryManager.java:190)\n",
      "\tat org.apache.spark.memory.TaskMemoryManager.allocatePage(TaskMemoryManager.java:317)\n",
      "\tat org.apache.spark.memory.MemoryConsumer.allocatePage(MemoryConsumer.java:117)\n",
      "\tat org.apache.spark.util.collection.unsafe.sort.UnsafeExternalSorter.acquireNewPageIfNecessary(UnsafeExternalSorter.java:433)\n",
      "\tat org.apache.spark.util.collection.unsafe.sort.UnsafeExternalSorter.allocateMemoryForRecordIfNecessary(UnsafeExternalSorter.java:452)\n",
      "\tat org.apache.spark.util.collection.unsafe.sort.UnsafeExternalSorter.insertRecord(UnsafeExternalSorter.java:487)\n",
      "\tat org.apache.spark.sql.execution.UnsafeExternalRowSorter.insertRow(UnsafeExternalRowSorter.java:138)\n",
      "\tat org.apache.spark.sql.execution.UnsafeExternalRowSorter.sort(UnsafeExternalRowSorter.java:226)\n",
      "\tat org.apache.spark.sql.execution.exchange.ShuffleExchangeExec$.$anonfun$prepareShuffleDependency$10(ShuffleExchangeExec.scala:375)\n",
      "\tat org.apache.spark.rdd.RDD.$anonfun$mapPartitionsInternal$2(RDD.scala:893)\n",
      "\tat org.apache.spark.rdd.RDD.$anonfun$mapPartitionsInternal$2$adapted(RDD.scala:893)\n",
      "\tat org.apache.spark.rdd.MapPartitionsRDD.compute(MapPartitionsRDD.scala:52)\n",
      "\tat org.apache.spark.rdd.RDD.computeOrReadCheckpoint(RDD.scala:367)\n",
      "\tat org.apache.spark.rdd.RDD.iterator(RDD.scala:331)\n",
      "\tat org.apache.spark.rdd.MapPartitionsRDD.compute(MapPartitionsRDD.scala:52)\n",
      "\tat org.apache.spark.rdd.RDD.computeOrReadCheckpoint(RDD.scala:367)\n",
      "\tat org.apache.spark.rdd.RDD.iterator(RDD.scala:331)\n",
      "\tat org.apache.spark.shuffle.ShuffleWriteProcessor.write(ShuffleWriteProcessor.scala:59)\n",
      "\tat org.apache.spark.scheduler.ShuffleMapTask.runTask(ShuffleMapTask.scala:104)\n",
      "\tat org.apache.spark.scheduler.ShuffleMapTask.runTask(ShuffleMapTask.scala:54)\n",
      "\tat org.apache.spark.TaskContext.runTaskWithListeners(TaskContext.scala:166)\n",
      "\tat org.apache.spark.scheduler.Task.run(Task.scala:141)\n",
      "\tat org.apache.spark.executor.Executor$TaskRunner.$anonfun$run$4(Executor.scala:620)\n",
      "\tat org.apache.spark.util.SparkErrorUtils.tryWithSafeFinally(SparkErrorUtils.scala:64)\n",
      "\tat org.apache.spark.util.SparkErrorUtils.tryWithSafeFinally$(SparkErrorUtils.scala:61)\n",
      "\tat org.apache.spark.util.Utils$.tryWithSafeFinally(Utils.scala:94)\n",
      "\tat org.apache.spark.executor.Executor$TaskRunner.run(Executor.scala:623)\n",
      "\tat java.base/java.util.concurrent.ThreadPoolExecutor.runWorker(ThreadPoolExecutor.java:1128)\n",
      "\tat java.base/java.util.concurrent.ThreadPoolExecutor$Worker.run(ThreadPoolExecutor.java:628)\n",
      "\tat java.base/java.lang.Thread.run(Thread.java:829)\n",
      "\n",
      "24/04/11 16:33:50 ERROR TaskSetManager: Task 6 in stage 15.0 failed 1 times; aborting job\n",
      "24/04/11 16:33:50 WARN TaskSetManager: Lost task 1.0 in stage 15.0 (TID 135) (10.6.130.30 executor driver): org.apache.spark.memory.SparkOutOfMemoryError: error while calling spill() on org.apache.spark.util.collection.unsafe.sort.UnsafeExternalSorter@46abb116 : No space left on device\n",
      "\tat org.apache.spark.memory.TaskMemoryManager.trySpillAndAcquire(TaskMemoryManager.java:253)\n",
      "\tat org.apache.spark.memory.TaskMemoryManager.acquireExecutionMemory(TaskMemoryManager.java:190)\n",
      "\tat org.apache.spark.memory.TaskMemoryManager.allocatePage(TaskMemoryManager.java:317)\n",
      "\tat org.apache.spark.memory.MemoryConsumer.allocatePage(MemoryConsumer.java:117)\n",
      "\tat org.apache.spark.util.collection.unsafe.sort.UnsafeExternalSorter.acquireNewPageIfNecessary(UnsafeExternalSorter.java:433)\n",
      "\tat org.apache.spark.util.collection.unsafe.sort.UnsafeExternalSorter.allocateMemoryForRecordIfNecessary(UnsafeExternalSorter.java:452)\n",
      "\tat org.apache.spark.util.collection.unsafe.sort.UnsafeExternalSorter.insertRecord(UnsafeExternalSorter.java:487)\n",
      "\tat org.apache.spark.sql.execution.UnsafeExternalRowSorter.insertRow(UnsafeExternalRowSorter.java:138)\n",
      "\tat org.apache.spark.sql.execution.UnsafeExternalRowSorter.sort(UnsafeExternalRowSorter.java:226)\n",
      "\tat org.apache.spark.sql.execution.exchange.ShuffleExchangeExec$.$anonfun$prepareShuffleDependency$10(ShuffleExchangeExec.scala:375)\n",
      "\tat org.apache.spark.rdd.RDD.$anonfun$mapPartitionsInternal$2(RDD.scala:893)\n",
      "\tat org.apache.spark.rdd.RDD.$anonfun$mapPartitionsInternal$2$adapted(RDD.scala:893)\n",
      "\tat org.apache.spark.rdd.MapPartitionsRDD.compute(MapPartitionsRDD.scala:52)\n",
      "\tat org.apache.spark.rdd.RDD.computeOrReadCheckpoint(RDD.scala:367)\n",
      "\tat org.apache.spark.rdd.RDD.iterator(RDD.scala:331)\n",
      "\tat org.apache.spark.rdd.MapPartitionsRDD.compute(MapPartitionsRDD.scala:52)\n",
      "\tat org.apache.spark.rdd.RDD.computeOrReadCheckpoint(RDD.scala:367)\n",
      "\tat org.apache.spark.rdd.RDD.iterator(RDD.scala:331)\n",
      "\tat org.apache.spark.shuffle.ShuffleWriteProcessor.write(ShuffleWriteProcessor.scala:59)\n",
      "\tat org.apache.spark.scheduler.ShuffleMapTask.runTask(ShuffleMapTask.scala:104)\n",
      "\tat org.apache.spark.scheduler.ShuffleMapTask.runTask(ShuffleMapTask.scala:54)\n",
      "\tat org.apache.spark.TaskContext.runTaskWithListeners(TaskContext.scala:166)\n",
      "\tat org.apache.spark.scheduler.Task.run(Task.scala:141)\n",
      "\tat org.apache.spark.executor.Executor$TaskRunner.$anonfun$run$4(Executor.scala:620)\n",
      "\tat org.apache.spark.util.SparkErrorUtils.tryWithSafeFinally(SparkErrorUtils.scala:64)\n",
      "\tat org.apache.spark.util.SparkErrorUtils.tryWithSafeFinally$(SparkErrorUtils.scala:61)\n",
      "\tat org.apache.spark.util.Utils$.tryWithSafeFinally(Utils.scala:94)\n",
      "\tat org.apache.spark.executor.Executor$TaskRunner.run(Executor.scala:623)\n",
      "\tat java.base/java.util.concurrent.ThreadPoolExecutor.runWorker(ThreadPoolExecutor.java:1128)\n",
      "\tat java.base/java.util.concurrent.ThreadPoolExecutor$Worker.run(ThreadPoolExecutor.java:628)\n",
      "\tat java.base/java.lang.Thread.run(Thread.java:829)\n",
      "\n",
      "24/04/11 16:33:50 WARN TaskSetManager: Lost task 3.0 in stage 15.0 (TID 137) (10.6.130.30 executor driver): org.apache.spark.memory.SparkOutOfMemoryError: error while calling spill() on org.apache.spark.util.collection.unsafe.sort.UnsafeExternalSorter@179d4539 : No space left on device\n",
      "\tat org.apache.spark.memory.TaskMemoryManager.trySpillAndAcquire(TaskMemoryManager.java:253)\n",
      "\tat org.apache.spark.memory.TaskMemoryManager.acquireExecutionMemory(TaskMemoryManager.java:190)\n",
      "\tat org.apache.spark.memory.TaskMemoryManager.allocatePage(TaskMemoryManager.java:317)\n",
      "\tat org.apache.spark.memory.MemoryConsumer.allocatePage(MemoryConsumer.java:117)\n",
      "\tat org.apache.spark.util.collection.unsafe.sort.UnsafeExternalSorter.acquireNewPageIfNecessary(UnsafeExternalSorter.java:433)\n",
      "\tat org.apache.spark.util.collection.unsafe.sort.UnsafeExternalSorter.allocateMemoryForRecordIfNecessary(UnsafeExternalSorter.java:452)\n",
      "\tat org.apache.spark.util.collection.unsafe.sort.UnsafeExternalSorter.insertRecord(UnsafeExternalSorter.java:487)\n",
      "\tat org.apache.spark.sql.execution.UnsafeExternalRowSorter.insertRow(UnsafeExternalRowSorter.java:138)\n",
      "\tat org.apache.spark.sql.execution.UnsafeExternalRowSorter.sort(UnsafeExternalRowSorter.java:226)\n",
      "\tat org.apache.spark.sql.execution.exchange.ShuffleExchangeExec$.$anonfun$prepareShuffleDependency$10(ShuffleExchangeExec.scala:375)\n",
      "\tat org.apache.spark.rdd.RDD.$anonfun$mapPartitionsInternal$2(RDD.scala:893)\n",
      "\tat org.apache.spark.rdd.RDD.$anonfun$mapPartitionsInternal$2$adapted(RDD.scala:893)\n",
      "\tat org.apache.spark.rdd.MapPartitionsRDD.compute(MapPartitionsRDD.scala:52)\n",
      "\tat org.apache.spark.rdd.RDD.computeOrReadCheckpoint(RDD.scala:367)\n",
      "\tat org.apache.spark.rdd.RDD.iterator(RDD.scala:331)\n",
      "\tat org.apache.spark.rdd.MapPartitionsRDD.compute(MapPartitionsRDD.scala:52)\n",
      "\tat org.apache.spark.rdd.RDD.computeOrReadCheckpoint(RDD.scala:367)\n",
      "\tat org.apache.spark.rdd.RDD.iterator(RDD.scala:331)\n",
      "\tat org.apache.spark.shuffle.ShuffleWriteProcessor.write(ShuffleWriteProcessor.scala:59)\n",
      "\tat org.apache.spark.scheduler.ShuffleMapTask.runTask(ShuffleMapTask.scala:104)\n",
      "\tat org.apache.spark.scheduler.ShuffleMapTask.runTask(ShuffleMapTask.scala:54)\n",
      "\tat org.apache.spark.TaskContext.runTaskWithListeners(TaskContext.scala:166)\n",
      "\tat org.apache.spark.scheduler.Task.run(Task.scala:141)\n",
      "\tat org.apache.spark.executor.Executor$TaskRunner.$anonfun$run$4(Executor.scala:620)\n",
      "\tat org.apache.spark.util.SparkErrorUtils.tryWithSafeFinally(SparkErrorUtils.scala:64)\n",
      "\tat org.apache.spark.util.SparkErrorUtils.tryWithSafeFinally$(SparkErrorUtils.scala:61)\n",
      "\tat org.apache.spark.util.Utils$.tryWithSafeFinally(Utils.scala:94)\n",
      "\tat org.apache.spark.executor.Executor$TaskRunner.run(Executor.scala:623)\n",
      "\tat java.base/java.util.concurrent.ThreadPoolExecutor.runWorker(ThreadPoolExecutor.java:1128)\n",
      "\tat java.base/java.util.concurrent.ThreadPoolExecutor$Worker.run(ThreadPoolExecutor.java:628)\n",
      "\tat java.base/java.lang.Thread.run(Thread.java:829)\n",
      "\n",
      "24/04/11 16:33:50 ERROR Executor: Exception in task 5.0 in stage 15.0 (TID 139)\n",
      "org.apache.spark.memory.SparkOutOfMemoryError: error while calling spill() on org.apache.spark.util.collection.unsafe.sort.UnsafeExternalSorter@69c85b9b : No space left on device\n",
      "\tat org.apache.spark.memory.TaskMemoryManager.trySpillAndAcquire(TaskMemoryManager.java:253)\n",
      "\tat org.apache.spark.memory.TaskMemoryManager.acquireExecutionMemory(TaskMemoryManager.java:190)\n",
      "\tat org.apache.spark.memory.TaskMemoryManager.allocatePage(TaskMemoryManager.java:317)\n",
      "\tat org.apache.spark.memory.MemoryConsumer.allocatePage(MemoryConsumer.java:117)\n",
      "\tat org.apache.spark.util.collection.unsafe.sort.UnsafeExternalSorter.acquireNewPageIfNecessary(UnsafeExternalSorter.java:433)\n",
      "\tat org.apache.spark.util.collection.unsafe.sort.UnsafeExternalSorter.allocateMemoryForRecordIfNecessary(UnsafeExternalSorter.java:452)\n",
      "\tat org.apache.spark.util.collection.unsafe.sort.UnsafeExternalSorter.insertRecord(UnsafeExternalSorter.java:487)\n",
      "\tat org.apache.spark.sql.execution.UnsafeExternalRowSorter.insertRow(UnsafeExternalRowSorter.java:138)\n",
      "\tat org.apache.spark.sql.execution.UnsafeExternalRowSorter.sort(UnsafeExternalRowSorter.java:226)\n",
      "\tat org.apache.spark.sql.execution.exchange.ShuffleExchangeExec$.$anonfun$prepareShuffleDependency$10(ShuffleExchangeExec.scala:375)\n",
      "\tat org.apache.spark.rdd.RDD.$anonfun$mapPartitionsInternal$2(RDD.scala:893)\n",
      "\tat org.apache.spark.rdd.RDD.$anonfun$mapPartitionsInternal$2$adapted(RDD.scala:893)\n",
      "\tat org.apache.spark.rdd.MapPartitionsRDD.compute(MapPartitionsRDD.scala:52)\n",
      "\tat org.apache.spark.rdd.RDD.computeOrReadCheckpoint(RDD.scala:367)\n",
      "\tat org.apache.spark.rdd.RDD.iterator(RDD.scala:331)\n",
      "\tat org.apache.spark.rdd.MapPartitionsRDD.compute(MapPartitionsRDD.scala:52)\n",
      "\tat org.apache.spark.rdd.RDD.computeOrReadCheckpoint(RDD.scala:367)\n",
      "\tat org.apache.spark.rdd.RDD.iterator(RDD.scala:331)\n",
      "\tat org.apache.spark.shuffle.ShuffleWriteProcessor.write(ShuffleWriteProcessor.scala:59)\n",
      "\tat org.apache.spark.scheduler.ShuffleMapTask.runTask(ShuffleMapTask.scala:104)\n",
      "\tat org.apache.spark.scheduler.ShuffleMapTask.runTask(ShuffleMapTask.scala:54)\n",
      "\tat org.apache.spark.TaskContext.runTaskWithListeners(TaskContext.scala:166)\n",
      "\tat org.apache.spark.scheduler.Task.run(Task.scala:141)\n",
      "\tat org.apache.spark.executor.Executor$TaskRunner.$anonfun$run$4(Executor.scala:620)\n",
      "\tat org.apache.spark.util.SparkErrorUtils.tryWithSafeFinally(SparkErrorUtils.scala:64)\n",
      "\tat org.apache.spark.util.SparkErrorUtils.tryWithSafeFinally$(SparkErrorUtils.scala:61)\n",
      "\tat org.apache.spark.util.Utils$.tryWithSafeFinally(Utils.scala:94)\n",
      "\tat org.apache.spark.executor.Executor$TaskRunner.run(Executor.scala:623)\n",
      "\tat java.base/java.util.concurrent.ThreadPoolExecutor.runWorker(ThreadPoolExecutor.java:1128)\n",
      "\tat java.base/java.util.concurrent.ThreadPoolExecutor$Worker.run(ThreadPoolExecutor.java:628)\n",
      "\tat java.base/java.lang.Thread.run(Thread.java:829)\n",
      "24/04/11 16:33:50 ERROR Executor: Exception in task 7.0 in stage 15.0 (TID 141)\n",
      "org.apache.spark.memory.SparkOutOfMemoryError: error while calling spill() on org.apache.spark.util.collection.unsafe.sort.UnsafeExternalSorter@66162334 : No space left on device\n",
      "\tat org.apache.spark.memory.TaskMemoryManager.trySpillAndAcquire(TaskMemoryManager.java:253)\n",
      "\tat org.apache.spark.memory.TaskMemoryManager.acquireExecutionMemory(TaskMemoryManager.java:190)\n",
      "\tat org.apache.spark.memory.TaskMemoryManager.allocatePage(TaskMemoryManager.java:317)\n",
      "\tat org.apache.spark.memory.MemoryConsumer.allocatePage(MemoryConsumer.java:117)\n",
      "\tat org.apache.spark.util.collection.unsafe.sort.UnsafeExternalSorter.acquireNewPageIfNecessary(UnsafeExternalSorter.java:433)\n",
      "\tat org.apache.spark.util.collection.unsafe.sort.UnsafeExternalSorter.allocateMemoryForRecordIfNecessary(UnsafeExternalSorter.java:452)\n",
      "\tat org.apache.spark.util.collection.unsafe.sort.UnsafeExternalSorter.insertRecord(UnsafeExternalSorter.java:487)\n",
      "\tat org.apache.spark.sql.execution.UnsafeExternalRowSorter.insertRow(UnsafeExternalRowSorter.java:138)\n",
      "\tat org.apache.spark.sql.execution.UnsafeExternalRowSorter.sort(UnsafeExternalRowSorter.java:226)\n",
      "\tat org.apache.spark.sql.execution.exchange.ShuffleExchangeExec$.$anonfun$prepareShuffleDependency$10(ShuffleExchangeExec.scala:375)\n",
      "\tat org.apache.spark.rdd.RDD.$anonfun$mapPartitionsInternal$2(RDD.scala:893)\n",
      "\tat org.apache.spark.rdd.RDD.$anonfun$mapPartitionsInternal$2$adapted(RDD.scala:893)\n",
      "\tat org.apache.spark.rdd.MapPartitionsRDD.compute(MapPartitionsRDD.scala:52)\n",
      "\tat org.apache.spark.rdd.RDD.computeOrReadCheckpoint(RDD.scala:367)\n",
      "\tat org.apache.spark.rdd.RDD.iterator(RDD.scala:331)\n",
      "\tat org.apache.spark.rdd.MapPartitionsRDD.compute(MapPartitionsRDD.scala:52)\n",
      "\tat org.apache.spark.rdd.RDD.computeOrReadCheckpoint(RDD.scala:367)\n",
      "\tat org.apache.spark.rdd.RDD.iterator(RDD.scala:331)\n",
      "\tat org.apache.spark.shuffle.ShuffleWriteProcessor.write(ShuffleWriteProcessor.scala:59)\n",
      "\tat org.apache.spark.scheduler.ShuffleMapTask.runTask(ShuffleMapTask.scala:104)\n",
      "\tat org.apache.spark.scheduler.ShuffleMapTask.runTask(ShuffleMapTask.scala:54)\n",
      "\tat org.apache.spark.TaskContext.runTaskWithListeners(TaskContext.scala:166)\n",
      "\tat org.apache.spark.scheduler.Task.run(Task.scala:141)\n",
      "\tat org.apache.spark.executor.Executor$TaskRunner.$anonfun$run$4(Executor.scala:620)\n",
      "\tat org.apache.spark.util.SparkErrorUtils.tryWithSafeFinally(SparkErrorUtils.scala:64)\n",
      "\tat org.apache.spark.util.SparkErrorUtils.tryWithSafeFinally$(SparkErrorUtils.scala:61)\n",
      "\tat org.apache.spark.util.Utils$.tryWithSafeFinally(Utils.scala:94)\n",
      "\tat org.apache.spark.executor.Executor$TaskRunner.run(Executor.scala:623)\n",
      "\tat java.base/java.util.concurrent.ThreadPoolExecutor.runWorker(ThreadPoolExecutor.java:1128)\n",
      "\tat java.base/java.util.concurrent.ThreadPoolExecutor$Worker.run(ThreadPoolExecutor.java:628)\n",
      "\tat java.base/java.lang.Thread.run(Thread.java:829)\n",
      "24/04/11 16:33:50 WARN TaskSetManager: Lost task 5.0 in stage 15.0 (TID 139) (10.6.130.30 executor driver): org.apache.spark.memory.SparkOutOfMemoryError: error while calling spill() on org.apache.spark.util.collection.unsafe.sort.UnsafeExternalSorter@69c85b9b : No space left on device\n",
      "\tat org.apache.spark.memory.TaskMemoryManager.trySpillAndAcquire(TaskMemoryManager.java:253)\n",
      "\tat org.apache.spark.memory.TaskMemoryManager.acquireExecutionMemory(TaskMemoryManager.java:190)\n",
      "\tat org.apache.spark.memory.TaskMemoryManager.allocatePage(TaskMemoryManager.java:317)\n",
      "\tat org.apache.spark.memory.MemoryConsumer.allocatePage(MemoryConsumer.java:117)\n",
      "\tat org.apache.spark.util.collection.unsafe.sort.UnsafeExternalSorter.acquireNewPageIfNecessary(UnsafeExternalSorter.java:433)\n",
      "\tat org.apache.spark.util.collection.unsafe.sort.UnsafeExternalSorter.allocateMemoryForRecordIfNecessary(UnsafeExternalSorter.java:452)\n",
      "\tat org.apache.spark.util.collection.unsafe.sort.UnsafeExternalSorter.insertRecord(UnsafeExternalSorter.java:487)\n",
      "\tat org.apache.spark.sql.execution.UnsafeExternalRowSorter.insertRow(UnsafeExternalRowSorter.java:138)\n",
      "\tat org.apache.spark.sql.execution.UnsafeExternalRowSorter.sort(UnsafeExternalRowSorter.java:226)\n",
      "\tat org.apache.spark.sql.execution.exchange.ShuffleExchangeExec$.$anonfun$prepareShuffleDependency$10(ShuffleExchangeExec.scala:375)\n",
      "\tat org.apache.spark.rdd.RDD.$anonfun$mapPartitionsInternal$2(RDD.scala:893)\n",
      "\tat org.apache.spark.rdd.RDD.$anonfun$mapPartitionsInternal$2$adapted(RDD.scala:893)\n",
      "\tat org.apache.spark.rdd.MapPartitionsRDD.compute(MapPartitionsRDD.scala:52)\n",
      "\tat org.apache.spark.rdd.RDD.computeOrReadCheckpoint(RDD.scala:367)\n",
      "\tat org.apache.spark.rdd.RDD.iterator(RDD.scala:331)\n",
      "\tat org.apache.spark.rdd.MapPartitionsRDD.compute(MapPartitionsRDD.scala:52)\n",
      "\tat org.apache.spark.rdd.RDD.computeOrReadCheckpoint(RDD.scala:367)\n",
      "\tat org.apache.spark.rdd.RDD.iterator(RDD.scala:331)\n",
      "\tat org.apache.spark.shuffle.ShuffleWriteProcessor.write(ShuffleWriteProcessor.scala:59)\n",
      "\tat org.apache.spark.scheduler.ShuffleMapTask.runTask(ShuffleMapTask.scala:104)\n",
      "\tat org.apache.spark.scheduler.ShuffleMapTask.runTask(ShuffleMapTask.scala:54)\n",
      "\tat org.apache.spark.TaskContext.runTaskWithListeners(TaskContext.scala:166)\n",
      "\tat org.apache.spark.scheduler.Task.run(Task.scala:141)\n",
      "\tat org.apache.spark.executor.Executor$TaskRunner.$anonfun$run$4(Executor.scala:620)\n",
      "\tat org.apache.spark.util.SparkErrorUtils.tryWithSafeFinally(SparkErrorUtils.scala:64)\n",
      "\tat org.apache.spark.util.SparkErrorUtils.tryWithSafeFinally$(SparkErrorUtils.scala:61)\n",
      "\tat org.apache.spark.util.Utils$.tryWithSafeFinally(Utils.scala:94)\n",
      "\tat org.apache.spark.executor.Executor$TaskRunner.run(Executor.scala:623)\n",
      "\tat java.base/java.util.concurrent.ThreadPoolExecutor.runWorker(ThreadPoolExecutor.java:1128)\n",
      "\tat java.base/java.util.concurrent.ThreadPoolExecutor$Worker.run(ThreadPoolExecutor.java:628)\n",
      "\tat java.base/java.lang.Thread.run(Thread.java:829)\n",
      "\n",
      "24/04/11 16:33:50 WARN TaskSetManager: Lost task 7.0 in stage 15.0 (TID 141) (10.6.130.30 executor driver): org.apache.spark.memory.SparkOutOfMemoryError: error while calling spill() on org.apache.spark.util.collection.unsafe.sort.UnsafeExternalSorter@66162334 : No space left on device\n",
      "\tat org.apache.spark.memory.TaskMemoryManager.trySpillAndAcquire(TaskMemoryManager.java:253)\n",
      "\tat org.apache.spark.memory.TaskMemoryManager.acquireExecutionMemory(TaskMemoryManager.java:190)\n",
      "\tat org.apache.spark.memory.TaskMemoryManager.allocatePage(TaskMemoryManager.java:317)\n",
      "\tat org.apache.spark.memory.MemoryConsumer.allocatePage(MemoryConsumer.java:117)\n",
      "\tat org.apache.spark.util.collection.unsafe.sort.UnsafeExternalSorter.acquireNewPageIfNecessary(UnsafeExternalSorter.java:433)\n",
      "\tat org.apache.spark.util.collection.unsafe.sort.UnsafeExternalSorter.allocateMemoryForRecordIfNecessary(UnsafeExternalSorter.java:452)\n",
      "\tat org.apache.spark.util.collection.unsafe.sort.UnsafeExternalSorter.insertRecord(UnsafeExternalSorter.java:487)\n",
      "\tat org.apache.spark.sql.execution.UnsafeExternalRowSorter.insertRow(UnsafeExternalRowSorter.java:138)\n",
      "\tat org.apache.spark.sql.execution.UnsafeExternalRowSorter.sort(UnsafeExternalRowSorter.java:226)\n",
      "\tat org.apache.spark.sql.execution.exchange.ShuffleExchangeExec$.$anonfun$prepareShuffleDependency$10(ShuffleExchangeExec.scala:375)\n",
      "\tat org.apache.spark.rdd.RDD.$anonfun$mapPartitionsInternal$2(RDD.scala:893)\n",
      "\tat org.apache.spark.rdd.RDD.$anonfun$mapPartitionsInternal$2$adapted(RDD.scala:893)\n",
      "\tat org.apache.spark.rdd.MapPartitionsRDD.compute(MapPartitionsRDD.scala:52)\n",
      "\tat org.apache.spark.rdd.RDD.computeOrReadCheckpoint(RDD.scala:367)\n",
      "\tat org.apache.spark.rdd.RDD.iterator(RDD.scala:331)\n",
      "\tat org.apache.spark.rdd.MapPartitionsRDD.compute(MapPartitionsRDD.scala:52)\n",
      "\tat org.apache.spark.rdd.RDD.computeOrReadCheckpoint(RDD.scala:367)\n",
      "\tat org.apache.spark.rdd.RDD.iterator(RDD.scala:331)\n",
      "\tat org.apache.spark.shuffle.ShuffleWriteProcessor.write(ShuffleWriteProcessor.scala:59)\n",
      "\tat org.apache.spark.scheduler.ShuffleMapTask.runTask(ShuffleMapTask.scala:104)\n",
      "\tat org.apache.spark.scheduler.ShuffleMapTask.runTask(ShuffleMapTask.scala:54)\n",
      "\tat org.apache.spark.TaskContext.runTaskWithListeners(TaskContext.scala:166)\n",
      "\tat org.apache.spark.scheduler.Task.run(Task.scala:141)\n",
      "\tat org.apache.spark.executor.Executor$TaskRunner.$anonfun$run$4(Executor.scala:620)\n",
      "\tat org.apache.spark.util.SparkErrorUtils.tryWithSafeFinally(SparkErrorUtils.scala:64)\n",
      "\tat org.apache.spark.util.SparkErrorUtils.tryWithSafeFinally$(SparkErrorUtils.scala:61)\n",
      "\tat org.apache.spark.util.Utils$.tryWithSafeFinally(Utils.scala:94)\n",
      "\tat org.apache.spark.executor.Executor$TaskRunner.run(Executor.scala:623)\n",
      "\tat java.base/java.util.concurrent.ThreadPoolExecutor.runWorker(ThreadPoolExecutor.java:1128)\n",
      "\tat java.base/java.util.concurrent.ThreadPoolExecutor$Worker.run(ThreadPoolExecutor.java:628)\n",
      "\tat java.base/java.lang.Thread.run(Thread.java:829)\n",
      "\n",
      "24/04/11 16:33:50 ERROR Executor: Exception in task 0.0 in stage 15.0 (TID 134)\n",
      "org.apache.spark.memory.SparkOutOfMemoryError: error while calling spill() on org.apache.spark.util.collection.unsafe.sort.UnsafeExternalSorter@ea51e4d : No space left on device\n",
      "\tat org.apache.spark.memory.TaskMemoryManager.trySpillAndAcquire(TaskMemoryManager.java:253)\n",
      "\tat org.apache.spark.memory.TaskMemoryManager.acquireExecutionMemory(TaskMemoryManager.java:190)\n",
      "\tat org.apache.spark.memory.TaskMemoryManager.allocatePage(TaskMemoryManager.java:317)\n",
      "\tat org.apache.spark.memory.MemoryConsumer.allocatePage(MemoryConsumer.java:117)\n",
      "\tat org.apache.spark.util.collection.unsafe.sort.UnsafeExternalSorter.acquireNewPageIfNecessary(UnsafeExternalSorter.java:433)\n",
      "\tat org.apache.spark.util.collection.unsafe.sort.UnsafeExternalSorter.allocateMemoryForRecordIfNecessary(UnsafeExternalSorter.java:452)\n",
      "\tat org.apache.spark.util.collection.unsafe.sort.UnsafeExternalSorter.insertRecord(UnsafeExternalSorter.java:487)\n",
      "\tat org.apache.spark.sql.execution.UnsafeExternalRowSorter.insertRow(UnsafeExternalRowSorter.java:138)\n",
      "\tat org.apache.spark.sql.execution.UnsafeExternalRowSorter.sort(UnsafeExternalRowSorter.java:226)\n",
      "\tat org.apache.spark.sql.execution.exchange.ShuffleExchangeExec$.$anonfun$prepareShuffleDependency$10(ShuffleExchangeExec.scala:375)\n",
      "\tat org.apache.spark.rdd.RDD.$anonfun$mapPartitionsInternal$2(RDD.scala:893)\n",
      "\tat org.apache.spark.rdd.RDD.$anonfun$mapPartitionsInternal$2$adapted(RDD.scala:893)\n",
      "\tat org.apache.spark.rdd.MapPartitionsRDD.compute(MapPartitionsRDD.scala:52)\n",
      "\tat org.apache.spark.rdd.RDD.computeOrReadCheckpoint(RDD.scala:367)\n",
      "\tat org.apache.spark.rdd.RDD.iterator(RDD.scala:331)\n",
      "\tat org.apache.spark.rdd.MapPartitionsRDD.compute(MapPartitionsRDD.scala:52)\n",
      "\tat org.apache.spark.rdd.RDD.computeOrReadCheckpoint(RDD.scala:367)\n",
      "\tat org.apache.spark.rdd.RDD.iterator(RDD.scala:331)\n",
      "\tat org.apache.spark.shuffle.ShuffleWriteProcessor.write(ShuffleWriteProcessor.scala:59)\n",
      "\tat org.apache.spark.scheduler.ShuffleMapTask.runTask(ShuffleMapTask.scala:104)\n",
      "\tat org.apache.spark.scheduler.ShuffleMapTask.runTask(ShuffleMapTask.scala:54)\n",
      "\tat org.apache.spark.TaskContext.runTaskWithListeners(TaskContext.scala:166)\n",
      "\tat org.apache.spark.scheduler.Task.run(Task.scala:141)\n",
      "\tat org.apache.spark.executor.Executor$TaskRunner.$anonfun$run$4(Executor.scala:620)\n",
      "\tat org.apache.spark.util.SparkErrorUtils.tryWithSafeFinally(SparkErrorUtils.scala:64)\n",
      "\tat org.apache.spark.util.SparkErrorUtils.tryWithSafeFinally$(SparkErrorUtils.scala:61)\n",
      "\tat org.apache.spark.util.Utils$.tryWithSafeFinally(Utils.scala:94)\n",
      "\tat org.apache.spark.executor.Executor$TaskRunner.run(Executor.scala:623)\n",
      "\tat java.base/java.util.concurrent.ThreadPoolExecutor.runWorker(ThreadPoolExecutor.java:1128)\n",
      "\tat java.base/java.util.concurrent.ThreadPoolExecutor$Worker.run(ThreadPoolExecutor.java:628)\n",
      "\tat java.base/java.lang.Thread.run(Thread.java:829)\n",
      "24/04/11 16:33:50 WARN TaskSetManager: Lost task 0.0 in stage 15.0 (TID 134) (10.6.130.30 executor driver): org.apache.spark.memory.SparkOutOfMemoryError: error while calling spill() on org.apache.spark.util.collection.unsafe.sort.UnsafeExternalSorter@ea51e4d : No space left on device\n",
      "\tat org.apache.spark.memory.TaskMemoryManager.trySpillAndAcquire(TaskMemoryManager.java:253)\n",
      "\tat org.apache.spark.memory.TaskMemoryManager.acquireExecutionMemory(TaskMemoryManager.java:190)\n",
      "\tat org.apache.spark.memory.TaskMemoryManager.allocatePage(TaskMemoryManager.java:317)\n",
      "\tat org.apache.spark.memory.MemoryConsumer.allocatePage(MemoryConsumer.java:117)\n",
      "\tat org.apache.spark.util.collection.unsafe.sort.UnsafeExternalSorter.acquireNewPageIfNecessary(UnsafeExternalSorter.java:433)\n",
      "\tat org.apache.spark.util.collection.unsafe.sort.UnsafeExternalSorter.allocateMemoryForRecordIfNecessary(UnsafeExternalSorter.java:452)\n",
      "\tat org.apache.spark.util.collection.unsafe.sort.UnsafeExternalSorter.insertRecord(UnsafeExternalSorter.java:487)\n",
      "\tat org.apache.spark.sql.execution.UnsafeExternalRowSorter.insertRow(UnsafeExternalRowSorter.java:138)\n",
      "\tat org.apache.spark.sql.execution.UnsafeExternalRowSorter.sort(UnsafeExternalRowSorter.java:226)\n",
      "\tat org.apache.spark.sql.execution.exchange.ShuffleExchangeExec$.$anonfun$prepareShuffleDependency$10(ShuffleExchangeExec.scala:375)\n",
      "\tat org.apache.spark.rdd.RDD.$anonfun$mapPartitionsInternal$2(RDD.scala:893)\n",
      "\tat org.apache.spark.rdd.RDD.$anonfun$mapPartitionsInternal$2$adapted(RDD.scala:893)\n",
      "\tat org.apache.spark.rdd.MapPartitionsRDD.compute(MapPartitionsRDD.scala:52)\n",
      "\tat org.apache.spark.rdd.RDD.computeOrReadCheckpoint(RDD.scala:367)\n",
      "\tat org.apache.spark.rdd.RDD.iterator(RDD.scala:331)\n",
      "\tat org.apache.spark.rdd.MapPartitionsRDD.compute(MapPartitionsRDD.scala:52)\n",
      "\tat org.apache.spark.rdd.RDD.computeOrReadCheckpoint(RDD.scala:367)\n",
      "\tat org.apache.spark.rdd.RDD.iterator(RDD.scala:331)\n",
      "\tat org.apache.spark.shuffle.ShuffleWriteProcessor.write(ShuffleWriteProcessor.scala:59)\n",
      "\tat org.apache.spark.scheduler.ShuffleMapTask.runTask(ShuffleMapTask.scala:104)\n",
      "\tat org.apache.spark.scheduler.ShuffleMapTask.runTask(ShuffleMapTask.scala:54)\n",
      "\tat org.apache.spark.TaskContext.runTaskWithListeners(TaskContext.scala:166)\n",
      "\tat org.apache.spark.scheduler.Task.run(Task.scala:141)\n",
      "\tat org.apache.spark.executor.Executor$TaskRunner.$anonfun$run$4(Executor.scala:620)\n",
      "\tat org.apache.spark.util.SparkErrorUtils.tryWithSafeFinally(SparkErrorUtils.scala:64)\n",
      "\tat org.apache.spark.util.SparkErrorUtils.tryWithSafeFinally$(SparkErrorUtils.scala:61)\n",
      "\tat org.apache.spark.util.Utils$.tryWithSafeFinally(Utils.scala:94)\n",
      "\tat org.apache.spark.executor.Executor$TaskRunner.run(Executor.scala:623)\n",
      "\tat java.base/java.util.concurrent.ThreadPoolExecutor.runWorker(ThreadPoolExecutor.java:1128)\n",
      "\tat java.base/java.util.concurrent.ThreadPoolExecutor$Worker.run(ThreadPoolExecutor.java:628)\n",
      "\tat java.base/java.lang.Thread.run(Thread.java:829)\n",
      "\n",
      "24/04/11 16:33:50 ERROR Executor: Exception in task 4.0 in stage 15.0 (TID 138)\n",
      "org.apache.spark.memory.SparkOutOfMemoryError: error while calling spill() on org.apache.spark.util.collection.unsafe.sort.UnsafeExternalSorter@29b2494b : No space left on device\n",
      "\tat org.apache.spark.memory.TaskMemoryManager.trySpillAndAcquire(TaskMemoryManager.java:253)\n",
      "\tat org.apache.spark.memory.TaskMemoryManager.acquireExecutionMemory(TaskMemoryManager.java:190)\n",
      "\tat org.apache.spark.memory.TaskMemoryManager.allocatePage(TaskMemoryManager.java:317)\n",
      "\tat org.apache.spark.memory.MemoryConsumer.allocatePage(MemoryConsumer.java:117)\n",
      "\tat org.apache.spark.util.collection.unsafe.sort.UnsafeExternalSorter.acquireNewPageIfNecessary(UnsafeExternalSorter.java:433)\n",
      "\tat org.apache.spark.util.collection.unsafe.sort.UnsafeExternalSorter.allocateMemoryForRecordIfNecessary(UnsafeExternalSorter.java:452)\n",
      "\tat org.apache.spark.util.collection.unsafe.sort.UnsafeExternalSorter.insertRecord(UnsafeExternalSorter.java:487)\n",
      "\tat org.apache.spark.sql.execution.UnsafeExternalRowSorter.insertRow(UnsafeExternalRowSorter.java:138)\n",
      "\tat org.apache.spark.sql.execution.UnsafeExternalRowSorter.sort(UnsafeExternalRowSorter.java:226)\n",
      "\tat org.apache.spark.sql.execution.exchange.ShuffleExchangeExec$.$anonfun$prepareShuffleDependency$10(ShuffleExchangeExec.scala:375)\n",
      "\tat org.apache.spark.rdd.RDD.$anonfun$mapPartitionsInternal$2(RDD.scala:893)\n",
      "\tat org.apache.spark.rdd.RDD.$anonfun$mapPartitionsInternal$2$adapted(RDD.scala:893)\n",
      "\tat org.apache.spark.rdd.MapPartitionsRDD.compute(MapPartitionsRDD.scala:52)\n",
      "\tat org.apache.spark.rdd.RDD.computeOrReadCheckpoint(RDD.scala:367)\n",
      "\tat org.apache.spark.rdd.RDD.iterator(RDD.scala:331)\n",
      "\tat org.apache.spark.rdd.MapPartitionsRDD.compute(MapPartitionsRDD.scala:52)\n",
      "\tat org.apache.spark.rdd.RDD.computeOrReadCheckpoint(RDD.scala:367)\n",
      "\tat org.apache.spark.rdd.RDD.iterator(RDD.scala:331)\n",
      "\tat org.apache.spark.shuffle.ShuffleWriteProcessor.write(ShuffleWriteProcessor.scala:59)\n",
      "\tat org.apache.spark.scheduler.ShuffleMapTask.runTask(ShuffleMapTask.scala:104)\n",
      "\tat org.apache.spark.scheduler.ShuffleMapTask.runTask(ShuffleMapTask.scala:54)\n",
      "\tat org.apache.spark.TaskContext.runTaskWithListeners(TaskContext.scala:166)\n",
      "\tat org.apache.spark.scheduler.Task.run(Task.scala:141)\n",
      "\tat org.apache.spark.executor.Executor$TaskRunner.$anonfun$run$4(Executor.scala:620)\n",
      "\tat org.apache.spark.util.SparkErrorUtils.tryWithSafeFinally(SparkErrorUtils.scala:64)\n",
      "\tat org.apache.spark.util.SparkErrorUtils.tryWithSafeFinally$(SparkErrorUtils.scala:61)\n",
      "\tat org.apache.spark.util.Utils$.tryWithSafeFinally(Utils.scala:94)\n",
      "\tat org.apache.spark.executor.Executor$TaskRunner.run(Executor.scala:623)\n",
      "\tat java.base/java.util.concurrent.ThreadPoolExecutor.runWorker(ThreadPoolExecutor.java:1128)\n",
      "\tat java.base/java.util.concurrent.ThreadPoolExecutor$Worker.run(ThreadPoolExecutor.java:628)\n",
      "\tat java.base/java.lang.Thread.run(Thread.java:829)\n",
      "24/04/11 16:33:50 WARN TaskSetManager: Lost task 4.0 in stage 15.0 (TID 138) (10.6.130.30 executor driver): org.apache.spark.memory.SparkOutOfMemoryError: error while calling spill() on org.apache.spark.util.collection.unsafe.sort.UnsafeExternalSorter@29b2494b : No space left on device\n",
      "\tat org.apache.spark.memory.TaskMemoryManager.trySpillAndAcquire(TaskMemoryManager.java:253)\n",
      "\tat org.apache.spark.memory.TaskMemoryManager.acquireExecutionMemory(TaskMemoryManager.java:190)\n",
      "\tat org.apache.spark.memory.TaskMemoryManager.allocatePage(TaskMemoryManager.java:317)\n",
      "\tat org.apache.spark.memory.MemoryConsumer.allocatePage(MemoryConsumer.java:117)\n",
      "\tat org.apache.spark.util.collection.unsafe.sort.UnsafeExternalSorter.acquireNewPageIfNecessary(UnsafeExternalSorter.java:433)\n",
      "\tat org.apache.spark.util.collection.unsafe.sort.UnsafeExternalSorter.allocateMemoryForRecordIfNecessary(UnsafeExternalSorter.java:452)\n",
      "\tat org.apache.spark.util.collection.unsafe.sort.UnsafeExternalSorter.insertRecord(UnsafeExternalSorter.java:487)\n",
      "\tat org.apache.spark.sql.execution.UnsafeExternalRowSorter.insertRow(UnsafeExternalRowSorter.java:138)\n",
      "\tat org.apache.spark.sql.execution.UnsafeExternalRowSorter.sort(UnsafeExternalRowSorter.java:226)\n",
      "\tat org.apache.spark.sql.execution.exchange.ShuffleExchangeExec$.$anonfun$prepareShuffleDependency$10(ShuffleExchangeExec.scala:375)\n",
      "\tat org.apache.spark.rdd.RDD.$anonfun$mapPartitionsInternal$2(RDD.scala:893)\n",
      "\tat org.apache.spark.rdd.RDD.$anonfun$mapPartitionsInternal$2$adapted(RDD.scala:893)\n",
      "\tat org.apache.spark.rdd.MapPartitionsRDD.compute(MapPartitionsRDD.scala:52)\n",
      "\tat org.apache.spark.rdd.RDD.computeOrReadCheckpoint(RDD.scala:367)\n",
      "\tat org.apache.spark.rdd.RDD.iterator(RDD.scala:331)\n",
      "\tat org.apache.spark.rdd.MapPartitionsRDD.compute(MapPartitionsRDD.scala:52)\n",
      "\tat org.apache.spark.rdd.RDD.computeOrReadCheckpoint(RDD.scala:367)\n",
      "\tat org.apache.spark.rdd.RDD.iterator(RDD.scala:331)\n",
      "\tat org.apache.spark.shuffle.ShuffleWriteProcessor.write(ShuffleWriteProcessor.scala:59)\n",
      "\tat org.apache.spark.scheduler.ShuffleMapTask.runTask(ShuffleMapTask.scala:104)\n",
      "\tat org.apache.spark.scheduler.ShuffleMapTask.runTask(ShuffleMapTask.scala:54)\n",
      "\tat org.apache.spark.TaskContext.runTaskWithListeners(TaskContext.scala:166)\n",
      "\tat org.apache.spark.scheduler.Task.run(Task.scala:141)\n",
      "\tat org.apache.spark.executor.Executor$TaskRunner.$anonfun$run$4(Executor.scala:620)\n",
      "\tat org.apache.spark.util.SparkErrorUtils.tryWithSafeFinally(SparkErrorUtils.scala:64)\n",
      "\tat org.apache.spark.util.SparkErrorUtils.tryWithSafeFinally$(SparkErrorUtils.scala:61)\n",
      "\tat org.apache.spark.util.Utils$.tryWithSafeFinally(Utils.scala:94)\n",
      "\tat org.apache.spark.executor.Executor$TaskRunner.run(Executor.scala:623)\n",
      "\tat java.base/java.util.concurrent.ThreadPoolExecutor.runWorker(ThreadPoolExecutor.java:1128)\n",
      "\tat java.base/java.util.concurrent.ThreadPoolExecutor$Worker.run(ThreadPoolExecutor.java:628)\n",
      "\tat java.base/java.lang.Thread.run(Thread.java:829)\n",
      "\n",
      "24/04/11 16:33:50 WARN TaskSetManager: Lost task 8.0 in stage 15.0 (TID 142) (10.6.130.30 executor driver): TaskKilled (Stage cancelled: Job aborted due to stage failure: Task 6 in stage 15.0 failed 1 times, most recent failure: Lost task 6.0 in stage 15.0 (TID 140) (10.6.130.30 executor driver): org.apache.spark.memory.SparkOutOfMemoryError: error while calling spill() on org.apache.spark.util.collection.unsafe.sort.UnsafeExternalSorter@6fa1fc4b : No space left on device\n",
      "\tat org.apache.spark.memory.TaskMemoryManager.trySpillAndAcquire(TaskMemoryManager.java:253)\n",
      "\tat org.apache.spark.memory.TaskMemoryManager.acquireExecutionMemory(TaskMemoryManager.java:190)\n",
      "\tat org.apache.spark.memory.TaskMemoryManager.allocatePage(TaskMemoryManager.java:317)\n",
      "\tat org.apache.spark.memory.MemoryConsumer.allocatePage(MemoryConsumer.java:117)\n",
      "\tat org.apache.spark.util.collection.unsafe.sort.UnsafeExternalSorter.acquireNewPageIfNecessary(UnsafeExternalSorter.java:433)\n",
      "\tat org.apache.spark.util.collection.unsafe.sort.UnsafeExternalSorter.allocateMemoryForRecordIfNecessary(UnsafeExternalSorter.java:452)\n",
      "\tat org.apache.spark.util.collection.unsafe.sort.UnsafeExternalSorter.insertRecord(UnsafeExternalSorter.java:487)\n",
      "\tat org.apache.spark.sql.execution.UnsafeExternalRowSorter.insertRow(UnsafeExternalRowSorter.java:138)\n",
      "\tat org.apache.spark.sql.execution.UnsafeExternalRowSorter.sort(UnsafeExternalRowSorter.java:226)\n",
      "\tat org.apache.spark.sql.execution.exchange.ShuffleExchangeExec$.$anonfun$prepareShuffleDependency$10(ShuffleExchangeExec.scala:375)\n",
      "\tat org.apache.spark.rdd.RDD.$anonfun$mapPartitionsInternal$2(RDD.scala:893)\n",
      "\tat org.apache.spark.rdd.RDD.$anonfun$mapPartitionsInternal$2$adapted(RDD.scala:893)\n",
      "\tat org.apache.spark.rdd.MapPartitionsRDD.compute(MapPartitionsRDD.scala:52)\n",
      "\tat org.apache.spark.rdd.RDD.computeOrReadCheckpoint(RDD.scala:367)\n",
      "\tat org.apache.spark.rdd.RDD.iterator(RDD.scala:331)\n",
      "\tat org.apache.spark.rdd.MapPartitionsRDD.compute(MapPartitionsRDD.scala:52)\n",
      "\tat org.apache.spark.rdd.RDD.computeOrReadCheckpoint(RDD.scala:367)\n",
      "\tat org.apache.spark.rdd.RDD.iterator(RDD.scala:331)\n",
      "\tat org.apache.spark.shuffle.ShuffleWriteProcessor.write(ShuffleWriteProcessor.scala:59)\n",
      "\tat org.apache.spark.scheduler.ShuffleMapTask.runTask(ShuffleMapTask.scala:104)\n",
      "\tat org.apache.spark.scheduler.ShuffleMapTask.runTask(ShuffleMapTask.scala:54)\n",
      "\tat org.apache.spark.TaskContext.runTaskWithListeners(TaskContext.scala:166)\n",
      "\tat org.apache.spark.scheduler.Task.run(Task.scala:141)\n",
      "\tat org.apache.spark.executor.Executor$TaskRunner.$anonfun$run$4(Executor.scala:620)\n",
      "\tat org.apache.spark.util.SparkErrorUtils.tryWithSafeFinally(SparkErrorUtils.scala:64)\n",
      "\tat org.apache.spark.util.SparkErrorUtils.tryWithSafeFinally$(SparkErrorUtils.scala:61)\n",
      "\tat org.apache.spark.util.Utils$.tryWithSafeFinally(Utils.scala:94)\n",
      "\tat org.apache.spark.executor.Executor$TaskRunner.run(Executor.scala:623)\n",
      "\tat java.base/java.util.concurrent.ThreadPoolExecutor.runWorker(ThreadPoolExecutor.java:1128)\n",
      "\tat java.base/java.util.concurrent.ThreadPoolExecutor$Worker.run(ThreadPoolExecutor.java:628)\n",
      "\tat java.base/java.lang.Thread.run(Thread.java:829)\n",
      "\n",
      "Driver stacktrace:)\n"
     ]
    },
    {
     "ename": "Py4JJavaError",
     "evalue": "An error occurred while calling o204.count.\n: org.apache.spark.SparkException: Job aborted due to stage failure: Task 6 in stage 15.0 failed 1 times, most recent failure: Lost task 6.0 in stage 15.0 (TID 140) (10.6.130.30 executor driver): org.apache.spark.memory.SparkOutOfMemoryError: error while calling spill() on org.apache.spark.util.collection.unsafe.sort.UnsafeExternalSorter@6fa1fc4b : No space left on device\n\tat org.apache.spark.memory.TaskMemoryManager.trySpillAndAcquire(TaskMemoryManager.java:253)\n\tat org.apache.spark.memory.TaskMemoryManager.acquireExecutionMemory(TaskMemoryManager.java:190)\n\tat org.apache.spark.memory.TaskMemoryManager.allocatePage(TaskMemoryManager.java:317)\n\tat org.apache.spark.memory.MemoryConsumer.allocatePage(MemoryConsumer.java:117)\n\tat org.apache.spark.util.collection.unsafe.sort.UnsafeExternalSorter.acquireNewPageIfNecessary(UnsafeExternalSorter.java:433)\n\tat org.apache.spark.util.collection.unsafe.sort.UnsafeExternalSorter.allocateMemoryForRecordIfNecessary(UnsafeExternalSorter.java:452)\n\tat org.apache.spark.util.collection.unsafe.sort.UnsafeExternalSorter.insertRecord(UnsafeExternalSorter.java:487)\n\tat org.apache.spark.sql.execution.UnsafeExternalRowSorter.insertRow(UnsafeExternalRowSorter.java:138)\n\tat org.apache.spark.sql.execution.UnsafeExternalRowSorter.sort(UnsafeExternalRowSorter.java:226)\n\tat org.apache.spark.sql.execution.exchange.ShuffleExchangeExec$.$anonfun$prepareShuffleDependency$10(ShuffleExchangeExec.scala:375)\n\tat org.apache.spark.rdd.RDD.$anonfun$mapPartitionsInternal$2(RDD.scala:893)\n\tat org.apache.spark.rdd.RDD.$anonfun$mapPartitionsInternal$2$adapted(RDD.scala:893)\n\tat org.apache.spark.rdd.MapPartitionsRDD.compute(MapPartitionsRDD.scala:52)\n\tat org.apache.spark.rdd.RDD.computeOrReadCheckpoint(RDD.scala:367)\n\tat org.apache.spark.rdd.RDD.iterator(RDD.scala:331)\n\tat org.apache.spark.rdd.MapPartitionsRDD.compute(MapPartitionsRDD.scala:52)\n\tat org.apache.spark.rdd.RDD.computeOrReadCheckpoint(RDD.scala:367)\n\tat org.apache.spark.rdd.RDD.iterator(RDD.scala:331)\n\tat org.apache.spark.shuffle.ShuffleWriteProcessor.write(ShuffleWriteProcessor.scala:59)\n\tat org.apache.spark.scheduler.ShuffleMapTask.runTask(ShuffleMapTask.scala:104)\n\tat org.apache.spark.scheduler.ShuffleMapTask.runTask(ShuffleMapTask.scala:54)\n\tat org.apache.spark.TaskContext.runTaskWithListeners(TaskContext.scala:166)\n\tat org.apache.spark.scheduler.Task.run(Task.scala:141)\n\tat org.apache.spark.executor.Executor$TaskRunner.$anonfun$run$4(Executor.scala:620)\n\tat org.apache.spark.util.SparkErrorUtils.tryWithSafeFinally(SparkErrorUtils.scala:64)\n\tat org.apache.spark.util.SparkErrorUtils.tryWithSafeFinally$(SparkErrorUtils.scala:61)\n\tat org.apache.spark.util.Utils$.tryWithSafeFinally(Utils.scala:94)\n\tat org.apache.spark.executor.Executor$TaskRunner.run(Executor.scala:623)\n\tat java.base/java.util.concurrent.ThreadPoolExecutor.runWorker(ThreadPoolExecutor.java:1128)\n\tat java.base/java.util.concurrent.ThreadPoolExecutor$Worker.run(ThreadPoolExecutor.java:628)\n\tat java.base/java.lang.Thread.run(Thread.java:829)\n\nDriver stacktrace:\n\tat org.apache.spark.scheduler.DAGScheduler.failJobAndIndependentStages(DAGScheduler.scala:2856)\n\tat org.apache.spark.scheduler.DAGScheduler.$anonfun$abortStage$2(DAGScheduler.scala:2792)\n\tat org.apache.spark.scheduler.DAGScheduler.$anonfun$abortStage$2$adapted(DAGScheduler.scala:2791)\n\tat scala.collection.mutable.ResizableArray.foreach(ResizableArray.scala:62)\n\tat scala.collection.mutable.ResizableArray.foreach$(ResizableArray.scala:55)\n\tat scala.collection.mutable.ArrayBuffer.foreach(ArrayBuffer.scala:49)\n\tat org.apache.spark.scheduler.DAGScheduler.abortStage(DAGScheduler.scala:2791)\n\tat org.apache.spark.scheduler.DAGScheduler.$anonfun$handleTaskSetFailed$1(DAGScheduler.scala:1247)\n\tat org.apache.spark.scheduler.DAGScheduler.$anonfun$handleTaskSetFailed$1$adapted(DAGScheduler.scala:1247)\n\tat scala.Option.foreach(Option.scala:407)\n\tat org.apache.spark.scheduler.DAGScheduler.handleTaskSetFailed(DAGScheduler.scala:1247)\n\tat org.apache.spark.scheduler.DAGSchedulerEventProcessLoop.doOnReceive(DAGScheduler.scala:3060)\n\tat org.apache.spark.scheduler.DAGSchedulerEventProcessLoop.onReceive(DAGScheduler.scala:2994)\n\tat org.apache.spark.scheduler.DAGSchedulerEventProcessLoop.onReceive(DAGScheduler.scala:2983)\n\tat org.apache.spark.util.EventLoop$$anon$1.run(EventLoop.scala:49)\nCaused by: org.apache.spark.memory.SparkOutOfMemoryError: error while calling spill() on org.apache.spark.util.collection.unsafe.sort.UnsafeExternalSorter@6fa1fc4b : No space left on device\n\tat org.apache.spark.memory.TaskMemoryManager.trySpillAndAcquire(TaskMemoryManager.java:253)\n\tat org.apache.spark.memory.TaskMemoryManager.acquireExecutionMemory(TaskMemoryManager.java:190)\n\tat org.apache.spark.memory.TaskMemoryManager.allocatePage(TaskMemoryManager.java:317)\n\tat org.apache.spark.memory.MemoryConsumer.allocatePage(MemoryConsumer.java:117)\n\tat org.apache.spark.util.collection.unsafe.sort.UnsafeExternalSorter.acquireNewPageIfNecessary(UnsafeExternalSorter.java:433)\n\tat org.apache.spark.util.collection.unsafe.sort.UnsafeExternalSorter.allocateMemoryForRecordIfNecessary(UnsafeExternalSorter.java:452)\n\tat org.apache.spark.util.collection.unsafe.sort.UnsafeExternalSorter.insertRecord(UnsafeExternalSorter.java:487)\n\tat org.apache.spark.sql.execution.UnsafeExternalRowSorter.insertRow(UnsafeExternalRowSorter.java:138)\n\tat org.apache.spark.sql.execution.UnsafeExternalRowSorter.sort(UnsafeExternalRowSorter.java:226)\n\tat org.apache.spark.sql.execution.exchange.ShuffleExchangeExec$.$anonfun$prepareShuffleDependency$10(ShuffleExchangeExec.scala:375)\n\tat org.apache.spark.rdd.RDD.$anonfun$mapPartitionsInternal$2(RDD.scala:893)\n\tat org.apache.spark.rdd.RDD.$anonfun$mapPartitionsInternal$2$adapted(RDD.scala:893)\n\tat org.apache.spark.rdd.MapPartitionsRDD.compute(MapPartitionsRDD.scala:52)\n\tat org.apache.spark.rdd.RDD.computeOrReadCheckpoint(RDD.scala:367)\n\tat org.apache.spark.rdd.RDD.iterator(RDD.scala:331)\n\tat org.apache.spark.rdd.MapPartitionsRDD.compute(MapPartitionsRDD.scala:52)\n\tat org.apache.spark.rdd.RDD.computeOrReadCheckpoint(RDD.scala:367)\n\tat org.apache.spark.rdd.RDD.iterator(RDD.scala:331)\n\tat org.apache.spark.shuffle.ShuffleWriteProcessor.write(ShuffleWriteProcessor.scala:59)\n\tat org.apache.spark.scheduler.ShuffleMapTask.runTask(ShuffleMapTask.scala:104)\n\tat org.apache.spark.scheduler.ShuffleMapTask.runTask(ShuffleMapTask.scala:54)\n\tat org.apache.spark.TaskContext.runTaskWithListeners(TaskContext.scala:166)\n\tat org.apache.spark.scheduler.Task.run(Task.scala:141)\n\tat org.apache.spark.executor.Executor$TaskRunner.$anonfun$run$4(Executor.scala:620)\n\tat org.apache.spark.util.SparkErrorUtils.tryWithSafeFinally(SparkErrorUtils.scala:64)\n\tat org.apache.spark.util.SparkErrorUtils.tryWithSafeFinally$(SparkErrorUtils.scala:61)\n\tat org.apache.spark.util.Utils$.tryWithSafeFinally(Utils.scala:94)\n\tat org.apache.spark.executor.Executor$TaskRunner.run(Executor.scala:623)\n\tat java.base/java.util.concurrent.ThreadPoolExecutor.runWorker(ThreadPoolExecutor.java:1128)\n\tat java.base/java.util.concurrent.ThreadPoolExecutor$Worker.run(ThreadPoolExecutor.java:628)\n\tat java.base/java.lang.Thread.run(Thread.java:829)\n",
     "output_type": "error",
     "traceback": [
      "\u001b[0;31m---------------------------------------------------------------------------\u001b[0m",
      "\u001b[0;31mPy4JJavaError\u001b[0m                             Traceback (most recent call last)",
      "Cell \u001b[0;32mIn[11], line 1\u001b[0m\n\u001b[0;32m----> 1\u001b[0m \u001b[43mevaluated_word2vec_cosine\u001b[49m\u001b[38;5;241;43m.\u001b[39;49m\u001b[43mselect\u001b[49m\u001b[43m(\u001b[49m\u001b[38;5;124;43m\"\u001b[39;49m\u001b[38;5;124;43muuid_idt\u001b[39;49m\u001b[38;5;124;43m\"\u001b[39;49m\u001b[43m)\u001b[49m\u001b[38;5;241;43m.\u001b[39;49m\u001b[43mcount\u001b[49m\u001b[43m(\u001b[49m\u001b[43m)\u001b[49m\n",
      "File \u001b[0;32m~/Address-matching/env_address_matching/lib/python3.10/site-packages/pyspark/sql/dataframe.py:1238\u001b[0m, in \u001b[0;36mDataFrame.count\u001b[0;34m(self)\u001b[0m\n\u001b[1;32m   1215\u001b[0m \u001b[38;5;28;01mdef\u001b[39;00m \u001b[38;5;21mcount\u001b[39m(\u001b[38;5;28mself\u001b[39m) \u001b[38;5;241m-\u001b[39m\u001b[38;5;241m>\u001b[39m \u001b[38;5;28mint\u001b[39m:\n\u001b[1;32m   1216\u001b[0m \u001b[38;5;250m    \u001b[39m\u001b[38;5;124;03m\"\"\"Returns the number of rows in this :class:`DataFrame`.\u001b[39;00m\n\u001b[1;32m   1217\u001b[0m \n\u001b[1;32m   1218\u001b[0m \u001b[38;5;124;03m    .. versionadded:: 1.3.0\u001b[39;00m\n\u001b[0;32m   (...)\u001b[0m\n\u001b[1;32m   1236\u001b[0m \u001b[38;5;124;03m    3\u001b[39;00m\n\u001b[1;32m   1237\u001b[0m \u001b[38;5;124;03m    \"\"\"\u001b[39;00m\n\u001b[0;32m-> 1238\u001b[0m     \u001b[38;5;28;01mreturn\u001b[39;00m \u001b[38;5;28mint\u001b[39m(\u001b[38;5;28;43mself\u001b[39;49m\u001b[38;5;241;43m.\u001b[39;49m\u001b[43m_jdf\u001b[49m\u001b[38;5;241;43m.\u001b[39;49m\u001b[43mcount\u001b[49m\u001b[43m(\u001b[49m\u001b[43m)\u001b[49m)\n",
      "File \u001b[0;32m~/Address-matching/env_address_matching/lib/python3.10/site-packages/py4j/java_gateway.py:1322\u001b[0m, in \u001b[0;36mJavaMember.__call__\u001b[0;34m(self, *args)\u001b[0m\n\u001b[1;32m   1316\u001b[0m command \u001b[38;5;241m=\u001b[39m proto\u001b[38;5;241m.\u001b[39mCALL_COMMAND_NAME \u001b[38;5;241m+\u001b[39m\\\n\u001b[1;32m   1317\u001b[0m     \u001b[38;5;28mself\u001b[39m\u001b[38;5;241m.\u001b[39mcommand_header \u001b[38;5;241m+\u001b[39m\\\n\u001b[1;32m   1318\u001b[0m     args_command \u001b[38;5;241m+\u001b[39m\\\n\u001b[1;32m   1319\u001b[0m     proto\u001b[38;5;241m.\u001b[39mEND_COMMAND_PART\n\u001b[1;32m   1321\u001b[0m answer \u001b[38;5;241m=\u001b[39m \u001b[38;5;28mself\u001b[39m\u001b[38;5;241m.\u001b[39mgateway_client\u001b[38;5;241m.\u001b[39msend_command(command)\n\u001b[0;32m-> 1322\u001b[0m return_value \u001b[38;5;241m=\u001b[39m \u001b[43mget_return_value\u001b[49m\u001b[43m(\u001b[49m\n\u001b[1;32m   1323\u001b[0m \u001b[43m    \u001b[49m\u001b[43manswer\u001b[49m\u001b[43m,\u001b[49m\u001b[43m \u001b[49m\u001b[38;5;28;43mself\u001b[39;49m\u001b[38;5;241;43m.\u001b[39;49m\u001b[43mgateway_client\u001b[49m\u001b[43m,\u001b[49m\u001b[43m \u001b[49m\u001b[38;5;28;43mself\u001b[39;49m\u001b[38;5;241;43m.\u001b[39;49m\u001b[43mtarget_id\u001b[49m\u001b[43m,\u001b[49m\u001b[43m \u001b[49m\u001b[38;5;28;43mself\u001b[39;49m\u001b[38;5;241;43m.\u001b[39;49m\u001b[43mname\u001b[49m\u001b[43m)\u001b[49m\n\u001b[1;32m   1325\u001b[0m \u001b[38;5;28;01mfor\u001b[39;00m temp_arg \u001b[38;5;129;01min\u001b[39;00m temp_args:\n\u001b[1;32m   1326\u001b[0m     \u001b[38;5;28;01mif\u001b[39;00m \u001b[38;5;28mhasattr\u001b[39m(temp_arg, \u001b[38;5;124m\"\u001b[39m\u001b[38;5;124m_detach\u001b[39m\u001b[38;5;124m\"\u001b[39m):\n",
      "File \u001b[0;32m~/Address-matching/env_address_matching/lib/python3.10/site-packages/pyspark/errors/exceptions/captured.py:179\u001b[0m, in \u001b[0;36mcapture_sql_exception.<locals>.deco\u001b[0;34m(*a, **kw)\u001b[0m\n\u001b[1;32m    177\u001b[0m \u001b[38;5;28;01mdef\u001b[39;00m \u001b[38;5;21mdeco\u001b[39m(\u001b[38;5;241m*\u001b[39ma: Any, \u001b[38;5;241m*\u001b[39m\u001b[38;5;241m*\u001b[39mkw: Any) \u001b[38;5;241m-\u001b[39m\u001b[38;5;241m>\u001b[39m Any:\n\u001b[1;32m    178\u001b[0m     \u001b[38;5;28;01mtry\u001b[39;00m:\n\u001b[0;32m--> 179\u001b[0m         \u001b[38;5;28;01mreturn\u001b[39;00m \u001b[43mf\u001b[49m\u001b[43m(\u001b[49m\u001b[38;5;241;43m*\u001b[39;49m\u001b[43ma\u001b[49m\u001b[43m,\u001b[49m\u001b[43m \u001b[49m\u001b[38;5;241;43m*\u001b[39;49m\u001b[38;5;241;43m*\u001b[39;49m\u001b[43mkw\u001b[49m\u001b[43m)\u001b[49m\n\u001b[1;32m    180\u001b[0m     \u001b[38;5;28;01mexcept\u001b[39;00m Py4JJavaError \u001b[38;5;28;01mas\u001b[39;00m e:\n\u001b[1;32m    181\u001b[0m         converted \u001b[38;5;241m=\u001b[39m convert_exception(e\u001b[38;5;241m.\u001b[39mjava_exception)\n",
      "File \u001b[0;32m~/Address-matching/env_address_matching/lib/python3.10/site-packages/py4j/protocol.py:326\u001b[0m, in \u001b[0;36mget_return_value\u001b[0;34m(answer, gateway_client, target_id, name)\u001b[0m\n\u001b[1;32m    324\u001b[0m value \u001b[38;5;241m=\u001b[39m OUTPUT_CONVERTER[\u001b[38;5;28mtype\u001b[39m](answer[\u001b[38;5;241m2\u001b[39m:], gateway_client)\n\u001b[1;32m    325\u001b[0m \u001b[38;5;28;01mif\u001b[39;00m answer[\u001b[38;5;241m1\u001b[39m] \u001b[38;5;241m==\u001b[39m REFERENCE_TYPE:\n\u001b[0;32m--> 326\u001b[0m     \u001b[38;5;28;01mraise\u001b[39;00m Py4JJavaError(\n\u001b[1;32m    327\u001b[0m         \u001b[38;5;124m\"\u001b[39m\u001b[38;5;124mAn error occurred while calling \u001b[39m\u001b[38;5;132;01m{0}\u001b[39;00m\u001b[38;5;132;01m{1}\u001b[39;00m\u001b[38;5;132;01m{2}\u001b[39;00m\u001b[38;5;124m.\u001b[39m\u001b[38;5;130;01m\\n\u001b[39;00m\u001b[38;5;124m\"\u001b[39m\u001b[38;5;241m.\u001b[39m\n\u001b[1;32m    328\u001b[0m         \u001b[38;5;28mformat\u001b[39m(target_id, \u001b[38;5;124m\"\u001b[39m\u001b[38;5;124m.\u001b[39m\u001b[38;5;124m\"\u001b[39m, name), value)\n\u001b[1;32m    329\u001b[0m \u001b[38;5;28;01melse\u001b[39;00m:\n\u001b[1;32m    330\u001b[0m     \u001b[38;5;28;01mraise\u001b[39;00m Py4JError(\n\u001b[1;32m    331\u001b[0m         \u001b[38;5;124m\"\u001b[39m\u001b[38;5;124mAn error occurred while calling \u001b[39m\u001b[38;5;132;01m{0}\u001b[39;00m\u001b[38;5;132;01m{1}\u001b[39;00m\u001b[38;5;132;01m{2}\u001b[39;00m\u001b[38;5;124m. Trace:\u001b[39m\u001b[38;5;130;01m\\n\u001b[39;00m\u001b[38;5;132;01m{3}\u001b[39;00m\u001b[38;5;130;01m\\n\u001b[39;00m\u001b[38;5;124m\"\u001b[39m\u001b[38;5;241m.\u001b[39m\n\u001b[1;32m    332\u001b[0m         \u001b[38;5;28mformat\u001b[39m(target_id, \u001b[38;5;124m\"\u001b[39m\u001b[38;5;124m.\u001b[39m\u001b[38;5;124m\"\u001b[39m, name, value))\n",
      "\u001b[0;31mPy4JJavaError\u001b[0m: An error occurred while calling o204.count.\n: org.apache.spark.SparkException: Job aborted due to stage failure: Task 6 in stage 15.0 failed 1 times, most recent failure: Lost task 6.0 in stage 15.0 (TID 140) (10.6.130.30 executor driver): org.apache.spark.memory.SparkOutOfMemoryError: error while calling spill() on org.apache.spark.util.collection.unsafe.sort.UnsafeExternalSorter@6fa1fc4b : No space left on device\n\tat org.apache.spark.memory.TaskMemoryManager.trySpillAndAcquire(TaskMemoryManager.java:253)\n\tat org.apache.spark.memory.TaskMemoryManager.acquireExecutionMemory(TaskMemoryManager.java:190)\n\tat org.apache.spark.memory.TaskMemoryManager.allocatePage(TaskMemoryManager.java:317)\n\tat org.apache.spark.memory.MemoryConsumer.allocatePage(MemoryConsumer.java:117)\n\tat org.apache.spark.util.collection.unsafe.sort.UnsafeExternalSorter.acquireNewPageIfNecessary(UnsafeExternalSorter.java:433)\n\tat org.apache.spark.util.collection.unsafe.sort.UnsafeExternalSorter.allocateMemoryForRecordIfNecessary(UnsafeExternalSorter.java:452)\n\tat org.apache.spark.util.collection.unsafe.sort.UnsafeExternalSorter.insertRecord(UnsafeExternalSorter.java:487)\n\tat org.apache.spark.sql.execution.UnsafeExternalRowSorter.insertRow(UnsafeExternalRowSorter.java:138)\n\tat org.apache.spark.sql.execution.UnsafeExternalRowSorter.sort(UnsafeExternalRowSorter.java:226)\n\tat org.apache.spark.sql.execution.exchange.ShuffleExchangeExec$.$anonfun$prepareShuffleDependency$10(ShuffleExchangeExec.scala:375)\n\tat org.apache.spark.rdd.RDD.$anonfun$mapPartitionsInternal$2(RDD.scala:893)\n\tat org.apache.spark.rdd.RDD.$anonfun$mapPartitionsInternal$2$adapted(RDD.scala:893)\n\tat org.apache.spark.rdd.MapPartitionsRDD.compute(MapPartitionsRDD.scala:52)\n\tat org.apache.spark.rdd.RDD.computeOrReadCheckpoint(RDD.scala:367)\n\tat org.apache.spark.rdd.RDD.iterator(RDD.scala:331)\n\tat org.apache.spark.rdd.MapPartitionsRDD.compute(MapPartitionsRDD.scala:52)\n\tat org.apache.spark.rdd.RDD.computeOrReadCheckpoint(RDD.scala:367)\n\tat org.apache.spark.rdd.RDD.iterator(RDD.scala:331)\n\tat org.apache.spark.shuffle.ShuffleWriteProcessor.write(ShuffleWriteProcessor.scala:59)\n\tat org.apache.spark.scheduler.ShuffleMapTask.runTask(ShuffleMapTask.scala:104)\n\tat org.apache.spark.scheduler.ShuffleMapTask.runTask(ShuffleMapTask.scala:54)\n\tat org.apache.spark.TaskContext.runTaskWithListeners(TaskContext.scala:166)\n\tat org.apache.spark.scheduler.Task.run(Task.scala:141)\n\tat org.apache.spark.executor.Executor$TaskRunner.$anonfun$run$4(Executor.scala:620)\n\tat org.apache.spark.util.SparkErrorUtils.tryWithSafeFinally(SparkErrorUtils.scala:64)\n\tat org.apache.spark.util.SparkErrorUtils.tryWithSafeFinally$(SparkErrorUtils.scala:61)\n\tat org.apache.spark.util.Utils$.tryWithSafeFinally(Utils.scala:94)\n\tat org.apache.spark.executor.Executor$TaskRunner.run(Executor.scala:623)\n\tat java.base/java.util.concurrent.ThreadPoolExecutor.runWorker(ThreadPoolExecutor.java:1128)\n\tat java.base/java.util.concurrent.ThreadPoolExecutor$Worker.run(ThreadPoolExecutor.java:628)\n\tat java.base/java.lang.Thread.run(Thread.java:829)\n\nDriver stacktrace:\n\tat org.apache.spark.scheduler.DAGScheduler.failJobAndIndependentStages(DAGScheduler.scala:2856)\n\tat org.apache.spark.scheduler.DAGScheduler.$anonfun$abortStage$2(DAGScheduler.scala:2792)\n\tat org.apache.spark.scheduler.DAGScheduler.$anonfun$abortStage$2$adapted(DAGScheduler.scala:2791)\n\tat scala.collection.mutable.ResizableArray.foreach(ResizableArray.scala:62)\n\tat scala.collection.mutable.ResizableArray.foreach$(ResizableArray.scala:55)\n\tat scala.collection.mutable.ArrayBuffer.foreach(ArrayBuffer.scala:49)\n\tat org.apache.spark.scheduler.DAGScheduler.abortStage(DAGScheduler.scala:2791)\n\tat org.apache.spark.scheduler.DAGScheduler.$anonfun$handleTaskSetFailed$1(DAGScheduler.scala:1247)\n\tat org.apache.spark.scheduler.DAGScheduler.$anonfun$handleTaskSetFailed$1$adapted(DAGScheduler.scala:1247)\n\tat scala.Option.foreach(Option.scala:407)\n\tat org.apache.spark.scheduler.DAGScheduler.handleTaskSetFailed(DAGScheduler.scala:1247)\n\tat org.apache.spark.scheduler.DAGSchedulerEventProcessLoop.doOnReceive(DAGScheduler.scala:3060)\n\tat org.apache.spark.scheduler.DAGSchedulerEventProcessLoop.onReceive(DAGScheduler.scala:2994)\n\tat org.apache.spark.scheduler.DAGSchedulerEventProcessLoop.onReceive(DAGScheduler.scala:2983)\n\tat org.apache.spark.util.EventLoop$$anon$1.run(EventLoop.scala:49)\nCaused by: org.apache.spark.memory.SparkOutOfMemoryError: error while calling spill() on org.apache.spark.util.collection.unsafe.sort.UnsafeExternalSorter@6fa1fc4b : No space left on device\n\tat org.apache.spark.memory.TaskMemoryManager.trySpillAndAcquire(TaskMemoryManager.java:253)\n\tat org.apache.spark.memory.TaskMemoryManager.acquireExecutionMemory(TaskMemoryManager.java:190)\n\tat org.apache.spark.memory.TaskMemoryManager.allocatePage(TaskMemoryManager.java:317)\n\tat org.apache.spark.memory.MemoryConsumer.allocatePage(MemoryConsumer.java:117)\n\tat org.apache.spark.util.collection.unsafe.sort.UnsafeExternalSorter.acquireNewPageIfNecessary(UnsafeExternalSorter.java:433)\n\tat org.apache.spark.util.collection.unsafe.sort.UnsafeExternalSorter.allocateMemoryForRecordIfNecessary(UnsafeExternalSorter.java:452)\n\tat org.apache.spark.util.collection.unsafe.sort.UnsafeExternalSorter.insertRecord(UnsafeExternalSorter.java:487)\n\tat org.apache.spark.sql.execution.UnsafeExternalRowSorter.insertRow(UnsafeExternalRowSorter.java:138)\n\tat org.apache.spark.sql.execution.UnsafeExternalRowSorter.sort(UnsafeExternalRowSorter.java:226)\n\tat org.apache.spark.sql.execution.exchange.ShuffleExchangeExec$.$anonfun$prepareShuffleDependency$10(ShuffleExchangeExec.scala:375)\n\tat org.apache.spark.rdd.RDD.$anonfun$mapPartitionsInternal$2(RDD.scala:893)\n\tat org.apache.spark.rdd.RDD.$anonfun$mapPartitionsInternal$2$adapted(RDD.scala:893)\n\tat org.apache.spark.rdd.MapPartitionsRDD.compute(MapPartitionsRDD.scala:52)\n\tat org.apache.spark.rdd.RDD.computeOrReadCheckpoint(RDD.scala:367)\n\tat org.apache.spark.rdd.RDD.iterator(RDD.scala:331)\n\tat org.apache.spark.rdd.MapPartitionsRDD.compute(MapPartitionsRDD.scala:52)\n\tat org.apache.spark.rdd.RDD.computeOrReadCheckpoint(RDD.scala:367)\n\tat org.apache.spark.rdd.RDD.iterator(RDD.scala:331)\n\tat org.apache.spark.shuffle.ShuffleWriteProcessor.write(ShuffleWriteProcessor.scala:59)\n\tat org.apache.spark.scheduler.ShuffleMapTask.runTask(ShuffleMapTask.scala:104)\n\tat org.apache.spark.scheduler.ShuffleMapTask.runTask(ShuffleMapTask.scala:54)\n\tat org.apache.spark.TaskContext.runTaskWithListeners(TaskContext.scala:166)\n\tat org.apache.spark.scheduler.Task.run(Task.scala:141)\n\tat org.apache.spark.executor.Executor$TaskRunner.$anonfun$run$4(Executor.scala:620)\n\tat org.apache.spark.util.SparkErrorUtils.tryWithSafeFinally(SparkErrorUtils.scala:64)\n\tat org.apache.spark.util.SparkErrorUtils.tryWithSafeFinally$(SparkErrorUtils.scala:61)\n\tat org.apache.spark.util.Utils$.tryWithSafeFinally(Utils.scala:94)\n\tat org.apache.spark.executor.Executor$TaskRunner.run(Executor.scala:623)\n\tat java.base/java.util.concurrent.ThreadPoolExecutor.runWorker(ThreadPoolExecutor.java:1128)\n\tat java.base/java.util.concurrent.ThreadPoolExecutor$Worker.run(ThreadPoolExecutor.java:628)\n\tat java.base/java.lang.Thread.run(Thread.java:829)\n"
     ]
    },
    {
     "name": "stderr",
     "output_type": "stream",
     "text": [
      "24/04/11 16:33:51 WARN TaskSetManager: Lost task 2.0 in stage 15.0 (TID 136) (10.6.130.30 executor driver): TaskKilled (Stage cancelled: Job aborted due to stage failure: Task 6 in stage 15.0 failed 1 times, most recent failure: Lost task 6.0 in stage 15.0 (TID 140) (10.6.130.30 executor driver): org.apache.spark.memory.SparkOutOfMemoryError: error while calling spill() on org.apache.spark.util.collection.unsafe.sort.UnsafeExternalSorter@6fa1fc4b : No space left on device\n",
      "\tat org.apache.spark.memory.TaskMemoryManager.trySpillAndAcquire(TaskMemoryManager.java:253)\n",
      "\tat org.apache.spark.memory.TaskMemoryManager.acquireExecutionMemory(TaskMemoryManager.java:190)\n",
      "\tat org.apache.spark.memory.TaskMemoryManager.allocatePage(TaskMemoryManager.java:317)\n",
      "\tat org.apache.spark.memory.MemoryConsumer.allocatePage(MemoryConsumer.java:117)\n",
      "\tat org.apache.spark.util.collection.unsafe.sort.UnsafeExternalSorter.acquireNewPageIfNecessary(UnsafeExternalSorter.java:433)\n",
      "\tat org.apache.spark.util.collection.unsafe.sort.UnsafeExternalSorter.allocateMemoryForRecordIfNecessary(UnsafeExternalSorter.java:452)\n",
      "\tat org.apache.spark.util.collection.unsafe.sort.UnsafeExternalSorter.insertRecord(UnsafeExternalSorter.java:487)\n",
      "\tat org.apache.spark.sql.execution.UnsafeExternalRowSorter.insertRow(UnsafeExternalRowSorter.java:138)\n",
      "\tat org.apache.spark.sql.execution.UnsafeExternalRowSorter.sort(UnsafeExternalRowSorter.java:226)\n",
      "\tat org.apache.spark.sql.execution.exchange.ShuffleExchangeExec$.$anonfun$prepareShuffleDependency$10(ShuffleExchangeExec.scala:375)\n",
      "\tat org.apache.spark.rdd.RDD.$anonfun$mapPartitionsInternal$2(RDD.scala:893)\n",
      "\tat org.apache.spark.rdd.RDD.$anonfun$mapPartitionsInternal$2$adapted(RDD.scala:893)\n",
      "\tat org.apache.spark.rdd.MapPartitionsRDD.compute(MapPartitionsRDD.scala:52)\n",
      "\tat org.apache.spark.rdd.RDD.computeOrReadCheckpoint(RDD.scala:367)\n",
      "\tat org.apache.spark.rdd.RDD.iterator(RDD.scala:331)\n",
      "\tat org.apache.spark.rdd.MapPartitionsRDD.compute(MapPartitionsRDD.scala:52)\n",
      "\tat org.apache.spark.rdd.RDD.computeOrReadCheckpoint(RDD.scala:367)\n",
      "\tat org.apache.spark.rdd.RDD.iterator(RDD.scala:331)\n",
      "\tat org.apache.spark.shuffle.ShuffleWriteProcessor.write(ShuffleWriteProcessor.scala:59)\n",
      "\tat org.apache.spark.scheduler.ShuffleMapTask.runTask(ShuffleMapTask.scala:104)\n",
      "\tat org.apache.spark.scheduler.ShuffleMapTask.runTask(ShuffleMapTask.scala:54)\n",
      "\tat org.apache.spark.TaskContext.runTaskWithListeners(TaskContext.scala:166)\n",
      "\tat org.apache.spark.scheduler.Task.run(Task.scala:141)\n",
      "\tat org.apache.spark.executor.Executor$TaskRunner.$anonfun$run$4(Executor.scala:620)\n",
      "\tat org.apache.spark.util.SparkErrorUtils.tryWithSafeFinally(SparkErrorUtils.scala:64)\n",
      "\tat org.apache.spark.util.SparkErrorUtils.tryWithSafeFinally$(SparkErrorUtils.scala:61)\n",
      "\tat org.apache.spark.util.Utils$.tryWithSafeFinally(Utils.scala:94)\n",
      "\tat org.apache.spark.executor.Executor$TaskRunner.run(Executor.scala:623)\n",
      "\tat java.base/java.util.concurrent.ThreadPoolExecutor.runWorker(ThreadPoolExecutor.java:1128)\n",
      "\tat java.base/java.util.concurrent.ThreadPoolExecutor$Worker.run(ThreadPoolExecutor.java:628)\n",
      "\tat java.base/java.lang.Thread.run(Thread.java:829)\n",
      "\n",
      "Driver stacktrace:)\n"
     ]
    }
   ],
   "source": [
    "evaluated_word2vec_cosine.select(\"uuid_idt\").count()"
   ]
  },
  {
   "cell_type": "code",
   "execution_count": 25,
   "metadata": {},
   "outputs": [
    {
     "name": "stderr",
     "output_type": "stream",
     "text": [
      "[Stage 50:>                                                        (0 + 8) / 29]\r"
     ]
    },
    {
     "name": "stdout",
     "output_type": "stream",
     "text": [
      "[1557,029s][warning][gc,alloc] refresh progress: Retried waiting for GCLocker too often allocating 330 words\n",
      "[1557,641s][warning][gc,alloc] Executor task launch worker for task 7.0 in stage 50.0 (TID 508): Retried waiting for GCLocker too often allocating 131072 words\n",
      "[1558,780s][warning][gc,alloc] Spark Context Cleaner: Retried waiting for GCLocker too often allocating 330 words\n",
      "[1559,103s][warning][gc,alloc] executor-kill-mark-cleanup: Retried waiting for GCLocker too often allocating 335 words\n",
      "[1561,202s][warning][gc,alloc] refresh progress: Retried waiting for GCLocker too often allocating 2 words\n",
      "[1562,273s][warning][gc,alloc] Spark Context Cleaner: Retried waiting for GCLocker too often allocating 2 words\n"
     ]
    },
    {
     "name": "stderr",
     "output_type": "stream",
     "text": [
      "\n",
      "Exception: java.lang.OutOfMemoryError thrown from the UncaughtExceptionHandler in thread \"RemoteBlock-temp-file-clean-thread\"\n"
     ]
    },
    {
     "name": "stdout",
     "output_type": "stream",
     "text": [
      "[1565,473s][warning][gc,alloc] Executor task launch worker for task 7.0 in stage 50.0 (TID 508): Retried waiting for GCLocker too often allocating 639 words\n"
     ]
    },
    {
     "name": "stderr",
     "output_type": "stream",
     "text": [
      "Exception in thread \"refresh progress\" java.lang.OutOfMemoryError: Java heap space\n",
      "24/04/11 16:07:33 ERROR Utils: uncaught error in thread Spark Context Cleaner, stopping SparkContext\n",
      "java.lang.OutOfMemoryError: Java heap space\n",
      "24/04/11 16:07:33 ERROR Utils: throw uncaught fatal error in thread Spark Context Cleaner\n",
      "java.lang.OutOfMemoryError: Java heap space\n",
      "Exception in thread \"Spark Context Cleaner\" java.lang.OutOfMemoryError: Java heap space\n",
      "24/04/11 16:07:33 ERROR Executor: Exception in task 7.0 in stage 50.0 (TID 508): Java heap space\n"
     ]
    },
    {
     "ename": "Py4JJavaError",
     "evalue": "An error occurred while calling o382.count.\n: org.apache.spark.SparkException: Job 36 cancelled because SparkContext was shut down\n\tat org.apache.spark.scheduler.DAGScheduler.$anonfun$cleanUpAfterSchedulerStop$1(DAGScheduler.scala:1253)\n\tat org.apache.spark.scheduler.DAGScheduler.$anonfun$cleanUpAfterSchedulerStop$1$adapted(DAGScheduler.scala:1251)\n\tat scala.collection.mutable.HashSet.foreach(HashSet.scala:79)\n\tat org.apache.spark.scheduler.DAGScheduler.cleanUpAfterSchedulerStop(DAGScheduler.scala:1251)\n\tat org.apache.spark.scheduler.DAGSchedulerEventProcessLoop.onStop(DAGScheduler.scala:3087)\n\tat org.apache.spark.util.EventLoop.stop(EventLoop.scala:84)\n\tat org.apache.spark.scheduler.DAGScheduler.$anonfun$stop$3(DAGScheduler.scala:2973)\n\tat org.apache.spark.util.Utils$.tryLogNonFatalError(Utils.scala:1375)\n\tat org.apache.spark.scheduler.DAGScheduler.stop(DAGScheduler.scala:2973)\n\tat org.apache.spark.SparkContext.$anonfun$stop$12(SparkContext.scala:2263)\n\tat org.apache.spark.util.Utils$.tryLogNonFatalError(Utils.scala:1375)\n\tat org.apache.spark.SparkContext.stop(SparkContext.scala:2263)\n\tat org.apache.spark.SparkContext.stop(SparkContext.scala:2216)\n\tat org.apache.spark.SparkContext$$anon$3.run(SparkContext.scala:2203)\n",
     "output_type": "error",
     "traceback": [
      "\u001b[0;31m---------------------------------------------------------------------------\u001b[0m",
      "\u001b[0;31mPy4JJavaError\u001b[0m                             Traceback (most recent call last)",
      "Cell \u001b[0;32mIn[25], line 1\u001b[0m\n\u001b[0;32m----> 1\u001b[0m \u001b[43mevaluated_word2vec_cosine\u001b[49m\u001b[38;5;241;43m.\u001b[39;49m\u001b[43mfilter\u001b[49m\u001b[43m(\u001b[49m\u001b[38;5;124;43m\"\u001b[39;49m\u001b[38;5;124;43mevaluation == true\u001b[39;49m\u001b[38;5;124;43m\"\u001b[39;49m\u001b[43m)\u001b[49m\u001b[38;5;241;43m.\u001b[39;49m\u001b[43mcount\u001b[49m\u001b[43m(\u001b[49m\u001b[43m)\u001b[49m\n\u001b[1;32m      2\u001b[0m \u001b[38;5;66;03m# 1.000 2min\u001b[39;00m\n\u001b[1;32m      3\u001b[0m \u001b[38;5;66;03m# 10.000 error\u001b[39;00m\n",
      "File \u001b[0;32m~/Address-matching/env_address_matching/lib/python3.10/site-packages/pyspark/sql/dataframe.py:1238\u001b[0m, in \u001b[0;36mDataFrame.count\u001b[0;34m(self)\u001b[0m\n\u001b[1;32m   1215\u001b[0m \u001b[38;5;28;01mdef\u001b[39;00m \u001b[38;5;21mcount\u001b[39m(\u001b[38;5;28mself\u001b[39m) \u001b[38;5;241m-\u001b[39m\u001b[38;5;241m>\u001b[39m \u001b[38;5;28mint\u001b[39m:\n\u001b[1;32m   1216\u001b[0m \u001b[38;5;250m    \u001b[39m\u001b[38;5;124;03m\"\"\"Returns the number of rows in this :class:`DataFrame`.\u001b[39;00m\n\u001b[1;32m   1217\u001b[0m \n\u001b[1;32m   1218\u001b[0m \u001b[38;5;124;03m    .. versionadded:: 1.3.0\u001b[39;00m\n\u001b[0;32m   (...)\u001b[0m\n\u001b[1;32m   1236\u001b[0m \u001b[38;5;124;03m    3\u001b[39;00m\n\u001b[1;32m   1237\u001b[0m \u001b[38;5;124;03m    \"\"\"\u001b[39;00m\n\u001b[0;32m-> 1238\u001b[0m     \u001b[38;5;28;01mreturn\u001b[39;00m \u001b[38;5;28mint\u001b[39m(\u001b[38;5;28;43mself\u001b[39;49m\u001b[38;5;241;43m.\u001b[39;49m\u001b[43m_jdf\u001b[49m\u001b[38;5;241;43m.\u001b[39;49m\u001b[43mcount\u001b[49m\u001b[43m(\u001b[49m\u001b[43m)\u001b[49m)\n",
      "File \u001b[0;32m~/Address-matching/env_address_matching/lib/python3.10/site-packages/py4j/java_gateway.py:1322\u001b[0m, in \u001b[0;36mJavaMember.__call__\u001b[0;34m(self, *args)\u001b[0m\n\u001b[1;32m   1316\u001b[0m command \u001b[38;5;241m=\u001b[39m proto\u001b[38;5;241m.\u001b[39mCALL_COMMAND_NAME \u001b[38;5;241m+\u001b[39m\\\n\u001b[1;32m   1317\u001b[0m     \u001b[38;5;28mself\u001b[39m\u001b[38;5;241m.\u001b[39mcommand_header \u001b[38;5;241m+\u001b[39m\\\n\u001b[1;32m   1318\u001b[0m     args_command \u001b[38;5;241m+\u001b[39m\\\n\u001b[1;32m   1319\u001b[0m     proto\u001b[38;5;241m.\u001b[39mEND_COMMAND_PART\n\u001b[1;32m   1321\u001b[0m answer \u001b[38;5;241m=\u001b[39m \u001b[38;5;28mself\u001b[39m\u001b[38;5;241m.\u001b[39mgateway_client\u001b[38;5;241m.\u001b[39msend_command(command)\n\u001b[0;32m-> 1322\u001b[0m return_value \u001b[38;5;241m=\u001b[39m \u001b[43mget_return_value\u001b[49m\u001b[43m(\u001b[49m\n\u001b[1;32m   1323\u001b[0m \u001b[43m    \u001b[49m\u001b[43manswer\u001b[49m\u001b[43m,\u001b[49m\u001b[43m \u001b[49m\u001b[38;5;28;43mself\u001b[39;49m\u001b[38;5;241;43m.\u001b[39;49m\u001b[43mgateway_client\u001b[49m\u001b[43m,\u001b[49m\u001b[43m \u001b[49m\u001b[38;5;28;43mself\u001b[39;49m\u001b[38;5;241;43m.\u001b[39;49m\u001b[43mtarget_id\u001b[49m\u001b[43m,\u001b[49m\u001b[43m \u001b[49m\u001b[38;5;28;43mself\u001b[39;49m\u001b[38;5;241;43m.\u001b[39;49m\u001b[43mname\u001b[49m\u001b[43m)\u001b[49m\n\u001b[1;32m   1325\u001b[0m \u001b[38;5;28;01mfor\u001b[39;00m temp_arg \u001b[38;5;129;01min\u001b[39;00m temp_args:\n\u001b[1;32m   1326\u001b[0m     \u001b[38;5;28;01mif\u001b[39;00m \u001b[38;5;28mhasattr\u001b[39m(temp_arg, \u001b[38;5;124m\"\u001b[39m\u001b[38;5;124m_detach\u001b[39m\u001b[38;5;124m\"\u001b[39m):\n",
      "File \u001b[0;32m~/Address-matching/env_address_matching/lib/python3.10/site-packages/pyspark/errors/exceptions/captured.py:179\u001b[0m, in \u001b[0;36mcapture_sql_exception.<locals>.deco\u001b[0;34m(*a, **kw)\u001b[0m\n\u001b[1;32m    177\u001b[0m \u001b[38;5;28;01mdef\u001b[39;00m \u001b[38;5;21mdeco\u001b[39m(\u001b[38;5;241m*\u001b[39ma: Any, \u001b[38;5;241m*\u001b[39m\u001b[38;5;241m*\u001b[39mkw: Any) \u001b[38;5;241m-\u001b[39m\u001b[38;5;241m>\u001b[39m Any:\n\u001b[1;32m    178\u001b[0m     \u001b[38;5;28;01mtry\u001b[39;00m:\n\u001b[0;32m--> 179\u001b[0m         \u001b[38;5;28;01mreturn\u001b[39;00m \u001b[43mf\u001b[49m\u001b[43m(\u001b[49m\u001b[38;5;241;43m*\u001b[39;49m\u001b[43ma\u001b[49m\u001b[43m,\u001b[49m\u001b[43m \u001b[49m\u001b[38;5;241;43m*\u001b[39;49m\u001b[38;5;241;43m*\u001b[39;49m\u001b[43mkw\u001b[49m\u001b[43m)\u001b[49m\n\u001b[1;32m    180\u001b[0m     \u001b[38;5;28;01mexcept\u001b[39;00m Py4JJavaError \u001b[38;5;28;01mas\u001b[39;00m e:\n\u001b[1;32m    181\u001b[0m         converted \u001b[38;5;241m=\u001b[39m convert_exception(e\u001b[38;5;241m.\u001b[39mjava_exception)\n",
      "File \u001b[0;32m~/Address-matching/env_address_matching/lib/python3.10/site-packages/py4j/protocol.py:326\u001b[0m, in \u001b[0;36mget_return_value\u001b[0;34m(answer, gateway_client, target_id, name)\u001b[0m\n\u001b[1;32m    324\u001b[0m value \u001b[38;5;241m=\u001b[39m OUTPUT_CONVERTER[\u001b[38;5;28mtype\u001b[39m](answer[\u001b[38;5;241m2\u001b[39m:], gateway_client)\n\u001b[1;32m    325\u001b[0m \u001b[38;5;28;01mif\u001b[39;00m answer[\u001b[38;5;241m1\u001b[39m] \u001b[38;5;241m==\u001b[39m REFERENCE_TYPE:\n\u001b[0;32m--> 326\u001b[0m     \u001b[38;5;28;01mraise\u001b[39;00m Py4JJavaError(\n\u001b[1;32m    327\u001b[0m         \u001b[38;5;124m\"\u001b[39m\u001b[38;5;124mAn error occurred while calling \u001b[39m\u001b[38;5;132;01m{0}\u001b[39;00m\u001b[38;5;132;01m{1}\u001b[39;00m\u001b[38;5;132;01m{2}\u001b[39;00m\u001b[38;5;124m.\u001b[39m\u001b[38;5;130;01m\\n\u001b[39;00m\u001b[38;5;124m\"\u001b[39m\u001b[38;5;241m.\u001b[39m\n\u001b[1;32m    328\u001b[0m         \u001b[38;5;28mformat\u001b[39m(target_id, \u001b[38;5;124m\"\u001b[39m\u001b[38;5;124m.\u001b[39m\u001b[38;5;124m\"\u001b[39m, name), value)\n\u001b[1;32m    329\u001b[0m \u001b[38;5;28;01melse\u001b[39;00m:\n\u001b[1;32m    330\u001b[0m     \u001b[38;5;28;01mraise\u001b[39;00m Py4JError(\n\u001b[1;32m    331\u001b[0m         \u001b[38;5;124m\"\u001b[39m\u001b[38;5;124mAn error occurred while calling \u001b[39m\u001b[38;5;132;01m{0}\u001b[39;00m\u001b[38;5;132;01m{1}\u001b[39;00m\u001b[38;5;132;01m{2}\u001b[39;00m\u001b[38;5;124m. Trace:\u001b[39m\u001b[38;5;130;01m\\n\u001b[39;00m\u001b[38;5;132;01m{3}\u001b[39;00m\u001b[38;5;130;01m\\n\u001b[39;00m\u001b[38;5;124m\"\u001b[39m\u001b[38;5;241m.\u001b[39m\n\u001b[1;32m    332\u001b[0m         \u001b[38;5;28mformat\u001b[39m(target_id, \u001b[38;5;124m\"\u001b[39m\u001b[38;5;124m.\u001b[39m\u001b[38;5;124m\"\u001b[39m, name, value))\n",
      "\u001b[0;31mPy4JJavaError\u001b[0m: An error occurred while calling o382.count.\n: org.apache.spark.SparkException: Job 36 cancelled because SparkContext was shut down\n\tat org.apache.spark.scheduler.DAGScheduler.$anonfun$cleanUpAfterSchedulerStop$1(DAGScheduler.scala:1253)\n\tat org.apache.spark.scheduler.DAGScheduler.$anonfun$cleanUpAfterSchedulerStop$1$adapted(DAGScheduler.scala:1251)\n\tat scala.collection.mutable.HashSet.foreach(HashSet.scala:79)\n\tat org.apache.spark.scheduler.DAGScheduler.cleanUpAfterSchedulerStop(DAGScheduler.scala:1251)\n\tat org.apache.spark.scheduler.DAGSchedulerEventProcessLoop.onStop(DAGScheduler.scala:3087)\n\tat org.apache.spark.util.EventLoop.stop(EventLoop.scala:84)\n\tat org.apache.spark.scheduler.DAGScheduler.$anonfun$stop$3(DAGScheduler.scala:2973)\n\tat org.apache.spark.util.Utils$.tryLogNonFatalError(Utils.scala:1375)\n\tat org.apache.spark.scheduler.DAGScheduler.stop(DAGScheduler.scala:2973)\n\tat org.apache.spark.SparkContext.$anonfun$stop$12(SparkContext.scala:2263)\n\tat org.apache.spark.util.Utils$.tryLogNonFatalError(Utils.scala:1375)\n\tat org.apache.spark.SparkContext.stop(SparkContext.scala:2263)\n\tat org.apache.spark.SparkContext.stop(SparkContext.scala:2216)\n\tat org.apache.spark.SparkContext$$anon$3.run(SparkContext.scala:2203)\n"
     ]
    },
    {
     "name": "stderr",
     "output_type": "stream",
     "text": [
      "24/04/11 16:07:38 ERROR TaskMemoryManager: error while calling spill() on org.apache.spark.util.collection.unsafe.sort.UnsafeExternalSorter@56e546\n",
      "java.io.FileNotFoundException: /tmp/blockmgr-1de483de-002a-4629-96ec-d9924c2ab1ba/15/temp_local_0b6c3b32-55cc-49bb-88ab-0753b3e27aa9 (No such file or directory)\n",
      "\tat java.base/java.io.FileOutputStream.open0(Native Method)\n",
      "\tat java.base/java.io.FileOutputStream.open(FileOutputStream.java:298)\n",
      "\tat java.base/java.io.FileOutputStream.<init>(FileOutputStream.java:237)\n",
      "\tat org.apache.spark.storage.DiskBlockObjectWriter.initialize(DiskBlockObjectWriter.scala:141)\n",
      "\tat org.apache.spark.storage.DiskBlockObjectWriter.open(DiskBlockObjectWriter.scala:161)\n",
      "\tat org.apache.spark.storage.DiskBlockObjectWriter.write(DiskBlockObjectWriter.scala:320)\n",
      "\tat org.apache.spark.util.collection.unsafe.sort.UnsafeSorterSpillWriter.<init>(UnsafeSorterSpillWriter.java:81)\n",
      "\tat org.apache.spark.util.collection.unsafe.sort.UnsafeExternalSorter.spill(UnsafeExternalSorter.java:229)\n",
      "\tat org.apache.spark.memory.TaskMemoryManager.trySpillAndAcquire(TaskMemoryManager.java:227)\n",
      "\tat org.apache.spark.memory.TaskMemoryManager.acquireExecutionMemory(TaskMemoryManager.java:190)\n",
      "\tat org.apache.spark.memory.TaskMemoryManager.allocatePage(TaskMemoryManager.java:317)\n",
      "\tat org.apache.spark.memory.MemoryConsumer.allocatePage(MemoryConsumer.java:117)\n",
      "\tat org.apache.spark.util.collection.unsafe.sort.UnsafeExternalSorter.acquireNewPageIfNecessary(UnsafeExternalSorter.java:433)\n",
      "\tat org.apache.spark.util.collection.unsafe.sort.UnsafeExternalSorter.allocateMemoryForRecordIfNecessary(UnsafeExternalSorter.java:452)\n",
      "\tat org.apache.spark.util.collection.unsafe.sort.UnsafeExternalSorter.insertRecord(UnsafeExternalSorter.java:487)\n",
      "\tat org.apache.spark.sql.execution.UnsafeExternalRowSorter.insertRow(UnsafeExternalRowSorter.java:138)\n",
      "\tat org.apache.spark.sql.execution.UnsafeExternalRowSorter.sort(UnsafeExternalRowSorter.java:226)\n",
      "\tat org.apache.spark.sql.execution.exchange.ShuffleExchangeExec$.$anonfun$prepareShuffleDependency$10(ShuffleExchangeExec.scala:375)\n",
      "\tat org.apache.spark.rdd.RDD.$anonfun$mapPartitionsInternal$2(RDD.scala:893)\n",
      "\tat org.apache.spark.rdd.RDD.$anonfun$mapPartitionsInternal$2$adapted(RDD.scala:893)\n",
      "\tat org.apache.spark.rdd.MapPartitionsRDD.compute(MapPartitionsRDD.scala:52)\n",
      "\tat org.apache.spark.rdd.RDD.computeOrReadCheckpoint(RDD.scala:367)\n",
      "\tat org.apache.spark.rdd.RDD.iterator(RDD.scala:331)\n",
      "\tat org.apache.spark.rdd.MapPartitionsRDD.compute(MapPartitionsRDD.scala:52)\n",
      "\tat org.apache.spark.rdd.RDD.computeOrReadCheckpoint(RDD.scala:367)\n",
      "\tat org.apache.spark.rdd.RDD.iterator(RDD.scala:331)\n",
      "\tat org.apache.spark.shuffle.ShuffleWriteProcessor.write(ShuffleWriteProcessor.scala:59)\n",
      "\tat org.apache.spark.scheduler.ShuffleMapTask.runTask(ShuffleMapTask.scala:104)\n",
      "\tat org.apache.spark.scheduler.ShuffleMapTask.runTask(ShuffleMapTask.scala:54)\n",
      "\tat org.apache.spark.TaskContext.runTaskWithListeners(TaskContext.scala:166)\n",
      "\tat org.apache.spark.scheduler.Task.run(Task.scala:141)\n",
      "\tat org.apache.spark.executor.Executor$TaskRunner.$anonfun$run$4(Executor.scala:620)\n",
      "\tat org.apache.spark.util.SparkErrorUtils.tryWithSafeFinally(SparkErrorUtils.scala:64)\n",
      "\tat org.apache.spark.util.SparkErrorUtils.tryWithSafeFinally$(SparkErrorUtils.scala:61)\n",
      "\tat org.apache.spark.util.Utils$.tryWithSafeFinally(Utils.scala:94)\n",
      "\tat org.apache.spark.executor.Executor$TaskRunner.run(Executor.scala:623)\n",
      "\tat java.base/java.util.concurrent.ThreadPoolExecutor.runWorker(ThreadPoolExecutor.java:1128)\n",
      "\tat java.base/java.util.concurrent.ThreadPoolExecutor$Worker.run(ThreadPoolExecutor.java:628)\n",
      "\tat java.base/java.lang.Thread.run(Thread.java:829)\n",
      "24/04/11 16:07:38 ERROR TaskContextImpl: Error in TaskCompletionListener\n",
      "org.apache.spark.SparkException: Block broadcast_59 does not exist\n",
      "\tat org.apache.spark.errors.SparkCoreErrors$.blockDoesNotExistError(SparkCoreErrors.scala:318)\n",
      "\tat org.apache.spark.storage.BlockInfoManager.blockInfo(BlockInfoManager.scala:269)\n",
      "\tat org.apache.spark.storage.BlockInfoManager.unlock(BlockInfoManager.scala:390)\n",
      "\tat org.apache.spark.storage.BlockManager.releaseLock(BlockManager.scala:1309)\n",
      "\tat org.apache.spark.broadcast.TorrentBroadcast.$anonfun$releaseBlockManagerLock$1(TorrentBroadcast.scala:319)\n",
      "\tat org.apache.spark.broadcast.TorrentBroadcast.$anonfun$releaseBlockManagerLock$1$adapted(TorrentBroadcast.scala:319)\n",
      "\tat org.apache.spark.TaskContext$$anon$1.onTaskCompletion(TaskContext.scala:137)\n",
      "\tat org.apache.spark.TaskContextImpl.$anonfun$invokeTaskCompletionListeners$1(TaskContextImpl.scala:144)\n",
      "\tat org.apache.spark.TaskContextImpl.$anonfun$invokeTaskCompletionListeners$1$adapted(TaskContextImpl.scala:144)\n",
      "\tat org.apache.spark.TaskContextImpl.invokeListeners(TaskContextImpl.scala:199)\n",
      "\tat org.apache.spark.TaskContextImpl.invokeTaskCompletionListeners(TaskContextImpl.scala:144)\n",
      "\tat org.apache.spark.TaskContextImpl.markTaskCompleted(TaskContextImpl.scala:137)\n",
      "\tat org.apache.spark.TaskContext.runTaskWithListeners(TaskContext.scala:177)\n",
      "\tat org.apache.spark.scheduler.Task.run(Task.scala:141)\n",
      "\tat org.apache.spark.executor.Executor$TaskRunner.$anonfun$run$4(Executor.scala:620)\n",
      "\tat org.apache.spark.util.SparkErrorUtils.tryWithSafeFinally(SparkErrorUtils.scala:64)\n",
      "\tat org.apache.spark.util.SparkErrorUtils.tryWithSafeFinally$(SparkErrorUtils.scala:61)\n",
      "\tat org.apache.spark.util.Utils$.tryWithSafeFinally(Utils.scala:94)\n",
      "\tat org.apache.spark.executor.Executor$TaskRunner.run(Executor.scala:623)\n",
      "\tat java.base/java.util.concurrent.ThreadPoolExecutor.runWorker(ThreadPoolExecutor.java:1128)\n",
      "\tat java.base/java.util.concurrent.ThreadPoolExecutor$Worker.run(ThreadPoolExecutor.java:628)\n",
      "\tat java.base/java.lang.Thread.run(Thread.java:829)\n",
      "24/04/11 16:07:38 ERROR Utils: Uncaught exception in thread Executor task launch worker for task 1.0 in stage 50.0 (TID 502)\n",
      "java.lang.NullPointerException\n",
      "\tat org.apache.spark.scheduler.Task.$anonfun$run$3(Task.scala:146)\n",
      "\tat org.apache.spark.util.Utils$.tryLogNonFatalError(Utils.scala:1375)\n",
      "\tat org.apache.spark.scheduler.Task.run(Task.scala:144)\n",
      "\tat org.apache.spark.executor.Executor$TaskRunner.$anonfun$run$4(Executor.scala:620)\n",
      "\tat org.apache.spark.util.SparkErrorUtils.tryWithSafeFinally(SparkErrorUtils.scala:64)\n",
      "\tat org.apache.spark.util.SparkErrorUtils.tryWithSafeFinally$(SparkErrorUtils.scala:61)\n",
      "\tat org.apache.spark.util.Utils$.tryWithSafeFinally(Utils.scala:94)\n",
      "\tat org.apache.spark.executor.Executor$TaskRunner.run(Executor.scala:623)\n",
      "\tat java.base/java.util.concurrent.ThreadPoolExecutor.runWorker(ThreadPoolExecutor.java:1128)\n",
      "\tat java.base/java.util.concurrent.ThreadPoolExecutor$Worker.run(ThreadPoolExecutor.java:628)\n",
      "\tat java.base/java.lang.Thread.run(Thread.java:829)\n",
      "24/04/11 16:07:38 ERROR Executor: Exception in task 1.0 in stage 50.0 (TID 502): error while calling spill() on org.apache.spark.util.collection.unsafe.sort.UnsafeExternalSorter@56e546 : /tmp/blockmgr-1de483de-002a-4629-96ec-d9924c2ab1ba/15/temp_local_0b6c3b32-55cc-49bb-88ab-0753b3e27aa9 (No such file or directory)\n",
      "24/04/11 16:07:39 ERROR TaskMemoryManager: error while calling spill() on org.apache.spark.util.collection.unsafe.sort.UnsafeExternalSorter@30b6ebc8\n",
      "java.io.FileNotFoundException: /tmp/blockmgr-1de483de-002a-4629-96ec-d9924c2ab1ba/33/temp_local_9b9c25db-fa95-4393-8b3b-3b80afc21c7a (No such file or directory)\n",
      "\tat java.base/java.io.FileOutputStream.open0(Native Method)\n",
      "\tat java.base/java.io.FileOutputStream.open(FileOutputStream.java:298)\n",
      "\tat java.base/java.io.FileOutputStream.<init>(FileOutputStream.java:237)\n",
      "\tat org.apache.spark.storage.DiskBlockObjectWriter.initialize(DiskBlockObjectWriter.scala:141)\n",
      "\tat org.apache.spark.storage.DiskBlockObjectWriter.open(DiskBlockObjectWriter.scala:161)\n",
      "\tat org.apache.spark.storage.DiskBlockObjectWriter.write(DiskBlockObjectWriter.scala:320)\n",
      "\tat org.apache.spark.util.collection.unsafe.sort.UnsafeSorterSpillWriter.<init>(UnsafeSorterSpillWriter.java:81)\n",
      "\tat org.apache.spark.util.collection.unsafe.sort.UnsafeExternalSorter.spill(UnsafeExternalSorter.java:229)\n",
      "\tat org.apache.spark.memory.TaskMemoryManager.trySpillAndAcquire(TaskMemoryManager.java:227)\n",
      "\tat org.apache.spark.memory.TaskMemoryManager.acquireExecutionMemory(TaskMemoryManager.java:190)\n",
      "\tat org.apache.spark.memory.TaskMemoryManager.allocatePage(TaskMemoryManager.java:317)\n",
      "\tat org.apache.spark.memory.MemoryConsumer.allocatePage(MemoryConsumer.java:117)\n",
      "\tat org.apache.spark.util.collection.unsafe.sort.UnsafeExternalSorter.acquireNewPageIfNecessary(UnsafeExternalSorter.java:433)\n",
      "\tat org.apache.spark.util.collection.unsafe.sort.UnsafeExternalSorter.allocateMemoryForRecordIfNecessary(UnsafeExternalSorter.java:452)\n",
      "\tat org.apache.spark.util.collection.unsafe.sort.UnsafeExternalSorter.insertRecord(UnsafeExternalSorter.java:487)\n",
      "\tat org.apache.spark.sql.execution.UnsafeExternalRowSorter.insertRow(UnsafeExternalRowSorter.java:138)\n",
      "\tat org.apache.spark.sql.execution.UnsafeExternalRowSorter.sort(UnsafeExternalRowSorter.java:226)\n",
      "\tat org.apache.spark.sql.execution.exchange.ShuffleExchangeExec$.$anonfun$prepareShuffleDependency$10(ShuffleExchangeExec.scala:375)\n",
      "\tat org.apache.spark.rdd.RDD.$anonfun$mapPartitionsInternal$2(RDD.scala:893)\n",
      "\tat org.apache.spark.rdd.RDD.$anonfun$mapPartitionsInternal$2$adapted(RDD.scala:893)\n",
      "\tat org.apache.spark.rdd.MapPartitionsRDD.compute(MapPartitionsRDD.scala:52)\n",
      "\tat org.apache.spark.rdd.RDD.computeOrReadCheckpoint(RDD.scala:367)\n",
      "\tat org.apache.spark.rdd.RDD.iterator(RDD.scala:331)\n",
      "\tat org.apache.spark.rdd.MapPartitionsRDD.compute(MapPartitionsRDD.scala:52)\n",
      "\tat org.apache.spark.rdd.RDD.computeOrReadCheckpoint(RDD.scala:367)\n",
      "\tat org.apache.spark.rdd.RDD.iterator(RDD.scala:331)\n",
      "\tat org.apache.spark.shuffle.ShuffleWriteProcessor.write(ShuffleWriteProcessor.scala:59)\n",
      "\tat org.apache.spark.scheduler.ShuffleMapTask.runTask(ShuffleMapTask.scala:104)\n",
      "\tat org.apache.spark.scheduler.ShuffleMapTask.runTask(ShuffleMapTask.scala:54)\n",
      "\tat org.apache.spark.TaskContext.runTaskWithListeners(TaskContext.scala:166)\n",
      "\tat org.apache.spark.scheduler.Task.run(Task.scala:141)\n",
      "\tat org.apache.spark.executor.Executor$TaskRunner.$anonfun$run$4(Executor.scala:620)\n",
      "\tat org.apache.spark.util.SparkErrorUtils.tryWithSafeFinally(SparkErrorUtils.scala:64)\n",
      "\tat org.apache.spark.util.SparkErrorUtils.tryWithSafeFinally$(SparkErrorUtils.scala:61)\n",
      "\tat org.apache.spark.util.Utils$.tryWithSafeFinally(Utils.scala:94)\n",
      "\tat org.apache.spark.executor.Executor$TaskRunner.run(Executor.scala:623)\n",
      "\tat java.base/java.util.concurrent.ThreadPoolExecutor.runWorker(ThreadPoolExecutor.java:1128)\n",
      "\tat java.base/java.util.concurrent.ThreadPoolExecutor$Worker.run(ThreadPoolExecutor.java:628)\n",
      "\tat java.base/java.lang.Thread.run(Thread.java:829)\n",
      "24/04/11 16:07:39 ERROR Utils: Uncaught exception in thread Executor task launch worker for task 0.0 in stage 50.0 (TID 501)\n",
      "java.lang.NullPointerException\n",
      "\tat org.apache.spark.scheduler.Task.$anonfun$run$3(Task.scala:146)\n",
      "\tat org.apache.spark.util.Utils$.tryLogNonFatalError(Utils.scala:1375)\n",
      "\tat org.apache.spark.scheduler.Task.run(Task.scala:144)\n",
      "\tat org.apache.spark.executor.Executor$TaskRunner.$anonfun$run$4(Executor.scala:620)\n",
      "\tat org.apache.spark.util.SparkErrorUtils.tryWithSafeFinally(SparkErrorUtils.scala:64)\n",
      "\tat org.apache.spark.util.SparkErrorUtils.tryWithSafeFinally$(SparkErrorUtils.scala:61)\n",
      "\tat org.apache.spark.util.Utils$.tryWithSafeFinally(Utils.scala:94)\n",
      "\tat org.apache.spark.executor.Executor$TaskRunner.run(Executor.scala:623)\n",
      "\tat java.base/java.util.concurrent.ThreadPoolExecutor.runWorker(ThreadPoolExecutor.java:1128)\n",
      "\tat java.base/java.util.concurrent.ThreadPoolExecutor$Worker.run(ThreadPoolExecutor.java:628)\n",
      "\tat java.base/java.lang.Thread.run(Thread.java:829)\n",
      "24/04/11 16:07:39 ERROR Executor: Exception in task 0.0 in stage 50.0 (TID 501): error while calling spill() on org.apache.spark.util.collection.unsafe.sort.UnsafeExternalSorter@30b6ebc8 : /tmp/blockmgr-1de483de-002a-4629-96ec-d9924c2ab1ba/33/temp_local_9b9c25db-fa95-4393-8b3b-3b80afc21c7a (No such file or directory)\n",
      "24/04/11 16:07:40 ERROR TaskMemoryManager: error while calling spill() on org.apache.spark.util.collection.unsafe.sort.UnsafeExternalSorter@2fa47d2c\n",
      "java.io.FileNotFoundException: /tmp/blockmgr-1de483de-002a-4629-96ec-d9924c2ab1ba/35/temp_local_b9376242-d06b-44e4-8788-f54dcdf30abc (No such file or directory)\n",
      "\tat java.base/java.io.FileOutputStream.open0(Native Method)\n",
      "\tat java.base/java.io.FileOutputStream.open(FileOutputStream.java:298)\n",
      "\tat java.base/java.io.FileOutputStream.<init>(FileOutputStream.java:237)\n",
      "\tat org.apache.spark.storage.DiskBlockObjectWriter.initialize(DiskBlockObjectWriter.scala:141)\n",
      "\tat org.apache.spark.storage.DiskBlockObjectWriter.open(DiskBlockObjectWriter.scala:161)\n",
      "\tat org.apache.spark.storage.DiskBlockObjectWriter.write(DiskBlockObjectWriter.scala:320)\n",
      "\tat org.apache.spark.util.collection.unsafe.sort.UnsafeSorterSpillWriter.<init>(UnsafeSorterSpillWriter.java:81)\n",
      "\tat org.apache.spark.util.collection.unsafe.sort.UnsafeExternalSorter.spill(UnsafeExternalSorter.java:229)\n",
      "\tat org.apache.spark.memory.TaskMemoryManager.trySpillAndAcquire(TaskMemoryManager.java:227)\n",
      "\tat org.apache.spark.memory.TaskMemoryManager.acquireExecutionMemory(TaskMemoryManager.java:190)\n",
      "\tat org.apache.spark.memory.TaskMemoryManager.allocatePage(TaskMemoryManager.java:317)\n",
      "\tat org.apache.spark.memory.MemoryConsumer.allocatePage(MemoryConsumer.java:117)\n",
      "\tat org.apache.spark.util.collection.unsafe.sort.UnsafeExternalSorter.acquireNewPageIfNecessary(UnsafeExternalSorter.java:433)\n",
      "\tat org.apache.spark.util.collection.unsafe.sort.UnsafeExternalSorter.allocateMemoryForRecordIfNecessary(UnsafeExternalSorter.java:452)\n",
      "\tat org.apache.spark.util.collection.unsafe.sort.UnsafeExternalSorter.insertRecord(UnsafeExternalSorter.java:487)\n",
      "\tat org.apache.spark.sql.execution.UnsafeExternalRowSorter.insertRow(UnsafeExternalRowSorter.java:138)\n",
      "\tat org.apache.spark.sql.execution.UnsafeExternalRowSorter.sort(UnsafeExternalRowSorter.java:226)\n",
      "\tat org.apache.spark.sql.execution.exchange.ShuffleExchangeExec$.$anonfun$prepareShuffleDependency$10(ShuffleExchangeExec.scala:375)\n",
      "\tat org.apache.spark.rdd.RDD.$anonfun$mapPartitionsInternal$2(RDD.scala:893)\n",
      "\tat org.apache.spark.rdd.RDD.$anonfun$mapPartitionsInternal$2$adapted(RDD.scala:893)\n",
      "\tat org.apache.spark.rdd.MapPartitionsRDD.compute(MapPartitionsRDD.scala:52)\n",
      "\tat org.apache.spark.rdd.RDD.computeOrReadCheckpoint(RDD.scala:367)\n",
      "\tat org.apache.spark.rdd.RDD.iterator(RDD.scala:331)\n",
      "\tat org.apache.spark.rdd.MapPartitionsRDD.compute(MapPartitionsRDD.scala:52)\n",
      "\tat org.apache.spark.rdd.RDD.computeOrReadCheckpoint(RDD.scala:367)\n",
      "\tat org.apache.spark.rdd.RDD.iterator(RDD.scala:331)\n",
      "\tat org.apache.spark.shuffle.ShuffleWriteProcessor.write(ShuffleWriteProcessor.scala:59)\n",
      "\tat org.apache.spark.scheduler.ShuffleMapTask.runTask(ShuffleMapTask.scala:104)\n",
      "\tat org.apache.spark.scheduler.ShuffleMapTask.runTask(ShuffleMapTask.scala:54)\n",
      "\tat org.apache.spark.TaskContext.runTaskWithListeners(TaskContext.scala:166)\n",
      "\tat org.apache.spark.scheduler.Task.run(Task.scala:141)\n",
      "\tat org.apache.spark.executor.Executor$TaskRunner.$anonfun$run$4(Executor.scala:620)\n",
      "\tat org.apache.spark.util.SparkErrorUtils.tryWithSafeFinally(SparkErrorUtils.scala:64)\n",
      "\tat org.apache.spark.util.SparkErrorUtils.tryWithSafeFinally$(SparkErrorUtils.scala:61)\n",
      "\tat org.apache.spark.util.Utils$.tryWithSafeFinally(Utils.scala:94)\n",
      "\tat org.apache.spark.executor.Executor$TaskRunner.run(Executor.scala:623)\n",
      "\tat java.base/java.util.concurrent.ThreadPoolExecutor.runWorker(ThreadPoolExecutor.java:1128)\n",
      "\tat java.base/java.util.concurrent.ThreadPoolExecutor$Worker.run(ThreadPoolExecutor.java:628)\n",
      "\tat java.base/java.lang.Thread.run(Thread.java:829)\n",
      "24/04/11 16:07:40 ERROR Utils: Uncaught exception in thread Executor task launch worker for task 6.0 in stage 50.0 (TID 507)\n",
      "java.lang.NullPointerException\n",
      "\tat org.apache.spark.scheduler.Task.$anonfun$run$3(Task.scala:146)\n",
      "\tat org.apache.spark.util.Utils$.tryLogNonFatalError(Utils.scala:1375)\n",
      "\tat org.apache.spark.scheduler.Task.run(Task.scala:144)\n",
      "\tat org.apache.spark.executor.Executor$TaskRunner.$anonfun$run$4(Executor.scala:620)\n",
      "\tat org.apache.spark.util.SparkErrorUtils.tryWithSafeFinally(SparkErrorUtils.scala:64)\n",
      "\tat org.apache.spark.util.SparkErrorUtils.tryWithSafeFinally$(SparkErrorUtils.scala:61)\n",
      "\tat org.apache.spark.util.Utils$.tryWithSafeFinally(Utils.scala:94)\n",
      "\tat org.apache.spark.executor.Executor$TaskRunner.run(Executor.scala:623)\n",
      "\tat java.base/java.util.concurrent.ThreadPoolExecutor.runWorker(ThreadPoolExecutor.java:1128)\n",
      "\tat java.base/java.util.concurrent.ThreadPoolExecutor$Worker.run(ThreadPoolExecutor.java:628)\n",
      "\tat java.base/java.lang.Thread.run(Thread.java:829)\n",
      "24/04/11 16:07:40 ERROR Executor: Exception in task 6.0 in stage 50.0 (TID 507): error while calling spill() on org.apache.spark.util.collection.unsafe.sort.UnsafeExternalSorter@2fa47d2c : /tmp/blockmgr-1de483de-002a-4629-96ec-d9924c2ab1ba/35/temp_local_b9376242-d06b-44e4-8788-f54dcdf30abc (No such file or directory)\n",
      "24/04/11 16:07:41 ERROR TaskMemoryManager: error while calling spill() on org.apache.spark.util.collection.unsafe.sort.UnsafeExternalSorter@44d245bf\n",
      "java.io.FileNotFoundException: /tmp/blockmgr-1de483de-002a-4629-96ec-d9924c2ab1ba/30/temp_local_2e14c69f-7fd4-45ff-86a0-d3922384fe46 (No such file or directory)\n",
      "\tat java.base/java.io.FileOutputStream.open0(Native Method)\n",
      "\tat java.base/java.io.FileOutputStream.open(FileOutputStream.java:298)\n",
      "\tat java.base/java.io.FileOutputStream.<init>(FileOutputStream.java:237)\n",
      "\tat org.apache.spark.storage.DiskBlockObjectWriter.initialize(DiskBlockObjectWriter.scala:141)\n",
      "\tat org.apache.spark.storage.DiskBlockObjectWriter.open(DiskBlockObjectWriter.scala:161)\n",
      "\tat org.apache.spark.storage.DiskBlockObjectWriter.write(DiskBlockObjectWriter.scala:320)\n",
      "\tat org.apache.spark.util.collection.unsafe.sort.UnsafeSorterSpillWriter.<init>(UnsafeSorterSpillWriter.java:81)\n",
      "\tat org.apache.spark.util.collection.unsafe.sort.UnsafeExternalSorter.spill(UnsafeExternalSorter.java:229)\n",
      "\tat org.apache.spark.memory.TaskMemoryManager.trySpillAndAcquire(TaskMemoryManager.java:227)\n",
      "\tat org.apache.spark.memory.TaskMemoryManager.acquireExecutionMemory(TaskMemoryManager.java:190)\n",
      "\tat org.apache.spark.memory.TaskMemoryManager.allocatePage(TaskMemoryManager.java:317)\n",
      "\tat org.apache.spark.memory.MemoryConsumer.allocatePage(MemoryConsumer.java:117)\n",
      "\tat org.apache.spark.util.collection.unsafe.sort.UnsafeExternalSorter.acquireNewPageIfNecessary(UnsafeExternalSorter.java:433)\n",
      "\tat org.apache.spark.util.collection.unsafe.sort.UnsafeExternalSorter.allocateMemoryForRecordIfNecessary(UnsafeExternalSorter.java:452)\n",
      "\tat org.apache.spark.util.collection.unsafe.sort.UnsafeExternalSorter.insertRecord(UnsafeExternalSorter.java:487)\n",
      "\tat org.apache.spark.sql.execution.UnsafeExternalRowSorter.insertRow(UnsafeExternalRowSorter.java:138)\n",
      "\tat org.apache.spark.sql.execution.UnsafeExternalRowSorter.sort(UnsafeExternalRowSorter.java:226)\n",
      "\tat org.apache.spark.sql.execution.exchange.ShuffleExchangeExec$.$anonfun$prepareShuffleDependency$10(ShuffleExchangeExec.scala:375)\n",
      "\tat org.apache.spark.rdd.RDD.$anonfun$mapPartitionsInternal$2(RDD.scala:893)\n",
      "\tat org.apache.spark.rdd.RDD.$anonfun$mapPartitionsInternal$2$adapted(RDD.scala:893)\n",
      "\tat org.apache.spark.rdd.MapPartitionsRDD.compute(MapPartitionsRDD.scala:52)\n",
      "\tat org.apache.spark.rdd.RDD.computeOrReadCheckpoint(RDD.scala:367)\n",
      "\tat org.apache.spark.rdd.RDD.iterator(RDD.scala:331)\n",
      "\tat org.apache.spark.rdd.MapPartitionsRDD.compute(MapPartitionsRDD.scala:52)\n",
      "\tat org.apache.spark.rdd.RDD.computeOrReadCheckpoint(RDD.scala:367)\n",
      "\tat org.apache.spark.rdd.RDD.iterator(RDD.scala:331)\n",
      "\tat org.apache.spark.shuffle.ShuffleWriteProcessor.write(ShuffleWriteProcessor.scala:59)\n",
      "\tat org.apache.spark.scheduler.ShuffleMapTask.runTask(ShuffleMapTask.scala:104)\n",
      "\tat org.apache.spark.scheduler.ShuffleMapTask.runTask(ShuffleMapTask.scala:54)\n",
      "\tat org.apache.spark.TaskContext.runTaskWithListeners(TaskContext.scala:166)\n",
      "\tat org.apache.spark.scheduler.Task.run(Task.scala:141)\n",
      "\tat org.apache.spark.executor.Executor$TaskRunner.$anonfun$run$4(Executor.scala:620)\n",
      "\tat org.apache.spark.util.SparkErrorUtils.tryWithSafeFinally(SparkErrorUtils.scala:64)\n",
      "\tat org.apache.spark.util.SparkErrorUtils.tryWithSafeFinally$(SparkErrorUtils.scala:61)\n",
      "\tat org.apache.spark.util.Utils$.tryWithSafeFinally(Utils.scala:94)\n",
      "\tat org.apache.spark.executor.Executor$TaskRunner.run(Executor.scala:623)\n",
      "\tat java.base/java.util.concurrent.ThreadPoolExecutor.runWorker(ThreadPoolExecutor.java:1128)\n",
      "\tat java.base/java.util.concurrent.ThreadPoolExecutor$Worker.run(ThreadPoolExecutor.java:628)\n",
      "\tat java.base/java.lang.Thread.run(Thread.java:829)\n",
      "24/04/11 16:07:41 ERROR TaskContextImpl: Error in TaskCompletionListener\n",
      "org.apache.spark.SparkException: Block broadcast_58 does not exist\n",
      "\tat org.apache.spark.errors.SparkCoreErrors$.blockDoesNotExistError(SparkCoreErrors.scala:318)\n",
      "\tat org.apache.spark.storage.BlockInfoManager.blockInfo(BlockInfoManager.scala:269)\n",
      "\tat org.apache.spark.storage.BlockInfoManager.unlock(BlockInfoManager.scala:390)\n",
      "\tat org.apache.spark.storage.BlockManager.releaseLock(BlockManager.scala:1309)\n",
      "\tat org.apache.spark.broadcast.TorrentBroadcast.$anonfun$releaseBlockManagerLock$1(TorrentBroadcast.scala:319)\n",
      "\tat org.apache.spark.broadcast.TorrentBroadcast.$anonfun$releaseBlockManagerLock$1$adapted(TorrentBroadcast.scala:319)\n",
      "\tat org.apache.spark.TaskContext$$anon$1.onTaskCompletion(TaskContext.scala:137)\n",
      "\tat org.apache.spark.TaskContextImpl.$anonfun$invokeTaskCompletionListeners$1(TaskContextImpl.scala:144)\n",
      "\tat org.apache.spark.TaskContextImpl.$anonfun$invokeTaskCompletionListeners$1$adapted(TaskContextImpl.scala:144)\n",
      "\tat org.apache.spark.TaskContextImpl.invokeListeners(TaskContextImpl.scala:199)\n",
      "\tat org.apache.spark.TaskContextImpl.invokeTaskCompletionListeners(TaskContextImpl.scala:144)\n",
      "\tat org.apache.spark.TaskContextImpl.markTaskCompleted(TaskContextImpl.scala:137)\n",
      "\tat org.apache.spark.TaskContext.runTaskWithListeners(TaskContext.scala:177)\n",
      "\tat org.apache.spark.scheduler.Task.run(Task.scala:141)\n",
      "\tat org.apache.spark.executor.Executor$TaskRunner.$anonfun$run$4(Executor.scala:620)\n",
      "\tat org.apache.spark.util.SparkErrorUtils.tryWithSafeFinally(SparkErrorUtils.scala:64)\n",
      "\tat org.apache.spark.util.SparkErrorUtils.tryWithSafeFinally$(SparkErrorUtils.scala:61)\n",
      "\tat org.apache.spark.util.Utils$.tryWithSafeFinally(Utils.scala:94)\n",
      "\tat org.apache.spark.executor.Executor$TaskRunner.run(Executor.scala:623)\n",
      "\tat java.base/java.util.concurrent.ThreadPoolExecutor.runWorker(ThreadPoolExecutor.java:1128)\n",
      "\tat java.base/java.util.concurrent.ThreadPoolExecutor$Worker.run(ThreadPoolExecutor.java:628)\n",
      "\tat java.base/java.lang.Thread.run(Thread.java:829)\n",
      "24/04/11 16:07:41 ERROR Utils: Uncaught exception in thread Executor task launch worker for task 4.0 in stage 50.0 (TID 505)\n",
      "java.lang.NullPointerException\n",
      "\tat org.apache.spark.scheduler.Task.$anonfun$run$3(Task.scala:146)\n",
      "\tat org.apache.spark.util.Utils$.tryLogNonFatalError(Utils.scala:1375)\n",
      "\tat org.apache.spark.scheduler.Task.run(Task.scala:144)\n",
      "\tat org.apache.spark.executor.Executor$TaskRunner.$anonfun$run$4(Executor.scala:620)\n",
      "\tat org.apache.spark.util.SparkErrorUtils.tryWithSafeFinally(SparkErrorUtils.scala:64)\n",
      "\tat org.apache.spark.util.SparkErrorUtils.tryWithSafeFinally$(SparkErrorUtils.scala:61)\n",
      "\tat org.apache.spark.util.Utils$.tryWithSafeFinally(Utils.scala:94)\n",
      "\tat org.apache.spark.executor.Executor$TaskRunner.run(Executor.scala:623)\n",
      "\tat java.base/java.util.concurrent.ThreadPoolExecutor.runWorker(ThreadPoolExecutor.java:1128)\n",
      "\tat java.base/java.util.concurrent.ThreadPoolExecutor$Worker.run(ThreadPoolExecutor.java:628)\n",
      "\tat java.base/java.lang.Thread.run(Thread.java:829)\n",
      "24/04/11 16:07:41 ERROR Executor: Exception in task 4.0 in stage 50.0 (TID 505): error while calling spill() on org.apache.spark.util.collection.unsafe.sort.UnsafeExternalSorter@44d245bf : /tmp/blockmgr-1de483de-002a-4629-96ec-d9924c2ab1ba/30/temp_local_2e14c69f-7fd4-45ff-86a0-d3922384fe46 (No such file or directory)\n",
      "24/04/11 16:07:42 ERROR TaskMemoryManager: error while calling spill() on org.apache.spark.util.collection.unsafe.sort.UnsafeExternalSorter@28e23371\n",
      "java.io.FileNotFoundException: /tmp/blockmgr-1de483de-002a-4629-96ec-d9924c2ab1ba/05/temp_local_f1b2be23-00cd-4bb7-a748-3ab782589196 (No such file or directory)\n",
      "\tat java.base/java.io.FileOutputStream.open0(Native Method)\n",
      "\tat java.base/java.io.FileOutputStream.open(FileOutputStream.java:298)\n",
      "\tat java.base/java.io.FileOutputStream.<init>(FileOutputStream.java:237)\n",
      "\tat org.apache.spark.storage.DiskBlockObjectWriter.initialize(DiskBlockObjectWriter.scala:141)\n",
      "\tat org.apache.spark.storage.DiskBlockObjectWriter.open(DiskBlockObjectWriter.scala:161)\n",
      "\tat org.apache.spark.storage.DiskBlockObjectWriter.write(DiskBlockObjectWriter.scala:320)\n",
      "\tat org.apache.spark.util.collection.unsafe.sort.UnsafeSorterSpillWriter.<init>(UnsafeSorterSpillWriter.java:81)\n",
      "\tat org.apache.spark.util.collection.unsafe.sort.UnsafeExternalSorter.spill(UnsafeExternalSorter.java:229)\n",
      "\tat org.apache.spark.memory.TaskMemoryManager.trySpillAndAcquire(TaskMemoryManager.java:227)\n",
      "\tat org.apache.spark.memory.TaskMemoryManager.acquireExecutionMemory(TaskMemoryManager.java:190)\n",
      "\tat org.apache.spark.memory.TaskMemoryManager.allocatePage(TaskMemoryManager.java:317)\n",
      "\tat org.apache.spark.memory.MemoryConsumer.allocatePage(MemoryConsumer.java:117)\n",
      "\tat org.apache.spark.util.collection.unsafe.sort.UnsafeExternalSorter.acquireNewPageIfNecessary(UnsafeExternalSorter.java:433)\n",
      "\tat org.apache.spark.util.collection.unsafe.sort.UnsafeExternalSorter.allocateMemoryForRecordIfNecessary(UnsafeExternalSorter.java:452)\n",
      "\tat org.apache.spark.util.collection.unsafe.sort.UnsafeExternalSorter.insertRecord(UnsafeExternalSorter.java:487)\n",
      "\tat org.apache.spark.sql.execution.UnsafeExternalRowSorter.insertRow(UnsafeExternalRowSorter.java:138)\n",
      "\tat org.apache.spark.sql.execution.UnsafeExternalRowSorter.sort(UnsafeExternalRowSorter.java:226)\n",
      "\tat org.apache.spark.sql.execution.exchange.ShuffleExchangeExec$.$anonfun$prepareShuffleDependency$10(ShuffleExchangeExec.scala:375)\n",
      "\tat org.apache.spark.rdd.RDD.$anonfun$mapPartitionsInternal$2(RDD.scala:893)\n",
      "\tat org.apache.spark.rdd.RDD.$anonfun$mapPartitionsInternal$2$adapted(RDD.scala:893)\n",
      "\tat org.apache.spark.rdd.MapPartitionsRDD.compute(MapPartitionsRDD.scala:52)\n",
      "\tat org.apache.spark.rdd.RDD.computeOrReadCheckpoint(RDD.scala:367)\n",
      "\tat org.apache.spark.rdd.RDD.iterator(RDD.scala:331)\n",
      "\tat org.apache.spark.rdd.MapPartitionsRDD.compute(MapPartitionsRDD.scala:52)\n",
      "\tat org.apache.spark.rdd.RDD.computeOrReadCheckpoint(RDD.scala:367)\n",
      "\tat org.apache.spark.rdd.RDD.iterator(RDD.scala:331)\n",
      "\tat org.apache.spark.shuffle.ShuffleWriteProcessor.write(ShuffleWriteProcessor.scala:59)\n",
      "\tat org.apache.spark.scheduler.ShuffleMapTask.runTask(ShuffleMapTask.scala:104)\n",
      "\tat org.apache.spark.scheduler.ShuffleMapTask.runTask(ShuffleMapTask.scala:54)\n",
      "\tat org.apache.spark.TaskContext.runTaskWithListeners(TaskContext.scala:166)\n",
      "\tat org.apache.spark.scheduler.Task.run(Task.scala:141)\n",
      "\tat org.apache.spark.executor.Executor$TaskRunner.$anonfun$run$4(Executor.scala:620)\n",
      "\tat org.apache.spark.util.SparkErrorUtils.tryWithSafeFinally(SparkErrorUtils.scala:64)\n",
      "\tat org.apache.spark.util.SparkErrorUtils.tryWithSafeFinally$(SparkErrorUtils.scala:61)\n",
      "\tat org.apache.spark.util.Utils$.tryWithSafeFinally(Utils.scala:94)\n",
      "\tat org.apache.spark.executor.Executor$TaskRunner.run(Executor.scala:623)\n",
      "\tat java.base/java.util.concurrent.ThreadPoolExecutor.runWorker(ThreadPoolExecutor.java:1128)\n",
      "\tat java.base/java.util.concurrent.ThreadPoolExecutor$Worker.run(ThreadPoolExecutor.java:628)\n",
      "\tat java.base/java.lang.Thread.run(Thread.java:829)\n",
      "24/04/11 16:07:42 ERROR Utils: Uncaught exception in thread Executor task launch worker for task 5.0 in stage 50.0 (TID 506)\n",
      "java.lang.NullPointerException\n",
      "\tat org.apache.spark.scheduler.Task.$anonfun$run$3(Task.scala:146)\n",
      "\tat org.apache.spark.util.Utils$.tryLogNonFatalError(Utils.scala:1375)\n",
      "\tat org.apache.spark.scheduler.Task.run(Task.scala:144)\n",
      "\tat org.apache.spark.executor.Executor$TaskRunner.$anonfun$run$4(Executor.scala:620)\n",
      "\tat org.apache.spark.util.SparkErrorUtils.tryWithSafeFinally(SparkErrorUtils.scala:64)\n",
      "\tat org.apache.spark.util.SparkErrorUtils.tryWithSafeFinally$(SparkErrorUtils.scala:61)\n",
      "\tat org.apache.spark.util.Utils$.tryWithSafeFinally(Utils.scala:94)\n",
      "\tat org.apache.spark.executor.Executor$TaskRunner.run(Executor.scala:623)\n",
      "\tat java.base/java.util.concurrent.ThreadPoolExecutor.runWorker(ThreadPoolExecutor.java:1128)\n",
      "\tat java.base/java.util.concurrent.ThreadPoolExecutor$Worker.run(ThreadPoolExecutor.java:628)\n",
      "\tat java.base/java.lang.Thread.run(Thread.java:829)\n",
      "24/04/11 16:07:42 ERROR Executor: Exception in task 5.0 in stage 50.0 (TID 506): error while calling spill() on org.apache.spark.util.collection.unsafe.sort.UnsafeExternalSorter@28e23371 : /tmp/blockmgr-1de483de-002a-4629-96ec-d9924c2ab1ba/05/temp_local_f1b2be23-00cd-4bb7-a748-3ab782589196 (No such file or directory)\n",
      "24/04/11 16:07:44 ERROR TaskMemoryManager: error while calling spill() on org.apache.spark.util.collection.unsafe.sort.UnsafeExternalSorter@3de08bef\n",
      "java.io.FileNotFoundException: /tmp/blockmgr-1de483de-002a-4629-96ec-d9924c2ab1ba/30/temp_local_6e653665-d061-4a87-bbcd-0554ed24eafb (No such file or directory)\n",
      "\tat java.base/java.io.FileOutputStream.open0(Native Method)\n",
      "\tat java.base/java.io.FileOutputStream.open(FileOutputStream.java:298)\n",
      "\tat java.base/java.io.FileOutputStream.<init>(FileOutputStream.java:237)\n",
      "\tat org.apache.spark.storage.DiskBlockObjectWriter.initialize(DiskBlockObjectWriter.scala:141)\n",
      "\tat org.apache.spark.storage.DiskBlockObjectWriter.open(DiskBlockObjectWriter.scala:161)\n",
      "\tat org.apache.spark.storage.DiskBlockObjectWriter.write(DiskBlockObjectWriter.scala:320)\n",
      "\tat org.apache.spark.util.collection.unsafe.sort.UnsafeSorterSpillWriter.<init>(UnsafeSorterSpillWriter.java:81)\n",
      "\tat org.apache.spark.util.collection.unsafe.sort.UnsafeExternalSorter.spill(UnsafeExternalSorter.java:229)\n",
      "\tat org.apache.spark.memory.TaskMemoryManager.trySpillAndAcquire(TaskMemoryManager.java:227)\n",
      "\tat org.apache.spark.memory.TaskMemoryManager.acquireExecutionMemory(TaskMemoryManager.java:190)\n",
      "\tat org.apache.spark.memory.TaskMemoryManager.allocatePage(TaskMemoryManager.java:317)\n",
      "\tat org.apache.spark.memory.MemoryConsumer.allocatePage(MemoryConsumer.java:117)\n",
      "\tat org.apache.spark.util.collection.unsafe.sort.UnsafeExternalSorter.acquireNewPageIfNecessary(UnsafeExternalSorter.java:433)\n",
      "\tat org.apache.spark.util.collection.unsafe.sort.UnsafeExternalSorter.allocateMemoryForRecordIfNecessary(UnsafeExternalSorter.java:452)\n",
      "\tat org.apache.spark.util.collection.unsafe.sort.UnsafeExternalSorter.insertRecord(UnsafeExternalSorter.java:487)\n",
      "\tat org.apache.spark.sql.execution.UnsafeExternalRowSorter.insertRow(UnsafeExternalRowSorter.java:138)\n",
      "\tat org.apache.spark.sql.execution.UnsafeExternalRowSorter.sort(UnsafeExternalRowSorter.java:226)\n",
      "\tat org.apache.spark.sql.execution.exchange.ShuffleExchangeExec$.$anonfun$prepareShuffleDependency$10(ShuffleExchangeExec.scala:375)\n",
      "\tat org.apache.spark.rdd.RDD.$anonfun$mapPartitionsInternal$2(RDD.scala:893)\n",
      "\tat org.apache.spark.rdd.RDD.$anonfun$mapPartitionsInternal$2$adapted(RDD.scala:893)\n",
      "\tat org.apache.spark.rdd.MapPartitionsRDD.compute(MapPartitionsRDD.scala:52)\n",
      "\tat org.apache.spark.rdd.RDD.computeOrReadCheckpoint(RDD.scala:367)\n",
      "\tat org.apache.spark.rdd.RDD.iterator(RDD.scala:331)\n",
      "\tat org.apache.spark.rdd.MapPartitionsRDD.compute(MapPartitionsRDD.scala:52)\n",
      "\tat org.apache.spark.rdd.RDD.computeOrReadCheckpoint(RDD.scala:367)\n",
      "\tat org.apache.spark.rdd.RDD.iterator(RDD.scala:331)\n",
      "\tat org.apache.spark.shuffle.ShuffleWriteProcessor.write(ShuffleWriteProcessor.scala:59)\n",
      "\tat org.apache.spark.scheduler.ShuffleMapTask.runTask(ShuffleMapTask.scala:104)\n",
      "\tat org.apache.spark.scheduler.ShuffleMapTask.runTask(ShuffleMapTask.scala:54)\n",
      "\tat org.apache.spark.TaskContext.runTaskWithListeners(TaskContext.scala:166)\n",
      "\tat org.apache.spark.scheduler.Task.run(Task.scala:141)\n",
      "\tat org.apache.spark.executor.Executor$TaskRunner.$anonfun$run$4(Executor.scala:620)\n",
      "\tat org.apache.spark.util.SparkErrorUtils.tryWithSafeFinally(SparkErrorUtils.scala:64)\n",
      "\tat org.apache.spark.util.SparkErrorUtils.tryWithSafeFinally$(SparkErrorUtils.scala:61)\n",
      "\tat org.apache.spark.util.Utils$.tryWithSafeFinally(Utils.scala:94)\n",
      "\tat org.apache.spark.executor.Executor$TaskRunner.run(Executor.scala:623)\n",
      "\tat java.base/java.util.concurrent.ThreadPoolExecutor.runWorker(ThreadPoolExecutor.java:1128)\n",
      "\tat java.base/java.util.concurrent.ThreadPoolExecutor$Worker.run(ThreadPoolExecutor.java:628)\n",
      "\tat java.base/java.lang.Thread.run(Thread.java:829)\n",
      "24/04/11 16:07:44 ERROR Utils: Uncaught exception in thread Executor task launch worker for task 2.0 in stage 50.0 (TID 503)\n",
      "java.lang.NullPointerException\n",
      "\tat org.apache.spark.scheduler.Task.$anonfun$run$3(Task.scala:146)\n",
      "\tat org.apache.spark.util.Utils$.tryLogNonFatalError(Utils.scala:1375)\n",
      "\tat org.apache.spark.scheduler.Task.run(Task.scala:144)\n",
      "\tat org.apache.spark.executor.Executor$TaskRunner.$anonfun$run$4(Executor.scala:620)\n",
      "\tat org.apache.spark.util.SparkErrorUtils.tryWithSafeFinally(SparkErrorUtils.scala:64)\n",
      "\tat org.apache.spark.util.SparkErrorUtils.tryWithSafeFinally$(SparkErrorUtils.scala:61)\n",
      "\tat org.apache.spark.util.Utils$.tryWithSafeFinally(Utils.scala:94)\n",
      "\tat org.apache.spark.executor.Executor$TaskRunner.run(Executor.scala:623)\n",
      "\tat java.base/java.util.concurrent.ThreadPoolExecutor.runWorker(ThreadPoolExecutor.java:1128)\n",
      "\tat java.base/java.util.concurrent.ThreadPoolExecutor$Worker.run(ThreadPoolExecutor.java:628)\n",
      "\tat java.base/java.lang.Thread.run(Thread.java:829)\n",
      "24/04/11 16:07:44 ERROR Executor: Exception in task 2.0 in stage 50.0 (TID 503): error while calling spill() on org.apache.spark.util.collection.unsafe.sort.UnsafeExternalSorter@3de08bef : /tmp/blockmgr-1de483de-002a-4629-96ec-d9924c2ab1ba/30/temp_local_6e653665-d061-4a87-bbcd-0554ed24eafb (No such file or directory)\n",
      "24/04/11 16:07:50 ERROR TaskMemoryManager: error while calling spill() on org.apache.spark.util.collection.unsafe.sort.UnsafeExternalSorter@391bd640\n",
      "java.io.FileNotFoundException: /tmp/blockmgr-1de483de-002a-4629-96ec-d9924c2ab1ba/2e/temp_local_1e602632-0a9e-41d5-9c42-0101e2202d60 (No such file or directory)\n",
      "\tat java.base/java.io.FileOutputStream.open0(Native Method)\n",
      "\tat java.base/java.io.FileOutputStream.open(FileOutputStream.java:298)\n",
      "\tat java.base/java.io.FileOutputStream.<init>(FileOutputStream.java:237)\n",
      "\tat org.apache.spark.storage.DiskBlockObjectWriter.initialize(DiskBlockObjectWriter.scala:141)\n",
      "\tat org.apache.spark.storage.DiskBlockObjectWriter.open(DiskBlockObjectWriter.scala:161)\n",
      "\tat org.apache.spark.storage.DiskBlockObjectWriter.write(DiskBlockObjectWriter.scala:320)\n",
      "\tat org.apache.spark.util.collection.unsafe.sort.UnsafeSorterSpillWriter.<init>(UnsafeSorterSpillWriter.java:81)\n",
      "\tat org.apache.spark.util.collection.unsafe.sort.UnsafeExternalSorter.spill(UnsafeExternalSorter.java:229)\n",
      "\tat org.apache.spark.memory.TaskMemoryManager.trySpillAndAcquire(TaskMemoryManager.java:227)\n",
      "\tat org.apache.spark.memory.TaskMemoryManager.acquireExecutionMemory(TaskMemoryManager.java:190)\n",
      "\tat org.apache.spark.memory.TaskMemoryManager.allocatePage(TaskMemoryManager.java:317)\n",
      "\tat org.apache.spark.memory.MemoryConsumer.allocatePage(MemoryConsumer.java:117)\n",
      "\tat org.apache.spark.util.collection.unsafe.sort.UnsafeExternalSorter.acquireNewPageIfNecessary(UnsafeExternalSorter.java:433)\n",
      "\tat org.apache.spark.util.collection.unsafe.sort.UnsafeExternalSorter.allocateMemoryForRecordIfNecessary(UnsafeExternalSorter.java:452)\n",
      "\tat org.apache.spark.util.collection.unsafe.sort.UnsafeExternalSorter.insertRecord(UnsafeExternalSorter.java:487)\n",
      "\tat org.apache.spark.sql.execution.UnsafeExternalRowSorter.insertRow(UnsafeExternalRowSorter.java:138)\n",
      "\tat org.apache.spark.sql.execution.UnsafeExternalRowSorter.sort(UnsafeExternalRowSorter.java:226)\n",
      "\tat org.apache.spark.sql.execution.exchange.ShuffleExchangeExec$.$anonfun$prepareShuffleDependency$10(ShuffleExchangeExec.scala:375)\n",
      "\tat org.apache.spark.rdd.RDD.$anonfun$mapPartitionsInternal$2(RDD.scala:893)\n",
      "\tat org.apache.spark.rdd.RDD.$anonfun$mapPartitionsInternal$2$adapted(RDD.scala:893)\n",
      "\tat org.apache.spark.rdd.MapPartitionsRDD.compute(MapPartitionsRDD.scala:52)\n",
      "\tat org.apache.spark.rdd.RDD.computeOrReadCheckpoint(RDD.scala:367)\n",
      "\tat org.apache.spark.rdd.RDD.iterator(RDD.scala:331)\n",
      "\tat org.apache.spark.rdd.MapPartitionsRDD.compute(MapPartitionsRDD.scala:52)\n",
      "\tat org.apache.spark.rdd.RDD.computeOrReadCheckpoint(RDD.scala:367)\n",
      "\tat org.apache.spark.rdd.RDD.iterator(RDD.scala:331)\n",
      "\tat org.apache.spark.shuffle.ShuffleWriteProcessor.write(ShuffleWriteProcessor.scala:59)\n",
      "\tat org.apache.spark.scheduler.ShuffleMapTask.runTask(ShuffleMapTask.scala:104)\n",
      "\tat org.apache.spark.scheduler.ShuffleMapTask.runTask(ShuffleMapTask.scala:54)\n",
      "\tat org.apache.spark.TaskContext.runTaskWithListeners(TaskContext.scala:166)\n",
      "\tat org.apache.spark.scheduler.Task.run(Task.scala:141)\n",
      "\tat org.apache.spark.executor.Executor$TaskRunner.$anonfun$run$4(Executor.scala:620)\n",
      "\tat org.apache.spark.util.SparkErrorUtils.tryWithSafeFinally(SparkErrorUtils.scala:64)\n",
      "\tat org.apache.spark.util.SparkErrorUtils.tryWithSafeFinally$(SparkErrorUtils.scala:61)\n",
      "\tat org.apache.spark.util.Utils$.tryWithSafeFinally(Utils.scala:94)\n",
      "\tat org.apache.spark.executor.Executor$TaskRunner.run(Executor.scala:623)\n",
      "\tat java.base/java.util.concurrent.ThreadPoolExecutor.runWorker(ThreadPoolExecutor.java:1128)\n",
      "\tat java.base/java.util.concurrent.ThreadPoolExecutor$Worker.run(ThreadPoolExecutor.java:628)\n",
      "\tat java.base/java.lang.Thread.run(Thread.java:829)\n",
      "24/04/11 16:07:50 ERROR Utils: Uncaught exception in thread Executor task launch worker for task 3.0 in stage 50.0 (TID 504)\n",
      "java.lang.NullPointerException\n",
      "\tat org.apache.spark.scheduler.Task.$anonfun$run$3(Task.scala:146)\n",
      "\tat org.apache.spark.util.Utils$.tryLogNonFatalError(Utils.scala:1375)\n",
      "\tat org.apache.spark.scheduler.Task.run(Task.scala:144)\n",
      "\tat org.apache.spark.executor.Executor$TaskRunner.$anonfun$run$4(Executor.scala:620)\n",
      "\tat org.apache.spark.util.SparkErrorUtils.tryWithSafeFinally(SparkErrorUtils.scala:64)\n",
      "\tat org.apache.spark.util.SparkErrorUtils.tryWithSafeFinally$(SparkErrorUtils.scala:61)\n",
      "\tat org.apache.spark.util.Utils$.tryWithSafeFinally(Utils.scala:94)\n",
      "\tat org.apache.spark.executor.Executor$TaskRunner.run(Executor.scala:623)\n",
      "\tat java.base/java.util.concurrent.ThreadPoolExecutor.runWorker(ThreadPoolExecutor.java:1128)\n",
      "\tat java.base/java.util.concurrent.ThreadPoolExecutor$Worker.run(ThreadPoolExecutor.java:628)\n",
      "\tat java.base/java.lang.Thread.run(Thread.java:829)\n",
      "24/04/11 16:07:50 ERROR Executor: Exception in task 3.0 in stage 50.0 (TID 504): error while calling spill() on org.apache.spark.util.collection.unsafe.sort.UnsafeExternalSorter@391bd640 : /tmp/blockmgr-1de483de-002a-4629-96ec-d9924c2ab1ba/2e/temp_local_1e602632-0a9e-41d5-9c42-0101e2202d60 (No such file or directory)\n"
     ]
    }
   ],
   "source": [
    "evaluated_word2vec_cosine.select(\"evaluation\").filter(\"evaluation == true\").count()\n",
    "# 1.000 2min\n",
    "# 10.000 error"
   ]
  },
  {
   "cell_type": "code",
   "execution_count": null,
   "metadata": {},
   "outputs": [],
   "source": [
    "print(accertion_ratio(evaluated_word2vec_cosine))"
   ]
  },
  {
   "cell_type": "code",
   "execution_count": null,
   "metadata": {},
   "outputs": [],
   "source": [
    "# !!! Error por falta de almacenamiento\n",
    "evaluated_word2vec_cosine.write.format('parquet').save(\"../data/proccesed_data/word2vec_cosine.parquet\")"
   ]
  },
  {
   "cell_type": "markdown",
   "metadata": {},
   "source": [
    "#### Test"
   ]
  },
  {
   "cell_type": "markdown",
   "metadata": {},
   "source": [
    "--------"
   ]
  },
  {
   "cell_type": "code",
   "execution_count": 12,
   "metadata": {},
   "outputs": [
    {
     "name": "stderr",
     "output_type": "stream",
     "text": [
      "ERROR:root:KeyboardInterrupt while sending command.                             \n",
      "Traceback (most recent call last):\n",
      "  File \"/home/usuario/Address-matching/env_address_matching/lib/python3.10/site-packages/py4j/java_gateway.py\", line 1038, in send_command\n",
      "    response = connection.send_command(command)\n",
      "  File \"/home/usuario/Address-matching/env_address_matching/lib/python3.10/site-packages/py4j/clientserver.py\", line 511, in send_command\n",
      "    answer = smart_decode(self.stream.readline()[:-1])\n",
      "  File \"/usr/lib/python3.10/socket.py\", line 705, in readinto\n",
      "    return self._sock.recv_into(b)\n",
      "KeyboardInterrupt\n"
     ]
    },
    {
     "ename": "KeyboardInterrupt",
     "evalue": "",
     "output_type": "error",
     "traceback": [
      "\u001b[0;31m---------------------------------------------------------------------------\u001b[0m",
      "\u001b[0;31mKeyboardInterrupt\u001b[0m                         Traceback (most recent call last)",
      "Cell \u001b[0;32mIn[12], line 26\u001b[0m\n\u001b[1;32m     24\u001b[0m   evaluated_word2vec_cosine \u001b[38;5;241m=\u001b[39m filter_3_best(evaluated_word2vec_cosine)\n\u001b[1;32m     25\u001b[0m   evaluated_word2vec_cosine \u001b[38;5;241m=\u001b[39m evaluated_word2vec_cosine\u001b[38;5;241m.\u001b[39mwithColumn(\u001b[38;5;124m\"\u001b[39m\u001b[38;5;124mevaluation\u001b[39m\u001b[38;5;124m\"\u001b[39m, evaluated_word2vec_cosine\u001b[38;5;241m.\u001b[39muuid_idt \u001b[38;5;241m==\u001b[39m evaluated_word2vec_cosine\u001b[38;5;241m.\u001b[39muuid_idt2)\n\u001b[0;32m---> 26\u001b[0m   x\u001b[38;5;241m.\u001b[39munion(\u001b[43mevaluated_word2vec_cosine\u001b[49m\u001b[38;5;241;43m.\u001b[39;49m\u001b[43mselect\u001b[49m\u001b[43m(\u001b[49m\u001b[38;5;124;43m\"\u001b[39;49m\u001b[38;5;124;43muuid_idt\u001b[39;49m\u001b[38;5;124;43m\"\u001b[39;49m\u001b[43m,\u001b[49m\u001b[43m \u001b[49m\u001b[38;5;124;43m\"\u001b[39;49m\u001b[38;5;124;43muuid_idt2\u001b[39;49m\u001b[38;5;124;43m\"\u001b[39;49m\u001b[43m,\u001b[49m\u001b[43m \u001b[49m\u001b[38;5;124;43m\"\u001b[39;49m\u001b[38;5;124;43mdireccion\u001b[39;49m\u001b[38;5;124;43m\"\u001b[39;49m\u001b[43m,\u001b[49m\u001b[43m \u001b[49m\u001b[38;5;124;43m\"\u001b[39;49m\u001b[38;5;124;43mdireccion2\u001b[39;49m\u001b[38;5;124;43m\"\u001b[39;49m\u001b[43m,\u001b[49m\u001b[43m \u001b[49m\u001b[38;5;124;43m\"\u001b[39;49m\u001b[38;5;124;43mcosine_similarity\u001b[39;49m\u001b[38;5;124;43m\"\u001b[39;49m\u001b[43m,\u001b[49m\u001b[43m \u001b[49m\u001b[38;5;124;43m\"\u001b[39;49m\u001b[38;5;124;43mevaluation\u001b[39;49m\u001b[38;5;124;43m\"\u001b[39;49m\u001b[43m)\u001b[49m)\n\u001b[1;32m     28\u001b[0m   \u001b[38;5;66;03m# Calcular la similitud del coseno en el lote actual\u001b[39;00m\n\u001b[1;32m     29\u001b[0m   \u001b[38;5;66;03m# batch_results = joined_df.withColumn(\"cosine_similarity\", cosine_similarity(\"embedding2\", \"embedding\"))\u001b[39;00m\n\u001b[1;32m     31\u001b[0m \u001b[38;5;124;03m\"\"\" uuids = [row.uuid_idt for row in w2v_cosine.select(\"uuid_idt\").distinct().collect()]\u001b[39;00m\n\u001b[1;32m     32\u001b[0m \n\u001b[1;32m     33\u001b[0m \u001b[38;5;124;03mbatches_size = 1000\u001b[39;00m\n\u001b[0;32m   (...)\u001b[0m\n\u001b[1;32m     51\u001b[0m \u001b[38;5;124;03m    # Calcular la similitud del coseno en el lote actual\u001b[39;00m\n\u001b[1;32m     52\u001b[0m \u001b[38;5;124;03m    batch_results = joined_df.withColumn(\"cosine_similarity\", cosine_similarity(\"embedding2\", \"embedding\")) \"\"\"\u001b[39;00m\n",
      "File \u001b[0;32m~/Address-matching/env_address_matching/lib/python3.10/site-packages/pyspark/sql/dataframe.py:3227\u001b[0m, in \u001b[0;36mDataFrame.select\u001b[0;34m(self, *cols)\u001b[0m\n\u001b[1;32m   3182\u001b[0m \u001b[38;5;28;01mdef\u001b[39;00m \u001b[38;5;21mselect\u001b[39m(\u001b[38;5;28mself\u001b[39m, \u001b[38;5;241m*\u001b[39mcols: \u001b[38;5;124m\"\u001b[39m\u001b[38;5;124mColumnOrName\u001b[39m\u001b[38;5;124m\"\u001b[39m) \u001b[38;5;241m-\u001b[39m\u001b[38;5;241m>\u001b[39m \u001b[38;5;124m\"\u001b[39m\u001b[38;5;124mDataFrame\u001b[39m\u001b[38;5;124m\"\u001b[39m:  \u001b[38;5;66;03m# type: ignore[misc]\u001b[39;00m\n\u001b[1;32m   3183\u001b[0m \u001b[38;5;250m    \u001b[39m\u001b[38;5;124;03m\"\"\"Projects a set of expressions and returns a new :class:`DataFrame`.\u001b[39;00m\n\u001b[1;32m   3184\u001b[0m \n\u001b[1;32m   3185\u001b[0m \u001b[38;5;124;03m    .. versionadded:: 1.3.0\u001b[39;00m\n\u001b[0;32m   (...)\u001b[0m\n\u001b[1;32m   3225\u001b[0m \u001b[38;5;124;03m    +-----+---+\u001b[39;00m\n\u001b[1;32m   3226\u001b[0m \u001b[38;5;124;03m    \"\"\"\u001b[39;00m\n\u001b[0;32m-> 3227\u001b[0m     jdf \u001b[38;5;241m=\u001b[39m \u001b[38;5;28mself\u001b[39m\u001b[38;5;241m.\u001b[39m_jdf\u001b[38;5;241m.\u001b[39mselect(\u001b[38;5;28;43mself\u001b[39;49m\u001b[38;5;241;43m.\u001b[39;49m\u001b[43m_jcols\u001b[49m\u001b[43m(\u001b[49m\u001b[38;5;241;43m*\u001b[39;49m\u001b[43mcols\u001b[49m\u001b[43m)\u001b[49m)\n\u001b[1;32m   3228\u001b[0m     \u001b[38;5;28;01mreturn\u001b[39;00m DataFrame(jdf, \u001b[38;5;28mself\u001b[39m\u001b[38;5;241m.\u001b[39msparkSession)\n",
      "File \u001b[0;32m~/Address-matching/env_address_matching/lib/python3.10/site-packages/pyspark/sql/dataframe.py:2764\u001b[0m, in \u001b[0;36mDataFrame._jcols\u001b[0;34m(self, *cols)\u001b[0m\n\u001b[1;32m   2762\u001b[0m \u001b[38;5;28;01mif\u001b[39;00m \u001b[38;5;28mlen\u001b[39m(cols) \u001b[38;5;241m==\u001b[39m \u001b[38;5;241m1\u001b[39m \u001b[38;5;129;01mand\u001b[39;00m \u001b[38;5;28misinstance\u001b[39m(cols[\u001b[38;5;241m0\u001b[39m], \u001b[38;5;28mlist\u001b[39m):\n\u001b[1;32m   2763\u001b[0m     cols \u001b[38;5;241m=\u001b[39m cols[\u001b[38;5;241m0\u001b[39m]\n\u001b[0;32m-> 2764\u001b[0m \u001b[38;5;28;01mreturn\u001b[39;00m \u001b[38;5;28;43mself\u001b[39;49m\u001b[38;5;241;43m.\u001b[39;49m\u001b[43m_jseq\u001b[49m\u001b[43m(\u001b[49m\u001b[43mcols\u001b[49m\u001b[43m,\u001b[49m\u001b[43m \u001b[49m\u001b[43m_to_java_column\u001b[49m\u001b[43m)\u001b[49m\n",
      "File \u001b[0;32m~/Address-matching/env_address_matching/lib/python3.10/site-packages/pyspark/sql/dataframe.py:2751\u001b[0m, in \u001b[0;36mDataFrame._jseq\u001b[0;34m(self, cols, converter)\u001b[0m\n\u001b[1;32m   2745\u001b[0m \u001b[38;5;28;01mdef\u001b[39;00m \u001b[38;5;21m_jseq\u001b[39m(\n\u001b[1;32m   2746\u001b[0m     \u001b[38;5;28mself\u001b[39m,\n\u001b[1;32m   2747\u001b[0m     cols: Sequence,\n\u001b[1;32m   2748\u001b[0m     converter: Optional[Callable[\u001b[38;5;241m.\u001b[39m\u001b[38;5;241m.\u001b[39m\u001b[38;5;241m.\u001b[39m, Union[\u001b[38;5;124m\"\u001b[39m\u001b[38;5;124mPrimitiveType\u001b[39m\u001b[38;5;124m\"\u001b[39m, JavaObject]]] \u001b[38;5;241m=\u001b[39m \u001b[38;5;28;01mNone\u001b[39;00m,\n\u001b[1;32m   2749\u001b[0m ) \u001b[38;5;241m-\u001b[39m\u001b[38;5;241m>\u001b[39m JavaObject:\n\u001b[1;32m   2750\u001b[0m \u001b[38;5;250m    \u001b[39m\u001b[38;5;124;03m\"\"\"Return a JVM Seq of Columns from a list of Column or names\"\"\"\u001b[39;00m\n\u001b[0;32m-> 2751\u001b[0m     \u001b[38;5;28;01mreturn\u001b[39;00m \u001b[43m_to_seq\u001b[49m\u001b[43m(\u001b[49m\u001b[38;5;28;43mself\u001b[39;49m\u001b[38;5;241;43m.\u001b[39;49m\u001b[43msparkSession\u001b[49m\u001b[38;5;241;43m.\u001b[39;49m\u001b[43m_sc\u001b[49m\u001b[43m,\u001b[49m\u001b[43m \u001b[49m\u001b[43mcols\u001b[49m\u001b[43m,\u001b[49m\u001b[43m \u001b[49m\u001b[43mconverter\u001b[49m\u001b[43m)\u001b[49m\n",
      "File \u001b[0;32m~/Address-matching/env_address_matching/lib/python3.10/site-packages/pyspark/sql/column.py:88\u001b[0m, in \u001b[0;36m_to_seq\u001b[0;34m(sc, cols, converter)\u001b[0m\n\u001b[1;32m     81\u001b[0m \u001b[38;5;250m\u001b[39m\u001b[38;5;124;03m\"\"\"\u001b[39;00m\n\u001b[1;32m     82\u001b[0m \u001b[38;5;124;03mConvert a list of Columns (or names) into a JVM Seq of Column.\u001b[39;00m\n\u001b[1;32m     83\u001b[0m \n\u001b[1;32m     84\u001b[0m \u001b[38;5;124;03mAn optional `converter` could be used to convert items in `cols`\u001b[39;00m\n\u001b[1;32m     85\u001b[0m \u001b[38;5;124;03minto JVM Column objects.\u001b[39;00m\n\u001b[1;32m     86\u001b[0m \u001b[38;5;124;03m\"\"\"\u001b[39;00m\n\u001b[1;32m     87\u001b[0m \u001b[38;5;28;01mif\u001b[39;00m converter:\n\u001b[0;32m---> 88\u001b[0m     cols \u001b[38;5;241m=\u001b[39m [converter(c) \u001b[38;5;28;01mfor\u001b[39;00m c \u001b[38;5;129;01min\u001b[39;00m cols]\n\u001b[1;32m     89\u001b[0m \u001b[38;5;28;01massert\u001b[39;00m sc\u001b[38;5;241m.\u001b[39m_jvm \u001b[38;5;129;01mis\u001b[39;00m \u001b[38;5;129;01mnot\u001b[39;00m \u001b[38;5;28;01mNone\u001b[39;00m\n\u001b[1;32m     90\u001b[0m \u001b[38;5;28;01mreturn\u001b[39;00m sc\u001b[38;5;241m.\u001b[39m_jvm\u001b[38;5;241m.\u001b[39mPythonUtils\u001b[38;5;241m.\u001b[39mtoSeq(cols)\n",
      "File \u001b[0;32m~/Address-matching/env_address_matching/lib/python3.10/site-packages/pyspark/sql/column.py:88\u001b[0m, in \u001b[0;36m<listcomp>\u001b[0;34m(.0)\u001b[0m\n\u001b[1;32m     81\u001b[0m \u001b[38;5;250m\u001b[39m\u001b[38;5;124;03m\"\"\"\u001b[39;00m\n\u001b[1;32m     82\u001b[0m \u001b[38;5;124;03mConvert a list of Columns (or names) into a JVM Seq of Column.\u001b[39;00m\n\u001b[1;32m     83\u001b[0m \n\u001b[1;32m     84\u001b[0m \u001b[38;5;124;03mAn optional `converter` could be used to convert items in `cols`\u001b[39;00m\n\u001b[1;32m     85\u001b[0m \u001b[38;5;124;03minto JVM Column objects.\u001b[39;00m\n\u001b[1;32m     86\u001b[0m \u001b[38;5;124;03m\"\"\"\u001b[39;00m\n\u001b[1;32m     87\u001b[0m \u001b[38;5;28;01mif\u001b[39;00m converter:\n\u001b[0;32m---> 88\u001b[0m     cols \u001b[38;5;241m=\u001b[39m [\u001b[43mconverter\u001b[49m\u001b[43m(\u001b[49m\u001b[43mc\u001b[49m\u001b[43m)\u001b[49m \u001b[38;5;28;01mfor\u001b[39;00m c \u001b[38;5;129;01min\u001b[39;00m cols]\n\u001b[1;32m     89\u001b[0m \u001b[38;5;28;01massert\u001b[39;00m sc\u001b[38;5;241m.\u001b[39m_jvm \u001b[38;5;129;01mis\u001b[39;00m \u001b[38;5;129;01mnot\u001b[39;00m \u001b[38;5;28;01mNone\u001b[39;00m\n\u001b[1;32m     90\u001b[0m \u001b[38;5;28;01mreturn\u001b[39;00m sc\u001b[38;5;241m.\u001b[39m_jvm\u001b[38;5;241m.\u001b[39mPythonUtils\u001b[38;5;241m.\u001b[39mtoSeq(cols)\n",
      "File \u001b[0;32m~/Address-matching/env_address_matching/lib/python3.10/site-packages/pyspark/sql/column.py:63\u001b[0m, in \u001b[0;36m_to_java_column\u001b[0;34m(col)\u001b[0m\n\u001b[1;32m     61\u001b[0m     jcol \u001b[38;5;241m=\u001b[39m col\u001b[38;5;241m.\u001b[39m_jc\n\u001b[1;32m     62\u001b[0m \u001b[38;5;28;01melif\u001b[39;00m \u001b[38;5;28misinstance\u001b[39m(col, \u001b[38;5;28mstr\u001b[39m):\n\u001b[0;32m---> 63\u001b[0m     jcol \u001b[38;5;241m=\u001b[39m \u001b[43m_create_column_from_name\u001b[49m\u001b[43m(\u001b[49m\u001b[43mcol\u001b[49m\u001b[43m)\u001b[49m\n\u001b[1;32m     64\u001b[0m \u001b[38;5;28;01melse\u001b[39;00m:\n\u001b[1;32m     65\u001b[0m     \u001b[38;5;28;01mraise\u001b[39;00m PySparkTypeError(\n\u001b[1;32m     66\u001b[0m         error_class\u001b[38;5;241m=\u001b[39m\u001b[38;5;124m\"\u001b[39m\u001b[38;5;124mNOT_COLUMN_OR_STR\u001b[39m\u001b[38;5;124m\"\u001b[39m,\n\u001b[1;32m     67\u001b[0m         message_parameters\u001b[38;5;241m=\u001b[39m{\u001b[38;5;124m\"\u001b[39m\u001b[38;5;124marg_name\u001b[39m\u001b[38;5;124m\"\u001b[39m: \u001b[38;5;124m\"\u001b[39m\u001b[38;5;124mcol\u001b[39m\u001b[38;5;124m\"\u001b[39m, \u001b[38;5;124m\"\u001b[39m\u001b[38;5;124marg_type\u001b[39m\u001b[38;5;124m\"\u001b[39m: \u001b[38;5;28mtype\u001b[39m(col)\u001b[38;5;241m.\u001b[39m\u001b[38;5;18m__name__\u001b[39m},\n\u001b[1;32m     68\u001b[0m     )\n",
      "File \u001b[0;32m~/Address-matching/env_address_matching/lib/python3.10/site-packages/pyspark/sql/column.py:56\u001b[0m, in \u001b[0;36m_create_column_from_name\u001b[0;34m(name)\u001b[0m\n\u001b[1;32m     54\u001b[0m \u001b[38;5;28;01mdef\u001b[39;00m \u001b[38;5;21m_create_column_from_name\u001b[39m(name: \u001b[38;5;28mstr\u001b[39m) \u001b[38;5;241m-\u001b[39m\u001b[38;5;241m>\u001b[39m \u001b[38;5;124m\"\u001b[39m\u001b[38;5;124mColumn\u001b[39m\u001b[38;5;124m\"\u001b[39m:\n\u001b[1;32m     55\u001b[0m     sc \u001b[38;5;241m=\u001b[39m get_active_spark_context()\n\u001b[0;32m---> 56\u001b[0m     \u001b[38;5;28;01mreturn\u001b[39;00m \u001b[43mcast\u001b[49m\u001b[43m(\u001b[49m\u001b[43mJVMView\u001b[49m\u001b[43m,\u001b[49m\u001b[43m \u001b[49m\u001b[43msc\u001b[49m\u001b[38;5;241;43m.\u001b[39;49m\u001b[43m_jvm\u001b[49m\u001b[43m)\u001b[49m\u001b[38;5;241;43m.\u001b[39;49m\u001b[43mfunctions\u001b[49m\u001b[38;5;241m.\u001b[39mcol(name)\n",
      "File \u001b[0;32m~/Address-matching/env_address_matching/lib/python3.10/site-packages/py4j/java_gateway.py:1712\u001b[0m, in \u001b[0;36mJVMView.__getattr__\u001b[0;34m(self, name)\u001b[0m\n\u001b[1;32m   1709\u001b[0m \u001b[38;5;28;01mif\u001b[39;00m name \u001b[38;5;241m==\u001b[39m UserHelpAutoCompletion\u001b[38;5;241m.\u001b[39mKEY:\n\u001b[1;32m   1710\u001b[0m     \u001b[38;5;28;01mreturn\u001b[39;00m UserHelpAutoCompletion()\n\u001b[0;32m-> 1712\u001b[0m answer \u001b[38;5;241m=\u001b[39m \u001b[38;5;28;43mself\u001b[39;49m\u001b[38;5;241;43m.\u001b[39;49m\u001b[43m_gateway_client\u001b[49m\u001b[38;5;241;43m.\u001b[39;49m\u001b[43msend_command\u001b[49m\u001b[43m(\u001b[49m\n\u001b[1;32m   1713\u001b[0m \u001b[43m    \u001b[49m\u001b[43mproto\u001b[49m\u001b[38;5;241;43m.\u001b[39;49m\u001b[43mREFLECTION_COMMAND_NAME\u001b[49m\u001b[43m \u001b[49m\u001b[38;5;241;43m+\u001b[39;49m\n\u001b[1;32m   1714\u001b[0m \u001b[43m    \u001b[49m\u001b[43mproto\u001b[49m\u001b[38;5;241;43m.\u001b[39;49m\u001b[43mREFL_GET_UNKNOWN_SUB_COMMAND_NAME\u001b[49m\u001b[43m \u001b[49m\u001b[38;5;241;43m+\u001b[39;49m\u001b[43m \u001b[49m\u001b[43mname\u001b[49m\u001b[43m \u001b[49m\u001b[38;5;241;43m+\u001b[39;49m\u001b[43m \u001b[49m\u001b[38;5;124;43m\"\u001b[39;49m\u001b[38;5;130;43;01m\\n\u001b[39;49;00m\u001b[38;5;124;43m\"\u001b[39;49m\u001b[43m \u001b[49m\u001b[38;5;241;43m+\u001b[39;49m\u001b[43m \u001b[49m\u001b[38;5;28;43mself\u001b[39;49m\u001b[38;5;241;43m.\u001b[39;49m\u001b[43m_id\u001b[49m\u001b[43m \u001b[49m\u001b[38;5;241;43m+\u001b[39;49m\n\u001b[1;32m   1715\u001b[0m \u001b[43m    \u001b[49m\u001b[38;5;124;43m\"\u001b[39;49m\u001b[38;5;130;43;01m\\n\u001b[39;49;00m\u001b[38;5;124;43m\"\u001b[39;49m\u001b[43m \u001b[49m\u001b[38;5;241;43m+\u001b[39;49m\u001b[43m \u001b[49m\u001b[43mproto\u001b[49m\u001b[38;5;241;43m.\u001b[39;49m\u001b[43mEND_COMMAND_PART\u001b[49m\u001b[43m)\u001b[49m\n\u001b[1;32m   1716\u001b[0m \u001b[38;5;28;01mif\u001b[39;00m answer \u001b[38;5;241m==\u001b[39m proto\u001b[38;5;241m.\u001b[39mSUCCESS_PACKAGE:\n\u001b[1;32m   1717\u001b[0m     \u001b[38;5;28;01mreturn\u001b[39;00m JavaPackage(name, \u001b[38;5;28mself\u001b[39m\u001b[38;5;241m.\u001b[39m_gateway_client, jvm_id\u001b[38;5;241m=\u001b[39m\u001b[38;5;28mself\u001b[39m\u001b[38;5;241m.\u001b[39m_id)\n",
      "File \u001b[0;32m~/Address-matching/env_address_matching/lib/python3.10/site-packages/py4j/java_gateway.py:1038\u001b[0m, in \u001b[0;36mGatewayClient.send_command\u001b[0;34m(self, command, retry, binary)\u001b[0m\n\u001b[1;32m   1036\u001b[0m connection \u001b[38;5;241m=\u001b[39m \u001b[38;5;28mself\u001b[39m\u001b[38;5;241m.\u001b[39m_get_connection()\n\u001b[1;32m   1037\u001b[0m \u001b[38;5;28;01mtry\u001b[39;00m:\n\u001b[0;32m-> 1038\u001b[0m     response \u001b[38;5;241m=\u001b[39m \u001b[43mconnection\u001b[49m\u001b[38;5;241;43m.\u001b[39;49m\u001b[43msend_command\u001b[49m\u001b[43m(\u001b[49m\u001b[43mcommand\u001b[49m\u001b[43m)\u001b[49m\n\u001b[1;32m   1039\u001b[0m     \u001b[38;5;28;01mif\u001b[39;00m binary:\n\u001b[1;32m   1040\u001b[0m         \u001b[38;5;28;01mreturn\u001b[39;00m response, \u001b[38;5;28mself\u001b[39m\u001b[38;5;241m.\u001b[39m_create_connection_guard(connection)\n",
      "File \u001b[0;32m~/Address-matching/env_address_matching/lib/python3.10/site-packages/py4j/clientserver.py:511\u001b[0m, in \u001b[0;36mClientServerConnection.send_command\u001b[0;34m(self, command)\u001b[0m\n\u001b[1;32m    509\u001b[0m \u001b[38;5;28;01mtry\u001b[39;00m:\n\u001b[1;32m    510\u001b[0m     \u001b[38;5;28;01mwhile\u001b[39;00m \u001b[38;5;28;01mTrue\u001b[39;00m:\n\u001b[0;32m--> 511\u001b[0m         answer \u001b[38;5;241m=\u001b[39m smart_decode(\u001b[38;5;28;43mself\u001b[39;49m\u001b[38;5;241;43m.\u001b[39;49m\u001b[43mstream\u001b[49m\u001b[38;5;241;43m.\u001b[39;49m\u001b[43mreadline\u001b[49m\u001b[43m(\u001b[49m\u001b[43m)\u001b[49m[:\u001b[38;5;241m-\u001b[39m\u001b[38;5;241m1\u001b[39m])\n\u001b[1;32m    512\u001b[0m         logger\u001b[38;5;241m.\u001b[39mdebug(\u001b[38;5;124m\"\u001b[39m\u001b[38;5;124mAnswer received: \u001b[39m\u001b[38;5;132;01m{0}\u001b[39;00m\u001b[38;5;124m\"\u001b[39m\u001b[38;5;241m.\u001b[39mformat(answer))\n\u001b[1;32m    513\u001b[0m         \u001b[38;5;66;03m# Happens when a the other end is dead. There might be an empty\u001b[39;00m\n\u001b[1;32m    514\u001b[0m         \u001b[38;5;66;03m# answer before the socket raises an error.\u001b[39;00m\n",
      "File \u001b[0;32m/usr/lib/python3.10/socket.py:705\u001b[0m, in \u001b[0;36mSocketIO.readinto\u001b[0;34m(self, b)\u001b[0m\n\u001b[1;32m    703\u001b[0m \u001b[38;5;28;01mwhile\u001b[39;00m \u001b[38;5;28;01mTrue\u001b[39;00m:\n\u001b[1;32m    704\u001b[0m     \u001b[38;5;28;01mtry\u001b[39;00m:\n\u001b[0;32m--> 705\u001b[0m         \u001b[38;5;28;01mreturn\u001b[39;00m \u001b[38;5;28;43mself\u001b[39;49m\u001b[38;5;241;43m.\u001b[39;49m\u001b[43m_sock\u001b[49m\u001b[38;5;241;43m.\u001b[39;49m\u001b[43mrecv_into\u001b[49m\u001b[43m(\u001b[49m\u001b[43mb\u001b[49m\u001b[43m)\u001b[49m\n\u001b[1;32m    706\u001b[0m     \u001b[38;5;28;01mexcept\u001b[39;00m timeout:\n\u001b[1;32m    707\u001b[0m         \u001b[38;5;28mself\u001b[39m\u001b[38;5;241m.\u001b[39m_timeout_occurred \u001b[38;5;241m=\u001b[39m \u001b[38;5;28;01mTrue\u001b[39;00m\n",
      "\u001b[0;31mKeyboardInterrupt\u001b[0m: "
     ]
    }
   ],
   "source": [
    "# Obtener una lista de UUID únicos\n",
    "uuids = [fila.uuid_idt for fila in w2v_cosine.select(\"uuid_idt\").distinct().collect()]\n",
    "\n",
    "df2 = word2vec_result.limit(10)\n",
    "# batch_size = 1000\n",
    "# total_rows = df2.count()\n",
    "\n",
    "x = spark.createDataFrame([], \"uuid_idt: string, uuid_idt2: string, direccion: string, direccion2: string, cosine_similarity: float, evaluation: boolean\")\n",
    "\n",
    "for uuid in uuids:\n",
    "  df1 = w2v_cosine.filter(w2v_cosine.uuid_idt == uuid) # 5min: Ralentiza la ejecución porque tiene que filtar 257 mil veces\n",
    "  # Procesar en lotes\n",
    "  \"\"\" for i in range(0, total_rows, batch_size):\n",
    "    # Obtener el rango de filas para el lote actual\n",
    "    start_row = i\n",
    "    end_row = min(i + batch_size, total_rows)\n",
    "    \n",
    "    # Obtener el lote del DataFrame df2\n",
    "    batch_df2 = df2.limit(end_row).subtract(df2.limit(start_row)) \"\"\"\n",
    "    \n",
    "  # joined_df = df2.crossJoin(df1) # 12min\n",
    "\n",
    "  evaluated_word2vec_cosine = calculate_cosine_similarity(df1, df2)\n",
    "  evaluated_word2vec_cosine = filter_3_best(evaluated_word2vec_cosine)\n",
    "  evaluated_word2vec_cosine = evaluated_word2vec_cosine.withColumn(\"evaluation\", evaluated_word2vec_cosine.uuid_idt == evaluated_word2vec_cosine.uuid_idt2)\n",
    "  x.union(evaluated_word2vec_cosine.select(\"uuid_idt\", \"uuid_idt2\", \"direccion\", \"direccion2\", \"cosine_similarity\", \"evaluation\"))\n",
    " \n",
    "  # Calcular la similitud del coseno en el lote actual\n",
    "  # batch_results = joined_df.withColumn(\"cosine_similarity\", cosine_similarity(\"embedding2\", \"embedding\"))\n",
    "\n",
    "\"\"\" uuids = [row.uuid_idt for row in w2v_cosine.select(\"uuid_idt\").distinct().collect()]\n",
    "\n",
    "batches_size = 1000\n",
    "\n",
    "df2 = word2vec_result\n",
    "total_rows = df2.count()\n",
    "\n",
    "for uuid in uuids:\n",
    "  df1 = w2v_cosine.filter(w2v_cosine.uuid_idt == uuid)\n",
    "  for i in range(batches_size):\n",
    "    # Obtener el rango de filas para el lote actual\n",
    "    start_row = i * batches_size\n",
    "    end_row = min((i + 1) * batches_size, total_rows)\n",
    "    \n",
    "    # Obtener el lote del DataFrame df2\n",
    "    batch_df2 = df2.limit(end_row).subtract(df2.limit(start_row))\n",
    "    \n",
    "    # Realizar el join entre los lotes\n",
    "    joined_df = batch_df2.crossJoin(df1)\n",
    "    \n",
    "    # Calcular la similitud del coseno en el lote actual\n",
    "    batch_results = joined_df.withColumn(\"cosine_similarity\", cosine_similarity(\"embedding2\", \"embedding\")) \"\"\"\n",
    "      "
   ]
  },
  {
   "cell_type": "code",
   "execution_count": 7,
   "metadata": {},
   "outputs": [
    {
     "name": "stderr",
     "output_type": "stream",
     "text": [
      "[Stage 7:>                                                          (0 + 1) / 1]\r"
     ]
    },
    {
     "name": "stdout",
     "output_type": "stream",
     "text": [
      "+--------------------+---------+--------------------+-----+------+--------------------+--------------------+--------------------+--------------------+\n",
      "|            uuid_idt|     tvia|                nvia|numer|codmun|              nommun|           direccion|               words|           embedding|\n",
      "+--------------------+---------+--------------------+-----+------+--------------------+--------------------+--------------------+--------------------+\n",
      "|0016535F-03E9-429...|VIVIENDAS|SIROCO CUEVAS BLA...|   21| 38038|Santa Cruz de Ten...|VIVIENDAS SIROCO ...|[viviendas, siroc...|[-0.1428224661697...|\n",
      "|00760F34-E924-418...|  BLOQUES|BRISAMAR III CL A...|    8| 38038|Santa Cruz de Ten...|BLOQUES BRISAMAR ...|[bloques, brisama...|[-0.1585414991714...|\n",
      "|00AB4743-6F76-427...|  ANGOSTA|         CAMINO TRES|   83| 38008|          Breña Alta|ANGOSTA CAMINO TR...|[angosta, camino,...|[-0.0305986578265...|\n",
      "|00EE8A38-3881-449...|    VALLE|              MEXICO|   42| 35034|               Yaiza|AVLLE MEXICO 42 Y...|[avlle, mexico, 4...|[-0.0220695752650...|\n",
      "|0103D93A-4455-496...|       SB|SAN ISIDRO MAJADILLA|   12| 35027|               Teror|SB SAN ISDIRO MAJ...|[sb, san, isdiro,...|[0.06197384931147...|\n",
      "+--------------------+---------+--------------------+-----+------+--------------------+--------------------+--------------------+--------------------+\n",
      "only showing top 5 rows\n",
      "\n"
     ]
    },
    {
     "name": "stderr",
     "output_type": "stream",
     "text": [
      "                                                                                \r"
     ]
    }
   ],
   "source": [
    "word2vec_result.show(5)"
   ]
  },
  {
   "cell_type": "markdown",
   "metadata": {},
   "source": [
    "#### Chorma DB"
   ]
  },
  {
   "cell_type": "code",
   "execution_count": 8,
   "metadata": {},
   "outputs": [
    {
     "data": {
      "text/plain": [
       "' def extract_to_chroma(dataframe):\\n    embeddings = dataframe.select(\"embedding\").collect()\\n    documents = dataframe.select(\"direccion\").collect()\\n    metadata = dataframe.select(\"uuid_idt\").collect()\\n\\n    # Extraer los embeddings como listas\\n    embeddings = [row.embedding.toArray().tolist() for row in embeddings]\\n\\n    # Extraer los documentos como listas\\n    documents = [row.direccion for row in documents]\\n\\n    # Extraer los metadatos como listas\\n    metadata = [{\"uuid_idt\": row.uuid_idt} for row in metadata]\\n\\n    # Generar IDs para cada fila\\n    ids = list(range(len(metadata)))\\n    ids = [str(id_) for id_ in ids]\\n\\n    return ids, documents, embeddings, metadata\\n\\nids_list, documents_list, embeddings_list, metadata_list = extract_to_chroma(word2vec_result) '"
      ]
     },
     "execution_count": 8,
     "metadata": {},
     "output_type": "execute_result"
    }
   ],
   "source": [
    "def extract_to_chroma(dataframes):\n",
    "    embeddings = []\n",
    "    documents = []\n",
    "    metadata = []\n",
    "    ids = []\n",
    "    start = 0\n",
    "    \n",
    "    for index in range(len(dataframes)):\n",
    "        type_df = \"test\" if index == 1 else \"train\" \n",
    "        \n",
    "        # Extraer los datos restantes como listas\n",
    "        embeddings_df = dataframes[index].select(\"embedding\").collect()\n",
    "        documents_df = dataframes[index].select(\"direccion\").collect()\n",
    "        metadata_df = dataframes[index].select(\"uuid_idt\").collect()\n",
    "        ids_df = list(range(start, len(embeddings_df) + start))\n",
    "\n",
    "        # Extraer los embeddings como listas\n",
    "        embeddings_df = [row.embedding.toArray().tolist() for row in embeddings_df]\n",
    "\n",
    "        # Extraer los documentos como listas\n",
    "        documents_df = [row.direccion for row in documents_df]\n",
    "\n",
    "        # Extraer los metadatos como listas\n",
    "        metadata_df = [{\"uuid_idt\": row.uuid_idt, \"type\": type_df, \"hnsw:space\": \"cosine\"} for row in metadata_df]\n",
    "        \n",
    "        ids_df = [str(id_) for id_ in ids_df]\n",
    "\n",
    "        embeddings += embeddings_df\n",
    "        documents += documents_df\n",
    "        metadata += metadata_df\n",
    "        ids += ids_df\n",
    "        start = len(ids_df)\n",
    "\n",
    "    return ids, documents, embeddings, metadata\n",
    "\n",
    "\"\"\" def extract_to_chroma(dataframe):\n",
    "    embeddings = dataframe.select(\"embedding\").collect()\n",
    "    documents = dataframe.select(\"direccion\").collect()\n",
    "    metadata = dataframe.select(\"uuid_idt\").collect()\n",
    "\n",
    "    # Extraer los embeddings como listas\n",
    "    embeddings = [row.embedding.toArray().tolist() for row in embeddings]\n",
    "\n",
    "    # Extraer los documentos como listas\n",
    "    documents = [row.direccion for row in documents]\n",
    "\n",
    "    # Extraer los metadatos como listas\n",
    "    metadata = [{\"uuid_idt\": row.uuid_idt} for row in metadata]\n",
    "\n",
    "    # Generar IDs para cada fila\n",
    "    ids = list(range(len(metadata)))\n",
    "    ids = [str(id_) for id_ in ids]\n",
    "\n",
    "    return ids, documents, embeddings, metadata\n",
    "\n",
    "ids_list, documents_list, embeddings_list, metadata_list = extract_to_chroma(word2vec_result) \"\"\"\n"
   ]
  },
  {
   "cell_type": "code",
   "execution_count": 9,
   "metadata": {},
   "outputs": [
    {
     "name": "stderr",
     "output_type": "stream",
     "text": [
      "[Stage 10:>                                                        (0 + 8) / 32]\r"
     ]
    },
    {
     "name": "stderr",
     "output_type": "stream",
     "text": [
      "                                                                                \r"
     ]
    }
   ],
   "source": [
    "ids_list, documents_list, embeddings_list, metadata_list = extract_to_chroma([w2v_cosine, word2vec_result])"
   ]
  },
  {
   "cell_type": "code",
   "execution_count": 17,
   "metadata": {},
   "outputs": [
    {
     "name": "stderr",
     "output_type": "stream",
     "text": [
      "[Stage 32:==========================================>             (22 + 7) / 29]\r"
     ]
    },
    {
     "name": "stdout",
     "output_type": "stream",
     "text": [
      "+------------------------------------+-----+\n",
      "|uuid_idt                            |count|\n",
      "+------------------------------------+-----+\n",
      "|6BD93CCB-3251-11E8-9BFD-480FCF5217B3|10   |\n",
      "|7869AA16-3251-11E8-9852-480FCF5217B3|10   |\n",
      "|70A2D237-3251-11E8-B05C-480FCF5217B3|10   |\n",
      "|6F985A17-3251-11E8-B32D-480FCF5217B3|10   |\n",
      "|786A6DE7-3251-11E8-9888-480FCF5217B3|10   |\n",
      "|33ECFF0C-9C99-4F93-BECD-3E7872E2DC03|10   |\n",
      "|69CB8267-3251-11E8-B299-480FCF5217B3|10   |\n",
      "|C364A25C-0AD1-11EA-8401-7756D0C25261|10   |\n",
      "|C0749A68-0AD1-11EA-8401-7756D0C25261|10   |\n",
      "|6EAC7F9F-3251-11E8-AF43-480FCF5217B3|10   |\n",
      "|777561CF-3251-11E8-8D1F-480FCF5217B3|10   |\n",
      "|5FEC879B-3251-11E8-A90D-480FCF5217B3|10   |\n",
      "|62FA2D19-3251-11E8-ACC0-480FCF5217B3|10   |\n",
      "|71B6F0DE-3251-11E8-B617-480FCF5217B3|10   |\n",
      "|60AB7DE8-3251-11E8-A2E4-480FCF5217B3|10   |\n",
      "|76423412-3251-11E8-A0F0-480FCF5217B3|10   |\n",
      "|76BEF0C9-3251-11E8-A78B-480FCF5217B3|10   |\n",
      "|72D2C385-3251-11E8-BA89-480FCF5217B3|10   |\n",
      "|6C02DA4E-3251-11E8-A743-480FCF5217B3|10   |\n",
      "|7730EA99-3251-11E8-B0E1-480FCF5217B3|10   |\n",
      "+------------------------------------+-----+\n",
      "only showing top 20 rows\n",
      "\n"
     ]
    },
    {
     "name": "stderr",
     "output_type": "stream",
     "text": [
      "                                                                                \r"
     ]
    }
   ],
   "source": [
    "word2vec_result.groupby(\"uuid_idt\").count().orderBy('count', ascending=False).filter(\"count <= 10\").show(truncate=False)"
   ]
  },
  {
   "cell_type": "code",
   "execution_count": 19,
   "metadata": {},
   "outputs": [
    {
     "name": "stderr",
     "output_type": "stream",
     "text": [
      "                                                                                \r"
     ]
    },
    {
     "name": "stderr",
     "output_type": "stream",
     "text": [
      "[Stage 38:==================================>                       (3 + 2) / 5]\r"
     ]
    },
    {
     "name": "stdout",
     "output_type": "stream",
     "text": [
      "+------------------------------------+---------+---------------------+-----+------+--------------------------+--------------------------------------------------------------+-------------------------------------------------------------------------+-----------------------------------------------------------------------------------------------------------------------------------------------------------------------------------------------------------------------------------------------------------------------------------------------------------------------------------------------------------------------------------------------------------------------------------------------------------------------------------------------------------------------------------------------------------------------------------------------------------------------------------------------------------------------------------------------------------------------------------------------------------------------------------------------------------------------------------------------------------------------------------------------------------------------------------------------------------------------------------------------------------------------------------------------------------------------------------------------------------------------------------------------------------------------------------------------------------------------------------------------------------------------------------------------------------------------------------------------------------------------------------------------------------------------------------------------------------------------------------------------------------------------------------------------------------------------------------------------------------------------------------------------------------------------------------------------------------------------------------------------------------------------------------------------------------------------------------------------------------------------------------------------------------------------------------------------------------------------------------------------------------------------------------------------------------------------------------------------------------------------------------------------------------------------------------------------------------------------------------------------------------------------------------------------------------------------------------------------------------------------------------------------------------------------------------------------------------------------------------------------------------------------------------------------------------------------------------------------------------------------------------------------------------------------------------------------------------------------------------------------------------------------------------------------------------------------------------------------------------------------------------------------------------------------------------------------------------------------------------------------------------------------------------------------------------------------------------------------------------------------------------------------------------------------------------------------------------------------------------------------------------------------------------------------------------------------------------------------------------------------------------------------------------------------------------------------------------------------------------------------------------------------------------------------------------------------------------------------------------------------------------------------------------------------------------------------------------------------------------------------------------------------------------------------------------------------------------------------------------------------------------------------------------------------------------------------------------------------------------------------------------------------------------------------------------------------------------------------------------------------------------------------------------------------------------------------------------------------------------------------------------------------------------------------------------------------------------------------------------------------------------------------------------------------------------------------------------------------------------------------------------------------------------------------------------------------------------------------------------------------------------------------------------------------------------------------------------------------------------------------------------------------------------------------------------------------------------------------------------------------------------------------------------------------------------------------------------------------------------------------------------------------------------------------------------------------------------------------------------------------------------------------------------------------------------------------------------------------------------------------------------------------------------------------------------------------------------------------------------------------------------------------------------------------------------------------------------------------------------------------------------------------------------------------------------------------------------------------------------------------------------------------------------------------------------------------------------------------------------------------------------------------------------------------------------------------------------------------------------------------------------------------------------------------------------------------------------------------------------------------------------------------------------------------------------------------------------------------------------------------------------------------------------------------------------------------------------------------------------------------------------------------------------------------------------------------------------------------------------------------------------------------------------------------------------------------------------+\n",
      "|uuid_idt                            |tvia     |nvia                 |numer|codmun|nommun                    |direccion                                                     |words                                                                    |embedding                                                                                                                                                                                                                                                                                                                                                                                                                                                                                                                                                                                                                                                                                                                                                                                                                                                                                                                                                                                                                                                                                                                                                                                                                                                                                                                                                                                                                                                                                                                                                                                                                                                                                                                                                                                                                                                                                                                                                                                                                                                                                                                                                                                                                                                                                                                                                                                                                                                                                                                                                                                                                                                                                                                                                                                                                                                                                                                                                                                                                                                                                                                                                                                                                                                                                                                                                                                                                                                                                                                                                                                                                                                                                                                                                                                                                                                                                                                                                                                                                                                                                                                                                                                                                                                                                                                                                                                                                                                                                                                                                                                                                                                                                                                                                                                                                                                                                                                                                                                                                                                                                                                                                                                                                                                                                                                                                                                                                                                                                                                                                                                                                                                                                                                                                                                                                                                                                                                                                                                                                                                                                                                                                                                                                                                                                                                                                                                                                                                  |\n",
      "+------------------------------------+---------+---------------------+-----+------+--------------------------+--------------------------------------------------------------+-------------------------------------------------------------------------+-----------------------------------------------------------------------------------------------------------------------------------------------------------------------------------------------------------------------------------------------------------------------------------------------------------------------------------------------------------------------------------------------------------------------------------------------------------------------------------------------------------------------------------------------------------------------------------------------------------------------------------------------------------------------------------------------------------------------------------------------------------------------------------------------------------------------------------------------------------------------------------------------------------------------------------------------------------------------------------------------------------------------------------------------------------------------------------------------------------------------------------------------------------------------------------------------------------------------------------------------------------------------------------------------------------------------------------------------------------------------------------------------------------------------------------------------------------------------------------------------------------------------------------------------------------------------------------------------------------------------------------------------------------------------------------------------------------------------------------------------------------------------------------------------------------------------------------------------------------------------------------------------------------------------------------------------------------------------------------------------------------------------------------------------------------------------------------------------------------------------------------------------------------------------------------------------------------------------------------------------------------------------------------------------------------------------------------------------------------------------------------------------------------------------------------------------------------------------------------------------------------------------------------------------------------------------------------------------------------------------------------------------------------------------------------------------------------------------------------------------------------------------------------------------------------------------------------------------------------------------------------------------------------------------------------------------------------------------------------------------------------------------------------------------------------------------------------------------------------------------------------------------------------------------------------------------------------------------------------------------------------------------------------------------------------------------------------------------------------------------------------------------------------------------------------------------------------------------------------------------------------------------------------------------------------------------------------------------------------------------------------------------------------------------------------------------------------------------------------------------------------------------------------------------------------------------------------------------------------------------------------------------------------------------------------------------------------------------------------------------------------------------------------------------------------------------------------------------------------------------------------------------------------------------------------------------------------------------------------------------------------------------------------------------------------------------------------------------------------------------------------------------------------------------------------------------------------------------------------------------------------------------------------------------------------------------------------------------------------------------------------------------------------------------------------------------------------------------------------------------------------------------------------------------------------------------------------------------------------------------------------------------------------------------------------------------------------------------------------------------------------------------------------------------------------------------------------------------------------------------------------------------------------------------------------------------------------------------------------------------------------------------------------------------------------------------------------------------------------------------------------------------------------------------------------------------------------------------------------------------------------------------------------------------------------------------------------------------------------------------------------------------------------------------------------------------------------------------------------------------------------------------------------------------------------------------------------------------------------------------------------------------------------------------------------------------------------------------------------------------------------------------------------------------------------------------------------------------------------------------------------------------------------------------------------------------------------------------------------------------------------------------------------------------------------------------------------------------------------------------------------------------------------------------------------------------------------+\n",
      "|6BD93CCB-3251-11E8-9BFD-480FCF5217B3|CAMIN    |BOQUERON VALLE GUERRA|189  |38023 |San Cristóbal de La Laguna|CAMIN BOQUERON VALEL GUERRA 189 SAN CRISTOBAL DE LA LAGUNA    |[camin, boqueron, valel, guerra, 189, san, cristobal, de, la, laguna]    |[0.04412287622690201,-0.027982036164030433,0.053813112527132036,0.026030595833435657,-0.18401847667992116,-0.11271145066712052,0.13593847937881948,0.008707328140735627,0.09556296318769456,-0.0823922758921981,-0.06172431474551559,0.07311732550151646,-0.10817015850916506,0.15418369658291342,-0.02990002506412566,-0.06379107777029276,0.02346204910427332,0.016914165019989016,0.005898002907633782,-9.327939245849849E-4,0.14754358222708105,-0.045777366124093534,-0.08010158352553845,-0.07605436816811562,-0.021819582581520083,-0.014537137746810914,-0.0792145486921072,0.006622400879859925,0.04716290617361665,0.09401753917336464,0.0539793300209567,-0.012419270724058152,0.07744912393391133,-0.014443973451852799,0.011654370510950685,0.08443974312394859,-0.12385419607162476,-0.19115438889712097,-0.1500353265553713,0.05435865167528391,-0.01148748891428113,0.09633315205574036,-0.13591296132653952,0.038411427102983,0.09627049011178315,-0.04263324970379472,-0.140665839985013,0.15818028412759305,-0.13464850552845747,-0.05413385201245546,-0.04309751744149253,0.10666519361548127,0.13949764841236176,0.12344539074692876,0.11294849365949632,-0.09512149393558503,-0.06073834921699017,0.07296009957790375,0.07258841204456985,0.0392234358470887,-0.04981278979685158,-0.046903332322835924,0.007318127248436213,-0.16112248189747336,0.1529217197559774,-0.03486268110573292,0.03092537969350815,0.002998698130249977,-0.097902812785469,0.2399615835864097,0.16226766332983972,-0.135082246363163,0.07774764616042376,0.12300598351284862,0.14030207559699193,0.039160025794990366,0.14613735573366285,0.11167252883315087,0.03128630295395851,-0.03775879889726639,0.06269534565508365,0.041915370151400566,-0.2500688564032316,-0.10121383289806546,-0.013659779587760568,0.015835218830034137,-0.018939693085849287,0.033536008652299644,0.011635055020451547,-0.07628288753330709,0.11138744950294495,0.01628012228757143,0.10280212592333555,-0.14385880294721573,-0.14109790701186284,0.07386313863098622,-0.07702661026269197,-0.03250444959849119,0.10831831372343004,0.17253579795360566,-0.054280079714953904,-0.08770932715851815,-0.03794147316366434,0.10691821263171733,0.003776088240556419,0.18468383180443199,-0.018265404645353558,-0.07569504957646132,0.04689834117889405,-0.043855808256194,0.12579788733273745,-0.01892238724976778,0.05417589219287038,0.039793450478464366,-0.1176040732767433,-0.044608549866825345,0.08717878903262317,0.008845025912160054,0.1969435214996338,-0.05344351790845395,-0.034168772702105346,-0.06888572536408902,-0.010498357191681863,-0.0369306967171724,0.05322284810245037,-0.1139423929154873,-0.11658402523025871,-0.0012069233227521182,-0.0016198703087866306,0.028942832164466383,-0.004474800638854504,0.03092923047952354,0.031997327064163986,-0.09070368241518736,-0.06734835747629404,-0.07888387618586422,0.0406395448371768,-0.07601613681763411,0.22985691484063864,-0.002763970009982586,0.04995946371927858,-0.03290473190136254,0.1673311349004507,0.2402409236878157,0.010987894050776959,-0.035624476708471776,0.069767474103719,0.014836302399635315,-0.12453952953219415,0.032951028319075704,0.007883648877032102,-0.2007570809684694,-0.08033519126474858,0.09411875531077385,0.12386660089250655,0.1060378296300769,-0.04185044635087252,0.1154619496286614,0.10717692335601897,0.045515900698956106,0.06612858109292574,0.012154517322778703,0.034512802772223954,0.0331727403216064,0.00836740229278803,0.012885360978543758,0.1551460088696331,-0.03662342522293329,-2.353265881538391E-4,-0.001390430610626936,0.08292256202548742,0.11811353326775134,-0.06893384866416455,0.06283582061005291,-0.02403662328142673,0.015029232017695904,-0.06968342326581478,0.07015058565884828,-0.046564821153879166,-0.05042196509893984,-0.08389636538922787,-0.003578132041729987,-0.10501130698248745,0.04794521788135171,-0.012606706004589796,-0.08634308744221926,0.05985673355171457,-0.163620974496007,-0.026100670080631973,0.03983286684378982,0.010817146301269532,0.03706819801591337,-0.08342807367444038,0.00784560153260827,0.15303152054548264,-0.1817584751173854,0.07678732813801617,-0.1893909826874733,0.0753231015522033,-0.031523021124303344,0.039617570117115974,0.07421445576474071,-0.03673993106931448,0.11434629000723362,0.02082672636024654,-0.06226888578385115,0.0982395499944687,-0.02789567259605974,0.14140590922906995,-0.001854895194992423,0.19866097234189511,-0.11287818085402251,0.01596377491950989,0.04268711805343628,-0.029957782290875912,0.04044693158939481,-0.008772583305835724,0.07026376146823168,0.16785005268757233,0.11493441537022592,0.20084830597043038,-0.06515691322274507,-0.07087129801511764,-0.02648586593568325,0.08948372881859541,-0.07010146887041628,-0.12950044088065624,-0.08957751458510757,0.021490139071829617,-0.011197280697524549,0.18642508347838885,-0.10355040542781353,0.043325414415448904,0.07815302461385727,0.1464005921036005,0.10569042917340994,0.08798040859401227,0.027846381254494193,0.14137939624488355,0.033842187188565735,0.20615165308117867,-0.015625430643558504,-5.160862812772394E-4,0.07211672198027373,0.16643845662474632,-0.22492073141038418,0.08905196410487407,-0.08839771708007903,-0.06655019465833903,-0.023164810612797737,0.03881875760853291,-0.0038212044164538383,0.07521052025258541,-0.13895519967190922,-0.05360506996512413,-0.12866495437920095,0.2594725426286459,0.013097129669040442,0.16317663677036764,-0.010885998606681824,0.12075509568676353,-0.06409290032461286,0.17450823038816454,0.0545056413859129,0.006026139482855797,-0.0235692473128438,-0.08049227744340898,0.043641977757215504,-0.1063372232951224,-0.09994231610180578,-0.12059235400520266,-0.05866505947651604,-0.12112811664119363,-0.06148573239333928,-0.09604054894298315,-0.10311419367790223,0.018116020504385235,0.057681492250412705,0.005319981859065593,0.07194943390786648,-0.14816036857664586,-0.05770568754523993,0.063567850086838,0.027661605551838876,0.19503509160131216,-0.02057710150256753,0.056640516594052316,-0.04475801885128022,0.07968669831752778,-0.09397727269679308,0.02223659586161375,-0.03257363711018115,0.1304564753547311,0.10042467184830457,-2.4657861795276406E-4,0.05171792861074209,0.016641387715935707,0.18077674508094788,-0.06462752120569348,-0.23440875783562662]                        |\n",
      "|6BD93CCB-3251-11E8-9BFD-480FCF5217B3|VALLE    |BOQUERON VALLE GUERRA|4    |38023 |San Cristóbal de La Laguna|VALLE BOQUERON VALLE GUERRA 4 ASN CRISTOBAL DE LA LAGUNA      |[valle, boqueron, valle, guerra, 4, asn, cristobal, de, la, laguna]      |[0.10724832192063333,-0.05369248799979687,0.05904114115983248,0.039516473188996315,-0.08333737254142762,-0.15037372317165137,0.20341500714421273,0.004342159256339073,0.18351295338943602,-0.04056697487831116,-0.1526693063788116,0.06275136140175164,-0.060617788694798946,0.08489270769059659,-0.02805619523860514,-0.05604648673906923,-0.050202115438878536,0.00992708057165146,0.03574150260537863,0.10270886677317322,0.2004126955755055,-0.06332375081256032,-0.07985686920583249,-0.06929701045155526,-0.01621197974309325,0.07422187998890876,-0.00459723137319088,-0.053888574638403956,0.07773900169413538,0.17607920579612257,0.07885561166331173,-0.012578011304140092,0.03217216618359089,0.046188000589609146,-0.014915115758776666,0.02719900831580162,-0.08474564645439386,-0.1624408831819892,-0.16165814101696016,0.03154674833640456,-0.03771998141892255,0.15789619460701942,-0.0602899368852377,0.07738058967515826,0.0026739287073723975,-0.06560024321079254,-0.1806381341069937,0.10945283360779286,-0.09745984182227403,0.004846228659152985,-0.0999849425512366,0.094137033354491,0.16188986240886152,0.15542122332844885,0.05162504985928536,-0.08540841266512872,-0.03389507532119751,0.03255288302898407,0.05101072965189815,0.04769691708497703,-0.08902193661779166,-0.012853072956204414,0.029313630610704425,-0.20564847886562349,0.1709886655211449,-0.06142672840505839,0.05621152482926846,-0.04283758103847504,-0.14917693063616752,0.2662981410045177,0.11998738870024682,-0.1797661013901234,0.11308764661662281,0.12091423412784935,0.021460160019341857,0.005631967005319894,0.1270336475223303,0.10646172836422921,0.05064532887190581,-0.024494079127907756,-0.05947667490690947,-0.029864414408802987,-0.21082997117191554,-0.03412111806683243,-0.02952985791489482,0.023307408718392254,-0.09083210993558169,0.02849386427551508,0.026356605067849162,-0.056602255254983906,0.07441981434822083,0.009324532933533192,0.0926759146153927,-0.13062343157362194,-0.16780602115904913,0.02025296911597252,-0.11801022086292506,-0.11883229268714786,0.15249727936461568,0.13518261089921,-0.1138785768300295,-0.05733248186297715,0.011733918637037278,0.06920809075236321,0.07036378215998411,0.1516641188412905,0.08592067500576378,-0.1101619902998209,0.0699533587321639,-0.01571448757313192,0.07792171742767096,0.009017053432762623,0.09024733291007579,0.11220384286716581,-0.17428285842761398,-0.1483426400460303,0.1855569954495877,0.13386426623910666,0.14965574219822883,-0.06210050359368324,-0.09932575523853303,-0.013763966131955387,0.03429677067324519,0.009042540844529868,0.15692750327289107,-0.09306289311498404,-0.16182132111862302,-0.049952010810375216,-0.03791305283084512,-0.01985548846423626,0.006694775947835296,-0.025252437405288222,0.0930142897181213,-0.13667041659355164,-0.06373347211629153,-0.1678613496012986,-0.05283078383654356,-0.009249508380889893,0.2584078822284937,-0.004507010243833065,0.06834857035428286,-0.012395524396561088,0.10652023646980524,0.2388967975974083,0.04346841648221016,-0.032992416806519036,0.08338725916109979,0.06544154360890389,-0.10669037215411664,0.0840282116085291,0.07870362708345056,-0.16626766864210368,-0.05025511793792248,0.11019169203937054,0.1712995245587081,0.04493383546359837,-0.0484996872022748,0.03602638467855286,0.144220795086585,0.034427168441470715,0.0035002254880964756,-0.004776834417134524,-0.018037812458351257,0.01830041212961078,0.0029988745227456093,-0.023407406453407022,0.20303387138992549,0.03163639344274998,0.021233772765845062,-0.0037700357846915723,0.10083971666172148,0.17766718030907214,-0.015917041897773744,0.16287033054977657,0.005710848118178547,0.040007648058235645,-0.060941499285399915,0.18596413917839527,-0.06774668991565705,-0.03325930449645966,-0.11879723481833936,-0.03197445685509592,-0.07749179368838668,0.13629947770386935,3.453919664025307E-4,-0.12356467423960567,0.053000842407345775,-0.07385506927967071,0.0024343199096620084,0.029313722159713507,-0.03608482182025909,0.015101471659727396,-0.014948160164931324,-0.024566205218434334,0.1657520301640034,-0.17474693395197394,0.0021016943035647275,-0.14825272113084795,-0.003825553832575679,-0.06344106886535883,0.021343791112303737,0.025554490089416505,-0.2080190807580948,0.12296636998653412,0.08891069418750704,-0.08181040408089757,0.13497731499373913,-0.0705452248454094,0.13700361624360086,-0.01940093468874693,0.165060742944479,-0.13088498283177616,0.05054604765027762,-0.0218205813318491,0.00393385011702776,0.06587833082303406,0.05112076215445996,0.018357140570878984,0.22851655309204943,0.1585975490510464,0.16921586953103543,-0.06980436146259308,-0.017631679866462947,0.011301360093057156,-0.016629908047616482,-0.017126889945939184,-0.13961486369371415,-0.11110738338902593,-0.048501608608057724,-0.03465610137209296,0.14802853369474178,-0.16268144361674786,0.11741749048233033,-0.030344676971435548,0.12034817915409804,0.18898186273872852,0.08716592900454999,-0.051627681218087675,0.1086812466965057,0.08073914013803006,0.155968451872468,0.041597289964556694,0.07542642129119487,0.0958463653922081,0.22483044676482677,-0.26288507618010043,0.1468866527080536,-0.09955834613647313,-0.07013463694602251,0.027585684508085254,0.06193340048193932,-0.03746822951361537,0.0752305593341589,-0.1056438058614731,0.009276613686233759,-0.20339168179780245,0.23433374147862196,0.057940717041492465,0.1566217303276062,0.04526067953556776,0.09350938182324171,-0.013742182683199645,0.10929206965956838,0.09309797268360853,-0.005286255106329918,-0.009827576577663422,-0.01609497228637338,0.02171137034893036,-0.15441252656746657,-0.0018163736909627916,-0.1661842820700258,-0.08367195424380043,-0.10319940717890859,0.007081467984244228,-0.11001212783157827,-0.0908473551273346,-0.01660615308210254,0.11380132427439094,0.019624059111811223,0.028578931465744972,-0.13045191951096058,-0.1291140491142869,0.0698093829676509,0.015995270013809206,0.12991456519812347,-0.04462462812662125,0.09142681546509267,-0.14161504656076432,0.066102559491992,-0.1345339771360159,0.07909696996212007,-0.029388900101184848,0.05975810177624226,-0.025068963575176895,-0.03526454092934728,0.003909188695251942,0.030135936662554742,0.18502477286383512,-0.04874319639056921,-0.24044507257640363]                               |\n",
      "|6BD93CCB-3251-11E8-9BFD-480FCF5217B3|UB       |BOQUERON             |12   |38023 |San Cristóbal de La Laguna|UB OBQUERON 12 SAN CRISTOBAL DE LA LAGUNA                     |[ub, obqueron, 12, san, cristobal, de, la, laguna]                       |[0.020410333876498044,0.009173692495096475,0.021452527726069093,-0.07493695244193077,-0.18201809632591903,-0.10318144239136018,0.032332356728147715,0.007943513803184032,0.062308811815455556,-0.08225346030667424,-0.030495921557303518,0.06776035256916657,-0.07486984960269183,0.10959824116434902,0.07508103773579933,-0.01716322937863879,0.01572798131383024,0.10666478681378067,-0.012567958969157189,0.03910810948582366,0.1168050195556134,-0.015715265064500272,-0.03521105871186592,-0.033439157996326685,-0.09806703217327595,0.0057663521729409695,-0.07616960012819618,-0.03138224547728896,-0.058502206462435424,0.04693808336742222,-0.04154383917921223,0.03943227944546379,0.09016222832724452,-0.028465021983720362,0.05841665482148528,0.14164380624424666,-0.15629119821824133,-0.13751524547114968,-0.10584284376818687,0.05316422088071704,-0.03872959449654445,0.03164735739119351,-0.1536576913204044,0.05420720879919827,0.05374593735905364,0.0034681252436712384,-0.09083365346305072,0.23162292898632586,-0.1427084059396293,-0.03621732199098915,-0.007447409661835991,0.13129254966042936,0.1648264938266948,0.03832574191619642,0.140297643491067,-0.027097390964627266,-0.042937629390507936,0.08352592447772622,0.018487920810002834,-0.03183308197185397,0.03312890906818211,-0.02663505414966494,-0.08697690215194598,-0.05616281973198056,0.16084977064747363,0.06378388265147805,0.07806644175434485,-0.044862273178296164,0.04709628107957542,0.20710293867159635,0.18051659903721884,-0.10609952014056034,-0.009696508321212605,0.12113824090920389,0.052759218218852766,0.07449134509079158,0.12175963947083801,0.0913935246062465,0.04526559868827462,-0.13679798191878945,0.08054032805375755,0.05880363716278225,-0.17350891511887312,-0.08251260936958715,-0.015086475410498679,0.027137653494719416,0.056290797190740705,0.03953882749192417,0.021881542401388288,0.012235577683895826,0.09013254125602543,-0.04617386357858777,0.12337980260781478,-0.13988827518187463,-0.04505346486985218,0.10164081468246877,-0.08916634837805759,-0.039190012987091905,0.08306840097066015,0.15423720702528954,-0.031792733701877296,-0.028976865811273456,-0.040365160326473415,0.18294775858521461,0.035307431942783296,0.19637068535666913,0.06163122376892716,-0.007914828136563301,0.04633170843590051,-0.0819180315011181,0.10244589857757092,0.05187733832281083,-0.026978297741152346,0.00575006939470768,-0.13683001091703773,-0.07417138770688325,0.09947885840665549,-0.007359101553447545,0.1946219183737412,-0.03477894270326942,0.07037723861867562,-0.03687277156859636,0.038739088748116046,-0.027068964787758887,0.09884303342550993,-0.11467945063486695,-0.04315852650324814,-0.025761119148228317,-0.00298199022654444,0.055088115273974836,-0.06809185980819166,0.024813020136207342,0.11867870733840391,-0.06135545516735874,0.008591855177655816,-0.10358102491591126,-0.08128708926960826,-0.14672151999548078,0.17808687989600003,0.060355119057931006,-0.002676457224879414,-0.05136641190620139,0.08442420931532979,0.21100584557279944,-0.0021804029238410294,-0.02826737385476008,0.11677278089337051,0.006306548253633082,-0.14068406051956117,0.037776850862428546,0.06256076542194933,-0.2119408411817858,-0.10505591123364866,0.11855312844272703,0.03676374626229517,0.22632129813428037,-0.099610116914846,0.04874962259782478,0.09532852575648576,0.10538383333187085,0.05912061262642965,-0.04952780669555068,0.024618008406832814,-0.001411338453181088,0.0029305320349521935,-0.010967884096316993,0.05723866884363815,-0.07209563767537475,0.12112157470255625,0.05585758259985596,0.03697950695641339,0.06984731336706318,-0.07344708987511694,0.09783925651572645,-0.006209290091646835,-0.01000834844307974,-0.06843673146795481,0.11412364454008639,-0.03741916734725237,-0.03144259998225607,-0.026689304097089916,0.07021427762811072,-0.11421625147340819,-0.06884890724904835,-0.0977292702300474,-0.06233696243725717,-0.03113650383602362,-0.08260762225836515,-0.026326742197852582,-0.021740887052146718,0.05426528095267713,0.07933503843378276,-0.04201044049113989,-0.09896153362933546,0.1327838655852247,-0.09314160095527768,0.10389157102326863,-0.1730402722605504,0.09776454302482307,0.018650613958016038,0.060818339115940034,0.0024835582735249773,-0.001398514665197581,0.00511560618178919,0.02701702606282197,-0.0988984570140019,0.10898696002550423,-0.07080869586206973,0.08678059588419273,-0.04258697168552317,0.1582201961427927,-0.07547178247477859,0.1258004370611161,0.08143854525405914,-0.05228519343654625,0.07486816094024107,0.028272823721636087,0.025289629527833313,0.09768757181154797,0.04642034189600963,0.24338983232155442,-0.14050186320673674,-0.03319541591918096,0.024048000312177464,0.08748059516074136,-0.0674210240249522,-0.03164948266930878,-0.06921829050406814,-0.021551026293309405,-0.03594848862849176,0.06596105542666919,-0.0264689332107082,0.05935723998118192,0.0853952307952568,0.08935760194435716,0.15833563543856144,0.025923532259184867,0.10033640748588368,0.06068574253004044,0.01711398153565824,0.1760133930365555,-0.06032288115238771,0.06949767281184904,0.11012179293902591,0.1487639822298661,-0.13155448401812464,0.017168709040561225,-0.06547768833115697,-0.035179269150830805,-0.04475567955523729,0.024642156437039375,-0.04600734310224652,0.04220227006589994,-0.13443160646420438,-0.08339638961479068,-0.08208325068699196,0.22347217734204605,0.006244344054721296,0.1500805770047009,0.09069137601181865,0.06040957721415907,-0.012866784585639834,0.18299722883966751,0.052297774964245036,-0.06917852454353124,-0.04374291724525392,-0.03362497850321233,0.021763105411082506,-0.10747100005391985,-0.038764809956774116,-0.05734459059021901,-0.10954708229678545,-0.04229736526031047,-2.7847010642290115E-4,-0.010143902851268649,-0.039212776042404585,0.05098630418069661,0.03261767595540732,-0.010975388868246228,0.04427648270939244,-0.10059697600081563,-0.10232299799099565,-0.0039899422554299235,0.005432902253232896,0.09208446939010173,-0.008515178458765149,0.05668967263773084,-0.08019577141385525,0.1289690998964943,-0.018762193707516417,-0.07191956305177882,0.03200049902079627,0.14260351954726502,0.1371804823866114,-0.02354441658826545,0.04616813641041517,-0.02223464343114756,0.07681148541450966,-0.04675677907653153,-0.20378844370134175]|\n",
      "|6BD93CCB-3251-11E8-9BFD-480FCF5217B3|ALDEA    |CTRA BOQUERON        |4    |38023 |San Cristóbal de La Laguna|ALDEA CTRA BOQUERON 4 SAN CRISTOBAL DE AL LAGUNA              |[aldea, ctra, boqueron, 4, san, cristobal, de, al, laguna]               |[0.08603057596418592,-0.04507598875918322,0.14701545797288418,-0.051648578296105065,-0.2447059117257595,-0.14695079999768898,-0.0411465172138479,-0.027705927689870197,0.018209952964550916,-0.030117924428648416,0.08263899851590395,3.516128183239036E-4,-0.08989794335017601,0.19023499741322464,-6.324249940613905E-4,-0.005616649260951413,0.010222495016124513,0.06624772648016611,0.01692694673935572,0.04870383834673298,0.1028264782184528,-0.06129059702571895,-0.17583011670245063,-0.08470452783836259,6.122913004623519E-4,-0.05032858749230702,-0.011489526679118473,-0.08224496038423644,0.0441212615567363,0.12134457917677031,-0.06413118947400814,-0.0876211192872789,-0.02140573122435146,0.04341569066875511,0.027585702896532085,0.13532137870788574,-0.13665378362768227,-0.1071309039576186,-0.09506279312902026,0.044629833247098655,-0.03488539826745788,0.06329851907988389,-0.1420100178155634,0.08597359785603152,0.07761831990339689,-0.04653302455941836,-0.07644903866781129,0.2705672321220239,-0.055265900058050946,0.011128497620423634,0.014667732654035918,0.14297799217618173,0.1813864405784342,0.07979246955882344,0.11986637653576003,-0.04777553958249175,-0.1650663399034076,0.15617917250427935,0.02569375362610218,0.00802752458386951,-0.10809298004541132,-0.05972799617383215,0.011644589869926373,-0.03557830717828538,0.15771599300205708,0.029280899092555046,0.0403716510368718,-0.050790014780229986,0.04489233572449949,0.18242324516177177,0.18866921733650896,-0.12967683002352715,-0.001899080816656351,0.14848813290397325,0.07029384515610419,-0.01607489283196628,0.17420413365794551,0.012696187115377849,0.01975941223402818,-0.06252486962411138,0.08416154918571313,0.1194309222822388,-0.20325889810919762,-0.02783319390275412,-0.07858304876006311,0.06744281901046634,0.006329394669996367,0.07865420004559888,0.08260996225807402,9.355540904733869E-4,0.056770415562722415,-0.18499884506066638,0.14569389488961962,-0.24078305665817523,0.014824806816048091,0.06688208091590139,-0.09119279268715116,0.08074444532394409,0.0737937344238162,0.23929470280806223,0.07521808271606763,-0.09409427539341979,-0.09671385482781462,0.16827849381499818,-0.010725879213876193,0.15819131086270014,0.023148289881646633,-0.11977762025263573,0.03336574282083246,-0.007874410133808851,0.08463492803275585,-0.07954866832329167,-0.024856769117630188,-0.03414736843357483,-0.14596781538178522,-0.04740887011090914,0.12442074172819653,0.003271203488111496,0.12192175237254964,-0.06353598398466904,0.028429022265805137,-0.03062232056011756,0.06474116972337166,-0.061303286606238946,0.09495527628395292,-0.18390190704829162,-0.014634880444241894,0.05563414733236034,-0.012037847398055924,-8.193469709820217E-4,-0.09613948135585006,-0.057807703192035355,-0.010166356857452126,-0.11071702662027544,-0.03523979341197345,-0.0028693517670035362,0.03335696934825844,-0.06071883191665013,0.09708046519921885,0.06327766138646337,-0.00551893034329017,-0.050933051207620234,0.1513983445862929,0.22202986396021313,0.017990767231418025,0.012873886360062493,0.14050253873897922,-0.030611470755603578,-0.11511804246240191,0.07774732593033049,-0.0123849981981847,-0.17336925139857662,-0.06878569499692982,0.026857308629486293,0.032345879150347576,0.18033489051999316,-0.08945925368203057,0.033466845747574955,0.08978290980060895,0.034055022251171366,0.10549247839177647,0.04902726598083973,-0.029495407154576644,-0.07182727050450112,-0.07071701685587564,-0.032452299880888956,0.05757452273327443,-0.07284854269689983,0.008254083080424203,0.12743672283573282,0.05363877769559622,0.07790053599617547,-0.0205845944583416,0.09160023006714052,0.027622877387329936,0.005378322675824165,-0.14444873419900733,0.06193190274967087,0.06552794575691223,0.039642612268734306,-0.07889035178555383,-0.02434413116942677,-0.11100730796655019,0.02518232642776436,-0.08339630315701166,-0.018357927290101845,-0.03665587133986668,-0.09370464417669508,-0.07261255083398686,0.059130851593282484,0.052611673561235264,0.18750056451083055,-0.07752868777444948,0.0430104099214077,0.15725965797901154,-0.07038956756393114,0.015485778735536667,-0.1472079223021865,0.13232401639430058,-0.006165811792016029,-0.010001351022058062,0.0937900154127015,-0.11323062454660733,0.1533751742293437,0.043448607333832316,-0.02034351157231463,0.07249382924702431,-0.14530827850103378,0.09152366552087995,0.0020364442219336825,0.23004533589604154,-0.10529165238969855,0.04082411093016465,0.025831142233477697,0.03287233443309863,0.06595579679641458,0.018280821645425424,0.021255055028531287,0.12093108119572409,0.0529386732313368,0.15499834136830434,0.022431276324722502,0.025317345331940383,9.954778684510125E-4,0.21159671516054204,-0.04212612146511674,-0.09218193756209479,0.02258003575520383,-0.019818010009152606,-0.07755576105167468,0.20162226132783365,-0.161710359983974,-0.08482659183856513,0.11024213416708839,0.054111435595485896,0.2334517395744721,0.11146751832630898,0.031672784230775304,0.1310877709571893,0.036429321186410055,0.21287952901588544,-0.026581545256906085,-0.05084786401130259,0.13378207706328896,0.1306274773346053,-0.23858796432614326,0.06618834801095848,-0.10034645760768196,-0.046924323257472776,-0.032501680569516286,-0.0343912827471892,-0.011442483351048496,-0.005192267811960644,-0.10102200176980759,-0.0032352786511182785,-0.10377448817922008,0.3576362315151426,-0.01168599569549163,0.1453272220161226,0.11611744864947265,0.09691225985685983,-0.116126314840383,0.2137500194625722,0.02836915333237913,-0.09240445660220252,0.08857079512543148,-0.12097376926491657,0.06111003996597396,-0.09276440307601458,-0.09429674036800861,-0.11180838275079925,0.043394320574710335,0.03355183141926924,-0.018455127926750314,-0.03200359808074103,0.061103322853644684,0.04070082813915279,0.11423040057222048,0.07382400768498579,0.09402998288472493,-0.12998388086756069,-0.12501315275828043,0.09264585841447115,-0.04268225034077962,0.10366367548704147,0.17764831706881523,0.04678973131295707,-0.04788799335559209,0.017596201971173286,-0.10468573454353544,0.04560668973459137,-0.07799310728700624,0.15765050674478212,0.0753612766921934,0.003802391079564889,0.02897703181952238,-0.06372584278384844,0.12307375203818083,-0.03906317448450459,-0.18154074137823448]                 |\n",
      "|6BD93CCB-3251-11E8-9BFD-480FCF5217B3|RAMBL    |BOQUERON             |4    |38023 |San Cristóbal de La Laguna|RAMBL BOQUERON 4 ASN CRISTOBAL DE LA LAGUNA                   |[rambl, boqueron, 4, asn, cristobal, de, la, laguna]                     |[0.06238251645117998,-0.01882550586014986,0.03566811908967793,-0.03195065585896373,-0.207771799643524,-0.1373001781757921,0.0764720169827342,0.04306178307160735,0.07879144011531025,-0.0817754496820271,-0.04871920484583825,0.03294919017935172,-0.061358780367299914,0.17564661940559745,0.05393521225778386,0.014057992841117084,0.021234435262158513,0.07393737987149507,0.0185070161242038,0.07176250871270895,0.17125837039202452,-0.05765711748972535,-0.04156312579289079,-0.1208196273073554,-0.1064211743650958,0.042969017289578915,-0.06489662593230605,-0.012976605008589104,-0.012229805026436225,0.05879286816343665,-0.01618815411347896,-0.02687918348237872,0.05619254428893328,-0.04131278581917286,0.021989184897392988,0.10252710524946451,-0.14357391302473843,-0.15071753575466573,-0.14474221225827932,0.024778069811873138,-0.04420765727991238,0.06075685750693083,-0.1531886770389974,0.07009303604718298,0.026540911592746852,-0.0446105757728219,-0.05903426557779312,0.23196400562301278,-0.11453764606267214,-0.08347901236265898,-0.013767489450401627,0.09236039489042014,0.21652134112082422,0.06575489803799428,0.11121485196053982,-0.007270743139088154,-0.09558671806007624,0.039953820407390594,0.04655867989640683,0.009656594542320818,-0.07069406541995704,-0.01664305292069912,0.02898986916989088,-0.09221563581377268,0.14030735671985894,-0.01348882564343512,0.025801105424761772,-0.05918473191559315,-0.016626859083771706,0.2295204257243313,0.11600122693926096,-0.09073253441601992,-0.03135380946332589,0.12842750106938183,0.11490456546016503,0.09339236668893136,0.1331171419005841,0.03143337834626436,-0.0010154705960303545,-0.10971487406641245,0.030974131310358644,0.045921888668090105,-0.16226776340045035,-0.07424711034400389,-0.010366723756305873,0.036988294625189155,0.041030485881492496,0.05605923314578831,0.028422275092452765,-0.043401130475103855,0.08434622595086694,-0.0935943468939513,0.11065203649923205,-0.22291715533356182,-0.06653460585221183,0.09458407387137413,-0.08113216538913548,-0.05035548598971218,0.08757738443091512,0.1960627967491746,0.001507796230725944,-0.06415592465782538,-0.050138398073613644,0.1309117702767253,0.05410766205750406,0.2262476235628128,0.048741484875790775,-0.06683940929360688,0.02871885779313743,-0.04344484972534701,0.11723793484270573,0.07447980553843081,0.015386272047180682,0.004097245284356177,-0.1276426276890561,-0.06996612844523042,0.10065430629765615,-0.011952234664931893,0.1586001306422986,-0.03792847879230976,0.04701309185475111,0.007263458683155477,0.010556624154560268,-0.048084733192808926,0.09477195190265775,-0.06359798205085099,-0.03582971473224461,-0.02394772134721279,-0.0482413211138919,0.043204227928072214,-0.06266766025510151,0.051693828077986836,0.0832398779457435,-0.08407431188970804,-0.03665091120637953,-0.06748792028520256,0.027066043112426996,-0.08355330443009734,0.1774211599258706,0.04137383331544697,-0.013948970241472125,-0.027748652937589213,0.1009575433563441,0.25027615763247013,0.015660384204238653,-0.05233117821626365,0.07674434926593676,0.05455867666751146,-0.15695769200101495,0.08638462563976645,0.0431295643793419,-0.1952259421814233,-0.16230445681139827,0.059850712306797504,0.08472271560458466,0.15317497408250347,-0.08255653828382492,0.05988660361254006,0.10165252117440104,0.06955991992435884,0.07476833940017968,-0.061304666684009135,0.0353143738466315,-0.0025820598239079118,-0.020823596278205514,-0.01549001282592144,0.13073967141099274,-0.06619253614917397,0.05505230603739619,-0.040421297191642225,0.07654253079090267,0.045960886229295284,-0.08499373309314251,0.08189087524078786,0.020233036571880803,0.018689345801249146,-0.06965371104888618,0.052370472345501184,-0.015451402170583606,-0.05903712529106997,-0.014066082891076803,0.005927726830122992,-0.1066089270170778,0.03221848444081843,-0.01933883992023766,-0.038497632718645036,-0.04222355363890529,-0.09237954043783247,-0.04730025690514594,0.016734982142224908,0.012284306401852518,0.07485232167528011,0.006369928525600699,-0.05633382545784116,0.10545787494629622,-0.09689326374791563,0.05936349867261015,-0.19471802283078432,0.01650979887926951,-0.012043778086081147,0.042266338132321835,0.01481689978390932,-0.05352344969287515,0.0581784313544631,0.011167523451149464,-0.06395950319711119,0.1517460299655795,-0.048347363946959376,0.11403814610093832,0.03078392264433205,0.17559727933257818,-0.09148238250054419,0.06526709697209299,0.06495540542528033,-0.020116459345445037,0.07720043137669563,0.023168863117462024,0.07553603938140441,0.20042445712169865,0.08233830984681845,0.23179780432838015,-0.037320779636502266,-0.03375033859629184,-0.01057268469594419,0.0605084088165313,-0.05137994006508961,-0.10553548112511635,-0.060544186853803694,0.002518585308280308,-0.02791473893194052,0.1324608630657167,-0.07386803906410933,0.04319904651492834,0.07974706497043371,0.11620639590546489,0.15961471060290933,0.038685242645442486,0.0429561932105571,0.06094446785573382,0.07093803212046623,0.20880734408274293,-0.038350141141563654,0.06421189938555472,0.1272461088374257,0.184704780112952,-0.1986730801872909,0.03931791894137859,-0.09014331758953631,-0.05026486120186746,-0.045320686884224415,0.016118183732032776,-0.030958105227909982,0.04217854654416442,-0.14206593995913863,-0.051235869410447776,-0.13734193169511855,0.28361462033353746,-0.02427639812231064,0.22182868048548698,0.076529570389539,0.11666030983906239,-0.07325432554353029,0.1889673669647891,0.039558488642796874,-0.038235442945733666,-0.0029565435834228992,-0.010349021409638226,0.01597653515636921,-0.1044263131043408,-0.06489760987460613,-0.10646000149426982,-0.06610642369764719,-0.03815118002239615,-0.0133183459402062,-0.06938543496653438,-0.03927305852994323,0.05299016006756574,0.05510748585220426,0.016098884167149663,0.08075947919860482,-0.06241807900369167,-0.0782782481983304,0.028755044331774116,0.0787967974320054,0.1596618175972253,0.006797963287681341,0.07434199936687946,-0.15297297574579716,0.036333811935037374,-0.0264303688891232,-0.060023839585483074,-0.03407952282577753,0.18564090179279447,0.11560731081408449,-0.023755585425533354,0.10584953310899436,-0.011067714542150497,0.05793815560173243,-0.004218981834128499,-0.23328222101554275]                       |\n",
      "|6BD93CCB-3251-11E8-9BFD-480FCF5217B3|CAMINO   |ANTIGUO BOQUERON     |4    |38023 |San Cristóbal de La Laguna|CAMINO ANTIGUO BOQUERON 4 SAN CRISTOBAL DE LA LAGUNA          |[camino, antiguo, boqueron, 4, san, cristobal, de, la, laguna]           |[0.03927293916543324,-0.030248229443613023,0.06692667740086714,-0.03418236143059201,-0.21488634414143032,-0.11675655554669598,0.046342957557903394,-0.006218695806132422,0.09554199429435863,-0.07359857857227325,-0.03869552523570342,0.041840624943789505,-0.12571642661674154,0.17844112672739557,-5.266118484238783E-4,-0.018629950885143545,0.021373562307821378,0.06122647722562154,-0.05271864765220218,0.032732185183299914,0.17871816414925787,-1.7092045810487533E-5,-0.06767872948613432,-0.12502851833899814,-0.104630789719522,0.0365894367504451,-0.08052554198851188,-0.025727284451325733,0.01903584089854525,0.06233562705003553,-0.048038639050597944,0.04969465101344717,0.06764449468917316,0.006956573989656236,0.07918198225605819,0.13762807597716648,-0.14530995776618105,-0.16939580435347226,-0.0834594185774525,0.00773624817116393,-0.04969992700757252,0.05385707525743378,-0.15680549045403797,0.10123290463040271,0.06548103095135754,-0.04732999288373523,-0.09729923349287774,0.2564354096021917,-0.14989686095052293,-0.02114996893538369,0.013556847775665421,0.13000174777375326,0.1373387546175056,0.08365252306167449,0.11843419695893923,-0.046432751334375806,-0.1385480339328448,0.05265924417310291,0.02287629489890403,0.09400727718861566,-0.034818629630737834,-0.015580440974897808,-1.2114644050598145E-4,-0.04228777464272247,0.163569086852173,0.023599346685740683,0.05352647230029106,-0.003254336615403493,-0.017392096627089713,0.25010549903122914,0.21634615295463136,-0.14763180663188297,-0.01541570724091596,0.17671631483568084,0.12102553141044659,0.06597161637101737,0.1934921470367246,0.04911172969473732,0.040032328494514026,-0.12293396765987077,0.04582037880188889,-0.023833762854337692,-0.2078419638176759,-0.10881181180270182,-0.020611986000504758,0.040968159368882574,0.023055865325861506,0.026467850535280172,-0.0021301169051892227,-0.016761160921305418,0.11290867916411823,-0.06695142533216211,0.06194534318314658,-0.13576800715074772,-0.11448129684302127,0.13459593926866847,-0.06781433812446064,-0.07562804884380764,0.15119868879102996,0.22452456338538063,-0.002436374171843959,-0.07738434999353355,0.02855184260341856,0.16278118681576517,-6.612028098768658E-4,0.22291142245133716,0.02695340404493941,-0.08759614287151231,0.05200745206740167,-0.039318786261396274,0.17282990345524415,0.00524429873459869,0.027672754859344825,-0.0662607466802001,-0.13808889138615793,-0.05810092130882872,0.09315239218994975,0.010121252905163499,0.17362170418103534,-0.06333792209625244,0.02626987505290243,-0.04416628771771987,-0.002969375087155236,-7.254755538370874E-4,0.04818806300560633,-0.1114253205143743,0.017925774368147053,0.03689085479385944,-0.0723160406988528,0.06369699951675203,-0.09233310597483069,0.04875633389585548,0.11590089328173134,-0.032748770201578736,0.02380386719273196,-0.10862057355956899,0.0027867984026670456,-0.04340999407900704,0.20137451744327942,0.025763698957032625,-0.0012652258285217814,-0.08146799870559739,0.15399700237645042,0.20932099844018617,0.010091440234747198,-0.04957018233835697,0.06239549587998125,-0.005427602678537369,-0.09283896163105965,0.06369141582399607,0.03809779147720999,-0.20050638686451647,-0.1430223486903641,0.08376838556594318,0.10132897246835959,0.14736348354361123,-0.14084261573023266,0.05758082369639952,0.1096026711165905,0.0495990034736072,0.0654477858915925,-0.09979730575448936,0.030599507943002712,-8.910179345144165E-4,-0.029434626301129658,-0.03093957911389427,0.12957495880416697,-0.15989166787929004,0.06574707436892721,0.03565597171998686,0.07417534840189748,0.1267686584033072,-0.06318018544051382,-0.001187405755950345,0.008761244929499095,4.127698226107491E-4,-0.11337341264718108,0.011463760294848017,-0.03172659377257029,-0.013340946571487518,-0.06252056815558009,0.017706267716776993,-0.11211076285690069,0.06043697665962908,-0.13177242233521408,0.0019447972170180744,0.06736088467813614,-0.07369638606905937,-0.04133221206979619,-0.010422972962260246,0.04321654968791538,0.1137903182922552,-0.11780953154892712,-0.040292047119388975,0.10245643700990412,-0.11628892438279258,0.0946208028278003,-0.17408615599075952,0.02216662016386787,0.031450176197621554,0.04174632868833012,0.005377717316150665,-0.056500303869446114,0.06804683752771881,0.01878915349435475,-0.060677094385027885,0.10082883429196145,-0.03195624632967843,0.059084794846259885,-0.016767682507634163,0.20135273411870003,-0.08541110178662671,0.0725474115461111,0.04076869123511844,-0.08028483618464734,0.058279407003687486,0.07347486623459391,0.05315303574833605,0.1573231904573428,0.058357078685528696,0.24353374975423017,-0.03234789644678433,-0.05785202576468388,-0.03796778520983126,0.03241267572674486,-0.04962704315160711,-0.04990370737181769,-0.09156674863253202,0.028177482806818765,0.0042834024255474406,0.16797811245487537,-0.0831846913529767,0.010949675407674577,0.08625990359319581,0.06608610558840963,0.1455565243959427,0.020814505509204332,0.062284836545586586,0.08346310885260916,-5.194052226013608E-4,0.18384937652283243,-0.04459070165952046,0.042943028914224766,0.10634508252971701,0.1762072116964393,-0.20194188298450574,0.02489004148972324,-0.1096668659398953,-0.006164453302820523,-0.04087785341673427,0.061155934300687574,0.01817191205918789,0.0795506127178669,-0.14115783448020616,-0.07162929388384023,-0.08534807318614589,0.2967918991214699,0.03517116513103247,0.22461924991673893,0.046394684041539826,0.10349888882289329,-0.06237282697111368,0.22336845099925995,0.07059178811808427,-0.047945534396502704,-0.0638398089342647,-0.12637938155482212,0.06897056351105371,-0.09973451735762258,-0.06718961873816119,-0.08133441597844163,-0.11054375433195673,-0.030732724919087354,-0.012918808342268068,-0.06788364715046352,-0.051249944915374115,0.03238425538357761,0.11696563485181993,0.006138834067516856,0.052817829988069,-0.1526007225943936,-0.11644584644171926,0.06678983631233373,-0.003677381823460261,0.0675905609710349,0.040203545035587415,0.01516647305753496,-0.08136820296446481,0.05478929728269577,-0.051282338021943964,0.006312197281254662,-0.038012801540187664,0.2152741588652134,0.07188313043055435,-0.029342106129560203,0.06711422010428375,-0.02065837714407179,0.0796341129268209,-0.011211958817309802,-0.1941236460374461]         |\n",
      "|6BD93CCB-3251-11E8-9BFD-480FCF5217B3|CARRETERA|CTRAEL BOQUERON      |4    |38023 |San Cristóbal de La Laguna|CARRETERA CTRAEL BOQUERON 4 SAN CRISTOBAL DE LA LAGUNA        |[carretera, ctrael, boqueron, 4, san, cristobal, de, la, laguna]         |[0.06874755645791689,0.011096411539862553,0.0671119365013308,-0.016894860400093924,-0.23394312875138387,-0.15908569058713812,0.04759297892451286,-0.030596980618105993,0.03084193697820107,-0.08800880662682983,-0.04348550105674399,0.028781249757028286,-0.11441335320058796,0.16449413779709074,0.0408872377851771,-0.011470232676300736,-0.0345600311540895,0.027859244909551408,0.05218035707043277,0.08590387201143636,0.11363320839073922,-0.007943239903801845,-0.1095463778409693,-0.1163184717297554,-0.05779681758334239,0.06178428812159432,-0.09524272092514567,-0.01652640849351883,-0.008661083592515852,0.06988048367202282,0.010223176407938201,0.006255066643158594,0.046161180155144796,0.01367853581905365,0.05480418488797214,0.13045409321784973,-0.2033133144593901,-0.15720053907069895,-0.16191828499237695,0.02817977499216795,-0.02099680367650257,0.029606232626570594,-0.1379494500449962,0.08223758079111576,0.08059240489577253,-0.020263065066602495,-0.051064775428838194,0.2483714934852388,-0.14172616766558752,-0.06922430410567257,0.006039381454077859,0.09915966985540257,0.20387463499274516,0.08659693249501288,0.15296878520813253,-0.013259329315688875,-0.06890007480978966,0.09430918097496033,0.02852974206002222,0.03430414401615659,-0.05918602213366991,-0.042046913256247834,0.02929763247569402,-0.05861231156935294,0.20289068327595788,0.025886815248264205,0.04902753647830751,-0.08490086181296243,-0.003295069146487448,0.20437465571901864,0.19526534010138774,-0.08040887034601635,0.015722937209324703,0.16831530175275272,0.1544061375186882,0.008528299345117476,0.1600375020255645,0.06332145051823722,0.029853994958102703,-0.08207223502298196,0.028542355323831238,0.0516206133696768,-0.2116768554680877,-0.09315149398106667,0.008194319179488553,0.042666223779734634,0.010635354245702425,0.0523312764449252,0.044669232020775475,-0.021824821001953546,0.06031148032181793,-0.10029765280584493,0.16658116959863237,-0.19851271277810964,-0.09174845412942684,0.06765858539276652,-0.10101688115133178,0.04879666202598148,0.07706770083556572,0.16509233911832172,-0.003460387802786297,-0.09566048925949468,-0.010440140962600708,0.13539845354130697,0.04790328877667586,0.24583683907985687,0.019871321713758838,-0.08818423541055785,-0.0023899866888920465,-0.11003692960366607,0.11368164647784497,-0.015301214013662603,-0.03409868018287751,0.04312914703041315,-0.16271151260783273,-0.07318722653306192,0.10266213941698273,-0.03381605932695998,0.15504587358898586,-0.054383535035109766,0.01517197365562121,-0.051300272862944335,0.03462072492887576,-0.025908421414593853,0.03964207259317239,-0.1241313481910361,-0.014685141543547312,-0.011830719653517008,-0.022995628726979096,0.05483185748259226,-0.06627374335140404,-0.01182755393286546,0.024697775745557413,-0.1006310936063528,-0.03780701528820726,-0.06693688340278135,-0.0053075605796443085,-0.11132539394829008,0.15760589090900287,0.04372073813445038,0.053779168571862906,0.019254997191536758,0.13861669310265118,0.25614968770080143,0.02728326887720161,-0.0778734880603022,0.09637368987831804,-0.016619008862309985,-0.10880006477236748,0.12307602167129517,0.00923281835599078,-0.20903091981179184,-0.10741658074160416,0.020729024791055255,0.07270769914612174,0.18335284711793065,-0.1050131863190068,0.031068276998768043,0.1547187641263008,0.08149040101044293,0.06219162098649475,9.197255389557944E-4,0.03714598234121998,-0.022094250242743228,-0.01337871534956826,-0.011594012069609663,0.1799162201479905,-0.11487435839242405,0.02862057296766175,0.0033506607222888204,0.12170621224989493,0.08260596610812677,-0.04346503110395537,0.05460503645655181,0.02825377847895854,0.03884168155491352,-0.0951565694477823,0.06833727906147638,0.05789996931950251,-0.014633435626617735,-0.09687319190965758,-0.024030378114225134,-0.11115997946924633,0.01978174286584059,-0.05187047376400894,-0.04300295116586817,-0.026264198473654687,-0.14872885578208497,-0.06574898989250262,0.03334097812573115,0.07111380810642408,0.11228418839164078,-0.04140767947764187,0.01701060558358828,0.16028378758993414,-0.07477999499274625,0.07084122742526233,-0.23364663455221388,0.06550860617102848,0.002991984908779462,0.034262843585262694,0.041176460683345795,-0.045635261315813594,0.10301653833852874,0.032612205793460206,-0.07333334020545913,0.1743658644457658,-0.12421944820218615,0.0844427016046312,0.01711518131196499,0.22080184643467266,-0.1350099231219954,0.0727101330541902,0.036162181860870786,-0.05843717035733991,0.059394363727834486,0.04538171572817696,0.07219246754215823,0.1681039769318886,0.07644503439466158,0.22577480640676284,0.02265075221657753,-0.020324787435432274,-0.018129457202222612,0.09937355439696047,0.0022840886376798153,-0.07391753668586412,-0.040953909460869097,7.043807935487065E-4,-0.038303630978286186,0.22560367606315088,-0.05444410484698083,-0.01616730044285456,0.08348496485915448,0.11768989223572943,0.1433942752579848,0.09312696879108746,0.08052497295041879,0.10257592058688815,0.04875885653826925,0.27174852664271987,-0.03201949058307542,0.03688748674984607,0.12586927858905658,0.19445842752854028,-0.24700123609768018,0.07677178309273182,-0.10516204788453049,-0.02008424223297172,-0.06440284434292051,0.02786983549594879,-0.011497026723292138,0.04459736372033755,-0.13861081169711217,-0.03539664443168375,-0.11147214368813567,0.3084072127110428,0.00995062074313561,0.154076551940913,0.060006740024416805,0.11953596180925766,-0.10402835501978794,0.2386060845520761,0.06706255508793725,-0.05003595207300451,-6.602203680409325E-4,-0.08913019247766997,0.05481266727050145,-0.09489661364609168,-0.11163452205558617,-0.13760079665937358,-0.05752074487443476,-0.03626137444128592,-0.04363705554149217,-0.06576495410667525,-0.12237196208702193,0.03085960251175695,0.08696104410207933,0.042291707669695214,0.08540682701600923,-0.10127721447497606,-0.1112335647145907,0.0762788974162605,0.015308216628101137,0.1540866939144002,0.06787965363926357,0.095005564391613,-0.14107043916980425,0.05586245945758289,-0.06095195934176445,-0.04737351834774017,-0.010279357433319092,0.1831982460700803,0.0824037564970139,-0.039420283813443445,0.07324447917441526,-0.006226887616018454,0.10639074393030669,-0.01587970368564129,-0.2164772819313738]                             |\n",
      "|6BD93CCB-3251-11E8-9BFD-480FCF5217B3|CARRETERA|BOQUERON VALLE GUERRA|189  |38023 |San Cristóbal de La Laguna|CARRETERA BOQUERON VALLE GUERRA 189 SAN CRISTOBAL DE LA LAGUNA|[carretera, boqueron, valle, guerra, 189, san, cristobal, de, la, laguna]|[0.08078102543950082,0.011984301218762995,0.061665319837629795,0.037331324024125936,-0.13058865405619144,-0.16338241605553777,0.13349025435745718,-0.016260254383087158,0.11680323239415885,-0.06349426247179508,-0.10194982243701817,0.03961559277959168,-0.09651252357289196,0.12268624678254128,-0.018545323284342885,-0.07402258515357972,-0.04389530997723341,0.011578824371099472,0.025654996745288372,0.03835068508051336,0.08113585086539388,-0.024836276657879353,-0.1245841320604086,-0.07327267304062844,0.006048864126205445,-0.016903819888830187,-0.08063392229378225,-0.012781266495585442,0.07106406558305026,0.14727331548929215,0.045564214396290485,0.013922323659062387,0.020051930844783784,0.04655264243483544,0.034950043121352796,0.049601542949676516,-0.1496530570089817,-0.16249709855765104,-0.1674605678766966,0.046174472942948346,-0.0420357916969806,0.11281928643584252,-0.10097854491323233,0.0797345930710435,0.0853092493955046,-0.07648170664906502,-0.14669988714158536,0.16493307277560235,-0.14427964047063144,-0.02006098059937358,-0.06936749684391544,0.11224813358858228,0.14360595964826645,0.1534064522245899,0.10686078891158104,-0.09745350256562234,-0.041081975656561555,0.09905148446559907,0.06402137572877109,0.03861841666512192,-0.05566960202995688,-0.050179991871118546,0.013329139444977045,-0.15114808827638626,0.2219123768620193,-0.006381896510720253,0.03472726047039032,-0.008975037559866906,-0.11479485107120127,0.23493152935989203,0.19707370661199095,-0.17507356181740763,0.11399002908729017,0.16249882047995926,0.10677475348347798,-0.019183372776024044,0.19420073693618178,0.13146329298615456,0.09258183017373085,-0.050988889299333096,-0.00373767763376236,0.024506669864058497,-0.24865358136594296,-0.0917890768032521,-0.012016177084296942,0.013181602163240314,-0.06780918817967177,0.029287548363208772,0.031887863576412205,-0.07338717840611934,0.09758734293282033,-0.013759957812726499,0.12889600526541473,-0.14746695596259088,-0.1389120102277957,0.02469068355858326,-0.10372517462819815,-0.022798858210444452,0.1064780074171722,0.19102899953722954,-0.07693217359483243,-0.07842295516747982,0.010827107727527619,0.11475133488420397,0.05446704193018377,0.19295073468238116,0.020237196143716576,-0.09908161889761687,0.03634416088461876,-0.03161468072794378,0.12119524423033,-0.06327323224395513,0.07088752505369485,0.11333685228601098,-0.16647601597942413,-0.09870085278525949,0.15583824026398363,0.027286530379205944,0.1923458430916071,-0.05487769031315111,-0.06866360597778112,-0.07075058333575726,0.029221254214644433,-0.023926511313766243,0.08825372941792012,-0.14794510509818792,-0.10750238774344326,-0.03072014362551272,-0.0015105449594557286,0.026154449582099917,0.004723538458347321,-0.03665072750300169,0.026585378590971234,-0.12847656551748515,-0.04718438927084208,-0.11868030158802867,-0.00908483173698187,-0.05589735880494118,0.23219832926988604,-0.005952295474708081,0.08617168748751283,-0.031909064808860424,0.1634941417723894,0.24561588913202287,0.02633370887488127,-0.03445408120751381,0.10975924404338003,-0.03952112495899201,-0.07787859290838242,0.12460953672416508,0.024105051276274027,-0.17961317328736187,-0.046822494082152846,0.1078778024762869,0.10872624551411719,0.12110604643821717,-0.04172990778461099,0.05860002520203125,0.1591831478988752,0.056375675869639964,0.039202767686219886,0.021485503762960434,-0.00518221277743578,0.02169275162741542,-0.005045685451477766,-0.02927622497081757,0.20597840077243745,-0.04602380692958832,0.027008609427139164,0.031211423594504597,0.1490971830673516,0.15176539034582676,-0.03176421821117401,0.09435419728979469,-9.375316323712469E-4,0.02924086581915617,-0.0703740442171693,0.13926093820482494,-0.023000026494264605,-0.0242845508037135,-0.12786528393626215,-0.027531974599696696,-0.10624737804755569,0.10868127495050431,-0.014061128720641136,-0.10594334583729506,0.031950372515711936,-0.1395155280828476,3.007729537785053E-4,0.04375863811001182,0.03801958486437798,0.04052197518758476,-0.04918714910745621,0.04895835220813752,0.20342330969870093,-0.16093675866723062,0.06933367752935737,-0.19788498729467394,0.07131784600205719,-0.04739421885460615,0.023264335095882417,0.060812899470329286,-0.09880896545946599,0.16451663300395014,0.05396682317368687,-0.08003803102765233,0.1476122222840786,-0.09595521092414856,0.14724739491939545,-0.01490516122430563,0.19249153956770898,-0.14528752844780685,0.044098572060465815,-0.002725585550069809,-0.023533217795193198,0.046597881149500614,0.023921988531947137,0.03999864142388106,0.19445359607343563,0.11981235891580583,0.17718164771795275,-0.026265276595950127,-0.0487002388574183,-0.022146038338541986,0.08195198122411967,-0.04714492284692824,-0.13063192106783392,-0.0820370881818235,-0.011199413798749447,-0.030781942078101567,0.20372186039894588,-0.1238214273005724,0.015521699842065573,0.02966961693018675,0.1507970557548106,0.10758441127836704,0.13295692503452303,0.004788215644657612,0.15340331979095936,0.027066662162542346,0.24896713197231293,0.009394185617566109,0.023855280107818545,0.07557332906872034,0.24030673317611217,-0.29298871122300624,0.171761396311922,-0.08763112758751959,-0.0817754814401269,0.0049507621675729755,0.036446186155080794,0.02972854170948267,0.06458842903375626,-0.1070504255592823,-0.009526782482862473,-0.16301671974360943,0.29022417329251765,0.06429926296696067,0.147101999190636,0.004847938974853605,0.11352825299836695,-0.053401363734155896,0.18014379348605872,0.09226956106722356,-0.006110494770109654,-0.012124088406562806,-0.08005552869290114,0.06783950366079808,-0.14521767618134618,-0.07253249157220125,-0.15860517001710833,-0.037812171473524364,-0.08508902052417398,-0.041299448022618895,-0.09620281290262939,-0.14813554808497428,0.015751534793525934,0.11723070247098805,0.021956461132504046,0.03744129575788975,-0.14227010561153294,-0.06844712365418673,0.07323989579454064,0.0038146436214447025,0.18002109061926605,0.008620929624885322,0.05996727757155895,-0.08061583600938321,0.07647512406110764,-0.1298297181725502,0.04000353273004294,-0.038737741531804204,0.10085215177387,0.03017147101927549,-0.023290319507941606,0.011758131720125676,0.03484076419845224,0.2084957726299763,-0.06644945163279772,-0.22340411469340327]            |\n",
      "|6BD93CCB-3251-11E8-9BFD-480FCF5217B3|CARRETERA|CTRA BOQUERON        |4    |38023 |San Cristóbal de La Laguna|CARRETERA CTRA BOQUERON 4 SAN CRISTOBAL DE LA LAGUNA          |[carretera, ctra, boqueron, 4, san, cristobal, de, la, laguna]           |[0.06775368915663825,0.016947753572215635,0.024470031882325806,-0.023778594616386626,-0.21987309637996885,-0.19059809589655033,-0.027364239510562684,-0.03489606330792109,0.048714816466801696,-0.07877074802915254,-0.04953758532388342,0.00483892656241854,-0.1005391063582566,0.15481442026793957,0.03415854021699892,-0.024537570050193202,-0.05942633230653074,0.05437706493669086,0.041221965311302074,0.09229846857488155,0.05474224645230505,0.010830364707443448,-0.14672315907147196,-0.10455541561047235,-0.046924243267211646,-0.011512229012118446,-0.09687653473681873,-0.013773503402868906,0.031221131354363427,0.0857590747376283,-0.006153501906535692,-0.008391678747203615,0.011677806990014182,0.015327331920464832,0.07904708825258745,0.11957785487174988,-0.21323946801324684,-0.11847410330341922,-0.1536042880680826,0.025326589225894872,-0.05975244737540682,0.03080211662583881,-0.11186749777860111,0.09658943965203232,0.09797777509730722,-0.05208520342906316,-0.04847608920600679,0.2626355451842149,-0.13740221659342447,-0.08640000420726007,-0.012963521177880466,0.10029265812287727,0.1649503366400798,0.10385274123917851,0.17127210274338722,-0.028500148819552526,-0.08121508980790773,0.08426228207018639,0.05140590165845221,0.02766038927560051,-0.06011926861376398,-0.02131351994143592,0.023560234655936558,-0.04647539556026459,0.19485532171610329,0.025030044838786125,0.014412055412928263,-0.09647597455316119,0.02159720804128382,0.17576944377894202,0.19855274943013984,-0.10318597281972566,0.019162391778081656,0.17854644730687141,0.13238862877349472,-0.011101309908553958,0.2137996448824803,0.09337181432379617,0.07639949748085605,-0.11627489680217372,0.06087965580324332,0.05562236811965704,-0.21008296642038557,-0.09848761594750814,-0.016129427382515535,0.02972596257718073,0.005428631065620316,0.058778067636821,0.05423641494578785,-0.02588177637921439,0.080656957709127,-0.1144097519831525,0.19597507930464214,-0.22405944937943584,-0.0736048130913534,0.043747835275199674,-0.1158056975238853,0.0614758829275767,0.09134551417082548,0.19076520949602127,0.03175378549430105,-0.0835466631170776,0.004172806317607561,0.12335593835450709,0.04458563836912314,0.20717579291926488,0.020525320019159052,-0.06478679304321606,-0.016887668520212173,-0.07294324883777234,0.09443949887322055,-0.06492417533364561,-0.046971849631518126,0.08687942733781205,-0.13454837590042087,-0.08311637832472721,0.08874125111227234,-0.05935938066492478,0.16996175081779558,-0.04517204469043968,0.018226365662283365,-0.06403637191073762,0.05382313982894023,-0.07463198993355036,0.029062016142739188,-0.17586584575474262,-0.0037026605051424764,0.014087949517286485,-6.110155954957008E-4,0.06877722839514414,-0.05402705804186148,-0.03706531288723151,-0.004555608559813764,-0.10197660885751247,0.013195526889628833,-0.07305642455402347,-6.804602841536204E-4,-0.10762324349747764,0.113894316367805,0.010724128327435916,0.048260598857369684,-0.01494888689679404,0.13438435105813873,0.25466275711854297,0.022629425964421693,-0.07332811980611748,0.11391033542652924,-0.05860549584031105,-0.08278261083695623,0.1637818854716089,0.005102694965898991,-0.19787036896579793,-0.0932806214938561,0.05733101359672016,0.04004673965068327,0.207980923820287,-0.12468978845410876,0.016844824315436803,0.19753334050377208,0.07907117927809142,0.04914520153154929,-0.014748314809468057,0.014632457815524604,-0.023502217916150887,-0.04794784138600031,-0.06099910340829713,0.1580260898400512,-0.11735785918103324,0.06394992644588152,0.04690590387003289,0.12916952671690118,0.08206323104807071,-0.057118837618165545,0.09066835221731,0.031152135459706187,0.03241897229519155,-0.10712838255696826,0.10063619166612625,0.08069541802008946,0.0011332868339700832,-0.09543902137213282,-0.023524475413271122,-0.10879994018210304,0.002879887405369017,-0.03245218863917722,-0.016588489731980693,-0.0569418552202276,-0.13130045268270704,-0.0016131188927425277,0.011754396888944836,0.09007096870077981,0.11760981869883835,-0.055372262954026356,0.03813342543111907,0.16997963024510276,-0.042849006752173104,0.10180228273384273,-0.2186386952590611,0.0922810862151285,-0.009815633503927125,0.01759006289972199,0.05513199832704332,-0.06362821037570635,0.13344817525810665,0.042100050797065094,-0.07623250309067467,0.18627764905492464,-0.14642360226975545,0.08240973701079686,0.041149141680863165,0.21478316146466467,-0.11784060982366402,0.08623846434056759,0.013906699915726978,-0.0578980931184358,0.06307987341036399,0.018758051925235324,0.05801139627065923,0.16156825767959362,0.0642339794172181,0.17572072976165345,0.022791985422372818,-0.019425836391746998,-0.042978957295417786,0.15501500107347965,0.006250512837949726,-0.09129234817292954,-0.033019871450960636,-0.05329243382827068,-0.005523161686546194,0.21700635177128585,-0.10299189761281013,-0.059814193182521395,0.090338711730308,0.13085075592001277,0.12479173019528389,0.12345404219296242,0.0892013892945316,0.10774437675718218,0.05239847178260485,0.30695251665181583,-0.011580111665858163,0.029807582471726667,0.13755627825028366,0.1956605484916104,-0.26073726556367344,0.10194492730079219,-0.11515168038507302,-0.08552244823012087,-0.04514972368876139,0.004706109149588479,3.910933414267169E-4,0.011671373827589883,-0.08448858890268537,-0.04325625362495581,-0.13765869227548438,0.33618613291117877,0.033643243110014334,0.15485004431361124,0.06496400348583443,0.09016700326982471,-0.08881153424994813,0.20305357356038356,0.0600073832190699,-0.05074488764835728,0.019415540827645194,-0.07407120232366853,0.07301161934932072,-0.1261666408067362,-0.11323988706701331,-0.15798872435051534,-0.029623687233551105,-0.008664745113088025,-0.030395709029916257,-0.018811532606681187,-0.1062268709970845,0.050215713369349636,0.11165215561373365,0.0634594363056951,0.08311181308494674,-0.1319825370899505,-0.10446643415424559,0.09911131258640024,-0.009906384266085094,0.14962602489524415,0.05682392542560895,0.06248860413001643,-0.13366600084635946,0.06335950084030628,-0.05862945607966846,-0.04972605034708977,-0.06051774985260433,0.14394930853611893,0.058617601817887686,-0.03089276732256015,0.06411229146437512,0.008793248588012325,0.11522226314991713,-0.040493029480179146,-0.18957181078278354]                  |\n",
      "|6BD93CCB-3251-11E8-9BFD-480FCF5217B3|CARRETERA|BOQUERON             |12   |38023 |San Cristóbal de La Laguna|CARRETERA BOQUERON 12 SAN CRISTOBAL DE LA LAGUNA              |[carretera, boqueron, 12, san, cristobal, de, la, laguna]                |[0.07529939245432615,0.010011343576479703,0.05827341298572719,-0.01380749000236392,-0.21521096769720316,-0.17427267952007242,0.024994709063321352,-0.018777895718812943,0.05125676130410284,-0.08462505601346493,-0.04274220147635788,0.020750376919750124,-0.09689172089565545,0.1702896896749735,0.04950320109492168,-0.026623488403856754,-0.01467704470269382,0.06958605069667101,0.02460226323455572,0.07271358068101108,0.08234523935243487,-0.00492671097163111,-0.09358393191359937,-0.10809603612869978,-0.08720308681949973,0.018487668596208096,-0.09337774378946051,-0.0015187906101346016,-0.008884420618414879,0.07737747393548489,-0.02003598739975132,0.02149588568136096,0.026908494532108307,0.02125922590494156,0.059864462178666145,0.12332120910286903,-0.1965594831854105,-0.1450771300587803,-0.15366004826501012,0.028084317687898874,-0.053183512354735285,0.03410282591357827,-0.1482358267530799,0.06571598001755774,0.08463387965457514,-0.046017514541745186,-0.06686912709847093,0.2932586232200265,-0.16024879459291697,-0.08413475786801428,-0.00852397245762404,0.11989594192709774,0.18592220358550549,0.09429689476382919,0.16949699772521853,-0.008118710480630398,-0.10346221411600709,0.09143206384032965,0.03794902184745297,0.016003936005290598,-0.03644353713025339,-0.033603920601308346,0.013896252843551338,-0.05449779890477657,0.2153639168245718,0.04706649901345372,0.03458084352314472,-0.07624107180163264,0.005559604382142425,0.20122502936283126,0.22992367460392416,-0.11441287118941545,0.002839999448042363,0.17198657942935824,0.135594553037663,0.0407583263295237,0.1760476571507752,0.08878412377089262,0.04335650708526373,-0.1156460924539715,0.02116369502618909,0.053929436835460365,-0.23746151942759752,-0.10010603134287521,0.005131287616677582,0.035917107423301786,0.022782615153118968,0.051298865117132664,0.05454681231640279,-0.04182769451290369,0.0791350167710334,-0.09858877188526094,0.16549593913077842,-0.2135460639547091,-0.10246791555255186,0.06518630823120475,-0.07857570145279169,0.02838583057746291,0.09068330971058458,0.20076681300997734,-0.012488899286836386,-0.061585596995428205,0.014584116637706757,0.14838224652339704,0.06108566862531006,0.2528861491009593,0.025073296390473843,-0.05798503151163459,-0.006555861793458462,-0.10011212731478736,0.12406961643137038,-0.02775682194624096,-0.026642529701348394,0.04450433945748955,-0.16290732368361205,-0.09104213619139045,0.11639918474247679,-0.0491938655031845,0.1925465613603592,-0.04629178169852821,0.03474778193049133,-0.0625162972137332,0.05220428667962551,-0.03965903806965798,0.052617771085351706,-0.14248020155355334,-0.03160358464810997,-0.005715126928407699,-0.02930028981063515,0.08212282136082649,-0.06062394380569458,-0.026177699444815516,0.03889831353444606,-0.09973701485432684,-0.018917766632512212,-0.07970604521688074,-0.010319230845198035,-0.11261838208884001,0.16891217819647864,0.022068528924137354,0.04097196797374636,-0.01910929015139118,0.14014883572235703,0.26208405941724777,0.03260755748488009,-0.06516442983411252,0.11647591018117964,-0.04858562722802162,-0.10909693920984864,0.12306542694568634,0.022414315142668784,-0.20248455740511417,-0.10897639091126621,0.06742952717468143,0.0692442697181832,0.19805841497145593,-0.12328508635982871,0.031958451840182533,0.16591581096872687,0.0991636121616466,0.05936018342617899,-0.03388384520076215,0.021787781734019518,-0.007304280647076666,-0.029449663124978542,-0.044685960514470935,0.15571199770784006,-0.11775660328567028,0.07272900873795152,0.03272356151137501,0.11319153814110905,0.07932449859799817,-0.09822394233196974,0.06761415943037719,0.017990577820455655,0.01995519711636007,-0.09194137493614107,0.09541203081607819,0.013002253137528896,-0.02926426552585326,-0.0953922828193754,5.557483818847686E-4,-0.10986081790179014,0.007985046599060297,-0.051399213494732976,-0.04701889422722161,-0.04304779686208349,-0.12325183255597949,-0.021687824628315866,0.010830196551978588,0.07944375183433294,0.10285630551516078,-0.07035692315548658,0.017570034135133028,0.1734755621291697,-0.08626185357570648,0.08769575550104491,-0.23911202931776643,0.08757833350682631,-0.018187191570177674,0.0279492256231606,0.027596978470683098,-0.05755604011937976,0.10364377964287996,0.038421211909735575,-0.08447029840317555,0.16679620230570436,-0.12720848061144352,0.09060240909457207,-0.005791701143607497,0.2118337214924395,-0.10624062357237563,0.08146375580690801,0.05726699437946081,-0.06524787354283035,0.08116612117737532,0.03134690131992102,0.06657181610353291,0.178195778898953,0.07688132017210592,0.23550793901085854,0.014879716094583273,-0.032579587888903916,-0.02643013803754002,0.13259309832938015,-0.021420285396743566,-0.07307662907987833,-0.05733208463061601,-0.004739013267681003,-0.035807170710995706,0.20796084319408692,-0.0726172267459333,-0.0076100731967017055,0.09847443900071084,0.1261143502779305,0.14777191216126084,0.0900163734331727,0.10072680609300733,0.10549040045589209,0.03580869035795331,0.25823239609599113,-0.04292373126372695,0.06073252481292002,0.13503097766079009,0.21893326845020056,-0.2398923342116177,0.06544053993275156,-0.11465215543285012,-0.05298017314635217,-0.03915410302579403,0.01580311101861298,0.004324272042140365,0.04369730968028307,-0.12740072142332792,-0.07718299701809883,-0.11961595580214635,0.324903059983626,0.010567733435891569,0.17322797296219505,0.06365663795440923,0.11795751086901873,-0.06651354290079325,0.23429271625354886,0.06793711427599192,-0.07341768895275891,0.003717305138707161,-0.07664019474759698,0.04790119547396898,-0.12971723882947117,-0.10500880260951817,-0.12147963762981817,-0.06192771714108858,-0.013465933152474463,-0.04008368874201551,-0.04222682910040021,-0.10930647329951171,0.04657403111923486,0.09393870446365327,0.01775629655458033,0.055857754188764375,-0.11311485280748457,-0.09613017970696092,0.0595094213495031,-6.260680966079235E-4,0.17770685371942818,0.05849527078680694,0.07497434411197901,-0.13119305996224284,0.07468057796359062,-0.05092142289504409,-0.057783539639785886,-0.045819595048669726,0.16863358300179243,0.09732266797800548,-0.0275151522946544,0.06750572402961552,1.8450955394655466E-4,0.10624592630483676,-0.045400595059618354,-0.21651389100588858]                          |\n",
      "+------------------------------------+---------+---------------------+-----+------+--------------------------+--------------------------------------------------------------+-------------------------------------------------------------------------+-----------------------------------------------------------------------------------------------------------------------------------------------------------------------------------------------------------------------------------------------------------------------------------------------------------------------------------------------------------------------------------------------------------------------------------------------------------------------------------------------------------------------------------------------------------------------------------------------------------------------------------------------------------------------------------------------------------------------------------------------------------------------------------------------------------------------------------------------------------------------------------------------------------------------------------------------------------------------------------------------------------------------------------------------------------------------------------------------------------------------------------------------------------------------------------------------------------------------------------------------------------------------------------------------------------------------------------------------------------------------------------------------------------------------------------------------------------------------------------------------------------------------------------------------------------------------------------------------------------------------------------------------------------------------------------------------------------------------------------------------------------------------------------------------------------------------------------------------------------------------------------------------------------------------------------------------------------------------------------------------------------------------------------------------------------------------------------------------------------------------------------------------------------------------------------------------------------------------------------------------------------------------------------------------------------------------------------------------------------------------------------------------------------------------------------------------------------------------------------------------------------------------------------------------------------------------------------------------------------------------------------------------------------------------------------------------------------------------------------------------------------------------------------------------------------------------------------------------------------------------------------------------------------------------------------------------------------------------------------------------------------------------------------------------------------------------------------------------------------------------------------------------------------------------------------------------------------------------------------------------------------------------------------------------------------------------------------------------------------------------------------------------------------------------------------------------------------------------------------------------------------------------------------------------------------------------------------------------------------------------------------------------------------------------------------------------------------------------------------------------------------------------------------------------------------------------------------------------------------------------------------------------------------------------------------------------------------------------------------------------------------------------------------------------------------------------------------------------------------------------------------------------------------------------------------------------------------------------------------------------------------------------------------------------------------------------------------------------------------------------------------------------------------------------------------------------------------------------------------------------------------------------------------------------------------------------------------------------------------------------------------------------------------------------------------------------------------------------------------------------------------------------------------------------------------------------------------------------------------------------------------------------------------------------------------------------------------------------------------------------------------------------------------------------------------------------------------------------------------------------------------------------------------------------------------------------------------------------------------------------------------------------------------------------------------------------------------------------------------------------------------------------------------------------------------------------------------------------------------------------------------------------------------------------------------------------------------------------------------------------------------------------------------------------------------------------------------------------------------------------------------------------------------------------------------------------------------------------------------------------------------------------------------------------------------------------------------------------------------------------------------------------------------------------------------------------------------------------------------------------------------------------------------------------------------------------------------------------------------------------------------------------------------------------------------------------------------------------------------------------------------------------------------------------------------------------------------+\n",
      "\n"
     ]
    },
    {
     "name": "stderr",
     "output_type": "stream",
     "text": [
      "                                                                                \r"
     ]
    }
   ],
   "source": [
    "word2vec_result.filter(\"uuid_idt == '6BD93CCB-3251-11E8-9BFD-480FCF5217B3'\").show(truncate=False)"
   ]
  },
  {
   "cell_type": "code",
   "execution_count": 10,
   "metadata": {},
   "outputs": [
    {
     "name": "stdout",
     "output_type": "stream",
     "text": [
      "253144\n",
      "253144\n",
      "253144\n"
     ]
    }
   ],
   "source": [
    "print(len(ids_list))\n",
    "print(len(embeddings_list)) \n",
    "print(len(documents_list)) "
   ]
  },
  {
   "cell_type": "code",
   "execution_count": 10,
   "metadata": {},
   "outputs": [],
   "source": [
    "import chromadb\n",
    "\n",
    "# Conéctate al cliente de ChromaDB y crea la colección\n",
    "chroma_client = chromadb.Client()\n",
    "collection = chroma_client.create_collection(name=\"address_matching\")"
   ]
  },
  {
   "cell_type": "code",
   "execution_count": 11,
   "metadata": {},
   "outputs": [],
   "source": [
    "def chunk_data(data, chunk_size):\n",
    "    for i in range(0, len(data), chunk_size):\n",
    "        yield data[i:i + chunk_size]\n",
    "\n",
    "# Define el tamaño del lote\n",
    "batch_size = 41666\n",
    "\n",
    "# Divide tus datos en lotes más pequeños\n",
    "embeddings_chunks = list(chunk_data(embeddings_list, batch_size))\n",
    "documents_chunks = list(chunk_data(documents_list, batch_size))\n",
    "metadata_chunks = list(chunk_data(metadata_list, batch_size))\n",
    "ids_chunks = list(chunk_data(ids_list, batch_size))\n",
    "\n",
    "# Agrega cada lote por separado a la colección\n",
    "for embeddings, documents, metadata, ids in zip(embeddings_chunks, documents_chunks, metadata_chunks, ids_chunks):\n",
    "    collection.add(embeddings=embeddings, documents=documents, metadatas=metadata, ids=ids)\n",
    "\n",
    "# 28min test\n",
    "# 2min test LPGC\n",
    "# ?min train LPGC\n",
    "# 7min test + train -> LPGC\n",
    "# 7min test + train -> LL"
   ]
  },
  {
   "cell_type": "code",
   "execution_count": 36,
   "metadata": {},
   "outputs": [
    {
     "name": "stdout",
     "output_type": "stream",
     "text": [
      "[Row(uuid_idt='0016535F-03E9-429E-A5F2-3B6B9AA90BC9', tvia='VIVIENDAS', nvia='SIROCO CUEVAS BLANCAS', numer=21, codmun='38038', nommun='Santa Cruz de Tenerife', direccion='VIVIENDAS SIROCO CEUVAS BLANCAS 21 SANTA CRUZ DE TENERIFE', words=['viviendas', 'siroco', 'ceuvas', 'blancas', '21', 'santa', 'cruz', 'de', 'tenerife'], embedding=DenseVector([-0.1428, 0.0621, -0.139, 0.1022, -0.0152, -0.0169, -0.1481, 0.1333, 0.0603, -0.0739, -0.0681, -0.0946, -0.0776, -0.116, 0.0009, -0.0298, -0.1323, -0.2658, -0.2092, -0.0619, -0.0957, 0.0979, -0.063, -0.1548, -0.1527, -0.0259, -0.0731, -0.1176, 0.0585, 0.0466, -0.035, 0.1824, -0.2393, 0.1037, 0.054, 0.2019, -0.0583, 0.0811, -0.0228, 0.0511, 0.0805, -0.0164, -0.0081, 0.1458, 0.1281, 0.1533, -0.0169, 0.1445, 0.0244, -0.0472, -0.1286, 0.1401, 0.1445, 0.0012, -0.0484, -0.026, -0.0793, 0.0375, -0.0687, 0.0025, 0.0615, -0.0492, 0.1579, -0.0896, 0.1226, 0.0005, -0.009, 0.1241, 0.2217, 0.009, 0.0365, -0.2228, -0.1273, 0.1135, 0.0158, 0.0203, -0.0816, 0.1312, 0.1231, -0.1299, 0.1655, -0.0858, -0.0418, -0.1873, -0.1274, 0.1067, 0.0106, -0.1176, 0.0422, -0.0686, -0.0787, 0.0377, -0.0008, 0.0858, -0.0379, 0.0193, 0.1052, 0.0465, 0.1327, 0.0366, -0.0262, -0.0639, -0.0527, 0.0325, -0.0157, -0.0223, -0.0403, 0.1414, 0.1259, 0.0448, 0.065, 0.032, 0.1881, -0.0352, 0.0339, -0.1415, 0.0709, 0.1152, 0.0094, -0.0442, 0.0691, 0.0131, -0.0245, 0.0198, 0.0292, 0.1575, -0.043, -0.0729, 0.19, 0.0095, 0.0504, 0.0278, -0.0475, -0.0435, 0.1521, -0.1181, -0.0127, -0.0287, 0.0952, -0.0392, -0.0181, -0.1532, 0.0097, 0.0371, 0.0126, 0.0206, -0.0278, 0.03, -0.1265, -0.0285, 0.2075, -0.0393, -0.1754, 0.0474, 0.0585, 0.0704, 0.0348, 0.0592, 0.1102, -0.0298, -0.1108, -0.0172, -0.1143, -0.0668, 0.0466, -0.1388, 0.0696, -0.1657, 0.0345, 0.0831, 0.0424, 0.169, 0.1176, 0.0565, -0.1367, 0.048, -0.0487, 0.0004, -0.0957, 0.038, -0.047, -0.042, 0.0752, -0.1447, 0.0285, 0.0042, 0.0541, 0.0099, 0.0837, 0.0157, 0.0471, 0.0569, -0.0841, -0.0424, -0.0522, -0.0397, 0.027, -0.0343, 0.1776, -0.0009, 0.085, 0.0837, -0.062, -0.0785, -0.0725, 0.0284, -0.0076, -0.1193, 0.0463, 0.0255, -0.083, 0.0761, 0.0271, 0.0734, 0.0178, -0.039, -0.0175, 0.1579, 0.0679, -0.0976, 0.0318, -0.1527, 0.0567, 0.0729, 0.0679, 0.0182, -0.1839, 0.0088, 0.009, -0.1359, -0.0523, -0.1272, -0.0319, 0.0764, 0.0607, 0.0872, 0.0087, -0.0079, 0.0815, 0.0614, 0.0366, -0.1125, -0.0735, -0.0458, 0.0492, -0.1545, -0.0552, -0.0134, -0.0574, -0.134, -0.1215, -0.0173, -0.0581, -0.1224, -0.1442, -0.0706, 0.1597, -0.0339, 0.0495, 0.1386, 0.0712, 0.0349, 0.0741, 0.0361, 0.0352, -0.0405, 0.0448, -0.0126, -0.1745, 0.0324, 0.0292, 0.0531, 0.1072, 0.0523, 0.0056, -0.0932, -0.0014, 0.0695, -0.0549, 0.041, -0.0206, -0.0037, -0.0633, 0.0722, -0.0544, -0.1106, -0.0952, -0.1024, -0.0795, -0.013, -0.0021, 0.07, -0.0505, 0.0301, -0.0185, 0.1518, -0.038, 0.1583, 0.1424, -0.0961]))]\n"
     ]
    }
   ],
   "source": [
    "x = word2vec_result.head(1)\n",
    "print(x)\n",
    "dir = x[0].embedding.toArray().tolist()"
   ]
  },
  {
   "cell_type": "code",
   "execution_count": 22,
   "metadata": {},
   "outputs": [
    {
     "name": "stdout",
     "output_type": "stream",
     "text": [
      "{'ids': [['90351', '33999', '130209', '91576', '140145']], 'distances': [[0.0, 0.19808949530124664, 0.20216217637062073, 0.20269343256950378, 0.22468826174736023]], 'metadatas': [[{'hnsw:space': 'cosine', 'type': 'test', 'uuid_idt': '6BD93CCB-3251-11E8-9BFD-480FCF5217B3'}, {'hnsw:space': 'cosine', 'type': 'train', 'uuid_idt': '683E27B8-3251-11E8-B413-480FCF5217B3'}, {'hnsw:space': 'cosine', 'type': 'test', 'uuid_idt': '6091C9B3-3251-11E8-BB6A-480FCF5217B3'}, {'hnsw:space': 'cosine', 'type': 'test', 'uuid_idt': '737D7422-1C73-476A-815F-292B1C2C11DD'}, {'hnsw:space': 'cosine', 'type': 'test', 'uuid_idt': '6273B1E0-3251-11E8-A556-480FCF5217B3'}]], 'embeddings': None, 'documents': [['CAMIN BOQUERON VALEL GUERRA 189 SAN CRISTOBAL DE LA LAGUNA', 'CG CARRETERA BOQUERON VALEL GUERRA 29 SAN CRISTOBAL DE LA LAGUNA', 'EXTRARRADIO VINO AVLLE GUERRA 357 SAN CRISTOBAL DE LA LAGUNA', 'DEIF BOQUERON VALLE GUERRA 85 SAN CRISTOBAL DE LA LAGUNA', 'CALLE BOQUERON VALLE GUERRA 214 SAN CRISTOBAL DE LA LAGUNA']], 'uris': None, 'data': None}\n"
     ]
    },
    {
     "data": {
      "text/plain": [
       "' # print(uuids)\\nif u1 in uuids:\\n  yes+=1\\n  print(result)\\n  print(\"--------\")\\n  print(results_q)\\nelse:\\n  no+=1\\ncounter+=1\\n\\nprint(yes)\\nprint(no) '"
      ]
     },
     "execution_count": 22,
     "metadata": {},
     "output_type": "execute_result"
    }
   ],
   "source": [
    "max_id = w2v_cosine.count() + word2vec_result.count() - 1\n",
    "counter = w2v_cosine.count()\n",
    "yes = 0\n",
    "no = 0\n",
    "while counter < max_id:\n",
    "  # Select from train df\n",
    "  result = collection.get(\n",
    "    ids=[str(counter)],\n",
    "    include=[\"embeddings\", \"metadatas\", \"documents\"]\n",
    "  )\n",
    "\n",
    "  # print(result)\n",
    "  # print(result[\"embeddings\"][0])\n",
    "  # print(result[\"metadatas\"][0][\"uuid_idt\"])\n",
    "  \n",
    "  # Embedding from train df\n",
    "  e1 = result[\"embeddings\"][0]\n",
    "  u1 = result[\"metadatas\"][0][\"uuid_idt\"]\n",
    "\n",
    "  # Generate best similarities\n",
    "  # TODO: filtrar antes por aquellos embeddings que son de \"train\"\n",
    "  results_q = collection.query(\n",
    "    query_embeddings=[e1],\n",
    "    n_results=2,\n",
    "  )\n",
    "\n",
    "  uuids = [u[\"uuid_idt\"] for i in results_q[\"metadatas\"] for u in i]\n",
    "  # print(uuids)\n",
    "\n",
    "  if u1 in uuids:\n",
    "    yes+=1\n",
    "    print(result)\n",
    "    print(\"--------\")\n",
    "    print(results_q)\n",
    "  else:\n",
    "    no+=1\n",
    "  counter+=1\n",
    "\n",
    "print(yes)\n",
    "print(no)"
   ]
  },
  {
   "cell_type": "code",
   "execution_count": null,
   "metadata": {},
   "outputs": [],
   "source": [
    "\"\"\" documents = []\n",
    "metadata = []\n",
    "embeddings = []\n",
    "\n",
    "def f(row):\n",
    "  embeddings.append(row.embedding)\n",
    "  documents.append(row.direccion)\n",
    "  metadata.append({'uuid_idt': row.uuid_idt})\n",
    "\n",
    "a = word2vec_result.limit(10)\n",
    "a.foreach(f)\n",
    " \"\"\"\n",
    "\n",
    "\"\"\" def extract_to_chroma(dataframe):\n",
    "  embeddings = []\n",
    "  documents = []\n",
    "  metadata = []\n",
    "  collection = dataframe.collect()\n",
    "  for row in collection:\n",
    "    embeddings.append(row.embedding)\n",
    "    documents.append(row.direccion)\n",
    "    metadata.append({'uuid_idt': row.uuid_idt})\n",
    "  return documents, embeddings, metadata\n",
    "\n",
    "a = word2vec_result\n",
    "a.show()\n",
    "df_size = word2vec_result.count()\n",
    "# documents, embeddings, metadata = extract_to_chroma(a) \"\"\"\n",
    "\n",
    "def extract_to_chroma_batch(dataframe, batch_size):\n",
    "    \"\"\"\n",
    "    Extrae documentos, incrustaciones y metadatos del DataFrame por lotes.\n",
    "    \"\"\"\n",
    "    documents_batches = []\n",
    "    embeddings_batches = []\n",
    "    metadata_batches = []\n",
    "\n",
    "    # Obtener el número total de filas en el DataFrame\n",
    "    total_rows = dataframe.count()\n",
    "\n",
    "    # Calcular el número de lotes\n",
    "    num_batches = (total_rows + batch_size - 1) // batch_size\n",
    "\n",
    "    # Procesar cada lote por separado\n",
    "    for batch_num in range(num_batches):\n",
    "        # Obtener el índice de inicio y final del lote\n",
    "        start_index = batch_num * batch_size\n",
    "        end_index = min((batch_num + 1) * batch_size, total_rows)\n",
    "\n",
    "        # Filtrar el DataFrame para obtener el lote actual\n",
    "        batch_df = dataframe.limit(end_index).subtract(dataframe.limit(start_index))\n",
    "\n",
    "        # Recolectar el lote y extraer documentos, incrustaciones y metadatos\n",
    "        documents_batch = []\n",
    "        embeddings_batch = []\n",
    "        metadata_batch = []\n",
    "\n",
    "        for row in batch_df.collect():\n",
    "            documents_batch.append(row.direccion)\n",
    "            embeddings_batch.append(row.embedding)\n",
    "            metadata_batch.append({'uuid_idt': row.uuid_idt})\n",
    "\n",
    "        documents_batches.append(documents_batch)\n",
    "        embeddings_batches.append(embeddings_batch)\n",
    "        metadata_batches.append(metadata_batch)\n",
    "\n",
    "    return documents_batches, embeddings_batches, metadata_batches\n",
    "\n",
    "# Especifica el tamaño del lote\n",
    "batch_size = 1000  # Puedes ajustar este valor según tus necesidades\n",
    "\n",
    "# Llama a la función para extraer por lotes\n",
    "documents_batches, embeddings_batches, metadata_batches = extract_to_chroma_batch(word2vec_result, batch_size)"
   ]
  },
  {
   "cell_type": "markdown",
   "metadata": {},
   "source": [
    "### MiniLM"
   ]
  },
  {
   "cell_type": "code",
   "execution_count": 5,
   "metadata": {},
   "outputs": [],
   "source": [
    "from sentence_transformers import SentenceTransformer\n",
    "from pyspark.sql.types import ArrayType, FloatType\n",
    "\n",
    "minilm_model = SentenceTransformer(\"all-MiniLM-L6-v2\")\n",
    "\n",
    "def minilm_embedding(direccion):\n",
    "    \"\"\" Calcula el embedding de la direccion dada y lo convierte a una lista para evitar la serelización de Spark \"\"\"\n",
    "    embedding = minilm_model.encode(direccion)\n",
    "    return embedding.tolist()\n",
    "\n",
    "@udf(returnType=ArrayType(FloatType()))\n",
    "def minilm_embedding_udf(direccion):\n",
    "    return minilm_embedding(direccion)\n",
    "\n",
    "minilm_cosine = test_dataframe.withColumn(\"embedding\", minilm_embedding_udf(\"direccion\"))"
   ]
  },
  {
   "cell_type": "code",
   "execution_count": 6,
   "metadata": {},
   "outputs": [],
   "source": [
    "minilm_cosine = minilm_cosine.filter(\"nommun == 'San Cristóbal de La Laguna'\") \n",
    "# Filter\n",
    "minilm_result = minilm_result.filter(\"nommun == 'San Cristóbal de La Laguna'\")"
   ]
  },
  {
   "cell_type": "code",
   "execution_count": null,
   "metadata": {},
   "outputs": [],
   "source": [
    "evaluated_minilm_cosine = calculate_cosine_similarity(minilm_cosine, minilm_result)\n",
    "evaluated_minilm_cosine = filter_3_best(evaluated_minilm_cosine)\n",
    "evaluated_minilm_cosine = evaluated_minilm_cosine.withColumn(\"evaluation\", evaluated_minilm_cosine.uuid_idt == evaluated_minilm_cosine.uuid_idt2)"
   ]
  },
  {
   "cell_type": "code",
   "execution_count": null,
   "metadata": {},
   "outputs": [],
   "source": [
    "print(accertion_ratio(evaluated_minilm_cosine))"
   ]
  },
  {
   "cell_type": "markdown",
   "metadata": {},
   "source": [
    "### GPT"
   ]
  },
  {
   "cell_type": "code",
   "execution_count": 40,
   "metadata": {},
   "outputs": [],
   "source": [
    "from pyspark.sql.types import ArrayType, FloatType\n",
    "from pyspark.sql.functions import udf\n",
    "from openai import OpenAI\n",
    "\n",
    "def get_embedding(text, model=\"text-embedding-3-small\"):\n",
    "    client = OpenAI(api_key=\"***REMOVED***\")\n",
    "    text = text.replace(\"\\n\", \" \")\n",
    "    return client.embeddings.create(input=[text], model=model).data[0].embedding\n",
    "\n",
    "# Definir la función UDF y especificar el tipo de dato de retorno como ArrayType(FloatType())\n",
    "embedding_udf = udf(lambda text: get_embedding(text), ArrayType(FloatType()))\n",
    "\n",
    "# Aplicar la función UDF al DataFrame y crear una nueva columna llamada embeddings\"\n",
    "gpt3_cosine = test_dataframe.withColumn(\"embedding\", embedding_udf(\"direccion\"))"
   ]
  },
  {
   "cell_type": "code",
   "execution_count": null,
   "metadata": {},
   "outputs": [],
   "source": [
    "evaluated_gpt3_cosine = calculate_cosine_similarity(gpt3_cosine, gpt3_result)\n",
    "evaluated_gpt3_cosine = filter_3_best(evaluated_gpt3_cosine)\n",
    "evaluated_gpt3_cosine = evaluated_gpt3_cosine.withColumn(\"evaluation\", evaluated_gpt3_cosine.uuid_idt == evaluated_gpt3_cosine.uuid_idt2)"
   ]
  },
  {
   "cell_type": "markdown",
   "metadata": {},
   "source": [
    "---------"
   ]
  },
  {
   "cell_type": "code",
   "execution_count": null,
   "metadata": {},
   "outputs": [],
   "source": [
    "print(accertion_ratio(evaluated_gpt3_cosine))"
   ]
  },
  {
   "cell_type": "markdown",
   "metadata": {},
   "source": [
    "### Chroma DB"
   ]
  },
  {
   "cell_type": "code",
   "execution_count": 7,
   "metadata": {},
   "outputs": [],
   "source": [
    "import chromadb\n",
    "\n",
    "# Conéctate al cliente de ChromaDB y crea la colección\n",
    "chroma_client = chromadb.Client()\n",
    "collection = chroma_client.create_collection(name=\"address_matching\")"
   ]
  },
  {
   "cell_type": "code",
   "execution_count": 29,
   "metadata": {},
   "outputs": [],
   "source": [
    "def extract_to_chroma(dataframes):\n",
    "    embeddings = []\n",
    "    documents = []\n",
    "    metadata = []\n",
    "    ids = []\n",
    "    start = 0\n",
    "    \n",
    "    for index in range(len(dataframes)):\n",
    "        type_df = \"test\" if index == 1 else \"train\" \n",
    "        \n",
    "        # Extraer los datos restantes como listas\n",
    "        embeddings_df = dataframes[index].select(\"embedding\").collect()\n",
    "        documents_df = dataframes[index].select(\"direccion\").collect()\n",
    "        metadata_df = dataframes[index].select(\"uuid_idt\").collect()\n",
    "        ids_df = list(range(start, len(embeddings_df) + start))\n",
    "\n",
    "        # print(type(embeddings_df[0].embedding))\n",
    "        # Extraer los embeddings como listas\n",
    "        embeddings_list = []\n",
    "        for row in embeddings_df:\n",
    "            if type(row.embedding) != list:\n",
    "                embeddings_list.append(row.embedding.toArray().tolist())\n",
    "            else:\n",
    "                embeddings_list.append(row.embedding)\n",
    "        embeddings_df = embeddings_list\n",
    "        # embeddings_df = [row.embedding.toArray().tolist() for row in embeddings_df]\n",
    "\n",
    "        # Extraer los documentos como listas\n",
    "        documents_df = [row.direccion for row in documents_df]\n",
    "\n",
    "        # Extraer los metadatos como listas\n",
    "        metadata_df = [{\"uuid_idt\": row.uuid_idt, \"type_df\": type_df} for row in metadata_df]\n",
    "        \n",
    "        ids_df = [str(id_) for id_ in ids_df]\n",
    "\n",
    "        embeddings += embeddings_df\n",
    "        documents += documents_df\n",
    "        metadata += metadata_df\n",
    "        ids += ids_df\n",
    "        start = len(ids_df)\n",
    "\n",
    "    return ids, documents, embeddings, metadata\n",
    "\n",
    "def chunk_data(data, chunk_size):\n",
    "    for i in range(0, len(data), chunk_size):\n",
    "        yield data[i:i + chunk_size]"
   ]
  },
  {
   "cell_type": "markdown",
   "metadata": {},
   "source": [
    "#### Word2Vec"
   ]
  },
  {
   "cell_type": "code",
   "execution_count": 27,
   "metadata": {},
   "outputs": [
    {
     "name": "stderr",
     "output_type": "stream",
     "text": [
      "                                                                                \r"
     ]
    }
   ],
   "source": [
    "ids_list, documents_list, embeddings_list, metadata_list = extract_to_chroma([w2v_cosine.limit(10), word2vec_result.limit(10)])"
   ]
  },
  {
   "cell_type": "code",
   "execution_count": null,
   "metadata": {},
   "outputs": [],
   "source": [
    "import chromadb\n",
    "\n",
    "# Conéctate al cliente de ChromaDB y crea la colección\n",
    "chroma_client = chromadb.Client()\n",
    "collection = chroma_client.create_collection(\n",
    "  name=\"address_matching\"\n",
    "  metadata={\"hnsw:space\": \"cosine\"}\n",
    "  )"
   ]
  },
  {
   "cell_type": "code",
   "execution_count": null,
   "metadata": {},
   "outputs": [],
   "source": [
    "# Define el tamaño del lote\n",
    "batch_size = 41666\n",
    "\n",
    "# Divide tus datos en lotes más pequeños\n",
    "embeddings_chunks = list(chunk_data(embeddings_list, batch_size))\n",
    "documents_chunks = list(chunk_data(documents_list, batch_size))\n",
    "metadata_chunks = list(chunk_data(metadata_list, batch_size))\n",
    "ids_chunks = list(chunk_data(ids_list, batch_size))\n",
    "\n",
    "# Agrega cada lote por separado a la colección\n",
    "for embeddings, documents, metadata, ids in zip(embeddings_chunks, documents_chunks, metadata_chunks, ids_chunks):\n",
    "    collection.add(embeddings=embeddings, documents=documents, metadatas=metadata, ids=ids)\n",
    "\n",
    "# 28min test\n",
    "# 2min test LPGC\n",
    "# ?min train LPGC\n",
    "# 7min test + train -> LPGC\n",
    "# 7min test + train -> LL"
   ]
  },
  {
   "cell_type": "code",
   "execution_count": null,
   "metadata": {},
   "outputs": [
    {
     "name": "stdout",
     "output_type": "stream",
     "text": [
      "{'ids': [['90351', '33999', '130209', '91576', '140145']], 'distances': [[0.0, 0.19808949530124664, 0.20216217637062073, 0.20269343256950378, 0.22468826174736023]], 'metadatas': [[{'hnsw:space': 'cosine', 'type': 'test', 'uuid_idt': '6BD93CCB-3251-11E8-9BFD-480FCF5217B3'}, {'hnsw:space': 'cosine', 'type': 'train', 'uuid_idt': '683E27B8-3251-11E8-B413-480FCF5217B3'}, {'hnsw:space': 'cosine', 'type': 'test', 'uuid_idt': '6091C9B3-3251-11E8-BB6A-480FCF5217B3'}, {'hnsw:space': 'cosine', 'type': 'test', 'uuid_idt': '737D7422-1C73-476A-815F-292B1C2C11DD'}, {'hnsw:space': 'cosine', 'type': 'test', 'uuid_idt': '6273B1E0-3251-11E8-A556-480FCF5217B3'}]], 'embeddings': None, 'documents': [['CAMIN BOQUERON VALEL GUERRA 189 SAN CRISTOBAL DE LA LAGUNA', 'CG CARRETERA BOQUERON VALEL GUERRA 29 SAN CRISTOBAL DE LA LAGUNA', 'EXTRARRADIO VINO AVLLE GUERRA 357 SAN CRISTOBAL DE LA LAGUNA', 'DEIF BOQUERON VALLE GUERRA 85 SAN CRISTOBAL DE LA LAGUNA', 'CALLE BOQUERON VALLE GUERRA 214 SAN CRISTOBAL DE LA LAGUNA']], 'uris': None, 'data': None}\n"
     ]
    },
    {
     "data": {
      "text/plain": [
       "' # print(uuids)\\nif u1 in uuids:\\n  yes+=1\\n  print(result)\\n  print(\"--------\")\\n  print(results_q)\\nelse:\\n  no+=1\\ncounter+=1\\n\\nprint(yes)\\nprint(no) '"
      ]
     },
     "metadata": {},
     "output_type": "display_data"
    }
   ],
   "source": [
    "max_id = w2v_cosine.count() + word2vec_result.count() - 1\n",
    "counter = w2v_cosine.count()\n",
    "yes = 0\n",
    "no = 0\n",
    "while counter < max_id:\n",
    "  # Select from train df\n",
    "  result = collection.get(\n",
    "    ids=[str(counter)],\n",
    "    include=[\"embeddings\", \"metadatas\", \"documents\"]\n",
    "  )\n",
    "\n",
    "  # print(result)\n",
    "  # print(result[\"embeddings\"][0])\n",
    "  # print(result[\"metadatas\"][0][\"uuid_idt\"])\n",
    "  \n",
    "  # Embedding from train df\n",
    "  e1 = result[\"embeddings\"][0]\n",
    "  u1 = result[\"metadatas\"][0][\"uuid_idt\"]\n",
    "\n",
    "  # Generate best similarities\n",
    "  # TODO: filtrar antes por aquellos embeddings que son de \"train\"\n",
    "  results_q = collection.query(\n",
    "    query_embeddings=[e1],\n",
    "    n_results=2,\n",
    "  )\n",
    "\n",
    "  uuids = [u[\"uuid_idt\"] for i in results_q[\"metadatas\"] for u in i]\n",
    "  # print(uuids)\n",
    "\n",
    "  if u1 in uuids:\n",
    "    yes+=1\n",
    "    print(result)\n",
    "    print(\"--------\")\n",
    "    print(results_q)\n",
    "  else:\n",
    "    no+=1\n",
    "  counter+=1\n",
    "\n",
    "print(yes)\n",
    "print(no)"
   ]
  },
  {
   "cell_type": "code",
   "execution_count": null,
   "metadata": {},
   "outputs": [],
   "source": [
    "from pyspark.sql.functions import col\n",
    "\n",
    "# Función para procesar cada ID en paralelo\n",
    "def process_id(id):\n",
    "    result = collection.get(\n",
    "        ids=[str(id)],\n",
    "        include=[\"embeddings\", \"metadatas\", \"documents\"]\n",
    "    )\n",
    "    e1 = result[\"embeddings\"][0]\n",
    "    u1 = result[\"metadatas\"][0][\"uuid_idt\"]\n",
    "\n",
    "    # Generar mejores similitudes en el conjunto de datos de entrenamiento\n",
    "    results_q = collection.query(\n",
    "        query_embeddings=[e1],\n",
    "        n_results=2,\n",
    "        where={\"type\": \"train\"}\n",
    "    )\n",
    "    uuids = [u[\"uuid_idt\"] for i in results_q[\"metadatas\"] for u in i]\n",
    "    return u1 in uuids\n",
    "\n",
    "# Crear un rango de IDs para procesar\n",
    "max_id = w2v_cosine.count() - 1\n",
    "ids_range = range(max_id)\n",
    "\n",
    "# Convertir el rango de IDs en un DataFrame de Spark\n",
    "ids_df = spark.createDataFrame(ids_range, \"id\")\n",
    "\n",
    "# Aplicar la función de procesamiento a cada ID en paralelo utilizando Spark\n",
    "results_df = ids_df.select(\"id\").withColumn(\"match\", process_id(col(\"id\")))\n",
    "\n",
    "# Contar los resultados positivos y negativos\n",
    "yes_count = results_df.filter(results_df[\"match\"] == True).count()\n",
    "no_count = results_df.filter(results_df[\"match\"] == False).count()\n",
    "\n",
    "print(\"Yes count:\", yes_count)\n",
    "print(\"No count:\", no_count)"
   ]
  },
  {
   "cell_type": "markdown",
   "metadata": {},
   "source": [
    "#### OpenAI"
   ]
  },
  {
   "cell_type": "code",
   "execution_count": 39,
   "metadata": {},
   "outputs": [
    {
     "ename": "NameError",
     "evalue": "name 'gpt3_cosine' is not defined",
     "output_type": "error",
     "traceback": [
      "\u001b[0;31m---------------------------------------------------------------------------\u001b[0m",
      "\u001b[0;31mNameError\u001b[0m                                 Traceback (most recent call last)",
      "Cell \u001b[0;32mIn[39], line 1\u001b[0m\n\u001b[0;32m----> 1\u001b[0m ids_list, documents_list, embeddings_list, metadata_list \u001b[38;5;241m=\u001b[39m extract_to_chroma([\u001b[43mgpt3_cosine\u001b[49m, gpt3_result])\n",
      "\u001b[0;31mNameError\u001b[0m: name 'gpt3_cosine' is not defined"
     ]
    }
   ],
   "source": [
    "ids_list, documents_list, embeddings_list, metadata_list = extract_to_chroma([gpt3_cosine, gpt3_result])"
   ]
  },
  {
   "cell_type": "code",
   "execution_count": null,
   "metadata": {},
   "outputs": [],
   "source": [
    "# Define el tamaño del lote\n",
    "batch_size = 41666\n",
    "\n",
    "# Divide tus datos en lotes más pequeños\n",
    "embeddings_chunks = list(chunk_data(embeddings_list, batch_size))\n",
    "documents_chunks = list(chunk_data(documents_list, batch_size))\n",
    "metadata_chunks = list(chunk_data(metadata_list, batch_size))\n",
    "ids_chunks = list(chunk_data(ids_list, batch_size))\n",
    "\n",
    "# Agrega cada lote por separado a la colección\n",
    "for embeddings, documents, metadata, ids in zip(embeddings_chunks, documents_chunks, metadata_chunks, ids_chunks):\n",
    "    collection.add(embeddings=embeddings, documents=documents, metadatas=metadata, ids=ids)"
   ]
  },
  {
   "cell_type": "markdown",
   "metadata": {},
   "source": [
    "#### MiniLLM"
   ]
  },
  {
   "cell_type": "code",
   "execution_count": 9,
   "metadata": {},
   "outputs": [
    {
     "name": "stderr",
     "output_type": "stream",
     "text": [
      "                                                                                \r"
     ]
    },
    {
     "data": {
      "text/plain": [
       "170143"
      ]
     },
     "execution_count": 9,
     "metadata": {},
     "output_type": "execute_result"
    }
   ],
   "source": [
    "print(minilm_result.count())\n",
    "print(minilm_cosine.count())"
   ]
  },
  {
   "cell_type": "code",
   "execution_count": 35,
   "metadata": {},
   "outputs": [
    {
     "name": "stderr",
     "output_type": "stream",
     "text": [
      "                                                                                \r"
     ]
    }
   ],
   "source": [
    "ids_list, documents_list, embeddings_list, metadata_list = extract_to_chroma([minilm_cosine, minilm_result]) # 23min"
   ]
  },
  {
   "cell_type": "code",
   "execution_count": 36,
   "metadata": {},
   "outputs": [
    {
     "name": "stderr",
     "output_type": "stream",
     "text": [
      "Add of existing embedding ID: 0\n",
      "Add of existing embedding ID: 1\n",
      "Add of existing embedding ID: 2\n",
      "Add of existing embedding ID: 3\n",
      "Add of existing embedding ID: 4\n",
      "Add of existing embedding ID: 5\n",
      "Add of existing embedding ID: 6\n",
      "Add of existing embedding ID: 7\n",
      "Add of existing embedding ID: 8\n",
      "Add of existing embedding ID: 9\n",
      "Add of existing embedding ID: 10\n",
      "Add of existing embedding ID: 11\n",
      "Add of existing embedding ID: 12\n",
      "Add of existing embedding ID: 13\n",
      "Add of existing embedding ID: 14\n",
      "Add of existing embedding ID: 15\n",
      "Add of existing embedding ID: 16\n",
      "Add of existing embedding ID: 17\n",
      "Add of existing embedding ID: 18\n",
      "Add of existing embedding ID: 19\n",
      "Insert of existing embedding ID: 0\n",
      "Insert of existing embedding ID: 1\n",
      "Insert of existing embedding ID: 2\n",
      "Insert of existing embedding ID: 3\n",
      "Insert of existing embedding ID: 4\n",
      "Insert of existing embedding ID: 5\n",
      "Insert of existing embedding ID: 6\n",
      "Insert of existing embedding ID: 7\n",
      "Insert of existing embedding ID: 8\n",
      "Insert of existing embedding ID: 9\n",
      "Insert of existing embedding ID: 10\n",
      "Insert of existing embedding ID: 11\n",
      "Insert of existing embedding ID: 12\n",
      "Insert of existing embedding ID: 13\n",
      "Insert of existing embedding ID: 14\n",
      "Insert of existing embedding ID: 15\n",
      "Insert of existing embedding ID: 16\n",
      "Insert of existing embedding ID: 17\n",
      "Insert of existing embedding ID: 18\n",
      "Insert of existing embedding ID: 19\n"
     ]
    }
   ],
   "source": [
    "# Define el tamaño del lote\n",
    "batch_size = 41666\n",
    "\n",
    "# Divide tus datos en lotes más pequeños\n",
    "embeddings_chunks = list(chunk_data(embeddings_list, batch_size))\n",
    "documents_chunks = list(chunk_data(documents_list, batch_size))\n",
    "metadata_chunks = list(chunk_data(metadata_list, batch_size))\n",
    "ids_chunks = list(chunk_data(ids_list, batch_size))\n",
    "\n",
    "# Agrega cada lote por separado a la colección\n",
    "for embeddings, documents, metadata, ids in zip(embeddings_chunks, documents_chunks, metadata_chunks, ids_chunks):\n",
    "    collection.add(embeddings=embeddings, documents=documents, metadatas=metadata, ids=ids)"
   ]
  },
  {
   "cell_type": "code",
   "execution_count": 38,
   "metadata": {},
   "outputs": [
    {
     "name": "stdout",
     "output_type": "stream",
     "text": [
      "72994\n",
      "10006\n"
     ]
    }
   ],
   "source": [
    "max_id = minilm_cosine.count() - 1\n",
    "counter = 0\n",
    "yes = 0\n",
    "no = 0\n",
    "while counter < max_id:\n",
    "  # Select from train df\n",
    "  result = collection.get(\n",
    "    ids=[str(counter)],\n",
    "    include=[\"embeddings\", \"metadatas\", \"documents\"]\n",
    "  )\n",
    "\n",
    "  # print(result)\n",
    "  # print(result[\"embeddings\"][0])\n",
    "  # print(result[\"metadatas\"][0][\"uuid_idt\"])\n",
    "  \n",
    "  # Embedding from train df\n",
    "  e1 = result[\"embeddings\"][0]\n",
    "  u1 = result[\"metadatas\"][0][\"uuid_idt\"]\n",
    "\n",
    "  # Generate best similarities\n",
    "  # TODO: filtrar antes por aquellos embeddings que son de \"train\"\n",
    "  results_q = collection.query(\n",
    "    query_embeddings=[e1],\n",
    "    n_results=2,\n",
    "  )\n",
    "\n",
    "  uuids = [u[\"uuid_idt\"] for i in results_q[\"metadatas\"] for u in i]\n",
    "  # print(uuids)\n",
    "\n",
    "  if u1 in uuids:\n",
    "    yes+=1\n",
    "    \"\"\" print(result)\n",
    "    print(\"--------\")\n",
    "    print(results_q) \"\"\"\n",
    "  else:\n",
    "    no+=1\n",
    "  counter+=1\n",
    "\n",
    "print(yes)\n",
    "print(no)"
   ]
  }
 ],
 "metadata": {
  "kernelspec": {
   "display_name": "Python 3",
   "language": "python",
   "name": "python3"
  },
  "language_info": {
   "codemirror_mode": {
    "name": "ipython",
    "version": 3
   },
   "file_extension": ".py",
   "mimetype": "text/x-python",
   "name": "python",
   "nbconvert_exporter": "python",
   "pygments_lexer": "ipython3",
   "version": "3.10.12"
  }
 },
 "nbformat": 4,
 "nbformat_minor": 2
}
