{
 "cells": [
  {
   "cell_type": "markdown",
   "metadata": {},
   "source": [
    "# Address Matching with Apache Spark"
   ]
  },
  {
   "cell_type": "markdown",
   "metadata": {},
   "source": [
    "## Iniciar Spark"
   ]
  },
  {
   "cell_type": "code",
   "execution_count": 23,
   "metadata": {},
   "outputs": [],
   "source": [
    "from pyspark.sql.session import SparkSession\n",
    "\n",
    "spark = spark = SparkSession.builder \\\n",
    "    .appName(\"Adress Matching\") \\\n",
    "    .config(\"spark.executor.memory\", \"8g\") \\\n",
    "    .config(\"spark.driver.memory\", \"20g\") \\\n",
    "    .config(\"spark.driver.maxResultSize\", \"2g\") \\\n",
    "    .getOrCreate()"
   ]
  },
  {
   "cell_type": "code",
   "execution_count": 24,
   "metadata": {},
   "outputs": [
    {
     "name": "stdout",
     "output_type": "stream",
     "text": [
      "spark.app.name: Adress Matching\n",
      "spark.app.id: local-1710328292060\n",
      "spark.app.startTime: 1710328289968\n",
      "spark.executor.id: driver\n",
      "spark.driver.host: 10.6.130.30\n",
      "spark.driver.extraJavaOptions: -Djava.net.preferIPv6Addresses=false -XX:+IgnoreUnrecognizedVMOptions --add-opens=java.base/java.lang=ALL-UNNAMED --add-opens=java.base/java.lang.invoke=ALL-UNNAMED --add-opens=java.base/java.lang.reflect=ALL-UNNAMED --add-opens=java.base/java.io=ALL-UNNAMED --add-opens=java.base/java.net=ALL-UNNAMED --add-opens=java.base/java.nio=ALL-UNNAMED --add-opens=java.base/java.util=ALL-UNNAMED --add-opens=java.base/java.util.concurrent=ALL-UNNAMED --add-opens=java.base/java.util.concurrent.atomic=ALL-UNNAMED --add-opens=java.base/sun.nio.ch=ALL-UNNAMED --add-opens=java.base/sun.nio.cs=ALL-UNNAMED --add-opens=java.base/sun.security.action=ALL-UNNAMED --add-opens=java.base/sun.util.calendar=ALL-UNNAMED --add-opens=java.security.jgss/sun.security.krb5=ALL-UNNAMED -Djdk.reflect.useDirectMethodHandle=false\n",
      "spark.sql.warehouse.dir: file:/home/usuario/Adress-matching/notebooks/spark-warehouse\n",
      "spark.driver.memory: 20g\n",
      "spark.rdd.compress: True\n",
      "spark.serializer.objectStreamReset: 100\n",
      "spark.driver.maxResultSize: 2g\n",
      "spark.master: local[*]\n",
      "spark.executor.memory: 8g\n",
      "spark.submit.pyFiles: \n",
      "spark.submit.deployMode: client\n",
      "spark.driver.port: 35069\n",
      "spark.app.submitTime: 1710328289622\n",
      "spark.ui.showConsoleProgress: true\n",
      "spark.executor.extraJavaOptions: -Djava.net.preferIPv6Addresses=false -XX:+IgnoreUnrecognizedVMOptions --add-opens=java.base/java.lang=ALL-UNNAMED --add-opens=java.base/java.lang.invoke=ALL-UNNAMED --add-opens=java.base/java.lang.reflect=ALL-UNNAMED --add-opens=java.base/java.io=ALL-UNNAMED --add-opens=java.base/java.net=ALL-UNNAMED --add-opens=java.base/java.nio=ALL-UNNAMED --add-opens=java.base/java.util=ALL-UNNAMED --add-opens=java.base/java.util.concurrent=ALL-UNNAMED --add-opens=java.base/java.util.concurrent.atomic=ALL-UNNAMED --add-opens=java.base/sun.nio.ch=ALL-UNNAMED --add-opens=java.base/sun.nio.cs=ALL-UNNAMED --add-opens=java.base/sun.security.action=ALL-UNNAMED --add-opens=java.base/sun.util.calendar=ALL-UNNAMED --add-opens=java.security.jgss/sun.security.krb5=ALL-UNNAMED -Djdk.reflect.useDirectMethodHandle=false\n"
     ]
    }
   ],
   "source": [
    "conf = spark.sparkContext.getConf()\n",
    "for (key, value) in conf.getAll():\n",
    "  print(f\"{key}: {value}\")"
   ]
  },
  {
   "cell_type": "markdown",
   "metadata": {},
   "source": [
    "## Leer fichero"
   ]
  },
  {
   "cell_type": "markdown",
   "metadata": {},
   "source": [
    "El dataset continene exactamente 24 columnas las cuales, el ***, almacena información relevante el trabajo que realizan. En cambio, en este proyecto, se utilizarán las siguientes columnas pues contienen la información más relevante:\n",
    "- **uuid_idt**: contiene un identificador alfanumérico único para cada dirección.\n",
    "- **tvia**: contiene el tipo de vía, es decir, si es una calle, avenida, carretera, etc.\n",
    "- **nvia**: contiene el nombre de la vía.\n",
    "- **numer**: contiene el número de la vía.\n",
    "- **codmun**: está compuesto por un código numérico que identifica a un municipio, es decir, el código postal.\n",
    "- **nommun**: contiene el nombre del municipio.\n",
    "- **direccion**: contiene la dirección completa.\""
   ]
  },
  {
   "cell_type": "code",
   "execution_count": 25,
   "metadata": {},
   "outputs": [
    {
     "name": "stderr",
     "output_type": "stream",
     "text": [
      "                                                                                \r"
     ]
    },
    {
     "name": "stdout",
     "output_type": "stream",
     "text": [
      "+--------------------+------------+--------------------+-----+------+------+--------------------+\n",
      "|            uuid_idt|        tvia|                nvia|numer|codmun|nommun|           direccion|\n",
      "+--------------------+------------+--------------------+-----+------+------+--------------------+\n",
      "|027C0FF8-B17B-11E...|       CALLE|        FUENTE SANTA|    5| 35001|Agaete|CALLE FUENTE SANT...|\n",
      "|028F2302-B17B-11E...|       CALLE|       CRUZ CHIQUITA|    2| 35001|Agaete|CALLE CRUZ CHIQUI...|\n",
      "|02918516-B17B-11E...|URBANIZACION|RESIDENCIAL PALMERAL|    9| 35001|Agaete|URBANIZACION RESI...|\n",
      "|03A306C0-7525-11E...|       CALLE|SEÑORITA MARIA MA...|    2| 35001|Agaete|CALLE SEÑORITA MA...|\n",
      "|03A306C0-7525-11E...|       CALLE|SRTA M MANRIQUE LARA|    2| 35001|Agaete|CALLE SRTA M MANR...|\n",
      "|03A306C0-7525-11E...|       CALLE| MARIA MANRIQUE LARA|    0| 35001|Agaete|CALLE MARIA MANRI...|\n",
      "|03A306C0-7525-11E...|       CALLE| MARIA MANRIQUE LARA|    2| 35001|Agaete|CALLE MARIA MANRI...|\n",
      "|03A306C0-7525-11E...|       CALLE|  ST M MANRIQUE LARA|    2| 35001|Agaete|CALLE ST M MANRIQ...|\n",
      "|03A306C0-7525-11E...|       CALLE|       MANRIQUE LARA|    2| 35001|Agaete|CALLE MANRIQUE LA...|\n",
      "|05C1069E-02BB-443...|       CALLE|        RISCO AGAETE|   19| 35001|Agaete|CALLE RISCO AGAET...|\n",
      "|05C1069E-02BB-443...|       CALLE|               RISCO|   19| 35001|Agaete|CALLE RISCO 19 AG...|\n",
      "|0767670E-D385-4FF...|URBANIZACION|            ELTURMAN|   14| 35001|Agaete|URBANIZACION ELTU...|\n",
      "|0767670E-D385-4FF...|       LUGAR|              TURMAN|   78| 35001|Agaete|LUGAR TURMAN 78 A...|\n",
      "|07D6EE06-78EE-4FC...|URBANIZACION|TURMAN C ALFREDO ...|  212| 35001|Agaete|URBANIZACION TURM...|\n",
      "|07E3A094-4FAF-4E9...|       OTROS|   ESTACION MARITIMA|    0| 35001|Agaete|ESTACION MARITIMA...|\n",
      "|09DB1BCD-BADF-4F6...|     AVENIDA|ALCALDE JOSE ARMA...|    7| 35001|Agaete|AVENIDA ALCALDE J...|\n",
      "|0DD7DD10-3553-411...|       PASEO|PALMERAL PINTOR G...|    6| 35001|Agaete|PASEO PALMERAL PI...|\n",
      "|0DD7DD10-3553-411...|       CALLE|PINTOR GARCIA ALV...|    8| 35001|Agaete|CALLE PINTOR GARC...|\n",
      "|0FBDCFF8-1183-4B0...|URBANIZACION|         CANDELARIAS|   17| 35001|Agaete|URBANIZACION CAND...|\n",
      "|0FBDCFF8-1183-4B0...|URBANIZACION|         CANDELARIAS|   18| 35001|Agaete|URBANIZACION CAND...|\n",
      "+--------------------+------------+--------------------+-----+------+------+--------------------+\n",
      "only showing top 20 rows\n",
      "\n"
     ]
    },
    {
     "name": "stderr",
     "output_type": "stream",
     "text": [
      "                                                                                \r"
     ]
    }
   ],
   "source": [
    "# Leer el archivo CSV y cargarlo en un DataFrame\n",
    "file =  \"../data/raw_data/TFM_Direcciones.tab\"\n",
    "first_df = spark.read.option(\"delimiter\", \"\\t\").option(\"encoding\", \"windows-1252\").csv(file, header=True, inferSchema=True)\n",
    "\n",
    "# Seleccionar solo las columnas deseadas\n",
    "selected_columns = [\n",
    "  \"uuid_idt\",\n",
    "  \"tvia\",\n",
    "  \"nvia\",\n",
    "  \"numer\",\n",
    "  \"codmun\",\n",
    "  \"nommun\",\n",
    "  \"direccion\",\n",
    "]\n",
    "first_df = first_df.select(selected_columns)\n",
    "\n",
    "# Mostrar el DataFrame\n",
    "first_df.show()\n",
    "first_df.schema\n",
    "size_df = first_df.count()"
   ]
  },
  {
   "cell_type": "code",
   "execution_count": 27,
   "metadata": {},
   "outputs": [
    {
     "name": "stdout",
     "output_type": "stream",
     "text": [
      "+--------------------+------+--------------------+--------------------+\n",
      "|            uuid_idt|codmun|              nommun|           direccion|\n",
      "+--------------------+------+--------------------+--------------------+\n",
      "|c0cf3b94-0ad1-11e...| 35016|Las Palmas de Gra...|IGUAZU 42 0 LAS P...|\n",
      "|73b57c1b-3251-11e...| 35016|Las Palmas de Gra...|PARQUE CENTRAL BL...|\n",
      "|c70e3ec6-3eda-11e...| 35016|Las Palmas de Gra...|CONCEJAL GARCIA F...|\n",
      "|687ba81e-3251-11e...| 35006|              Arucas|PEDRO MORALES DEN...|\n",
      "|74921989-3251-11e...| 35019|San Bartolomé de ...|ISLA LOBOS 19 0 S...|\n",
      "|6c0d19ff-3251-11e...| 35016|Las Palmas de Gra...|CALLE LEON Y CAST...|\n",
      "|6360fdcd-3251-11e...| 35016|Las Palmas de Gra...|VIGEN PILAR 45 4 ...|\n",
      "|758b3855-3251-11e...| 35016|Las Palmas de Gra...|CALLE PALMERA CAN...|\n",
      "|5d36841a-7a6b-11e...| 35016|Las Palmas de Gra...|RUPERTO CHAPI 0 L...|\n",
      "|6c00dbf4-3251-11e...| 35021|       Santa Brígida|MANUEL HERNANDEZ ...|\n",
      "|733a49c5-3251-11e...| 35027|               Teror| HERRERIA 36 0 TEROR|\n",
      "|c0a2dcaf-0ad1-11e...| 35021|       Santa Brígida|SUBIDA JOSE MEDER...|\n",
      "|785998d5-3251-11e...| 35016|Las Palmas de Gra...|CARMEN QUINTANA 6...|\n",
      "|6d52f776-3251-11e...| 35016|Las Palmas de Gra...|TOMAS MORALES 100...|\n",
      "|710f6dcb-3251-11e...| 38020|              Güímar|CALLE CHACONA CAL...|\n",
      "|d721c91d-b743-11e...| 38038|Santa Cruz de Ten...|AZAHAR CHORRILLO ...|\n",
      "|6fa00078-3251-11e...| 35016|Las Palmas de Gra...|BANDAMA 76 0 LAS ...|\n",
      "|72ab493c-3251-11e...| 35016|Las Palmas de Gra...|REALIDAD 39 0 LAS...|\n",
      "|6ad2fd7e-3251-11e...| 35004|            Arrecife|AGUSTIN ESPINOSA ...|\n",
      "|65ba189f-3251-11e...| 35031|Valsequillo de Gr...|PILON 3 VALSEQUIL...|\n",
      "+--------------------+------+--------------------+--------------------+\n",
      "only showing top 20 rows\n",
      "\n",
      "+--------------------+------+--------------------+--------------------+\n",
      "|            uuid_idt|codmun|              nommun|           direccion|\n",
      "+--------------------+------+--------------------+--------------------+\n",
      "|C0CF3B94-0AD1-11E...| 35016|LAS PALMAS DE GRA...|IGUAZU 42 0 LAS P...|\n",
      "|73B57C1B-3251-11E...| 35016|LAS PALMAS DE GRA...|PARQUE CENTRAL BL...|\n",
      "|C70E3EC6-3EDA-11E...| 35016|LAS PALMAS DE GRA...|CONCEJAL GARCIA F...|\n",
      "|687BA81E-3251-11E...| 35006|              ARUCAS|PEDRO MORALES DEN...|\n",
      "|74921989-3251-11E...| 35019|SAN BARTOLOMÉ DE ...|ISLA LOBOS 19 0 S...|\n",
      "|6C0D19FF-3251-11E...| 35016|LAS PALMAS DE GRA...|CALLE LEON Y CAST...|\n",
      "|6360FDCD-3251-11E...| 35016|LAS PALMAS DE GRA...|VIGEN PILAR 45 4 ...|\n",
      "|758B3855-3251-11E...| 35016|LAS PALMAS DE GRA...|CALLE PALMERA CAN...|\n",
      "|5D36841A-7A6B-11E...| 35016|LAS PALMAS DE GRA...|RUPERTO CHAPI 0 L...|\n",
      "|6C00DBF4-3251-11E...| 35021|       SANTA BRÍGIDA|MANUEL HERNANDEZ ...|\n",
      "|733A49C5-3251-11E...| 35027|               TEROR| HERRERIA 36 0 TEROR|\n",
      "|C0A2DCAF-0AD1-11E...| 35021|       SANTA BRÍGIDA|SUBIDA JOSE MEDER...|\n",
      "|785998D5-3251-11E...| 35016|LAS PALMAS DE GRA...|CARMEN QUINTANA 6...|\n",
      "|6D52F776-3251-11E...| 35016|LAS PALMAS DE GRA...|TOMAS MORALES 100...|\n",
      "|710F6DCB-3251-11E...| 38020|              GÜÍMAR|CALLE CHACONA CAL...|\n",
      "|D721C91D-B743-11E...| 38038|SANTA CRUZ DE TEN...|AZAHAR CHORRILLO ...|\n",
      "|6FA00078-3251-11E...| 35016|LAS PALMAS DE GRA...|BANDAMA 76 0 LAS ...|\n",
      "|72AB493C-3251-11E...| 35016|LAS PALMAS DE GRA...|REALIDAD 39 0 LAS...|\n",
      "|6AD2FD7E-3251-11E...| 35004|            ARRECIFE|AGUSTIN ESPINOSA ...|\n",
      "|65BA189F-3251-11E...| 35031|VALSEQUILLO DE GR...|PILON 3 VALSEQUIL...|\n",
      "+--------------------+------+--------------------+--------------------+\n",
      "only showing top 20 rows\n",
      "\n"
     ]
    }
   ],
   "source": [
    "from pyspark.sql.functions import upper\n",
    "\n",
    "file =  \"../data/raw_data/data-09022024.csv\"\n",
    "second_df = spark.read.option('header', True).csv(file)\n",
    "\n",
    "selected_columns = [\n",
    "  \"uuid_idt\",\n",
    "  \"codmun\",\n",
    "  \"nommun\",\n",
    "  \"direccion\"\n",
    "]\n",
    "\n",
    "second_df = second_df.select(selected_columns)\n",
    "second_df = second_df.select(upper('uuid_idt').alias('uuid_idt'), 'codmun', upper('nommun').alias('nommun'), 'direccion')\n",
    "second_df.show()\n",
    "first_df.schema\n",
    "size_df += second_df.count()"
   ]
  },
  {
   "cell_type": "code",
   "execution_count": 28,
   "metadata": {},
   "outputs": [
    {
     "name": "stdout",
     "output_type": "stream",
     "text": [
      "2414514\n"
     ]
    }
   ],
   "source": [
    "print(size_df)"
   ]
  }
 ],
 "metadata": {
  "kernelspec": {
   "display_name": "adress_matching_spark",
   "language": "python",
   "name": "python3"
  },
  "language_info": {
   "codemirror_mode": {
    "name": "ipython",
    "version": 3
   },
   "file_extension": ".py",
   "mimetype": "text/x-python",
   "name": "python",
   "nbconvert_exporter": "python",
   "pygments_lexer": "ipython3",
   "version": "3.10.12"
  }
 },
 "nbformat": 4,
 "nbformat_minor": 2
}
